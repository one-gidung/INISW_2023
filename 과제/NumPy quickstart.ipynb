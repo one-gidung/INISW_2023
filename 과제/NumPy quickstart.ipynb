{
 "cells": [
  {
   "cell_type": "markdown",
   "id": "8184d827",
   "metadata": {},
   "source": [
    "# Basic\n",
    "\n",
    "- ndarray.ndim\\\n",
    ": 배열의 축(차원) 수\n",
    "- ndarray.shape\\\n",
    ": 배열의 차원. n행 m열 = (n, m)\n",
    "- ndarray.size\n",
    "- ndarray.dtype\n",
    "- ndarray.itemsize\n",
    "- ndarray.data"
   ]
  },
  {
   "cell_type": "code",
   "execution_count": null,
   "id": "d91f6373",
   "metadata": {},
   "outputs": [],
   "source": []
  }
 ],
 "metadata": {
  "kernelspec": {
   "display_name": "Python 3 (ipykernel)",
   "language": "python",
   "name": "python3"
  },
  "language_info": {
   "codemirror_mode": {
    "name": "ipython",
    "version": 3
   },
   "file_extension": ".py",
   "mimetype": "text/x-python",
   "name": "python",
   "nbconvert_exporter": "python",
   "pygments_lexer": "ipython3",
   "version": "3.9.7"
  }
 },
 "nbformat": 4,
 "nbformat_minor": 5
}
