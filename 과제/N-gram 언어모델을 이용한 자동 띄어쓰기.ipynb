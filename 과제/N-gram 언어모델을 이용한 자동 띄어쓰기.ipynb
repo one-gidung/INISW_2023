{
 "cells": [
  {
   "cell_type": "code",
   "execution_count": 7,
   "id": "461c6a6c",
   "metadata": {},
   "outputs": [],
   "source": [
    "from os import listdir\n",
    "\n",
    "def fileids(path):\n",
    "    fileList = list()\n",
    "    \n",
    "    path = path + ('' if path[-1] == '/' else '/')\n",
    "    \n",
    "    for f in listdir(path):\n",
    "        if f.endswith('.txt'):\n",
    "            fileList.append(path+f)\n",
    "            \n",
    "    return fileList"
   ]
  },
  {
   "cell_type": "code",
   "execution_count": 8,
   "id": "ab33a63d",
   "metadata": {},
   "outputs": [],
   "source": [
    "import re\n",
    "\n",
    "p1 = re.compile('[a-zA-Z0-9_-]+@(?:[.]?[a-zA-Z0-9_-]+)+')\n",
    "p2 = re.compile('[{}]'.format(re.escape('''\"'=ㆍⓒ'\"''')))\n",
    "p3 = re.compile('[\\(\\[].+?[\\)\\]]')\n",
    "p4 = re.compile('[a-zA-Z]+')\n",
    "p5 = re.compile('\\s+')\n",
    "# p5.sub(' ', p4.sub(' ', p3.sub(' ', p2.sub(' ', p1.sub(' ', d))))).strip()"
   ]
  },
  {
   "cell_type": "code",
   "execution_count": 11,
   "id": "a6076795",
   "metadata": {},
   "outputs": [],
   "source": [
    "corpus = list()\n",
    "\n",
    "for f in fileids(r\"C:\\Users\\dlel2\\Documents\\GitHub\\INISW_2023\\텍스트데이터처리\\news\"):\n",
    "    with open(f, 'r', encoding='utf8') as fp:\n",
    "        corpus.append(p5.sub(' ', \n",
    "            p4.sub(' ', \n",
    "            p3.sub(' ', \n",
    "            p2.sub(' ', \n",
    "            p1.sub(' ', fp.read()))))).strip())"
   ]
  },
  {
   "cell_type": "code",
   "execution_count": 12,
   "id": "53633879",
   "metadata": {},
   "outputs": [],
   "source": [
    "def ngram2(t, n=2):\n",
    "    tokens = list(t)\n",
    "    gram = list()\n",
    " \n",
    "    if len(tokens) < n:\n",
    "        return tokens\n",
    "    for i in range(len(tokens)-(n-1)):\n",
    "        gram.append(''.join(tokens[i:i+n]))\n",
    "    return gram"
   ]
  },
  {
   "cell_type": "code",
   "execution_count": 13,
   "id": "0c1e1f4e",
   "metadata": {},
   "outputs": [
    {
     "data": {
      "text/plain": [
       "'가족관계등록 법은 가정폭력 피해 자가가해자로지정한 배우자 직계혈족이피해자본인의 가족 관계증명서등을받아갈수없도록 못박았다.'"
      ]
     },
     "execution_count": 13,
     "metadata": {},
     "output_type": "execute_result"
    }
   ],
   "source": [
    "from collections import Counter\n",
    "\n",
    "gram1 = Counter(ngram2('\\n'.join(corpus),1))\n",
    "gram2 = Counter(ngram2('\\n'.join(corpus),2))\n",
    "gram3 = Counter(ngram2('\\n'.join(corpus),3))\n",
    "gram4 = Counter(ngram2('\\n'.join(corpus),4))\n",
    "\n",
    "gram_finder = {1:gram1, 2:gram2, 3:gram3, 4:gram4}\n",
    "\n",
    "def auto_space(s, base=2, verbose=True):\n",
    "    result = ''\n",
    "    \n",
    "    if base not in [2,3,4]:\n",
    "        return s\n",
    "    \n",
    "    if len(s) < base:\n",
    "        return s\n",
    "    \n",
    "    freq1 = gram_finder[base-1]\n",
    "    freq2 = gram_finder[base]\n",
    "    \n",
    "    i = base-1\n",
    "    k = s[:i]\n",
    "    while i < len(s):\n",
    "        c = dict(filter(lambda r:re.match(k, r[0]), freq2.items()))\n",
    "        \n",
    "        result += k[0]\n",
    "\n",
    "        if k not in freq1:\n",
    "            if verbose:\n",
    "                print('Not found:', k, 'in Freq1')\n",
    "            i += 1\n",
    "            k = k[1:] + s[i-1]\n",
    "            continue\n",
    "            \n",
    "        if len(c) == 0:\n",
    "            if verbose:\n",
    "                print('Not found:', k, 'in Freq2')\n",
    "            i += 1\n",
    "            k = k[1:] + s[i-1]\n",
    "            continue\n",
    "        \n",
    "        t = max(c, key=c.get)\n",
    "        f = c[t]\n",
    "        \n",
    "        if verbose:\n",
    "            print('i:{} | K:{} | P:{:.2f} - [{}]'.format(i, k, f/freq1[k], t))\n",
    "        \n",
    "        if t[-1] == ' ':\n",
    "            k = t[1:]\n",
    "        else:\n",
    "            i += 1\n",
    "            k = k[1:] + s[i-1]\n",
    "            \n",
    "    result += s[i-base+1:]\n",
    "    \n",
    "    return result\n",
    "\n",
    "s = '가족관계등록법은 가정폭력 피해자가 가해자로 지정한 배우자 직계혈족이 피해자 본인의 가족관계증명서 등을 받아 갈 수 없도록 못 박았다.'\n",
    "s = re.sub(' ', '', s)\n",
    "auto_space(s, 4, False)"
   ]
  },
  {
   "cell_type": "code",
   "execution_count": null,
   "id": "f7b47e17",
   "metadata": {},
   "outputs": [],
   "source": []
  }
 ],
 "metadata": {
  "kernelspec": {
   "display_name": "Python 3 (ipykernel)",
   "language": "python",
   "name": "python3"
  },
  "language_info": {
   "codemirror_mode": {
    "name": "ipython",
    "version": 3
   },
   "file_extension": ".py",
   "mimetype": "text/x-python",
   "name": "python",
   "nbconvert_exporter": "python",
   "pygments_lexer": "ipython3",
   "version": "3.9.7"
  }
 },
 "nbformat": 4,
 "nbformat_minor": 5
}
