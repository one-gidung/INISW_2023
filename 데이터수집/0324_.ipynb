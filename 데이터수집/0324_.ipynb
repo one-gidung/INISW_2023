{
 "cells": [
  {
   "cell_type": "code",
   "execution_count": 4,
   "id": "c777f755",
   "metadata": {},
   "outputs": [],
   "source": [
    "from requests import get, post, Session\n",
    "from datetime import datetime\n",
    "import re\n",
    "from selenium import webdriver\n",
    "from selenium.webdriver.common.by import By\n",
    "from selenium.webdriver.common.keys import Keys\n",
    "from bs4 import BeautifulSoup\n",
    "from selenium.webdriver.support.wait import WebDriverWait\n",
    "from selenium.webdriver.support import expected_conditions"
   ]
  },
  {
   "cell_type": "code",
   "execution_count": null,
   "id": "bbb55e47",
   "metadata": {},
   "outputs": [],
   "source": [
    "for el in driver.find_elements(By.CSS_SELECTOR)"
   ]
  },
  {
   "cell_type": "code",
   "execution_count": 5,
   "id": "6154aaf8",
   "metadata": {},
   "outputs": [],
   "source": [
    "driver = webdriver.Chrome()"
   ]
  },
  {
   "cell_type": "code",
   "execution_count": null,
   "id": "a6b475b7",
   "metadata": {},
   "outputs": [],
   "source": [
    "driver.window_handles"
   ]
  },
  {
   "cell_type": "code",
   "execution_count": null,
   "id": "cfd635af",
   "metadata": {},
   "outputs": [],
   "source": [
    "driver.current_window_handle"
   ]
  },
  {
   "cell_type": "code",
   "execution_count": null,
   "id": "86380066",
   "metadata": {},
   "outputs": [],
   "source": [
    "driver.switch_to.window(driver.window_handles[-1])"
   ]
  },
  {
   "cell_type": "code",
   "execution_count": null,
   "id": "845bc220",
   "metadata": {},
   "outputs": [],
   "source": [
    "iframe = driver.find_element(By.CSS_SELECTOR, '#mainFrame')"
   ]
  },
  {
   "cell_type": "code",
   "execution_count": null,
   "id": "cb6d2a8f",
   "metadata": {},
   "outputs": [],
   "source": [
    "driver.current_url"
   ]
  },
  {
   "cell_type": "code",
   "execution_count": null,
   "id": "4d2bcbb8",
   "metadata": {},
   "outputs": [],
   "source": [
    "driver.switch_to.frame(iframe)"
   ]
  },
  {
   "cell_type": "code",
   "execution_count": null,
   "id": "c9a6ecfd",
   "metadata": {},
   "outputs": [],
   "source": [
    "driver.current_url"
   ]
  },
  {
   "cell_type": "code",
   "execution_count": null,
   "id": "8194f5a3",
   "metadata": {},
   "outputs": [],
   "source": [
    "driver.switch_to.default_content()"
   ]
  },
  {
   "cell_type": "markdown",
   "id": "d8bf51da",
   "metadata": {},
   "source": []
  },
  {
   "cell_type": "code",
   "execution_count": 6,
   "id": "90bd2d1d",
   "metadata": {},
   "outputs": [],
   "source": [
    "dom1_body = driver.find_element(By.CSS_SELECTOR, 'body')"
   ]
  },
  {
   "cell_type": "code",
   "execution_count": 7,
   "id": "258d1bd7",
   "metadata": {
    "collapsed": true
   },
   "outputs": [
    {
     "ename": "NameError",
     "evalue": "name 'iframe' is not defined",
     "output_type": "error",
     "traceback": [
      "\u001b[1;31m---------------------------------------------------------------------------\u001b[0m",
      "\u001b[1;31mNameError\u001b[0m                                 Traceback (most recent call last)",
      "\u001b[1;32m~\\AppData\\Local\\Temp/ipykernel_13716/2873171570.py\u001b[0m in \u001b[0;36m<module>\u001b[1;34m\u001b[0m\n\u001b[1;32m----> 1\u001b[1;33m \u001b[0mdriver\u001b[0m\u001b[1;33m.\u001b[0m\u001b[0mswitch_to\u001b[0m\u001b[1;33m.\u001b[0m\u001b[0mframe\u001b[0m\u001b[1;33m(\u001b[0m\u001b[0miframe\u001b[0m\u001b[1;33m)\u001b[0m\u001b[1;33m\u001b[0m\u001b[1;33m\u001b[0m\u001b[0m\n\u001b[0m",
      "\u001b[1;31mNameError\u001b[0m: name 'iframe' is not defined"
     ]
    }
   ],
   "source": [
    "driver.switch_to.frame(iframe)"
   ]
  },
  {
   "cell_type": "code",
   "execution_count": 8,
   "id": "bc10f44f",
   "metadata": {},
   "outputs": [],
   "source": [
    "dom2_body = driver.find_element(By.CSS_SELECTOR, 'body')"
   ]
  },
  {
   "cell_type": "code",
   "execution_count": null,
   "id": "3654d42a",
   "metadata": {},
   "outputs": [],
   "source": [
    "dom1_body, dom2_body"
   ]
  },
  {
   "cell_type": "code",
   "execution_count": null,
   "id": "2714faeb",
   "metadata": {},
   "outputs": [],
   "source": [
    "dom1_body.tag_name"
   ]
  },
  {
   "cell_type": "code",
   "execution_count": null,
   "id": "050b9bbf",
   "metadata": {},
   "outputs": [],
   "source": [
    "driver.switch_to.default_content()"
   ]
  },
  {
   "cell_type": "code",
   "execution_count": null,
   "id": "f575dd59",
   "metadata": {},
   "outputs": [],
   "source": [
    "dom2_body.tag_name"
   ]
  },
  {
   "cell_type": "code",
   "execution_count": null,
   "id": "509ff185",
   "metadata": {},
   "outputs": [],
   "source": []
  },
  {
   "cell_type": "code",
   "execution_count": null,
   "id": "464ba55d",
   "metadata": {},
   "outputs": [],
   "source": []
  },
  {
   "cell_type": "code",
   "execution_count": null,
   "id": "6e7c44f3",
   "metadata": {},
   "outputs": [],
   "source": []
  },
  {
   "cell_type": "code",
   "execution_count": null,
   "id": "5b9baf86",
   "metadata": {},
   "outputs": [],
   "source": []
  },
  {
   "cell_type": "code",
   "execution_count": null,
   "id": "81d11897",
   "metadata": {},
   "outputs": [],
   "source": []
  },
  {
   "cell_type": "code",
   "execution_count": null,
   "id": "f6166ea8",
   "metadata": {},
   "outputs": [],
   "source": []
  },
  {
   "cell_type": "code",
   "execution_count": null,
   "id": "51af5b0f",
   "metadata": {},
   "outputs": [],
   "source": []
  },
  {
   "cell_type": "code",
   "execution_count": null,
   "id": "0bb5f43d",
   "metadata": {},
   "outputs": [],
   "source": []
  }
 ],
 "metadata": {
  "kernelspec": {
   "display_name": "Python 3 (ipykernel)",
   "language": "python",
   "name": "python3"
  },
  "language_info": {
   "codemirror_mode": {
    "name": "ipython",
    "version": 3
   },
   "file_extension": ".py",
   "mimetype": "text/x-python",
   "name": "python",
   "nbconvert_exporter": "python",
   "pygments_lexer": "ipython3",
   "version": "3.9.7"
  }
 },
 "nbformat": 4,
 "nbformat_minor": 5
}
