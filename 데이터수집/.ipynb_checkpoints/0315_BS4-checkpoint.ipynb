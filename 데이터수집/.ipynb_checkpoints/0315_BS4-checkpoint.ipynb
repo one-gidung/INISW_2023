{
 "cells": [
  {
   "cell_type": "markdown",
   "id": "bec3fa85",
   "metadata": {},
   "source": [
    "- Request - request(GET, POST) / response\n",
    "\n",
    "- Header - User-agent(구글검색결과 - HTML, DOM(x), DOM(o))\n",
    "- Request - Header / Body(FormData), URL()\n",
    "- Response - Header / Body(HTML) -> content:Bytes -> text(encoding):String()"
   ]
  },
  {
   "cell_type": "code",
   "execution_count": 1,
   "id": "b305b79b",
   "metadata": {},
   "outputs": [],
   "source": [
    "from requests import request\n",
    "\n",
    "headers = {\n",
    "    'user-agent':'user-agent: Mozilla/5.0 (Windows NT 10.0; Win64; x64) AppleWebKit/537.36 (KHTML, like Gecko) Chrome/110.0.0.0 Safari/537.36'\n",
    "}"
   ]
  },
  {
   "cell_type": "code",
   "execution_count": 2,
   "id": "c52ae64c",
   "metadata": {},
   "outputs": [],
   "source": [
    "url = 'https://www.google.com/search'\n",
    "params = {'q':'한소희'}\n",
    "\n",
    "resp = request('GET', url, params=params, headers= headers)"
   ]
  },
  {
   "cell_type": "code",
   "execution_count": 3,
   "id": "fd3c806c",
   "metadata": {},
   "outputs": [
    {
     "data": {
      "text/plain": [
       "['한소희 - 나무위키',\n",
       " '한소희 (@xeesoxee) • Instagram photos and videos',\n",
       " '한소희 - 위키백과, 우리 모두의 백과사전',\n",
       " '한소희, 만취해 大자로 뻗은 모습 \\'셀프 폭로\\'…\"다시는 안 ...',\n",
       " '술 먹고 大자로 뻗은 한소희…\"다시는 술을 먹지 않겠습니다\"',\n",
       " \"한소희, 20대 여배우 중 독보적 '고혹美' - 매일경제\",\n",
       " '한소희라는 무한 영역 - 우먼센스',\n",
       " \"'9작품 0실패' 한소희, 예쁜 게 전부가 아닌 배우 - 조선일보\"]"
      ]
     },
     "execution_count": 3,
     "metadata": {},
     "output_type": "execute_result"
    }
   ],
   "source": [
    "import re\n",
    "from html import unescape\n",
    "#data = '<h3 '<h3 class=\"LC20lb MBeuO DKV0Md\">한소희 - 나무위키</h3>'class=\"LC20lb MBeuO DKV0Md\">한소희 - 나무위키</h3>'\n",
    "re.findall('<h3 class=\"LC20lb MBeuO DKV0Md\">(.+?)</h3>', unescape(resp.text))"
   ]
  },
  {
   "cell_type": "code",
   "execution_count": 4,
   "id": "5067fbbe",
   "metadata": {},
   "outputs": [],
   "source": [
    "#네이버 \n",
    "url = 'https://search.naver.com/search.naver'\n",
    "params = {\n",
    "    'where':'nextsearch',\n",
    "    'query':'한소희'\n",
    "}\n",
    "\n",
    "resp = request('GET', url, params=params, headers = headers)"
   ]
  },
  {
   "cell_type": "code",
   "execution_count": 5,
   "id": "08cc2c33",
   "metadata": {
    "collapsed": true
   },
   "outputs": [
    {
     "ename": "SyntaxError",
     "evalue": "invalid syntax (Temp/ipykernel_37432/3184694018.py, line 1)",
     "output_type": "error",
     "traceback": [
      "\u001b[1;36m  File \u001b[1;32m\"C:\\Users\\dlel2\\AppData\\Local\\Temp/ipykernel_37432/3184694018.py\"\u001b[1;36m, line \u001b[1;32m1\u001b[0m\n\u001b[1;33m    <a href=\"http://www.inews24.com/view/1574533\" class=\"dsc_thumb \" target=\"_blank\" onclick=\"return goOtherCR(this, 'a=nws_all*j.img&amp;r=1&amp;i=880000D6_000000000000000000733689&amp;g=031.0000733689&amp;u='+urlencode(this.href));\"><img src=\"https://search.pstatic.net/common/?src=https%3A%2F%2Fimgnews.pstatic.net%2Fimage%2Forigin%2F031%2F2023%2F03%2F13%2F733689.jpg&amp;type=ff264_180&amp;expire=2&amp;refresh=true\" width=\"132\" height=\"90\" alt=\"&quot;낮은 자세로 새롭게&quot;\" class=\"thumb api_get\" onerror=\"this.parentNode.style.display='none';\"></a>\u001b[0m\n\u001b[1;37m    ^\u001b[0m\n\u001b[1;31mSyntaxError\u001b[0m\u001b[1;31m:\u001b[0m invalid syntax\n"
     ]
    }
   ],
   "source": [
    "<a href=\"http://www.inews24.com/view/1574533\" class=\"dsc_thumb \" target=\"_blank\" onclick=\"return goOtherCR(this, 'a=nws_all*j.img&amp;r=1&amp;i=880000D6_000000000000000000733689&amp;g=031.0000733689&amp;u='+urlencode(this.href));\"><img src=\"https://search.pstatic.net/common/?src=https%3A%2F%2Fimgnews.pstatic.net%2Fimage%2Forigin%2F031%2F2023%2F03%2F13%2F733689.jpg&amp;type=ff264_180&amp;expire=2&amp;refresh=true\" width=\"132\" height=\"90\" alt=\"&quot;낮은 자세로 새롭게&quot;\" class=\"thumb api_get\" onerror=\"this.parentNode.style.display='none';\"></a>"
   ]
  },
  {
   "cell_type": "code",
   "execution_count": 6,
   "id": "aac07480",
   "metadata": {},
   "outputs": [
    {
     "data": {
      "text/plain": [
       "['\"낮은 자세로 새롭게\" 정치인 닮아가는 소주',\n",
       " \"롯데칠성음료, '처음처럼' 새 얼굴로 배우 '<mark>한소희</mark>' 발탁\",\n",
       " '처음처럼 새 얼굴로 배우 <mark>한소희</mark> 발탁',\n",
       " \"'처음처럼' 모델, 제니→<mark>한소희</mark> 교체\"]"
      ]
     },
     "execution_count": 6,
     "metadata": {},
     "output_type": "execute_result"
    }
   ],
   "source": [
    "#뉴스 결과 확인하기 \n",
    "#'<a href=\"http://www.inews24.com/view/1574533\" class=\"dsc_thumb \" target=\"_blank\" onclick=\"return goOtherCR(this, 'a=nws_all*j.img&amp;r=1&amp;i=880000D6_000000000000000000733689&amp;g=031.0000733689&amp;u='+urlencode(this.href));\"><img src=\"https://search.pstatic.net/common/?src=https%3A%2F%2Fimgnews.pstatic.net%2Fimage%2Forigin%2F031%2F2023%2F03%2F13%2F733689.jpg&amp;type=ff264_180&amp;expire=2&amp;refresh=true\" width=\"132\" height=\"90\" alt=\"&quot;낮은 자세로 새롭게&quot;\" class=\"thumb api_get\" onerror=\"this.parentNode.style.display='none';\"></a>'\n",
    "re.findall('<a href=\".+?\" class=\"news_tit\" [^>]+?>(.+?)</a>', unescape(resp.text))"
   ]
  },
  {
   "cell_type": "code",
   "execution_count": null,
   "id": "50981ba6",
   "metadata": {},
   "outputs": [],
   "source": []
  }
 ],
 "metadata": {
  "kernelspec": {
   "display_name": "Python 3 (ipykernel)",
   "language": "python",
   "name": "python3"
  },
  "language_info": {
   "codemirror_mode": {
    "name": "ipython",
    "version": 3
   },
   "file_extension": ".py",
   "mimetype": "text/x-python",
   "name": "python",
   "nbconvert_exporter": "python",
   "pygments_lexer": "ipython3",
   "version": "3.9.7"
  }
 },
 "nbformat": 4,
 "nbformat_minor": 5
}
