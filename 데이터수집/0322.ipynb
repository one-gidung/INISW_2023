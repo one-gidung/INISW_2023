{
 "cells": [
  {
   "cell_type": "code",
   "execution_count": 6,
   "id": "ffbea6a9",
   "metadata": {},
   "outputs": [],
   "source": [
    "# Not wellformed - 뽐뿌\n",
    "from requests import get, Session\n",
    "from bs4 import BeautifulSoup\n",
    "\n",
    "resp = get('https://www.ppomppu.co.kr/zboard/view.php?id=freeboard&page=1&divpage=1540&no=8264037')\n",
    "dom1 = BeautifulSoup(resp.text, 'html.parser')\n",
    "dom2 = BeautifulSoup(resp.text, 'html')\n",
    "dom3 = BeautifulSoup(resp.text, 'html5lib')"
   ]
  },
  {
   "cell_type": "code",
   "execution_count": 7,
   "id": "da16443a",
   "metadata": {},
   "outputs": [
    {
     "data": {
      "text/plain": [
       "[]"
      ]
     },
     "execution_count": 7,
     "metadata": {},
     "output_type": "execute_result"
    }
   ],
   "source": [
    "dom1.select('.board-contents') # html.parser (결과 없음)"
   ]
  },
  {
   "cell_type": "code",
   "execution_count": 8,
   "id": "2b7ceef5",
   "metadata": {
    "collapsed": true
   },
   "outputs": [
    {
     "data": {
      "text/plain": [
       "[<td align=\"left\" class=\"board-contents\" valign=\"top\">\n",
       " <a class=\"scrap_bx_href\" href=\"https://s.ppomppu.co.kr?idno=freeboard_8264037&amp;target=aHR0cHM6Ly9uLm5ld3MubmF2ZXIuY29tL21uZXdzL2FydGljbGUvMDE0LzAwMDQ5ODQ4NzE/c2lkPTEwMg==&amp;encode=on\" target=\"_blank\">\n",
       " <div class=\"scrap_bx\">\n",
       " <span class=\"scrap_img\" style=\"background-image: url(https://imgnews.pstatic.net/image/014/2023/03/22/0004984871_001_20230322054101687.jpg?type=w800);\"></span>\n",
       " <ul>\n",
       " <li>\n",
       " <strong>아내 지인한테 호감 느껴...17차례 찾아가 스토킹 한 40대男</strong>\n",
       " </li>\n",
       " <li>\n",
       " <small>아내의 지인에게 호감을 느낀 40대 남성이 지인 집에 17차례 찾아가는 등 스토킹 혐의로 유죄를 선고받았다. 21일 인천지법 형사7단독 문종철 판사는 스토킹 범죄의 처벌 등에 관한 법률 위반과 주거침입 혐의로 기소된</small>\n",
       " </li>\n",
       " </ul>\n",
       " </div>\n",
       " </a><a href=\"https://s.ppomppu.co.kr?idno=freeboard_8264037&amp;target=aHR0cHM6Ly9uLm5ld3MubmF2ZXIuY29tL21uZXdzL2FydGljbGUvMDE0LzAwMDQ5ODQ4NzE/c2lkPTEwMg==&amp;encode=on\" target=\"_blank\">https://n.news.naver.com/mnews/article/014/0004984871?sid=102</a>\n",
       " <p> </p>\n",
       " <p>이거 완전 美친놈이네요 ,,, 스토킹 한 것도 문제지만 </p>\n",
       " <p>아내 옆에 바로있는데,,, 바로 옆에서 저러는건 무슨 용기일까요.. 어휴</p><!--\"&lt;--></td>]"
      ]
     },
     "execution_count": 8,
     "metadata": {},
     "output_type": "execute_result"
    }
   ],
   "source": [
    "dom2.select('.board-contents') # lxml (버전에 따라 다름)"
   ]
  },
  {
   "cell_type": "code",
   "execution_count": 9,
   "id": "0e8eb47d",
   "metadata": {
    "collapsed": true
   },
   "outputs": [
    {
     "data": {
      "text/plain": [
       "[<td align=\"left\" class=\"board-contents\" valign=\"top\">\n",
       " <a class=\"scrap_bx_href\" href=\"https://s.ppomppu.co.kr?idno=freeboard_8264037&amp;target=aHR0cHM6Ly9uLm5ld3MubmF2ZXIuY29tL21uZXdzL2FydGljbGUvMDE0LzAwMDQ5ODQ4NzE/c2lkPTEwMg==&amp;encode=on\" target=\"_blank\">\n",
       "    <div class=\"scrap_bx\">\n",
       "       <span class=\"scrap_img\" style=\"background-image: url(https://imgnews.pstatic.net/image/014/2023/03/22/0004984871_001_20230322054101687.jpg?type=w800);\"></span>\n",
       "       <ul>\n",
       "          <li>\n",
       "             <strong>아내 지인한테 호감 느껴...17차례 찾아가 스토킹 한 40대男</strong>\n",
       "          </li>\n",
       "          <li>\n",
       "             <small>아내의 지인에게 호감을 느낀 40대 남성이 지인 집에 17차례 찾아가는 등 스토킹 혐의로 유죄를 선고받았다. 21일 인천지법 형사7단독 문종철 판사는 스토킹 범죄의 처벌 등에 관한 법률 위반과 주거침입 혐의로 기소된</small>\n",
       "          </li>\n",
       "       </ul>\n",
       "    </div>\n",
       "    </a><a href=\"https://s.ppomppu.co.kr?idno=freeboard_8264037&amp;target=aHR0cHM6Ly9uLm5ld3MubmF2ZXIuY29tL21uZXdzL2FydGljbGUvMDE0LzAwMDQ5ODQ4NzE/c2lkPTEwMg==&amp;encode=on\" target=\"_blank\">https://n.news.naver.com/mnews/article/014/0004984871?sid=102</a>\n",
       " <p> </p>\n",
       " <p>이거 완전 美친놈이네요 ,,, 스토킹 한 것도 문제지만 </p>\n",
       " <p>아내 옆에 바로있는데,,, 바로 옆에서 저러는건 무슨 용기일까요.. 어휴</p><!--\"&lt;--></td>]"
      ]
     },
     "execution_count": 9,
     "metadata": {},
     "output_type": "execute_result"
    }
   ],
   "source": [
    "dom3.select('.board-contents') # html5lib (브라우저랑 동일한 결과)"
   ]
  },
  {
   "cell_type": "code",
   "execution_count": 10,
   "id": "3303fa44",
   "metadata": {},
   "outputs": [
    {
     "data": {
      "text/plain": [
       "1"
      ]
     },
     "execution_count": 10,
     "metadata": {},
     "output_type": "execute_result"
    }
   ],
   "source": [
    "len(dom1.select('.pic_bg table table td:first-child'))"
   ]
  },
  {
   "cell_type": "code",
   "execution_count": 11,
   "id": "86f5c2cc",
   "metadata": {},
   "outputs": [
    {
     "data": {
      "text/plain": [
       "[<td align=\"left\" class=\"han\" valign=\"top\">\n",
       " <a class=\"scrap_bx_href\" href=\"https://s.ppomppu.co.kr?idno=freeboard_8264037&amp;target=aHR0cHM6Ly9uLm5ld3MubmF2ZXIuY29tL21uZXdzL2FydGljbGUvMDE0LzAwMDQ5ODQ4NzE/c2lkPTEwMg==&amp;encode=on\" target=\"_blank\">\n",
       " <div class=\"scrap_bx\">\n",
       " <span class=\"scrap_img\" style=\"background-image: url(https://imgnews.pstatic.net/image/014/2023/03/22/0004984871_001_20230322054101687.jpg?type=w800);\"></span>\n",
       " <ul>\n",
       " <li>\n",
       " <strong>아내 지인한테 호감 느껴...17차례 찾아가 스토킹 한 40대男</strong>\n",
       " </li>\n",
       " <li>\n",
       " <small>아내의 지인에게 호감을 느낀 40대 남성이 지인 집에 17차례 찾아가는 등 스토킹 혐의로 유죄를 선고받았다. 21일 인천지법 형사7단독 문종철 판사는 스토킹 범죄의 처벌 등에 관한 법률 위반과 주거침입 혐의로 기소된</small>\n",
       " </li>\n",
       " </ul>\n",
       " </div>\n",
       " </a><a href=\"https://s.ppomppu.co.kr?idno=freeboard_8264037&amp;target=aHR0cHM6Ly9uLm5ld3MubmF2ZXIuY29tL21uZXdzL2FydGljbGUvMDE0LzAwMDQ5ODQ4NzE/c2lkPTEwMg==&amp;encode=on\" target=\"_blank\">https://n.news.naver.com/mnews/article/014/0004984871?sid=102</a>\n",
       " <p> </p>\n",
       " <p>이거 완전 美친놈이네요 ,,, 스토킹 한 것도 문제지만 </p>\n",
       " <p>아내 옆에 바로있는데,,, 바로 옆에서 저러는건 무슨 용기일까요.. 어휴</p><!--\"&lt;--></td>]"
      ]
     },
     "execution_count": 11,
     "metadata": {},
     "output_type": "execute_result"
    }
   ],
   "source": [
    "dom1.select('td.han:has(> a.scrap_bx_href)')"
   ]
  },
  {
   "cell_type": "code",
   "execution_count": 17,
   "id": "d0006f15",
   "metadata": {},
   "outputs": [
    {
     "data": {
      "text/plain": [
       "'\\n<h2>Welcome to the Website!</h2>\\nWhoops! You logged in wrong. Try again with any username, and the password \"password\"<br><a href=\"login.html\">Log in here</a>'"
      ]
     },
     "execution_count": 17,
     "metadata": {},
     "output_type": "execute_result"
    }
   ],
   "source": [
    "cookie = {'loggedin':'1', 'username':'test'}\n",
    "get('https://pythonscraping.com/pages/cookies/welcome.php').text"
   ]
  },
  {
   "cell_type": "code",
   "execution_count": 18,
   "id": "1c6185c1",
   "metadata": {},
   "outputs": [
    {
     "data": {
      "text/plain": [
       "'\\n<h2>Welcome to the Website!</h2>\\nYou have logged in successfully! <br><a href=\"profile.php\">Check out your profile!</a>'"
      ]
     },
     "execution_count": 18,
     "metadata": {},
     "output_type": "execute_result"
    }
   ],
   "source": [
    "get('https://pythonscraping.com/pages/cookies/welcome.php',\n",
    "   cookies=cookie).text\n",
    "# Client             Server\n",
    "# :cookie\n",
    "#     -------------> Req\n",
    "#                    Cookie in client -> 확인\n",
    "#     <------------- Resp"
   ]
  },
  {
   "cell_type": "code",
   "execution_count": 19,
   "id": "d48a81d4",
   "metadata": {},
   "outputs": [
    {
     "data": {
      "text/plain": [
       "'You\\'re not logged into the site!<br>Visit <a href=\"login.html\">the login page</a> to log in'"
      ]
     },
     "execution_count": 19,
     "metadata": {},
     "output_type": "execute_result"
    }
   ],
   "source": [
    "get('https://pythonscraping.com/pages/cookies/profile.php').text"
   ]
  },
  {
   "cell_type": "code",
   "execution_count": 20,
   "id": "63b15076",
   "metadata": {},
   "outputs": [],
   "source": [
    "# LMS에 로그인\n",
    "# 1. login 페이지 https://lms.sunde41.net/auth/login\n",
    "# 2. request 어디로 전달하고, 어떤 값(파라미터)을 같이 전달하는지 확인\n",
    "next: \n",
    "email: dlel2000@naver.com\n",
    "password: 01022433324\n",
    "remember: on\n",
    "# 3. dashboard 확인"
   ]
  },
  {
   "cell_type": "code",
   "execution_count": 31,
   "id": "6dfe8c5e",
   "metadata": {},
   "outputs": [],
   "source": [
    "from requests import post\n",
    "\n",
    "params = {\n",
    "    'next' : None,\n",
    "    'email' : 'dlel2000@naver.com',\n",
    "    'password' : '01022433324',\n",
    "    'remember' : 'on'\n",
    "}\n",
    "\n",
    "resp = get('https://lms.sunde41.net/auth/login', data=params)\n",
    "# 쿠키를 관리하는 기능이 없기 때문에, 로그인 못함 그래서 세션이 필요하다"
   ]
  },
  {
   "cell_type": "code",
   "execution_count": 32,
   "id": "ae91acb1",
   "metadata": {},
   "outputs": [],
   "source": [
    "session = Session()\n",
    "resp = session.post('https://lms.sunde41.net/auth/login', data=params)"
   ]
  },
  {
   "cell_type": "code",
   "execution_count": 33,
   "id": "a95d68a0",
   "metadata": {},
   "outputs": [],
   "source": [
    "resp.request.body"
   ]
  },
  {
   "cell_type": "code",
   "execution_count": 34,
   "id": "5548b326",
   "metadata": {},
   "outputs": [
    {
     "data": {
      "text/plain": [
       "{'session': '.eJwlzrkNwzAMAMBdVKeQRJqPlzHMD0lrx1WQ3WMgCxzu07Y68ny29X1c-WjbK9racuhi0k25FofwETuFUJmzIabD6LCHT6y5dJw0uItweEwgdgbhysA5yHYZ0hcmzEIFc8UyjRvXToYE5X1KSBcItaFq6p7S7sh15vHfTKL2_QElxy-d.ZBpWbg.7o8MfHNaPqEBYM2-EzfNeMRnMHk',\n",
       " 'remember_token': '266|3f8b7c9c53b7c55e0dbf0b91a6555c0d748aa8babf41ddd60a75112345df656c67070665a72d1153bc21da8a456bee2516f6c2315683cad8489159ab5523cc7a'}"
      ]
     },
     "execution_count": 34,
     "metadata": {},
     "output_type": "execute_result"
    }
   ],
   "source": [
    "session.cookies.get_dict()"
   ]
  },
  {
   "cell_type": "code",
   "execution_count": 36,
   "id": "106157cc",
   "metadata": {
    "collapsed": true
   },
   "outputs": [
    {
     "data": {
      "text/plain": [
       "'<!DOCTYPE html>\\n<html lang=\"ko\">\\n<head>\\n    <title>대시보드 : 고려대학교 지능정보SW아카데미</title>\\n    <meta charset=\"UTF-8\">\\n    <meta http-equiv=\"X-UA-Compatible\" content=\"IE=edge,chrome=1\">\\n    <meta name=\"viewport\" content=\"width=device-width, initial-scale=1, maximum-scale=1, shrink-to-fit=no\">\\n    <meta name=\"robots\" content=\"noindex,nofollow\">\\n    <link href=\"/static/vendors/bootstrap.css?v=1.4\" rel=\"stylesheet\">\\n    <link href=\"/static/vendors/main.css?v=1.8\" rel=\"stylesheet\">\\n    <link href=\"/static/vendors/icon.css?v=1.0\" rel=\"stylesheet\">\\n    <link href=\"/static/vendors/form.css?v=1.0\" rel=\"stylesheet\">\\n    <link href=\"/static/vendors/style.css?v=2.10\" rel=\"stylesheet\">\\n    <link href=\"/static/vendors/fullcalendar.min.css?v=1.2\" rel=\"stylesheet\">\\n<style>\\n#attendace {\\n\\tdisplay: none;\\n}\\n.fc-unthemed .fc-event .fc-title {\\n    font-size: 11px;\\n    font-weight: 500;\\n}\\n.fc-unthemed .fc-event, .fc-unthemed .fc-event-dot {\\n    border: 1px solid #ebedf2;\\n}\\n.message {\\n    cursor: pointer;\\n}\\n\\n.modal table {\\n\\twidth: 100%;\\n\\t\\tmargin-bottom: 1rem;\\n}\\n.modal table, \\n.modal th,\\n.modal td {\\n  border: 1px solid #ebedf2;\\n  border-collapse: collapse;\\n  padding: 0.75rem;\\n}\\n</style>\\n    <link rel=\"shortcut icon\" href=\"/static/favicon/favicon.ico\" type=\"image/x-icon\">\\n    <link rel=\"icon\" href=\"/static/favicon/favicon.ico\" type=\"image/x-icon\">\\n</head>\\n<body class=\"m-page--fluid m-content--skin-light2 m-header--fixed m-header--fixed-mobile m-aside-left--enabled m-aside-left--skin-dark m-aside-left--fixed m-aside-left--offcanvas m-footer--push m-aside--offcanvas-default\">\\n<div class=\"m-grid m-grid--hor m-grid--root m-page\">\\n    <header id=\"m_header\" class=\"m-grid__item m-header \" m-minimize-offset=\"200\" m-minimize-mobile-offset=\"200\">\\n        <div class=\"m-container m-container--fluid m-container--full-height\">\\n            <div class=\"m-stack m-stack--ver m-stack--desktop\">\\n                <div class=\"m-stack__item m-brand  m-brand--skin-dark \">\\n                    <div class=\"m-stack m-stack--ver m-stack--general\">\\n                        <div class=\"m-stack__item m-stack__item--middle m-brand__logo\">\\n                                <img alt=\"\" src=\"/static/img/logo.png\" style=\"width:195px;height:50px;\"/>\\n                        </div>\\n                        <div class=\"m-stack__item m-stack__item--middle m-brand__tools\">\\n\\t\\t            <a href=\"javascript:;\" id=\"m_aside_left_minimize_toggle\" class=\"m-brand__icon m-brand__toggler m-brand__toggler--left m--visible-desktop-inline-block m-brand__toggler--active\">\\n                                <span></span>\\n                            </a>\\n                            <a href=\"javascript:;\" id=\"m_aside_left_offcanvas_toggle\"\\n                               class=\"m-brand__icon m-brand__toggler m-brand__toggler--left m--visible-tablet-and-mobile-inline-block\">\\n                                <span></span>\\n                            </a>\\n                            <a id=\"m_aside_header_topbar_mobile_toggle\" href=\"javascript:;\"\\n                               class=\"m-brand__icon m--visible-tablet-and-mobile-inline-block\">\\n                                <i class=\"flaticon-more\"></i>\\n                            </a>\\n                        </div>\\n                    </div>\\n                </div>\\n\\t\\t<div class=\"m-stack__item m-stack__item--fluid m-header-head\" id=\"m_header_nav\">\\n\\t\\t\\t<div id=\"m_header_menu\"\\n\\tclass=\"m-header-menu m-aside-header-menu-mobile m-aside-header-menu-mobile--offcanvas  m-header-menu--skin-light m-header-menu--submenu-skin-light m-aside-header-menu-mobile--skin-dark m-aside-header-menu-mobile--submenu-skin-dark \">\\n\\t\\t\\t\\t<div class=\"m-subheader \" style=\"padding: 15px 30px 0 30px;\">\\n\\t\\t\\t\\t\\t<ul class=\"m-subheader__breadcrumbs m-nav m-nav--inline\">\\n\\t\\t\\t\\t\\t\\t<li class=\"m-nav__item m-nav__item--home\"><i class=\"m-nav__link-icon fa fa-home\"></i></li>\\n\\t\\t\\t\\t\\t\\t<li class=\"m-nav__separator\"><i class=\"m-menu__ver-arrow la la-angle-right\"></i> </li>\\n\\t\\t\\t\\t\\t\\t<h3 class=\"m-subheader__title m-subheader__title--separator\">\\n\\t\\t\\t\\t\\t\\t\\t대시보드\\n\\t\\t\\t\\t\\t\\t</h3>\\n\\t\\t\\t\\t\\t</ul>\\n\\t\\t\\t\\t</div>\\n\\t\\t\\t</div>\\n\\n\\t\\t\\t<div id=\"m_header_topbar\" class=\"m-topbar  m-stack m-stack--ver m-stack--general m-stack--fluid\">\\n\\t\\t\\t\\t<div class=\"m-stack__item m-topbar__nav-wrapper\">\\n\\t\\t\\t\\t\\t<ul class=\"m-topbar__nav m-nav m-nav--inline\">\\n\\t\\t\\t\\t\\t<a href=\"javascript:;\" id=\"m_aside_left_minimize_toggle\" class=\"m-brand__icon m-brand__toggler m-brand__toggler--left m--visible-desktop-inline-block m-brand__toggler--active\" ><span></span></a>\\n\\t\\t\\t\\t\\t\\t<li class=\"m-nav__item\">\\n\\t\\t\\t\\t\\t\\t\\t<a href=\"#\" class=\"m-nav__link m-dropdown__toggle\" onclick=\"toggleFullScreen();\">\\n\\t\\t\\t\\t\\t\\t\\t\\t<span class=\"m-nav__link-icon\"><i class=\"flaticon-arrows\"></i></span></a>\\n\\t\\t\\t\\t\\t\\t</li>\\n\\t\\t\\t\\t\\t\\t<li class=\"m-nav__item m-topbar__user-profile m-topbar__user-profile--img\">\\n\\t\\t\\t\\t\\t\\t\\t<a href=\"/dashboard/mypage\">\\n\\t\\t\\t\\t\\t\\t\\t\\t<span class=\"m-topbar__userpic\">\\n\\t\\t\\t\\t\\t\\t\\t\\t\\t<img src=\"/static/uploads/avatars/avatar_266.png\"\\n\\t      class=\"user_pic_top\"\\n       onerror=\"if (this.src != \\'/static/img/default_avatar.jpeg\\') this.src = \\'/static/img/default_avatar.jpeg\\';\">\\n\\t\\t\\t\\t\\t\\t\\t\\t</span>\\n\\t\\t\\t\\t\\t\\t\\t</a>\\n\\t\\t\\t\\t\\t\\t</li>\\n\\t\\t\\t\\t\\t\\t<li class=\"m-nav__item m-list-search m-list-search--skin-light\">\\n\\t\\t\\t\\t\\t\\t\\t<a href=\"/auth/logout\" class=\"m-nav__link\">\\n\\t\\t\\t\\t\\t\\t\\t\\t<span class=\"m-nav__link-icon\"><i class=\"flaticon-logout\"></i></span>\\n\\t\\t\\t\\t\\t\\t\\t</a>\\n\\t\\t\\t\\t\\t\\t</li>\\n\\t\\t\\t\\t\\t</ul>\\n\\t\\t\\t\\t</div>\\n\\t\\t\\t</div>\\n\\t\\t</div>\\n            </div>\\n        </div>\\n    </header>\\n    <div class=\"m-grid__item m-grid__item--fluid m-grid m-grid--ver-desktop m-grid--desktop m-body\">\\n        <div id=\"m_aside_left\" class=\"m-grid__item\\tm-aside-left  m-aside-left--skin-dark \"><div id=\"m_ver_menu\" class=\"m-aside-menu  m-aside-menu--skin-dark m-aside-menu--submenu-skin-dark \" m-menu-vertical=\"1\"\\n     m-menu-scrollable=\"1\" m-menu-dropdown-timeout=\"500\">\\n    <ul class=\"m-menu__nav \">\\n        <li class=\"m-menu__item   m-menu__item--active \"\\n            aria-haspopup=\"true\"><a href=\"/dashboard\"\\n                                    class=\"m-menu__link \"><span\\n                class=\"m-menu__item-here\"></span><i class=\"m-menu__link-icon flaticon-home-1\"></i><span\\n                class=\"m-menu__link-text\">대시 보드</span></a></li>\\n\\t<li class=\"m-menu__item  \"\\n            aria-haspopup=\"true\"><a href=\"/dashboard/faq\"\\n                                    class=\"m-menu__link \"><span\\n                class=\"m-menu__item-here\"></span><i class=\"m-menu__link-icon flaticon-interface-3\"></i><span\\n                class=\"m-menu__link-text\">규정</span></a></li>\\n                <li class=\"m-menu__item m-menu__item--submenu m-menu__item--open\\n\"\\n                aria-haspopup=\"true\" m-menu-submenu-toggle=\"hover\"><a href=\"javascript:;\"\\n                                                                          class=\"m-menu__link m-menu__toggle\"><span\\n                        class=\"m-menu__item-here\"></span><i class=\"m-menu__link-icon flaticon-presentation\"></i>\\n                    <span class=\"m-menu__link-title\">\\n                        <span class=\"m-menu__link-wrap\">\\n                            <span class=\"m-menu__link-text\" style=\"font-weight:700;\">지능정보SW아카데미 2기\\n                            </span>\\n                        </span>\\n                    </span>\\n                    <i class=\"m-menu__ver-arrow la la-angle-right\"></i></a>\\n                    <div class=\"m-menu__submenu \"><span class=\"m-menu__arrow\"></span>\\n                        <ul class=\"m-menu__subnav\">\\n                            <li class=\"m-menu__item  \"\\n                                aria-haspopup=\"true\"><a\\n                                    href=\"/course/3\" class=\"m-menu__link \">\\n                                <i class=\"m-menu__link-bullet m-menu__link-bullet--line\"><span></span></i><span\\n                                    class=\"m-menu__link-text\">수업 게시판</span></a></li>\\n                            <li class=\"m-menu__item \"\\n                                aria-haspopup=\"true\"><a href=\"/course/assignment/list/3\"\\n                                                        class=\"m-menu__link \"><i\\n                                    class=\"m-menu__link-bullet m-menu__link-bullet--line\"><span></span></i><span\\n\\t\\t\\t\\t    class=\"m-menu__link-text\">과제/제출 게시판</span>\\n                                            <span class=\"m-badge m-badge--orange strong float-right\" style=\"margin-top:10px;\">\\n                                                new</span>\\n                                    </a></li>\\n\\t\\t\\t    <li class=\"m-menu__item \"\\n                                aria-haspopup=\"true\"><a href=\"/qna/list/course/3\"\\n                                                        class=\"m-menu__link \"><i\\n                                    class=\"m-menu__link-bullet m-menu__link-bullet--line\"><span></span></i><span\\n                                    class=\"m-menu__link-text\">질문/신청 게시판</span> \\n\\t\\t\\t   </a></li>\\n                        </ul>\\n                    </div>\\n                </li>\\n        \\n            <li class=\"m-menu__item  \"\\n                aria-haspopup=\"true\"><a href=\"/dashboard/mypage\"\\n                                    class=\"m-menu__link \"><span\\n                class=\"m-menu__item-here\"></span><i class=\"m-menu__link-icon flaticon-customer\"></i><span\\n                class=\"m-menu__link-text\">나의 정보 / 출석 확인</span></a></li>\\n    </ul>\\n</div></div>\\n        <div class=\"m-grid__item m-grid__item--fluid m-wrapper\">\\n            <div class=\"m-content\">\\n                <div class=\"row\">\\n<div class=\"col-xl-8\">\\n\\t<div class=\"m-portlet m-portlet--full-height\">\\n\\t\\t<div class=\"m-portlet__head\">\\n\\t\\t\\t<div class=\"m-portlet__head-caption\">\\n\\t\\t\\t\\t<div class=\"m-portlet__head-title\">\\n\\t\\t\\t\\t\\t<span class=\"m-portlet__head-icon\">\\n\\t\\t\\t\\t\\t\\t<i class=\"flaticon-calendar\"></i>\\n\\t\\t\\t\\t\\t</span>\\n\\t\\t\\t\\t\\t<h3 class=\"m-portlet__head-text\">\\n\\t\\t\\t\\t\\t\\t일정표\\n\\t\\t\\t\\t\\t</h3>\\n\\t\\t\\t\\t</div>\\n\\t\\t\\t</div>\\n\\t\\t</div>\\n\\t\\t<div class=\"m-portlet__body m--padding-top-10\">\\n\\t\\t\\t<div id=\"m_calendar\"></div>\\n\\t\\t</div>\\n\\t</div>\\n</div>\\n<div class=\"col-xl-4\"> \\n\\t<div class=\"m-portlet\">\\n                <div class=\"m-portlet__head\">\\n                        <div class=\"m-portlet__head-caption\">\\n                                <div class=\"m-portlet__head-title\">\\n\\t\\t\\t\\t\\t<h5 class=\"message\" data-toggle=\"modal\" data-target=\"#modal1\" style=\"border-color:#7c011b; color:#7c011b;margin-bottom:0;\">\\n\\t\\t\\t\\t\\t\\t[ZOOM 교육 참여 링크 주소 변경 안내] 확인\\n\\t\\t\\t\\t\\t</h5>\\n\\t\\t\\t\\t</div>\\n                        </div>\\n\\t\\t\\t<div class=\"ribbon ribbon-top ribbon-ver\">\\n\\t\\t\\t\\t<div class=\"ribbon-target bg-success\" style=\"top: -3px; right: 25px; position: absolute;\">\\n\\t\\t\\t\\t\\t<i class=\"fa fa-star text-white\"></i>\\n\\t\\t\\t\\t</div>\\n\\t\\t\\t</div>\\n\\t\\t</div>\\n        </div>\\n\\n\\t<div class=\"modal fade\" id=\"modal1\" tabindex=\"-1\" role=\"dialog\" aria-labelledby=\"modal1title\" aria-hidden=\"true\">\\n\\t\\t<div class=\"modal-dialog modal-dialog-centered\" role=\"document\">\\n\\t\\t\\t<div class=\"modal-content\">\\n\\t\\t\\t\\t<div class=\"modal-header\" style=\"align-items: center;\">\\n\\t\\t\\t\\t\\t<h5 class=\"modal-title\" id=\"modal1title\" style=\"font-weight: 500;font-size: 1.3rem;\">ZOOM 교육 참여 링크 주소 변경 안내</h5>\\n\\t\\t\\t\\t\\t<button type=\"button\" class=\"btn btn-danger\" data-dismiss=\"modal\">닫기</button>\\n\\t\\t\\t\\t</div>\\n\\t\\t\\t\\t<div class=\"modal-body\">\\n\\t\\t\\t\\t\\t<p>ZOOM 교육 참여&nbsp;링크 주소가 변경되었습니다.<br />\\r\\n3/22(수) 이후로는&nbsp;아래 정보로 접속해주시기 바랍니다.</p>\\r\\n\\r\\n<p>Zoom 교육 참여&nbsp;: <a href=\"https://url.kr/19lscj\" target=\"_blank\">https://url.kr/19lscj</a><br />\\r\\n회의 ID: 960 3453 1221<br />\\r\\n암호: swAcademy2</p>\\r\\n\\r\\n<p>※ 입장 후 출석 확인 가능하도록 본인 이름으로 반드시 변경해주시기 바랍니다. (ex. 홍길동)</p>\\r\\n\\t\\n\\t\\t\\t\\t</div>\\n\\t\\t\\t</div>\\n\\t\\t</div>\\n\\t</div>\\n\\t<div class=\"m-portlet m-portlet--bordered-semi\">\\n\\t\\t<div class=\"m-portlet__head\">\\n\\t\\t\\t<div class=\"m-portlet__head-caption\">\\n\\t\\t\\t\\t<div class=\"m-portlet__head-title\">\\n\\t\\t\\t\\t\\t<span class=\"m-portlet__head-icon\">\\n\\t\\t\\t\\t\\t\\t<i class=\"flaticon-signs-1\"></i>\\n\\t\\t\\t\\t\\t</span>\\n\\t\\t\\t\\t\\t<h3 class=\"m-portlet__head-text\">\\n\\t\\t\\t\\t\\t\\t과제/제출\\n\\t\\t\\t\\t\\t</h3>\\n\\t\\t\\t\\t</div>\\n\\t\\t\\t</div>\\n\\t\\t\\t<div class=\"m-portlet__head-tools\">\\n\\t\\t\\t\\t<ul class=\"nav nav-pills nav-pills--brand m-nav-pills--align-right m-nav-pills--btn-pill m-nav-pills--btn-sm\"\\n\\trole=\"tablist\">\\n\\t\\t\\t\\t\\t<li class=\"nav-item m-tabs__item\">\\n\\t\\t\\t\\t\\t\\t<a class=\"nav-link m-tabs__link active\" data-toggle=\"tab\" href=\"#table1_content\"\\n\\t\\t\\t\\t\\t\\t\\t\\trole=\"tab\">\\n\\t\\t\\t\\t\\t\\t\\t미완료\\n\\t\\t\\t\\t\\t\\t</a>\\n\\t\\t\\t\\t\\t</li>\\n\\t\\t\\t\\t\\t<li class=\"nav-item m-tabs__item\">\\n\\t\\t\\t\\t\\t\\t<a class=\"nav-link m-tabs__link\" data-toggle=\"tab\" href=\"#table2_content\"\\n\\t\\t\\t\\t\\t\\t\\t role=\"tab\">\\n\\t\\t\\t\\t\\t\\t\\t완료\\n\\t\\t\\t\\t\\t\\t</a>\\n\\t\\t\\t\\t\\t</li>\\n\\t\\t\\t\\t</ul>\\n\\t\\t\\t</div>\\n\\t\\t</div>\\n\\t\\t<div class=\"m-portlet__body m--padding-15\" style=\"padding-right:30px !important;\">\\n\\t\\t\\t<div class=\"tab-content\">\\n\\t\\t\\t\\t<div class=\"tab-pane active\" id=\"table1_content\">\\n\\t\\t\\t\\t\\t<div class=\"m-widget2\">\\n\\t\\t\\t\\t\\t\\t<table id=\"todolist1\" class=\"table table-no-bordered\">\\n\\t\\t\\t\\t\\t\\t\\t<thead>\\n\\t\\t\\t\\t\\t\\t\\t\\t<tr>\\n\\t\\t\\t\\t\\t\\t\\t\\t\\t<th class=\"fixed-td-dashboard no-padding\"></th>\\n\\t\\t\\t\\t\\t\\t\\t\\t\\t<th>과제/제출</th>\\n\\t\\t\\t\\t\\t\\t\\t\\t\\t<th class=\"fixed-td2-dashboard\">마감</th>\\n\\t\\t\\t\\t\\t\\t\\t\\t</tr>\\n\\t\\t\\t\\t\\t\\t\\t</thead>\\n\\t\\t\\t\\t\\t\\t\\t<tbody>\\n\\t\\t\\t\\t\\t\\t\\t\\t<tr>\\n\\t\\t\\t\\t\\t\\t\\t\\t\\t<td class=\"no-padding\" nowrap>\\n\\t\\t\\t\\t\\t\\t\\t\\t\\t\\t<div style=\"padding: 0;\" class=\"ckeckbox-algin\">\\n\\t\\t\\t\\t\\t\\t\\t\\t\\t\\t\\t<div class=\"m-widget2__checkbox ckeckbox-algin\">\\n\\t\\t\\t\\t\\t\\t\\t\\t\\t\\t\\t\\t<button class=\"btn m-btn m-btn--icon m-btn--icon-only m-btn--outline-2x m-btn--pill\"\\n\\t\\t    style=\"color:#6a1aff;border-color:#6a1aff;\">\\n\\t\\t\\t\\t\\t\\t\\t\\t\\t\\t\\t\\t\\t<a style=\"color:#6a1aff\"\\n\\t\\thref=\"/course/assignment/submit/3/24\">제출</a>\\n\\t\\t\\t\\t\\t\\t\\t\\t\\t\\t\\t\\t</button>\\n\\t\\t\\t\\t\\t\\t\\t\\t\\t\\t\\t</div>\\n\\t\\t\\t\\t\\t\\t\\t\\t\\t\\t</div>\\n\\t\\t\\t\\t\\t\\t\\t\\t\\t</td>\\n\\t\\t\\t\\t\\t\\t\\t\\t\\t<td style=\"height:50px\">\\n\\t\\t\\t\\t\\t\\t\\t\\t\\t\\t<span style=\"color:#6a1aff\">1차 합격자 서류 제출 </span>\\n\\t\\t\\t\\t\\t\\t\\t\\t\\t</td>\\n\\t\\t\\t\\t\\t\\t\\t\\t\\t<td class=\"no-padding\"><span style=\"font-size:11px\"\\n\\t\\t\\t\\t      nowrap><span class=\"flask-moment\" data-timestamp=\"2023-02-10T23:59:00\" data-function=\"format\" data-format=\"YYYY-MM-DD HH:mm\" data-refresh=\"0\" style=\"display: none\">2023-02-10T23:59:00</span></span>\\n\\t\\t\\t\\t\\t\\t\\t\\t\\t</td>\\n\\t\\t\\t\\t\\t\\t\\t\\t</tr>\\n\\t\\t\\t\\t\\t\\t\\t\\t<tr>\\n\\t\\t\\t\\t\\t\\t\\t\\t\\t<td class=\"no-padding\" nowrap>\\n\\t\\t\\t\\t\\t\\t\\t\\t\\t\\t<div style=\"padding: 0;\" class=\"ckeckbox-algin\">\\n\\t\\t\\t\\t\\t\\t\\t\\t\\t\\t\\t<div class=\"m-widget2__checkbox ckeckbox-algin\">\\n\\t\\t\\t\\t\\t\\t\\t\\t\\t\\t\\t\\t<label class=\"m-checkbox m-checkbox--single m-checkbox--brand ckeckbox-algin\">\\n\\t\\t\\t\\t\\t\\t\\t\\t\\t\\t\\t\\t\\t<input type=\"checkbox\" value=\"26\"\\n\\t\\t\\t\\t    class=\"assignment_free\">\\n\\t\\t\\t\\t\\t\\t\\t\\t\\t\\t\\t\\t\\t<span></span>\\n\\t\\t\\t\\t\\t\\t\\t\\t\\t\\t\\t\\t</label>\\n\\t\\t\\t\\t\\t\\t\\t\\t\\t\\t\\t</div>\\n\\t\\t\\t\\t\\t\\t\\t\\t\\t\\t</div>\\n\\t\\t\\t\\t\\t\\t\\t\\t\\t</td>\\n\\t\\t\\t\\t\\t\\t\\t\\t\\t<td style=\"height:50px\">\\n\\t\\t\\t\\t\\t\\t\\t\\t\\t\\t<span style=\"color:#a63a6e\">파이썬 자습서 </span>\\n\\t\\t\\t\\t\\t\\t\\t\\t\\t</td>\\n\\t\\t\\t\\t\\t\\t\\t\\t\\t<td class=\"no-padding\"><span style=\"font-size:11px\"\\n\\t\\t\\t\\t      nowrap><span class=\"flask-moment\" data-timestamp=\"2023-03-12T23:59:00\" data-function=\"format\" data-format=\"YYYY-MM-DD HH:mm\" data-refresh=\"0\" style=\"display: none\">2023-03-12T23:59:00</span></span>\\n\\t\\t\\t\\t\\t\\t\\t\\t\\t</td>\\n\\t\\t\\t\\t\\t\\t\\t\\t</tr>\\n\\t\\t\\t\\t\\t\\t\\t\\t<tr>\\n\\t\\t\\t\\t\\t\\t\\t\\t\\t<td class=\"no-padding\" nowrap>\\n\\t\\t\\t\\t\\t\\t\\t\\t\\t\\t<div style=\"padding: 0;\" class=\"ckeckbox-algin\">\\n\\t\\t\\t\\t\\t\\t\\t\\t\\t\\t\\t<div class=\"m-widget2__checkbox ckeckbox-algin\">\\n\\t\\t\\t\\t\\t\\t\\t\\t\\t\\t\\t\\t<label class=\"m-checkbox m-checkbox--single m-checkbox--brand ckeckbox-algin\">\\n\\t\\t\\t\\t\\t\\t\\t\\t\\t\\t\\t\\t\\t<input type=\"checkbox\" value=\"28\"\\n\\t\\t\\t\\t    class=\"assignment_free\">\\n\\t\\t\\t\\t\\t\\t\\t\\t\\t\\t\\t\\t\\t<span></span>\\n\\t\\t\\t\\t\\t\\t\\t\\t\\t\\t\\t\\t</label>\\n\\t\\t\\t\\t\\t\\t\\t\\t\\t\\t\\t</div>\\n\\t\\t\\t\\t\\t\\t\\t\\t\\t\\t</div>\\n\\t\\t\\t\\t\\t\\t\\t\\t\\t</td>\\n\\t\\t\\t\\t\\t\\t\\t\\t\\t<td style=\"height:50px\">\\n\\t\\t\\t\\t\\t\\t\\t\\t\\t\\t<span style=\"color:#a63a6e\">Numpy </span>\\n\\t\\t\\t\\t\\t\\t\\t\\t\\t</td>\\n\\t\\t\\t\\t\\t\\t\\t\\t\\t<td class=\"no-padding\"><span style=\"font-size:11px\"\\n\\t\\t\\t\\t      nowrap><span class=\"flask-moment\" data-timestamp=\"2023-03-26T23:59:00\" data-function=\"format\" data-format=\"YYYY-MM-DD HH:mm\" data-refresh=\"0\" style=\"display: none\">2023-03-26T23:59:00</span></span>\\n\\t\\t\\t\\t\\t\\t\\t\\t\\t</td>\\n\\t\\t\\t\\t\\t\\t\\t\\t</tr>\\n\\t\\t\\t\\t\\t\\t\\t</tbody>\\n\\t\\t\\t\\t\\t\\t</table>\\n\\t\\t\\t\\t\\t</div>\\n\\t\\t\\t\\t</div>\\n\\t\\t\\t\\t<div class=\"tab-pane\" id=\"table2_content\">\\n\\t\\t\\t\\t\\t<table id=\"todolist2\" class=\"table table-no-bordered\">\\n\\t\\t\\t\\t\\t\\t<thead>\\n\\t\\t\\t\\t\\t\\t\\t<tr>\\n\\t\\t\\t\\t\\t\\t\\t\\t<th class=\"fixed-td-dashboard no-padding\" nowrap></th>\\n\\t\\t\\t\\t\\t\\t\\t\\t<th>과제/제출</th>\\n\\t\\t\\t\\t\\t\\t\\t\\t<th class=\"fixed-td2-dashboard\" nowrap>마감</th>\\n\\t\\t\\t\\t\\t\\t\\t</tr>\\n\\t\\t\\t\\t\\t\\t</thead>\\n\\t\\t\\t\\t\\t\\t<tbody>\\n\\t\\t\\t\\t\\t\\t\\t<tr>\\n\\t\\t\\t\\t\\t\\t\\t\\t<td class=\"no-padding\" nowrap>\\n\\t\\t\\t\\t\\t\\t\\t\\t\\t<div style=\"padding: 0;\" class=\"ckeckbox-algin\">\\n\\t\\t\\t\\t\\t\\t\\t\\t\\t\\t<div class=\"m-widget2__checkbox ckeckbox-algin\">\\n\\t\\t\\t\\t\\t\\t\\t\\t\\t\\t\\t<div class=\"m-widget2__checkbox ckeckbox-algin\">\\n\\t\\t\\t\\t\\t\\t\\t\\t\\t\\t\\t\\t<label class=\"m-checkbox m-checkbox--single m-checkbox--brand ckeckbox-algin\">\\n\\t\\t\\t\\t\\t\\t\\t\\t\\t\\t\\t\\t\\t<input type=\"checkbox\" class=\"assignment_free\" disabled checked>\\n\\t\\t\\t\\t\\t\\t\\t\\t\\t\\t\\t\\t\\t<span></span>\\n\\t\\t\\t\\t\\t\\t\\t\\t\\t\\t\\t\\t</label>\\n\\t\\t\\t\\t\\t\\t\\t\\t\\t\\t\\t</div>\\n\\t\\t\\t\\t\\t\\t\\t\\t\\t\\t</div>\\n\\t\\t\\t\\t\\t\\t\\t\\t\\t</div>\\n\\t\\t\\t\\t\\t\\t\\t\\t</td>\\n\\t\\t\\t\\t\\t\\t\\t\\t<td style=\"height:50px\">\\n\\t\\t\\t\\t\\t\\t\\t\\t\\t<span style=\"color:#6a1aff\">2차 합격자 서류 제출</span>\\n\\t\\t\\t\\t\\t\\t\\t\\t</td>\\n\\t\\t\\t\\t\\t\\t\\t\\t<td class=\"no-padding\"><span style=\"font-size:11px\"\\n\\t\\t\\t\\t     nowrap><span class=\"flask-moment\" data-timestamp=\"2023-02-25T23:59:00\" data-function=\"format\" data-format=\"YYYY-MM-DD HH:mm\" data-refresh=\"0\" style=\"display: none\">2023-02-25T23:59:00</span></span>\\n\\t\\t\\t\\t\\t\\t\\t\\t</td>\\n\\t\\t\\t\\t\\t\\t\\t</tr>\\n\\t\\t\\t\\t\\t\\t\\t<tr>\\n\\t\\t\\t\\t\\t\\t\\t\\t<td class=\"no-padding\" nowrap>\\n\\t\\t\\t\\t\\t\\t\\t\\t\\t<div style=\"padding: 0;\" class=\"ckeckbox-algin\">\\n\\t\\t\\t\\t\\t\\t\\t\\t\\t\\t<div class=\"m-widget2__checkbox ckeckbox-algin\">\\n\\t\\t\\t\\t\\t\\t\\t\\t\\t\\t\\t<label class=\"m-checkbox m-checkbox--single m-checkbox--brand ckeckbox-algin\">\\n\\t\\t\\t\\t\\t\\t\\t\\t\\t\\t\\t\\t<input type=\"checkbox\" value=\"27\"\\n\\t\\t\\t\\t   class=\"assignment_free\"\\n       checked>\\n\\t\\t\\t\\t\\t\\t\\t\\t\\t\\t\\t\\t<span></span>\\n\\t\\t\\t\\t\\t\\t\\t\\t\\t\\t\\t</label>\\n\\t\\t\\t\\t\\t\\t\\t\\t\\t\\t</div>\\n\\t\\t\\t\\t\\t\\t\\t\\t\\t</div>\\n\\t\\t\\t\\t\\t\\t\\t\\t</td>\\n\\t\\t\\t\\t\\t\\t\\t\\t<td style=\"height:50px\">\\n\\t\\t\\t\\t\\t\\t\\t\\t\\t<span style=\"color:#a63a6e\">HOWTO로 복습</span>\\n\\t\\t\\t\\t\\t\\t\\t\\t</td>\\n\\t\\t\\t\\t\\t\\t\\t\\t<td class=\"no-padding\"><span style=\"font-size:11px\"\\n\\t\\t\\t\\t     nowrap><span class=\"flask-moment\" data-timestamp=\"2023-03-19T23:59:00\" data-function=\"format\" data-format=\"YYYY-MM-DD HH:mm\" data-refresh=\"0\" style=\"display: none\">2023-03-19T23:59:00</span></span>\\n\\t\\t\\t\\t\\t\\t\\t\\t</td>\\n\\t\\t\\t\\t\\t\\t\\t</tr>\\n\\t\\t\\t\\t\\t\\t</tbody>\\n\\t\\t\\t\\t\\t</table>\\n\\t\\t\\t\\t</div>\\n\\t\\t\\t</div>\\n\\t\\t</div>\\n\\t</div>\\n</div>\\n                </div>\\n            </div>\\n        </div>\\n    </div>\\n</div>\\n<div id=\"m_scroll_top\" class=\"m-scroll-top\">\\n    <i class=\"la la-arrow-up\"></i>\\n</div>\\n<script src=\"https://ajax.googleapis.com/ajax/libs/jquery/3.3.1/jquery.min.js\"></script>\\n<script>\\n    if (!window.jQuery) {\\n        document.write(\\'<script src=/static/vendors/jquery.js><\\\\/script>\\');\\n    }\\n</script>\\n<script src=\"https://cdnjs.cloudflare.com/ajax/libs/popper.js/1.14.6/umd/popper.min.js\" integrity=\"sha384-wHAiFfRlMFy6i5SRaxvfOCifBUQy1xHdJ/yoi7FRNXMRBu5WHdZYu1hA6ZOblgut\" crossorigin=\"anonymous\"></script>\\n<script src=\"https://stackpath.bootstrapcdn.com/bootstrap/4.1.3/js/bootstrap.min.js\" crossorigin=\"anonymous\"></script>\\n<script src=\"/static/vendors/basic.js?v=1.7\"></script><script src=\"/static/vendors/scripts.bundle.js?v=1.3\"></script>\\n<script>\\n\\twindow.addEventListener(\\'load\\', function () {\\n\\t\\tLightense(\\'.zoom img\\');\\n\\t}, false);\\n</script>\\n    <script src=\"/static/vendors/fullcalendar.min.js?v=1.0\"></script>\\n    <script src=\"/static/vendors/fullcalendar_ko.js?v=1.0\"></script>\\n    <script>\\n\\tdocument.addEventListener(\\'DOMContentLoaded\\', function() {\\n\\tvar calendarEl = document.getElementById(\\'m_calendar\\');\\n\\t\\tvar calendar = new FullCalendar.Calendar(calendarEl, {\\n                headerToolbar: {\\n                    start: \\'title\\',\\n                    center: \\'\\',\\n\\t\\t    end: \\'dayGridMonth,listMonth prev,today,next\\'\\n                },\\n                // height: \\'auto\\',\\n                // contentHeight: \\'auto\\',\\n\\t\\teventTimeFormat: { // like \\'14:30:00\\'\\n\\t\\t    omitZeroMinute: true,\\n                    hour: \\'2-digit\\',\\n                    minute: \\'2-digit\\',\\n                    hour12: false,\\n                },\\n\\t\\tlocale: \\'ko\\',\\n                aspectRatio: 1.3,\\n                defaultView: \\'month\\',\\n                weekNumberCalculation: \\'ISO\\',\\n                showNonCurrentDates: false,\\n                firstDay: 0,\\n                events: {\\n                    url: \\'/event\\',\\n                    error: function () {\\n                        alert(\\'there was an error while fetching events!\\');\\n                    }\\n                },\\n\\t\\teventClick: function(info) {\\n\\t\\t    alert(info.event.title);\\n\\t\\t  }\\n\\t\\t});\\n\\t\\tcalendar.render();\\n\\t});\\n\\t$(function(){\\n            show_hide_me();\\n\\t    $(\\'body\\').on(\\'click\\', \\':checkbox\\', changeTodoStatus);\\n            $(\\'.assignment_free\\').click(function () {\\n                $.ajax({\\n                    url: \\'/course/assignment/submit/free/\\' + $(this).val(),\\n                    type: \\'get\\',\\n                    success: function (e) {\\n                    }\\n                });\\n            });\\n        });\\n\\n        function show_hide_me () {\\n\\t          $(\\'#attandace\\').css(\\'display\\',\\'block\\');\\n                  $(\\'#attendace\\').show();\\n        }\\n\\n        function changeTodoStatus(e) {\\n            if ($(this).is(\\':checked\\')) {\\n            } else {\\n            }\\n            var table_id = e.target.closest(\\'table\\').id;\\n            var row = $(this).closest(\"tr\").remove().clone();\\n            var table = $(this).closest(\\'table\\');\\n            if (table_id == \"todolist1\") {\\n                $(\\'#todolist2 tbody\\').append(row);\\n            } else {\\n                $(\\'#todolist1 tbody\\').append(row);\\n            }\\n        }\\n    </script>\\n</body>\\n</html>'"
      ]
     },
     "execution_count": 36,
     "metadata": {},
     "output_type": "execute_result"
    }
   ],
   "source": [
    "session.get('https://lms.sunde41.net/dashboard').text"
   ]
  },
  {
   "cell_type": "code",
   "execution_count": 38,
   "id": "abef1677",
   "metadata": {
    "collapsed": true
   },
   "outputs": [
    {
     "data": {
      "text/plain": [
       "'<!DOCTYPE html>\\n<html lang=\"ko\">\\n<head>\\n    <title>대시보드 : 고려대학교 지능정보SW아카데미</title>\\n    <meta charset=\"UTF-8\">\\n    <meta http-equiv=\"X-UA-Compatible\" content=\"IE=edge,chrome=1\">\\n    <meta name=\"viewport\" content=\"width=device-width, initial-scale=1, maximum-scale=1, shrink-to-fit=no\">\\n    <meta name=\"robots\" content=\"noindex,nofollow\">\\n    <link href=\"/static/vendors/bootstrap.css?v=1.4\" rel=\"stylesheet\">\\n    <link href=\"/static/vendors/main.css?v=1.8\" rel=\"stylesheet\">\\n    <link href=\"/static/vendors/icon.css?v=1.0\" rel=\"stylesheet\">\\n    <link href=\"/static/vendors/form.css?v=1.0\" rel=\"stylesheet\">\\n    <link href=\"/static/vendors/style.css?v=2.10\" rel=\"stylesheet\">\\n    <link href=\"/static/vendors/fullcalendar.min.css?v=1.2\" rel=\"stylesheet\">\\n<style>\\n#attendace {\\n\\tdisplay: none;\\n}\\n.fc-unthemed .fc-event .fc-title {\\n    font-size: 11px;\\n    font-weight: 500;\\n}\\n.fc-unthemed .fc-event, .fc-unthemed .fc-event-dot {\\n    border: 1px solid #ebedf2;\\n}\\n.message {\\n    cursor: pointer;\\n}\\n\\n.modal table {\\n\\twidth: 100%;\\n\\t\\tmargin-bottom: 1rem;\\n}\\n.modal table, \\n.modal th,\\n.modal td {\\n  border: 1px solid #ebedf2;\\n  border-collapse: collapse;\\n  padding: 0.75rem;\\n}\\n</style>\\n    <link rel=\"shortcut icon\" href=\"/static/favicon/favicon.ico\" type=\"image/x-icon\">\\n    <link rel=\"icon\" href=\"/static/favicon/favicon.ico\" type=\"image/x-icon\">\\n</head>\\n<body class=\"m-page--fluid m-content--skin-light2 m-header--fixed m-header--fixed-mobile m-aside-left--enabled m-aside-left--skin-dark m-aside-left--fixed m-aside-left--offcanvas m-footer--push m-aside--offcanvas-default\">\\n<div class=\"m-grid m-grid--hor m-grid--root m-page\">\\n    <header id=\"m_header\" class=\"m-grid__item m-header \" m-minimize-offset=\"200\" m-minimize-mobile-offset=\"200\">\\n        <div class=\"m-container m-container--fluid m-container--full-height\">\\n            <div class=\"m-stack m-stack--ver m-stack--desktop\">\\n                <div class=\"m-stack__item m-brand  m-brand--skin-dark \">\\n                    <div class=\"m-stack m-stack--ver m-stack--general\">\\n                        <div class=\"m-stack__item m-stack__item--middle m-brand__logo\">\\n                                <img alt=\"\" src=\"/static/img/logo.png\" style=\"width:195px;height:50px;\"/>\\n                        </div>\\n                        <div class=\"m-stack__item m-stack__item--middle m-brand__tools\">\\n\\t\\t            <a href=\"javascript:;\" id=\"m_aside_left_minimize_toggle\" class=\"m-brand__icon m-brand__toggler m-brand__toggler--left m--visible-desktop-inline-block m-brand__toggler--active\">\\n                                <span></span>\\n                            </a>\\n                            <a href=\"javascript:;\" id=\"m_aside_left_offcanvas_toggle\"\\n                               class=\"m-brand__icon m-brand__toggler m-brand__toggler--left m--visible-tablet-and-mobile-inline-block\">\\n                                <span></span>\\n                            </a>\\n                            <a id=\"m_aside_header_topbar_mobile_toggle\" href=\"javascript:;\"\\n                               class=\"m-brand__icon m--visible-tablet-and-mobile-inline-block\">\\n                                <i class=\"flaticon-more\"></i>\\n                            </a>\\n                        </div>\\n                    </div>\\n                </div>\\n\\t\\t<div class=\"m-stack__item m-stack__item--fluid m-header-head\" id=\"m_header_nav\">\\n\\t\\t\\t<div id=\"m_header_menu\"\\n\\tclass=\"m-header-menu m-aside-header-menu-mobile m-aside-header-menu-mobile--offcanvas  m-header-menu--skin-light m-header-menu--submenu-skin-light m-aside-header-menu-mobile--skin-dark m-aside-header-menu-mobile--submenu-skin-dark \">\\n\\t\\t\\t\\t<div class=\"m-subheader \" style=\"padding: 15px 30px 0 30px;\">\\n\\t\\t\\t\\t\\t<ul class=\"m-subheader__breadcrumbs m-nav m-nav--inline\">\\n\\t\\t\\t\\t\\t\\t<li class=\"m-nav__item m-nav__item--home\"><i class=\"m-nav__link-icon fa fa-home\"></i></li>\\n\\t\\t\\t\\t\\t\\t<li class=\"m-nav__separator\"><i class=\"m-menu__ver-arrow la la-angle-right\"></i> </li>\\n\\t\\t\\t\\t\\t\\t<h3 class=\"m-subheader__title m-subheader__title--separator\">\\n\\t\\t\\t\\t\\t\\t\\t대시보드\\n\\t\\t\\t\\t\\t\\t</h3>\\n\\t\\t\\t\\t\\t</ul>\\n\\t\\t\\t\\t</div>\\n\\t\\t\\t</div>\\n\\n\\t\\t\\t<div id=\"m_header_topbar\" class=\"m-topbar  m-stack m-stack--ver m-stack--general m-stack--fluid\">\\n\\t\\t\\t\\t<div class=\"m-stack__item m-topbar__nav-wrapper\">\\n\\t\\t\\t\\t\\t<ul class=\"m-topbar__nav m-nav m-nav--inline\">\\n\\t\\t\\t\\t\\t<a href=\"javascript:;\" id=\"m_aside_left_minimize_toggle\" class=\"m-brand__icon m-brand__toggler m-brand__toggler--left m--visible-desktop-inline-block m-brand__toggler--active\" ><span></span></a>\\n\\t\\t\\t\\t\\t\\t<li class=\"m-nav__item\">\\n\\t\\t\\t\\t\\t\\t\\t<a href=\"#\" class=\"m-nav__link m-dropdown__toggle\" onclick=\"toggleFullScreen();\">\\n\\t\\t\\t\\t\\t\\t\\t\\t<span class=\"m-nav__link-icon\"><i class=\"flaticon-arrows\"></i></span></a>\\n\\t\\t\\t\\t\\t\\t</li>\\n\\t\\t\\t\\t\\t\\t<li class=\"m-nav__item m-topbar__user-profile m-topbar__user-profile--img\">\\n\\t\\t\\t\\t\\t\\t\\t<a href=\"/dashboard/mypage\">\\n\\t\\t\\t\\t\\t\\t\\t\\t<span class=\"m-topbar__userpic\">\\n\\t\\t\\t\\t\\t\\t\\t\\t\\t<img src=\"/static/uploads/avatars/avatar_266.png\"\\n\\t      class=\"user_pic_top\"\\n       onerror=\"if (this.src != \\'/static/img/default_avatar.jpeg\\') this.src = \\'/static/img/default_avatar.jpeg\\';\">\\n\\t\\t\\t\\t\\t\\t\\t\\t</span>\\n\\t\\t\\t\\t\\t\\t\\t</a>\\n\\t\\t\\t\\t\\t\\t</li>\\n\\t\\t\\t\\t\\t\\t<li class=\"m-nav__item m-list-search m-list-search--skin-light\">\\n\\t\\t\\t\\t\\t\\t\\t<a href=\"/auth/logout\" class=\"m-nav__link\">\\n\\t\\t\\t\\t\\t\\t\\t\\t<span class=\"m-nav__link-icon\"><i class=\"flaticon-logout\"></i></span>\\n\\t\\t\\t\\t\\t\\t\\t</a>\\n\\t\\t\\t\\t\\t\\t</li>\\n\\t\\t\\t\\t\\t</ul>\\n\\t\\t\\t\\t</div>\\n\\t\\t\\t</div>\\n\\t\\t</div>\\n            </div>\\n        </div>\\n    </header>\\n    <div class=\"m-grid__item m-grid__item--fluid m-grid m-grid--ver-desktop m-grid--desktop m-body\">\\n        <div id=\"m_aside_left\" class=\"m-grid__item\\tm-aside-left  m-aside-left--skin-dark \"><div id=\"m_ver_menu\" class=\"m-aside-menu  m-aside-menu--skin-dark m-aside-menu--submenu-skin-dark \" m-menu-vertical=\"1\"\\n     m-menu-scrollable=\"1\" m-menu-dropdown-timeout=\"500\">\\n    <ul class=\"m-menu__nav \">\\n        <li class=\"m-menu__item   m-menu__item--active \"\\n            aria-haspopup=\"true\"><a href=\"/dashboard\"\\n                                    class=\"m-menu__link \"><span\\n                class=\"m-menu__item-here\"></span><i class=\"m-menu__link-icon flaticon-home-1\"></i><span\\n                class=\"m-menu__link-text\">대시 보드</span></a></li>\\n\\t<li class=\"m-menu__item  \"\\n            aria-haspopup=\"true\"><a href=\"/dashboard/faq\"\\n                                    class=\"m-menu__link \"><span\\n                class=\"m-menu__item-here\"></span><i class=\"m-menu__link-icon flaticon-interface-3\"></i><span\\n                class=\"m-menu__link-text\">규정</span></a></li>\\n                <li class=\"m-menu__item m-menu__item--submenu m-menu__item--open\\n\"\\n                aria-haspopup=\"true\" m-menu-submenu-toggle=\"hover\"><a href=\"javascript:;\"\\n                                                                          class=\"m-menu__link m-menu__toggle\"><span\\n                        class=\"m-menu__item-here\"></span><i class=\"m-menu__link-icon flaticon-presentation\"></i>\\n                    <span class=\"m-menu__link-title\">\\n                        <span class=\"m-menu__link-wrap\">\\n                            <span class=\"m-menu__link-text\" style=\"font-weight:700;\">지능정보SW아카데미 2기\\n                            </span>\\n                        </span>\\n                    </span>\\n                    <i class=\"m-menu__ver-arrow la la-angle-right\"></i></a>\\n                    <div class=\"m-menu__submenu \"><span class=\"m-menu__arrow\"></span>\\n                        <ul class=\"m-menu__subnav\">\\n                            <li class=\"m-menu__item  \"\\n                                aria-haspopup=\"true\"><a\\n                                    href=\"/course/3\" class=\"m-menu__link \">\\n                                <i class=\"m-menu__link-bullet m-menu__link-bullet--line\"><span></span></i><span\\n                                    class=\"m-menu__link-text\">수업 게시판</span></a></li>\\n                            <li class=\"m-menu__item \"\\n                                aria-haspopup=\"true\"><a href=\"/course/assignment/list/3\"\\n                                                        class=\"m-menu__link \"><i\\n                                    class=\"m-menu__link-bullet m-menu__link-bullet--line\"><span></span></i><span\\n\\t\\t\\t\\t    class=\"m-menu__link-text\">과제/제출 게시판</span>\\n                                            <span class=\"m-badge m-badge--orange strong float-right\" style=\"margin-top:10px;\">\\n                                                new</span>\\n                                    </a></li>\\n\\t\\t\\t    <li class=\"m-menu__item \"\\n                                aria-haspopup=\"true\"><a href=\"/qna/list/course/3\"\\n                                                        class=\"m-menu__link \"><i\\n                                    class=\"m-menu__link-bullet m-menu__link-bullet--line\"><span></span></i><span\\n                                    class=\"m-menu__link-text\">질문/신청 게시판</span> \\n\\t\\t\\t   </a></li>\\n                        </ul>\\n                    </div>\\n                </li>\\n        \\n            <li class=\"m-menu__item  \"\\n                aria-haspopup=\"true\"><a href=\"/dashboard/mypage\"\\n                                    class=\"m-menu__link \"><span\\n                class=\"m-menu__item-here\"></span><i class=\"m-menu__link-icon flaticon-customer\"></i><span\\n                class=\"m-menu__link-text\">나의 정보 / 출석 확인</span></a></li>\\n    </ul>\\n</div></div>\\n        <div class=\"m-grid__item m-grid__item--fluid m-wrapper\">\\n            <div class=\"m-content\">\\n                <div class=\"row\">\\n<div class=\"col-xl-8\">\\n\\t<div class=\"m-portlet m-portlet--full-height\">\\n\\t\\t<div class=\"m-portlet__head\">\\n\\t\\t\\t<div class=\"m-portlet__head-caption\">\\n\\t\\t\\t\\t<div class=\"m-portlet__head-title\">\\n\\t\\t\\t\\t\\t<span class=\"m-portlet__head-icon\">\\n\\t\\t\\t\\t\\t\\t<i class=\"flaticon-calendar\"></i>\\n\\t\\t\\t\\t\\t</span>\\n\\t\\t\\t\\t\\t<h3 class=\"m-portlet__head-text\">\\n\\t\\t\\t\\t\\t\\t일정표\\n\\t\\t\\t\\t\\t</h3>\\n\\t\\t\\t\\t</div>\\n\\t\\t\\t</div>\\n\\t\\t</div>\\n\\t\\t<div class=\"m-portlet__body m--padding-top-10\">\\n\\t\\t\\t<div id=\"m_calendar\"></div>\\n\\t\\t</div>\\n\\t</div>\\n</div>\\n<div class=\"col-xl-4\"> \\n\\t<div class=\"m-portlet\">\\n                <div class=\"m-portlet__head\">\\n                        <div class=\"m-portlet__head-caption\">\\n                                <div class=\"m-portlet__head-title\">\\n\\t\\t\\t\\t\\t<h5 class=\"message\" data-toggle=\"modal\" data-target=\"#modal1\" style=\"border-color:#7c011b; color:#7c011b;margin-bottom:0;\">\\n\\t\\t\\t\\t\\t\\t[ZOOM 교육 참여 링크 주소 변경 안내] 확인\\n\\t\\t\\t\\t\\t</h5>\\n\\t\\t\\t\\t</div>\\n                        </div>\\n\\t\\t\\t<div class=\"ribbon ribbon-top ribbon-ver\">\\n\\t\\t\\t\\t<div class=\"ribbon-target bg-success\" style=\"top: -3px; right: 25px; position: absolute;\">\\n\\t\\t\\t\\t\\t<i class=\"fa fa-star text-white\"></i>\\n\\t\\t\\t\\t</div>\\n\\t\\t\\t</div>\\n\\t\\t</div>\\n        </div>\\n\\n\\t<div class=\"modal fade\" id=\"modal1\" tabindex=\"-1\" role=\"dialog\" aria-labelledby=\"modal1title\" aria-hidden=\"true\">\\n\\t\\t<div class=\"modal-dialog modal-dialog-centered\" role=\"document\">\\n\\t\\t\\t<div class=\"modal-content\">\\n\\t\\t\\t\\t<div class=\"modal-header\" style=\"align-items: center;\">\\n\\t\\t\\t\\t\\t<h5 class=\"modal-title\" id=\"modal1title\" style=\"font-weight: 500;font-size: 1.3rem;\">ZOOM 교육 참여 링크 주소 변경 안내</h5>\\n\\t\\t\\t\\t\\t<button type=\"button\" class=\"btn btn-danger\" data-dismiss=\"modal\">닫기</button>\\n\\t\\t\\t\\t</div>\\n\\t\\t\\t\\t<div class=\"modal-body\">\\n\\t\\t\\t\\t\\t<p>ZOOM 교육 참여&nbsp;링크 주소가 변경되었습니다.<br />\\r\\n3/22(수) 이후로는&nbsp;아래 정보로 접속해주시기 바랍니다.</p>\\r\\n\\r\\n<p>Zoom 교육 참여&nbsp;: <a href=\"https://url.kr/19lscj\" target=\"_blank\">https://url.kr/19lscj</a><br />\\r\\n회의 ID: 960 3453 1221<br />\\r\\n암호: swAcademy2</p>\\r\\n\\r\\n<p>※ 입장 후 출석 확인 가능하도록 본인 이름으로 반드시 변경해주시기 바랍니다. (ex. 홍길동)</p>\\r\\n\\t\\n\\t\\t\\t\\t</div>\\n\\t\\t\\t</div>\\n\\t\\t</div>\\n\\t</div>\\n\\t<div class=\"m-portlet m-portlet--bordered-semi\">\\n\\t\\t<div class=\"m-portlet__head\">\\n\\t\\t\\t<div class=\"m-portlet__head-caption\">\\n\\t\\t\\t\\t<div class=\"m-portlet__head-title\">\\n\\t\\t\\t\\t\\t<span class=\"m-portlet__head-icon\">\\n\\t\\t\\t\\t\\t\\t<i class=\"flaticon-signs-1\"></i>\\n\\t\\t\\t\\t\\t</span>\\n\\t\\t\\t\\t\\t<h3 class=\"m-portlet__head-text\">\\n\\t\\t\\t\\t\\t\\t과제/제출\\n\\t\\t\\t\\t\\t</h3>\\n\\t\\t\\t\\t</div>\\n\\t\\t\\t</div>\\n\\t\\t\\t<div class=\"m-portlet__head-tools\">\\n\\t\\t\\t\\t<ul class=\"nav nav-pills nav-pills--brand m-nav-pills--align-right m-nav-pills--btn-pill m-nav-pills--btn-sm\"\\n\\trole=\"tablist\">\\n\\t\\t\\t\\t\\t<li class=\"nav-item m-tabs__item\">\\n\\t\\t\\t\\t\\t\\t<a class=\"nav-link m-tabs__link active\" data-toggle=\"tab\" href=\"#table1_content\"\\n\\t\\t\\t\\t\\t\\t\\t\\trole=\"tab\">\\n\\t\\t\\t\\t\\t\\t\\t미완료\\n\\t\\t\\t\\t\\t\\t</a>\\n\\t\\t\\t\\t\\t</li>\\n\\t\\t\\t\\t\\t<li class=\"nav-item m-tabs__item\">\\n\\t\\t\\t\\t\\t\\t<a class=\"nav-link m-tabs__link\" data-toggle=\"tab\" href=\"#table2_content\"\\n\\t\\t\\t\\t\\t\\t\\t role=\"tab\">\\n\\t\\t\\t\\t\\t\\t\\t완료\\n\\t\\t\\t\\t\\t\\t</a>\\n\\t\\t\\t\\t\\t</li>\\n\\t\\t\\t\\t</ul>\\n\\t\\t\\t</div>\\n\\t\\t</div>\\n\\t\\t<div class=\"m-portlet__body m--padding-15\" style=\"padding-right:30px !important;\">\\n\\t\\t\\t<div class=\"tab-content\">\\n\\t\\t\\t\\t<div class=\"tab-pane active\" id=\"table1_content\">\\n\\t\\t\\t\\t\\t<div class=\"m-widget2\">\\n\\t\\t\\t\\t\\t\\t<table id=\"todolist1\" class=\"table table-no-bordered\">\\n\\t\\t\\t\\t\\t\\t\\t<thead>\\n\\t\\t\\t\\t\\t\\t\\t\\t<tr>\\n\\t\\t\\t\\t\\t\\t\\t\\t\\t<th class=\"fixed-td-dashboard no-padding\"></th>\\n\\t\\t\\t\\t\\t\\t\\t\\t\\t<th>과제/제출</th>\\n\\t\\t\\t\\t\\t\\t\\t\\t\\t<th class=\"fixed-td2-dashboard\">마감</th>\\n\\t\\t\\t\\t\\t\\t\\t\\t</tr>\\n\\t\\t\\t\\t\\t\\t\\t</thead>\\n\\t\\t\\t\\t\\t\\t\\t<tbody>\\n\\t\\t\\t\\t\\t\\t\\t\\t<tr>\\n\\t\\t\\t\\t\\t\\t\\t\\t\\t<td class=\"no-padding\" nowrap>\\n\\t\\t\\t\\t\\t\\t\\t\\t\\t\\t<div style=\"padding: 0;\" class=\"ckeckbox-algin\">\\n\\t\\t\\t\\t\\t\\t\\t\\t\\t\\t\\t<div class=\"m-widget2__checkbox ckeckbox-algin\">\\n\\t\\t\\t\\t\\t\\t\\t\\t\\t\\t\\t\\t<button class=\"btn m-btn m-btn--icon m-btn--icon-only m-btn--outline-2x m-btn--pill\"\\n\\t\\t    style=\"color:#6a1aff;border-color:#6a1aff;\">\\n\\t\\t\\t\\t\\t\\t\\t\\t\\t\\t\\t\\t\\t<a style=\"color:#6a1aff\"\\n\\t\\thref=\"/course/assignment/submit/3/24\">제출</a>\\n\\t\\t\\t\\t\\t\\t\\t\\t\\t\\t\\t\\t</button>\\n\\t\\t\\t\\t\\t\\t\\t\\t\\t\\t\\t</div>\\n\\t\\t\\t\\t\\t\\t\\t\\t\\t\\t</div>\\n\\t\\t\\t\\t\\t\\t\\t\\t\\t</td>\\n\\t\\t\\t\\t\\t\\t\\t\\t\\t<td style=\"height:50px\">\\n\\t\\t\\t\\t\\t\\t\\t\\t\\t\\t<span style=\"color:#6a1aff\">1차 합격자 서류 제출 </span>\\n\\t\\t\\t\\t\\t\\t\\t\\t\\t</td>\\n\\t\\t\\t\\t\\t\\t\\t\\t\\t<td class=\"no-padding\"><span style=\"font-size:11px\"\\n\\t\\t\\t\\t      nowrap><span class=\"flask-moment\" data-timestamp=\"2023-02-10T23:59:00\" data-function=\"format\" data-format=\"YYYY-MM-DD HH:mm\" data-refresh=\"0\" style=\"display: none\">2023-02-10T23:59:00</span></span>\\n\\t\\t\\t\\t\\t\\t\\t\\t\\t</td>\\n\\t\\t\\t\\t\\t\\t\\t\\t</tr>\\n\\t\\t\\t\\t\\t\\t\\t\\t<tr>\\n\\t\\t\\t\\t\\t\\t\\t\\t\\t<td class=\"no-padding\" nowrap>\\n\\t\\t\\t\\t\\t\\t\\t\\t\\t\\t<div style=\"padding: 0;\" class=\"ckeckbox-algin\">\\n\\t\\t\\t\\t\\t\\t\\t\\t\\t\\t\\t<div class=\"m-widget2__checkbox ckeckbox-algin\">\\n\\t\\t\\t\\t\\t\\t\\t\\t\\t\\t\\t\\t<label class=\"m-checkbox m-checkbox--single m-checkbox--brand ckeckbox-algin\">\\n\\t\\t\\t\\t\\t\\t\\t\\t\\t\\t\\t\\t\\t<input type=\"checkbox\" value=\"26\"\\n\\t\\t\\t\\t    class=\"assignment_free\">\\n\\t\\t\\t\\t\\t\\t\\t\\t\\t\\t\\t\\t\\t<span></span>\\n\\t\\t\\t\\t\\t\\t\\t\\t\\t\\t\\t\\t</label>\\n\\t\\t\\t\\t\\t\\t\\t\\t\\t\\t\\t</div>\\n\\t\\t\\t\\t\\t\\t\\t\\t\\t\\t</div>\\n\\t\\t\\t\\t\\t\\t\\t\\t\\t</td>\\n\\t\\t\\t\\t\\t\\t\\t\\t\\t<td style=\"height:50px\">\\n\\t\\t\\t\\t\\t\\t\\t\\t\\t\\t<span style=\"color:#a63a6e\">파이썬 자습서 </span>\\n\\t\\t\\t\\t\\t\\t\\t\\t\\t</td>\\n\\t\\t\\t\\t\\t\\t\\t\\t\\t<td class=\"no-padding\"><span style=\"font-size:11px\"\\n\\t\\t\\t\\t      nowrap><span class=\"flask-moment\" data-timestamp=\"2023-03-12T23:59:00\" data-function=\"format\" data-format=\"YYYY-MM-DD HH:mm\" data-refresh=\"0\" style=\"display: none\">2023-03-12T23:59:00</span></span>\\n\\t\\t\\t\\t\\t\\t\\t\\t\\t</td>\\n\\t\\t\\t\\t\\t\\t\\t\\t</tr>\\n\\t\\t\\t\\t\\t\\t\\t\\t<tr>\\n\\t\\t\\t\\t\\t\\t\\t\\t\\t<td class=\"no-padding\" nowrap>\\n\\t\\t\\t\\t\\t\\t\\t\\t\\t\\t<div style=\"padding: 0;\" class=\"ckeckbox-algin\">\\n\\t\\t\\t\\t\\t\\t\\t\\t\\t\\t\\t<div class=\"m-widget2__checkbox ckeckbox-algin\">\\n\\t\\t\\t\\t\\t\\t\\t\\t\\t\\t\\t\\t<label class=\"m-checkbox m-checkbox--single m-checkbox--brand ckeckbox-algin\">\\n\\t\\t\\t\\t\\t\\t\\t\\t\\t\\t\\t\\t\\t<input type=\"checkbox\" value=\"28\"\\n\\t\\t\\t\\t    class=\"assignment_free\">\\n\\t\\t\\t\\t\\t\\t\\t\\t\\t\\t\\t\\t\\t<span></span>\\n\\t\\t\\t\\t\\t\\t\\t\\t\\t\\t\\t\\t</label>\\n\\t\\t\\t\\t\\t\\t\\t\\t\\t\\t\\t</div>\\n\\t\\t\\t\\t\\t\\t\\t\\t\\t\\t</div>\\n\\t\\t\\t\\t\\t\\t\\t\\t\\t</td>\\n\\t\\t\\t\\t\\t\\t\\t\\t\\t<td style=\"height:50px\">\\n\\t\\t\\t\\t\\t\\t\\t\\t\\t\\t<span style=\"color:#a63a6e\">Numpy </span>\\n\\t\\t\\t\\t\\t\\t\\t\\t\\t</td>\\n\\t\\t\\t\\t\\t\\t\\t\\t\\t<td class=\"no-padding\"><span style=\"font-size:11px\"\\n\\t\\t\\t\\t      nowrap><span class=\"flask-moment\" data-timestamp=\"2023-03-26T23:59:00\" data-function=\"format\" data-format=\"YYYY-MM-DD HH:mm\" data-refresh=\"0\" style=\"display: none\">2023-03-26T23:59:00</span></span>\\n\\t\\t\\t\\t\\t\\t\\t\\t\\t</td>\\n\\t\\t\\t\\t\\t\\t\\t\\t</tr>\\n\\t\\t\\t\\t\\t\\t\\t</tbody>\\n\\t\\t\\t\\t\\t\\t</table>\\n\\t\\t\\t\\t\\t</div>\\n\\t\\t\\t\\t</div>\\n\\t\\t\\t\\t<div class=\"tab-pane\" id=\"table2_content\">\\n\\t\\t\\t\\t\\t<table id=\"todolist2\" class=\"table table-no-bordered\">\\n\\t\\t\\t\\t\\t\\t<thead>\\n\\t\\t\\t\\t\\t\\t\\t<tr>\\n\\t\\t\\t\\t\\t\\t\\t\\t<th class=\"fixed-td-dashboard no-padding\" nowrap></th>\\n\\t\\t\\t\\t\\t\\t\\t\\t<th>과제/제출</th>\\n\\t\\t\\t\\t\\t\\t\\t\\t<th class=\"fixed-td2-dashboard\" nowrap>마감</th>\\n\\t\\t\\t\\t\\t\\t\\t</tr>\\n\\t\\t\\t\\t\\t\\t</thead>\\n\\t\\t\\t\\t\\t\\t<tbody>\\n\\t\\t\\t\\t\\t\\t\\t<tr>\\n\\t\\t\\t\\t\\t\\t\\t\\t<td class=\"no-padding\" nowrap>\\n\\t\\t\\t\\t\\t\\t\\t\\t\\t<div style=\"padding: 0;\" class=\"ckeckbox-algin\">\\n\\t\\t\\t\\t\\t\\t\\t\\t\\t\\t<div class=\"m-widget2__checkbox ckeckbox-algin\">\\n\\t\\t\\t\\t\\t\\t\\t\\t\\t\\t\\t<div class=\"m-widget2__checkbox ckeckbox-algin\">\\n\\t\\t\\t\\t\\t\\t\\t\\t\\t\\t\\t\\t<label class=\"m-checkbox m-checkbox--single m-checkbox--brand ckeckbox-algin\">\\n\\t\\t\\t\\t\\t\\t\\t\\t\\t\\t\\t\\t\\t<input type=\"checkbox\" class=\"assignment_free\" disabled checked>\\n\\t\\t\\t\\t\\t\\t\\t\\t\\t\\t\\t\\t\\t<span></span>\\n\\t\\t\\t\\t\\t\\t\\t\\t\\t\\t\\t\\t</label>\\n\\t\\t\\t\\t\\t\\t\\t\\t\\t\\t\\t</div>\\n\\t\\t\\t\\t\\t\\t\\t\\t\\t\\t</div>\\n\\t\\t\\t\\t\\t\\t\\t\\t\\t</div>\\n\\t\\t\\t\\t\\t\\t\\t\\t</td>\\n\\t\\t\\t\\t\\t\\t\\t\\t<td style=\"height:50px\">\\n\\t\\t\\t\\t\\t\\t\\t\\t\\t<span style=\"color:#6a1aff\">2차 합격자 서류 제출</span>\\n\\t\\t\\t\\t\\t\\t\\t\\t</td>\\n\\t\\t\\t\\t\\t\\t\\t\\t<td class=\"no-padding\"><span style=\"font-size:11px\"\\n\\t\\t\\t\\t     nowrap><span class=\"flask-moment\" data-timestamp=\"2023-02-25T23:59:00\" data-function=\"format\" data-format=\"YYYY-MM-DD HH:mm\" data-refresh=\"0\" style=\"display: none\">2023-02-25T23:59:00</span></span>\\n\\t\\t\\t\\t\\t\\t\\t\\t</td>\\n\\t\\t\\t\\t\\t\\t\\t</tr>\\n\\t\\t\\t\\t\\t\\t\\t<tr>\\n\\t\\t\\t\\t\\t\\t\\t\\t<td class=\"no-padding\" nowrap>\\n\\t\\t\\t\\t\\t\\t\\t\\t\\t<div style=\"padding: 0;\" class=\"ckeckbox-algin\">\\n\\t\\t\\t\\t\\t\\t\\t\\t\\t\\t<div class=\"m-widget2__checkbox ckeckbox-algin\">\\n\\t\\t\\t\\t\\t\\t\\t\\t\\t\\t\\t<label class=\"m-checkbox m-checkbox--single m-checkbox--brand ckeckbox-algin\">\\n\\t\\t\\t\\t\\t\\t\\t\\t\\t\\t\\t\\t<input type=\"checkbox\" value=\"27\"\\n\\t\\t\\t\\t   class=\"assignment_free\"\\n       checked>\\n\\t\\t\\t\\t\\t\\t\\t\\t\\t\\t\\t\\t<span></span>\\n\\t\\t\\t\\t\\t\\t\\t\\t\\t\\t\\t</label>\\n\\t\\t\\t\\t\\t\\t\\t\\t\\t\\t</div>\\n\\t\\t\\t\\t\\t\\t\\t\\t\\t</div>\\n\\t\\t\\t\\t\\t\\t\\t\\t</td>\\n\\t\\t\\t\\t\\t\\t\\t\\t<td style=\"height:50px\">\\n\\t\\t\\t\\t\\t\\t\\t\\t\\t<span style=\"color:#a63a6e\">HOWTO로 복습</span>\\n\\t\\t\\t\\t\\t\\t\\t\\t</td>\\n\\t\\t\\t\\t\\t\\t\\t\\t<td class=\"no-padding\"><span style=\"font-size:11px\"\\n\\t\\t\\t\\t     nowrap><span class=\"flask-moment\" data-timestamp=\"2023-03-19T23:59:00\" data-function=\"format\" data-format=\"YYYY-MM-DD HH:mm\" data-refresh=\"0\" style=\"display: none\">2023-03-19T23:59:00</span></span>\\n\\t\\t\\t\\t\\t\\t\\t\\t</td>\\n\\t\\t\\t\\t\\t\\t\\t</tr>\\n\\t\\t\\t\\t\\t\\t</tbody>\\n\\t\\t\\t\\t\\t</table>\\n\\t\\t\\t\\t</div>\\n\\t\\t\\t</div>\\n\\t\\t</div>\\n\\t</div>\\n</div>\\n                </div>\\n            </div>\\n        </div>\\n    </div>\\n</div>\\n<div id=\"m_scroll_top\" class=\"m-scroll-top\">\\n    <i class=\"la la-arrow-up\"></i>\\n</div>\\n<script src=\"https://ajax.googleapis.com/ajax/libs/jquery/3.3.1/jquery.min.js\"></script>\\n<script>\\n    if (!window.jQuery) {\\n        document.write(\\'<script src=/static/vendors/jquery.js><\\\\/script>\\');\\n    }\\n</script>\\n<script src=\"https://cdnjs.cloudflare.com/ajax/libs/popper.js/1.14.6/umd/popper.min.js\" integrity=\"sha384-wHAiFfRlMFy6i5SRaxvfOCifBUQy1xHdJ/yoi7FRNXMRBu5WHdZYu1hA6ZOblgut\" crossorigin=\"anonymous\"></script>\\n<script src=\"https://stackpath.bootstrapcdn.com/bootstrap/4.1.3/js/bootstrap.min.js\" crossorigin=\"anonymous\"></script>\\n<script src=\"/static/vendors/basic.js?v=1.7\"></script><script src=\"/static/vendors/scripts.bundle.js?v=1.3\"></script>\\n<script>\\n\\twindow.addEventListener(\\'load\\', function () {\\n\\t\\tLightense(\\'.zoom img\\');\\n\\t}, false);\\n</script>\\n    <script src=\"/static/vendors/fullcalendar.min.js?v=1.0\"></script>\\n    <script src=\"/static/vendors/fullcalendar_ko.js?v=1.0\"></script>\\n    <script>\\n\\tdocument.addEventListener(\\'DOMContentLoaded\\', function() {\\n\\tvar calendarEl = document.getElementById(\\'m_calendar\\');\\n\\t\\tvar calendar = new FullCalendar.Calendar(calendarEl, {\\n                headerToolbar: {\\n                    start: \\'title\\',\\n                    center: \\'\\',\\n\\t\\t    end: \\'dayGridMonth,listMonth prev,today,next\\'\\n                },\\n                // height: \\'auto\\',\\n                // contentHeight: \\'auto\\',\\n\\t\\teventTimeFormat: { // like \\'14:30:00\\'\\n\\t\\t    omitZeroMinute: true,\\n                    hour: \\'2-digit\\',\\n                    minute: \\'2-digit\\',\\n                    hour12: false,\\n                },\\n\\t\\tlocale: \\'ko\\',\\n                aspectRatio: 1.3,\\n                defaultView: \\'month\\',\\n                weekNumberCalculation: \\'ISO\\',\\n                showNonCurrentDates: false,\\n                firstDay: 0,\\n                events: {\\n                    url: \\'/event\\',\\n                    error: function () {\\n                        alert(\\'there was an error while fetching events!\\');\\n                    }\\n                },\\n\\t\\teventClick: function(info) {\\n\\t\\t    alert(info.event.title);\\n\\t\\t  }\\n\\t\\t});\\n\\t\\tcalendar.render();\\n\\t});\\n\\t$(function(){\\n            show_hide_me();\\n\\t    $(\\'body\\').on(\\'click\\', \\':checkbox\\', changeTodoStatus);\\n            $(\\'.assignment_free\\').click(function () {\\n                $.ajax({\\n                    url: \\'/course/assignment/submit/free/\\' + $(this).val(),\\n                    type: \\'get\\',\\n                    success: function (e) {\\n                    }\\n                });\\n            });\\n        });\\n\\n        function show_hide_me () {\\n\\t          $(\\'#attandace\\').css(\\'display\\',\\'block\\');\\n                  $(\\'#attendace\\').show();\\n        }\\n\\n        function changeTodoStatus(e) {\\n            if ($(this).is(\\':checked\\')) {\\n            } else {\\n            }\\n            var table_id = e.target.closest(\\'table\\').id;\\n            var row = $(this).closest(\"tr\").remove().clone();\\n            var table = $(this).closest(\\'table\\');\\n            if (table_id == \"todolist1\") {\\n                $(\\'#todolist2 tbody\\').append(row);\\n            } else {\\n                $(\\'#todolist1 tbody\\').append(row);\\n            }\\n        }\\n    </script>\\n</body>\\n</html>'"
      ]
     },
     "execution_count": 38,
     "metadata": {},
     "output_type": "execute_result"
    }
   ],
   "source": [
    "get('https://lms.sunde41.net/dashboard', cookies=session.cookies).text"
   ]
  },
  {
   "cell_type": "code",
   "execution_count": 39,
   "id": "68e46b43",
   "metadata": {},
   "outputs": [],
   "source": [
    "# session 날리기.\n",
    "session.cookies.clear()\n",
    "session.cookies.get_dict()"
   ]
  },
  {
   "cell_type": "markdown",
   "id": "e874c54e",
   "metadata": {},
   "source": [
    "# Naver"
   ]
  },
  {
   "cell_type": "code",
   "execution_count": 59,
   "id": "0dbbfadd",
   "metadata": {},
   "outputs": [],
   "source": [
    "from requests.cookies import RequestsCookieJar\n",
    "n_cookie = RequestsCookieJar()\n",
    "n_dict = {}"
   ]
  },
  {
   "cell_type": "code",
   "execution_count": 94,
   "id": "deed9b02",
   "metadata": {},
   "outputs": [],
   "source": [
    "c = '''\n",
    "nid_buk\tQGXJ6M6CHL7GC\t.nid.naver.com\t/\t2024-04-25T01:20:07.378Z\t20\t\t✓\t\t\tMedium\t\n",
    "NID_JKL\tyVFzbJ4fBfHTMJUo/rK+lyM9AQwnn6G5z/0FtNi0HPo=\t.naver.com\t/\tSession\t51\t\t✓\t\t\tMedium\t\n",
    "NMUSER\tudnlKqEwaqbsFot/aAE/pzw0WAUmKAgsKxMXaxtdaxE9Kxn9KxUmaqgsaqRJaqtrFoEwKqnDKxEs6xRaaZnla9vs6xRpa9vsadUsaqROW9e7EoRpadUsawlGW430DVdd74lR74lC+4kZ74FTWLm/axgmaXF0Mre5pzJZDL9GW430DVdd74lR74lC+4kZ74FTWLm/axgmam==\tmail.naver.com\t/\tSession\t210\t\t\t\t\tMedium\t\n",
    "NID_SES\tAAABkgtRt5HJVHqRvGZzuzbNv1277yQqOBnhugRwFG6U+H3JCiGhAyxG0QhGiq4mXq5o+ClzjnYdhpzDYnXDP2XjlHfvRhVxaHyTF2MWm40KfG7ugQadT4Cd/Z6tUAIuG3GHUjaKwu1/B3Y/kBfJKHg28XNw7lE0cw2XLJtADeVtL/Kg5KGoL4e+OgM14Pd92ORJO78bAu/IeMOJNzIEz8Etu9dTfrjvZw/6QFq+MHAjZd+pFpC4XJwHmpn9yFp+P3ujytDboZfaIv0qSJFFZa7R8lnzGZl8geLLm8dY/sBX6xM8h5pOncvq00pFgEzEUMDjyIZtBVtyO5TykzYYWO05/g/9B9VGVn/XPh45HRYA0LLJh+D0bWcahrkcd/tAJzKSey8nu7SsPw5kDp7L5jjDRVf9UQDABawTlujm0r/BQOqIcqnfg8JxRaIvVkQRfR9B/5q+ASe1ySAfZocdnXakMHebpbkcE+tzF33Eknh4Xeaj+PiCIQ9moNnDP6u5+ZRAcbSKpj3emzvwz9axeie5oCkLKVmN+6Qsf/tY0pJlaRKE\t.naver.com\t/\tSession\t567\t\t\t\t\tMedium\t\n",
    "NID_AUT\tWPplDhbZ7mmWS460SA4yB4v/q2KyjvTYlc0J2s4KDQ1HIesj86w5vxPvXSUuQgEE\t.naver.com\t/\tSession\t71\t✓\t\t\t\tMedium\t\n",
    "nid_slevel\t1\t.nid.naver.com\t/\t2024-03-21T01:45:48.000Z\t11\t\t\t\t\tMedium\t\n",
    "nid_inf\t1265945028\t.naver.com\t/\tSession\t17\t\t\t\t\tMedium\t\n",
    "NNB\t4BJHMVWGK4NGI\t.naver.com\t/\t2024-04-25T02:00:23.093Z\t16\t\t✓\tNone\t\tMedium\t\n",
    "'''\n",
    "\n",
    "for row in c.splitlines()[1:]:\n",
    "#     print(row.split()[1])\n",
    "    n_cookie.set(row.split()[0], row.split()[1])\n",
    "    n_dict[row.split()[0]] = row.split()[1]"
   ]
  },
  {
   "cell_type": "code",
   "execution_count": 95,
   "id": "81bb9ce3",
   "metadata": {},
   "outputs": [
    {
     "data": {
      "text/plain": [
       "(<RequestsCookieJar[Cookie(version=0, name='NID_AUT', value='WPplDhbZ7mmWS460SA4yB4v/q2KyjvTYlc0J2s4KDQ1HIesj86w5vxPvXSUuQgEE', port=None, port_specified=False, domain='', domain_specified=False, domain_initial_dot=False, path='/', path_specified=True, secure=False, expires=None, discard=True, comment=None, comment_url=None, rest={'HttpOnly': None}, rfc2109=False), Cookie(version=0, name='NID_JKL', value='yVFzbJ4fBfHTMJUo/rK+lyM9AQwnn6G5z/0FtNi0HPo=', port=None, port_specified=False, domain='', domain_specified=False, domain_initial_dot=False, path='/', path_specified=True, secure=False, expires=None, discard=True, comment=None, comment_url=None, rest={'HttpOnly': None}, rfc2109=False), Cookie(version=0, name='NID_SES', value='AAABkgtRt5HJVHqRvGZzuzbNv1277yQqOBnhugRwFG6U+H3JCiGhAyxG0QhGiq4mXq5o+ClzjnYdhpzDYnXDP2XjlHfvRhVxaHyTF2MWm40KfG7ugQadT4Cd/Z6tUAIuG3GHUjaKwu1/B3Y/kBfJKHg28XNw7lE0cw2XLJtADeVtL/Kg5KGoL4e+OgM14Pd92ORJO78bAu/IeMOJNzIEz8Etu9dTfrjvZw/6QFq+MHAjZd+pFpC4XJwHmpn9yFp+P3ujytDboZfaIv0qSJFFZa7R8lnzGZl8geLLm8dY/sBX6xM8h5pOncvq00pFgEzEUMDjyIZtBVtyO5TykzYYWO05/g/9B9VGVn/XPh45HRYA0LLJh+D0bWcahrkcd/tAJzKSey8nu7SsPw5kDp7L5jjDRVf9UQDABawTlujm0r/BQOqIcqnfg8JxRaIvVkQRfR9B/5q+ASe1ySAfZocdnXakMHebpbkcE+tzF33Eknh4Xeaj+PiCIQ9moNnDP6u5+ZRAcbSKpj3emzvwz9axeie5oCkLKVmN+6Qsf/tY0pJlaRKE', port=None, port_specified=False, domain='', domain_specified=False, domain_initial_dot=False, path='/', path_specified=True, secure=False, expires=None, discard=True, comment=None, comment_url=None, rest={'HttpOnly': None}, rfc2109=False), Cookie(version=0, name='NMUSER', value='udnlKqEwaqbsFot/aAE/pzw0WAUmKAgsKxMXaxtdaxE9Kxn9KxUmaqgsaqRJaqtrFoEwKqnDKxEs6xRaaZnla9vs6xRpa9vsadUsaqROW9e7EoRpadUsawlGW430DVdd74lR74lC+4kZ74FTWLm/axgmaXF0Mre5pzJZDL9GW430DVdd74lR74lC+4kZ74FTWLm/axgmam==', port=None, port_specified=False, domain='', domain_specified=False, domain_initial_dot=False, path='/', path_specified=True, secure=False, expires=None, discard=True, comment=None, comment_url=None, rest={'HttpOnly': None}, rfc2109=False), Cookie(version=0, name='NNB', value='4BJHMVWGK4NGI', port=None, port_specified=False, domain='', domain_specified=False, domain_initial_dot=False, path='/', path_specified=True, secure=False, expires=None, discard=True, comment=None, comment_url=None, rest={'HttpOnly': None}, rfc2109=False), Cookie(version=0, name='PM_CK_loc', value='0e4209b5e73043f07c041b6f05a1f4740a2388c0fb9e6501a16a7de87d12cc3d', port=None, port_specified=False, domain='', domain_specified=False, domain_initial_dot=False, path='/', path_specified=True, secure=False, expires=None, discard=True, comment=None, comment_url=None, rest={'HttpOnly': None}, rfc2109=False), Cookie(version=0, name='SB_MODE', value='plusdeal', port=None, port_specified=False, domain='', domain_specified=False, domain_initial_dot=False, path='/', path_specified=True, secure=False, expires=None, discard=True, comment=None, comment_url=None, rest={'HttpOnly': None}, rfc2109=False), Cookie(version=0, name='nid_buk', value='QGXJ6M6CHL7GC', port=None, port_specified=False, domain='', domain_specified=False, domain_initial_dot=False, path='/', path_specified=True, secure=False, expires=None, discard=True, comment=None, comment_url=None, rest={'HttpOnly': None}, rfc2109=False), Cookie(version=0, name='nid_inf', value='1265945028', port=None, port_specified=False, domain='', domain_specified=False, domain_initial_dot=False, path='/', path_specified=True, secure=False, expires=None, discard=True, comment=None, comment_url=None, rest={'HttpOnly': None}, rfc2109=False), Cookie(version=0, name='nid_slevel', value='1', port=None, port_specified=False, domain='', domain_specified=False, domain_initial_dot=False, path='/', path_specified=True, secure=False, expires=None, discard=True, comment=None, comment_url=None, rest={'HttpOnly': None}, rfc2109=False)]>,\n",
       " {'nid_buk': 'QGXJ6M6CHL7GC',\n",
       "  'NID_JKL': 'yVFzbJ4fBfHTMJUo/rK+lyM9AQwnn6G5z/0FtNi0HPo=',\n",
       "  'NID_SES': 'AAABkgtRt5HJVHqRvGZzuzbNv1277yQqOBnhugRwFG6U+H3JCiGhAyxG0QhGiq4mXq5o+ClzjnYdhpzDYnXDP2XjlHfvRhVxaHyTF2MWm40KfG7ugQadT4Cd/Z6tUAIuG3GHUjaKwu1/B3Y/kBfJKHg28XNw7lE0cw2XLJtADeVtL/Kg5KGoL4e+OgM14Pd92ORJO78bAu/IeMOJNzIEz8Etu9dTfrjvZw/6QFq+MHAjZd+pFpC4XJwHmpn9yFp+P3ujytDboZfaIv0qSJFFZa7R8lnzGZl8geLLm8dY/sBX6xM8h5pOncvq00pFgEzEUMDjyIZtBVtyO5TykzYYWO05/g/9B9VGVn/XPh45HRYA0LLJh+D0bWcahrkcd/tAJzKSey8nu7SsPw5kDp7L5jjDRVf9UQDABawTlujm0r/BQOqIcqnfg8JxRaIvVkQRfR9B/5q+ASe1ySAfZocdnXakMHebpbkcE+tzF33Eknh4Xeaj+PiCIQ9moNnDP6u5+ZRAcbSKpj3emzvwz9axeie5oCkLKVmN+6Qsf/tY0pJlaRKE',\n",
       "  'NID_AUT': 'WPplDhbZ7mmWS460SA4yB4v/q2KyjvTYlc0J2s4KDQ1HIesj86w5vxPvXSUuQgEE',\n",
       "  'nid_slevel': '1',\n",
       "  'nid_inf': '1265945028',\n",
       "  'NNB': '4BJHMVWGK4NGI',\n",
       "  'SB_MODE': 'plusdeal',\n",
       "  'PM_CK_loc': '0e4209b5e73043f07c041b6f05a1f4740a2388c0fb9e6501a16a7de87d12cc3d',\n",
       "  'NMUSER': 'udnlKqEwaqbsFot/aAE/pzw0WAUmKAgsKxMXaxtdaxE9Kxn9KxUmaqgsaqRJaqtrFoEwKqnDKxEs6xRaaZnla9vs6xRpa9vsadUsaqROW9e7EoRpadUsawlGW430DVdd74lR74lC+4kZ74FTWLm/axgmaXF0Mre5pzJZDL9GW430DVdd74lR74lC+4kZ74FTWLm/axgmam=='})"
      ]
     },
     "execution_count": 95,
     "metadata": {},
     "output_type": "execute_result"
    }
   ],
   "source": [
    "n_cookie, n_dict"
   ]
  },
  {
   "cell_type": "code",
   "execution_count": 96,
   "id": "5f0e0a4f",
   "metadata": {},
   "outputs": [
    {
     "data": {
      "text/plain": [
       "(200,\n",
       " {'Server': 'nginx', 'Content-Type': 'text/html;charset=UTF-8', 'Cache-Control': 'no-cache, no-store, max-age=0, must-revalidate', 'Pragma': 'no-cache', 'Expires': 'Thu, 01 Jan 1970 00:00:00 GMT', 'P3P': 'CP=\"ALL CURa ADMa DEVa TAIa OUR BUS IND PHY ONL UNI PUR FIN COM NAV INT DEM CNT STA POL HEA PRE LOC OTC\"', 'Vary': 'Accept-Encoding', 'Content-Encoding': 'gzip', 'Date': 'Wed, 22 Mar 2023 02:28:48 GMT', 'Content-Length': '895', 'Connection': 'keep-alive', 'Set-Cookie': 'NID_SES=AAABlv5o8Vk3bo/ejVGhN1CSx63ptS1e4F2iEFtF/KdkQMdSQtJIWZ3qVLYDg15TsesYy2ecqwJnRqSdtcNBpupZ+/s99b9O+8HUfYO70ElAc4OVdLcvrvR6f71jfFbVmNZSJepdAthje4g4tLke4cW6bASqeFkXotbm7dPDt6Uz86VIA13z5ZdVK6f8ElBSr8ZPtKffofFeTHGe+NledmVTlVyxMRDZj/BYIiUcICwFL/WAB+g46MRcpq9FIBnbyupbcNM9KbGITrqmP92QQHw9gTUA8FCcYCJmxf4wgzqDIi9MXbLRlQA+puEI+Eso/nvW7f03xinRcdURH4GcB5aNYipVV/1yKrI3UYwzH5uUbnj3LIiOx7mkRknGIDZGbCtCi0eKK+A2P+R7+uy7XOOzZXCVID99FK91XNUEQKWYordVQglWOXjEgCgWfOVec38nptEOxjWzql6VJhLNCPlDCI8ho91fQq4MxFwo99LiPw9zlMwMhnjlUeIWvt1HF0KKmTHP0+qbFHCbys/jZ75lFdmoln4O0EHWk6OgVznvJxoR; path=/; domain=.naver.com'},\n",
       " '<!doctype html><html><head lang=\"ko\"><meta charset=\"UTF-8\"/><meta name=\"viewport\" content=\"width=device-width,initial-scale=1,maximum-scale=1,minimum-scale=1,viewport-fit=cover\"/><title>메일</title><link rel=\"shortcut icon\" sizes=\"192x192\" href=\"https://ssl.pstatic.net/static/pwe/naver_mail/xxxhpdi_192x192.png\"><link rel=\"apple-touch-icon-precomposed\" sizes=\"72x72\" href=\"https://ssl.pstatic.net/static/pwe/naver_mail/hdpi_72X72.png\"><link rel=\"apple-touch-icon-precomposed\" sizes=\"96x96\" href=\"https://ssl.pstatic.net/static/pwe/naver_mail/xhdpi_96x96.png\"><link rel=\"apple-touch-icon-precomposed\" sizes=\"144x144\" href=\"https://ssl.pstatic.net/static/pwe/naver_mail/xxhpdi_144x144.png\"><link rel=\"apple-touch-icon-precomposed\" sizes=\"192x192\" href=\"https://ssl.pstatic.net/static/pwe/naver_mail/xxxhpdi_192x192.png\"><script>window.nhn = {};\\n      window.gnb_option = {\\n        gnb_service: \"mail\",\\n        gnb_template: \"gnb_utf8\",\\n        gnb_logout: \"https://www.naver.com\",\\n        gnb_one_naver: 1,\\n        gnb_item_hide_option: 8,\\n        gnb_one_flat: 1,\\n        gnb_one_pwe: 1\\n      };</script><script src=\"https://ssl.pstatic.net/tveta/libs/glad/prod/gfp-core.js\"></script><script>window.gladsdk = window.gladsdk || { cmd: [] };</script><script async src=\"/builds/v2/libs/jindo.js\"></script><script src=\"/builds/v2/libs/es6-shim.js\"></script><script src=\"/builds/v2/libs/lcslog_v0.14.0.js\"></script><script async src=\"/builds/v2/libs/site-translator_v3.0.6.js\"></script><script async src=\"/builds/v2/libs/nclk_v0.8.1.js\"></script><script id=\"postData\">try {\\n        var __ONEWEB_POST_DATA__ = (POST_DATA);\\n      } catch (e) {\\n        if (typeof __ONEWEB_POST_DATA__ === \\'undefined\\') {\\n          var postDataEl = document.querySelector(\\'#postData\\');\\n          postDataEl.parentNode.removeChild(postDataEl);\\n        }\\n      }</script><link rel=\"stylesheet\" href=\"/builds/v2/css/index.c597651.css\"/><link rel=\"icon\" href=\"/builds/v2/favicon.ico\"><script defer=\"defer\" src=\"/builds/v2/js/runtime.c597651.js\"></script><script defer=\"defer\" src=\"/builds/v2/js/vendor.c597651.js\"></script><script defer=\"defer\" src=\"/builds/v2/js/app.c597651.js\"></script></head><body><div id=\"u_skip\"><a href=\"#content\">본문으로 바로가기</a></div><div id=\"root\"></div><div id=\"layer\"></div><div id=\"toast\"></div></body></html>')"
      ]
     },
     "execution_count": 96,
     "metadata": {},
     "output_type": "execute_result"
    }
   ],
   "source": [
    "resp = get('https://mail.naver.com', cookies=n_dict) # n_cookie 가능\n",
    "resp.status_code, resp.headers, resp.text"
   ]
  },
  {
   "cell_type": "code",
   "execution_count": 97,
   "id": "27ef82db",
   "metadata": {},
   "outputs": [],
   "source": [
    "# 받은 메일함\n",
    "url = 'https://mail.naver.com/json/list'\n",
    "params = {\n",
    "    'folderSN' : 0, # naver의 경우 해당 파라미터의 숫자에 따라 바뀜 0: 받은편지함, 5: 스팸메일함\n",
    "    'page' : 1,\n",
    "    'viewMode' : 'time',\n",
    "    'previewMode' : 1,\n",
    "    'sortField' : 1,\n",
    "    'sortType' : 0,\n",
    "    'u' : 'dlel2000'\n",
    "}"
   ]
  },
  {
   "cell_type": "code",
   "execution_count": 98,
   "id": "42b9a808",
   "metadata": {
    "scrolled": true
   },
   "outputs": [],
   "source": [
    "resp = post(url, params=params, data=params, cookies=n_cookie)"
   ]
  },
  {
   "cell_type": "code",
   "execution_count": 99,
   "id": "0d468694",
   "metadata": {
    "collapsed": true
   },
   "outputs": [
    {
     "data": {
      "text/plain": [
       "{'Server': 'nginx', 'Content-Type': 'text/plain;charset=UTF-8', 'Cache-Control': 'no-cache, no-store, max-age=0, must-revalidate', 'Pragma': 'no-cache', 'Expires': 'Thu, 01 Jan 1970 00:00:00 GMT', 'P3P': 'CP=\"ALL CURa ADMa DEVa TAIa OUR BUS IND PHY ONL UNI PUR FIN COM NAV INT DEM CNT STA POL HEA PRE LOC OTC\"', 'Content-Length': '13966', 'Date': 'Wed, 22 Mar 2023 02:28:49 GMT', 'Connection': 'keep-alive', 'Set-Cookie': 'NID_SES=AAABj2JBRfobDgGk/rp1PLQjBNhy8rYvhyNxWM7EvwmMT7m2mvpLNCS9o+yJ4cGP8qwLj8ojam4kQw4lR5/XdODZw5C3RPQAguTf650SAqBYjlfmiDzyFUCN5VcQx2dMQrwBt5sInPzwc4dmG19xxC44mHX8O+AF0e5it91HPfJBjCGt/j5Ipl4NywUj9zhgTWcUUqWwRfjBFHFwhPCdGdaxLOLXUkE6qUoGCBYuU/pka7Q3+GCFmHM9La7xJD1UjMB+iRhBjoQ+o3yiGF9ufZqd5cRKKH7nbbFXYEKVYnISVIelNJPXl/CU/DGCcV6pNUNM9Kdz1GPQmtG8sC7QVghjhNwCDLtj9YsylMswZjU1vWT/BrljXZIujyvbJIDkA2TrgAqy/TI7pA8ukwLNVIb2efOevAI5JvbPh2f1LgSmzjEzD//peR0wzhq6QJXxroOfy7nxYso/cE4/CY+MqBtNrWInyU4dyvq3pIyDxFCgZQPhnuctx60gnCVENG46Z391uwYCk2VAy6QHXDV/F5cYe4c=; path=/; domain=.naver.com'}"
      ]
     },
     "execution_count": 99,
     "metadata": {},
     "output_type": "execute_result"
    }
   ],
   "source": [
    "resp.headers"
   ]
  },
  {
   "cell_type": "code",
   "execution_count": 100,
   "id": "47fa9165",
   "metadata": {
    "collapsed": true
   },
   "outputs": [
    {
     "data": {
      "text/plain": [
       "('text/plain;charset=UTF-8',\n",
       " '{\"currentTime\":1679452129,\"lastPage\":43,\"Message\":\"\",\"pageSize\":15,\"unreadCount\":6,\"mailData\":[{\"mailSN\":19288,\"folderSN\":0,\"folderName\":null,\"iconType\":0,\"status\":2097152,\"from\":{\"name\":\"진로취업지원센터\",\"email\":\"jobhunter1@hufs.ac.kr\"},\"subject\":\"직무별 자기소개서 컨설팅\",\"receivedTime\":1679448243,\"sentTime\":1679448214,\"size\":4362,\"attachCount\":0,\"iDomainEmail\":\"dlel2000@naver.com\",\"priority\":3,\"securityLevel\":null,\"reSend\":false,\"color\":\"#ffffff\",\"preview\":\"\",\"mimeSN\":\"1679448243.976998.15684.38656\",\"toList\":[{\"name\":\"이승희\",\"email\":\"dlel2000@naver.com\"}],\"spamType\":null,\"attachInfo\":[],\"threadId\":\"<1679448214857.1523515@EMS>\",\"bccList\":[],\"receiveByBcc\":false,\"threadCount\":0,\"unreadThreadCount\":0,\"firstLocatedTime\":1679448243,\"remindAt\":0,\"threadRemindAt\":0,\"threadRemindFlag\":0,\"category\":-1,\"lastLocatedTime\":0,\"toMe\":true,\"bigFile\":false,\"statusHex\":\"200000\",\"isDomainMail\":false,\"oldBigFile\":false},{\"mailSN\":19286,\"folderSN\":0,\"folderName\":null,\"iconType\":0,\"status\":2097152,\"from\":{\"name\":\"인터파크\",\"email\":\"order@interpark.com\"},\"subject\":\"[인터파크] 새로운 기기(브라우저)에서 로그인 되었습니다.\",\"receivedTime\":1679445070,\"sentTime\":1679445070,\"size\":28690,\"attachCount\":0,\"iDomainEmail\":\"dlel2000@naver.com\",\"priority\":3,\"securityLevel\":null,\"reSend\":false,\"color\":\"#ffffff\",\"preview\":\"\",\"mimeSN\":\"1679445070.216165.18654.9984\",\"toList\":[{\"name\":\"\",\"email\":\"dlel2000@naver.com\"}],\"spamType\":null,\"attachInfo\":[],\"threadId\":\"<1679445070211.7f4ba.2471620@crcvmail204.nm>\",\"bccList\":[],\"receiveByBcc\":false,\"threadCount\":0,\"unreadThreadCount\":0,\"firstLocatedTime\":1679445070,\"remindAt\":0,\"threadRemindAt\":0,\"threadRemindFlag\":0,\"category\":214,\"lastLocatedTime\":0,\"toMe\":true,\"bigFile\":false,\"statusHex\":\"200000\",\"isDomainMail\":false,\"oldBigFile\":false},{\"mailSN\":19285,\"folderSN\":0,\"folderName\":null,\"iconType\":0,\"status\":2097152,\"from\":{\"name\":\"대한상공회의소\",\"email\":\"webmaster@korcham.net\"},\"subject\":\"우리 기업의 지식재산권 보호를 위한 설명회 안내\",\"receivedTime\":1679440728,\"sentTime\":1679440009,\"size\":10334,\"attachCount\":0,\"iDomainEmail\":\"dlel2000@naver.com\",\"priority\":3,\"securityLevel\":null,\"reSend\":false,\"color\":\"#ffffff\",\"preview\":\"\",\"mimeSN\":\"1679440728.571937.21028.55040\",\"toList\":[{\"name\":\"이승희\",\"email\":\"dlel2000@naver.com\"}],\"spamType\":null,\"attachInfo\":[],\"threadId\":\"<1679440009496.2605140@IMAS02>\",\"bccList\":[],\"receiveByBcc\":false,\"threadCount\":0,\"unreadThreadCount\":0,\"firstLocatedTime\":1679440728,\"remindAt\":0,\"threadRemindAt\":0,\"threadRemindFlag\":0,\"category\":214,\"lastLocatedTime\":0,\"toMe\":true,\"bigFile\":false,\"statusHex\":\"200000\",\"isDomainMail\":false,\"oldBigFile\":false},{\"mailSN\":19282,\"folderSN\":0,\"folderName\":null,\"iconType\":0,\"status\":5,\"from\":{\"name\":\"지능정보 SW아카데미 [ 공용 / 정보창의교육연구소 ]\",\"email\":\"inisw@korea.ac.kr\"},\"subject\":\"[지능정보 SW아카데미] 3/21 특강 만족도 조사 제출 안내\",\"receivedTime\":1679367237,\"sentTime\":1679367236,\"size\":6610,\"attachCount\":0,\"iDomainEmail\":\"dlel2000@naver.com\",\"priority\":3,\"securityLevel\":null,\"reSend\":false,\"color\":\"#ffffff\",\"preview\":\"\",\"mimeSN\":\"1679367237.748711.17234.50944\",\"toList\":[{\"name\":\"지능정보 SW아카데미 [ 공용 / 정보창의교육연구소 ]\",\"email\":\"inisw@korea.ac.kr\"}],\"spamType\":null,\"attachInfo\":[],\"threadId\":\"<1854865024.82105.2724.1679367166567@hiworksMail>\",\"bccList\":[],\"receiveByBcc\":false,\"threadCount\":0,\"unreadThreadCount\":0,\"firstLocatedTime\":1679367237,\"remindAt\":0,\"threadRemindAt\":0,\"threadRemindFlag\":0,\"category\":-1,\"lastLocatedTime\":0,\"toMe\":false,\"bigFile\":false,\"statusHex\":\"5\",\"isDomainMail\":false,\"oldBigFile\":false},{\"mailSN\":19277,\"folderSN\":0,\"folderName\":null,\"iconType\":0,\"status\":2097157,\"from\":{\"name\":\"류경민 (Google Drive에서 공유)\",\"email\":\"drive-shares-noreply@google.com\"},\"subject\":\"&quot;2023-03-20 09-06-04.mkv&quot; 항목이 나와 공유되었습니다\",\"receivedTime\":1679313872,\"sentTime\":1679313870,\"size\":13056,\"attachCount\":0,\"iDomainEmail\":\"dlel2000@naver.com\",\"priority\":3,\"securityLevel\":null,\"reSend\":false,\"color\":\"#ffffff\",\"preview\":\"\",\"mimeSN\":\"1679313872.893672.63119.14080\",\"toList\":[{\"name\":\"\",\"email\":\"dlel2000@naver.com\"}],\"spamType\":null,\"attachInfo\":[],\"threadId\":\"<24362c84-15b3-4af3-88e4-c12d42e99198@docs-share.google.com>\",\"bccList\":[],\"receiveByBcc\":false,\"threadCount\":0,\"unreadThreadCount\":0,\"firstLocatedTime\":1679313872,\"remindAt\":0,\"threadRemindAt\":0,\"threadRemindFlag\":0,\"category\":-1,\"lastLocatedTime\":0,\"toMe\":true,\"bigFile\":false,\"statusHex\":\"200005\",\"isDomainMail\":false,\"oldBigFile\":false},{\"mailSN\":19271,\"folderSN\":0,\"folderName\":null,\"iconType\":0,\"status\":2097157,\"from\":{\"name\":\"Microsoft 계정 팀\",\"email\":\"account-security-noreply@accountprotection.microsoft.com\"},\"subject\":\"새 앱이 Microsoft 계정에 연결되었습니다.\",\"receivedTime\":1679144176,\"sentTime\":1679144172,\"size\":11373,\"attachCount\":0,\"iDomainEmail\":\"dlel2000@naver.com\",\"priority\":3,\"securityLevel\":null,\"reSend\":false,\"color\":\"#ffffff\",\"preview\":\"\",\"mimeSN\":\"1679144176.451656.17754.22272\",\"toList\":[{\"name\":\"\",\"email\":\"dlel2000@naver.com\"}],\"spamType\":null,\"attachInfo\":[],\"threadId\":\"<2QH8M4DAGJU4.3ICC3EFH6PJD3@BY1PEPF00001B90>\",\"bccList\":[],\"receiveByBcc\":false,\"threadCount\":0,\"unreadThreadCount\":0,\"firstLocatedTime\":1679144176,\"remindAt\":0,\"threadRemindAt\":0,\"threadRemindFlag\":0,\"category\":214,\"lastLocatedTime\":0,\"toMe\":true,\"bigFile\":false,\"statusHex\":\"200005\",\"isDomainMail\":false,\"oldBigFile\":false},{\"mailSN\":19267,\"folderSN\":0,\"folderName\":null,\"iconType\":0,\"status\":2097157,\"from\":{\"name\":\"데이터온에어 \",\"email\":\"dataonair@kdata.or.kr\"},\"subject\":\"[K-DATA] 2023년도 DATA-Stars&amp;Global 사업 공모 안내(~4.14.)\",\"receivedTime\":1679035123,\"sentTime\":1679035123,\"size\":3764,\"attachCount\":0,\"iDomainEmail\":\"dlel2000@naver.com\",\"priority\":3,\"securityLevel\":null,\"reSend\":false,\"color\":\"#ffffff\",\"preview\":\"\",\"mimeSN\":\"1679035123.371243.20536.50944\",\"toList\":[{\"name\":\"\",\"email\":\"dlel2000@naver.com\"}],\"spamType\":null,\"attachInfo\":[],\"threadId\":\"<186ee4ac6963fd90613953bf@ems.kdata.or.kr>\",\"bccList\":[],\"receiveByBcc\":false,\"threadCount\":0,\"unreadThreadCount\":0,\"firstLocatedTime\":1679035123,\"remindAt\":0,\"threadRemindAt\":0,\"threadRemindFlag\":0,\"category\":214,\"lastLocatedTime\":0,\"toMe\":true,\"bigFile\":false,\"statusHex\":\"200005\",\"isDomainMail\":false,\"oldBigFile\":false},{\"mailSN\":19263,\"folderSN\":0,\"folderName\":null,\"iconType\":0,\"status\":2097153,\"from\":{\"name\":\"James Clear\",\"email\":\"james@jamesclear.com\"},\"subject\":\"3-2-1: Focus, self care, and making better decisions\",\"receivedTime\":1678992892,\"sentTime\":1678992889,\"size\":61938,\"attachCount\":0,\"iDomainEmail\":\"dlel2000@naver.com\",\"priority\":3,\"securityLevel\":null,\"reSend\":false,\"color\":\"#ffffff\",\"preview\":\"\",\"mimeSN\":\"1678992892.624970.7969.59136\",\"toList\":[{\"name\":\"\",\"email\":\"dlel2000@naver.com\"}],\"spamType\":null,\"attachInfo\":[],\"threadId\":\"<d0udm9ekrxt0h4q4rnwcx@convertkit-mail4.com>\",\"bccList\":[],\"receiveByBcc\":false,\"threadCount\":0,\"unreadThreadCount\":0,\"firstLocatedTime\":1678992892,\"remindAt\":0,\"threadRemindAt\":0,\"threadRemindFlag\":0,\"category\":-1,\"lastLocatedTime\":0,\"toMe\":true,\"bigFile\":false,\"statusHex\":\"200001\",\"isDomainMail\":false,\"oldBigFile\":false},{\"mailSN\":19261,\"folderSN\":0,\"folderName\":null,\"iconType\":0,\"status\":5,\"from\":{\"name\":\"지능정보 SW아카데미 [ 공용 / 정보창의교육연구소 ]\",\"email\":\"inisw@korea.ac.kr\"},\"subject\":\"[지능정보 SW아카데미] 도서 신청 안내 (3/20, 14시까지)\",\"receivedTime\":1678951884,\"sentTime\":1678951882,\"size\":138861,\"attachCount\":1,\"iDomainEmail\":\"dlel2000@naver.com\",\"priority\":3,\"securityLevel\":null,\"reSend\":false,\"color\":\"#ffffff\",\"preview\":\"\",\"mimeSN\":\"1678951884.515671.15204.34560\",\"toList\":[{\"name\":\"지능정보 SW아카데미 [ 공용 / 정보창의교육연구소 ]\",\"email\":\"inisw@korea.ac.kr\"}],\"spamType\":null,\"attachInfo\":[],\"threadId\":\"<748588261.67788.2724.1678951479466@hiworksMail>\",\"bccList\":[],\"receiveByBcc\":false,\"threadCount\":0,\"unreadThreadCount\":0,\"firstLocatedTime\":1678951884,\"remindAt\":0,\"threadRemindAt\":0,\"threadRemindFlag\":0,\"category\":-1,\"lastLocatedTime\":0,\"toMe\":false,\"bigFile\":false,\"statusHex\":\"5\",\"isDomainMail\":false,\"oldBigFile\":false},{\"mailSN\":19249,\"folderSN\":0,\"folderName\":null,\"iconType\":0,\"status\":5,\"from\":{\"name\":\"지능정보 SW아카데미 [ 공용 / 정보창의교육연구소 ]\",\"email\":\"inisw@korea.ac.kr\"},\"subject\":\"[지능정보 SW아카데미] 3/14 특강 만족도 조사 제출 안내\",\"receivedTime\":1678761483,\"sentTime\":1678761481,\"size\":8793,\"attachCount\":0,\"iDomainEmail\":\"dlel2000@naver.com\",\"priority\":3,\"securityLevel\":null,\"reSend\":false,\"color\":\"#ffffff\",\"preview\":\"\",\"mimeSN\":\"1678761483.168118.8518.5888\",\"toList\":[{\"name\":\"지능정보 SW아카데미 [ 공용 / 정보창의교육연구소 ]\",\"email\":\"inisw@korea.ac.kr\"}],\"spamType\":null,\"attachInfo\":[],\"threadId\":\"<377265531.51227.2724.1678761305980@hiworksMail>\",\"bccList\":[],\"receiveByBcc\":false,\"threadCount\":0,\"unreadThreadCount\":0,\"firstLocatedTime\":1678761483,\"remindAt\":0,\"threadRemindAt\":0,\"threadRemindFlag\":0,\"category\":-1,\"lastLocatedTime\":0,\"toMe\":false,\"bigFile\":false,\"statusHex\":\"5\",\"isDomainMail\":false,\"oldBigFile\":false},{\"mailSN\":19246,\"folderSN\":0,\"folderName\":null,\"iconType\":0,\"status\":5,\"from\":{\"name\":\"지능정보 SW아카데미 [ 공용 / 정보창의교육연구소 ]\",\"email\":\"inisw@korea.ac.kr\"},\"subject\":\"3/14(화) 지능정보 SW아카데미 특강자료\",\"receivedTime\":1678752283,\"sentTime\":1678752270,\"size\":10327836,\"attachCount\":3,\"iDomainEmail\":\"dlel2000@naver.com\",\"priority\":3,\"securityLevel\":null,\"reSend\":false,\"color\":\"#ffffff\",\"preview\":\"\",\"mimeSN\":\"1678752285.342550.17234.22272\",\"toList\":[{\"name\":\"지능정보 SW아카데미 [ 공용 / 정보창의교육연구소 ]\",\"email\":\"inisw@korea.ac.kr\"}],\"spamType\":null,\"attachInfo\":[],\"threadId\":\"<302181742.49528.2724.1678752199198@hiworksMail>\",\"bccList\":[],\"receiveByBcc\":false,\"threadCount\":0,\"unreadThreadCount\":0,\"firstLocatedTime\":1678752283,\"remindAt\":0,\"threadRemindAt\":0,\"threadRemindFlag\":0,\"category\":-1,\"lastLocatedTime\":0,\"toMe\":false,\"bigFile\":false,\"statusHex\":\"5\",\"isDomainMail\":false,\"oldBigFile\":false},{\"mailSN\":19227,\"folderSN\":0,\"folderName\":null,\"iconType\":0,\"status\":2097157,\"from\":{\"name\":\"James Clear\",\"email\":\"james@jamesclear.com\"},\"subject\":\"3-2-1: Magical outcomes, being bold, and the persistence of nature\",\"receivedTime\":1678388307,\"sentTime\":1678388304,\"size\":61591,\"attachCount\":0,\"iDomainEmail\":\"dlel2000@naver.com\",\"priority\":3,\"securityLevel\":null,\"reSend\":false,\"color\":\"#ffffff\",\"preview\":\"\",\"mimeSN\":\"1678388307.182649.40987.30464\",\"toList\":[{\"name\":\"\",\"email\":\"dlel2000@naver.com\"}],\"spamType\":null,\"attachInfo\":[],\"threadId\":\"<xmun6mpl5gc6hr74orqbp@convertkit-mail4.com>\",\"bccList\":[],\"receiveByBcc\":false,\"threadCount\":0,\"unreadThreadCount\":0,\"firstLocatedTime\":1678388307,\"remindAt\":0,\"threadRemindAt\":0,\"threadRemindFlag\":0,\"category\":-1,\"lastLocatedTime\":0,\"toMe\":true,\"bigFile\":false,\"statusHex\":\"200005\",\"isDomainMail\":false,\"oldBigFile\":false},{\"mailSN\":19216,\"folderSN\":0,\"folderName\":null,\"iconType\":0,\"status\":2097157,\"from\":{\"name\":\"데이터에듀\",\"email\":\"ebiz@dataedu.co.kr\"},\"subject\":\"(광고) 나는 ADsP 길을 간다★ 3월에 따기 좋은 자격증 TOP 3는?\",\"receivedTime\":1678251811,\"sentTime\":1678251811,\"size\":6622,\"attachCount\":0,\"iDomainEmail\":\"dlel2000@naver.com\",\"priority\":3,\"securityLevel\":null,\"reSend\":false,\"color\":\"#ffffff\",\"preview\":\"\",\"mimeSN\":\"1678251811.391026.23349.9984\",\"toList\":[{\"name\":\"이승희\",\"email\":\"dlel2000@naver.com\"}],\"spamType\":null,\"attachInfo\":[],\"threadId\":\"<202303081403311198@send48.postman.co.kr>\",\"bccList\":[],\"receiveByBcc\":false,\"threadCount\":0,\"unreadThreadCount\":0,\"firstLocatedTime\":1678251811,\"remindAt\":0,\"threadRemindAt\":0,\"threadRemindFlag\":0,\"category\":-1,\"lastLocatedTime\":0,\"toMe\":true,\"bigFile\":false,\"statusHex\":\"200005\",\"isDomainMail\":false,\"oldBigFile\":false},{\"mailSN\":19212,\"folderSN\":0,\"folderName\":null,\"iconType\":0,\"status\":5,\"from\":{\"name\":\"이영미\",\"email\":\"dudal7029@korcham.net\"},\"subject\":\"[대한상공회의소]  SK플래닛 T Academy 1기 수강평 입력 안내 \",\"receivedTime\":1678240349,\"sentTime\":1678240347,\"size\":558090,\"attachCount\":1,\"iDomainEmail\":\"dlel2000@naver.com\",\"priority\":3,\"securityLevel\":null,\"reSend\":false,\"color\":\"#ffffff\",\"preview\":\"\",\"mimeSN\":\"1678240349.918384.23720.1792\",\"toList\":[{\"name\":\"이영미\",\"email\":\"dudal7029@korcham.net\"}],\"spamType\":null,\"attachInfo\":[],\"threadId\":\"<cf5c01e39f3e4371ab8d31c6b3e4c87a@ex2013-1.korcham.org>\",\"bccList\":[],\"receiveByBcc\":false,\"threadCount\":0,\"unreadThreadCount\":0,\"firstLocatedTime\":1678240349,\"remindAt\":0,\"threadRemindAt\":0,\"threadRemindFlag\":0,\"category\":-1,\"lastLocatedTime\":0,\"toMe\":false,\"bigFile\":false,\"statusHex\":\"5\",\"isDomainMail\":false,\"oldBigFile\":false},{\"mailSN\":19205,\"folderSN\":0,\"folderName\":null,\"iconType\":0,\"status\":5,\"from\":{\"name\":\"지능정보 SW아카데미 [ 공용 / 정보창의교육연구소 ]\",\"email\":\"inisw@korea.ac.kr\"},\"subject\":\"[고려대학교 지능정보 SW아카데미] SW역량평가 성명 작성 요청\",\"receivedTime\":1678168366,\"sentTime\":1678168364,\"size\":8260,\"attachCount\":0,\"iDomainEmail\":\"dlel2000@naver.com\",\"priority\":3,\"securityLevel\":null,\"reSend\":false,\"color\":\"#ffffff\",\"preview\":\"\",\"mimeSN\":\"1678168366.498350.2274.26368\",\"toList\":[{\"name\":\"지능정보 SW아카데미 [ 공용 / 정보창의교육연구소 ]\",\"email\":\"inisw@korea.ac.kr\"}],\"spamType\":null,\"attachInfo\":[],\"threadId\":\"<178752835.20410.2724.1678166065930@hiworksMail>\",\"bccList\":[],\"receiveByBcc\":false,\"threadCount\":0,\"unreadThreadCount\":0,\"firstLocatedTime\":1678168366,\"remindAt\":0,\"threadRemindAt\":0,\"threadRemindFlag\":0,\"category\":-1,\"lastLocatedTime\":0,\"toMe\":false,\"bigFile\":false,\"statusHex\":\"5\",\"isDomainMail\":false,\"oldBigFile\":false}],\"folderName\":\"받은메일함\",\"totalCount\":636,\"listCount\":15,\"Result\":\"OK\"}')"
      ]
     },
     "execution_count": 100,
     "metadata": {},
     "output_type": "execute_result"
    }
   ],
   "source": [
    "resp.headers['content-type'], resp.text"
   ]
  },
  {
   "cell_type": "code",
   "execution_count": 101,
   "id": "4639ff9b",
   "metadata": {},
   "outputs": [],
   "source": [
    "mailData = resp.json()"
   ]
  },
  {
   "cell_type": "code",
   "execution_count": 102,
   "id": "e7ab5d75",
   "metadata": {},
   "outputs": [
    {
     "name": "stdout",
     "output_type": "stream",
     "text": [
      "직무별 자기소개서 컨설팅\n",
      "[인터파크] 새로운 기기(브라우저)에서 로그인 되었습니다.\n",
      "우리 기업의 지식재산권 보호를 위한 설명회 안내\n",
      "[지능정보 SW아카데미] 3/21 특강 만족도 조사 제출 안내\n",
      "&quot;2023-03-20 09-06-04.mkv&quot; 항목이 나와 공유되었습니다\n",
      "새 앱이 Microsoft 계정에 연결되었습니다.\n",
      "[K-DATA] 2023년도 DATA-Stars&amp;Global 사업 공모 안내(~4.14.)\n",
      "3-2-1: Focus, self care, and making better decisions\n",
      "[지능정보 SW아카데미] 도서 신청 안내 (3/20, 14시까지)\n",
      "[지능정보 SW아카데미] 3/14 특강 만족도 조사 제출 안내\n",
      "3/14(화) 지능정보 SW아카데미 특강자료\n",
      "3-2-1: Magical outcomes, being bold, and the persistence of nature\n",
      "(광고) 나는 ADsP 길을 간다★ 3월에 따기 좋은 자격증 TOP 3는?\n",
      "[대한상공회의소]  SK플래닛 T Academy 1기 수강평 입력 안내 \n",
      "[고려대학교 지능정보 SW아카데미] SW역량평가 성명 작성 요청\n"
     ]
    }
   ],
   "source": [
    "for mail in mailData['mailData']:\n",
    "    print(mail['subject'])"
   ]
  },
  {
   "cell_type": "code",
   "execution_count": 103,
   "id": "405cb681",
   "metadata": {},
   "outputs": [],
   "source": [
    "session.cookies = n_cookie"
   ]
  },
  {
   "cell_type": "code",
   "execution_count": 104,
   "id": "a06c28ee",
   "metadata": {},
   "outputs": [],
   "source": [
    "resp = session.post(url, params=params, data=params)"
   ]
  },
  {
   "cell_type": "code",
   "execution_count": 105,
   "id": "a69e9c28",
   "metadata": {},
   "outputs": [
    {
     "data": {
      "text/plain": [
       "{'currentTime': 1679452153,\n",
       " 'lastPage': 43,\n",
       " 'Message': '',\n",
       " 'pageSize': 15,\n",
       " 'unreadCount': 6,\n",
       " 'mailData': [{'mailSN': 19288,\n",
       "   'folderSN': 0,\n",
       "   'folderName': None,\n",
       "   'iconType': 0,\n",
       "   'status': 2097152,\n",
       "   'from': {'name': '진로취업지원센터', 'email': 'jobhunter1@hufs.ac.kr'},\n",
       "   'subject': '직무별 자기소개서 컨설팅',\n",
       "   'receivedTime': 1679448243,\n",
       "   'sentTime': 1679448214,\n",
       "   'size': 4362,\n",
       "   'attachCount': 0,\n",
       "   'iDomainEmail': 'dlel2000@naver.com',\n",
       "   'priority': 3,\n",
       "   'securityLevel': None,\n",
       "   'reSend': False,\n",
       "   'color': '#ffffff',\n",
       "   'preview': '',\n",
       "   'mimeSN': '1679448243.976998.15684.38656',\n",
       "   'toList': [{'name': '이승희', 'email': 'dlel2000@naver.com'}],\n",
       "   'spamType': None,\n",
       "   'attachInfo': [],\n",
       "   'threadId': '<1679448214857.1523515@EMS>',\n",
       "   'bccList': [],\n",
       "   'receiveByBcc': False,\n",
       "   'threadCount': 0,\n",
       "   'unreadThreadCount': 0,\n",
       "   'firstLocatedTime': 1679448243,\n",
       "   'remindAt': 0,\n",
       "   'threadRemindAt': 0,\n",
       "   'threadRemindFlag': 0,\n",
       "   'category': -1,\n",
       "   'lastLocatedTime': 0,\n",
       "   'toMe': True,\n",
       "   'bigFile': False,\n",
       "   'statusHex': '200000',\n",
       "   'isDomainMail': False,\n",
       "   'oldBigFile': False},\n",
       "  {'mailSN': 19286,\n",
       "   'folderSN': 0,\n",
       "   'folderName': None,\n",
       "   'iconType': 0,\n",
       "   'status': 2097152,\n",
       "   'from': {'name': '인터파크', 'email': 'order@interpark.com'},\n",
       "   'subject': '[인터파크] 새로운 기기(브라우저)에서 로그인 되었습니다.',\n",
       "   'receivedTime': 1679445070,\n",
       "   'sentTime': 1679445070,\n",
       "   'size': 28690,\n",
       "   'attachCount': 0,\n",
       "   'iDomainEmail': 'dlel2000@naver.com',\n",
       "   'priority': 3,\n",
       "   'securityLevel': None,\n",
       "   'reSend': False,\n",
       "   'color': '#ffffff',\n",
       "   'preview': '',\n",
       "   'mimeSN': '1679445070.216165.18654.9984',\n",
       "   'toList': [{'name': '', 'email': 'dlel2000@naver.com'}],\n",
       "   'spamType': None,\n",
       "   'attachInfo': [],\n",
       "   'threadId': '<1679445070211.7f4ba.2471620@crcvmail204.nm>',\n",
       "   'bccList': [],\n",
       "   'receiveByBcc': False,\n",
       "   'threadCount': 0,\n",
       "   'unreadThreadCount': 0,\n",
       "   'firstLocatedTime': 1679445070,\n",
       "   'remindAt': 0,\n",
       "   'threadRemindAt': 0,\n",
       "   'threadRemindFlag': 0,\n",
       "   'category': 214,\n",
       "   'lastLocatedTime': 0,\n",
       "   'toMe': True,\n",
       "   'bigFile': False,\n",
       "   'statusHex': '200000',\n",
       "   'isDomainMail': False,\n",
       "   'oldBigFile': False},\n",
       "  {'mailSN': 19285,\n",
       "   'folderSN': 0,\n",
       "   'folderName': None,\n",
       "   'iconType': 0,\n",
       "   'status': 2097152,\n",
       "   'from': {'name': '대한상공회의소', 'email': 'webmaster@korcham.net'},\n",
       "   'subject': '우리 기업의 지식재산권 보호를 위한 설명회 안내',\n",
       "   'receivedTime': 1679440728,\n",
       "   'sentTime': 1679440009,\n",
       "   'size': 10334,\n",
       "   'attachCount': 0,\n",
       "   'iDomainEmail': 'dlel2000@naver.com',\n",
       "   'priority': 3,\n",
       "   'securityLevel': None,\n",
       "   'reSend': False,\n",
       "   'color': '#ffffff',\n",
       "   'preview': '',\n",
       "   'mimeSN': '1679440728.571937.21028.55040',\n",
       "   'toList': [{'name': '이승희', 'email': 'dlel2000@naver.com'}],\n",
       "   'spamType': None,\n",
       "   'attachInfo': [],\n",
       "   'threadId': '<1679440009496.2605140@IMAS02>',\n",
       "   'bccList': [],\n",
       "   'receiveByBcc': False,\n",
       "   'threadCount': 0,\n",
       "   'unreadThreadCount': 0,\n",
       "   'firstLocatedTime': 1679440728,\n",
       "   'remindAt': 0,\n",
       "   'threadRemindAt': 0,\n",
       "   'threadRemindFlag': 0,\n",
       "   'category': 214,\n",
       "   'lastLocatedTime': 0,\n",
       "   'toMe': True,\n",
       "   'bigFile': False,\n",
       "   'statusHex': '200000',\n",
       "   'isDomainMail': False,\n",
       "   'oldBigFile': False},\n",
       "  {'mailSN': 19282,\n",
       "   'folderSN': 0,\n",
       "   'folderName': None,\n",
       "   'iconType': 0,\n",
       "   'status': 5,\n",
       "   'from': {'name': '지능정보 SW아카데미 [ 공용 / 정보창의교육연구소 ]',\n",
       "    'email': 'inisw@korea.ac.kr'},\n",
       "   'subject': '[지능정보 SW아카데미] 3/21 특강 만족도 조사 제출 안내',\n",
       "   'receivedTime': 1679367237,\n",
       "   'sentTime': 1679367236,\n",
       "   'size': 6610,\n",
       "   'attachCount': 0,\n",
       "   'iDomainEmail': 'dlel2000@naver.com',\n",
       "   'priority': 3,\n",
       "   'securityLevel': None,\n",
       "   'reSend': False,\n",
       "   'color': '#ffffff',\n",
       "   'preview': '',\n",
       "   'mimeSN': '1679367237.748711.17234.50944',\n",
       "   'toList': [{'name': '지능정보 SW아카데미 [ 공용 / 정보창의교육연구소 ]',\n",
       "     'email': 'inisw@korea.ac.kr'}],\n",
       "   'spamType': None,\n",
       "   'attachInfo': [],\n",
       "   'threadId': '<1854865024.82105.2724.1679367166567@hiworksMail>',\n",
       "   'bccList': [],\n",
       "   'receiveByBcc': False,\n",
       "   'threadCount': 0,\n",
       "   'unreadThreadCount': 0,\n",
       "   'firstLocatedTime': 1679367237,\n",
       "   'remindAt': 0,\n",
       "   'threadRemindAt': 0,\n",
       "   'threadRemindFlag': 0,\n",
       "   'category': -1,\n",
       "   'lastLocatedTime': 0,\n",
       "   'toMe': False,\n",
       "   'bigFile': False,\n",
       "   'statusHex': '5',\n",
       "   'isDomainMail': False,\n",
       "   'oldBigFile': False},\n",
       "  {'mailSN': 19277,\n",
       "   'folderSN': 0,\n",
       "   'folderName': None,\n",
       "   'iconType': 0,\n",
       "   'status': 2097157,\n",
       "   'from': {'name': '류경민 (Google Drive에서 공유)',\n",
       "    'email': 'drive-shares-noreply@google.com'},\n",
       "   'subject': '&quot;2023-03-20 09-06-04.mkv&quot; 항목이 나와 공유되었습니다',\n",
       "   'receivedTime': 1679313872,\n",
       "   'sentTime': 1679313870,\n",
       "   'size': 13056,\n",
       "   'attachCount': 0,\n",
       "   'iDomainEmail': 'dlel2000@naver.com',\n",
       "   'priority': 3,\n",
       "   'securityLevel': None,\n",
       "   'reSend': False,\n",
       "   'color': '#ffffff',\n",
       "   'preview': '',\n",
       "   'mimeSN': '1679313872.893672.63119.14080',\n",
       "   'toList': [{'name': '', 'email': 'dlel2000@naver.com'}],\n",
       "   'spamType': None,\n",
       "   'attachInfo': [],\n",
       "   'threadId': '<24362c84-15b3-4af3-88e4-c12d42e99198@docs-share.google.com>',\n",
       "   'bccList': [],\n",
       "   'receiveByBcc': False,\n",
       "   'threadCount': 0,\n",
       "   'unreadThreadCount': 0,\n",
       "   'firstLocatedTime': 1679313872,\n",
       "   'remindAt': 0,\n",
       "   'threadRemindAt': 0,\n",
       "   'threadRemindFlag': 0,\n",
       "   'category': -1,\n",
       "   'lastLocatedTime': 0,\n",
       "   'toMe': True,\n",
       "   'bigFile': False,\n",
       "   'statusHex': '200005',\n",
       "   'isDomainMail': False,\n",
       "   'oldBigFile': False},\n",
       "  {'mailSN': 19271,\n",
       "   'folderSN': 0,\n",
       "   'folderName': None,\n",
       "   'iconType': 0,\n",
       "   'status': 2097157,\n",
       "   'from': {'name': 'Microsoft 계정 팀',\n",
       "    'email': 'account-security-noreply@accountprotection.microsoft.com'},\n",
       "   'subject': '새 앱이 Microsoft 계정에 연결되었습니다.',\n",
       "   'receivedTime': 1679144176,\n",
       "   'sentTime': 1679144172,\n",
       "   'size': 11373,\n",
       "   'attachCount': 0,\n",
       "   'iDomainEmail': 'dlel2000@naver.com',\n",
       "   'priority': 3,\n",
       "   'securityLevel': None,\n",
       "   'reSend': False,\n",
       "   'color': '#ffffff',\n",
       "   'preview': '',\n",
       "   'mimeSN': '1679144176.451656.17754.22272',\n",
       "   'toList': [{'name': '', 'email': 'dlel2000@naver.com'}],\n",
       "   'spamType': None,\n",
       "   'attachInfo': [],\n",
       "   'threadId': '<2QH8M4DAGJU4.3ICC3EFH6PJD3@BY1PEPF00001B90>',\n",
       "   'bccList': [],\n",
       "   'receiveByBcc': False,\n",
       "   'threadCount': 0,\n",
       "   'unreadThreadCount': 0,\n",
       "   'firstLocatedTime': 1679144176,\n",
       "   'remindAt': 0,\n",
       "   'threadRemindAt': 0,\n",
       "   'threadRemindFlag': 0,\n",
       "   'category': 214,\n",
       "   'lastLocatedTime': 0,\n",
       "   'toMe': True,\n",
       "   'bigFile': False,\n",
       "   'statusHex': '200005',\n",
       "   'isDomainMail': False,\n",
       "   'oldBigFile': False},\n",
       "  {'mailSN': 19267,\n",
       "   'folderSN': 0,\n",
       "   'folderName': None,\n",
       "   'iconType': 0,\n",
       "   'status': 2097157,\n",
       "   'from': {'name': '데이터온에어 ', 'email': 'dataonair@kdata.or.kr'},\n",
       "   'subject': '[K-DATA] 2023년도 DATA-Stars&amp;Global 사업 공모 안내(~4.14.)',\n",
       "   'receivedTime': 1679035123,\n",
       "   'sentTime': 1679035123,\n",
       "   'size': 3764,\n",
       "   'attachCount': 0,\n",
       "   'iDomainEmail': 'dlel2000@naver.com',\n",
       "   'priority': 3,\n",
       "   'securityLevel': None,\n",
       "   'reSend': False,\n",
       "   'color': '#ffffff',\n",
       "   'preview': '',\n",
       "   'mimeSN': '1679035123.371243.20536.50944',\n",
       "   'toList': [{'name': '', 'email': 'dlel2000@naver.com'}],\n",
       "   'spamType': None,\n",
       "   'attachInfo': [],\n",
       "   'threadId': '<186ee4ac6963fd90613953bf@ems.kdata.or.kr>',\n",
       "   'bccList': [],\n",
       "   'receiveByBcc': False,\n",
       "   'threadCount': 0,\n",
       "   'unreadThreadCount': 0,\n",
       "   'firstLocatedTime': 1679035123,\n",
       "   'remindAt': 0,\n",
       "   'threadRemindAt': 0,\n",
       "   'threadRemindFlag': 0,\n",
       "   'category': 214,\n",
       "   'lastLocatedTime': 0,\n",
       "   'toMe': True,\n",
       "   'bigFile': False,\n",
       "   'statusHex': '200005',\n",
       "   'isDomainMail': False,\n",
       "   'oldBigFile': False},\n",
       "  {'mailSN': 19263,\n",
       "   'folderSN': 0,\n",
       "   'folderName': None,\n",
       "   'iconType': 0,\n",
       "   'status': 2097153,\n",
       "   'from': {'name': 'James Clear', 'email': 'james@jamesclear.com'},\n",
       "   'subject': '3-2-1: Focus, self care, and making better decisions',\n",
       "   'receivedTime': 1678992892,\n",
       "   'sentTime': 1678992889,\n",
       "   'size': 61938,\n",
       "   'attachCount': 0,\n",
       "   'iDomainEmail': 'dlel2000@naver.com',\n",
       "   'priority': 3,\n",
       "   'securityLevel': None,\n",
       "   'reSend': False,\n",
       "   'color': '#ffffff',\n",
       "   'preview': '',\n",
       "   'mimeSN': '1678992892.624970.7969.59136',\n",
       "   'toList': [{'name': '', 'email': 'dlel2000@naver.com'}],\n",
       "   'spamType': None,\n",
       "   'attachInfo': [],\n",
       "   'threadId': '<d0udm9ekrxt0h4q4rnwcx@convertkit-mail4.com>',\n",
       "   'bccList': [],\n",
       "   'receiveByBcc': False,\n",
       "   'threadCount': 0,\n",
       "   'unreadThreadCount': 0,\n",
       "   'firstLocatedTime': 1678992892,\n",
       "   'remindAt': 0,\n",
       "   'threadRemindAt': 0,\n",
       "   'threadRemindFlag': 0,\n",
       "   'category': -1,\n",
       "   'lastLocatedTime': 0,\n",
       "   'toMe': True,\n",
       "   'bigFile': False,\n",
       "   'statusHex': '200001',\n",
       "   'isDomainMail': False,\n",
       "   'oldBigFile': False},\n",
       "  {'mailSN': 19261,\n",
       "   'folderSN': 0,\n",
       "   'folderName': None,\n",
       "   'iconType': 0,\n",
       "   'status': 5,\n",
       "   'from': {'name': '지능정보 SW아카데미 [ 공용 / 정보창의교육연구소 ]',\n",
       "    'email': 'inisw@korea.ac.kr'},\n",
       "   'subject': '[지능정보 SW아카데미] 도서 신청 안내 (3/20, 14시까지)',\n",
       "   'receivedTime': 1678951884,\n",
       "   'sentTime': 1678951882,\n",
       "   'size': 138861,\n",
       "   'attachCount': 1,\n",
       "   'iDomainEmail': 'dlel2000@naver.com',\n",
       "   'priority': 3,\n",
       "   'securityLevel': None,\n",
       "   'reSend': False,\n",
       "   'color': '#ffffff',\n",
       "   'preview': '',\n",
       "   'mimeSN': '1678951884.515671.15204.34560',\n",
       "   'toList': [{'name': '지능정보 SW아카데미 [ 공용 / 정보창의교육연구소 ]',\n",
       "     'email': 'inisw@korea.ac.kr'}],\n",
       "   'spamType': None,\n",
       "   'attachInfo': [],\n",
       "   'threadId': '<748588261.67788.2724.1678951479466@hiworksMail>',\n",
       "   'bccList': [],\n",
       "   'receiveByBcc': False,\n",
       "   'threadCount': 0,\n",
       "   'unreadThreadCount': 0,\n",
       "   'firstLocatedTime': 1678951884,\n",
       "   'remindAt': 0,\n",
       "   'threadRemindAt': 0,\n",
       "   'threadRemindFlag': 0,\n",
       "   'category': -1,\n",
       "   'lastLocatedTime': 0,\n",
       "   'toMe': False,\n",
       "   'bigFile': False,\n",
       "   'statusHex': '5',\n",
       "   'isDomainMail': False,\n",
       "   'oldBigFile': False},\n",
       "  {'mailSN': 19249,\n",
       "   'folderSN': 0,\n",
       "   'folderName': None,\n",
       "   'iconType': 0,\n",
       "   'status': 5,\n",
       "   'from': {'name': '지능정보 SW아카데미 [ 공용 / 정보창의교육연구소 ]',\n",
       "    'email': 'inisw@korea.ac.kr'},\n",
       "   'subject': '[지능정보 SW아카데미] 3/14 특강 만족도 조사 제출 안내',\n",
       "   'receivedTime': 1678761483,\n",
       "   'sentTime': 1678761481,\n",
       "   'size': 8793,\n",
       "   'attachCount': 0,\n",
       "   'iDomainEmail': 'dlel2000@naver.com',\n",
       "   'priority': 3,\n",
       "   'securityLevel': None,\n",
       "   'reSend': False,\n",
       "   'color': '#ffffff',\n",
       "   'preview': '',\n",
       "   'mimeSN': '1678761483.168118.8518.5888',\n",
       "   'toList': [{'name': '지능정보 SW아카데미 [ 공용 / 정보창의교육연구소 ]',\n",
       "     'email': 'inisw@korea.ac.kr'}],\n",
       "   'spamType': None,\n",
       "   'attachInfo': [],\n",
       "   'threadId': '<377265531.51227.2724.1678761305980@hiworksMail>',\n",
       "   'bccList': [],\n",
       "   'receiveByBcc': False,\n",
       "   'threadCount': 0,\n",
       "   'unreadThreadCount': 0,\n",
       "   'firstLocatedTime': 1678761483,\n",
       "   'remindAt': 0,\n",
       "   'threadRemindAt': 0,\n",
       "   'threadRemindFlag': 0,\n",
       "   'category': -1,\n",
       "   'lastLocatedTime': 0,\n",
       "   'toMe': False,\n",
       "   'bigFile': False,\n",
       "   'statusHex': '5',\n",
       "   'isDomainMail': False,\n",
       "   'oldBigFile': False},\n",
       "  {'mailSN': 19246,\n",
       "   'folderSN': 0,\n",
       "   'folderName': None,\n",
       "   'iconType': 0,\n",
       "   'status': 5,\n",
       "   'from': {'name': '지능정보 SW아카데미 [ 공용 / 정보창의교육연구소 ]',\n",
       "    'email': 'inisw@korea.ac.kr'},\n",
       "   'subject': '3/14(화) 지능정보 SW아카데미 특강자료',\n",
       "   'receivedTime': 1678752283,\n",
       "   'sentTime': 1678752270,\n",
       "   'size': 10327836,\n",
       "   'attachCount': 3,\n",
       "   'iDomainEmail': 'dlel2000@naver.com',\n",
       "   'priority': 3,\n",
       "   'securityLevel': None,\n",
       "   'reSend': False,\n",
       "   'color': '#ffffff',\n",
       "   'preview': '',\n",
       "   'mimeSN': '1678752285.342550.17234.22272',\n",
       "   'toList': [{'name': '지능정보 SW아카데미 [ 공용 / 정보창의교육연구소 ]',\n",
       "     'email': 'inisw@korea.ac.kr'}],\n",
       "   'spamType': None,\n",
       "   'attachInfo': [],\n",
       "   'threadId': '<302181742.49528.2724.1678752199198@hiworksMail>',\n",
       "   'bccList': [],\n",
       "   'receiveByBcc': False,\n",
       "   'threadCount': 0,\n",
       "   'unreadThreadCount': 0,\n",
       "   'firstLocatedTime': 1678752283,\n",
       "   'remindAt': 0,\n",
       "   'threadRemindAt': 0,\n",
       "   'threadRemindFlag': 0,\n",
       "   'category': -1,\n",
       "   'lastLocatedTime': 0,\n",
       "   'toMe': False,\n",
       "   'bigFile': False,\n",
       "   'statusHex': '5',\n",
       "   'isDomainMail': False,\n",
       "   'oldBigFile': False},\n",
       "  {'mailSN': 19227,\n",
       "   'folderSN': 0,\n",
       "   'folderName': None,\n",
       "   'iconType': 0,\n",
       "   'status': 2097157,\n",
       "   'from': {'name': 'James Clear', 'email': 'james@jamesclear.com'},\n",
       "   'subject': '3-2-1: Magical outcomes, being bold, and the persistence of nature',\n",
       "   'receivedTime': 1678388307,\n",
       "   'sentTime': 1678388304,\n",
       "   'size': 61591,\n",
       "   'attachCount': 0,\n",
       "   'iDomainEmail': 'dlel2000@naver.com',\n",
       "   'priority': 3,\n",
       "   'securityLevel': None,\n",
       "   'reSend': False,\n",
       "   'color': '#ffffff',\n",
       "   'preview': '',\n",
       "   'mimeSN': '1678388307.182649.40987.30464',\n",
       "   'toList': [{'name': '', 'email': 'dlel2000@naver.com'}],\n",
       "   'spamType': None,\n",
       "   'attachInfo': [],\n",
       "   'threadId': '<xmun6mpl5gc6hr74orqbp@convertkit-mail4.com>',\n",
       "   'bccList': [],\n",
       "   'receiveByBcc': False,\n",
       "   'threadCount': 0,\n",
       "   'unreadThreadCount': 0,\n",
       "   'firstLocatedTime': 1678388307,\n",
       "   'remindAt': 0,\n",
       "   'threadRemindAt': 0,\n",
       "   'threadRemindFlag': 0,\n",
       "   'category': -1,\n",
       "   'lastLocatedTime': 0,\n",
       "   'toMe': True,\n",
       "   'bigFile': False,\n",
       "   'statusHex': '200005',\n",
       "   'isDomainMail': False,\n",
       "   'oldBigFile': False},\n",
       "  {'mailSN': 19216,\n",
       "   'folderSN': 0,\n",
       "   'folderName': None,\n",
       "   'iconType': 0,\n",
       "   'status': 2097157,\n",
       "   'from': {'name': '데이터에듀', 'email': 'ebiz@dataedu.co.kr'},\n",
       "   'subject': '(광고) 나는 ADsP 길을 간다★ 3월에 따기 좋은 자격증 TOP 3는?',\n",
       "   'receivedTime': 1678251811,\n",
       "   'sentTime': 1678251811,\n",
       "   'size': 6622,\n",
       "   'attachCount': 0,\n",
       "   'iDomainEmail': 'dlel2000@naver.com',\n",
       "   'priority': 3,\n",
       "   'securityLevel': None,\n",
       "   'reSend': False,\n",
       "   'color': '#ffffff',\n",
       "   'preview': '',\n",
       "   'mimeSN': '1678251811.391026.23349.9984',\n",
       "   'toList': [{'name': '이승희', 'email': 'dlel2000@naver.com'}],\n",
       "   'spamType': None,\n",
       "   'attachInfo': [],\n",
       "   'threadId': '<202303081403311198@send48.postman.co.kr>',\n",
       "   'bccList': [],\n",
       "   'receiveByBcc': False,\n",
       "   'threadCount': 0,\n",
       "   'unreadThreadCount': 0,\n",
       "   'firstLocatedTime': 1678251811,\n",
       "   'remindAt': 0,\n",
       "   'threadRemindAt': 0,\n",
       "   'threadRemindFlag': 0,\n",
       "   'category': -1,\n",
       "   'lastLocatedTime': 0,\n",
       "   'toMe': True,\n",
       "   'bigFile': False,\n",
       "   'statusHex': '200005',\n",
       "   'isDomainMail': False,\n",
       "   'oldBigFile': False},\n",
       "  {'mailSN': 19212,\n",
       "   'folderSN': 0,\n",
       "   'folderName': None,\n",
       "   'iconType': 0,\n",
       "   'status': 5,\n",
       "   'from': {'name': '이영미', 'email': 'dudal7029@korcham.net'},\n",
       "   'subject': '[대한상공회의소]  SK플래닛 T Academy 1기 수강평 입력 안내 ',\n",
       "   'receivedTime': 1678240349,\n",
       "   'sentTime': 1678240347,\n",
       "   'size': 558090,\n",
       "   'attachCount': 1,\n",
       "   'iDomainEmail': 'dlel2000@naver.com',\n",
       "   'priority': 3,\n",
       "   'securityLevel': None,\n",
       "   'reSend': False,\n",
       "   'color': '#ffffff',\n",
       "   'preview': '',\n",
       "   'mimeSN': '1678240349.918384.23720.1792',\n",
       "   'toList': [{'name': '이영미', 'email': 'dudal7029@korcham.net'}],\n",
       "   'spamType': None,\n",
       "   'attachInfo': [],\n",
       "   'threadId': '<cf5c01e39f3e4371ab8d31c6b3e4c87a@ex2013-1.korcham.org>',\n",
       "   'bccList': [],\n",
       "   'receiveByBcc': False,\n",
       "   'threadCount': 0,\n",
       "   'unreadThreadCount': 0,\n",
       "   'firstLocatedTime': 1678240349,\n",
       "   'remindAt': 0,\n",
       "   'threadRemindAt': 0,\n",
       "   'threadRemindFlag': 0,\n",
       "   'category': -1,\n",
       "   'lastLocatedTime': 0,\n",
       "   'toMe': False,\n",
       "   'bigFile': False,\n",
       "   'statusHex': '5',\n",
       "   'isDomainMail': False,\n",
       "   'oldBigFile': False},\n",
       "  {'mailSN': 19205,\n",
       "   'folderSN': 0,\n",
       "   'folderName': None,\n",
       "   'iconType': 0,\n",
       "   'status': 5,\n",
       "   'from': {'name': '지능정보 SW아카데미 [ 공용 / 정보창의교육연구소 ]',\n",
       "    'email': 'inisw@korea.ac.kr'},\n",
       "   'subject': '[고려대학교 지능정보 SW아카데미] SW역량평가 성명 작성 요청',\n",
       "   'receivedTime': 1678168366,\n",
       "   'sentTime': 1678168364,\n",
       "   'size': 8260,\n",
       "   'attachCount': 0,\n",
       "   'iDomainEmail': 'dlel2000@naver.com',\n",
       "   'priority': 3,\n",
       "   'securityLevel': None,\n",
       "   'reSend': False,\n",
       "   'color': '#ffffff',\n",
       "   'preview': '',\n",
       "   'mimeSN': '1678168366.498350.2274.26368',\n",
       "   'toList': [{'name': '지능정보 SW아카데미 [ 공용 / 정보창의교육연구소 ]',\n",
       "     'email': 'inisw@korea.ac.kr'}],\n",
       "   'spamType': None,\n",
       "   'attachInfo': [],\n",
       "   'threadId': '<178752835.20410.2724.1678166065930@hiworksMail>',\n",
       "   'bccList': [],\n",
       "   'receiveByBcc': False,\n",
       "   'threadCount': 0,\n",
       "   'unreadThreadCount': 0,\n",
       "   'firstLocatedTime': 1678168366,\n",
       "   'remindAt': 0,\n",
       "   'threadRemindAt': 0,\n",
       "   'threadRemindFlag': 0,\n",
       "   'category': -1,\n",
       "   'lastLocatedTime': 0,\n",
       "   'toMe': False,\n",
       "   'bigFile': False,\n",
       "   'statusHex': '5',\n",
       "   'isDomainMail': False,\n",
       "   'oldBigFile': False}],\n",
       " 'folderName': '받은메일함',\n",
       " 'totalCount': 636,\n",
       " 'listCount': 15,\n",
       " 'Result': 'OK'}"
      ]
     },
     "execution_count": 105,
     "metadata": {},
     "output_type": "execute_result"
    }
   ],
   "source": [
    "resp.json()"
   ]
  },
  {
   "cell_type": "code",
   "execution_count": 109,
   "id": "c90dcdd7",
   "metadata": {},
   "outputs": [
    {
     "name": "stdout",
     "output_type": "stream",
     "text": [
      "남자에게 꼭 필요한 제품입니다\n",
      "검토 후 회신 부탁드립니다. 감사합니다\n",
      "요거하나면나도강한남자\n",
      "[웹진] 한국분자세포생물학회 뉴스레터 3월호\n",
      "Today&#39;s most urgent security statistics &amp; trends\n",
      "취향대로 고르세욤 남자만Go\n"
     ]
    }
   ],
   "source": [
    "# 스팸메일함\n",
    "params = {\n",
    "    'folderSN' : 5,\n",
    "    'page' : 1,\n",
    "    'viewMode' : 'time',\n",
    "    'previewMode' : 1,\n",
    "    'sortField' : 1,\n",
    "    'sortType' : 0,\n",
    "    'u' : 'dlel2000'\n",
    "}\n",
    "\n",
    "resp = post(url, params=params, cookies=n_cookie)\n",
    "mailData = resp.json()\n",
    "for mail in mailData['mailData']:\n",
    "    print(mail['subject'])"
   ]
  },
  {
   "cell_type": "markdown",
   "id": "1f396090",
   "metadata": {},
   "source": [
    "# Instagram"
   ]
  },
  {
   "cell_type": "code",
   "execution_count": null,
   "id": "63ea33d9",
   "metadata": {},
   "outputs": [],
   "source": [
    "# 파라이머\n",
    "enc_password: #PWD_INSTAGRAM_BROWSER:10:1679453896:AflQADFyKJPvPfh/1ps2AjS5t0QyUYu3PrA9pNx0x5Ul51leIhtvGe281x4FYBqwHDA+g7MUeQyRZ2PHqvkuTq1SPbjstNrc4tAqezuxXHOs4Tf1R3dXV6PwawAw8lKpzcLT0QOMnV3aQERHbE0=\n",
    "username: s201802640@hufs-gsuite.kr\n",
    "queryParams: {\"oneTapUsers\":\"[\\\"7877308367\\\"]\"}\n",
    "optIntoOneTap: false\n",
    "trustedDeviceRecords: {}"
   ]
  },
  {
   "cell_type": "code",
   "execution_count": 110,
   "id": "1c596fde",
   "metadata": {},
   "outputs": [],
   "source": [
    "from datetime import datetime"
   ]
  },
  {
   "cell_type": "code",
   "execution_count": 112,
   "id": "85f2b5d7",
   "metadata": {},
   "outputs": [
    {
     "data": {
      "text/plain": [
       "1679453940"
      ]
     },
     "execution_count": 112,
     "metadata": {},
     "output_type": "execute_result"
    }
   ],
   "source": [
    "int(datetime.now().timestamp())"
   ]
  },
  {
   "cell_type": "code",
   "execution_count": null,
   "id": "6c82d319",
   "metadata": {},
   "outputs": [],
   "source": [
    "# 어플리케이션에서 토큰\n",
    "csrftoken\tMVQBJcxD2OdQes1r7YGaxPEiOuokIlpd\t.instagram.com\t/\t2024-03-20T03:16:02.270Z\t41\t\t✓\t\t\tMedium\t\n",
    "sessionid\t58481255759%3AmXur23j8XSfBOp%3A18%3AAYdwDM5cwO1-HkmF2jIXKZh5aqAAkq1Chr8zgsWdzQ\t.instagram.com\t/\t2024-03-21T02:58:18.631Z\t87\t✓\t✓\t\t\tMedium\t\n",
    "shbts\t\"1679452911\\0547877308367\\0541710988911:01f7752bd3dabb64f905ca57567bf8bd8cac186d277cf05ad6b06b27ceb61ed28dbc0c27\"\t.instagram.com\t/\t2023-03-29T02:41:52.242Z\t118\t✓\t✓\t\t\tMedium\t\n",
    "rur\t\"NAO\\05458481255759\\0541710990961:01f7cc8a7dc443f0dd063adce3cfeb3f9a6c58acf78e492bd98047a01e599a62ce854ed4\"\t.instagram.com\t/\tSession\t110\t✓\t✓\tLax\t\tMedium\t\n",
    "shbid\t\"13599\\0547877308367\\0541710988911:01f7d98cb496541035291c9056e45bdb96e335f2b332e7f58bf21e145472b6b4710006ee\"\t.instagram.com\t/\t2023-03-29T02:41:52.242Z\t113\t✓\t✓\t\t\tMedium\t\n",
    "ig_nrcb\t1\t.instagram.com\t/\t2024-03-21T02:41:30.879Z\t8\t\t✓\t\t\tMedium\t\n",
    "datr\t1WoaZL6ptr7SCdEevZ9FitD0\t.instagram.com\t/\t2024-04-25T02:41:31.346Z\t28\t✓\t✓\tNone\t\tMedium\t\n",
    "ds_user_id\t58481255759\t.instagram.com\t/\t2023-06-20T03:16:02.270Z\t21\t\t✓\t\t\tMedium\t\n",
    "ig_did\tED43D48D-0599-4BDB-80B4-231DE26B55F4\t.instagram.com\t/\t2024-04-25T02:41:51.683Z\t42\t✓\t✓\t\t\tMedium\t\n",
    "mid\tZBpq2gALAAFG8TXYUN0mokb_VJUF\t.instagram.com\t/\t2024-04-25T02:41:30.879Z\t31\t\t✓\t\t\tMedium\t\n",
    "dpr\t1.5\t.instagram.com\t/\t2023-03-29T02:41:51.000Z\t6\t\t✓\tNone\t\tMedium\t"
   ]
  },
  {
   "cell_type": "code",
   "execution_count": 123,
   "id": "23808420",
   "metadata": {},
   "outputs": [
    {
     "data": {
      "text/plain": [
       "{'enc_password': '#PWD_INSTAGRAM_BROWSER:0:1679455377:sh42381120',\n",
       " 'username': 's201802640@hufs-gsuite.kr',\n",
       " 'queryParams': {},\n",
       " 'optIntoOneTap': 'false',\n",
       " 'trustedDeviceRecords': {}}"
      ]
     },
     "execution_count": 123,
     "metadata": {},
     "output_type": "execute_result"
    }
   ],
   "source": [
    "params = {\n",
    "    'enc_password' : '#PWD_INSTAGRAM_BROWSER:0:{}:{}',\n",
    "    'username' : 's201802640@hufs-gsuite.kr',\n",
    "    'queryParams' : {},\n",
    "    'optIntoOneTap' : 'false',\n",
    "    'trustedDeviceRecords' : {}\n",
    "}\n",
    "\n",
    "params['enc_password'] = params['enc_password'].format(\n",
    "    int(datetime.now().timestamp()), 'sh42381120')\n",
    "params"
   ]
  },
  {
   "cell_type": "code",
   "execution_count": 124,
   "id": "70c4ff94",
   "metadata": {},
   "outputs": [],
   "source": [
    "url = 'https://www.instagram.com/api/v1/web/accounts/login/ajax/'"
   ]
  },
  {
   "cell_type": "code",
   "execution_count": 129,
   "id": "921eb864",
   "metadata": {},
   "outputs": [],
   "source": [
    "# csrftoken 갖고옴 application에\n",
    "resp = post(url, data=params, headers={\n",
    "    'x-csrftoken' : 'MVQBJcxD2OdQes1r7YGaxPEiOuokIlpd'\n",
    "})"
   ]
  },
  {
   "cell_type": "code",
   "execution_count": 133,
   "id": "7eddf43e",
   "metadata": {},
   "outputs": [
    {
     "data": {
      "text/plain": [
       "'{\"user\":true,\"userId\":\"58481255759\",\"authenticated\":true,\"oneTapPrompt\":true,\"status\":\"ok\"}'"
      ]
     },
     "execution_count": 133,
     "metadata": {},
     "output_type": "execute_result"
    }
   ],
   "source": [
    "post(url, data=params, headers={\n",
    "    'x-csrftoken' : 'MVQBJcxD2OdQes1r7YGaxPEiOuokIlpd'\n",
    "}).text"
   ]
  },
  {
   "cell_type": "code",
   "execution_count": 134,
   "id": "547c1636",
   "metadata": {},
   "outputs": [],
   "source": [
    "resp = post(url, data=params)"
   ]
  },
  {
   "cell_type": "code",
   "execution_count": 135,
   "id": "4f0a4ee5",
   "metadata": {},
   "outputs": [
    {
     "data": {
      "text/plain": [
       "{'Vary': 'Accept-Encoding', 'Content-Encoding': 'br', 'accept-ch-lifetime': '4838400', 'accept-ch': 'sec-ch-prefers-color-scheme', 'reporting-endpoints': 'coep_report=\"https://www.facebook.com/browser_reporting/?minimize=0\", default=\"https://www.instagram.com/error/ig_web_error_reports/?device_level=unknown\"', 'report-to': '{\"max_age\":86400,\"endpoints\":[{\"url\":\"https:\\\\/\\\\/www.facebook.com\\\\/browser_reporting\\\\/?minimize=0\"}],\"group\":\"coep_report\"}, {\"max_age\":259200,\"endpoints\":[{\"url\":\"https:\\\\/\\\\/www.instagram.com\\\\/error\\\\/ig_web_error_reports\\\\/?device_level=unknown\"}]}', 'document-policy': 'force-load-at-top', 'cross-origin-resource-policy': 'rollout', 'cross-origin-embedder-policy-report-only': 'require-corp;report-to=\"coep_report\"', 'cross-origin-opener-policy': 'same-origin-allow-popups', 'Pragma': 'no-cache', 'Cache-Control': 'private, no-cache, no-store, must-revalidate', 'Expires': 'Sat, 01 Jan 2000 00:00:00 GMT', 'X-Content-Type-Options': 'nosniff', 'X-XSS-Protection': '0', 'X-Frame-Options': 'DENY', 'Strict-Transport-Security': 'max-age=15552000', 'Content-Type': 'text/html; charset=\"utf-8\"', 'X-FB-Debug': 'BYl2qlbUfusthWKCMtPxtyti3dbTb4pSF70DVEfevb438a/S5B4qtjsvEGye156RR1AT8heImTqBTcbCNN4rCw==', 'Date': 'Wed, 22 Mar 2023 03:27:41 GMT', 'X-FB-TRIP-ID': '1679558926', 'Alt-Svc': 'h3=\":443\"; ma=86400', 'Transfer-Encoding': 'chunked', 'Connection': 'keep-alive'}"
      ]
     },
     "execution_count": 135,
     "metadata": {},
     "output_type": "execute_result"
    }
   ],
   "source": [
    "resp = get('http://www.instagram.com')\n",
    "resp.headers"
   ]
  },
  {
   "cell_type": "code",
   "execution_count": 136,
   "id": "c48d017d",
   "metadata": {},
   "outputs": [
    {
     "data": {
      "text/plain": [
       "<Response [200]>"
      ]
     },
     "execution_count": 136,
     "metadata": {},
     "output_type": "execute_result"
    }
   ],
   "source": [
    "session = Session()\n",
    "session.get('http://www.instagram.com')"
   ]
  },
  {
   "cell_type": "code",
   "execution_count": 137,
   "id": "470799a5",
   "metadata": {},
   "outputs": [
    {
     "data": {
      "text/plain": [
       "({'Vary': 'Accept-Encoding', 'Content-Encoding': 'br', 'accept-ch-lifetime': '4838400', 'accept-ch': 'sec-ch-prefers-color-scheme', 'reporting-endpoints': 'coep_report=\"https://www.facebook.com/browser_reporting/?minimize=0\", default=\"https://www.instagram.com/error/ig_web_error_reports/?device_level=unknown\"', 'report-to': '{\"max_age\":86400,\"endpoints\":[{\"url\":\"https:\\\\/\\\\/www.facebook.com\\\\/browser_reporting\\\\/?minimize=0\"}],\"group\":\"coep_report\"}, {\"max_age\":259200,\"endpoints\":[{\"url\":\"https:\\\\/\\\\/www.instagram.com\\\\/error\\\\/ig_web_error_reports\\\\/?device_level=unknown\"}]}', 'document-policy': 'force-load-at-top', 'cross-origin-resource-policy': 'rollout', 'cross-origin-embedder-policy-report-only': 'require-corp;report-to=\"coep_report\"', 'cross-origin-opener-policy': 'same-origin-allow-popups', 'Pragma': 'no-cache', 'Cache-Control': 'private, no-cache, no-store, must-revalidate', 'Expires': 'Sat, 01 Jan 2000 00:00:00 GMT', 'X-Content-Type-Options': 'nosniff', 'X-XSS-Protection': '0', 'X-Frame-Options': 'DENY', 'Strict-Transport-Security': 'max-age=15552000', 'Content-Type': 'text/html; charset=\"utf-8\"', 'X-FB-Debug': 'BYl2qlbUfusthWKCMtPxtyti3dbTb4pSF70DVEfevb438a/S5B4qtjsvEGye156RR1AT8heImTqBTcbCNN4rCw==', 'Date': 'Wed, 22 Mar 2023 03:27:41 GMT', 'X-FB-TRIP-ID': '1679558926', 'Alt-Svc': 'h3=\":443\"; ma=86400', 'Transfer-Encoding': 'chunked', 'Connection': 'keep-alive'},\n",
       " 200)"
      ]
     },
     "execution_count": 137,
     "metadata": {},
     "output_type": "execute_result"
    }
   ],
   "source": [
    "resp.headers, resp.status_code"
   ]
  }
 ],
 "metadata": {
  "kernelspec": {
   "display_name": "Python 3 (ipykernel)",
   "language": "python",
   "name": "python3"
  },
  "language_info": {
   "codemirror_mode": {
    "name": "ipython",
    "version": 3
   },
   "file_extension": ".py",
   "mimetype": "text/x-python",
   "name": "python",
   "nbconvert_exporter": "python",
   "pygments_lexer": "ipython3",
   "version": "3.9.7"
  }
 },
 "nbformat": 4,
 "nbformat_minor": 5
}
