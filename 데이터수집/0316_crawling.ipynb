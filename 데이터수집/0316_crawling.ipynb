{
 "cells": [
  {
   "cell_type": "markdown",
   "id": "459df6e4",
   "metadata": {},
   "source": [
    "스크래핑의 목적, 의미\\\n",
    "크롤링의 목적, 의미 명확하게 분류해야한다."
   ]
  }
 ],
 "metadata": {
  "kernelspec": {
   "display_name": "Python 3 (ipykernel)",
   "language": "python",
   "name": "python3"
  },
  "language_info": {
   "codemirror_mode": {
    "name": "ipython",
    "version": 3
   },
   "file_extension": ".py",
   "mimetype": "text/x-python",
   "name": "python",
   "nbconvert_exporter": "python",
   "pygments_lexer": "ipython3",
   "version": "3.9.7"
  }
 },
 "nbformat": 4,
 "nbformat_minor": 5
}
