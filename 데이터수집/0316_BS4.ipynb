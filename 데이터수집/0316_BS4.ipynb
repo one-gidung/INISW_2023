{
 "cells": [
  {
   "cell_type": "markdown",
   "id": "3778bdd8",
   "metadata": {},
   "source": [
    "DOM(HTML -> Tree)\n"
   ]
  },
  {
   "cell_type": "markdown",
   "id": "94336703",
   "metadata": {},
   "source": [
    "HTML태그, 속성(ID, class, href, src, data-..), 구조, 가상선택자"
   ]
  },
  {
   "cell_type": "code",
   "execution_count": null,
   "id": "0e4bfabe",
   "metadata": {},
   "outputs": [],
   "source": [
    "html = '''\n",
    "    <html>\n",
    "        <head></head>\n",
    "        <body>\n",
    "            <div>\n",
    "                <uL>\n",
    "                    <li>\n",
    "                    <li>\n",
    "            </DIV>\n",
    "                </Ul>\n",
    "        </body>\n",
    "    </html>\n",
    "'''"
   ]
  },
  {
   "cell_type": "code",
   "execution_count": null,
   "id": "bceb2710",
   "metadata": {},
   "outputs": [],
   "source": [
    "from bs4 import BeautifulSoup"
   ]
  },
  {
   "cell_type": "code",
   "execution_count": null,
   "id": "77274692",
   "metadata": {},
   "outputs": [],
   "source": [
    "dom = BeautifulSoup(html, 'html.parser')"
   ]
  },
  {
   "cell_type": "code",
   "execution_count": null,
   "id": "4d30af63",
   "metadata": {},
   "outputs": [],
   "source": [
    "# ' ' -> 자손, '>' -> 자식, '+' -> next sibling\n",
    "dom.select('div > ul')      #  dom.find(div, recursive=False).find(ul)"
   ]
  },
  {
   "cell_type": "code",
   "execution_count": null,
   "id": "385421bb",
   "metadata": {},
   "outputs": [],
   "source": [
    "# >\n",
    "# 바로 내 다음에 있는 자식만 찾는다\n",
    "# ' '\n",
    "# 자손의 개념이다.\n",
    "dom.select('div > li'),\\\n",
    "dom.select('div li') # parent찾기 힘들다? 가상선택자가 필요하다."
   ]
  },
  {
   "cell_type": "code",
   "execution_count": null,
   "id": "507c9c16",
   "metadata": {},
   "outputs": [],
   "source": [
    "dom.select('li:has(li)'),\\\n",
    "dom.select('li li') # leaf node인 마지막을 찾는다."
   ]
  },
  {
   "cell_type": "code",
   "execution_count": null,
   "id": "b11dc303",
   "metadata": {},
   "outputs": [],
   "source": [
    "html = '''\n",
    "    <html>\n",
    "        <head></head>\n",
    "        <body>\n",
    "            <div id='a'>\n",
    "                <uL>\n",
    "                    <li class='a'></li>\n",
    "                    <li class='a b'></li>\n",
    "            </DIV>\n",
    "                </Ul>\n",
    "        </body>\n",
    "    </html>\n",
    "'''"
   ]
  },
  {
   "cell_type": "code",
   "execution_count": null,
   "id": "86c04e1d",
   "metadata": {},
   "outputs": [],
   "source": [
    "dom = BeautifulSoup(html, 'html.parser')"
   ]
  },
  {
   "cell_type": "code",
   "execution_count": null,
   "id": "6f98638f",
   "metadata": {},
   "outputs": [],
   "source": [
    "# ID, .class .class1.class2 [class=어쩌고]\n",
    "dom.select('#a, div, div#a, div[id=a]')"
   ]
  },
  {
   "cell_type": "code",
   "execution_count": null,
   "id": "dabf58fa",
   "metadata": {},
   "outputs": [],
   "source": [
    "dom.select_one('#a') is dom.select_one('div')"
   ]
  },
  {
   "cell_type": "code",
   "execution_count": null,
   "id": "4c8c3426",
   "metadata": {},
   "outputs": [],
   "source": [
    "dom.select_one('#a') is dom.select_one('div#a')"
   ]
  },
  {
   "cell_type": "code",
   "execution_count": null,
   "id": "eb1ca16c",
   "metadata": {},
   "outputs": [],
   "source": [
    "dom.select_one('#a') is dom.select_one('[id=a]')"
   ]
  },
  {
   "cell_type": "code",
   "execution_count": null,
   "id": "94980bf6",
   "metadata": {},
   "outputs": [],
   "source": [
    "dom.select_one('#a') is dom.select_one('body > *')"
   ]
  },
  {
   "cell_type": "code",
   "execution_count": null,
   "id": "8d35168e",
   "metadata": {},
   "outputs": [],
   "source": [
    "dom.select_one('#a') is dom.select_one('*:has(>ul)')"
   ]
  },
  {
   "cell_type": "code",
   "execution_count": null,
   "id": "7de4ee50",
   "metadata": {},
   "outputs": [],
   "source": [
    "dom.select_one('*:has(ul)')"
   ]
  },
  {
   "cell_type": "code",
   "execution_count": null,
   "id": "4eb67186",
   "metadata": {},
   "outputs": [],
   "source": [
    "dom.select_one('#a')"
   ]
  },
  {
   "cell_type": "code",
   "execution_count": null,
   "id": "0d87d106",
   "metadata": {},
   "outputs": [],
   "source": [
    "dom.select_one('li'), dom.select_one('li + li')"
   ]
  },
  {
   "cell_type": "markdown",
   "id": "e7e852ef",
   "metadata": {},
   "source": [
    "첫번째 li, ul > li, .a, li.a, li:has(+li)"
   ]
  },
  {
   "cell_type": "code",
   "execution_count": null,
   "id": "ace5b183",
   "metadata": {},
   "outputs": [],
   "source": [
    "dom.select_one('li:has(+li)')"
   ]
  },
  {
   "cell_type": "code",
   "execution_count": null,
   "id": "6fcca64a",
   "metadata": {
    "scrolled": true
   },
   "outputs": [],
   "source": [
    "dom.select_one('li:nth-of-type(1)')"
   ]
  },
  {
   "cell_type": "markdown",
   "id": "d6dd2d3d",
   "metadata": {},
   "source": [
    "두번째 li, ul > li+li, .b, .a.b, li:last-chile, [class^$-=]"
   ]
  },
  {
   "cell_type": "code",
   "execution_count": null,
   "id": "3ba453e3",
   "metadata": {},
   "outputs": [],
   "source": [
    "dom.select_one('li:last-child')"
   ]
  },
  {
   "cell_type": "code",
   "execution_count": null,
   "id": "9fa82f81",
   "metadata": {},
   "outputs": [],
   "source": [
    "dom.select_one('li:last-child')"
   ]
  },
  {
   "cell_type": "code",
   "execution_count": null,
   "id": "87682e76",
   "metadata": {},
   "outputs": [],
   "source": [
    "dom.select_one('li:nth-of-type(2)')"
   ]
  },
  {
   "cell_type": "code",
   "execution_count": null,
   "id": "92466509",
   "metadata": {},
   "outputs": [],
   "source": [
    "from requests import request\n",
    "\n",
    "url = 'http://pythonscraping.com/pages/page3.html'\n",
    "resp = request('GET', url)\n",
    "dom = BeautifulSoup(resp.content, 'html.parser')"
   ]
  },
  {
   "cell_type": "code",
   "execution_count": null,
   "id": "b6d9f276",
   "metadata": {},
   "outputs": [],
   "source": [
    "dom.select('table img[src$=jpg]') # 구조, <img src='....jpg'> => src"
   ]
  },
  {
   "cell_type": "code",
   "execution_count": null,
   "id": "00a1d2bf",
   "metadata": {},
   "outputs": [],
   "source": [
    "dom.select('a[href]')"
   ]
  },
  {
   "cell_type": "code",
   "execution_count": null,
   "id": "4526a26b",
   "metadata": {
    "scrolled": true
   },
   "outputs": [],
   "source": [
    "dom.select('tr > td:nth-of-type(3)')"
   ]
  },
  {
   "cell_type": "code",
   "execution_count": null,
   "id": "8e64000f",
   "metadata": {},
   "outputs": [],
   "source": [
    "import re\n",
    "\n",
    "[re.search('[$][0-9.]+', td.get_text()).group() for td in dom.select('tr > td:nth-of-type(3)')]"
   ]
  },
  {
   "cell_type": "code",
   "execution_count": null,
   "id": "e8600862",
   "metadata": {},
   "outputs": [],
   "source": [
    "url = 'https://pythonscraping.com/pages/wikipedia.html'\n",
    "resp = request('GET', url)\n",
    "dom = BeautifulSoup(resp.content, 'html.parser')"
   ]
  },
  {
   "cell_type": "code",
   "execution_count": null,
   "id": "a50040b3",
   "metadata": {},
   "outputs": [],
   "source": [
    "dom.select('div:has(> input[type=radio])')[0].get_text().split()"
   ]
  },
  {
   "cell_type": "code",
   "execution_count": null,
   "id": "4669dafb",
   "metadata": {},
   "outputs": [],
   "source": [
    "headers = {\n",
    "    'user-agent':'user-agent: Mozilla/5.0 (Windows NT 10.0; Win64; x64) AppleWebKit/537.36 (KHTML, like Gecko) Chrome/110.0.0.0 Safari/537.36'\n",
    "}\n",
    "\n",
    "url = 'https://www.google.com/search'\n",
    "params = {'q':'한소희'}\n",
    "resp = request('GET', url, params=params, headers= headers)\n",
    "dom = BeautifulSoup(resp.text, 'html.parser')"
   ]
  },
  {
   "cell_type": "code",
   "execution_count": null,
   "id": "2cbb2b5e",
   "metadata": {},
   "outputs": [],
   "source": [
    "for a in dom.select('a[href]:has(>.LC20lb)'):\n",
    "    print(a.attrs['href'])\n",
    "    print(a.select_one('.LC20lb').get_text().strip())\n",
    "    print(a.get_text().strip())"
   ]
  },
  {
   "cell_type": "code",
   "execution_count": null,
   "id": "f29cb4df",
   "metadata": {},
   "outputs": [],
   "source": [
    "url = 'https://search.naver.com/search.naver' # ? 전까지가 주소\n",
    "params = {\n",
    "    'where':'nextsearch',\n",
    "    'query':'한소희'\n",
    "}\n",
    "\n",
    "resp = request('GET', url, params=params, headers = headers)\n",
    "dom = BeautifulSoup(resp.text, 'html.parser')"
   ]
  },
  {
   "cell_type": "code",
   "execution_count": null,
   "id": "e244abff",
   "metadata": {},
   "outputs": [],
   "source": [
    "for a in dom.select('a.link_tit, a.new_tit, a.name_link, a.total_tit'):\n",
    "    print(a.get_text().strip())\n",
    "    print(a.attrs['href'])"
   ]
  },
  {
   "cell_type": "code",
   "execution_count": 1,
   "id": "e55f064f",
   "metadata": {},
   "outputs": [],
   "source": [
    "from bs4 import BeautifulSoup\n",
    "from requests import request\n",
    "\n",
    "headers = {\n",
    "    'user-agent':'user-agent: Mozilla/5.0 (Windows NT 10.0; Win64; x64) AppleWebKit/537.36 (KHTML, like Gecko) Chrome/110.0.0.0 Safari/537.36'\n",
    "}"
   ]
  },
  {
   "cell_type": "code",
   "execution_count": 2,
   "id": "ef95064c",
   "metadata": {},
   "outputs": [],
   "source": [
    "url = 'https://comic.naver.com/webtoon/detail'\n",
    "params = {\n",
    "    'titleId' : '768536',\n",
    "    'no' : '106'\n",
    "}\n",
    "\n",
    "resp = request('GET', url, params=params, headers=headers)\n",
    "dom = BeautifulSoup(resp.text, 'html.parser')"
   ]
  },
  {
   "cell_type": "code",
   "execution_count": 3,
   "id": "d207e573",
   "metadata": {},
   "outputs": [
    {
     "data": {
      "text/plain": [
       "59"
      ]
     },
     "execution_count": 3,
     "metadata": {},
     "output_type": "execute_result"
    }
   ],
   "source": [
    "len(dom.select('img[id^=content_image_]'))"
   ]
  },
  {
   "cell_type": "code",
   "execution_count": 4,
   "id": "388ff170",
   "metadata": {},
   "outputs": [
    {
     "data": {
      "text/plain": [
       "59"
      ]
     },
     "execution_count": 4,
     "metadata": {},
     "output_type": "execute_result"
    }
   ],
   "source": [
    "len(dom.select('#sectionContWide > img'))"
   ]
  },
  {
   "cell_type": "code",
   "execution_count": 5,
   "id": "8a1903f5",
   "metadata": {},
   "outputs": [
    {
     "data": {
      "text/plain": [
       "59"
      ]
     },
     "execution_count": 5,
     "metadata": {},
     "output_type": "execute_result"
    }
   ],
   "source": [
    "len(dom.select('[alt=\"comic content\"]'))"
   ]
  },
  {
   "cell_type": "code",
   "execution_count": null,
   "id": "0ad9e5da",
   "metadata": {},
   "outputs": [],
   "source": [
    "# len(dom.select('.wt_viewer [src=\"https://image-comic.pstatic.net/webtoon]'))"
   ]
  },
  {
   "cell_type": "code",
   "execution_count": null,
   "id": "4ef45634",
   "metadata": {},
   "outputs": [],
   "source": [
    "from requests.compat import urljoin\n",
    "\n",
    "nurl = urljoin(url, dom.select('[alt=\"comic content\"]')[0].attrs['src'])"
   ]
  },
  {
   "cell_type": "code",
   "execution_count": null,
   "id": "3e621434",
   "metadata": {},
   "outputs": [],
   "source": [
    "resp = request('GET', nurl, )"
   ]
  },
  {
   "cell_type": "code",
   "execution_count": null,
   "id": "1f06b4ae",
   "metadata": {},
   "outputs": [],
   "source": [
    "\n",
    "ext = {'jpeg':'jpg', 'jpg':'jpg', 'png':'png'}\n",
    "media = {'image':ext}"
   ]
  },
  {
   "cell_type": "code",
   "execution_count": null,
   "id": "545de772",
   "metadata": {},
   "outputs": [],
   "source": [
    "k1, k2 = resp.header['content-type'].split('/')\n",
    "if k1 in media.keys() and k2 in media[k1].keys():\n",
    "    print('{}.{}'.format(resp.url.split('/')[-1], media[k1][k2]))"
   ]
  },
  {
   "cell_type": "code",
   "execution_count": 6,
   "id": "aaee0a01",
   "metadata": {},
   "outputs": [],
   "source": [
    "from os import listdir, mkdir"
   ]
  },
  {
   "cell_type": "code",
   "execution_count": 8,
   "id": "ae57d92f",
   "metadata": {},
   "outputs": [
    {
     "data": {
      "text/plain": [
       "({'titleId': '768536', 'no': '106'},\n",
       " ['.ipynb_checkpoints',\n",
       "  '0310_HTTP.ipynb',\n",
       "  '0313_.ipynb',\n",
       "  '0315_BS4.ipynb',\n",
       "  '0316_.ipynb',\n",
       "  'img1.jpeg'])"
      ]
     },
     "execution_count": 8,
     "metadata": {},
     "output_type": "execute_result"
    }
   ],
   "source": [
    "params, listdir('.')"
   ]
  },
  {
   "cell_type": "code",
   "execution_count": null,
   "id": "c891c593",
   "metadata": {},
   "outputs": [],
   "source": []
  },
  {
   "cell_type": "code",
   "execution_count": null,
   "id": "28696df6",
   "metadata": {},
   "outputs": [],
   "source": []
  },
  {
   "cell_type": "code",
   "execution_count": null,
   "id": "aa1c98fe",
   "metadata": {},
   "outputs": [],
   "source": []
  },
  {
   "cell_type": "code",
   "execution_count": null,
   "id": "65231d4f",
   "metadata": {},
   "outputs": [],
   "source": []
  },
  {
   "cell_type": "code",
   "execution_count": null,
   "id": "999d7dd7",
   "metadata": {},
   "outputs": [],
   "source": []
  },
  {
   "cell_type": "code",
   "execution_count": null,
   "id": "56b62453",
   "metadata": {},
   "outputs": [],
   "source": []
  },
  {
   "cell_type": "code",
   "execution_count": null,
   "id": "e02918e6",
   "metadata": {},
   "outputs": [],
   "source": []
  }
 ],
 "metadata": {
  "kernelspec": {
   "display_name": "Python 3 (ipykernel)",
   "language": "python",
   "name": "python3"
  },
  "language_info": {
   "codemirror_mode": {
    "name": "ipython",
    "version": 3
   },
   "file_extension": ".py",
   "mimetype": "text/x-python",
   "name": "python",
   "nbconvert_exporter": "python",
   "pygments_lexer": "ipython3",
   "version": "3.9.7"
  }
 },
 "nbformat": 4,
 "nbformat_minor": 5
}
