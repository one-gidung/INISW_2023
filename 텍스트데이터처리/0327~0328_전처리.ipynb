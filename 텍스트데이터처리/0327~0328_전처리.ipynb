{
 "cells": [
  {
   "cell_type": "markdown",
   "id": "a999a92a",
   "metadata": {},
   "source": [
    "n개 ㅁ나ㅡㅁ의 덩이로 마드렜따\n",
    "\n",
    "개졸리다\n",
    "\n",
    "카이제곱이나 그런것들\n",
    "특히나 pmi는 언어,어\n",
    "다야한 패턴을 찾을 수 있다.\n",
    "\n"
   ]
  },
  {
   "cell_type": "code",
   "execution_count": 2,
   "id": "971f33d3",
   "metadata": {
    "collapsed": true
   },
   "outputs": [
    {
     "name": "stdout",
     "output_type": "stream",
     "text": [
      "Requirement already satisfied: nltk in c:\\users\\dlel2\\anaconda3\\lib\\site-packages (3.6.5)\n",
      "Requirement already satisfied: click in c:\\users\\dlel2\\anaconda3\\lib\\site-packages (from nltk) (8.0.3)\n",
      "Requirement already satisfied: joblib in c:\\users\\dlel2\\anaconda3\\lib\\site-packages (from nltk) (1.1.0)\n",
      "Requirement already satisfied: regex>=2021.8.3 in c:\\users\\dlel2\\anaconda3\\lib\\site-packages (from nltk) (2021.8.3)\n",
      "Requirement already satisfied: tqdm in c:\\users\\dlel2\\anaconda3\\lib\\site-packages (from nltk) (4.62.3)\n",
      "Requirement already satisfied: colorama in c:\\users\\dlel2\\anaconda3\\lib\\site-packages (from click->nltk) (0.4.4)\n"
     ]
    }
   ],
   "source": [
    "# !pip install nltk"
   ]
  },
  {
   "cell_type": "code",
   "execution_count": 71,
   "id": "17a5efe5",
   "metadata": {},
   "outputs": [
    {
     "name": "stderr",
     "output_type": "stream",
     "text": [
      "[nltk_data] Downloading package averaged_perceptron_tagger to\n",
      "[nltk_data]     C:\\Users\\dlel2\\AppData\\Roaming\\nltk_data...\n",
      "[nltk_data]   Unzipping taggers\\averaged_perceptron_tagger.zip.\n"
     ]
    },
    {
     "data": {
      "text/plain": [
       "True"
      ]
     },
     "execution_count": 71,
     "metadata": {},
     "output_type": "execute_result"
    }
   ],
   "source": [
    "import nltk\n",
    "# nltk.download('punkt')\n",
    "# nltk.download('brown')\n",
    "# nltk.download('gutenberg')\n",
    "# nltk.download('tagsets')\n",
    "# nltk.download('wordnet')\n",
    "# nltk.download('averaged_perceptron_tagger')"
   ]
  },
  {
   "cell_type": "code",
   "execution_count": 2,
   "id": "2140a6e5",
   "metadata": {
    "scrolled": false
   },
   "outputs": [],
   "source": [
    "from nltk.corpus import brown, gutenberg\n",
    "from nltk.tokenize import sent_tokenize\n",
    "from string import punctuation"
   ]
  },
  {
   "cell_type": "code",
   "execution_count": 3,
   "id": "39e53fd8",
   "metadata": {},
   "outputs": [
    {
     "data": {
      "text/plain": [
       "'!\"#$%&\\'()*+,-./:;<=>?@[\\\\]^_`{|}~'"
      ]
     },
     "execution_count": 3,
     "metadata": {},
     "output_type": "execute_result"
    }
   ],
   "source": [
    "punctuation"
   ]
  },
  {
   "cell_type": "code",
   "execution_count": 4,
   "id": "0395a080",
   "metadata": {},
   "outputs": [],
   "source": [
    "corpus_1 = brown.open(brown.fileids()[0]).read()"
   ]
  },
  {
   "cell_type": "code",
   "execution_count": 5,
   "id": "41bb44be",
   "metadata": {},
   "outputs": [],
   "source": [
    "corpus_2 = gutenberg.open(gutenberg.fileids()[0]).read()"
   ]
  },
  {
   "cell_type": "code",
   "execution_count": 6,
   "id": "45fd2237",
   "metadata": {},
   "outputs": [
    {
     "data": {
      "text/plain": [
       "(887071, 77)"
      ]
     },
     "execution_count": 6,
     "metadata": {},
     "output_type": "execute_result"
    }
   ],
   "source": [
    "len(corpus_2), len(set(corpus_2))"
   ]
  },
  {
   "cell_type": "code",
   "execution_count": 7,
   "id": "a4b6df1c",
   "metadata": {},
   "outputs": [],
   "source": [
    "# 담화(문서) 분석 -> 문단 -> 문장 -> 절 -> 구 -> 어절(단어) -> token\n",
    "# 문장 -> 어절 -> token"
   ]
  },
  {
   "cell_type": "code",
   "execution_count": 8,
   "id": "b4d6632e",
   "metadata": {},
   "outputs": [
    {
     "data": {
      "text/plain": [
       "(16823, 7493)"
      ]
     },
     "execution_count": 8,
     "metadata": {},
     "output_type": "execute_result"
    }
   ],
   "source": [
    "from nltk.tokenize import sent_tokenize\n",
    "len(corpus_2.splitlines()), len(sent_tokenize(corpus_2))"
   ]
  },
  {
   "cell_type": "code",
   "execution_count": 9,
   "id": "2e2d1244",
   "metadata": {},
   "outputs": [],
   "source": [
    "# ? . + whitespace 로 끝나면 문장\n",
    "# 띄어쓰기 x, 줄임표 x"
   ]
  },
  {
   "cell_type": "code",
   "execution_count": 10,
   "id": "e97f00af",
   "metadata": {},
   "outputs": [],
   "source": [
    "from nltk.tokenize import word_tokenize, TweetTokenizer, regexp_tokenize"
   ]
  },
  {
   "cell_type": "code",
   "execution_count": 11,
   "id": "ecd966c1",
   "metadata": {},
   "outputs": [
    {
     "data": {
      "text/plain": [
       "(158167, 191785)"
      ]
     },
     "execution_count": 11,
     "metadata": {},
     "output_type": "execute_result"
    }
   ],
   "source": [
    "len(corpus_2.split()), len(word_tokenize(corpus_2))"
   ]
  },
  {
   "cell_type": "code",
   "execution_count": 12,
   "id": "245a3339",
   "metadata": {},
   "outputs": [
    {
     "data": {
      "text/plain": [
       "185326"
      ]
     },
     "execution_count": 12,
     "metadata": {},
     "output_type": "execute_result"
    }
   ],
   "source": [
    "from nltk.tokenize import treebank\n",
    "len(treebank.TreebankWordTokenizer().tokenize(corpus_2))"
   ]
  },
  {
   "cell_type": "code",
   "execution_count": 20,
   "id": "9b5ec228",
   "metadata": {},
   "outputs": [],
   "source": [
    "from nltk.tag import pos_tag\n",
    "from nltk.help import upenn_tagset, brown_tagset"
   ]
  },
  {
   "cell_type": "code",
   "execution_count": null,
   "id": "fc300670",
   "metadata": {},
   "outputs": [],
   "source": [
    "# Treebank -> pennTreebank 라고도 부른다"
   ]
  },
  {
   "cell_type": "code",
   "execution_count": 19,
   "id": "70b63462",
   "metadata": {
    "collapsed": true
   },
   "outputs": [
    {
     "name": "stdout",
     "output_type": "stream",
     "text": [
      "$: dollar\n",
      "    $ -$ --$ A$ C$ HK$ M$ NZ$ S$ U.S.$ US$\n",
      "'': closing quotation mark\n",
      "    ' ''\n",
      "(: opening parenthesis\n",
      "    ( [ {\n",
      "): closing parenthesis\n",
      "    ) ] }\n",
      ",: comma\n",
      "    ,\n",
      "--: dash\n",
      "    --\n",
      ".: sentence terminator\n",
      "    . ! ?\n",
      ":: colon or ellipsis\n",
      "    : ; ...\n",
      "CC: conjunction, coordinating\n",
      "    & 'n and both but either et for less minus neither nor or plus so\n",
      "    therefore times v. versus vs. whether yet\n",
      "CD: numeral, cardinal\n",
      "    mid-1890 nine-thirty forty-two one-tenth ten million 0.5 one forty-\n",
      "    seven 1987 twenty '79 zero two 78-degrees eighty-four IX '60s .025\n",
      "    fifteen 271,124 dozen quintillion DM2,000 ...\n",
      "DT: determiner\n",
      "    all an another any both del each either every half la many much nary\n",
      "    neither no some such that the them these this those\n",
      "EX: existential there\n",
      "    there\n",
      "FW: foreign word\n",
      "    gemeinschaft hund ich jeux habeas Haementeria Herr K'ang-si vous\n",
      "    lutihaw alai je jour objets salutaris fille quibusdam pas trop Monte\n",
      "    terram fiche oui corporis ...\n",
      "IN: preposition or conjunction, subordinating\n",
      "    astride among uppon whether out inside pro despite on by throughout\n",
      "    below within for towards near behind atop around if like until below\n",
      "    next into if beside ...\n",
      "JJ: adjective or numeral, ordinal\n",
      "    third ill-mannered pre-war regrettable oiled calamitous first separable\n",
      "    ectoplasmic battery-powered participatory fourth still-to-be-named\n",
      "    multilingual multi-disciplinary ...\n",
      "JJR: adjective, comparative\n",
      "    bleaker braver breezier briefer brighter brisker broader bumper busier\n",
      "    calmer cheaper choosier cleaner clearer closer colder commoner costlier\n",
      "    cozier creamier crunchier cuter ...\n",
      "JJS: adjective, superlative\n",
      "    calmest cheapest choicest classiest cleanest clearest closest commonest\n",
      "    corniest costliest crassest creepiest crudest cutest darkest deadliest\n",
      "    dearest deepest densest dinkiest ...\n",
      "LS: list item marker\n",
      "    A A. B B. C C. D E F First G H I J K One SP-44001 SP-44002 SP-44005\n",
      "    SP-44007 Second Third Three Two * a b c d first five four one six three\n",
      "    two\n",
      "MD: modal auxiliary\n",
      "    can cannot could couldn't dare may might must need ought shall should\n",
      "    shouldn't will would\n",
      "NN: noun, common, singular or mass\n",
      "    common-carrier cabbage knuckle-duster Casino afghan shed thermostat\n",
      "    investment slide humour falloff slick wind hyena override subhumanity\n",
      "    machinist ...\n",
      "NNP: noun, proper, singular\n",
      "    Motown Venneboerger Czestochwa Ranzer Conchita Trumplane Christos\n",
      "    Oceanside Escobar Kreisler Sawyer Cougar Yvette Ervin ODI Darryl CTCA\n",
      "    Shannon A.K.C. Meltex Liverpool ...\n",
      "NNPS: noun, proper, plural\n",
      "    Americans Americas Amharas Amityvilles Amusements Anarcho-Syndicalists\n",
      "    Andalusians Andes Andruses Angels Animals Anthony Antilles Antiques\n",
      "    Apache Apaches Apocrypha ...\n",
      "NNS: noun, common, plural\n",
      "    undergraduates scotches bric-a-brac products bodyguards facets coasts\n",
      "    divestitures storehouses designs clubs fragrances averages\n",
      "    subjectivists apprehensions muses factory-jobs ...\n",
      "PDT: pre-determiner\n",
      "    all both half many quite such sure this\n",
      "POS: genitive marker\n",
      "    ' 's\n",
      "PRP: pronoun, personal\n",
      "    hers herself him himself hisself it itself me myself one oneself ours\n",
      "    ourselves ownself self she thee theirs them themselves they thou thy us\n",
      "PRP$: pronoun, possessive\n",
      "    her his mine my our ours their thy your\n",
      "RB: adverb\n",
      "    occasionally unabatingly maddeningly adventurously professedly\n",
      "    stirringly prominently technologically magisterially predominately\n",
      "    swiftly fiscally pitilessly ...\n",
      "RBR: adverb, comparative\n",
      "    further gloomier grander graver greater grimmer harder harsher\n",
      "    healthier heavier higher however larger later leaner lengthier less-\n",
      "    perfectly lesser lonelier longer louder lower more ...\n",
      "RBS: adverb, superlative\n",
      "    best biggest bluntest earliest farthest first furthest hardest\n",
      "    heartiest highest largest least less most nearest second tightest worst\n",
      "RP: particle\n",
      "    aboard about across along apart around aside at away back before behind\n",
      "    by crop down ever fast for forth from go high i.e. in into just later\n",
      "    low more off on open out over per pie raising start teeth that through\n",
      "    under unto up up-pp upon whole with you\n",
      "SYM: symbol\n",
      "    % & ' '' ''. ) ). * + ,. < = > @ A[fj] U.S U.S.S.R * ** ***\n",
      "TO: \"to\" as preposition or infinitive marker\n",
      "    to\n",
      "UH: interjection\n",
      "    Goodbye Goody Gosh Wow Jeepers Jee-sus Hubba Hey Kee-reist Oops amen\n",
      "    huh howdy uh dammit whammo shucks heck anyways whodunnit honey golly\n",
      "    man baby diddle hush sonuvabitch ...\n",
      "VB: verb, base form\n",
      "    ask assemble assess assign assume atone attention avoid bake balkanize\n",
      "    bank begin behold believe bend benefit bevel beware bless boil bomb\n",
      "    boost brace break bring broil brush build ...\n",
      "VBD: verb, past tense\n",
      "    dipped pleaded swiped regummed soaked tidied convened halted registered\n",
      "    cushioned exacted snubbed strode aimed adopted belied figgered\n",
      "    speculated wore appreciated contemplated ...\n",
      "VBG: verb, present participle or gerund\n",
      "    telegraphing stirring focusing angering judging stalling lactating\n",
      "    hankerin' alleging veering capping approaching traveling besieging\n",
      "    encrypting interrupting erasing wincing ...\n",
      "VBN: verb, past participle\n",
      "    multihulled dilapidated aerosolized chaired languished panelized used\n",
      "    experimented flourished imitated reunifed factored condensed sheared\n",
      "    unsettled primed dubbed desired ...\n",
      "VBP: verb, present tense, not 3rd person singular\n",
      "    predominate wrap resort sue twist spill cure lengthen brush terminate\n",
      "    appear tend stray glisten obtain comprise detest tease attract\n",
      "    emphasize mold postpone sever return wag ...\n",
      "VBZ: verb, present tense, 3rd person singular\n",
      "    bases reconstructs marks mixes displeases seals carps weaves snatches\n",
      "    slumps stretches authorizes smolders pictures emerges stockpiles\n",
      "    seduces fizzes uses bolsters slaps speaks pleads ...\n",
      "WDT: WH-determiner\n",
      "    that what whatever which whichever\n",
      "WP: WH-pronoun\n",
      "    that what whatever whatsoever which who whom whosoever\n",
      "WP$: WH-pronoun, possessive\n",
      "    whose\n",
      "WRB: Wh-adverb\n",
      "    how however whence whenever where whereby whereever wherein whereof why\n",
      "``: opening quotation mark\n",
      "    ` ``\n"
     ]
    }
   ],
   "source": [
    "upenn_tagset()"
   ]
  },
  {
   "cell_type": "code",
   "execution_count": 32,
   "id": "4fbf1596",
   "metadata": {},
   "outputs": [
    {
     "data": {
      "text/plain": [
       "(185326, 9852)"
      ]
     },
     "execution_count": 32,
     "metadata": {},
     "output_type": "execute_result"
    }
   ],
   "source": [
    "len(treebank.TreebankWordTokenizer().tokenize(corpus_2)),\\\n",
    "len(set(treebank.TreebankWordTokenizer().tokenize(corpus_2)))"
   ]
  },
  {
   "cell_type": "code",
   "execution_count": 31,
   "id": "e19cc3f2",
   "metadata": {},
   "outputs": [
    {
     "data": {
      "text/plain": [
       "(161983, 7723)"
      ]
     },
     "execution_count": 31,
     "metadata": {},
     "output_type": "execute_result"
    }
   ],
   "source": [
    "# 문자+숫자+_\n",
    "len(regexp_tokenize(corpus_2, '\\w+')),\\\n",
    "len(set(regexp_tokenize(corpus_2, '\\w+')))"
   ]
  },
  {
   "cell_type": "code",
   "execution_count": 30,
   "id": "aaa31cc2",
   "metadata": {},
   "outputs": [
    {
     "data": {
      "text/plain": [
       "(15270, 753)"
      ]
     },
     "execution_count": 30,
     "metadata": {},
     "output_type": "execute_result"
    }
   ],
   "source": [
    "len(regexp_tokenize(corpus_2, '([A-Z]\\w+)')),\\\n",
    "len(set(regexp_tokenize(corpus_2, '([A-Z]\\w+)')))"
   ]
  },
  {
   "cell_type": "code",
   "execution_count": 29,
   "id": "148ed158",
   "metadata": {},
   "outputs": [
    {
     "data": {
      "text/plain": [
       "(159946, 9317)"
      ]
     },
     "execution_count": 29,
     "metadata": {},
     "output_type": "execute_result"
    }
   ],
   "source": [
    "len(regexp_tokenize(corpus_2, '[a-zA-Z\\'-]+')),\\\n",
    "len(set(regexp_tokenize(corpus_2, '[a-zA-Z\\'-]+')))"
   ]
  },
  {
   "cell_type": "code",
   "execution_count": 28,
   "id": "ce997dfa",
   "metadata": {},
   "outputs": [
    {
     "data": {
      "text/plain": [
       "(193228, 8938)"
      ]
     },
     "execution_count": 28,
     "metadata": {},
     "output_type": "execute_result"
    }
   ],
   "source": [
    "len(TweetTokenizer().tokenize(corpus_2)),\\\n",
    "len(set(TweetTokenizer().tokenize(corpus_2)))\n",
    "# => 감정상태 분석할 때 사용 :), :(, =) 이모지"
   ]
  },
  {
   "cell_type": "code",
   "execution_count": 33,
   "id": "37bb7a91",
   "metadata": {
    "collapsed": true
   },
   "outputs": [
    {
     "data": {
      "text/plain": [
       "{'note--no',\n",
       " 'ill--that',\n",
       " 'perhaps--when',\n",
       " 'fancy--I',\n",
       " 'doing--whether',\n",
       " 'it--and',\n",
       " 'it--I',\n",
       " 'papa--that',\n",
       " 'mistaken--and',\n",
       " \"Larkins's\",\n",
       " 'business--but',\n",
       " 'it--there',\n",
       " \"writing-master's\",\n",
       " 'out--a',\n",
       " 'something--Offices',\n",
       " 'her--that',\n",
       " \"an't\",\n",
       " 'satisfied--Our',\n",
       " 'wise--but',\n",
       " 'manners--and',\n",
       " 'glances',\n",
       " 'heart--such',\n",
       " 'ten--for',\n",
       " 'face--her',\n",
       " 'line--nothing',\n",
       " 'her--Mrs',\n",
       " 'altogether--I',\n",
       " 'goodness--and',\n",
       " 'vanity--but',\n",
       " \"shan't\",\n",
       " \"lady's\",\n",
       " 'is--I',\n",
       " \"Where's\",\n",
       " 'sake--I',\n",
       " \"moment's\",\n",
       " 'grateful--and',\n",
       " 'well--and--and',\n",
       " 'stopping--it',\n",
       " 'up--but',\n",
       " 'in--what',\n",
       " 'times--but',\n",
       " 'silly--so',\n",
       " 'Manchester-street--was',\n",
       " \"Frank's\",\n",
       " 'way--that',\n",
       " \"Isabella's\",\n",
       " 'here--I',\n",
       " '\"',\n",
       " 'another--and',\n",
       " 'woman--just',\n",
       " 'side--but',\n",
       " \"child's\",\n",
       " 'well--only',\n",
       " 'tart--a',\n",
       " \"I'd\",\n",
       " 'her--and',\n",
       " 'agitated--very',\n",
       " 'Donwell--very',\n",
       " 'woman--the',\n",
       " 'hours--and',\n",
       " 'circle--exploring',\n",
       " 'did--and',\n",
       " 'St',\n",
       " 'go--and',\n",
       " 'know--in',\n",
       " 'Emma--and',\n",
       " 'much--but',\n",
       " 'absent--but',\n",
       " 'notice--You',\n",
       " 'at--and',\n",
       " 'wish--Stay',\n",
       " 'away--and',\n",
       " 'shrubbery--in',\n",
       " 'usual--a',\n",
       " 'mean--What',\n",
       " 'understanding--really',\n",
       " 'given--frightfully',\n",
       " 'him--nay',\n",
       " 'came--a',\n",
       " 'charming--one',\n",
       " 'altogether--thought',\n",
       " 'ourselves--but',\n",
       " 'house--the',\n",
       " \"aunt's\",\n",
       " 'throat--just',\n",
       " 'better--or',\n",
       " 'doubted--and',\n",
       " 'sat--and',\n",
       " 'subdued--and',\n",
       " \"thing's\",\n",
       " 'thinking--Oh',\n",
       " 'satisfied--unaccountable',\n",
       " 'coachman--no',\n",
       " 'Emma--differing',\n",
       " 'mother--or',\n",
       " 'will--I',\n",
       " 'altogether--face',\n",
       " 'fortune--that',\n",
       " 'perhaps--and',\n",
       " 'home--nothing',\n",
       " \"brother-in-law's\",\n",
       " 'it--very',\n",
       " 'to--of',\n",
       " \"Garrick's\",\n",
       " 'you--and',\n",
       " 'Yes--it',\n",
       " \"Hymen's\",\n",
       " 'together--and',\n",
       " 'nothing--makes',\n",
       " 'Woodhouse--well',\n",
       " 'sort--which',\n",
       " '_White',\n",
       " 'C',\n",
       " 'enjoyed--but',\n",
       " \"Wingfield's\",\n",
       " 'ult',\n",
       " \"leave'--something\",\n",
       " 'time--never',\n",
       " 'dependence--and',\n",
       " 'should--and',\n",
       " 'persuaded--Miss',\n",
       " 'old--how',\n",
       " 'me--but',\n",
       " 'Dr',\n",
       " 'too--knowing',\n",
       " 'honour--I',\n",
       " 'town--Mrs',\n",
       " 'Jeffereys--Clara',\n",
       " 'give--for',\n",
       " 'pianoforte--and',\n",
       " 'in--observing',\n",
       " 'account--we',\n",
       " 'waiting--and',\n",
       " 'music--passionately',\n",
       " 'improvement--a',\n",
       " 'read---mum',\n",
       " 'not--except',\n",
       " 'Woodhouse--I',\n",
       " 'intelligence--listened',\n",
       " 'himself--which',\n",
       " 'always--I',\n",
       " 'push--of',\n",
       " 'to-day--and',\n",
       " 'Grove--and',\n",
       " 'him--not',\n",
       " 'probable--still',\n",
       " 'preference--remained',\n",
       " 'quite--I',\n",
       " 'at--or',\n",
       " 'answered--and',\n",
       " 'pork--I',\n",
       " 'stables--I',\n",
       " 'will--and',\n",
       " 'Hartfield--which',\n",
       " 'together--not',\n",
       " 'manner--this',\n",
       " 'ninth--and',\n",
       " 'father--Mr',\n",
       " \"husband's\",\n",
       " 'aspired--Miss',\n",
       " 'handsome--too',\n",
       " \"gentlemen's\",\n",
       " 'gentlemen--I',\n",
       " 'was--tacitly',\n",
       " '_it_',\n",
       " 'business--that',\n",
       " 'clearly--and',\n",
       " 'said--much',\n",
       " 'you--oftener',\n",
       " 'shock--with',\n",
       " 'be--And',\n",
       " 'vanities',\n",
       " 'away--he',\n",
       " 'service--and',\n",
       " 'fatiguing--and',\n",
       " 'meant--and',\n",
       " 'through--and',\n",
       " 'trees--I',\n",
       " \"week's\",\n",
       " 'northward',\n",
       " 'event--a',\n",
       " 'drawing--in',\n",
       " 'different--no',\n",
       " 'Harriet--never',\n",
       " 'said--I',\n",
       " 'others--she',\n",
       " '_Rev',\n",
       " 'no--a',\n",
       " 'Well--if',\n",
       " 'peace--neither',\n",
       " 'him--had',\n",
       " 'just--every',\n",
       " 'able--she',\n",
       " 'important--and',\n",
       " 'come--much',\n",
       " 'alphabets--their',\n",
       " 'mother--indeed',\n",
       " 'done--One',\n",
       " 'heat--he',\n",
       " 'Aye--like',\n",
       " 'shawl--Frank',\n",
       " 'one--that',\n",
       " 'shop--or',\n",
       " 'Tis',\n",
       " 'hoping--fearing--adoring--ready',\n",
       " 'chuse--but',\n",
       " 'no--there',\n",
       " \"niece's\",\n",
       " 'case--and',\n",
       " 'best--my',\n",
       " 'else--and',\n",
       " \"out-Churchill'd\",\n",
       " 'ball--the',\n",
       " 'herself--very',\n",
       " 'c',\n",
       " 'wander--but',\n",
       " 'do--but',\n",
       " \"destin'd\",\n",
       " 'wife--it',\n",
       " 'sorry--extremely',\n",
       " 'No--pray',\n",
       " 'good--hautboy',\n",
       " 'incongruous--or',\n",
       " \"Harriet's--more\",\n",
       " 'anticipated--which',\n",
       " 'post-office--catching',\n",
       " 'them--and',\n",
       " 'distressed--did',\n",
       " \"heroine's\",\n",
       " 'evil--but',\n",
       " 'Smith--such',\n",
       " \"her's\",\n",
       " 'Emma--what',\n",
       " 'been--hard',\n",
       " 'obedience--for',\n",
       " 'minutes--and',\n",
       " 'long--was',\n",
       " 'them--rather',\n",
       " \"body's\",\n",
       " 'miles--nay',\n",
       " \"instant's\",\n",
       " \"Taylor's\",\n",
       " \"people's\",\n",
       " 'letter--written',\n",
       " 'it--Mr',\n",
       " \"d'ye\",\n",
       " 'seconds--and',\n",
       " 'father--certainly',\n",
       " 'again--but',\n",
       " 'yesterday--that',\n",
       " 'third--a',\n",
       " 'there--that',\n",
       " 'them--but',\n",
       " 'near--and',\n",
       " 'people--and',\n",
       " 'did--to',\n",
       " 'please--but',\n",
       " \"wife's\",\n",
       " 'woman--engaged',\n",
       " 'thing--in',\n",
       " 'then--she',\n",
       " 'course--and',\n",
       " 'ago--what',\n",
       " 'expressed--almost',\n",
       " 'Bateses--I',\n",
       " 'health--his',\n",
       " 'superior--to',\n",
       " 'Perry--how',\n",
       " 'both--a',\n",
       " 'circumstances--feelings',\n",
       " 'world--a',\n",
       " 'daughter--who',\n",
       " 'here--and',\n",
       " 'short--merely',\n",
       " 'room--Miss',\n",
       " \"Humph--Harriet's\",\n",
       " 'mind--to',\n",
       " 'Westons--who',\n",
       " 'her--the',\n",
       " 'way--just',\n",
       " 'month--merely',\n",
       " 'shadow--both',\n",
       " 'else--which',\n",
       " 'warm--her',\n",
       " 'instrument--though',\n",
       " 'own--that',\n",
       " 'Weston--it',\n",
       " 'point--and',\n",
       " 'Enscombe--in',\n",
       " 'own--but',\n",
       " 'passage--were',\n",
       " 'Fairfax--and',\n",
       " 'style--and',\n",
       " 'sorry--and',\n",
       " 'hope--he',\n",
       " 'dear--I',\n",
       " \"Bella's\",\n",
       " 'indeed--_we',\n",
       " 'Yes--what',\n",
       " 'offended--he',\n",
       " \"uncle's\",\n",
       " 'do--I',\n",
       " 'before--less',\n",
       " 'Yes--I',\n",
       " 'John--and',\n",
       " 'life--required',\n",
       " 'arranged--sometimes',\n",
       " 'least--except',\n",
       " \"Selina's\",\n",
       " 'not--but',\n",
       " 'music--never',\n",
       " 'favourite--always',\n",
       " 'rude--but',\n",
       " 'out--I',\n",
       " 'necessary--I',\n",
       " 'off--very',\n",
       " 'you--but',\n",
       " '. . . .',\n",
       " 'talk--and',\n",
       " 'interested--but',\n",
       " 'feeling--there',\n",
       " 'like--but',\n",
       " 'perhaps--it',\n",
       " 'preference--and',\n",
       " 'returning--Every',\n",
       " \"infant's\",\n",
       " 'result--the',\n",
       " 'fortune--though',\n",
       " 'not--and',\n",
       " 'wife--for',\n",
       " 'Perrys--I',\n",
       " 'then--only',\n",
       " 'blinded--that',\n",
       " 'instead--never',\n",
       " 'thoughtful--and',\n",
       " \"farmer's\",\n",
       " 'staircase--You',\n",
       " 'scarce--Chili',\n",
       " 'crowd--a',\n",
       " 'offence--but',\n",
       " 'me--this',\n",
       " 'talk--but',\n",
       " 'person--tall',\n",
       " 'cool--and',\n",
       " 'sad--but',\n",
       " \"hour's\",\n",
       " 'no--how',\n",
       " 'occasion--to',\n",
       " 'Taylor--It',\n",
       " 'described--it',\n",
       " 'two--from',\n",
       " 'years--and',\n",
       " 'saying--at',\n",
       " 'company--the',\n",
       " 'regrets--to',\n",
       " 'undoubtedly--remarkably',\n",
       " 'concern--something',\n",
       " 'circle--but',\n",
       " \"don't\",\n",
       " 'existence--never',\n",
       " 'shawl--for',\n",
       " 'word--No',\n",
       " 'do--and',\n",
       " 'her--they',\n",
       " 'concerns--expecting',\n",
       " \"mother-in-law's\",\n",
       " 'perhaps--I',\n",
       " 'announce--but',\n",
       " \"tongue's\",\n",
       " 'again--and',\n",
       " 'know--Mr',\n",
       " 'her--James',\n",
       " \"grandmama's\",\n",
       " 'come--but',\n",
       " 'kind--but',\n",
       " 'to-morrow--half',\n",
       " 'enough--to',\n",
       " 'sir--or',\n",
       " 'side--after',\n",
       " 'goose--the',\n",
       " 'triumph--and',\n",
       " \"Jane's\",\n",
       " 'flesh--but',\n",
       " 'four-and-twenty--cannot',\n",
       " 'loved--yes',\n",
       " 'forth--I',\n",
       " 'afternoon--but',\n",
       " 'other--nothing',\n",
       " 'Knightley--but',\n",
       " \"butler's\",\n",
       " 'sake--be',\n",
       " \"nephew's\",\n",
       " 'conversation--and',\n",
       " 'did--but',\n",
       " 'Harriet--such',\n",
       " 'no--I',\n",
       " \"Bragge's\",\n",
       " 'evening--now',\n",
       " 'stooping--glaring',\n",
       " 'words--one',\n",
       " 'acquainted--they',\n",
       " \"person's\",\n",
       " 'object--but',\n",
       " 'of--it',\n",
       " 'superior--no',\n",
       " 'two--compared',\n",
       " 'different--the',\n",
       " 'house--and',\n",
       " 'preface',\n",
       " 'impartiality',\n",
       " 'themselves--neither',\n",
       " 'hesitating--It',\n",
       " 'talking--strawberries',\n",
       " 'scruple--without',\n",
       " 'would--for',\n",
       " \"Woman's\",\n",
       " 'Well--but',\n",
       " 'Weston--he',\n",
       " \"Cox's\",\n",
       " 'shoulders--and',\n",
       " 'Emma--quite',\n",
       " 'read--not',\n",
       " 'life--or',\n",
       " \"Abdy's\",\n",
       " \"Suckling's\",\n",
       " 'follies--her',\n",
       " 'coming--his',\n",
       " 'gruel--perfectly',\n",
       " 'sense--your',\n",
       " 'body--any',\n",
       " 'other--what',\n",
       " \"Perry's\",\n",
       " 'feelings--but',\n",
       " 'myself--but',\n",
       " 'School--not',\n",
       " \"man--but'--In\",\n",
       " 'object--and',\n",
       " '_Mrs',\n",
       " 'friend--any',\n",
       " 'of--Mr',\n",
       " 'time--tiresome',\n",
       " 'abundantly--but',\n",
       " 'feeding--to',\n",
       " \"world's\",\n",
       " 'obtained--which',\n",
       " 'sea--a',\n",
       " 'enchanting',\n",
       " 'out--do',\n",
       " 'morning--I',\n",
       " 'no--what',\n",
       " 'come--and',\n",
       " 'so--for',\n",
       " 'turns--my',\n",
       " 'unfortunately--in',\n",
       " 'imagined--that',\n",
       " 'present--to',\n",
       " 'parade--a',\n",
       " 'desirable--what',\n",
       " 'How--how',\n",
       " 'life--at',\n",
       " 'consider--you',\n",
       " 'wedding-present',\n",
       " 'and--indulging',\n",
       " 'treatment--and',\n",
       " \"That's\",\n",
       " 'began--stopping',\n",
       " \"Randall's\",\n",
       " 'leisure--I',\n",
       " 'word--but',\n",
       " 'pork--Jane',\n",
       " 'eighteen--it',\n",
       " 'able--Have',\n",
       " 'woods',\n",
       " 'gipsies--it',\n",
       " \"nobody's\",\n",
       " 'spared--but',\n",
       " 'always--but',\n",
       " 'do;',\n",
       " 'No--till',\n",
       " 'love--every',\n",
       " 'Bristol--Maple',\n",
       " 'least--I',\n",
       " \"mistress's\",\n",
       " 'attachment--whether',\n",
       " 'vain--by',\n",
       " 'deep--in',\n",
       " 'resources--and',\n",
       " 'extremely--thought',\n",
       " 'attempt--I',\n",
       " 'of--inferior',\n",
       " 'look--how',\n",
       " 'however--for',\n",
       " 'cross--and',\n",
       " 'sun--tired',\n",
       " 'there--one',\n",
       " 'l',\n",
       " 'herself--but',\n",
       " 'alarmed--she',\n",
       " 'choice--handsome',\n",
       " 'Smallridge--charming',\n",
       " 'her--on',\n",
       " 'him--but',\n",
       " 'Cannot',\n",
       " 'Caroline',\n",
       " 'W',\n",
       " 'friend--give',\n",
       " 'her--is',\n",
       " 'justice--only',\n",
       " 'over--it',\n",
       " 'her--not',\n",
       " 'broadly--she',\n",
       " 'friendship--Indignation--Abominable',\n",
       " 'refreshing--only',\n",
       " 'Hartfield--though',\n",
       " 'name--I',\n",
       " 'Churchills--or',\n",
       " 'them--the',\n",
       " 'intently--in',\n",
       " 'longer--and',\n",
       " 'hopeless',\n",
       " 'due--or',\n",
       " 'easy--but',\n",
       " 'family--and',\n",
       " 'parties--young',\n",
       " 'forward--came',\n",
       " 'girls--delightful',\n",
       " 'considered--resolved--and',\n",
       " 'matting--My',\n",
       " 'woman--Here',\n",
       " 'pork--but',\n",
       " 'Taylor--that',\n",
       " 'surprized--but',\n",
       " 'to-day--for',\n",
       " 'sensible--much',\n",
       " 'number--only',\n",
       " 'of--and',\n",
       " 'different--which',\n",
       " 'him--said',\n",
       " \"do's\",\n",
       " 'tea--the',\n",
       " 'attention--and',\n",
       " 'impediment--less',\n",
       " \"Smallridge's\",\n",
       " 'did--cheerfully',\n",
       " 'herself--so',\n",
       " 'letters--and',\n",
       " 'villain',\n",
       " \"that's\",\n",
       " 'world--but',\n",
       " 'Emma--its',\n",
       " 'phrase--and',\n",
       " \"Elton's--a\",\n",
       " 'sure--our',\n",
       " 'indeed--and',\n",
       " 'bye--I',\n",
       " '___',\n",
       " 'things--but',\n",
       " 'home--it',\n",
       " 'again--for',\n",
       " 'contrived--no',\n",
       " 'approve--so',\n",
       " 'distance--and',\n",
       " 'sir--I',\n",
       " 'warmth--but',\n",
       " 'where--was',\n",
       " 'information--but',\n",
       " 'Hartfield--at',\n",
       " '-',\n",
       " 'walk--a',\n",
       " 'account--she',\n",
       " 'for--thinks',\n",
       " 'E',\n",
       " 'command--but',\n",
       " 'health--and',\n",
       " 'know--No',\n",
       " 'first--she',\n",
       " \"baker's\",\n",
       " 'well--blaming',\n",
       " 'felt--it',\n",
       " \"Aladdin's\",\n",
       " 'again--to',\n",
       " 'self--the',\n",
       " 'it--certainly',\n",
       " 'congratulated--ready',\n",
       " 'encroach',\n",
       " 'seized--her',\n",
       " 'make--and',\n",
       " \"Ford's\",\n",
       " 'obtrude--but',\n",
       " 'age--what',\n",
       " 'hesitated--she',\n",
       " 'acknowledged--what',\n",
       " 'properly--there',\n",
       " 'idea--and',\n",
       " 'thing--Who',\n",
       " 'again--no',\n",
       " 'Woodhouse--how',\n",
       " 'charmed',\n",
       " 'compassion--and',\n",
       " 'see--and',\n",
       " 'approve--something',\n",
       " \"fortnight's\",\n",
       " 'well--and',\n",
       " 'eatable--hautboys',\n",
       " 'gentleman--and',\n",
       " 'Hart',\n",
       " \"Elton's--probably\",\n",
       " 'for--but',\n",
       " 'ending--and',\n",
       " 'better--grown',\n",
       " 'S',\n",
       " 'idea--I',\n",
       " 'smiles--Mr',\n",
       " 'niece--entirely',\n",
       " 'essay--but',\n",
       " 'guess--all',\n",
       " 'scattered--the',\n",
       " 'too--Mrs',\n",
       " 'years--how',\n",
       " 'see--at',\n",
       " 'ladylike--and',\n",
       " 'way--so',\n",
       " 'seem--that',\n",
       " 'while--and',\n",
       " 'consultation',\n",
       " 'occasion--or',\n",
       " 'night--if',\n",
       " 'Fairfax--but',\n",
       " \"hood-wink'd\",\n",
       " 'carte-blanche',\n",
       " 'I--well',\n",
       " 'disagreeable--I',\n",
       " \"adversary's\",\n",
       " 'other--and',\n",
       " 'friends--but',\n",
       " 'also--it',\n",
       " 'No--I',\n",
       " 'tone--what',\n",
       " 'Yes--entirely',\n",
       " 'know--it',\n",
       " 'word--Miss',\n",
       " 'me--it',\n",
       " \"son-in-law's\",\n",
       " 'repeated--or',\n",
       " 'yes--very--a',\n",
       " 'is--so',\n",
       " 'me--that',\n",
       " 'them--for',\n",
       " 'dear--but',\n",
       " 'disservice',\n",
       " 'take--and',\n",
       " 'Smith--I',\n",
       " 'not--for',\n",
       " 'street--happy',\n",
       " \"your's\",\n",
       " 'all--only',\n",
       " '_',\n",
       " 'conciliating',\n",
       " 'kindness--the',\n",
       " 'know--but',\n",
       " 'Lane--turning',\n",
       " 'love--but',\n",
       " 'it--still',\n",
       " 'travel--but',\n",
       " 'Yes--no--yes',\n",
       " 'time--but',\n",
       " 'Kingston--are',\n",
       " 'expected--she',\n",
       " 'death--could',\n",
       " 'sight--and',\n",
       " 'K',\n",
       " 'father--and',\n",
       " \"butcher's\",\n",
       " 'door--and',\n",
       " 'durable--indeed',\n",
       " 'wedding-day--and',\n",
       " 'addresses--and',\n",
       " 'doors--a',\n",
       " 'time--and',\n",
       " 'up--parties',\n",
       " 'dancing--Miss',\n",
       " 'want--consideration',\n",
       " 'was--and',\n",
       " 'letter--wrote',\n",
       " 'supposed--and',\n",
       " 'over--and',\n",
       " 'wrong--and',\n",
       " 'competence--enough',\n",
       " 'anxiety--he',\n",
       " \"here's\",\n",
       " 'bustle--for',\n",
       " 'Coles--worthy',\n",
       " 'Conjecture--aye',\n",
       " 'way--delicious',\n",
       " 'woman--most',\n",
       " 'woman--but',\n",
       " 'mixing--and',\n",
       " 'her--quickness',\n",
       " 'again--yet',\n",
       " 'did--while',\n",
       " 'housekeeper--no',\n",
       " 'good--but',\n",
       " 'afterwards--and',\n",
       " 'believe--Excuse',\n",
       " \"son's\",\n",
       " 'that--As',\n",
       " 'understand--dearest',\n",
       " 'news--and',\n",
       " 'you--I',\n",
       " 'cleverer--for',\n",
       " 'directly--I',\n",
       " 'it--almost',\n",
       " 'nothing--for',\n",
       " 'proceeded--and',\n",
       " \"William's\",\n",
       " 'me--never',\n",
       " 'afterwards--as',\n",
       " 'indeed--quite',\n",
       " 'father--another',\n",
       " 'sir--but',\n",
       " 'morning--we',\n",
       " 'two--and',\n",
       " \"another's\",\n",
       " 'party--in',\n",
       " 'abroad--had',\n",
       " \"mama's\",\n",
       " 'them--he',\n",
       " 'Donwell--some',\n",
       " 'yes--she',\n",
       " 'indulgent--especially',\n",
       " 'tete-a-tete--they',\n",
       " 'rain--she',\n",
       " \"minute's\",\n",
       " 'man--But',\n",
       " 'ascending',\n",
       " 'moment--_his',\n",
       " 'really--if',\n",
       " 'methodical',\n",
       " 'kindness--and',\n",
       " 'father--but',\n",
       " 'you--forgive',\n",
       " 'cold--which',\n",
       " 'probably--a',\n",
       " 'it--exactly',\n",
       " 'maintained--or',\n",
       " 'seats--but',\n",
       " 'upon--I',\n",
       " 'say--Yes',\n",
       " 'were--very',\n",
       " 'mine--and',\n",
       " 'gone--and',\n",
       " \"master's\",\n",
       " 'flattering--but',\n",
       " 'was--but',\n",
       " 'difference--which',\n",
       " \"one's\",\n",
       " \"ostler's\",\n",
       " 'longer--but',\n",
       " 'no--far',\n",
       " \"their's\",\n",
       " 'yes--did',\n",
       " 'Churchill--must',\n",
       " 'children--a',\n",
       " 'deficiency--but',\n",
       " 'contemplation--as',\n",
       " 'sure--for',\n",
       " 'together--Frank',\n",
       " 'drills--and',\n",
       " \"your's--and\",\n",
       " 'Yes--rather--I',\n",
       " 'renewed--gardeners',\n",
       " 'came--Madness',\n",
       " 'beloved--which',\n",
       " 'Bates--it',\n",
       " 'absurdity--Actually',\n",
       " 'Grove--cultivation--beds',\n",
       " \"Graham's\",\n",
       " 'childhood--and',\n",
       " 'mortified--disappointed',\n",
       " 'indeed--to',\n",
       " 'day--but',\n",
       " 'it--though',\n",
       " 'disposed--had',\n",
       " 'up--One',\n",
       " 'her--be',\n",
       " 'wishes--your',\n",
       " 'himself--how',\n",
       " 'Emma--tell',\n",
       " \"morrow's\",\n",
       " 'fatigue--quick',\n",
       " 'spring--but',\n",
       " 'able--and',\n",
       " 'believed--she',\n",
       " 'But--that',\n",
       " 'notice--short',\n",
       " 'over--but',\n",
       " 'October--formed',\n",
       " 'thing--to',\n",
       " 'notice--it',\n",
       " 'nephew--gave',\n",
       " \"James's\",\n",
       " 'handsome--not',\n",
       " 'be--but',\n",
       " 'friend--for',\n",
       " 'such--And',\n",
       " \"Astley's\",\n",
       " 'him--that',\n",
       " 'home--and',\n",
       " 'know--if',\n",
       " 'Harriet--your',\n",
       " 'was--fortunately',\n",
       " 'aloud--all',\n",
       " 'day--till',\n",
       " 'Easter--and',\n",
       " \"haberdasher's\",\n",
       " 'us--take',\n",
       " 'carriage--we',\n",
       " 'arm--actually',\n",
       " 'life--and',\n",
       " 'bride--I',\n",
       " 'read--or',\n",
       " 'fore-shortening',\n",
       " 'here--for',\n",
       " 'timidity--and',\n",
       " 'no--none',\n",
       " 'up--Quantities',\n",
       " \"Broadwood's\",\n",
       " 'down--which',\n",
       " 'cards--and',\n",
       " 'object--if',\n",
       " 'give--it',\n",
       " 'so--The',\n",
       " 'cannot',\n",
       " 'instrument--not',\n",
       " 'mortals',\n",
       " 'happy--It',\n",
       " 'Coles--and',\n",
       " 'either--for',\n",
       " 'Emma--cannot',\n",
       " 'hence--to',\n",
       " 'ill--and',\n",
       " 'error--more',\n",
       " \"can't\",\n",
       " 'doubtingly--rather',\n",
       " 'door--I',\n",
       " 'express--I',\n",
       " 'huswife--and',\n",
       " 'her--he',\n",
       " 'pain--no',\n",
       " 'up--her',\n",
       " 'Certainly--very',\n",
       " 'pianoforte--a',\n",
       " 'deal--but',\n",
       " \"Martin's\",\n",
       " 'destroy--what',\n",
       " 'door--Elizabeth',\n",
       " 'education--and',\n",
       " 'letter--but',\n",
       " \"Mitchell's\",\n",
       " 'went--she',\n",
       " 'see--just',\n",
       " \"Brown's--smiles\",\n",
       " 'to-morrow--I',\n",
       " 'cold--and',\n",
       " 'Woodhouse--if',\n",
       " 'match--I',\n",
       " 'seem--if',\n",
       " 'Bates--we',\n",
       " 'look--and',\n",
       " 'weeks--indescribable',\n",
       " 'lines--will',\n",
       " \"friend's\",\n",
       " 'ideas--her',\n",
       " 'from--and',\n",
       " 'supposing--that',\n",
       " 'bilious--Mr',\n",
       " 'him--or',\n",
       " 'life--did',\n",
       " 'wanted--exactly',\n",
       " \"grandmother's\",\n",
       " 'sound--for',\n",
       " 'him--and',\n",
       " 'last--my',\n",
       " 'Emma--but',\n",
       " 'engaging--not',\n",
       " 'me--No',\n",
       " 'aired--but',\n",
       " 'ladies--married',\n",
       " 'Knightley--or',\n",
       " 'hands--a',\n",
       " 'hurry--Oh',\n",
       " 'dining-room--and',\n",
       " 'plain--but',\n",
       " 'you--to',\n",
       " 'hope--pretty',\n",
       " 'cold--fetching',\n",
       " \"month's\",\n",
       " 'lady--and',\n",
       " 'Coxe--Oh',\n",
       " \"Hawkins's\",\n",
       " 'on--what',\n",
       " 'presently--her',\n",
       " \"school-girl's\",\n",
       " 'for--enough',\n",
       " 'observing--to',\n",
       " 'Em-ma',\n",
       " 'delicate--Hartfield',\n",
       " 'her--no',\n",
       " 'smiling--so',\n",
       " 'tea--stay--no',\n",
       " 'sorry--But',\n",
       " 'style--Candles',\n",
       " 'you--she',\n",
       " 'thought--but',\n",
       " 'Taylor--nor',\n",
       " 'appear--there',\n",
       " 'attached--and',\n",
       " 'hold--and',\n",
       " 'same--but',\n",
       " ');',\n",
       " 'sorts',\n",
       " 'repute--and',\n",
       " 'Where--may',\n",
       " 'liked--but',\n",
       " 'lucky--marrying',\n",
       " 'abroad--of',\n",
       " \"gentleman's\",\n",
       " 'animated--open',\n",
       " 'yes--Mr',\n",
       " 'impair',\n",
       " 'Otways',\n",
       " \"housekeeper's\",\n",
       " 'much--for',\n",
       " 'eye--and',\n",
       " 'vanity--to',\n",
       " 'intimate--because',\n",
       " 'pointedly--and',\n",
       " 'young--he',\n",
       " 'moment--but',\n",
       " 'situation--I',\n",
       " 'doubt--putting',\n",
       " 'obscurity--and',\n",
       " 'pleased--so',\n",
       " 'must--yes',\n",
       " 'Jane--that',\n",
       " \"Mark's\",\n",
       " 'us--it',\n",
       " 'overcome--then',\n",
       " 'money--he',\n",
       " 'nothing--and',\n",
       " 'Finesse--how',\n",
       " 'either--when',\n",
       " 'systems--and',\n",
       " 'find--I',\n",
       " 'is--no',\n",
       " 'denied--and',\n",
       " 'altogether--Oh',\n",
       " 'do:',\n",
       " \"two's\",\n",
       " 'do--small',\n",
       " 'ago--she',\n",
       " 'Yes--a',\n",
       " 'possible--But',\n",
       " 'thought--especially',\n",
       " 'myself--except',\n",
       " 'son--but',\n",
       " 'Ceremonies',\n",
       " 'eye--a',\n",
       " 'satisfaction--her',\n",
       " 'dear--and',\n",
       " 'make--cannot',\n",
       " 'all--not',\n",
       " 'letter--only',\n",
       " 'indeed--I',\n",
       " 'come--so',\n",
       " 'son--and',\n",
       " 'good--there',\n",
       " 'despair--and',\n",
       " 'sorrow--but',\n",
       " 'left--it',\n",
       " 'see--one',\n",
       " 'thing--and',\n",
       " 'present--and',\n",
       " 'know--and',\n",
       " \"latter's\",\n",
       " 'conversation--interrupted',\n",
       " \"Hartfield's\",\n",
       " 'N',\n",
       " 'three-and-twenty--a',\n",
       " 'fourteen--I',\n",
       " \"John's\",\n",
       " 'changeable',\n",
       " 'glorious--the',\n",
       " 'prosing--so',\n",
       " 'it--but',\n",
       " 'hers--one',\n",
       " 'Well--as',\n",
       " 'declaration--made',\n",
       " 'admitted--she',\n",
       " 'seeing--admired',\n",
       " ...}"
      ]
     },
     "execution_count": 33,
     "metadata": {},
     "output_type": "execute_result"
    }
   ],
   "source": [
    "set(TweetTokenizer().tokenize(corpus_2)) - set(word_tokenize(corpus_2))"
   ]
  },
  {
   "cell_type": "code",
   "execution_count": 34,
   "id": "5304c364",
   "metadata": {},
   "outputs": [
    {
     "data": {
      "text/plain": [
       "7.901543969568136"
      ]
     },
     "execution_count": 34,
     "metadata": {},
     "output_type": "execute_result"
    }
   ],
   "source": [
    "# 평균 길이 계산\n",
    "sum([len(_) for _ in set(TweetTokenizer().tokenize(corpus_2))])/8938"
   ]
  },
  {
   "cell_type": "code",
   "execution_count": null,
   "id": "5899ab27",
   "metadata": {},
   "outputs": [],
   "source": [
    "# 전체 토큰 수 / 유니크 한 토큰 수 => tokenizer 숫자 다름\n",
    "# => feature 가능성 높음\n",
    "# 적은 수 토큰\n",
    "\n",
    "# 시대에 따라 달라지는 단어 유행어 뜻 코퍼스가 중요한 이유.\n",
    "\n",
    "# Complexity => Time(log), Space()\n",
    "\n",
    "# 어간추출(Stem) -> 용언+활용 -> v+s, ed, ing, ies, ...\n",
    "# 원형추출(Lemma)\n",
    "\n",
    "# Zipf의 법칙, Heap => TF-IDF => Vectorize => cosine-similarity"
   ]
  },
  {
   "cell_type": "code",
   "execution_count": 35,
   "id": "de8ab125",
   "metadata": {},
   "outputs": [],
   "source": [
    "from nltk.stem import PorterStemmer, LancasterStemmer"
   ]
  },
  {
   "cell_type": "code",
   "execution_count": 37,
   "id": "4ac882fa",
   "metadata": {},
   "outputs": [
    {
     "data": {
      "text/plain": [
       "('eat', 'eat')"
      ]
     },
     "execution_count": 37,
     "metadata": {},
     "output_type": "execute_result"
    }
   ],
   "source": [
    "PorterStemmer().stem('eated'),\\\n",
    "PorterStemmer().stem('eating')"
   ]
  },
  {
   "cell_type": "code",
   "execution_count": 38,
   "id": "bbc5ffc4",
   "metadata": {},
   "outputs": [],
   "source": [
    "stem = PorterStemmer()"
   ]
  },
  {
   "cell_type": "code",
   "execution_count": 40,
   "id": "69eaeed5",
   "metadata": {},
   "outputs": [],
   "source": [
    "stem_result = list(map(lambda t: stem.stem(t), word_tokenize(corpus_2)))"
   ]
  },
  {
   "cell_type": "code",
   "execution_count": 41,
   "id": "5cbe3621",
   "metadata": {},
   "outputs": [
    {
     "data": {
      "text/plain": [
       "(191785, 8406)"
      ]
     },
     "execution_count": 41,
     "metadata": {},
     "output_type": "execute_result"
    }
   ],
   "source": [
    "len(word_tokenize(corpus_2)), len(set(word_tokenize(corpus_2)))"
   ]
  },
  {
   "cell_type": "code",
   "execution_count": 42,
   "id": "c82b6554",
   "metadata": {},
   "outputs": [
    {
     "data": {
      "text/plain": [
       "(191785, 5366)"
      ]
     },
     "execution_count": 42,
     "metadata": {},
     "output_type": "execute_result"
    }
   ],
   "source": [
    "len(stem_result), len(set(stem_result))"
   ]
  },
  {
   "cell_type": "code",
   "execution_count": 45,
   "id": "bd9749c7",
   "metadata": {},
   "outputs": [
    {
     "data": {
      "text/plain": [
       "'be'"
      ]
     },
     "execution_count": 45,
     "metadata": {},
     "output_type": "execute_result"
    }
   ],
   "source": [
    "from nltk.stem import WordNetLemmatizer\n",
    "WordNetLemmatizer().lemmatize('are', 'v')"
   ]
  },
  {
   "cell_type": "code",
   "execution_count": 48,
   "id": "1bc59127",
   "metadata": {},
   "outputs": [
    {
     "data": {
      "text/plain": [
       "5089"
      ]
     },
     "execution_count": 48,
     "metadata": {},
     "output_type": "execute_result"
    }
   ],
   "source": [
    "len(list(filter(lambda t: t in ['is', 'be', 'are', 'were', 'an'], stem_result)))"
   ]
  },
  {
   "cell_type": "code",
   "execution_count": 49,
   "id": "794491ad",
   "metadata": {},
   "outputs": [],
   "source": [
    "from nltk.text import Text"
   ]
  },
  {
   "cell_type": "code",
   "execution_count": 50,
   "id": "933a4945",
   "metadata": {},
   "outputs": [],
   "source": [
    "text = Text(stem_result)"
   ]
  },
  {
   "cell_type": "code",
   "execution_count": 51,
   "id": "e54642ff",
   "metadata": {},
   "outputs": [
    {
     "data": {
      "text/plain": [
       "(5366, 191785)"
      ]
     },
     "execution_count": 51,
     "metadata": {},
     "output_type": "execute_result"
    }
   ],
   "source": [
    "# B: \n",
    "# N: 전체 단어의 수\n",
    "text.vocab().B(), text.vocab().N()"
   ]
  },
  {
   "cell_type": "code",
   "execution_count": 52,
   "id": "b6dfa5e6",
   "metadata": {},
   "outputs": [
    {
     "data": {
      "text/plain": [
       "(3177, 0.016565424824673464)"
      ]
     },
     "execution_count": 52,
     "metadata": {},
     "output_type": "execute_result"
    }
   ],
   "source": [
    "# 갯수와 비율\n",
    "text.vocab().get('i'), text.vocab().freq('i')"
   ]
  },
  {
   "cell_type": "code",
   "execution_count": 53,
   "id": "ca83ab95",
   "metadata": {
    "scrolled": true
   },
   "outputs": [
    {
     "data": {
      "text/plain": [
       "[(',', 12016),\n",
       " ('.', 6355),\n",
       " ('the', 5201),\n",
       " ('to', 5181),\n",
       " ('and', 4877),\n",
       " ('of', 4284),\n",
       " ('i', 3177),\n",
       " ('a', 3124),\n",
       " ('--', 3100),\n",
       " ('it', 2625)]"
      ]
     },
     "execution_count": 53,
     "metadata": {},
     "output_type": "execute_result"
    }
   ],
   "source": [
    "# 자주 나오는 단어 top10\n",
    "text.vocab().most_common(10)"
   ]
  },
  {
   "cell_type": "code",
   "execution_count": 62,
   "id": "592621b1",
   "metadata": {},
   "outputs": [
    {
     "data": {
      "text/plain": [
       "[<matplotlib.lines.Line2D at 0x155b83761c0>]"
      ]
     },
     "execution_count": 62,
     "metadata": {},
     "output_type": "execute_result"
    },
    {
     "data": {
      "image/png": "[encoded data removed]",
      "text/plain": [
       "<Figure size 432x288 with 1 Axes>"
      ]
     },
     "metadata": {
      "needs_background": "light"
     },
     "output_type": "display_data"
    }
   ],
   "source": [
    "# Zipf의 법칙\n",
    "# 빈도수는 1/2정도 줄어든다\n",
    "import matplotlib.pyplot as plt\n",
    "\n",
    "plt.plot(list(map(lambda t: t[1], text.vocab().most_common(50))))"
   ]
  },
  {
   "cell_type": "code",
   "execution_count": 64,
   "id": "e6c439fd",
   "metadata": {},
   "outputs": [
    {
     "data": {
      "text/plain": [
       "[(',', 12016)]"
      ]
     },
     "execution_count": 64,
     "metadata": {},
     "output_type": "execute_result"
    }
   ],
   "source": [
    "text.vocab().most_common(1)"
   ]
  },
  {
   "cell_type": "code",
   "execution_count": 68,
   "id": "4141813c",
   "metadata": {},
   "outputs": [
    {
     "data": {
      "text/plain": [
       "[<matplotlib.lines.Line2D at 0x155b95613d0>]"
      ]
     },
     "execution_count": 68,
     "metadata": {},
     "output_type": "execute_result"
    },
    {
     "data": {
      "image/png": "[encoded data removed]",
      "text/plain": [
       "<Figure size 432x288 with 1 Axes>"
      ]
     },
     "metadata": {
      "needs_background": "light"
     },
     "output_type": "display_data"
    }
   ],
   "source": [
    "plt.plot(list(map(lambda n: 1/n, range(1, 51))))\n",
    "plt.plot(list(map(lambda t: t[1]/12000, text.vocab().most_common(50))))"
   ]
  },
  {
   "cell_type": "code",
   "execution_count": 55,
   "id": "abfdd9c7",
   "metadata": {},
   "outputs": [
    {
     "data": {
      "text/plain": [
       "nltk.probability.FreqDist"
      ]
     },
     "execution_count": 55,
     "metadata": {},
     "output_type": "execute_result"
    }
   ],
   "source": [
    "# collection의 counter와 비슷하다\n",
    "type(text.vocab())"
   ]
  },
  {
   "cell_type": "code",
   "execution_count": null,
   "id": "6e0b94ce",
   "metadata": {},
   "outputs": [],
   "source": [
    "text.collec"
   ]
  },
  {
   "cell_type": "code",
   "execution_count": 57,
   "id": "cd3d25f2",
   "metadata": {
    "collapsed": true
   },
   "outputs": [
    {
     "name": "stdout",
     "output_type": "stream",
     "text": [
      "Displaying 25 of 855 matches:\n",
      "[ emma by jane austen 1816 ] volum i chapte\n",
      "jane austen 1816 ] volum i chapter i emma woodhous , handsom , clever , and ri\n",
      " both daughter , but particularli of emma . between _them_ it wa more the inti\n",
      " and friend veri mutual attach , and emma do just what she like ; highli estee\n",
      " her own . the real evil , inde , of emma 's situat were the power of have rat\n",
      "wedding-day of thi belov friend that emma first sat in mourn thought of ani co\n",
      " go onli half a mile from them ; but emma wa awar that great must be the diffe\n",
      "day . it wa a melancholi chang ; and emma could not but sigh over it , and wis\n",
      " the rest of her life at hartfield . emma smile and chat as cheer as she could\n",
      " abl to tell her how we all are . '' emma spare no exert to maintain thi happi\n",
      " ' i have a great regard for you and emma ; but when it come to the question o\n",
      "fanci , troublesom creatur ! '' said emma play . `` that is what you have in y\n",
      "the few peopl who could see fault in emma woodhous , and the onli one who ever\n",
      " thi wa not particularli agreeabl to emma herself , she knew it would be so mu\n",
      "e thought perfect by everi bodi . `` emma know i never flatter her , '' said m\n",
      "t be a gainer . '' `` well , '' said emma , will to let it pass -- '' you want\n",
      " sure of meet everi day . '' `` dear emma bear everi thing so well , '' said h\n",
      "iss her more than she think for . '' emma turn away her head , divid between t\n",
      "ear and smile . `` it is imposs that emma should not miss such a companion , '\n",
      "en one matter of joy to me , '' said emma , '' and a veri consider one -- that\n",
      "n good to them , by interfer . '' `` emma never think of herself , if she can \n",
      "better thing . invit him to dinner , emma , and help him to the best of the fi\n",
      " could not think , without pain , of emma 's lose a singl pleasur , or suffer \n",
      "the want of her companion : but dear emma wa of no feebl charact ; she wa more\n",
      "joy , wa so just and so appar , that emma , well as she knew her father , wa s\n"
     ]
    }
   ],
   "source": [
    "text.concordance('emma')"
   ]
  },
  {
   "cell_type": "code",
   "execution_count": 58,
   "id": "029b94d0",
   "metadata": {},
   "outputs": [
    {
     "data": {
      "image/png": "[encoded data removed]",
      "text/plain": [
       "<Figure size 432x288 with 1 Axes>"
      ]
     },
     "metadata": {
      "needs_background": "light"
     },
     "output_type": "display_data"
    }
   ],
   "source": [
    "text.dispersion_plot(['emma', 'woodhous', 'goddard'])"
   ]
  },
  {
   "cell_type": "code",
   "execution_count": 56,
   "id": "8c431ec4",
   "metadata": {},
   "outputs": [],
   "source": [
    "from collections import Counter"
   ]
  },
  {
   "cell_type": "code",
   "execution_count": 69,
   "id": "60c28501",
   "metadata": {},
   "outputs": [],
   "source": [
    "# 영어 -> token + stemming + lemmatization -> pos + stopwords\n",
    "from nltk.tag import pos_tag"
   ]
  },
  {
   "cell_type": "code",
   "execution_count": 72,
   "id": "93247b75",
   "metadata": {
    "scrolled": true
   },
   "outputs": [
    {
     "data": {
      "text/plain": [
       "[('She', 'PRP'),\n",
       " ('was', 'VBD'),\n",
       " ('the', 'DT'),\n",
       " ('youngest', 'JJS'),\n",
       " ('of', 'IN'),\n",
       " ('the', 'DT'),\n",
       " ('two', 'CD'),\n",
       " ('daughters', 'NNS'),\n",
       " ('of', 'IN'),\n",
       " ('a', 'DT'),\n",
       " ('most', 'RBS'),\n",
       " ('affectionate', 'JJ'),\n",
       " (',', ','),\n",
       " ('indulgent', 'JJ'),\n",
       " ('father', 'NN'),\n",
       " (';', ':'),\n",
       " ('and', 'CC'),\n",
       " ('had', 'VBD'),\n",
       " (',', ','),\n",
       " ('in', 'IN'),\n",
       " ('consequence', 'NN'),\n",
       " ('of', 'IN'),\n",
       " ('her', 'PRP$'),\n",
       " ('sister', 'NN'),\n",
       " (\"'s\", 'POS'),\n",
       " ('marriage', 'NN'),\n",
       " (',', ','),\n",
       " ('been', 'VBN'),\n",
       " ('mistress', 'NN'),\n",
       " ('of', 'IN'),\n",
       " ('his', 'PRP$'),\n",
       " ('house', 'NN'),\n",
       " ('from', 'IN'),\n",
       " ('a', 'DT'),\n",
       " ('very', 'RB'),\n",
       " ('early', 'JJ'),\n",
       " ('period', 'NN'),\n",
       " ('.', '.')]"
      ]
     },
     "execution_count": 72,
     "metadata": {},
     "output_type": "execute_result"
    }
   ],
   "source": [
    "pos_tag(word_tokenize(sent_tokenize(corpus_2)[1]))"
   ]
  },
  {
   "cell_type": "code",
   "execution_count": 73,
   "id": "c9ca051f",
   "metadata": {},
   "outputs": [
    {
     "name": "stdout",
     "output_type": "stream",
     "text": [
      "PRP: pronoun, personal\n",
      "    hers herself him himself hisself it itself me myself one oneself ours\n",
      "    ourselves ownself self she thee theirs them themselves they thou thy us\n"
     ]
    }
   ],
   "source": [
    "upenn_tagset('PRP')"
   ]
  },
  {
   "cell_type": "code",
   "execution_count": 75,
   "id": "96b168fe",
   "metadata": {},
   "outputs": [
    {
     "data": {
      "text/plain": [
       "[('[', 'NNS'),\n",
       " ('Emma', 'NNP'),\n",
       " ('by', 'IN'),\n",
       " ('Jane', 'NNP'),\n",
       " ('Austen', 'NNP'),\n",
       " ('1816', 'CD'),\n",
       " (']', 'NNP'),\n",
       " ('VOLUME', 'NNP'),\n",
       " ('I', 'PRP'),\n",
       " ('CHAPTER', 'VBP')]"
      ]
     },
     "execution_count": 75,
     "metadata": {},
     "output_type": "execute_result"
    }
   ],
   "source": [
    "pos_tag(word_tokenize(corpus_2))[:10]"
   ]
  },
  {
   "cell_type": "code",
   "execution_count": 76,
   "id": "6fb56a59",
   "metadata": {},
   "outputs": [],
   "source": [
    "text2 = Text(list(map(lambda t: t[0], pos_tag(word_tokenize(corpus_2)))))"
   ]
  },
  {
   "cell_type": "code",
   "execution_count": 80,
   "id": "5fa62bd6",
   "metadata": {},
   "outputs": [
    {
     "data": {
      "text/plain": [
       "[(',', 12016),\n",
       " ('.', 6355),\n",
       " ('to', 5125),\n",
       " ('the', 4844),\n",
       " ('and', 4653),\n",
       " ('of', 4272),\n",
       " ('I', 3177),\n",
       " ('--', 3100),\n",
       " ('a', 3001),\n",
       " (\"''\", 2452)]"
      ]
     },
     "execution_count": 80,
     "metadata": {},
     "output_type": "execute_result"
    }
   ],
   "source": [
    "text2.vocab().most_common(10)"
   ]
  },
  {
   "cell_type": "code",
   "execution_count": 81,
   "id": "6c3bf019",
   "metadata": {},
   "outputs": [
    {
     "data": {
      "text/plain": [
       "[((',', 12016), (',', 12016)),\n",
       " (('.', 6355), ('.', 6355)),\n",
       " (('the', 5201), ('to', 5125)),\n",
       " (('to', 5181), ('the', 4844)),\n",
       " (('and', 4877), ('and', 4653)),\n",
       " (('of', 4284), ('of', 4272)),\n",
       " (('i', 3177), ('I', 3177)),\n",
       " (('a', 3124), ('--', 3100)),\n",
       " (('--', 3100), ('a', 3001)),\n",
       " (('it', 2625), (\"''\", 2452))]"
      ]
     },
     "execution_count": 81,
     "metadata": {},
     "output_type": "execute_result"
    }
   ],
   "source": [
    "list(zip(text.vocab().most_common(10), text2.vocab().most_common(11)))"
   ]
  },
  {
   "cell_type": "code",
   "execution_count": 82,
   "id": "d3ee0bf7",
   "metadata": {},
   "outputs": [
    {
     "data": {
      "text/plain": [
       "[<matplotlib.lines.Line2D at 0x155bc704a30>]"
      ]
     },
     "execution_count": 82,
     "metadata": {},
     "output_type": "execute_result"
    },
    {
     "data": {
      "image/png": "[encoded data removed]",
      "text/plain": [
       "<Figure size 432x288 with 1 Axes>"
      ]
     },
     "metadata": {
      "needs_background": "light"
     },
     "output_type": "display_data"
    }
   ],
   "source": [
    "plt.plot(list(map(lambda n: 1/n, range(1, 51))), 'r-')\n",
    "plt.plot(list(map(lambda t: t[1]/12016, text.vocab().most_common(50))), 'g-')\n",
    "plt.plot(list(map(lambda t: t[1]/12016, text2.vocab().most_common(50))), 'b-')"
   ]
  },
  {
   "cell_type": "code",
   "execution_count": null,
   "id": "f265a40e",
   "metadata": {},
   "outputs": [],
   "source": []
  },
  {
   "cell_type": "code",
   "execution_count": null,
   "id": "21cfa597",
   "metadata": {},
   "outputs": [],
   "source": []
  },
  {
   "cell_type": "code",
   "execution_count": null,
   "id": "7bbf82d5",
   "metadata": {},
   "outputs": [],
   "source": []
  },
  {
   "cell_type": "code",
   "execution_count": null,
   "id": "b947fbc4",
   "metadata": {},
   "outputs": [],
   "source": [
    "list"
   ]
  },
  {
   "cell_type": "code",
   "execution_count": null,
   "id": "91d92b6c",
   "metadata": {},
   "outputs": [],
   "source": [
    "sent(ngrams)"
   ]
  },
  {
   "cell_type": "code",
   "execution_count": null,
   "id": "248cc32f",
   "metadata": {},
   "outputs": [],
   "source": []
  },
  {
   "cell_type": "code",
   "execution_count": 83,
   "id": "79854919",
   "metadata": {},
   "outputs": [
    {
     "ename": "ModuleNotFoundError",
     "evalue": "No module named 'konlpy'",
     "output_type": "error",
     "traceback": [
      "\u001b[1;31m---------------------------------------------------------------------------\u001b[0m",
      "\u001b[1;31mModuleNotFoundError\u001b[0m                       Traceback (most recent call last)",
      "\u001b[1;32m~\\AppData\\Local\\Temp/ipykernel_21964/1129406695.py\u001b[0m in \u001b[0;36m<module>\u001b[1;34m\u001b[0m\n\u001b[1;32m----> 1\u001b[1;33m \u001b[1;32mfrom\u001b[0m \u001b[0mkonlpy\u001b[0m\u001b[1;33m.\u001b[0m\u001b[0mtag\u001b[0m \u001b[1;32mimport\u001b[0m \u001b[0mOkt\u001b[0m\u001b[1;33m\u001b[0m\u001b[1;33m\u001b[0m\u001b[0m\n\u001b[0m\u001b[0;32m      2\u001b[0m \u001b[0mOkt\u001b[0m\u001b[1;33m.\u001b[0m\u001b[0mpos\u001b[0m\u001b[1;33m(\u001b[0m\u001b[1;34m'아버지가 방에 들어가신다.'\u001b[0m\u001b[1;33m)\u001b[0m\u001b[1;33m\u001b[0m\u001b[1;33m\u001b[0m\u001b[0m\n",
      "\u001b[1;31mModuleNotFoundError\u001b[0m: No module named 'konlpy'"
     ]
    }
   ],
   "source": [
    "from konlpy.tag import Okt\n",
    "Okt.pos('아버지가 방에 들어가신다.')"
   ]
  }
 ],
 "metadata": {
  "kernelspec": {
   "display_name": "Python 3 (ipykernel)",
   "language": "python",
   "name": "python3"
  },
  "language_info": {
   "codemirror_mode": {
    "name": "ipython",
    "version": 3
   },
   "file_extension": ".py",
   "mimetype": "text/x-python",
   "name": "python",
   "nbconvert_exporter": "python",
   "pygments_lexer": "ipython3",
   "version": "3.9.7"
  }
 },
 "nbformat": 4,
 "nbformat_minor": 5
}
