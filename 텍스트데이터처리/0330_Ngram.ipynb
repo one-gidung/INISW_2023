{
 "cells": [
  {
   "cell_type": "code",
   "execution_count": 1,
   "id": "d3a2a922",
   "metadata": {},
   "outputs": [
    {
     "name": "stderr",
     "output_type": "stream",
     "text": [
      "'ls'은(는) 내부 또는 외부 명령, 실행할 수 있는 프로그램, 또는\n",
      "배치 파일이 아닙니다.\n"
     ]
    }
   ],
   "source": [
    "!ls news"
   ]
  },
  {
   "cell_type": "code",
   "execution_count": 2,
   "id": "0e674827",
   "metadata": {},
   "outputs": [],
   "source": [
    "from requests import get\n",
    "from bs4 import BeautifulSoup"
   ]
  },
  {
   "cell_type": "code",
   "execution_count": 7,
   "id": "a1efefcd",
   "metadata": {},
   "outputs": [],
   "source": [
    "headers = {\n",
    "    'user-agent':'user-agent: Mozilla/5.0 (Windows NT 10.0; Win64; x64) AppleWebKit/537.36 (KHTML, like Gecko) Chrome/110.0.0.0 Safari/537.36'\n",
    "}"
   ]
  },
  {
   "cell_type": "code",
   "execution_count": 16,
   "id": "0b096752",
   "metadata": {
    "scrolled": true
   },
   "outputs": [
    {
     "name": "stdout",
     "output_type": "stream",
     "text": [
      "6\n",
      "49\n",
      "82\n",
      "125\n",
      "152\n",
      "179\n",
      "208\n",
      "211\n",
      "215\n",
      "216\n",
      "219\n",
      "223\n",
      "227\n",
      "229\n",
      "234\n",
      "237\n",
      "244\n",
      "247\n",
      "246\n",
      "245\n",
      "244\n",
      "246\n",
      "250\n",
      "254\n",
      "253\n",
      "253\n",
      "258\n",
      "262\n",
      "262\n",
      "264\n",
      "265\n",
      "269\n",
      "273\n",
      "274\n",
      "275\n",
      "279\n",
      "283\n",
      "287\n",
      "287\n",
      "291\n",
      "291\n",
      "294\n",
      "294\n",
      "294\n",
      "296\n",
      "300\n",
      "304\n",
      "304\n",
      "304\n",
      "304\n",
      "304\n",
      "307\n",
      "309\n",
      "310\n",
      "311\n",
      "312\n",
      "313\n",
      "314\n",
      "316\n",
      "319\n",
      "320\n",
      "324\n",
      "325\n",
      "325\n",
      "329\n",
      "329\n",
      "334\n",
      "335\n",
      "336\n",
      "337\n",
      "337\n",
      "337\n",
      "337\n",
      "338\n",
      "342\n",
      "342\n",
      "346\n",
      "347\n",
      "348\n",
      "351\n",
      "352\n",
      "352\n",
      "354\n",
      "357\n",
      "359\n",
      "360\n",
      "363\n",
      "363\n",
      "362\n",
      "365\n",
      "366\n",
      "375\n",
      "380\n",
      "382\n",
      "382\n",
      "383\n",
      "384\n",
      "385\n",
      "388\n",
      "388\n",
      "387\n",
      "387\n",
      "388\n",
      "391\n",
      "391\n",
      "393\n",
      "394\n",
      "395\n",
      "394\n",
      "395\n",
      "396\n",
      "397\n",
      "396\n",
      "397\n",
      "399\n",
      "400\n",
      "401\n",
      "401\n",
      "401\n",
      "401\n",
      "402\n",
      "404\n",
      "406\n",
      "410\n",
      "411\n",
      "414\n",
      "416\n",
      "418\n",
      "421\n",
      "422\n",
      "424\n",
      "429\n",
      "431\n",
      "430\n",
      "429\n",
      "428\n",
      "427\n",
      "426\n",
      "427\n",
      "428\n",
      "429\n",
      "431\n",
      "433\n",
      "433\n",
      "434\n",
      "438\n",
      "446\n",
      "447\n",
      "447\n",
      "451\n",
      "452\n",
      "453\n",
      "454\n",
      "461\n",
      "462\n",
      "464\n",
      "465\n",
      "470\n",
      "473\n",
      "474\n",
      "476\n",
      "476\n",
      "476\n",
      "477\n",
      "478\n",
      "480\n",
      "480\n",
      "480\n",
      "483\n",
      "484\n",
      "484\n",
      "488\n",
      "488\n",
      "488\n",
      "488\n",
      "489\n",
      "489\n",
      "490\n",
      "491\n",
      "491\n",
      "491\n",
      "496\n",
      "496\n",
      "497\n",
      "498\n",
      "498\n",
      "506\n",
      "507\n",
      "507\n",
      "508\n",
      "509\n",
      "510\n",
      "511\n",
      "514\n",
      "515\n",
      "514\n",
      "516\n",
      "517\n",
      "517\n",
      "518\n",
      "519\n",
      "520\n",
      "521\n",
      "523\n",
      "523\n",
      "524\n",
      "524\n",
      "525\n",
      "525\n",
      "525\n",
      "525\n",
      "526\n",
      "527\n",
      "527\n",
      "527\n"
     ]
    }
   ],
   "source": [
    "URLs = ['https://news.naver.com/']\n",
    "visited = list()\n",
    "\n",
    "while URLs:\n",
    "    seed = URLs.pop(0) # Queue\n",
    "    visited.append(seed)\n",
    " \n",
    "    resp = get(seed, headers=headers)\n",
    " \n",
    "    # 오류 처리(위 코드 참조)\n",
    "    if resp.status_code != 200:\n",
    "        continue\n",
    "    \n",
    "    if re.search('html', resp.headers['content-type']):\n",
    "        dom = BeautifulSoup(resp.text, 'html.parser')\n",
    "        # 영역 제한 - 1 (뉴스 카테고리)\n",
    "        for a in dom.select('[role=menu] a')[1:7]:\n",
    "            nurl = urljoin(seed, a.attrs['href'])\n",
    "            if nurl not in URLs and\\\n",
    "                nurl not in visited:\n",
    "                URLs.append(nurl)\n",
    "        # 영역 제한 - 2 (특정 뉴스 카테고리 - 뉴스 목록)\n",
    "        for a in dom.select('a.cluster_text_headline'):\n",
    "            nurl = urljoin(seed, a.attrs['href'])\n",
    "            if nurl not in URLs and\\\n",
    "                nurl not in visited:\n",
    "                URLs.append(nurl)\n",
    "        # 영역 제한 - 3 (특정 뉴스 한 개)\n",
    "        if dom.select_one('#contents'):\n",
    "            # 파일로 저장 - 뉴스\n",
    "            filename = resp.url.split('/')[-1]\n",
    "            filename = re.sub('[?#!= ]', '', filename)\n",
    "            with open('./news/'+filename+'.txt',\n",
    "                      'w', encoding='utf8') as fp:\n",
    "                fp.write(dom.select_one('#contents').get_text().strip())\n",
    "\n",
    "            for img in dom.select(\n",
    "                '#contents img[src], #contents img[data-src]'):\n",
    "                nurl = urljoin(seed, img.attrs['src'\n",
    "                        if img.has_attr('src') else 'data-src'])\n",
    "                if nurl not in URLs and\\\n",
    "                    nurl not in visited:\n",
    "                    URLs.append(nurl)\n",
    "        print(len(URLs))\n"
   ]
  },
  {
   "cell_type": "code",
   "execution_count": 1,
   "id": "f6d53cd7",
   "metadata": {},
   "outputs": [],
   "source": [
    "from os import listdir\n",
    "\n",
    "def fileids(path):\n",
    "    fileList = list()\n",
    "    \n",
    "    path = path + ('' if path[-1] == '/' else '/')\n",
    "    \n",
    "    for f in listdir(path):\n",
    "        if f.endswith('.txt'):\n",
    "            fileList.append(path+f)\n",
    "            \n",
    "    return fileList"
   ]
  },
  {
   "cell_type": "code",
   "execution_count": 18,
   "id": "3b8c1807",
   "metadata": {
    "collapsed": true
   },
   "outputs": [
    {
     "data": {
      "text/plain": [
       "['0000031253sid102.txt',\n",
       " '0000031269sid101.txt',\n",
       " '0000034347cid1089893.txt',\n",
       " '0000034906cid1089893.txt',\n",
       " '0000035489cid1089893.txt',\n",
       " '0000036139cid1089893.txt',\n",
       " '0000246599sid100.txt',\n",
       " '0000246646sid100.txt',\n",
       " '0000329234sid101.txt',\n",
       " '0000337316sid100.txt',\n",
       " '0000337336sid102.txt',\n",
       " '0000337373sid103.txt',\n",
       " '0000337375sid104.txt',\n",
       " '0000402052sid101.txt',\n",
       " '0000591038sid102.txt',\n",
       " '0000591242sid101.txt',\n",
       " '0000731260sid100.txt',\n",
       " '0000737544sid105.txt',\n",
       " '0000888908sid104.txt',\n",
       " '0000888917sid104.txt',\n",
       " '0000888955sid105.txt',\n",
       " '0000889011sid100.txt',\n",
       " '0000889184sid101.txt',\n",
       " '0000889200sid101.txt',\n",
       " '0000889219sid101.txt',\n",
       " '0000889223sid100.txt',\n",
       " '0000889267sid105.txt',\n",
       " '0001046261sid100.txt',\n",
       " '0001046289sid104.txt',\n",
       " '0001046313sid104.txt',\n",
       " '0001046354sid100.txt',\n",
       " '0001046487sid102.txt',\n",
       " '0001204663sid102.txt',\n",
       " '0001204858sid100.txt',\n",
       " '0001262942sid100.txt',\n",
       " '0001597411sid104.txt',\n",
       " '0001597481sid100.txt',\n",
       " '0001732049sid100.txt',\n",
       " '0001732114sid100.txt',\n",
       " '0001732121sid103.txt',\n",
       " '0001732140sid104.txt',\n",
       " '0001866603sid103.txt',\n",
       " '0001866620sid100.txt',\n",
       " '0001866646sid102.txt',\n",
       " '0001866649sid103.txt',\n",
       " '0001866734sid100.txt',\n",
       " '0001866765sid100.txt',\n",
       " '0001866828sid100.txt',\n",
       " '0001866835sid102.txt',\n",
       " '0001866837sid102.txt',\n",
       " '0001866881sid103.txt',\n",
       " '0001866903sid100.txt',\n",
       " '0001866922sid103.txt',\n",
       " '0001866943sid100.txt',\n",
       " '0002122702sid101.txt',\n",
       " '0002122765sid105.txt',\n",
       " '0002122975sid105.txt',\n",
       " '0002123001sid104.txt',\n",
       " '0002123258sid102.txt',\n",
       " '0002123266sid102.txt',\n",
       " '0002123293sid100.txt',\n",
       " '0002123312sid102.txt',\n",
       " '0002123393sid104.txt',\n",
       " '0002144446cid1087818.txt',\n",
       " '0002144535cid1087818.txt',\n",
       " '0002145094cid1087818.txt',\n",
       " '0002145174cid1087818.txt',\n",
       " '0002287019sid105.txt',\n",
       " '0002563946sid102.txt',\n",
       " '0002633441sid103.txt',\n",
       " '0002633456sid100.txt',\n",
       " '0002633545sid104.txt',\n",
       " '0002633616sid103.txt',\n",
       " '0002697521sid101.txt',\n",
       " '0002697657sid103.txt',\n",
       " '0002789984cid1089860.txt',\n",
       " '0002790482cid1089860.txt',\n",
       " '0002791329cid1089860.txt',\n",
       " '0002791665sid100.txt',\n",
       " '0002791855cid1089860.txt',\n",
       " '0003087459sid105.txt',\n",
       " '0003087536sid103.txt',\n",
       " '0003209459cid1088518.txt',\n",
       " '0003210896cid1088518.txt',\n",
       " '0003212237cid1088518.txt',\n",
       " '0003213731cid1088518.txt',\n",
       " '0003214030sid104.txt',\n",
       " '0003214098sid101.txt',\n",
       " '0003214099sid103.txt',\n",
       " '0003269338sid101.txt',\n",
       " '0003269425sid102.txt',\n",
       " '0003269623sid100.txt',\n",
       " '0003349722sid102.txt',\n",
       " '0003349780sid102.txt',\n",
       " '0003349856sid102.txt',\n",
       " '0003349912sid102.txt',\n",
       " '0003349944sid104.txt',\n",
       " '0003349998sid102.txt',\n",
       " '0003475685cid1083429.txt',\n",
       " '0003479954cid1083429.txt',\n",
       " '0003484137cid1083429.txt',\n",
       " '0003488342cid1083429.txt',\n",
       " '0003488354sid104.txt',\n",
       " '0003752869sid102.txt',\n",
       " '0003753271sid102.txt',\n",
       " '0003753295sid100.txt',\n",
       " '0003753299sid102.txt',\n",
       " '0003753308sid100.txt',\n",
       " '0003753337sid101.txt',\n",
       " '0003754776sid104.txt',\n",
       " '0003754829sid104.txt',\n",
       " '0003754838sid104.txt',\n",
       " '0003797425sid102.txt',\n",
       " '0003797463sid102.txt',\n",
       " '0003797655sid102.txt',\n",
       " '0004172695sid105.txt',\n",
       " '0004172711sid102.txt',\n",
       " '0004172789sid103.txt',\n",
       " '0004172823sid101.txt',\n",
       " '0004172955sid100.txt',\n",
       " '0004172956sid104.txt',\n",
       " '0004818810cid1088965.txt',\n",
       " '0004819473cid1088965.txt',\n",
       " '0004824679cid1088965.txt',\n",
       " '0004826291sid102.txt',\n",
       " '0004826426sid100.txt',\n",
       " '0004826493sid104.txt',\n",
       " '0004826506sid103.txt',\n",
       " '0004826579sid100.txt',\n",
       " '0004826613sid101.txt',\n",
       " '0004826697cid1088965.txt',\n",
       " '0004867953sid101.txt',\n",
       " '0004867964sid102.txt',\n",
       " '0004868117sid101.txt',\n",
       " '0004868172sid105.txt',\n",
       " '0004868283sid104.txt',\n",
       " '0004868307sid101.txt',\n",
       " '0004868377sid105.txt',\n",
       " '0004987742cid1087797.txt',\n",
       " '0004988175cid1087797.txt',\n",
       " '0004988411sid102.txt',\n",
       " '0004988507cid1087797.txt',\n",
       " '0004988835cid1087797.txt',\n",
       " '0004989010sid101.txt',\n",
       " '0004989097sid101.txt',\n",
       " '0004989116sid103.txt',\n",
       " '0004989154sid102.txt',\n",
       " '0005108461sid104.txt',\n",
       " '0005108473sid103.txt',\n",
       " '0005108885sid103.txt',\n",
       " '0005108951sid102.txt',\n",
       " '0005237045cid1064715.txt',\n",
       " '0005237088cid1064715.txt',\n",
       " '0005237309cid1064715.txt',\n",
       " '0005237743cid1064715.txt',\n",
       " '0005237875sid100.txt',\n",
       " '0005237881sid101.txt',\n",
       " '0005237946sid105.txt',\n",
       " '0005237993sid102.txt',\n",
       " '0005238195sid100.txt',\n",
       " '0005238283sid105.txt',\n",
       " '0005451598sid100.txt',\n",
       " '0005451894sid101.txt',\n",
       " '0005452005sid102.txt',\n",
       " '0005452313sid104.txt',\n",
       " '0005452339sid103.txt',\n",
       " '0005452383sid101.txt',\n",
       " '0005452450sid105.txt',\n",
       " '0006712726sid105.txt',\n",
       " '0006713158sid100.txt',\n",
       " '0006713480sid101.txt',\n",
       " '0006714407sid105.txt',\n",
       " '0006714489sid104.txt',\n",
       " '0006714974sid103.txt',\n",
       " '0006714978sid105.txt',\n",
       " '0006715015sid103.txt',\n",
       " '0006715054sid102.txt',\n",
       " '0006715176sid101.txt',\n",
       " '0006715242sid100.txt',\n",
       " '0006715350sid104.txt',\n",
       " '0006715477sid105.txt',\n",
       " '0006715478sid105.txt',\n",
       " '0011454889sid102.txt',\n",
       " '0011454966sid100.txt',\n",
       " '0011455143sid102.txt',\n",
       " '0011455293sid102.txt',\n",
       " '0011455302sid100.txt',\n",
       " '0011455339sid100.txt',\n",
       " '0011769742sid102.txt',\n",
       " '0011770400sid102.txt',\n",
       " '0011770495sid101.txt',\n",
       " '0011770748sid100.txt',\n",
       " '0011770971sid105.txt',\n",
       " '0011771627sid100.txt',\n",
       " '0011771721sid105.txt',\n",
       " '0011772011sid101.txt',\n",
       " '0011772177sid102.txt',\n",
       " '0011772194sid101.txt',\n",
       " '0011772289sid101.txt',\n",
       " '0011772506sid103.txt',\n",
       " '0013844178sid102.txt',\n",
       " '0013845045sid104.txt',\n",
       " '0013845091sid101.txt',\n",
       " '0013846213sid100.txt',\n",
       " '0013846284sid104.txt',\n",
       " '0013846359sid104.txt',\n",
       " '0013846411sid100.txt',\n",
       " '0013847026sid101.txt']"
      ]
     },
     "execution_count": 18,
     "metadata": {},
     "output_type": "execute_result"
    }
   ],
   "source": [
    "listdir('news')"
   ]
  },
  {
   "cell_type": "code",
   "execution_count": 19,
   "id": "58684e9e",
   "metadata": {},
   "outputs": [],
   "source": [
    "with open(fileids('news')[0], 'r', encoding='utf8') as fp:\n",
    "    d = fp.read()"
   ]
  },
  {
   "cell_type": "code",
   "execution_count": 3,
   "id": "38fb9dce",
   "metadata": {},
   "outputs": [],
   "source": [
    "import re\n",
    "\n",
    "p1 = re.compile('[a-zA-Z0-9_-]+@(?:[.]?[a-zA-Z0-9_-]+)+')\n",
    "p2 = re.compile('[{}]'.format(re.escape('''\"'=ㆍⓒ'\"''')))\n",
    "p3 = re.compile('[\\(\\[].+?[\\)\\]]')\n",
    "p4 = re.compile('[a-zA-Z]+')\n",
    "p5 = re.compile('\\s+')\n",
    "# p5.sub(' ', p4.sub(' ', p3.sub(' ', p2.sub(' ', p1.sub(' ', d))))).strip()"
   ]
  },
  {
   "cell_type": "code",
   "execution_count": 6,
   "id": "b3dbf42a",
   "metadata": {},
   "outputs": [],
   "source": [
    "from konlpy.tag import Komoran\n",
    "\n",
    "ma = Komoran()"
   ]
  },
  {
   "cell_type": "code",
   "execution_count": 4,
   "id": "38d42869",
   "metadata": {},
   "outputs": [],
   "source": [
    "corpus = list()\n",
    "\n",
    "for f in fileids('news'):\n",
    "    with open(f, 'r', encoding='utf8') as fp:\n",
    "        corpus.append(p5.sub(' ', \n",
    "            p4.sub(' ', \n",
    "            p3.sub(' ', \n",
    "            p2.sub(' ', \n",
    "            p1.sub(' ', fp.read()))))).strip())"
   ]
  },
  {
   "cell_type": "code",
   "execution_count": 7,
   "id": "f505d021",
   "metadata": {},
   "outputs": [],
   "source": [
    "from nltk.tokenize import sent_tokenize\n",
    "\n",
    "corpus_ma = list()\n",
    "\n",
    "for d in corpus:\n",
    "    corpus_ma.append(\n",
    "    '\\n'.join([' '.join(ma.morphs(s)) for s in sent_tokenize(d)]))"
   ]
  },
  {
   "cell_type": "code",
   "execution_count": 8,
   "id": "ceaffebe",
   "metadata": {},
   "outputs": [],
   "source": [
    "from nltk.text import Text\n",
    "\n",
    "corpus_text = list(map(lambda c:Text(c.split()), corpus_ma))"
   ]
  },
  {
   "cell_type": "code",
   "execution_count": 9,
   "id": "812b5e3c",
   "metadata": {},
   "outputs": [],
   "source": [
    "from nltk import FreqDist\n",
    "\n",
    "fd = FreqDist()\n",
    "for c in corpus_text:\n",
    "    fd += c.vocab()"
   ]
  },
  {
   "cell_type": "code",
   "execution_count": 10,
   "id": "ea949d95",
   "metadata": {},
   "outputs": [],
   "source": [
    "import matplotlib.pyplot as plt\n",
    "\n",
    "N = 100\n",
    "Zipf = [1/i for i in range(1, N+1)]\n",
    "Zipf_fd = [i[1]/fd.get(fd.max()) for i in fd.most_common(N)]"
   ]
  },
  {
   "cell_type": "code",
   "execution_count": 11,
   "id": "313e1f8e",
   "metadata": {},
   "outputs": [
    {
     "data": {
      "text/plain": [
       "[<matplotlib.lines.Line2D at 0x18e678d2910>]"
      ]
     },
     "execution_count": 11,
     "metadata": {},
     "output_type": "execute_result"
    },
    {
     "data": {
      "image/png": "[encoded data removed]",
      "text/plain": [
       "<Figure size 432x288 with 1 Axes>"
      ]
     },
     "metadata": {
      "needs_background": "light"
     },
     "output_type": "display_data"
    }
   ],
   "source": [
    "plt.plot(Zipf, 'k-')\n",
    "plt.plot(Zipf_fd)"
   ]
  },
  {
   "cell_type": "code",
   "execution_count": null,
   "id": "b718d2b0",
   "metadata": {},
   "outputs": [],
   "source": []
  },
  {
   "cell_type": "code",
   "execution_count": null,
   "id": "9ba9497e",
   "metadata": {},
   "outputs": [],
   "source": []
  },
  {
   "cell_type": "code",
   "execution_count": null,
   "id": "df7f0e7d",
   "metadata": {},
   "outputs": [],
   "source": []
  },
  {
   "cell_type": "code",
   "execution_count": null,
   "id": "9d402447",
   "metadata": {},
   "outputs": [],
   "source": []
  },
  {
   "cell_type": "code",
   "execution_count": null,
   "id": "7626b2b4",
   "metadata": {},
   "outputs": [],
   "source": []
  },
  {
   "cell_type": "code",
   "execution_count": null,
   "id": "5988454e",
   "metadata": {},
   "outputs": [],
   "source": []
  },
  {
   "cell_type": "code",
   "execution_count": null,
   "id": "ddea396f",
   "metadata": {},
   "outputs": [],
   "source": []
  },
  {
   "cell_type": "markdown",
   "id": "221c09ba",
   "metadata": {},
   "source": [
    "# Heaps"
   ]
  },
  {
   "cell_type": "code",
   "execution_count": 12,
   "id": "26402bc6",
   "metadata": {},
   "outputs": [],
   "source": [
    "heaps = list()\n",
    "\n",
    "for i in  range(len(corpus_text)):\n",
    "    heaps.append(FreqDist())\n",
    "    for j in range(i+1):\n",
    "        try:\n",
    "            heaps[-1] += corpus_text[j].vocab()\n",
    "        except:\n",
    "            continue"
   ]
  },
  {
   "cell_type": "code",
   "execution_count": 13,
   "id": "0d5354fb",
   "metadata": {},
   "outputs": [
    {
     "data": {
      "text/plain": [
       "(668, 224526, 11274)"
      ]
     },
     "execution_count": 13,
     "metadata": {},
     "output_type": "execute_result"
    }
   ],
   "source": [
    "heaps[0].N(), heaps[-1].N(), heaps[-1].B()"
   ]
  },
  {
   "cell_type": "code",
   "execution_count": 14,
   "id": "a1da06d4",
   "metadata": {},
   "outputs": [
    {
     "data": {
      "text/plain": [
       "296"
      ]
     },
     "execution_count": 14,
     "metadata": {},
     "output_type": "execute_result"
    }
   ],
   "source": [
    "heaps[0].B()"
   ]
  },
  {
   "cell_type": "code",
   "execution_count": 15,
   "id": "0b10fe5b",
   "metadata": {},
   "outputs": [
    {
     "data": {
      "text/plain": [
       "[<matplotlib.lines.Line2D at 0x18e6c027e50>]"
      ]
     },
     "execution_count": 15,
     "metadata": {},
     "output_type": "execute_result"
    },
    {
     "data": {
      "image/png": "[encoded data removed]",
      "text/plain": [
       "<Figure size 432x288 with 1 Axes>"
      ]
     },
     "metadata": {
      "needs_background": "light"
     },
     "output_type": "display_data"
    }
   ],
   "source": [
    "\n",
    "heapslaw = lambda N,k=10,b=.53:k*(N**b)\n",
    "\n",
    "\n",
    "\n",
    "plt.plot(range(len(heaps)), [heapslaw(c.N()) for c in heaps], 'r-')\n",
    "plt.plot(range(len(heaps)), [c.B() for c in heaps])"
   ]
  },
  {
   "cell_type": "code",
   "execution_count": 67,
   "id": "446ec7f8",
   "metadata": {},
   "outputs": [
    {
     "data": {
      "text/plain": [
       "(6494.931371114975, 208, 208)"
      ]
     },
     "execution_count": 67,
     "metadata": {},
     "output_type": "execute_result"
    }
   ],
   "source": [
    "heapslaw(138944), len(heaps), len(fileids('news'))"
   ]
  },
  {
   "cell_type": "code",
   "execution_count": 68,
   "id": "cf00a25e",
   "metadata": {},
   "outputs": [],
   "source": [
    "def ngram(t, n=2):\n",
    "    tokens = t.split()\n",
    "    gram = list()\n",
    " \n",
    "    if len(tokens) < n:\n",
    "        return tokens\n",
    "    for i in range(len(tokens)-(n-1)):\n",
    "        gram.append(' '.join(tokens[i:i+n]))\n",
    "    return gram"
   ]
  },
  {
   "cell_type": "code",
   "execution_count": 69,
   "id": "5c4d34f9",
   "metadata": {},
   "outputs": [],
   "source": [
    "corpus_1gram = list()\n",
    "corpus_2gram = list()\n",
    "corpus_3gram = list()\n",
    "\n",
    "for c in corpus_ma:\n",
    "    corpus_1gram.extend(ngram(c, 1))\n",
    "    corpus_2gram.extend(ngram(c, 2))\n",
    "    corpus_3gram.extend(ngram(c, 3))"
   ]
  },
  {
   "cell_type": "code",
   "execution_count": 70,
   "id": "63cd0d2b",
   "metadata": {},
   "outputs": [],
   "source": [
    "from collections import Counter"
   ]
  },
  {
   "cell_type": "code",
   "execution_count": 71,
   "id": "23634e21",
   "metadata": {},
   "outputs": [],
   "source": [
    "corpus_1gram = Counter(corpus_1gram)\n",
    "corpus_2gram = Counter(corpus_2gram)\n",
    "corpus_3gram = Counter(corpus_3gram)"
   ]
  },
  {
   "cell_type": "code",
   "execution_count": 82,
   "id": "b76b9999",
   "metadata": {},
   "outputs": [
    {
     "data": {
      "text/plain": [
       "1456"
      ]
     },
     "execution_count": 82,
     "metadata": {},
     "output_type": "execute_result"
    }
   ],
   "source": [
    "key = '코로나'\n",
    "corpus_1gram[key]"
   ]
  },
  {
   "cell_type": "code",
   "execution_count": 84,
   "id": "7a2fef7a",
   "metadata": {},
   "outputs": [
    {
     "data": {
      "text/plain": [
       "[('코로나 19', 1456, 1.0)]"
      ]
     },
     "execution_count": 84,
     "metadata": {},
     "output_type": "execute_result"
    }
   ],
   "source": [
    "[(k, corpus_2gram[k], corpus_2gram[k]/corpus_1gram[key])\n",
    "for k in corpus_2gram.keys() if k.startswith(key)]"
   ]
  },
  {
   "cell_type": "code",
   "execution_count": 88,
   "id": "1192fbf3",
   "metadata": {},
   "outputs": [
    {
     "name": "stdout",
     "output_type": "stream",
     "text": [
      "[('코로나 19', 1456, 1.0)]\n",
      "\n",
      "[('19 로', 208, 0.14285714285714285), ('19 중앙재난안전대책본부', 208, 0.14285714285714285), ('19 위기', 208, 0.14285714285714285), ('19 엔', 208, 0.14285714285714285), ('19 감염병', 208, 0.14285714285714285)]\n",
      "\n",
      "[('로 예상', 416, 0.3333333333333333), ('로 확진', 208, 0.16666666666666666), ('로드맵 을', 208, 0.16666666666666666), ('로드맵 에', 208, 0.16666666666666666), ('로 폰', 208, 0.16666666666666666)]\n",
      "\n",
      "[('예상 되', 208, 0.5), ('예상 하', 208, 0.5)]\n",
      "\n",
      "[('되 ㄹ', 1248, 0.3157894736842105), ('되 는', 416, 0.10526315789473684), ('되 는데', 416, 0.10526315789473684), ('되 면', 416, 0.10526315789473684), ('되 ㅂ니다', 416, 0.10526315789473684)]\n",
      "\n"
     ]
    }
   ],
   "source": [
    "key = '코로나'\n",
    "K = 5\n",
    "generated_sent = key\n",
    "for _ in range(5):\n",
    "    candidates = [(k, corpus_2gram[k], corpus_2gram[k]/corpus_1gram[key])\n",
    "                 for k in corpus_2gram.keys() if k.startswith(key)]\n",
    "    best_can = sorted(candidates, key=lambda c: c[-1], reverse = True)[:K]\n",
    "    print(best_can, end='\\n\\n')\n",
    "    key = best_can[0][0].split()[-1]\n",
    "    generated_sent += ' '+key"
   ]
  },
  {
   "cell_type": "code",
   "execution_count": 89,
   "id": "098b222a",
   "metadata": {},
   "outputs": [
    {
     "data": {
      "text/plain": [
       "'코로나 19 로 예상 되 ㄹ'"
      ]
     },
     "execution_count": 89,
     "metadata": {},
     "output_type": "execute_result"
    }
   ],
   "source": [
    "generated_sent"
   ]
  },
  {
   "cell_type": "code",
   "execution_count": null,
   "id": "877b3bcc",
   "metadata": {},
   "outputs": [],
   "source": []
  },
  {
   "cell_type": "code",
   "execution_count": null,
   "id": "18119f7b",
   "metadata": {},
   "outputs": [],
   "source": []
  },
  {
   "cell_type": "markdown",
   "id": "71dca663",
   "metadata": {},
   "source": [
    "# ngram2\n",
    ": split 안 하고 list로 하고, append 띄어쓰기 한 것도 붙여서 할거다"
   ]
  },
  {
   "cell_type": "code",
   "execution_count": 1,
   "id": "c5db4748",
   "metadata": {},
   "outputs": [],
   "source": [
    "def ngram2(t, n=2):\n",
    "    tokens = list(t)\n",
    "    gram = list()\n",
    " \n",
    "    if len(tokens) < n:\n",
    "        return tokens\n",
    "    for i in range(len(tokens)-(n-1)):\n",
    "        gram.append(''.join(tokens[i:i+n]))\n",
    "    return gram"
   ]
  },
  {
   "cell_type": "code",
   "execution_count": 91,
   "id": "ab13acf5",
   "metadata": {},
   "outputs": [
    {
     "data": {
      "text/plain": [
       "['주 어',\n",
       " '어 진',\n",
       " '진  ',\n",
       " '  데',\n",
       " '데 이',\n",
       " '이 터',\n",
       " '터  ',\n",
       " '  언',\n",
       " '언 어',\n",
       " '어 를',\n",
       " '를  ',\n",
       " '  이',\n",
       " '이 해',\n",
       " '해 할',\n",
       " '할  ',\n",
       " '  수',\n",
       " '수  ',\n",
       " '  있',\n",
       " '있 는',\n",
       " '는  ',\n",
       " '  확',\n",
       " '확 률',\n",
       " '률 모',\n",
       " '모 델',\n",
       " '델  ',\n",
       " '  생',\n",
       " '생 성']"
      ]
     },
     "execution_count": 91,
     "metadata": {},
     "output_type": "execute_result"
    }
   ],
   "source": [
    "ngram2('주어진 데이터 언어를 이해할 수 있는 확률모델 생성')"
   ]
  },
  {
   "cell_type": "code",
   "execution_count": null,
   "id": "01af0582",
   "metadata": {},
   "outputs": [],
   "source": []
  },
  {
   "cell_type": "code",
   "execution_count": null,
   "id": "39ada128",
   "metadata": {},
   "outputs": [],
   "source": [
    "for i in range(2, len(s)):\n",
    "    key = s[:1]\n",
    "    ngram2+1[key]\n",
    "    \n",
    "    \n",
    "    "
   ]
  },
  {
   "cell_type": "code",
   "execution_count": null,
   "id": "76d64543",
   "metadata": {},
   "outputs": [],
   "source": [
    "boared"
   ]
  },
  {
   "cell_type": "code",
   "execution_count": null,
   "id": "cdd9a974",
   "metadata": {},
   "outputs": [],
   "source": []
  },
  {
   "cell_type": "code",
   "execution_count": null,
   "id": "c1b36122",
   "metadata": {},
   "outputs": [],
   "source": []
  }
 ],
 "metadata": {
  "kernelspec": {
   "display_name": "Python 3 (ipykernel)",
   "language": "python",
   "name": "python3"
  },
  "language_info": {
   "codemirror_mode": {
    "name": "ipython",
    "version": 3
   },
   "file_extension": ".py",
   "mimetype": "text/x-python",
   "name": "python",
   "nbconvert_exporter": "python",
   "pygments_lexer": "ipython3",
   "version": "3.9.7"
  }
 },
 "nbformat": 4,
 "nbformat_minor": 5
}
