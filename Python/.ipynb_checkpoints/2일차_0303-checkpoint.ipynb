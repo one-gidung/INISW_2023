{
 "cells": [
  {
   "cell_type": "code",
   "execution_count": 1,
   "id": "161b5c07",
   "metadata": {},
   "outputs": [],
   "source": [
    "a = 1"
   ]
  },
  {
   "cell_type": "code",
   "execution_count": 2,
   "id": "fb16b3ce",
   "metadata": {
    "collapsed": true
   },
   "outputs": [
    {
     "data": {
      "text/plain": [
       "['__abs__',\n",
       " '__add__',\n",
       " '__and__',\n",
       " '__bool__',\n",
       " '__ceil__',\n",
       " '__class__',\n",
       " '__delattr__',\n",
       " '__dir__',\n",
       " '__divmod__',\n",
       " '__doc__',\n",
       " '__eq__',\n",
       " '__float__',\n",
       " '__floor__',\n",
       " '__floordiv__',\n",
       " '__format__',\n",
       " '__ge__',\n",
       " '__getattribute__',\n",
       " '__getnewargs__',\n",
       " '__gt__',\n",
       " '__hash__',\n",
       " '__index__',\n",
       " '__init__',\n",
       " '__init_subclass__',\n",
       " '__int__',\n",
       " '__invert__',\n",
       " '__le__',\n",
       " '__lshift__',\n",
       " '__lt__',\n",
       " '__mod__',\n",
       " '__mul__',\n",
       " '__ne__',\n",
       " '__neg__',\n",
       " '__new__',\n",
       " '__or__',\n",
       " '__pos__',\n",
       " '__pow__',\n",
       " '__radd__',\n",
       " '__rand__',\n",
       " '__rdivmod__',\n",
       " '__reduce__',\n",
       " '__reduce_ex__',\n",
       " '__repr__',\n",
       " '__rfloordiv__',\n",
       " '__rlshift__',\n",
       " '__rmod__',\n",
       " '__rmul__',\n",
       " '__ror__',\n",
       " '__round__',\n",
       " '__rpow__',\n",
       " '__rrshift__',\n",
       " '__rshift__',\n",
       " '__rsub__',\n",
       " '__rtruediv__',\n",
       " '__rxor__',\n",
       " '__setattr__',\n",
       " '__sizeof__',\n",
       " '__str__',\n",
       " '__sub__',\n",
       " '__subclasshook__',\n",
       " '__truediv__',\n",
       " '__trunc__',\n",
       " '__xor__',\n",
       " 'as_integer_ratio',\n",
       " 'bit_length',\n",
       " 'conjugate',\n",
       " 'denominator',\n",
       " 'from_bytes',\n",
       " 'imag',\n",
       " 'numerator',\n",
       " 'real',\n",
       " 'to_bytes']"
      ]
     },
     "execution_count": 2,
     "metadata": {},
     "output_type": "execute_result"
    }
   ],
   "source": [
    "dir(a)"
   ]
  },
  {
   "cell_type": "code",
   "execution_count": 3,
   "id": "7a07491d",
   "metadata": {},
   "outputs": [
    {
     "data": {
      "text/plain": [
       "<method-wrapper '__abs__' of int object at 0x0000026608376930>"
      ]
     },
     "execution_count": 3,
     "metadata": {},
     "output_type": "execute_result"
    }
   ],
   "source": [
    "a.__abs__"
   ]
  },
  {
   "cell_type": "code",
   "execution_count": 4,
   "id": "63c2b4d9",
   "metadata": {},
   "outputs": [],
   "source": [
    "# \n",
    "a = [1,2,3]"
   ]
  },
  {
   "cell_type": "code",
   "execution_count": 6,
   "id": "c52a5f97",
   "metadata": {},
   "outputs": [
    {
     "name": "stdout",
     "output_type": "stream",
     "text": [
      "1\n",
      "2\n",
      "3\n"
     ]
    }
   ],
   "source": [
    "for i in a:\n",
    "    print(i)"
   ]
  },
  {
   "cell_type": "code",
   "execution_count": 23,
   "id": "eb5ef578",
   "metadata": {},
   "outputs": [],
   "source": [
    "b = 1"
   ]
  },
  {
   "cell_type": "code",
   "execution_count": 24,
   "id": "94170e86",
   "metadata": {},
   "outputs": [
    {
     "ename": "TypeError",
     "evalue": "'int' object is not iterable",
     "output_type": "error",
     "traceback": [
      "\u001b[1;31m---------------------------------------------------------------------------\u001b[0m",
      "\u001b[1;31mTypeError\u001b[0m                                 Traceback (most recent call last)",
      "\u001b[1;32m~\\AppData\\Local\\Temp/ipykernel_35592/2474866317.py\u001b[0m in \u001b[0;36m<module>\u001b[1;34m\u001b[0m\n\u001b[1;32m----> 1\u001b[1;33m \u001b[1;32mfor\u001b[0m \u001b[0mi\u001b[0m \u001b[1;32min\u001b[0m \u001b[0mb\u001b[0m\u001b[1;33m:\u001b[0m\u001b[1;33m\u001b[0m\u001b[1;33m\u001b[0m\u001b[0m\n\u001b[0m\u001b[0;32m      2\u001b[0m     \u001b[0mprint\u001b[0m\u001b[1;33m(\u001b[0m\u001b[0mi\u001b[0m\u001b[1;33m)\u001b[0m\u001b[1;33m\u001b[0m\u001b[1;33m\u001b[0m\u001b[0m\n",
      "\u001b[1;31mTypeError\u001b[0m: 'int' object is not iterable"
     ]
    }
   ],
   "source": [
    "for i in b:\n",
    "    print(i)"
   ]
  },
  {
   "cell_type": "code",
   "execution_count": 14,
   "id": "ea3c27a9",
   "metadata": {},
   "outputs": [],
   "source": [
    "class A:\n",
    "    pass"
   ]
  },
  {
   "cell_type": "code",
   "execution_count": 15,
   "id": "cfe06adb",
   "metadata": {},
   "outputs": [],
   "source": [
    "a = A()"
   ]
  },
  {
   "cell_type": "code",
   "execution_count": 16,
   "id": "56bfd33c",
   "metadata": {},
   "outputs": [
    {
     "ename": "TypeError",
     "evalue": "'A' object is not iterable",
     "output_type": "error",
     "traceback": [
      "\u001b[1;31m---------------------------------------------------------------------------\u001b[0m",
      "\u001b[1;31mTypeError\u001b[0m                                 Traceback (most recent call last)",
      "\u001b[1;32m~\\AppData\\Local\\Temp/ipykernel_35592/3114545233.py\u001b[0m in \u001b[0;36m<module>\u001b[1;34m\u001b[0m\n\u001b[1;32m----> 1\u001b[1;33m \u001b[1;32mfor\u001b[0m \u001b[0mi\u001b[0m \u001b[1;32min\u001b[0m \u001b[0ma\u001b[0m\u001b[1;33m:\u001b[0m\u001b[1;33m\u001b[0m\u001b[1;33m\u001b[0m\u001b[0m\n\u001b[0m\u001b[0;32m      2\u001b[0m     \u001b[0mprint\u001b[0m\u001b[1;33m(\u001b[0m\u001b[0mi\u001b[0m\u001b[1;33m)\u001b[0m\u001b[1;33m\u001b[0m\u001b[1;33m\u001b[0m\u001b[0m\n",
      "\u001b[1;31mTypeError\u001b[0m: 'A' object is not iterable"
     ]
    }
   ],
   "source": [
    "for i in a:\n",
    "    print(i)"
   ]
  },
  {
   "cell_type": "code",
   "execution_count": 17,
   "id": "ccd4c0a9",
   "metadata": {},
   "outputs": [],
   "source": [
    "class A:\n",
    "    def __iter__(self, x):\n",
    "        return 1"
   ]
  },
  {
   "cell_type": "code",
   "execution_count": 18,
   "id": "41f187cf",
   "metadata": {},
   "outputs": [],
   "source": [
    "a = A()"
   ]
  },
  {
   "cell_type": "code",
   "execution_count": 19,
   "id": "5217c4f1",
   "metadata": {},
   "outputs": [
    {
     "ename": "TypeError",
     "evalue": "__iter__() missing 1 required positional argument: 'x'",
     "output_type": "error",
     "traceback": [
      "\u001b[1;31m---------------------------------------------------------------------------\u001b[0m",
      "\u001b[1;31mTypeError\u001b[0m                                 Traceback (most recent call last)",
      "\u001b[1;32m~\\AppData\\Local\\Temp/ipykernel_35592/3114545233.py\u001b[0m in \u001b[0;36m<module>\u001b[1;34m\u001b[0m\n\u001b[1;32m----> 1\u001b[1;33m \u001b[1;32mfor\u001b[0m \u001b[0mi\u001b[0m \u001b[1;32min\u001b[0m \u001b[0ma\u001b[0m\u001b[1;33m:\u001b[0m\u001b[1;33m\u001b[0m\u001b[1;33m\u001b[0m\u001b[0m\n\u001b[0m\u001b[0;32m      2\u001b[0m     \u001b[0mprint\u001b[0m\u001b[1;33m(\u001b[0m\u001b[0mi\u001b[0m\u001b[1;33m)\u001b[0m\u001b[1;33m\u001b[0m\u001b[1;33m\u001b[0m\u001b[0m\n",
      "\u001b[1;31mTypeError\u001b[0m: __iter__() missing 1 required positional argument: 'x'"
     ]
    }
   ],
   "source": [
    "for i in a:\n",
    "    print(i)"
   ]
  },
  {
   "cell_type": "code",
   "execution_count": 20,
   "id": "8591323a",
   "metadata": {},
   "outputs": [],
   "source": [
    "class A:\n",
    "    def __iter__(self):\n",
    "        return iter([1,2,3])"
   ]
  },
  {
   "cell_type": "code",
   "execution_count": 21,
   "id": "001e9d33",
   "metadata": {},
   "outputs": [],
   "source": [
    "a = A()"
   ]
  },
  {
   "cell_type": "code",
   "execution_count": 22,
   "id": "e4133913",
   "metadata": {},
   "outputs": [
    {
     "name": "stdout",
     "output_type": "stream",
     "text": [
      "1\n",
      "2\n",
      "3\n"
     ]
    }
   ],
   "source": [
    "for i in a:\n",
    "    print(i)"
   ]
  },
  {
   "cell_type": "code",
   "execution_count": 25,
   "id": "0b3aaaac",
   "metadata": {},
   "outputs": [
    {
     "data": {
      "text/plain": [
       "True"
      ]
     },
     "execution_count": 25,
     "metadata": {},
     "output_type": "execute_result"
    }
   ],
   "source": [
    "# 있는 없는지 체크하는 애들을 멤버십이라 해\n",
    "# in\n",
    "3 in [1,2,3]"
   ]
  },
  {
   "cell_type": "code",
   "execution_count": 26,
   "id": "0852aa5c",
   "metadata": {},
   "outputs": [
    {
     "name": "stdout",
     "output_type": "stream",
     "text": [
      "Membership test operations\n",
      "**************************\n",
      "\n",
      "The operators \"in\" and \"not in\" test for membership.  \"x in s\"\n",
      "evaluates to \"True\" if *x* is a member of *s*, and \"False\" otherwise.\n",
      "\"x not in s\" returns the negation of \"x in s\".  All built-in sequences\n",
      "and set types support this as well as dictionary, for which \"in\" tests\n",
      "whether the dictionary has a given key. For container types such as\n",
      "list, tuple, set, frozenset, dict, or collections.deque, the\n",
      "expression \"x in y\" is equivalent to \"any(x is e or x == e for e in\n",
      "y)\".\n",
      "\n",
      "For the string and bytes types, \"x in y\" is \"True\" if and only if *x*\n",
      "is a substring of *y*.  An equivalent test is \"y.find(x) != -1\".\n",
      "Empty strings are always considered to be a substring of any other\n",
      "string, so \"\"\" in \"abc\"\" will return \"True\".\n",
      "\n",
      "For user-defined classes which define the \"__contains__()\" method, \"x\n",
      "in y\" returns \"True\" if \"y.__contains__(x)\" returns a true value, and\n",
      "\"False\" otherwise.\n",
      "\n",
      "For user-defined classes which do not define \"__contains__()\" but do\n",
      "define \"__iter__()\", \"x in y\" is \"True\" if some value \"z\", for which\n",
      "the expression \"x is z or x == z\" is true, is produced while iterating\n",
      "over \"y\". If an exception is raised during the iteration, it is as if\n",
      "\"in\" raised that exception.\n",
      "\n",
      "Lastly, the old-style iteration protocol is tried: if a class defines\n",
      "\"__getitem__()\", \"x in y\" is \"True\" if and only if there is a non-\n",
      "negative integer index *i* such that \"x is y[i] or x == y[i]\", and no\n",
      "lower integer index raises the \"IndexError\" exception.  (If any other\n",
      "exception is raised, it is as if \"in\" raised that exception).\n",
      "\n",
      "The operator \"not in\" is defined to have the inverse truth value of\n",
      "\"in\".\n",
      "\n",
      "Related help topics: SEQUENCEMETHODS\n",
      "\n"
     ]
    }
   ],
   "source": [
    "help('in')"
   ]
  },
  {
   "cell_type": "code",
   "execution_count": 27,
   "id": "a6fccd5c",
   "metadata": {},
   "outputs": [
    {
     "data": {
      "text/plain": [
       "False"
      ]
     },
     "execution_count": 27,
     "metadata": {},
     "output_type": "execute_result"
    }
   ],
   "source": [
    "3 not in [1,2,3]"
   ]
  },
  {
   "cell_type": "code",
   "execution_count": 28,
   "id": "ce8b9607",
   "metadata": {},
   "outputs": [
    {
     "name": "stdout",
     "output_type": "stream",
     "text": [
      "T\n"
     ]
    }
   ],
   "source": [
    "a = 3\n",
    "\n",
    "if a==3 or a==4 or a==5:\n",
    "    print('T')"
   ]
  },
  {
   "cell_type": "code",
   "execution_count": 29,
   "id": "dddd7a34",
   "metadata": {},
   "outputs": [
    {
     "data": {
      "text/plain": [
       "True"
      ]
     },
     "execution_count": 29,
     "metadata": {},
     "output_type": "execute_result"
    }
   ],
   "source": [
    "a in [3,4,5]"
   ]
  },
  {
   "cell_type": "code",
   "execution_count": 30,
   "id": "5c1dce3e",
   "metadata": {},
   "outputs": [
    {
     "ename": "SyntaxError",
     "evalue": "invalid syntax (Temp/ipykernel_35592/3655750276.py, line 1)",
     "output_type": "error",
     "traceback": [
      "\u001b[1;36m  File \u001b[1;32m\"C:\\Users\\dlel2\\AppData\\Local\\Temp/ipykernel_35592/3655750276.py\"\u001b[1;36m, line \u001b[1;32m1\u001b[0m\n\u001b[1;33m    for i not in b:\u001b[0m\n\u001b[1;37m                  ^\u001b[0m\n\u001b[1;31mSyntaxError\u001b[0m\u001b[1;31m:\u001b[0m invalid syntax\n"
     ]
    }
   ],
   "source": [
    "for i not in b:\n",
    "    print(i)"
   ]
  },
  {
   "cell_type": "code",
   "execution_count": 31,
   "id": "74bac5d5",
   "metadata": {},
   "outputs": [
    {
     "name": "stdout",
     "output_type": "stream",
     "text": [
      "a\n",
      "b\n",
      "c\n",
      "d\n"
     ]
    }
   ],
   "source": [
    "for i in 'abcd':\n",
    "    print(i)"
   ]
  },
  {
   "cell_type": "code",
   "execution_count": 32,
   "id": "95ca319f",
   "metadata": {},
   "outputs": [],
   "source": [
    "# 이터레이터 이터러블\n"
   ]
  },
  {
   "cell_type": "code",
   "execution_count": 33,
   "id": "e354e266",
   "metadata": {},
   "outputs": [],
   "source": [
    "b = 'abcd'"
   ]
  },
  {
   "cell_type": "code",
   "execution_count": 34,
   "id": "08e10d1b",
   "metadata": {},
   "outputs": [],
   "source": [
    "c = iter(b)"
   ]
  },
  {
   "cell_type": "code",
   "execution_count": 39,
   "id": "2c9691e9",
   "metadata": {},
   "outputs": [
    {
     "ename": "StopIteration",
     "evalue": "",
     "output_type": "error",
     "traceback": [
      "\u001b[1;31m---------------------------------------------------------------------------\u001b[0m",
      "\u001b[1;31mStopIteration\u001b[0m                             Traceback (most recent call last)",
      "\u001b[1;32m~\\AppData\\Local\\Temp/ipykernel_35592/1173204873.py\u001b[0m in \u001b[0;36m<module>\u001b[1;34m\u001b[0m\n\u001b[1;32m----> 1\u001b[1;33m \u001b[0mnext\u001b[0m\u001b[1;33m(\u001b[0m\u001b[0mc\u001b[0m\u001b[1;33m)\u001b[0m\u001b[1;33m\u001b[0m\u001b[1;33m\u001b[0m\u001b[0m\n\u001b[0m",
      "\u001b[1;31mStopIteration\u001b[0m: "
     ]
    }
   ],
   "source": [
    "next(c)"
   ]
  },
  {
   "cell_type": "markdown",
   "id": "fe01e4aa",
   "metadata": {},
   "source": [
    "이터러블이 for안에들어가면 이터레이터가 되고\\\n",
    "이터레이터는 하나씩하나씩 뽑아준다."
   ]
  },
  {
   "cell_type": "code",
   "execution_count": 42,
   "id": "6899dae7",
   "metadata": {},
   "outputs": [],
   "source": [
    "def t():\n",
    "    for i in 'abcd':\n",
    "        print(i)"
   ]
  },
  {
   "cell_type": "code",
   "execution_count": 43,
   "id": "dd162fdb",
   "metadata": {},
   "outputs": [],
   "source": [
    "import dis"
   ]
  },
  {
   "cell_type": "code",
   "execution_count": 44,
   "id": "76d3e271",
   "metadata": {},
   "outputs": [
    {
     "name": "stdout",
     "output_type": "stream",
     "text": [
      "  2           0 LOAD_CONST               1 ('abcd')\n",
      "              2 GET_ITER\n",
      "        >>    4 FOR_ITER                12 (to 18)\n",
      "              6 STORE_FAST               0 (i)\n",
      "\n",
      "  3           8 LOAD_GLOBAL              0 (print)\n",
      "             10 LOAD_FAST                0 (i)\n",
      "             12 CALL_FUNCTION            1\n",
      "             14 POP_TOP\n",
      "             16 JUMP_ABSOLUTE            4\n",
      "        >>   18 LOAD_CONST               0 (None)\n",
      "             20 RETURN_VALUE\n"
     ]
    }
   ],
   "source": [
    "dis.dis(t)"
   ]
  },
  {
   "cell_type": "code",
   "execution_count": 45,
   "id": "18b922e6",
   "metadata": {},
   "outputs": [
    {
     "data": {
      "text/plain": [
       "list['abcd']"
      ]
     },
     "execution_count": 45,
     "metadata": {},
     "output_type": "execute_result"
    }
   ],
   "source": [
    "list['abcd']"
   ]
  },
  {
   "cell_type": "code",
   "execution_count": null,
   "id": "6191a452",
   "metadata": {},
   "outputs": [],
   "source": [
    "a = [1,2,3 ]"
   ]
  },
  {
   "cell_type": "code",
   "execution_count": null,
   "id": "57448a4a",
   "metadata": {},
   "outputs": [],
   "source": [
    "sum"
   ]
  },
  {
   "cell_type": "code",
   "execution_count": null,
   "id": "b3632d2c",
   "metadata": {},
   "outputs": [],
   "source": []
  },
  {
   "cell_type": "code",
   "execution_count": 47,
   "id": "a8480a6c",
   "metadata": {
    "scrolled": true
   },
   "outputs": [
    {
     "name": "stdout",
     "output_type": "stream",
     "text": [
      "1\n",
      "2\n",
      "3\n",
      "4\n"
     ]
    }
   ],
   "source": [
    "afor i in 1,2,3,4:\n",
    "    print(i)"
   ]
  },
  {
   "cell_type": "markdown",
   "id": "3b52e242",
   "metadata": {},
   "source": [
    "- Iterable은 반복 가능한 객체를 말합니다. 즉, 내부 요소에 대해 반복할 수 있는 객체입니다.\n",
    "- Iterable 객체는 반드시 __iter__() 메서드를 구현해야하며, 해당 메서드는 Iterator 객체를 반환합니다\n",
    "- Iterator는 Iterable 객체에서 값을 차례로 가져오는 객체를 말합니다. Iterator 객체는 반드시 __next__() 메서드를 구현해야하며, 해당 메서드는 Iterator가 가리키는 다음 값을 반환합니다."
   ]
  },
  {
   "cell_type": "code",
   "execution_count": 51,
   "id": "7255c65f",
   "metadata": {},
   "outputs": [
    {
     "name": "stdout",
     "output_type": "stream",
     "text": [
      "d\n"
     ]
    }
   ],
   "source": [
    "a = input()"
   ]
  },
  {
   "cell_type": "code",
   "execution_count": 52,
   "id": "330da899",
   "metadata": {},
   "outputs": [
    {
     "ename": "ValueError",
     "evalue": "invalid literal for int() with base 10: 'd'",
     "output_type": "error",
     "traceback": [
      "\u001b[1;31m---------------------------------------------------------------------------\u001b[0m",
      "\u001b[1;31mValueError\u001b[0m                                Traceback (most recent call last)",
      "\u001b[1;32m~\\AppData\\Local\\Temp/ipykernel_35592/2519926233.py\u001b[0m in \u001b[0;36m<module>\u001b[1;34m\u001b[0m\n\u001b[1;32m----> 1\u001b[1;33m \u001b[0mb\u001b[0m \u001b[1;33m=\u001b[0m \u001b[0mint\u001b[0m\u001b[1;33m(\u001b[0m\u001b[0ma\u001b[0m\u001b[1;33m)\u001b[0m \u001b[1;33m+\u001b[0m \u001b[1;36m3\u001b[0m\u001b[1;33m\u001b[0m\u001b[1;33m\u001b[0m\u001b[0m\n\u001b[0m\u001b[0;32m      2\u001b[0m \u001b[0mb\u001b[0m\u001b[1;33m\u001b[0m\u001b[1;33m\u001b[0m\u001b[0m\n",
      "\u001b[1;31mValueError\u001b[0m: invalid literal for int() with base 10: 'd'"
     ]
    }
   ],
   "source": [
    "b = int(a) + 3\n",
    "b"
   ]
  },
  {
   "cell_type": "markdown",
   "id": "37699075",
   "metadata": {},
   "source": [
    "# continue와 break"
   ]
  },
  {
   "cell_type": "code",
   "execution_count": 54,
   "id": "a690238f",
   "metadata": {},
   "outputs": [
    {
     "name": "stdout",
     "output_type": "stream",
     "text": [
      "0\n",
      "1\n",
      "2\n",
      "3\n",
      "4\n",
      "5\n",
      "6\n",
      "7\n",
      "8\n",
      "9\n",
      "end\n"
     ]
    }
   ],
   "source": [
    "for i in range(10):\n",
    "    print(i)\n",
    "else:\n",
    "    print('end')"
   ]
  },
  {
   "cell_type": "code",
   "execution_count": 53,
   "id": "6c4a6675",
   "metadata": {},
   "outputs": [],
   "source": [
    "for i in range(10):\n",
    "    if i==5:\n",
    "        break\n",
    "else:\n",
    "    print('end')"
   ]
  },
  {
   "cell_type": "code",
   "execution_count": 55,
   "id": "4fe831cf",
   "metadata": {},
   "outputs": [
    {
     "name": "stdout",
     "output_type": "stream",
     "text": [
      "end\n"
     ]
    }
   ],
   "source": [
    "for i in range(10):\n",
    "    if i==5:\n",
    "        continue\n",
    "else:\n",
    "    print('end')"
   ]
  },
  {
   "cell_type": "code",
   "execution_count": null,
   "id": "122dd3c4",
   "metadata": {},
   "outputs": [],
   "source": [
    "# else는\n",
    "# 조건문과 반복분, 예외처리\n",
    "# 총 세가지 경우에 쓸 수 있다\n",
    "\n",
    "# break를 쓰면 else는 돌아가지 않는다\n",
    "# continue를 쓰면 else가 돌아간다"
   ]
  },
  {
   "cell_type": "code",
   "execution_count": 61,
   "id": "b275f540",
   "metadata": {},
   "outputs": [
    {
     "name": "stdout",
     "output_type": "stream",
     "text": [
      "end\n"
     ]
    }
   ],
   "source": [
    "# 반복문을 돌지 않아도\n",
    "# end가 찍힌다!!!!!\n",
    "\n",
    "a = 4\n",
    "while a>5:\n",
    "    print(a)\n",
    "    a = a-1\n",
    "else:\n",
    "    print('end')"
   ]
  },
  {
   "cell_type": "code",
   "execution_count": null,
   "id": "2326b514",
   "metadata": {},
   "outputs": [],
   "source": [
    "# assignment\n",
    "a = 1\n",
    "a += 1\n",
    "a = b = 1\n",
    "a = b = [1,2,3]\n",
    "a[0] = 5\n",
    "b\n",
    "a, b = 1, 2 # 이건 사실 튜플이다!!!!!!!!! 2,3 -> (2,3)\n",
    "a, b = (2,3) # unpack\n",
    "# a, b = (2,3,4) # unpack 에러 = valueError\n",
    "a, *b, c = 1,2,3,4,5 # b는 list이다....!!!!!!!!"
   ]
  },
  {
   "cell_type": "code",
   "execution_count": 66,
   "id": "dabca775",
   "metadata": {},
   "outputs": [],
   "source": [
    "a, *b, c = 1,2,3,4"
   ]
  },
  {
   "cell_type": "code",
   "execution_count": 67,
   "id": "eb73a39e",
   "metadata": {},
   "outputs": [
    {
     "data": {
      "text/plain": [
       "[2, 3]"
      ]
     },
     "execution_count": 67,
     "metadata": {},
     "output_type": "execute_result"
    }
   ],
   "source": [
    "b"
   ]
  },
  {
   "cell_type": "code",
   "execution_count": 71,
   "id": "556f3843",
   "metadata": {},
   "outputs": [],
   "source": [
    "b = (1,2,3,4,5) # 튜플로들어감"
   ]
  },
  {
   "cell_type": "code",
   "execution_count": 69,
   "id": "f742adb9",
   "metadata": {},
   "outputs": [],
   "source": [
    "*b, = (1,2,3,4,5) # 리스트로 들어감"
   ]
  },
  {
   "cell_type": "code",
   "execution_count": 72,
   "id": "8f1c8046",
   "metadata": {},
   "outputs": [
    {
     "data": {
      "text/plain": [
       "(1, 2, 3, 4, 5)"
      ]
     },
     "execution_count": 72,
     "metadata": {},
     "output_type": "execute_result"
    }
   ],
   "source": [
    "b"
   ]
  },
  {
   "cell_type": "markdown",
   "id": "7922770c",
   "metadata": {},
   "source": [
    "# 예외처리\n",
    "- assert\n",
    "- else\n",
    "- except\n",
    "- finally\n",
    "- raise\n",
    "- try"
   ]
  },
  {
   "cell_type": "code",
   "execution_count": 78,
   "id": "bb5e3e78",
   "metadata": {},
   "outputs": [
    {
     "name": "stdout",
     "output_type": "stream",
     "text": [
      "try\n",
      "b\n",
      "final\n"
     ]
    }
   ],
   "source": [
    "try:\n",
    "#     b = 1/0 # 에러가 나는 경우\n",
    "    b = 1\n",
    "    print('try')\n",
    "except:\n",
    "    print('a')\n",
    "else:\n",
    "    print('b')\n",
    "finally:     # 에러가 나든말든 무조건 실행된다.\n",
    "    print('final')"
   ]
  },
  {
   "cell_type": "markdown",
   "id": "1e98a0d0",
   "metadata": {},
   "source": [
    "# 함수 (function)"
   ]
  },
  {
   "cell_type": "code",
   "execution_count": null,
   "id": "3769ef54",
   "metadata": {},
   "outputs": [],
   "source": [
    "# assignment\n",
    "# 그냥 이름을 정하는 것\n",
    "\n",
    "# binding"
   ]
  },
  {
   "cell_type": "markdown",
   "id": "00745943",
   "metadata": {},
   "source": [
    "## declaration (선언)\n",
    "## definition (정의)\n",
    "- 얘네 둘은 반복되는 행위를 정하는 것\n",
    "- 실제 프로그래밍 할 때 함수만 가지고도 프로그래밍하는 방법이 있고\n",
    "- 그것을 함수패러다임이라고 한다.\\\n",
    "\\\\\n",
    "- 파이썬은 기본적으로 객체 지향 프로그래밍 언어"
   ]
  },
  {
   "cell_type": "markdown",
   "id": "9da7b126",
   "metadata": {},
   "source": [
    "- snake : moon_beauty (function)\n",
    "- camel : moonBeauty\n",
    "- caps / pascal : MoonBeauty <- python에서는 이 방식을 camel이라고도 한다."
   ]
  },
  {
   "cell_type": "code",
   "execution_count": null,
   "id": "d0d7ee69",
   "metadata": {},
   "outputs": [],
   "source": [
    "\n",
    "- class\n",
    "- def"
   ]
  }
 ],
 "metadata": {
  "kernelspec": {
   "display_name": "Python 3 (ipykernel)",
   "language": "python",
   "name": "python3"
  },
  "language_info": {
   "codemirror_mode": {
    "name": "ipython",
    "version": 3
   },
   "file_extension": ".py",
   "mimetype": "text/x-python",
   "name": "python",
   "nbconvert_exporter": "python",
   "pygments_lexer": "ipython3",
   "version": "3.9.7"
  }
 },
 "nbformat": 4,
 "nbformat_minor": 5
}
