{
 "cells": [
  {
   "cell_type": "markdown",
   "id": "35e926ea",
   "metadata": {},
   "source": [
    "callable\\\n",
    ": 호출할 수 있는 것\\\n",
    ": 괄호를 붙일 수 있는 것\\\n",
    "\\\n",
    "function과 method\\\n",
    "클래스에 괄호 붙일 수 있어\\\n",
    "\\__call__이 있으면 괄호 붙일 수 있어"
   ]
  },
  {
   "cell_type": "code",
   "execution_count": 64,
   "id": "625bce3f",
   "metadata": {},
   "outputs": [],
   "source": [
    "def x(a):\n",
    "    return a"
   ]
  },
  {
   "cell_type": "code",
   "execution_count": 65,
   "id": "0e9e33ed",
   "metadata": {},
   "outputs": [
    {
     "data": {
      "text/plain": [
       "True"
      ]
     },
     "execution_count": 65,
     "metadata": {},
     "output_type": "execute_result"
    }
   ],
   "source": [
    "callable(x)"
   ]
  },
  {
   "cell_type": "code",
   "execution_count": 66,
   "id": "25a962a4",
   "metadata": {},
   "outputs": [],
   "source": [
    "a = 1"
   ]
  },
  {
   "cell_type": "code",
   "execution_count": 67,
   "id": "0eefa42e",
   "metadata": {},
   "outputs": [
    {
     "ename": "TypeError",
     "evalue": "'int' object is not callable",
     "output_type": "error",
     "traceback": [
      "\u001b[1;31m---------------------------------------------------------------------------\u001b[0m",
      "\u001b[1;31mTypeError\u001b[0m                                 Traceback (most recent call last)",
      "\u001b[1;32m~\\AppData\\Local\\Temp/ipykernel_18896/3657634075.py\u001b[0m in \u001b[0;36m<module>\u001b[1;34m\u001b[0m\n\u001b[1;32m----> 1\u001b[1;33m \u001b[0ma\u001b[0m\u001b[1;33m(\u001b[0m\u001b[1;33m)\u001b[0m\u001b[1;33m\u001b[0m\u001b[1;33m\u001b[0m\u001b[0m\n\u001b[0m",
      "\u001b[1;31mTypeError\u001b[0m: 'int' object is not callable"
     ]
    }
   ],
   "source": [
    "a()"
   ]
  },
  {
   "cell_type": "code",
   "execution_count": 68,
   "id": "8bb3d8a8",
   "metadata": {},
   "outputs": [
    {
     "data": {
      "text/plain": [
       "False"
      ]
     },
     "execution_count": 68,
     "metadata": {},
     "output_type": "execute_result"
    }
   ],
   "source": [
    "callable(a)"
   ]
  },
  {
   "cell_type": "code",
   "execution_count": 69,
   "id": "e9558f4a",
   "metadata": {},
   "outputs": [],
   "source": [
    "class A:\n",
    "    pass"
   ]
  },
  {
   "cell_type": "code",
   "execution_count": 70,
   "id": "153d393e",
   "metadata": {
    "scrolled": true
   },
   "outputs": [],
   "source": [
    "class AA:\n",
    "    def __call__(self):\n",
    "        print('A')"
   ]
  },
  {
   "cell_type": "code",
   "execution_count": 71,
   "id": "4f4e5c06",
   "metadata": {},
   "outputs": [],
   "source": [
    "a = AA()"
   ]
  },
  {
   "cell_type": "code",
   "execution_count": 72,
   "id": "3718f9e6",
   "metadata": {
    "scrolled": true
   },
   "outputs": [
    {
     "ename": "TypeError",
     "evalue": "'int' object is not callable",
     "output_type": "error",
     "traceback": [
      "\u001b[1;31m---------------------------------------------------------------------------\u001b[0m",
      "\u001b[1;31mTypeError\u001b[0m                                 Traceback (most recent call last)",
      "\u001b[1;32m~\\AppData\\Local\\Temp/ipykernel_18896/3657634075.py\u001b[0m in \u001b[0;36m<module>\u001b[1;34m\u001b[0m\n\u001b[1;32m----> 1\u001b[1;33m \u001b[0ma\u001b[0m\u001b[1;33m(\u001b[0m\u001b[1;33m)\u001b[0m\u001b[1;33m\u001b[0m\u001b[1;33m\u001b[0m\u001b[0m\n\u001b[0m",
      "\u001b[1;32m~\\AppData\\Local\\Temp/ipykernel_18896/2196930630.py\u001b[0m in \u001b[0;36m__call__\u001b[1;34m(self)\u001b[0m\n\u001b[0;32m      1\u001b[0m \u001b[1;32mclass\u001b[0m \u001b[0mAA\u001b[0m\u001b[1;33m:\u001b[0m\u001b[1;33m\u001b[0m\u001b[1;33m\u001b[0m\u001b[0m\n\u001b[0;32m      2\u001b[0m     \u001b[1;32mdef\u001b[0m \u001b[0m__call__\u001b[0m\u001b[1;33m(\u001b[0m\u001b[0mself\u001b[0m\u001b[1;33m)\u001b[0m\u001b[1;33m:\u001b[0m\u001b[1;33m\u001b[0m\u001b[1;33m\u001b[0m\u001b[0m\n\u001b[1;32m----> 3\u001b[1;33m         \u001b[0mprint\u001b[0m\u001b[1;33m(\u001b[0m\u001b[1;34m'A'\u001b[0m\u001b[1;33m)\u001b[0m\u001b[1;33m\u001b[0m\u001b[1;33m\u001b[0m\u001b[0m\n\u001b[0m",
      "\u001b[1;31mTypeError\u001b[0m: 'int' object is not callable"
     ]
    }
   ],
   "source": [
    "a()"
   ]
  },
  {
   "cell_type": "markdown",
   "id": "fc825055",
   "metadata": {},
   "source": [
    "객체 지향과 함수 .. 유연하게 짬뽕이 가능하다\\\n"
   ]
  },
  {
   "cell_type": "code",
   "execution_count": 73,
   "id": "68d931d7",
   "metadata": {},
   "outputs": [],
   "source": [
    "def x():\n",
    "    print('a')"
   ]
  },
  {
   "cell_type": "code",
   "execution_count": null,
   "id": "82f1c5ae",
   "metadata": {},
   "outputs": [],
   "source": []
  },
  {
   "cell_type": "code",
   "execution_count": 74,
   "id": "85c155d5",
   "metadata": {},
   "outputs": [
    {
     "data": {
      "text/plain": [
       "'x'"
      ]
     },
     "execution_count": 74,
     "metadata": {},
     "output_type": "execute_result"
    }
   ],
   "source": [
    "x.__name__"
   ]
  },
  {
   "cell_type": "code",
   "execution_count": 75,
   "id": "d7ec17f2",
   "metadata": {},
   "outputs": [],
   "source": [
    "b = x"
   ]
  },
  {
   "cell_type": "code",
   "execution_count": 76,
   "id": "bd735684",
   "metadata": {},
   "outputs": [
    {
     "data": {
      "text/plain": [
       "'x'"
      ]
     },
     "execution_count": 76,
     "metadata": {},
     "output_type": "execute_result"
    }
   ],
   "source": [
    "b.__name__"
   ]
  },
  {
   "cell_type": "code",
   "execution_count": 77,
   "id": "6b463860",
   "metadata": {},
   "outputs": [
    {
     "data": {
      "text/plain": [
       "'<lambda>'"
      ]
     },
     "execution_count": 77,
     "metadata": {},
     "output_type": "execute_result"
    }
   ],
   "source": [
    "c = lambda x: x+1\n",
    "c.__name__"
   ]
  },
  {
   "cell_type": "markdown",
   "id": "2d3f4f5e",
   "metadata": {},
   "source": [
    "-- : dundo,"
   ]
  },
  {
   "cell_type": "code",
   "execution_count": 78,
   "id": "e236f285",
   "metadata": {},
   "outputs": [],
   "source": [
    "class A:\n",
    "    __a = 1\n",
    "    b = 2"
   ]
  },
  {
   "cell_type": "code",
   "execution_count": 79,
   "id": "c1cdc16f",
   "metadata": {},
   "outputs": [],
   "source": [
    "xx = 1"
   ]
  },
  {
   "cell_type": "code",
   "execution_count": 80,
   "id": "f94b7288",
   "metadata": {},
   "outputs": [],
   "source": [
    "def aa():\n",
    "    return xx"
   ]
  },
  {
   "cell_type": "code",
   "execution_count": 81,
   "id": "ebab8947",
   "metadata": {},
   "outputs": [
    {
     "data": {
      "text/plain": [
       "1"
      ]
     },
     "execution_count": 81,
     "metadata": {},
     "output_type": "execute_result"
    }
   ],
   "source": [
    "aa()"
   ]
  },
  {
   "cell_type": "markdown",
   "id": "b6cf6373",
   "metadata": {},
   "source": [
    "인크로징: 중첩\\\n",
    "g: global"
   ]
  },
  {
   "cell_type": "code",
   "execution_count": 26,
   "id": "dfa1f70c",
   "metadata": {
    "collapsed": true
   },
   "outputs": [
    {
     "data": {
      "text/plain": [
       "{'__name__': '__main__',\n",
       " '__doc__': 'Automatically created module for IPython interactive environment',\n",
       " '__package__': None,\n",
       " '__loader__': None,\n",
       " '__spec__': None,\n",
       " '__builtin__': <module 'builtins' (built-in)>,\n",
       " '__builtins__': <module 'builtins' (built-in)>,\n",
       " '_ih': ['',\n",
       "  'def x(a):\\n    return a',\n",
       "  'callable(x)',\n",
       "  'a = 1',\n",
       "  'callable(a)',\n",
       "  'a()',\n",
       "  'dir(type)',\n",
       "  'class A:\\n    pass',\n",
       "  'dir(print)',\n",
       "  'class AA:\\n    pass',\n",
       "  'a = AA()',\n",
       "  'a()',\n",
       "  \"class AA:\\n    dfe __call__(self):\\n        print('A')\",\n",
       "  \"class AA:\\n    def __call__(self):\\n        print('A')\",\n",
       "  'a = AA()',\n",
       "  'a()',\n",
       "  \"def x():\\n    print('a')\",\n",
       "  'x.__name__',\n",
       "  'b = x',\n",
       "  'b.__name',\n",
       "  'b.__name_',\n",
       "  'b.__name__',\n",
       "  'c = lambda x: x+1\\nc.__name__',\n",
       "  'c = lambda x: x+1\\nc.__name__',\n",
       "  'class A:\\n    __a = 1\\n    b = 2',\n",
       "  'xx = 1',\n",
       "  'globals()'],\n",
       " '_oh': {2: True,\n",
       "  4: False,\n",
       "  6: ['__abstractmethods__',\n",
       "   '__base__',\n",
       "   '__bases__',\n",
       "   '__basicsize__',\n",
       "   '__call__',\n",
       "   '__class__',\n",
       "   '__delattr__',\n",
       "   '__dict__',\n",
       "   '__dictoffset__',\n",
       "   '__dir__',\n",
       "   '__doc__',\n",
       "   '__eq__',\n",
       "   '__flags__',\n",
       "   '__format__',\n",
       "   '__ge__',\n",
       "   '__getattribute__',\n",
       "   '__gt__',\n",
       "   '__hash__',\n",
       "   '__init__',\n",
       "   '__init_subclass__',\n",
       "   '__instancecheck__',\n",
       "   '__itemsize__',\n",
       "   '__le__',\n",
       "   '__lt__',\n",
       "   '__module__',\n",
       "   '__mro__',\n",
       "   '__name__',\n",
       "   '__ne__',\n",
       "   '__new__',\n",
       "   '__prepare__',\n",
       "   '__qualname__',\n",
       "   '__reduce__',\n",
       "   '__reduce_ex__',\n",
       "   '__repr__',\n",
       "   '__setattr__',\n",
       "   '__sizeof__',\n",
       "   '__str__',\n",
       "   '__subclasscheck__',\n",
       "   '__subclasses__',\n",
       "   '__subclasshook__',\n",
       "   '__text_signature__',\n",
       "   '__weakrefoffset__',\n",
       "   'mro'],\n",
       "  8: ['__call__',\n",
       "   '__class__',\n",
       "   '__delattr__',\n",
       "   '__dir__',\n",
       "   '__doc__',\n",
       "   '__eq__',\n",
       "   '__format__',\n",
       "   '__ge__',\n",
       "   '__getattribute__',\n",
       "   '__gt__',\n",
       "   '__hash__',\n",
       "   '__init__',\n",
       "   '__init_subclass__',\n",
       "   '__le__',\n",
       "   '__lt__',\n",
       "   '__module__',\n",
       "   '__name__',\n",
       "   '__ne__',\n",
       "   '__new__',\n",
       "   '__qualname__',\n",
       "   '__reduce__',\n",
       "   '__reduce_ex__',\n",
       "   '__repr__',\n",
       "   '__self__',\n",
       "   '__setattr__',\n",
       "   '__sizeof__',\n",
       "   '__str__',\n",
       "   '__subclasshook__',\n",
       "   '__text_signature__'],\n",
       "  17: 'x',\n",
       "  21: 'x',\n",
       "  22: '<lambda>',\n",
       "  23: '<lambda>'},\n",
       " '_dh': ['C:\\\\Users\\\\dlel2\\\\Documents\\\\GitHub\\\\INISW_2023\\\\Python'],\n",
       " 'In': ['',\n",
       "  'def x(a):\\n    return a',\n",
       "  'callable(x)',\n",
       "  'a = 1',\n",
       "  'callable(a)',\n",
       "  'a()',\n",
       "  'dir(type)',\n",
       "  'class A:\\n    pass',\n",
       "  'dir(print)',\n",
       "  'class AA:\\n    pass',\n",
       "  'a = AA()',\n",
       "  'a()',\n",
       "  \"class AA:\\n    dfe __call__(self):\\n        print('A')\",\n",
       "  \"class AA:\\n    def __call__(self):\\n        print('A')\",\n",
       "  'a = AA()',\n",
       "  'a()',\n",
       "  \"def x():\\n    print('a')\",\n",
       "  'x.__name__',\n",
       "  'b = x',\n",
       "  'b.__name',\n",
       "  'b.__name_',\n",
       "  'b.__name__',\n",
       "  'c = lambda x: x+1\\nc.__name__',\n",
       "  'c = lambda x: x+1\\nc.__name__',\n",
       "  'class A:\\n    __a = 1\\n    b = 2',\n",
       "  'xx = 1',\n",
       "  'globals()'],\n",
       " 'Out': {2: True,\n",
       "  4: False,\n",
       "  6: ['__abstractmethods__',\n",
       "   '__base__',\n",
       "   '__bases__',\n",
       "   '__basicsize__',\n",
       "   '__call__',\n",
       "   '__class__',\n",
       "   '__delattr__',\n",
       "   '__dict__',\n",
       "   '__dictoffset__',\n",
       "   '__dir__',\n",
       "   '__doc__',\n",
       "   '__eq__',\n",
       "   '__flags__',\n",
       "   '__format__',\n",
       "   '__ge__',\n",
       "   '__getattribute__',\n",
       "   '__gt__',\n",
       "   '__hash__',\n",
       "   '__init__',\n",
       "   '__init_subclass__',\n",
       "   '__instancecheck__',\n",
       "   '__itemsize__',\n",
       "   '__le__',\n",
       "   '__lt__',\n",
       "   '__module__',\n",
       "   '__mro__',\n",
       "   '__name__',\n",
       "   '__ne__',\n",
       "   '__new__',\n",
       "   '__prepare__',\n",
       "   '__qualname__',\n",
       "   '__reduce__',\n",
       "   '__reduce_ex__',\n",
       "   '__repr__',\n",
       "   '__setattr__',\n",
       "   '__sizeof__',\n",
       "   '__str__',\n",
       "   '__subclasscheck__',\n",
       "   '__subclasses__',\n",
       "   '__subclasshook__',\n",
       "   '__text_signature__',\n",
       "   '__weakrefoffset__',\n",
       "   'mro'],\n",
       "  8: ['__call__',\n",
       "   '__class__',\n",
       "   '__delattr__',\n",
       "   '__dir__',\n",
       "   '__doc__',\n",
       "   '__eq__',\n",
       "   '__format__',\n",
       "   '__ge__',\n",
       "   '__getattribute__',\n",
       "   '__gt__',\n",
       "   '__hash__',\n",
       "   '__init__',\n",
       "   '__init_subclass__',\n",
       "   '__le__',\n",
       "   '__lt__',\n",
       "   '__module__',\n",
       "   '__name__',\n",
       "   '__ne__',\n",
       "   '__new__',\n",
       "   '__qualname__',\n",
       "   '__reduce__',\n",
       "   '__reduce_ex__',\n",
       "   '__repr__',\n",
       "   '__self__',\n",
       "   '__setattr__',\n",
       "   '__sizeof__',\n",
       "   '__str__',\n",
       "   '__subclasshook__',\n",
       "   '__text_signature__'],\n",
       "  17: 'x',\n",
       "  21: 'x',\n",
       "  22: '<lambda>',\n",
       "  23: '<lambda>'},\n",
       " 'get_ipython': <bound method InteractiveShell.get_ipython of <ipykernel.zmqshell.ZMQInteractiveShell object at 0x0000022C42E68EB0>>,\n",
       " 'exit': <IPython.core.autocall.ZMQExitAutocall at 0x22c42e9fbe0>,\n",
       " 'quit': <IPython.core.autocall.ZMQExitAutocall at 0x22c42e9fbe0>,\n",
       " '_': '<lambda>',\n",
       " '__': '<lambda>',\n",
       " '___': 'x',\n",
       " '_i': 'xx = 1',\n",
       " '_ii': 'class A:\\n    __a = 1\\n    b = 2',\n",
       " '_iii': 'c = lambda x: x+1\\nc.__name__',\n",
       " '_i1': 'def x(a):\\n    return a',\n",
       " 'x': <function __main__.x()>,\n",
       " '_i2': 'callable(x)',\n",
       " '_2': True,\n",
       " '_i3': 'a = 1',\n",
       " 'a': <__main__.AA at 0x22c42eff550>,\n",
       " '_i4': 'callable(a)',\n",
       " '_4': False,\n",
       " '_i5': 'a()',\n",
       " '_i6': 'dir(type)',\n",
       " '_6': ['__abstractmethods__',\n",
       "  '__base__',\n",
       "  '__bases__',\n",
       "  '__basicsize__',\n",
       "  '__call__',\n",
       "  '__class__',\n",
       "  '__delattr__',\n",
       "  '__dict__',\n",
       "  '__dictoffset__',\n",
       "  '__dir__',\n",
       "  '__doc__',\n",
       "  '__eq__',\n",
       "  '__flags__',\n",
       "  '__format__',\n",
       "  '__ge__',\n",
       "  '__getattribute__',\n",
       "  '__gt__',\n",
       "  '__hash__',\n",
       "  '__init__',\n",
       "  '__init_subclass__',\n",
       "  '__instancecheck__',\n",
       "  '__itemsize__',\n",
       "  '__le__',\n",
       "  '__lt__',\n",
       "  '__module__',\n",
       "  '__mro__',\n",
       "  '__name__',\n",
       "  '__ne__',\n",
       "  '__new__',\n",
       "  '__prepare__',\n",
       "  '__qualname__',\n",
       "  '__reduce__',\n",
       "  '__reduce_ex__',\n",
       "  '__repr__',\n",
       "  '__setattr__',\n",
       "  '__sizeof__',\n",
       "  '__str__',\n",
       "  '__subclasscheck__',\n",
       "  '__subclasses__',\n",
       "  '__subclasshook__',\n",
       "  '__text_signature__',\n",
       "  '__weakrefoffset__',\n",
       "  'mro'],\n",
       " '_i7': 'class A:\\n    pass',\n",
       " 'A': __main__.A,\n",
       " '_i8': 'dir(print)',\n",
       " '_8': ['__call__',\n",
       "  '__class__',\n",
       "  '__delattr__',\n",
       "  '__dir__',\n",
       "  '__doc__',\n",
       "  '__eq__',\n",
       "  '__format__',\n",
       "  '__ge__',\n",
       "  '__getattribute__',\n",
       "  '__gt__',\n",
       "  '__hash__',\n",
       "  '__init__',\n",
       "  '__init_subclass__',\n",
       "  '__le__',\n",
       "  '__lt__',\n",
       "  '__module__',\n",
       "  '__name__',\n",
       "  '__ne__',\n",
       "  '__new__',\n",
       "  '__qualname__',\n",
       "  '__reduce__',\n",
       "  '__reduce_ex__',\n",
       "  '__repr__',\n",
       "  '__self__',\n",
       "  '__setattr__',\n",
       "  '__sizeof__',\n",
       "  '__str__',\n",
       "  '__subclasshook__',\n",
       "  '__text_signature__'],\n",
       " '_i9': 'class AA:\\n    pass',\n",
       " 'AA': __main__.AA,\n",
       " '_i10': 'a = AA()',\n",
       " '_i11': 'a()',\n",
       " '_i12': \"class AA:\\n    dfe __call__(self):\\n        print('A')\",\n",
       " '_i13': \"class AA:\\n    def __call__(self):\\n        print('A')\",\n",
       " '_i14': 'a = AA()',\n",
       " '_i15': 'a()',\n",
       " '_i16': \"def x():\\n    print('a')\",\n",
       " '_i17': 'x.__name__',\n",
       " '_17': 'x',\n",
       " '_i18': 'b = x',\n",
       " 'b': <function __main__.x()>,\n",
       " '_i19': 'b.__name',\n",
       " '_i20': 'b.__name_',\n",
       " '_i21': 'b.__name__',\n",
       " '_21': 'x',\n",
       " '_i22': 'c = lambda x: x+1\\nc.__name__',\n",
       " 'c': <function __main__.<lambda>(x)>,\n",
       " '_22': '<lambda>',\n",
       " '_i23': 'c = lambda x: x+1\\nc.__name__',\n",
       " '_23': '<lambda>',\n",
       " '_i24': 'class A:\\n    __a = 1\\n    b = 2',\n",
       " '_i25': 'xx = 1',\n",
       " 'xx': 1,\n",
       " '_i26': 'globals()'}"
      ]
     },
     "execution_count": 26,
     "metadata": {},
     "output_type": "execute_result"
    }
   ],
   "source": [
    "globals()"
   ]
  },
  {
   "cell_type": "code",
   "execution_count": 30,
   "id": "7abc43a7",
   "metadata": {},
   "outputs": [],
   "source": [
    "import builtins"
   ]
  },
  {
   "cell_type": "code",
   "execution_count": null,
   "id": "82f4a088",
   "metadata": {},
   "outputs": [],
   "source": [
    "'print' in "
   ]
  },
  {
   "cell_type": "code",
   "execution_count": 82,
   "id": "dbb23d49",
   "metadata": {},
   "outputs": [],
   "source": [
    "print = 3"
   ]
  },
  {
   "cell_type": "code",
   "execution_count": 83,
   "id": "a6534a93",
   "metadata": {},
   "outputs": [
    {
     "ename": "TypeError",
     "evalue": "'int' object is not callable",
     "output_type": "error",
     "traceback": [
      "\u001b[1;31m---------------------------------------------------------------------------\u001b[0m",
      "\u001b[1;31mTypeError\u001b[0m                                 Traceback (most recent call last)",
      "\u001b[1;32m~\\AppData\\Local\\Temp/ipykernel_18896/3358403583.py\u001b[0m in \u001b[0;36m<module>\u001b[1;34m\u001b[0m\n\u001b[1;32m----> 1\u001b[1;33m \u001b[0mprint\u001b[0m\u001b[1;33m(\u001b[0m\u001b[1;36m3\u001b[0m\u001b[1;33m)\u001b[0m\u001b[1;33m\u001b[0m\u001b[1;33m\u001b[0m\u001b[0m\n\u001b[0m",
      "\u001b[1;31mTypeError\u001b[0m: 'int' object is not callable"
     ]
    }
   ],
   "source": [
    "print(3)"
   ]
  },
  {
   "cell_type": "code",
   "execution_count": 84,
   "id": "0dfb4d31",
   "metadata": {
    "collapsed": true
   },
   "outputs": [
    {
     "ename": "SyntaxError",
     "evalue": "invalid syntax (Temp/ipykernel_18896/554777792.py, line 1)",
     "output_type": "error",
     "traceback": [
      "\u001b[1;36m  File \u001b[1;32m\"C:\\Users\\dlel2\\AppData\\Local\\Temp/ipykernel_18896/554777792.py\"\u001b[1;36m, line \u001b[1;32m1\u001b[0m\n\u001b[1;33m    def print # del(print)\u001b[0m\n\u001b[1;37m              ^\u001b[0m\n\u001b[1;31mSyntaxError\u001b[0m\u001b[1;31m:\u001b[0m invalid syntax\n"
     ]
    }
   ],
   "source": [
    "def print # del(print)"
   ]
  },
  {
   "cell_type": "code",
   "execution_count": null,
   "id": "af6f8884",
   "metadata": {},
   "outputs": [],
   "source": [
    "LEGB\n",
    "print "
   ]
  },
  {
   "cell_type": "code",
   "execution_count": 85,
   "id": "77e0c311",
   "metadata": {},
   "outputs": [],
   "source": [
    "def aa():\n",
    "    global xx\n",
    "    xx = xx + 2\n",
    "    return xx"
   ]
  },
  {
   "cell_type": "code",
   "execution_count": 86,
   "id": "bc325775",
   "metadata": {},
   "outputs": [
    {
     "data": {
      "text/plain": [
       "7"
      ]
     },
     "execution_count": 86,
     "metadata": {},
     "output_type": "execute_result"
    }
   ],
   "source": [
    "xx = 5\n",
    "aa()"
   ]
  },
  {
   "cell_type": "markdown",
   "id": "5bda63be",
   "metadata": {},
   "source": [
    "두꺼우면 키워드이다.\\\n",
    "파이썬의 함수는 기본적으로 2개 이상 중첩을 시킬 수 있다."
   ]
  },
  {
   "cell_type": "code",
   "execution_count": null,
   "id": "ca9b8c1a",
   "metadata": {},
   "outputs": [],
   "source": []
  },
  {
   "cell_type": "code",
   "execution_count": null,
   "id": "5c1ab7bc",
   "metadata": {},
   "outputs": [],
   "source": []
  },
  {
   "cell_type": "code",
   "execution_count": 40,
   "id": "d788b007",
   "metadata": {},
   "outputs": [],
   "source": [
    "import keyword"
   ]
  },
  {
   "cell_type": "code",
   "execution_count": 41,
   "id": "b306da6c",
   "metadata": {},
   "outputs": [
    {
     "data": {
      "text/plain": [
       "True"
      ]
     },
     "execution_count": 41,
     "metadata": {},
     "output_type": "execute_result"
    }
   ],
   "source": [
    "'nonlocal' in keyword.kwlist"
   ]
  },
  {
   "cell_type": "code",
   "execution_count": 91,
   "id": "970f9799",
   "metadata": {},
   "outputs": [
    {
     "data": {
      "text/plain": [
       "<function __main__.x.<locals>.y(n)>"
      ]
     },
     "execution_count": 91,
     "metadata": {},
     "output_type": "execute_result"
    }
   ],
   "source": [
    "def x(m):\n",
    "    def y(n):\n",
    "        return m+n\n",
    "    return y\n",
    "\n",
    "# 이건 함수다\n",
    "x(1)"
   ]
  },
  {
   "cell_type": "markdown",
   "id": "0c961625",
   "metadata": {},
   "source": [
    "# closoure\n",
    "함수 안에 함수 클로저 테크닉\\\n",
    "2개의 함수를 조합해서 모든 경우의 수를 만든다..!!! 얼마나 좋아"
   ]
  },
  {
   "cell_type": "code",
   "execution_count": 92,
   "id": "5e27be3f",
   "metadata": {},
   "outputs": [
    {
     "data": {
      "text/plain": [
       "5"
      ]
     },
     "execution_count": 92,
     "metadata": {},
     "output_type": "execute_result"
    }
   ],
   "source": [
    "def x(m):\n",
    "    def y(n):\n",
    "        return m+n\n",
    "    return y\n",
    "\n",
    "\n",
    "# x(1)이라는 함수에 4라는 인자를 줬으니 값이 나오겟지\n",
    "x(1)(4)"
   ]
  },
  {
   "cell_type": "code",
   "execution_count": 93,
   "id": "7246364f",
   "metadata": {},
   "outputs": [
    {
     "data": {
      "text/plain": [
       "10"
      ]
     },
     "execution_count": 93,
     "metadata": {},
     "output_type": "execute_result"
    }
   ],
   "source": [
    "x(3)(7)"
   ]
  },
  {
   "cell_type": "code",
   "execution_count": 102,
   "id": "4b7afab9",
   "metadata": {},
   "outputs": [
    {
     "data": {
      "text/plain": [
       "<function __main__.aa()>"
      ]
     },
     "execution_count": 102,
     "metadata": {},
     "output_type": "execute_result"
    }
   ],
   "source": [
    "aa"
   ]
  },
  {
   "cell_type": "code",
   "execution_count": 101,
   "id": "831d9465",
   "metadata": {},
   "outputs": [
    {
     "ename": "TypeError",
     "evalue": "aa() takes 0 positional arguments but 1 was given",
     "output_type": "error",
     "traceback": [
      "\u001b[1;31m---------------------------------------------------------------------------\u001b[0m",
      "\u001b[1;31mTypeError\u001b[0m                                 Traceback (most recent call last)",
      "\u001b[1;32m~\\AppData\\Local\\Temp/ipykernel_18896/3648105612.py\u001b[0m in \u001b[0;36m<module>\u001b[1;34m\u001b[0m\n\u001b[0;32m      6\u001b[0m \u001b[1;31m# 이건 에러가 난다\u001b[0m\u001b[1;33m\u001b[0m\u001b[1;33m\u001b[0m\u001b[0m\n\u001b[0;32m      7\u001b[0m \u001b[1;31m# x(3)이라는 함수는 리턴이 y(n)이야\u001b[0m\u001b[1;33m\u001b[0m\u001b[1;33m\u001b[0m\u001b[0m\n\u001b[1;32m----> 8\u001b[1;33m \u001b[0mx\u001b[0m\u001b[1;33m(\u001b[0m\u001b[1;36m3\u001b[0m\u001b[1;33m)\u001b[0m\u001b[1;33m(\u001b[0m\u001b[1;36m5\u001b[0m\u001b[1;33m)\u001b[0m\u001b[1;33m\u001b[0m\u001b[1;33m\u001b[0m\u001b[0m\n\u001b[0m",
      "\u001b[1;31mTypeError\u001b[0m: aa() takes 0 positional arguments but 1 was given"
     ]
    }
   ],
   "source": [
    "def x(m):\n",
    "    def y(n):\n",
    "        return aa\n",
    "    return y(n)\n",
    "\n",
    "# 이건 에러가 난다\n",
    "# x(3)이라는 함수는 리턴이 y(n)이야\n",
    "# 근데 aa는 값이 아니라 또 함수야\n",
    "x(3)(5)"
   ]
  },
  {
   "cell_type": "code",
   "execution_count": 108,
   "id": "839f6bab",
   "metadata": {},
   "outputs": [
    {
     "data": {
      "text/plain": [
       "21"
      ]
     },
     "execution_count": 108,
     "metadata": {},
     "output_type": "execute_result"
    }
   ],
   "source": [
    "def x(m):\n",
    "    def y():\n",
    "        return aa\n",
    "    return y()\n",
    "\n",
    "# x(3) 이건 또 함수네 그래서 값이 나와\n",
    "x(3)()"
   ]
  },
  {
   "cell_type": "code",
   "execution_count": 109,
   "id": "fd078950",
   "metadata": {},
   "outputs": [
    {
     "data": {
      "text/plain": [
       "23"
      ]
     },
     "execution_count": 109,
     "metadata": {},
     "output_type": "execute_result"
    }
   ],
   "source": [
    "# n을 global하게 해주면 에러 안 난다\n",
    "n = 1\n",
    "def x(m):\n",
    "    def y(n):\n",
    "        return aa\n",
    "    return y(n)\n",
    "\n",
    "\n",
    "x(3)()"
   ]
  },
  {
   "cell_type": "markdown",
   "id": "772229fc",
   "metadata": {},
   "source": [
    "# LEGB"
   ]
  },
  {
   "cell_type": "code",
   "execution_count": 110,
   "id": "113f196b",
   "metadata": {},
   "outputs": [
    {
     "data": {
      "text/plain": [
       "3"
      ]
     },
     "execution_count": 110,
     "metadata": {},
     "output_type": "execute_result"
    }
   ],
   "source": [
    "# LEGB에서 E 인크로징(encrosing) 변수\n",
    "n = 1\n",
    "aa = 3\n",
    "\n",
    "def x(m):\n",
    "    def y(n):\n",
    "        return aa\n",
    "    return y(n)\n",
    "\n",
    "\n",
    "x(3)"
   ]
  },
  {
   "cell_type": "code",
   "execution_count": 111,
   "id": "1f5df82b",
   "metadata": {},
   "outputs": [
    {
     "data": {
      "text/plain": [
       "2"
      ]
     },
     "execution_count": 111,
     "metadata": {},
     "output_type": "execute_result"
    }
   ],
   "source": [
    "y = 1\n",
    "def a():\n",
    "    y = 2 # 가장 먼저 찾은 y변수가 2\n",
    "    def b():\n",
    "        return y # y가 local에 없으니 바로 위에서 찾는다\n",
    "    return b()\n",
    "\n",
    "\n",
    "a()"
   ]
  },
  {
   "cell_type": "code",
   "execution_count": 112,
   "id": "8c62a08e",
   "metadata": {},
   "outputs": [
    {
     "data": {
      "text/plain": [
       "6"
      ]
     },
     "execution_count": 112,
     "metadata": {},
     "output_type": "execute_result"
    }
   ],
   "source": [
    "y = 1\n",
    "def a():\n",
    "    y = 2\n",
    "    def b():\n",
    "        global y\n",
    "        y = y+5\n",
    "        return y\n",
    "    return b()\n",
    "\n",
    "# global에 있는 y=1이 더해진다!!!\n",
    "a()"
   ]
  },
  {
   "cell_type": "code",
   "execution_count": 115,
   "id": "78ddccc4",
   "metadata": {},
   "outputs": [
    {
     "ename": "UnboundLocalError",
     "evalue": "local variable 'y' referenced before assignment",
     "output_type": "error",
     "traceback": [
      "\u001b[1;31m---------------------------------------------------------------------------\u001b[0m",
      "\u001b[1;31mUnboundLocalError\u001b[0m                         Traceback (most recent call last)",
      "\u001b[1;32m~\\AppData\\Local\\Temp/ipykernel_18896/3427764511.py\u001b[0m in \u001b[0;36m<module>\u001b[1;34m\u001b[0m\n\u001b[0;32m      8\u001b[0m \u001b[1;33m\u001b[0m\u001b[0m\n\u001b[0;32m      9\u001b[0m \u001b[1;31m# global 빼면 UnboundLocalError가 난다\u001b[0m\u001b[1;33m\u001b[0m\u001b[1;33m\u001b[0m\u001b[0m\n\u001b[1;32m---> 10\u001b[1;33m \u001b[0ma\u001b[0m\u001b[1;33m(\u001b[0m\u001b[1;33m)\u001b[0m\u001b[1;33m\u001b[0m\u001b[1;33m\u001b[0m\u001b[0m\n\u001b[0m",
      "\u001b[1;32m~\\AppData\\Local\\Temp/ipykernel_18896/3427764511.py\u001b[0m in \u001b[0;36ma\u001b[1;34m()\u001b[0m\n\u001b[0;32m      5\u001b[0m         \u001b[0my\u001b[0m \u001b[1;33m=\u001b[0m \u001b[0my\u001b[0m\u001b[1;33m+\u001b[0m\u001b[1;36m5\u001b[0m\u001b[1;33m\u001b[0m\u001b[1;33m\u001b[0m\u001b[0m\n\u001b[0;32m      6\u001b[0m         \u001b[1;32mreturn\u001b[0m \u001b[0my\u001b[0m\u001b[1;33m\u001b[0m\u001b[1;33m\u001b[0m\u001b[0m\n\u001b[1;32m----> 7\u001b[1;33m     \u001b[1;32mreturn\u001b[0m \u001b[0mb\u001b[0m\u001b[1;33m(\u001b[0m\u001b[1;33m)\u001b[0m\u001b[1;33m\u001b[0m\u001b[1;33m\u001b[0m\u001b[0m\n\u001b[0m\u001b[0;32m      8\u001b[0m \u001b[1;33m\u001b[0m\u001b[0m\n\u001b[0;32m      9\u001b[0m \u001b[1;31m# global 빼면 UnboundLocalError가 난다\u001b[0m\u001b[1;33m\u001b[0m\u001b[1;33m\u001b[0m\u001b[0m\n",
      "\u001b[1;32m~\\AppData\\Local\\Temp/ipykernel_18896/3427764511.py\u001b[0m in \u001b[0;36mb\u001b[1;34m()\u001b[0m\n\u001b[0;32m      3\u001b[0m     \u001b[0my\u001b[0m \u001b[1;33m=\u001b[0m \u001b[1;36m2\u001b[0m\u001b[1;33m\u001b[0m\u001b[1;33m\u001b[0m\u001b[0m\n\u001b[0;32m      4\u001b[0m     \u001b[1;32mdef\u001b[0m \u001b[0mb\u001b[0m\u001b[1;33m(\u001b[0m\u001b[1;33m)\u001b[0m\u001b[1;33m:\u001b[0m\u001b[1;33m\u001b[0m\u001b[1;33m\u001b[0m\u001b[0m\n\u001b[1;32m----> 5\u001b[1;33m         \u001b[0my\u001b[0m \u001b[1;33m=\u001b[0m \u001b[0my\u001b[0m\u001b[1;33m+\u001b[0m\u001b[1;36m5\u001b[0m\u001b[1;33m\u001b[0m\u001b[1;33m\u001b[0m\u001b[0m\n\u001b[0m\u001b[0;32m      6\u001b[0m         \u001b[1;32mreturn\u001b[0m \u001b[0my\u001b[0m\u001b[1;33m\u001b[0m\u001b[1;33m\u001b[0m\u001b[0m\n\u001b[0;32m      7\u001b[0m     \u001b[1;32mreturn\u001b[0m \u001b[0mb\u001b[0m\u001b[1;33m(\u001b[0m\u001b[1;33m)\u001b[0m\u001b[1;33m\u001b[0m\u001b[1;33m\u001b[0m\u001b[0m\n",
      "\u001b[1;31mUnboundLocalError\u001b[0m: local variable 'y' referenced before assignment"
     ]
    }
   ],
   "source": [
    "y = 1\n",
    "def a():\n",
    "    y = 2\n",
    "    def b():\n",
    "        y = y+5\n",
    "        return y\n",
    "    return b()\n",
    "\n",
    "# global 빼면 UnboundLocalError가 난다\n",
    "a()"
   ]
  },
  {
   "cell_type": "code",
   "execution_count": 121,
   "id": "cb61b20f",
   "metadata": {},
   "outputs": [
    {
     "data": {
      "text/plain": [
       "7"
      ]
     },
     "execution_count": 121,
     "metadata": {},
     "output_type": "execute_result"
    }
   ],
   "source": [
    "y = 1\n",
    "def a():\n",
    "    y = 2\n",
    "    def b():\n",
    "        nonlocal y\n",
    "        y = y+5\n",
    "        return y\n",
    "    return b()\n",
    "\n",
    "# global을 안 쓰고 local에 있는 y를 쓰겠다.\n",
    "a()"
   ]
  },
  {
   "cell_type": "code",
   "execution_count": 119,
   "id": "791d93c4",
   "metadata": {},
   "outputs": [
    {
     "data": {
      "text/plain": [
       "1"
      ]
     },
     "execution_count": 119,
     "metadata": {},
     "output_type": "execute_result"
    }
   ],
   "source": [
    "y"
   ]
  },
  {
   "cell_type": "markdown",
   "id": "88410289",
   "metadata": {},
   "source": [
    "closures의 핵심은 ~??? \\\n",
    "\\\n",
    "\\__이거때문에 객체지향과 함수형 패러다임의 경계가 희미해졌다"
   ]
  },
  {
   "cell_type": "code",
   "execution_count": 123,
   "id": "547d0666",
   "metadata": {},
   "outputs": [
    {
     "data": {
      "text/plain": [
       "int"
      ]
     },
     "execution_count": 123,
     "metadata": {},
     "output_type": "execute_result"
    }
   ],
   "source": [
    "a = 1\n",
    "type(a)"
   ]
  },
  {
   "cell_type": "code",
   "execution_count": 124,
   "id": "ab43eaa6",
   "metadata": {},
   "outputs": [
    {
     "data": {
      "text/plain": [
       "type"
      ]
     },
     "execution_count": 124,
     "metadata": {},
     "output_type": "execute_result"
    }
   ],
   "source": [
    "type(int)"
   ]
  },
  {
   "cell_type": "markdown",
   "id": "d11e0227",
   "metadata": {},
   "source": [
    "map\n",
    "\n",
    "Init signature: map(self, /, *args, \\**kwargs)\\\n",
    "Docstring:     \\\n",
    "map(func, *iterables) --> map object\\\n",
    "\\\n",
    "Make an iterator that computes the function using arguments from\\\n",
    "each of the iterables.  Stops when the shortest iterable is exhausted.\\\n",
    "Type:           type\\\n",
    "Subclasses:   "
   ]
  },
  {
   "cell_type": "markdown",
   "id": "817e1a47",
   "metadata": {},
   "source": [
    "자료형에는 괄호 붙일 수 있다.\\\n",
    "괄호 붙이면 이 자료형에 맞는 자료=value가 생성된다.\\\n",
    "그 value를 instance가 생성된다.\\\n",
    "즉 괄호를 붙이면 instance가 생성된다.\\\n",
    "instance 혹은 object라고 한다."
   ]
  },
  {
   "cell_type": "code",
   "execution_count": 130,
   "id": "8eef172c",
   "metadata": {},
   "outputs": [
    {
     "data": {
      "text/plain": [
       "0"
      ]
     },
     "execution_count": 130,
     "metadata": {},
     "output_type": "execute_result"
    }
   ],
   "source": [
    "int() # instance, false\n",
    "# false"
   ]
  },
  {
   "cell_type": "code",
   "execution_count": 128,
   "id": "abed3ec9",
   "metadata": {},
   "outputs": [
    {
     "data": {
      "text/plain": [
       "0.0"
      ]
     },
     "execution_count": 128,
     "metadata": {},
     "output_type": "execute_result"
    }
   ],
   "source": [
    "float() # instance, false"
   ]
  },
  {
   "cell_type": "code",
   "execution_count": 133,
   "id": "f33f0b3e",
   "metadata": {},
   "outputs": [
    {
     "data": {
      "text/plain": [
       "[]"
      ]
     },
     "execution_count": 133,
     "metadata": {},
     "output_type": "execute_result"
    }
   ],
   "source": [
    "list() # 기본적인거 빈 문자열이기에 false"
   ]
  },
  {
   "cell_type": "code",
   "execution_count": 126,
   "id": "b3b64625",
   "metadata": {
    "scrolled": true
   },
   "outputs": [
    {
     "data": {
      "text/plain": [
       "True"
      ]
     },
     "execution_count": 126,
     "metadata": {},
     "output_type": "execute_result"
    }
   ],
   "source": [
    "callable(int)"
   ]
  },
  {
   "cell_type": "code",
   "execution_count": 160,
   "id": "e2ca59de",
   "metadata": {},
   "outputs": [],
   "source": [
    "class A:\n",
    "    def __add__(self, x):\n",
    "        print('언더항')"
   ]
  },
  {
   "cell_type": "code",
   "execution_count": 135,
   "id": "6ce6ad2a",
   "metadata": {},
   "outputs": [],
   "source": [
    "a = A()"
   ]
  },
  {
   "cell_type": "markdown",
   "id": "b6cd5b7d",
   "metadata": {},
   "source": [
    "이 순서로 실행된다.\\\n",
    "\\_\\_new__\\\n",
    "\\_\\_init__"
   ]
  },
  {
   "cell_type": "markdown",
   "id": "05b4da22",
   "metadata": {},
   "source": [
    "init 시그니처가 값만들때 equal로...?\\\n",
    "클래스에서 연산자가 실행되는것처럼 보이지만 연산자의 정의된 부분이 실행된다.\\\n",
    "클래스에 괄호 붙일 때 \\_\\_init__가 실행된다.\\\n",
    "함수에 괄호붙이는 것과 클래스에 괄호붙이는 것이 다르다."
   ]
  },
  {
   "cell_type": "markdown",
   "id": "a17e8c0d",
   "metadata": {},
   "source": [
    "class는 실제값이 아니라 자료형이다.\\\n",
    "자료형과 동시에 메타클래스의 인스턴스이다.\\\n",
    "메타클래스의 인스턴스는 클래스이다.\\\n",
    "파이썬은 모두가 객체다."
   ]
  },
  {
   "cell_type": "code",
   "execution_count": 149,
   "id": "c3f9cce8",
   "metadata": {},
   "outputs": [],
   "source": [
    "a = type('hh', (int,), {})"
   ]
  },
  {
   "cell_type": "code",
   "execution_count": 150,
   "id": "7b43f8f8",
   "metadata": {},
   "outputs": [
    {
     "data": {
      "text/plain": [
       "3"
      ]
     },
     "execution_count": 150,
     "metadata": {},
     "output_type": "execute_result"
    }
   ],
   "source": [
    "# class가 된다\n",
    "a(3)"
   ]
  },
  {
   "cell_type": "code",
   "execution_count": 151,
   "id": "ded22e7b",
   "metadata": {},
   "outputs": [
    {
     "data": {
      "text/plain": [
       "0"
      ]
     },
     "execution_count": 151,
     "metadata": {},
     "output_type": "execute_result"
    }
   ],
   "source": [
    "# 클래스하고 함수하고 비슷하다\n",
    "a()"
   ]
  },
  {
   "cell_type": "markdown",
   "id": "aca39ee6",
   "metadata": {},
   "source": [
    "클래스에서 파스칼 쓴다\\\n",
    "파이썬에서는 카멜방식이라고도 한다.\\\n",
    "대문자로 시작한다."
   ]
  },
  {
   "cell_type": "code",
   "execution_count": 161,
   "id": "c332ffe8",
   "metadata": {},
   "outputs": [],
   "source": [
    "# default값이다.\n",
    "class T(object, metaclass=type):\n",
    "    pass"
   ]
  },
  {
   "cell_type": "code",
   "execution_count": 162,
   "id": "e28142ca",
   "metadata": {},
   "outputs": [],
   "source": [
    "class T: # class 안에 정의 된 모든 애들을 attribute이다.\n",
    "    a = 1 # class variable / attribute 라고 한다.\n",
    "    def x(self): # 클래스 안에 정의된 함수를 instance method라고 한다.\n",
    "        self.x = 1 # instance 안에 있는 것을 instance 변수라고 한다. 부조건 self.~라고 적어야한다.\n",
    "        # method 호출 시 생성된다.\n",
    "        return 1"
   ]
  },
  {
   "cell_type": "markdown",
   "id": "ad6358b2",
   "metadata": {},
   "source": [
    "self를 사용 안 해도 되긴 해.\\\n",
    "안 쓴다고 에러나지는 않지만...\\\n",
    "그냥 코딩 스타일 가이드 상 self라고 적는다.\\\n",
    "c나 c++에서는 self를 this라고도 한다"
   ]
  },
  {
   "cell_type": "code",
   "execution_count": 163,
   "id": "8a07c2ea",
   "metadata": {},
   "outputs": [
    {
     "ename": "AttributeError",
     "evalue": "'int' object has no attribute 'xx'",
     "output_type": "error",
     "traceback": [
      "\u001b[1;31m---------------------------------------------------------------------------\u001b[0m",
      "\u001b[1;31mAttributeError\u001b[0m                            Traceback (most recent call last)",
      "\u001b[1;32m~\\AppData\\Local\\Temp/ipykernel_18896/4042506288.py\u001b[0m in \u001b[0;36m<module>\u001b[1;34m\u001b[0m\n\u001b[0;32m      1\u001b[0m \u001b[0ma\u001b[0m \u001b[1;33m=\u001b[0m \u001b[1;36m1\u001b[0m\u001b[1;33m\u001b[0m\u001b[1;33m\u001b[0m\u001b[0m\n\u001b[1;32m----> 2\u001b[1;33m \u001b[0ma\u001b[0m\u001b[1;33m.\u001b[0m\u001b[0mxx\u001b[0m\u001b[1;33m\u001b[0m\u001b[1;33m\u001b[0m\u001b[0m\n\u001b[0m",
      "\u001b[1;31mAttributeError\u001b[0m: 'int' object has no attribute 'xx'"
     ]
    }
   ],
   "source": [
    "# attribute 에러가 난다.\n",
    "a = 1\n",
    "a.xx"
   ]
  },
  {
   "cell_type": "code",
   "execution_count": 164,
   "id": "3faea177",
   "metadata": {
    "collapsed": true
   },
   "outputs": [
    {
     "data": {
      "text/plain": [
       "['__abs__',\n",
       " '__add__',\n",
       " '__and__',\n",
       " '__bool__',\n",
       " '__ceil__',\n",
       " '__class__',\n",
       " '__delattr__',\n",
       " '__dir__',\n",
       " '__divmod__',\n",
       " '__doc__',\n",
       " '__eq__',\n",
       " '__float__',\n",
       " '__floor__',\n",
       " '__floordiv__',\n",
       " '__format__',\n",
       " '__ge__',\n",
       " '__getattribute__',\n",
       " '__getnewargs__',\n",
       " '__gt__',\n",
       " '__hash__',\n",
       " '__index__',\n",
       " '__init__',\n",
       " '__init_subclass__',\n",
       " '__int__',\n",
       " '__invert__',\n",
       " '__le__',\n",
       " '__lshift__',\n",
       " '__lt__',\n",
       " '__mod__',\n",
       " '__mul__',\n",
       " '__ne__',\n",
       " '__neg__',\n",
       " '__new__',\n",
       " '__or__',\n",
       " '__pos__',\n",
       " '__pow__',\n",
       " '__radd__',\n",
       " '__rand__',\n",
       " '__rdivmod__',\n",
       " '__reduce__',\n",
       " '__reduce_ex__',\n",
       " '__repr__',\n",
       " '__rfloordiv__',\n",
       " '__rlshift__',\n",
       " '__rmod__',\n",
       " '__rmul__',\n",
       " '__ror__',\n",
       " '__round__',\n",
       " '__rpow__',\n",
       " '__rrshift__',\n",
       " '__rshift__',\n",
       " '__rsub__',\n",
       " '__rtruediv__',\n",
       " '__rxor__',\n",
       " '__setattr__',\n",
       " '__sizeof__',\n",
       " '__str__',\n",
       " '__sub__',\n",
       " '__subclasshook__',\n",
       " '__truediv__',\n",
       " '__trunc__',\n",
       " '__xor__',\n",
       " 'as_integer_ratio',\n",
       " 'bit_length',\n",
       " 'conjugate',\n",
       " 'denominator',\n",
       " 'from_bytes',\n",
       " 'imag',\n",
       " 'numerator',\n",
       " 'real',\n",
       " 'to_bytes']"
      ]
     },
     "execution_count": 164,
     "metadata": {},
     "output_type": "execute_result"
    }
   ],
   "source": [
    "# a의 모든 attribute를 나열하라는 것이다.\n",
    "# attribute는 . 점으로 접근이 가능한 것이다.\n",
    "dir(a)"
   ]
  },
  {
   "cell_type": "code",
   "execution_count": null,
   "id": "6ea8a02a",
   "metadata": {},
   "outputs": [],
   "source": [
    "class T: # attribute\n",
    "    a = 1 # class variable / attribute\n",
    "    def x(self): # instance method\n",
    "        self.x = 1 # instance variable = method 호출 시 생성\n",
    "        return 1"
   ]
  },
  {
   "cell_type": "code",
   "execution_count": null,
   "id": "d29c9321",
   "metadata": {},
   "outputs": [],
   "source": [
    "# accessor 는 점으로 접근하는 걸 말한다\n",
    "\n",
    "# T.a        # getter\n",
    "# T.b = 2    # setter\n",
    "# del T.a    # deleter"
   ]
  },
  {
   "cell_type": "code",
   "execution_count": 165,
   "id": "1a73aad6",
   "metadata": {},
   "outputs": [],
   "source": [
    "def x(a):\n",
    "    print(1)"
   ]
  },
  {
   "cell_type": "code",
   "execution_count": 167,
   "id": "ca41d0b3",
   "metadata": {},
   "outputs": [
    {
     "data": {
      "text/plain": [
       "1"
      ]
     },
     "execution_count": 167,
     "metadata": {},
     "output_type": "execute_result"
    }
   ],
   "source": [
    "T.a     # getter 라고 한다. 값을 둔다고 해서."
   ]
  },
  {
   "cell_type": "code",
   "execution_count": 168,
   "id": "63fbdd30",
   "metadata": {},
   "outputs": [],
   "source": [
    "# b가 정의되어 있지도 않아 근데 돼\n",
    "T.b = 2    # 이건 값을 준다고 해서 setter라고 한다."
   ]
  },
  {
   "cell_type": "code",
   "execution_count": 169,
   "id": "483f904e",
   "metadata": {},
   "outputs": [],
   "source": [
    "del T.a   # 이건 deleter"
   ]
  },
  {
   "cell_type": "code",
   "execution_count": 170,
   "id": "8559f19e",
   "metadata": {},
   "outputs": [
    {
     "ename": "AttributeError",
     "evalue": "type object 'T' has no attribute 'a'",
     "output_type": "error",
     "traceback": [
      "\u001b[1;31m---------------------------------------------------------------------------\u001b[0m",
      "\u001b[1;31mAttributeError\u001b[0m                            Traceback (most recent call last)",
      "\u001b[1;32m~\\AppData\\Local\\Temp/ipykernel_18896/2935266073.py\u001b[0m in \u001b[0;36m<module>\u001b[1;34m\u001b[0m\n\u001b[1;32m----> 1\u001b[1;33m \u001b[0mT\u001b[0m\u001b[1;33m.\u001b[0m\u001b[0ma\u001b[0m\u001b[1;33m\u001b[0m\u001b[1;33m\u001b[0m\u001b[0m\n\u001b[0m",
      "\u001b[1;31mAttributeError\u001b[0m: type object 'T' has no attribute 'a'"
     ]
    }
   ],
   "source": [
    "# 클래스는 삭제도 가능하다.\n",
    "T.a"
   ]
  },
  {
   "cell_type": "markdown",
   "id": "7e77c36e",
   "metadata": {},
   "source": [
    "class의 encapsulation (캡슐화가 느슨하다)\\\n",
    "class는 접근 권한 자체가 없다.\\\n",
    "접근 권한을 descripter이라는 개념으로 만들었어.\\\n",
    "class는 아무데나 다 갖다쓸 수 있어 = conserting adult\\"
   ]
  },
  {
   "cell_type": "markdown",
   "id": "c0afff66",
   "metadata": {},
   "source": [
    "# Decorator\n",
    "3가지 방식이 있다.\\\n",
    "동적으로 새로운 기능을 추가한다.\n",
    "- property\n",
    "- decorator"
   ]
  },
  {
   "cell_type": "code",
   "execution_count": 171,
   "id": "69fd3e9c",
   "metadata": {},
   "outputs": [],
   "source": [
    "class S:\n",
    "    @property\n",
    "    def x(self):\n",
    "        return 1"
   ]
  },
  {
   "cell_type": "code",
   "execution_count": 172,
   "id": "191eeba9",
   "metadata": {},
   "outputs": [],
   "source": [
    "s = S()"
   ]
  },
  {
   "cell_type": "code",
   "execution_count": 173,
   "id": "f5c6639e",
   "metadata": {},
   "outputs": [
    {
     "ename": "TypeError",
     "evalue": "'int' object is not callable",
     "output_type": "error",
     "traceback": [
      "\u001b[1;31m---------------------------------------------------------------------------\u001b[0m",
      "\u001b[1;31mTypeError\u001b[0m                                 Traceback (most recent call last)",
      "\u001b[1;32m~\\AppData\\Local\\Temp/ipykernel_18896/2266684041.py\u001b[0m in \u001b[0;36m<module>\u001b[1;34m\u001b[0m\n\u001b[1;32m----> 1\u001b[1;33m \u001b[0ms\u001b[0m\u001b[1;33m.\u001b[0m\u001b[0mx\u001b[0m\u001b[1;33m(\u001b[0m\u001b[1;33m)\u001b[0m\u001b[1;33m\u001b[0m\u001b[1;33m\u001b[0m\u001b[0m\n\u001b[0m",
      "\u001b[1;31mTypeError\u001b[0m: 'int' object is not callable"
     ]
    }
   ],
   "source": [
    "# 괄호를 쓰면 에러가 난다.\n",
    "s.x()"
   ]
  },
  {
   "cell_type": "code",
   "execution_count": 176,
   "id": "5788657f",
   "metadata": {},
   "outputs": [
    {
     "data": {
      "text/plain": [
       "<__main__.S at 0x22c4520ea60>"
      ]
     },
     "execution_count": 176,
     "metadata": {},
     "output_type": "execute_result"
    }
   ],
   "source": [
    "# property를 사용해서 만들면 괄호를 안 쓰고 만들 수 있다.\n",
    "# 괄호를 쓰지 않아야 한다.\n",
    "s"
   ]
  },
  {
   "cell_type": "code",
   "execution_count": 177,
   "id": "56208399",
   "metadata": {},
   "outputs": [
    {
     "data": {
      "text/plain": [
       "['__class__',\n",
       " '__delattr__',\n",
       " '__dict__',\n",
       " '__dir__',\n",
       " '__doc__',\n",
       " '__eq__',\n",
       " '__format__',\n",
       " '__ge__',\n",
       " '__getattribute__',\n",
       " '__gt__',\n",
       " '__hash__',\n",
       " '__init__',\n",
       " '__init_subclass__',\n",
       " '__le__',\n",
       " '__lt__',\n",
       " '__module__',\n",
       " '__ne__',\n",
       " '__new__',\n",
       " '__reduce__',\n",
       " '__reduce_ex__',\n",
       " '__repr__',\n",
       " '__setattr__',\n",
       " '__sizeof__',\n",
       " '__str__',\n",
       " '__subclasshook__',\n",
       " '__weakref__',\n",
       " 'x']"
      ]
     },
     "execution_count": 177,
     "metadata": {},
     "output_type": "execute_result"
    }
   ],
   "source": [
    "dir(S)"
   ]
  },
  {
   "cell_type": "code",
   "execution_count": 181,
   "id": "5e66a677",
   "metadata": {},
   "outputs": [],
   "source": [
    "class S:\n",
    "    def x(self):\n",
    "        return 1"
   ]
  },
  {
   "cell_type": "code",
   "execution_count": 182,
   "id": "e43befde",
   "metadata": {},
   "outputs": [],
   "source": [
    "yy = S()"
   ]
  },
  {
   "cell_type": "code",
   "execution_count": 184,
   "id": "18585895",
   "metadata": {},
   "outputs": [
    {
     "data": {
      "text/plain": [
       "<bound method S.x of <__main__.S object at 0x0000022C451EF7F0>>"
      ]
     },
     "execution_count": 184,
     "metadata": {},
     "output_type": "execute_result"
    }
   ],
   "source": [
    "yy.x"
   ]
  },
  {
   "cell_type": "code",
   "execution_count": 183,
   "id": "00fcc44b",
   "metadata": {},
   "outputs": [
    {
     "data": {
      "text/plain": [
       "1"
      ]
     },
     "execution_count": 183,
     "metadata": {},
     "output_type": "execute_result"
    }
   ],
   "source": [
    "yy.x()"
   ]
  },
  {
   "cell_type": "code",
   "execution_count": 185,
   "id": "2fec98eb",
   "metadata": {},
   "outputs": [
    {
     "ename": "TypeError",
     "evalue": "x() missing 1 required positional argument: 'self'",
     "output_type": "error",
     "traceback": [
      "\u001b[1;31m---------------------------------------------------------------------------\u001b[0m",
      "\u001b[1;31mTypeError\u001b[0m                                 Traceback (most recent call last)",
      "\u001b[1;32m~\\AppData\\Local\\Temp/ipykernel_18896/1760642295.py\u001b[0m in \u001b[0;36m<module>\u001b[1;34m\u001b[0m\n\u001b[1;32m----> 1\u001b[1;33m \u001b[0mS\u001b[0m\u001b[1;33m.\u001b[0m\u001b[0mx\u001b[0m\u001b[1;33m(\u001b[0m\u001b[1;33m)\u001b[0m\u001b[1;33m\u001b[0m\u001b[1;33m\u001b[0m\u001b[0m\n\u001b[0m",
      "\u001b[1;31mTypeError\u001b[0m: x() missing 1 required positional argument: 'self'"
     ]
    }
   ],
   "source": [
    "# typeError가 난다.\n",
    "S.x()"
   ]
  },
  {
   "cell_type": "code",
   "execution_count": 189,
   "id": "31d06a1b",
   "metadata": {},
   "outputs": [
    {
     "ename": "TypeError",
     "evalue": "x() takes 1 positional argument but 2 were given",
     "output_type": "error",
     "traceback": [
      "\u001b[1;31m---------------------------------------------------------------------------\u001b[0m",
      "\u001b[1;31mTypeError\u001b[0m                                 Traceback (most recent call last)",
      "\u001b[1;32m~\\AppData\\Local\\Temp/ipykernel_18896/3636545584.py\u001b[0m in \u001b[0;36m<module>\u001b[1;34m\u001b[0m\n\u001b[1;32m----> 1\u001b[1;33m \u001b[0myy\u001b[0m\u001b[1;33m.\u001b[0m\u001b[0mx\u001b[0m\u001b[1;33m(\u001b[0m\u001b[0myy\u001b[0m\u001b[1;33m)\u001b[0m\u001b[1;33m\u001b[0m\u001b[1;33m\u001b[0m\u001b[0m\n\u001b[0m",
      "\u001b[1;31mTypeError\u001b[0m: x() takes 1 positional argument but 2 were given"
     ]
    }
   ],
   "source": [
    "yy.x(yy)"
   ]
  },
  {
   "cell_type": "code",
   "execution_count": 188,
   "id": "2054182d",
   "metadata": {},
   "outputs": [
    {
     "data": {
      "text/plain": [
       "1"
      ]
     },
     "execution_count": 188,
     "metadata": {},
     "output_type": "execute_result"
    }
   ],
   "source": [
    "yy.x()  # yy.x(yy)"
   ]
  },
  {
   "cell_type": "code",
   "execution_count": 187,
   "id": "b8ad11ce",
   "metadata": {},
   "outputs": [
    {
     "data": {
      "text/plain": [
       "1"
      ]
     },
     "execution_count": 187,
     "metadata": {},
     "output_type": "execute_result"
    }
   ],
   "source": [
    "S.x(yy)"
   ]
  },
  {
   "cell_type": "code",
   "execution_count": 186,
   "id": "e28049d9",
   "metadata": {},
   "outputs": [
    {
     "data": {
      "text/plain": [
       "<function __main__.S.x(self)>"
      ]
     },
     "execution_count": 186,
     "metadata": {},
     "output_type": "execute_result"
    }
   ],
   "source": [
    "# function이다\n",
    "# function과 method의 차이점은 사용하는 주체의 차이\n",
    "# instance가 사용하면 method고\n",
    "# function이다.\n",
    "S.x"
   ]
  },
  {
   "cell_type": "code",
   "execution_count": null,
   "id": "603e8394",
   "metadata": {},
   "outputs": [],
   "source": [
    "class A:\n",
    "    @classmethod"
   ]
  },
  {
   "cell_type": "markdown",
   "id": "b5a4065a",
   "metadata": {},
   "source": [
    "function과 method의 차이점은 주체이다.\\\n",
    "주체가 같으면 function과 method가 똑같음 파이썬에서는"
   ]
  },
  {
   "cell_type": "code",
   "execution_count": 190,
   "id": "6d1febbd",
   "metadata": {},
   "outputs": [
    {
     "data": {
      "text/plain": [
       "mappingproxy({'__module__': '__main__',\n",
       "              'x': <function __main__.S.x(self)>,\n",
       "              '__dict__': <attribute '__dict__' of 'S' objects>,\n",
       "              '__weakref__': <attribute '__weakref__' of 'S' objects>,\n",
       "              '__doc__': None})"
      ]
     },
     "execution_count": 190,
     "metadata": {},
     "output_type": "execute_result"
    }
   ],
   "source": [
    "vars(S)"
   ]
  },
  {
   "cell_type": "markdown",
   "id": "e0bbe3d1",
   "metadata": {},
   "source": [
    "첫번째 self는 argument로 사용하지 않는다\\\n",
    "중복되기 때문에\\\n",
    "method는 -1이 되기 때문에...\\\n",
    "-1이 아닌 static method도 있다? ㅋㅋㅋㅋㅋㅋㅋㅋ\\\n",
    "static method는 tensor에서는 사용 안 하는데 pytorch에서는 사용한다?\\\n",
    "그럼 static method를 사용을 해야할까말까? ....."
   ]
  },
  {
   "cell_type": "markdown",
   "id": "4d01e205",
   "metadata": {},
   "source": [
    "# descriptor"
   ]
  }
 ],
 "metadata": {
  "kernelspec": {
   "display_name": "Python 3 (ipykernel)",
   "language": "python",
   "name": "python3"
  },
  "language_info": {
   "codemirror_mode": {
    "name": "ipython",
    "version": 3
   },
   "file_extension": ".py",
   "mimetype": "text/x-python",
   "name": "python",
   "nbconvert_exporter": "python",
   "pygments_lexer": "ipython3",
   "version": "3.9.7"
  }
 },
 "nbformat": 4,
 "nbformat_minor": 5
}
