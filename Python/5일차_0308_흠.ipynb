{
 "cells": [
  {
   "cell_type": "code",
   "execution_count": 1,
   "id": "5c9a313f",
   "metadata": {},
   "outputs": [
    {
     "name": "stdout",
     "output_type": "stream",
     "text": [
      "Interactive namespace is empty.\n"
     ]
    }
   ],
   "source": [
    "%whos"
   ]
  },
  {
   "cell_type": "code",
   "execution_count": 2,
   "id": "ab6c39c9",
   "metadata": {},
   "outputs": [],
   "source": [
    "from moon_importPractice import *"
   ]
  },
  {
   "cell_type": "code",
   "execution_count": 3,
   "id": "3365fbd8",
   "metadata": {},
   "outputs": [
    {
     "name": "stdout",
     "output_type": "stream",
     "text": [
      "Variable   Type        Data/Info\n",
      "--------------------------------\n",
      "a          int         1\n",
      "x          function    <function x at 0x0000020D27189790>\n"
     ]
    }
   ],
   "source": [
    "%whos"
   ]
  },
  {
   "cell_type": "markdown",
   "id": "64bff59b",
   "metadata": {},
   "source": [
    "언더바로 시작하는 경우는 인정되지 않아서 whos하면 2개가 찍힌다 (원래 4개인 줄 알았는데!! 2개다!!)"
   ]
  },
  {
   "cell_type": "markdown",
   "id": "bb2ebbd5",
   "metadata": {},
   "source": [
    "관례상 내부에서 메소드...."
   ]
  },
  {
   "cell_type": "code",
   "execution_count": null,
   "id": "a7a572ce",
   "metadata": {},
   "outputs": [],
   "source": []
  }
 ],
 "metadata": {
  "kernelspec": {
   "display_name": "Python 3 (ipykernel)",
   "language": "python",
   "name": "python3"
  },
  "language_info": {
   "codemirror_mode": {
    "name": "ipython",
    "version": 3
   },
   "file_extension": ".py",
   "mimetype": "text/x-python",
   "name": "python",
   "nbconvert_exporter": "python",
   "pygments_lexer": "ipython3",
   "version": "3.9.7"
  }
 },
 "nbformat": 4,
 "nbformat_minor": 5
}
