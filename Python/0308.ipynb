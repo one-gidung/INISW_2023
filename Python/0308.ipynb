{
 "cells": [
  {
   "cell_type": "markdown",
   "id": "9aceb4ac",
   "metadata": {},
   "source": [
    "# instance 변수\n",
    "\n",
    "사용하기 전에 instance화 해야한다.\\\n",
    "데이터는 하나고 instance는 수많은 갯수가 될 수 있다.\\\n",
    "각각마다 자기만의 데이터를 가질 수 있다.\\\n",
    "인스턴스 변수가 뭔지 알게 해주는게 vars() 이다.\\\n",
    "인스턴스가 가질 수 있는 걸 인스턴스 변수라고 한다.\\\n",
    "파이썬의 인스턴스"
   ]
  },
  {
   "cell_type": "code",
   "execution_count": 1,
   "id": "fbc2c9fb",
   "metadata": {},
   "outputs": [],
   "source": [
    "class A:\n",
    "    x = 1 # 클래스 변수 : 클래스가 쓰는 변수\n",
    "    def a(self):\n",
    "        self.y = 2 # 인스턴스 변수\n",
    "        return 1"
   ]
  },
  {
   "cell_type": "code",
   "execution_count": 2,
   "id": "da7ea53e",
   "metadata": {},
   "outputs": [],
   "source": [
    "a = A() # instance"
   ]
  },
  {
   "cell_type": "code",
   "execution_count": 3,
   "id": "f3f791d5",
   "metadata": {},
   "outputs": [],
   "source": [
    "b = A() # instance"
   ]
  },
  {
   "cell_type": "code",
   "execution_count": 4,
   "id": "6fbf6722",
   "metadata": {},
   "outputs": [],
   "source": [
    "a.z = 3"
   ]
  },
  {
   "cell_type": "code",
   "execution_count": 5,
   "id": "4764c358",
   "metadata": {},
   "outputs": [
    {
     "ename": "AttributeError",
     "evalue": "'A' object has no attribute 'z'",
     "output_type": "error",
     "traceback": [
      "\u001b[1;31m---------------------------------------------------------------------------\u001b[0m",
      "\u001b[1;31mAttributeError\u001b[0m                            Traceback (most recent call last)",
      "\u001b[1;32m~\\AppData\\Local\\Temp/ipykernel_20940/3203917868.py\u001b[0m in \u001b[0;36m<module>\u001b[1;34m\u001b[0m\n\u001b[1;32m----> 1\u001b[1;33m \u001b[0mb\u001b[0m\u001b[1;33m.\u001b[0m\u001b[0mz\u001b[0m\u001b[1;33m\u001b[0m\u001b[1;33m\u001b[0m\u001b[0m\n\u001b[0m",
      "\u001b[1;31mAttributeError\u001b[0m: 'A' object has no attribute 'z'"
     ]
    }
   ],
   "source": [
    "# AttributeError\n",
    "# instance변수라는 것은 instance마다 가질 수 있기 떄문에 에러가 난다.\n",
    "# 선언을 안 했기에 당연히 없다.\n",
    "\n",
    "b.z"
   ]
  },
  {
   "cell_type": "code",
   "execution_count": 6,
   "id": "25f8efb1",
   "metadata": {},
   "outputs": [
    {
     "data": {
      "text/plain": [
       "{'z': 3}"
      ]
     },
     "execution_count": 6,
     "metadata": {},
     "output_type": "execute_result"
    }
   ],
   "source": [
    "# 인스턴스 변수가 뭐냐는 걸 알게 해주는게 vars() 이다.\n",
    "vars(a)"
   ]
  },
  {
   "cell_type": "code",
   "execution_count": 7,
   "id": "2142e261",
   "metadata": {},
   "outputs": [
    {
     "data": {
      "text/plain": [
       "1"
      ]
     },
     "execution_count": 7,
     "metadata": {},
     "output_type": "execute_result"
    }
   ],
   "source": [
    "# 클래스 변수\n",
    "# 위에 vars()할 때 x가 분명 없었는데 값이 나온다 이건 뭘까?\n",
    "# x는 인스턴스 변수에 없다.\n",
    "# 이거는!! 딜리게이트이다.\n",
    "# delegate (대리자: 대신해주는)\n",
    "# 인스턴스 변수에 없으면 클래스에 있는지 확인한다. 그래서 에러가 안 난다. 클래스에 있으니까!\n",
    "\n",
    "a.x"
   ]
  },
  {
   "cell_type": "code",
   "execution_count": 8,
   "id": "d652d0f0",
   "metadata": {},
   "outputs": [
    {
     "ename": "AttributeError",
     "evalue": "'A' object has no attribute 'y'",
     "output_type": "error",
     "traceback": [
      "\u001b[1;31m---------------------------------------------------------------------------\u001b[0m",
      "\u001b[1;31mAttributeError\u001b[0m                            Traceback (most recent call last)",
      "\u001b[1;32m~\\AppData\\Local\\Temp/ipykernel_20940/1286494087.py\u001b[0m in \u001b[0;36m<module>\u001b[1;34m\u001b[0m\n\u001b[1;32m----> 1\u001b[1;33m \u001b[0ma\u001b[0m\u001b[1;33m.\u001b[0m\u001b[0my\u001b[0m\u001b[1;33m\u001b[0m\u001b[1;33m\u001b[0m\u001b[0m\n\u001b[0m",
      "\u001b[1;31mAttributeError\u001b[0m: 'A' object has no attribute 'y'"
     ]
    }
   ],
   "source": [
    "# 없으니까 에러난다.\n",
    "a.y"
   ]
  },
  {
   "cell_type": "code",
   "execution_count": 9,
   "id": "d0ce2e61",
   "metadata": {},
   "outputs": [
    {
     "data": {
      "text/plain": [
       "2562056677680"
      ]
     },
     "execution_count": 9,
     "metadata": {},
     "output_type": "execute_result"
    }
   ],
   "source": [
    "id(A.x)"
   ]
  },
  {
   "cell_type": "code",
   "execution_count": 10,
   "id": "2eb46baf",
   "metadata": {},
   "outputs": [
    {
     "data": {
      "text/plain": [
       "2562056677680"
      ]
     },
     "execution_count": 10,
     "metadata": {},
     "output_type": "execute_result"
    }
   ],
   "source": [
    "id(a.x)"
   ]
  },
  {
   "cell_type": "code",
   "execution_count": 12,
   "id": "d40c1c62",
   "metadata": {},
   "outputs": [
    {
     "data": {
      "text/plain": [
       "<__main__.A at 0x2548b3db0a0>"
      ]
     },
     "execution_count": 12,
     "metadata": {},
     "output_type": "execute_result"
    }
   ],
   "source": [
    "a.x = 'a' # 인스턴스 변수 x를 생서해버린 것이다.\n",
    "a"
   ]
  },
  {
   "cell_type": "code",
   "execution_count": 13,
   "id": "c5292ccb",
   "metadata": {},
   "outputs": [
    {
     "data": {
      "text/plain": [
       "1"
      ]
     },
     "execution_count": 13,
     "metadata": {},
     "output_type": "execute_result"
    }
   ],
   "source": [
    "b.x"
   ]
  },
  {
   "cell_type": "code",
   "execution_count": 14,
   "id": "e432e8c1",
   "metadata": {},
   "outputs": [
    {
     "data": {
      "text/plain": [
       "{'z': 3, 'x': 'a'}"
      ]
     },
     "execution_count": 14,
     "metadata": {},
     "output_type": "execute_result"
    }
   ],
   "source": [
    "vars(a)"
   ]
  },
  {
   "cell_type": "code",
   "execution_count": 17,
   "id": "8d4c940f",
   "metadata": {},
   "outputs": [],
   "source": [
    "aa = A()"
   ]
  },
  {
   "cell_type": "code",
   "execution_count": 18,
   "id": "72706a7e",
   "metadata": {},
   "outputs": [
    {
     "data": {
      "text/plain": [
       "{}"
      ]
     },
     "execution_count": 18,
     "metadata": {},
     "output_type": "execute_result"
    }
   ],
   "source": [
    "vars(aa)"
   ]
  },
  {
   "cell_type": "code",
   "execution_count": 19,
   "id": "559ec0a4",
   "metadata": {},
   "outputs": [
    {
     "data": {
      "text/plain": [
       "1"
      ]
     },
     "execution_count": 19,
     "metadata": {},
     "output_type": "execute_result"
    }
   ],
   "source": [
    "aa.a()"
   ]
  },
  {
   "cell_type": "code",
   "execution_count": 21,
   "id": "28c03426",
   "metadata": {},
   "outputs": [
    {
     "data": {
      "text/plain": [
       "{'y': 2}"
      ]
     },
     "execution_count": 21,
     "metadata": {},
     "output_type": "execute_result"
    }
   ],
   "source": [
    "vars(aa)"
   ]
  },
  {
   "cell_type": "markdown",
   "id": "e8316dea",
   "metadata": {},
   "source": [
    "initialize"
   ]
  },
  {
   "cell_type": "code",
   "execution_count": 27,
   "id": "8d79fd7c",
   "metadata": {},
   "outputs": [],
   "source": [
    "class A:\n",
    "    def __init__(self):\n",
    "        self.x = 1"
   ]
  },
  {
   "cell_type": "code",
   "execution_count": 28,
   "id": "c9bb7efc",
   "metadata": {},
   "outputs": [],
   "source": [
    "t = A()"
   ]
  },
  {
   "cell_type": "code",
   "execution_count": 31,
   "id": "0c7cbb29",
   "metadata": {},
   "outputs": [
    {
     "data": {
      "text/plain": [
       "{'x': 1}"
      ]
     },
     "execution_count": 31,
     "metadata": {},
     "output_type": "execute_result"
    }
   ],
   "source": [
    "vars(t)"
   ]
  },
  {
   "cell_type": "code",
   "execution_count": 32,
   "id": "c91f2160",
   "metadata": {},
   "outputs": [],
   "source": [
    "class B:\n",
    "    def __init__(self, x):\n",
    "        self.x = x"
   ]
  },
  {
   "cell_type": "code",
   "execution_count": 33,
   "id": "57301de2",
   "metadata": {},
   "outputs": [
    {
     "data": {
      "text/plain": [
       "3"
      ]
     },
     "execution_count": 33,
     "metadata": {},
     "output_type": "execute_result"
    }
   ],
   "source": [
    "x = B(3)\n",
    "x.x"
   ]
  },
  {
   "cell_type": "code",
   "execution_count": 34,
   "id": "a96f4447",
   "metadata": {},
   "outputs": [
    {
     "data": {
      "text/plain": [
       "4"
      ]
     },
     "execution_count": 34,
     "metadata": {},
     "output_type": "execute_result"
    }
   ],
   "source": [
    "y = B(4)\n",
    "y.x"
   ]
  },
  {
   "cell_type": "code",
   "execution_count": 35,
   "id": "ff588395",
   "metadata": {},
   "outputs": [],
   "source": [
    "class float:\n",
    "    def __init__(self, x=0, /):\n",
    "        pass"
   ]
  },
  {
   "cell_type": "code",
   "execution_count": 36,
   "id": "79825100",
   "metadata": {},
   "outputs": [],
   "source": [
    "class B:\n",
    "    def __init__(self, x):\n",
    "        self.x = x\n",
    "        return 3"
   ]
  },
  {
   "cell_type": "code",
   "execution_count": 37,
   "id": "aafe8767",
   "metadata": {},
   "outputs": [
    {
     "ename": "TypeError",
     "evalue": "__init__() should return None, not 'int'",
     "output_type": "error",
     "traceback": [
      "\u001b[1;31m---------------------------------------------------------------------------\u001b[0m",
      "\u001b[1;31mTypeError\u001b[0m                                 Traceback (most recent call last)",
      "\u001b[1;32m~\\AppData\\Local\\Temp/ipykernel_20940/3250951753.py\u001b[0m in \u001b[0;36m<module>\u001b[1;34m\u001b[0m\n\u001b[1;32m----> 1\u001b[1;33m \u001b[0mx\u001b[0m \u001b[1;33m=\u001b[0m \u001b[0mB\u001b[0m\u001b[1;33m(\u001b[0m\u001b[1;36m3\u001b[0m\u001b[1;33m)\u001b[0m\u001b[1;33m\u001b[0m\u001b[1;33m\u001b[0m\u001b[0m\n\u001b[0m",
      "\u001b[1;31mTypeError\u001b[0m: __init__() should return None, not 'int'"
     ]
    }
   ],
   "source": [
    "x = B(3)"
   ]
  },
  {
   "cell_type": "markdown",
   "id": "e6d32a02",
   "metadata": {},
   "source": [
    "# 갑자기 복습 한 번 하자"
   ]
  },
  {
   "cell_type": "code",
   "execution_count": 38,
   "id": "8e72dfed",
   "metadata": {},
   "outputs": [],
   "source": [
    "class X:\n",
    "    pass\n",
    "# 얘는 상속이 없다. 그러면\n",
    "# object라고 한다."
   ]
  },
  {
   "cell_type": "code",
   "execution_count": 39,
   "id": "fd3244a3",
   "metadata": {},
   "outputs": [],
   "source": [
    "x = X()"
   ]
  },
  {
   "cell_type": "code",
   "execution_count": null,
   "id": "0f51b631",
   "metadata": {},
   "outputs": [],
   "source": [
    "class X(base): # 이렇게 base를 상속이라고 한다."
   ]
  },
  {
   "cell_type": "code",
   "execution_count": null,
   "id": "bd4b3b69",
   "metadata": {},
   "outputs": [],
   "source": [
    "__는 괄호 붙여 실행된다."
   ]
  },
  {
   "cell_type": "code",
   "execution_count": 41,
   "id": "78922713",
   "metadata": {},
   "outputs": [],
   "source": [
    "class X(object):\n",
    "    def __init__(self, a):\n",
    "        self.a = a"
   ]
  },
  {
   "cell_type": "code",
   "execution_count": 46,
   "id": "10c2a59b",
   "metadata": {},
   "outputs": [
    {
     "ename": "TypeError",
     "evalue": "__init__() missing 1 required positional argument: 'a'",
     "output_type": "error",
     "traceback": [
      "\u001b[1;31m---------------------------------------------------------------------------\u001b[0m",
      "\u001b[1;31mTypeError\u001b[0m                                 Traceback (most recent call last)",
      "\u001b[1;32m~\\AppData\\Local\\Temp/ipykernel_20940/245346480.py\u001b[0m in \u001b[0;36m<module>\u001b[1;34m\u001b[0m\n\u001b[0;32m      1\u001b[0m \u001b[1;31m# argument a를 안 줘서 에러난다\u001b[0m\u001b[1;33m\u001b[0m\u001b[1;33m\u001b[0m\u001b[0m\n\u001b[1;32m----> 2\u001b[1;33m \u001b[0mt\u001b[0m \u001b[1;33m=\u001b[0m \u001b[0mX\u001b[0m\u001b[1;33m(\u001b[0m\u001b[1;33m)\u001b[0m\u001b[1;33m\u001b[0m\u001b[1;33m\u001b[0m\u001b[0m\n\u001b[0m",
      "\u001b[1;31mTypeError\u001b[0m: __init__() missing 1 required positional argument: 'a'"
     ]
    }
   ],
   "source": [
    "# argument a를 안 줘서 에러난다\n",
    "t = X()"
   ]
  },
  {
   "cell_type": "code",
   "execution_count": 47,
   "id": "ed8562da",
   "metadata": {},
   "outputs": [],
   "source": [
    "# t.a = 3이게 된다 그러면 self는 t가 되는 것이다.\n",
    "t = X(3)"
   ]
  },
  {
   "cell_type": "code",
   "execution_count": 48,
   "id": "d3128b4f",
   "metadata": {},
   "outputs": [
    {
     "data": {
      "text/plain": [
       "3"
      ]
     },
     "execution_count": 48,
     "metadata": {},
     "output_type": "execute_result"
    }
   ],
   "source": [
    "t.a"
   ]
  },
  {
   "cell_type": "code",
   "execution_count": 49,
   "id": "0e147bc1",
   "metadata": {},
   "outputs": [
    {
     "data": {
      "text/plain": [
       "{'a': 3}"
      ]
     },
     "execution_count": 49,
     "metadata": {},
     "output_type": "execute_result"
    }
   ],
   "source": [
    "vars(t)"
   ]
  },
  {
   "cell_type": "code",
   "execution_count": 51,
   "id": "d7de6a16",
   "metadata": {},
   "outputs": [
    {
     "data": {
      "text/plain": [
       "[2, 3, 4]"
      ]
     },
     "execution_count": 51,
     "metadata": {},
     "output_type": "execute_result"
    }
   ],
   "source": [
    "list({2,3,4,})"
   ]
  },
  {
   "cell_type": "code",
   "execution_count": 52,
   "id": "0c04e915",
   "metadata": {},
   "outputs": [],
   "source": [
    "class X(object):\n",
    "    def __new__(self):\n",
    "        print('new')\n",
    "    def __init__(self, a): # 생성자라고도 한다?\n",
    "        print('init')"
   ]
  },
  {
   "cell_type": "code",
   "execution_count": 53,
   "id": "6512f07a",
   "metadata": {},
   "outputs": [
    {
     "name": "stdout",
     "output_type": "stream",
     "text": [
      "new\n"
     ]
    }
   ],
   "source": [
    "# 괄호를 쓰면 init이 실행된다 했는데 얘는 new가 실행됐다\n",
    "# 이건 뭔 경우인가\n",
    "b = X()"
   ]
  },
  {
   "cell_type": "code",
   "execution_count": 56,
   "id": "d18971a2",
   "metadata": {},
   "outputs": [],
   "source": [
    "class X(object):\n",
    "    def __new__(cls): # 여기서 b를 만들고\n",
    "        print('new')\n",
    "        return super().__new__(cls)\n",
    "    \n",
    "    def __init__(self): # 얘는 return을 하면 안 된다? # 애는 return된 b를 초기화 시킨다\n",
    "        print('init')"
   ]
  },
  {
   "cell_type": "markdown",
   "id": "8e62922e",
   "metadata": {},
   "source": [
    "new는 b를 만드는 용도여서 손대면 매우 위험함\\\n",
    "그래서 우리는 init을 주로 손댄다 new로 만들어진 것을 요로코롬 초기화 하려고."
   ]
  },
  {
   "cell_type": "code",
   "execution_count": 57,
   "id": "ac4b683a",
   "metadata": {},
   "outputs": [
    {
     "name": "stdout",
     "output_type": "stream",
     "text": [
      "new\n",
      "init\n"
     ]
    }
   ],
   "source": [
    "b = X()"
   ]
  },
  {
   "cell_type": "markdown",
   "id": "fc930e06",
   "metadata": {},
   "source": [
    "new에서 어케저케 해서 init으로 머 만들어가지고 이게 call에 합성함수로 슝 들어가서 만들어진다?\\\n",
    "\\_\\_init__이 \\_\\_new__실행한다"
   ]
  },
  {
   "cell_type": "markdown",
   "id": "5cfa96af",
   "metadata": {},
   "source": [
    "# 함수형으로 다시 돌아가자\n",
    "함수형 프로그래밍 기본 방식은 합성함수가 기본이다.\\\n",
    "recursion도 사실 합성함수지.\\\n",
    "파이썬에서는 정의해서 오리처럼 돌아가도록 하면 오리라고 생각한다\\\n",
    "그거를 =duck typing이라고 함"
   ]
  },
  {
   "cell_type": "markdown",
   "id": "f2d2ed8a",
   "metadata": {},
   "source": [
    "프로퍼티라는 디스크립터를 사용했더니 콜러블 아닌애를 콜러블하도록 해준다?"
   ]
  },
  {
   "cell_type": "code",
   "execution_count": 58,
   "id": "b8da313e",
   "metadata": {},
   "outputs": [],
   "source": [
    "class B:\n",
    "    def x(self):\n",
    "        return 1"
   ]
  },
  {
   "cell_type": "code",
   "execution_count": 59,
   "id": "ff52fbf8",
   "metadata": {},
   "outputs": [],
   "source": [
    "b = B()"
   ]
  },
  {
   "cell_type": "code",
   "execution_count": 65,
   "id": "dffaaefe",
   "metadata": {},
   "outputs": [
    {
     "data": {
      "text/plain": [
       "<function __main__.B.x(self)>"
      ]
     },
     "execution_count": 65,
     "metadata": {},
     "output_type": "execute_result"
    }
   ],
   "source": [
    "B.x # function"
   ]
  },
  {
   "cell_type": "code",
   "execution_count": 66,
   "id": "f9c868ef",
   "metadata": {},
   "outputs": [
    {
     "data": {
      "text/plain": [
       "1"
      ]
     },
     "execution_count": 66,
     "metadata": {},
     "output_type": "execute_result"
    }
   ],
   "source": [
    "B.x(b)"
   ]
  },
  {
   "cell_type": "code",
   "execution_count": 60,
   "id": "614daafc",
   "metadata": {},
   "outputs": [
    {
     "data": {
      "text/plain": [
       "1"
      ]
     },
     "execution_count": 60,
     "metadata": {},
     "output_type": "execute_result"
    }
   ],
   "source": [
    "b.x() # method를 사용할 때는 self없애라고 했지"
   ]
  },
  {
   "cell_type": "markdown",
   "id": "25722d79",
   "metadata": {},
   "source": [
    "* 일반 함수는 관리하기가 어렵다\n",
    "* 너무 많으면 category하기 어려워서 관리가 어려움\n",
    "* 그때 static method를 쓴다 ==> categorizing\n",
    "* static method는 self를 안 쓴다."
   ]
  },
  {
   "cell_type": "code",
   "execution_count": 68,
   "id": "f69c15ef",
   "metadata": {},
   "outputs": [],
   "source": [
    "class Math:\n",
    "    def x(self):\n",
    "        return 1\n",
    "    \n",
    "    @staticmethod\n",
    "    def cos():\n",
    "        print('a')"
   ]
  },
  {
   "cell_type": "code",
   "execution_count": 69,
   "id": "521afcb8",
   "metadata": {},
   "outputs": [
    {
     "name": "stdout",
     "output_type": "stream",
     "text": [
      "a\n"
     ]
    }
   ],
   "source": [
    "Math.cos()"
   ]
  },
  {
   "cell_type": "code",
   "execution_count": 70,
   "id": "3fcc82c3",
   "metadata": {},
   "outputs": [],
   "source": [
    "b = Math() # instance를 만든 것이다."
   ]
  },
  {
   "cell_type": "code",
   "execution_count": 71,
   "id": "f0fb6348",
   "metadata": {},
   "outputs": [
    {
     "name": "stdout",
     "output_type": "stream",
     "text": [
      "a\n"
     ]
    }
   ],
   "source": [
    "# instance에 없으면 클래스를 찾는다\n",
    "# 그래서 이것도 사용가능하다.\n",
    "\n",
    "b.cos()"
   ]
  },
  {
   "cell_type": "markdown",
   "id": "42288c69",
   "metadata": {},
   "source": [
    "# class method\n",
    "* 클래스가 쓰는 method\n",
    "* class의 줄임말이 cls\n",
    "* python은 metaclass 개념이 있기 때문에 class가 값을 가질 수 있다.\n",
    "* 즉 클래스는 자료형이다.\\\n",
    "\\\n",
    "* instance는 instance method 쓸 때 생략하지만\n",
    "* class method쓰면 첫번째 인자 생략해야한다.??"
   ]
  },
  {
   "cell_type": "code",
   "execution_count": 72,
   "id": "6683430c",
   "metadata": {},
   "outputs": [],
   "source": [
    "class T:\n",
    "    @classmethod\n",
    "    def xx(cls):\n",
    "        cls.ss = 1\n",
    "        print('a')"
   ]
  },
  {
   "cell_type": "code",
   "execution_count": 87,
   "id": "51fcfaa5",
   "metadata": {},
   "outputs": [],
   "source": [
    "T.xx()"
   ]
  },
  {
   "cell_type": "code",
   "execution_count": 88,
   "id": "1bd7de8f",
   "metadata": {},
   "outputs": [],
   "source": [
    "a = T()"
   ]
  },
  {
   "cell_type": "code",
   "execution_count": 89,
   "id": "79abaf05",
   "metadata": {},
   "outputs": [
    {
     "data": {
      "text/plain": [
       "{}"
      ]
     },
     "execution_count": 89,
     "metadata": {},
     "output_type": "execute_result"
    }
   ],
   "source": [
    "# 아무것도없다\n",
    "vars(a)"
   ]
  },
  {
   "cell_type": "code",
   "execution_count": 92,
   "id": "663c0d07",
   "metadata": {},
   "outputs": [],
   "source": [
    "a.xx()"
   ]
  },
  {
   "cell_type": "code",
   "execution_count": 93,
   "id": "ce25227d",
   "metadata": {},
   "outputs": [
    {
     "data": {
      "text/plain": [
       "{}"
      ]
     },
     "execution_count": 93,
     "metadata": {},
     "output_type": "execute_result"
    }
   ],
   "source": [
    "# 아무것도없다\n",
    "vars(a)"
   ]
  },
  {
   "cell_type": "code",
   "execution_count": 94,
   "id": "a336dee2",
   "metadata": {},
   "outputs": [
    {
     "data": {
      "text/plain": [
       "1"
      ]
     },
     "execution_count": 94,
     "metadata": {},
     "output_type": "execute_result"
    }
   ],
   "source": [
    "# class method 안에 정의된 애는 class 변수다...............\n",
    "T.ss"
   ]
  },
  {
   "cell_type": "code",
   "execution_count": 95,
   "id": "ae1f4c72",
   "metadata": {},
   "outputs": [],
   "source": [
    "import pandas as pd"
   ]
  },
  {
   "cell_type": "code",
   "execution_count": 96,
   "id": "e25235fe",
   "metadata": {},
   "outputs": [
    {
     "data": {
      "text/plain": [
       "type"
      ]
     },
     "execution_count": 96,
     "metadata": {},
     "output_type": "execute_result"
    }
   ],
   "source": [
    "type(pd.DataFrame)"
   ]
  },
  {
   "cell_type": "code",
   "execution_count": 97,
   "id": "6c6e8de2",
   "metadata": {},
   "outputs": [
    {
     "data": {
      "text/plain": [
       "<bound method DataFrame.from_dict of <class 'pandas.core.frame.DataFrame'>>"
      ]
     },
     "execution_count": 97,
     "metadata": {},
     "output_type": "execute_result"
    }
   ],
   "source": [
    "pd.DataFrame.from_dict"
   ]
  },
  {
   "cell_type": "code",
   "execution_count": 98,
   "id": "920b44fe",
   "metadata": {},
   "outputs": [],
   "source": [
    "from itertools import combinations"
   ]
  },
  {
   "cell_type": "code",
   "execution_count": 100,
   "id": "fb8e4a48",
   "metadata": {
    "collapsed": true
   },
   "outputs": [
    {
     "name": "stdout",
     "output_type": "stream",
     "text": [
      "Help on class combinations in module itertools:\n",
      "\n",
      "class combinations(builtins.object)\n",
      " |  combinations(iterable, r)\n",
      " |  \n",
      " |  Return successive r-length combinations of elements in the iterable.\n",
      " |  \n",
      " |  combinations(range(4), 3) --> (0,1,2), (0,1,3), (0,2,3), (1,2,3)\n",
      " |  \n",
      " |  Methods defined here:\n",
      " |  \n",
      " |  __getattribute__(self, name, /)\n",
      " |      Return getattr(self, name).\n",
      " |  \n",
      " |  __iter__(self, /)\n",
      " |      Implement iter(self).\n",
      " |  \n",
      " |  __next__(self, /)\n",
      " |      Implement next(self).\n",
      " |  \n",
      " |  __reduce__(...)\n",
      " |      Return state information for pickling.\n",
      " |  \n",
      " |  __setstate__(...)\n",
      " |      Set state information for unpickling.\n",
      " |  \n",
      " |  __sizeof__(...)\n",
      " |      Returns size in memory, in bytes.\n",
      " |  \n",
      " |  ----------------------------------------------------------------------\n",
      " |  Static methods defined here:\n",
      " |  \n",
      " |  __new__(*args, **kwargs) from builtins.type\n",
      " |      Create and return a new object.  See help(type) for accurate signature.\n",
      "\n"
     ]
    }
   ],
   "source": [
    "# class는 사용하기 위해 instance화 해야한다\n",
    "# 카멜 class를 안 지키는 경우가 많다 뭐랑 뭐를 구분하기 위해서(???)\n",
    "\n",
    "help(combinations)"
   ]
  },
  {
   "cell_type": "markdown",
   "id": "88d781d6",
   "metadata": {},
   "source": [
    "이터러블 넣으면 결과로 이터레이터 나온다\\\n",
    "next로 뽑는다"
   ]
  },
  {
   "cell_type": "code",
   "execution_count": 102,
   "id": "7cc6aac7",
   "metadata": {},
   "outputs": [
    {
     "data": {
      "text/plain": [
       "[(1, 2, 3), (1, 2, 4), (1, 3, 4), (2, 3, 4)]"
      ]
     },
     "execution_count": 102,
     "metadata": {},
     "output_type": "execute_result"
    }
   ],
   "source": [
    "b = combinations([1,2,3,4], 3)\n",
    "list(b)"
   ]
  },
  {
   "cell_type": "code",
   "execution_count": 103,
   "id": "a3631730",
   "metadata": {},
   "outputs": [],
   "source": [
    "from itertools import cycle"
   ]
  },
  {
   "cell_type": "code",
   "execution_count": 104,
   "id": "a92f086e",
   "metadata": {},
   "outputs": [],
   "source": [
    "b = cycle([1,2,3])"
   ]
  },
  {
   "cell_type": "code",
   "execution_count": 111,
   "id": "3987dc76",
   "metadata": {},
   "outputs": [
    {
     "data": {
      "text/plain": [
       "1"
      ]
     },
     "execution_count": 111,
     "metadata": {},
     "output_type": "execute_result"
    }
   ],
   "source": [
    "next(b)"
   ]
  },
  {
   "cell_type": "code",
   "execution_count": 112,
   "id": "5edc6bab",
   "metadata": {},
   "outputs": [],
   "source": [
    "from itertools import count"
   ]
  },
  {
   "cell_type": "code",
   "execution_count": 113,
   "id": "cc261788",
   "metadata": {},
   "outputs": [
    {
     "data": {
      "text/plain": [
       "itertools.count"
      ]
     },
     "execution_count": 113,
     "metadata": {},
     "output_type": "execute_result"
    }
   ],
   "source": [
    "count"
   ]
  },
  {
   "cell_type": "code",
   "execution_count": 114,
   "id": "27b8d2ca",
   "metadata": {},
   "outputs": [],
   "source": [
    "b = count()"
   ]
  },
  {
   "cell_type": "code",
   "execution_count": 139,
   "id": "bbe3567b",
   "metadata": {},
   "outputs": [
    {
     "data": {
      "text/plain": [
       "24"
      ]
     },
     "execution_count": 139,
     "metadata": {},
     "output_type": "execute_result"
    }
   ],
   "source": [
    "next(b)"
   ]
  },
  {
   "cell_type": "code",
   "execution_count": 140,
   "id": "63586501",
   "metadata": {},
   "outputs": [],
   "source": [
    "b = count(step=2)"
   ]
  },
  {
   "cell_type": "code",
   "execution_count": 142,
   "id": "5e8858de",
   "metadata": {},
   "outputs": [
    {
     "data": {
      "text/plain": [
       "2"
      ]
     },
     "execution_count": 142,
     "metadata": {},
     "output_type": "execute_result"
    }
   ],
   "source": [
    "next(b)"
   ]
  },
  {
   "cell_type": "code",
   "execution_count": 145,
   "id": "967d8a7b",
   "metadata": {},
   "outputs": [
    {
     "data": {
      "text/plain": [
       "zip"
      ]
     },
     "execution_count": 145,
     "metadata": {},
     "output_type": "execute_result"
    }
   ],
   "source": [
    "# 묶어주는 애다\n",
    "zip"
   ]
  },
  {
   "cell_type": "code",
   "execution_count": 156,
   "id": "f510157a",
   "metadata": {},
   "outputs": [],
   "source": [
    "c = zip([1,2,3,9], [4,5,6]) # 갯수가 다르면 버려버린다"
   ]
  },
  {
   "cell_type": "code",
   "execution_count": 160,
   "id": "5a8b1d5e",
   "metadata": {},
   "outputs": [
    {
     "ename": "StopIteration",
     "evalue": "",
     "output_type": "error",
     "traceback": [
      "\u001b[1;31m---------------------------------------------------------------------------\u001b[0m",
      "\u001b[1;31mStopIteration\u001b[0m                             Traceback (most recent call last)",
      "\u001b[1;32m~\\AppData\\Local\\Temp/ipykernel_20940/1173204873.py\u001b[0m in \u001b[0;36m<module>\u001b[1;34m\u001b[0m\n\u001b[1;32m----> 1\u001b[1;33m \u001b[0mnext\u001b[0m\u001b[1;33m(\u001b[0m\u001b[0mc\u001b[0m\u001b[1;33m)\u001b[0m\u001b[1;33m\u001b[0m\u001b[1;33m\u001b[0m\u001b[0m\n\u001b[0m",
      "\u001b[1;31mStopIteration\u001b[0m: "
     ]
    }
   ],
   "source": [
    "# 짝수가 안 맞으면 짧은 거 기준으로 하고 나머지 버려버린다.\n",
    "next(c)"
   ]
  },
  {
   "cell_type": "code",
   "execution_count": 161,
   "id": "8838039d",
   "metadata": {},
   "outputs": [],
   "source": [
    "from itertools import zip_longest"
   ]
  },
  {
   "cell_type": "code",
   "execution_count": 162,
   "id": "222c9c76",
   "metadata": {},
   "outputs": [],
   "source": [
    "c = zip_longest([1,2,3,4], [6,7,8])"
   ]
  },
  {
   "cell_type": "code",
   "execution_count": 167,
   "id": "e13a6a72",
   "metadata": {
    "collapsed": true
   },
   "outputs": [
    {
     "ename": "StopIteration",
     "evalue": "",
     "output_type": "error",
     "traceback": [
      "\u001b[1;31m---------------------------------------------------------------------------\u001b[0m",
      "\u001b[1;31mStopIteration\u001b[0m                             Traceback (most recent call last)",
      "\u001b[1;32m~\\AppData\\Local\\Temp/ipykernel_20940/1173204873.py\u001b[0m in \u001b[0;36m<module>\u001b[1;34m\u001b[0m\n\u001b[1;32m----> 1\u001b[1;33m \u001b[0mnext\u001b[0m\u001b[1;33m(\u001b[0m\u001b[0mc\u001b[0m\u001b[1;33m)\u001b[0m\u001b[1;33m\u001b[0m\u001b[1;33m\u001b[0m\u001b[0m\n\u001b[0m",
      "\u001b[1;31mStopIteration\u001b[0m: "
     ]
    }
   ],
   "source": [
    "# 짝지가 안 맞으면 None을 데리고 온다\n",
    "next(c)"
   ]
  },
  {
   "cell_type": "markdown",
   "id": "8f07cad6",
   "metadata": {},
   "source": [
    "# 모든 연산자를 함수로 만들어버렸다"
   ]
  },
  {
   "cell_type": "code",
   "execution_count": 168,
   "id": "bb436690",
   "metadata": {},
   "outputs": [],
   "source": [
    "from operator import add"
   ]
  },
  {
   "cell_type": "code",
   "execution_count": 169,
   "id": "209b247d",
   "metadata": {},
   "outputs": [
    {
     "data": {
      "text/plain": [
       "2"
      ]
     },
     "execution_count": 169,
     "metadata": {},
     "output_type": "execute_result"
    }
   ],
   "source": [
    "add(1,1)"
   ]
  },
  {
   "cell_type": "code",
   "execution_count": 172,
   "id": "f0506c02",
   "metadata": {},
   "outputs": [],
   "source": [
    "from functools import partial"
   ]
  },
  {
   "cell_type": "markdown",
   "id": "b7201839",
   "metadata": {},
   "source": [
    "partial로 새로운 함수를 생성할 수 있다."
   ]
  },
  {
   "cell_type": "code",
   "execution_count": 177,
   "id": "ac150d4b",
   "metadata": {},
   "outputs": [],
   "source": [
    "add2 = partial(add, 2)"
   ]
  },
  {
   "cell_type": "code",
   "execution_count": 179,
   "id": "21440abf",
   "metadata": {},
   "outputs": [
    {
     "data": {
      "text/plain": [
       "7"
      ]
     },
     "execution_count": 179,
     "metadata": {},
     "output_type": "execute_result"
    }
   ],
   "source": [
    "add2(5)"
   ]
  },
  {
   "cell_type": "markdown",
   "id": "fa9897b0",
   "metadata": {},
   "source": [
    "연산자보다 함수가 더 유연하다 ==> 그 라이브러리가 오퍼레이터이다."
   ]
  },
  {
   "cell_type": "markdown",
   "id": "8f641118",
   "metadata": {},
   "source": [
    "# name space (네임 스페이스)"
   ]
  },
  {
   "cell_type": "code",
   "execution_count": 180,
   "id": "8d69023d",
   "metadata": {},
   "outputs": [],
   "source": [
    "import matplotlib"
   ]
  },
  {
   "cell_type": "code",
   "execution_count": 181,
   "id": "acc06e8c",
   "metadata": {},
   "outputs": [
    {
     "data": {
      "text/plain": [
       "108"
      ]
     },
     "execution_count": 181,
     "metadata": {},
     "output_type": "execute_result"
    }
   ],
   "source": [
    "len(dir(matplotlib))"
   ]
  },
  {
   "cell_type": "code",
   "execution_count": 182,
   "id": "934b20e2",
   "metadata": {},
   "outputs": [],
   "source": [
    "import matplotlib.pyplot as plt"
   ]
  },
  {
   "cell_type": "code",
   "execution_count": null,
   "id": "8f6054fa",
   "metadata": {},
   "outputs": [],
   "source": [
    "몰래 수정하고 수정한 티 안 내는 걸\\\n",
    "몽키 패치 = 게릴라 -> 고릴라 패치 = 잠수함 패치"
   ]
  },
  {
   "cell_type": "code",
   "execution_count": 183,
   "id": "67c8a3ef",
   "metadata": {},
   "outputs": [
    {
     "data": {
      "text/plain": [
       "159"
      ]
     },
     "execution_count": 183,
     "metadata": {},
     "output_type": "execute_result"
    }
   ],
   "source": [
    "len(dir(matplotlib))"
   ]
  },
  {
   "cell_type": "code",
   "execution_count": 185,
   "id": "3e1c73bf",
   "metadata": {},
   "outputs": [],
   "source": [
    "import moon_importPractice as moon"
   ]
  },
  {
   "cell_type": "code",
   "execution_count": 188,
   "id": "ace9a684",
   "metadata": {},
   "outputs": [
    {
     "data": {
      "text/plain": [
       "['__builtins__',\n",
       " '__cached__',\n",
       " '__doc__',\n",
       " '__file__',\n",
       " '__loader__',\n",
       " '__name__',\n",
       " '__package__',\n",
       " '__spec__',\n",
       " '_a',\n",
       " '_x',\n",
       " 'a',\n",
       " 'x']"
      ]
     },
     "execution_count": 188,
     "metadata": {},
     "output_type": "execute_result"
    }
   ],
   "source": [
    "dir(moon)"
   ]
  },
  {
   "cell_type": "code",
   "execution_count": 190,
   "id": "f2e9c4a6",
   "metadata": {},
   "outputs": [
    {
     "data": {
      "text/plain": [
       "<function moon_importPractice._x()>"
      ]
     },
     "execution_count": 190,
     "metadata": {},
     "output_type": "execute_result"
    }
   ],
   "source": [
    "moon._x"
   ]
  },
  {
   "cell_type": "code",
   "execution_count": 191,
   "id": "81f5ee7e",
   "metadata": {},
   "outputs": [],
   "source": [
    "import sys"
   ]
  },
  {
   "cell_type": "code",
   "execution_count": 192,
   "id": "956715c6",
   "metadata": {},
   "outputs": [
    {
     "data": {
      "text/plain": [
       "['C:\\\\Users\\\\dlel2\\\\Documents\\\\GitHub\\\\INISW_2023\\\\Python',\n",
       " 'C:\\\\Users\\\\dlel2\\\\anaconda3\\\\python39.zip',\n",
       " 'C:\\\\Users\\\\dlel2\\\\anaconda3\\\\DLLs',\n",
       " 'C:\\\\Users\\\\dlel2\\\\anaconda3\\\\lib',\n",
       " 'C:\\\\Users\\\\dlel2\\\\anaconda3',\n",
       " '',\n",
       " 'C:\\\\Users\\\\dlel2\\\\anaconda3\\\\lib\\\\site-packages',\n",
       " 'C:\\\\Users\\\\dlel2\\\\anaconda3\\\\lib\\\\site-packages\\\\locket-0.2.1-py3.9.egg',\n",
       " 'C:\\\\Users\\\\dlel2\\\\anaconda3\\\\lib\\\\site-packages\\\\win32',\n",
       " 'C:\\\\Users\\\\dlel2\\\\anaconda3\\\\lib\\\\site-packages\\\\win32\\\\lib',\n",
       " 'C:\\\\Users\\\\dlel2\\\\anaconda3\\\\lib\\\\site-packages\\\\Pythonwin',\n",
       " 'C:\\\\Users\\\\dlel2\\\\anaconda3\\\\lib\\\\site-packages\\\\IPython\\\\extensions',\n",
       " 'C:\\\\Users\\\\dlel2\\\\.ipython']"
      ]
     },
     "execution_count": 192,
     "metadata": {},
     "output_type": "execute_result"
    }
   ],
   "source": [
    "sys.path"
   ]
  },
  {
   "cell_type": "code",
   "execution_count": 193,
   "id": "f07e1a67",
   "metadata": {},
   "outputs": [],
   "source": [
    "import moon_importPractice as m"
   ]
  },
  {
   "cell_type": "code",
   "execution_count": 194,
   "id": "72ed564e",
   "metadata": {},
   "outputs": [
    {
     "data": {
      "text/plain": [
       "<function moon_importPractice._x()>"
      ]
     },
     "execution_count": 194,
     "metadata": {},
     "output_type": "execute_result"
    }
   ],
   "source": [
    "m._x"
   ]
  },
  {
   "cell_type": "code",
   "execution_count": 195,
   "id": "6989adc2",
   "metadata": {},
   "outputs": [
    {
     "data": {
      "text/plain": [
       "'moon_importPractice'"
      ]
     },
     "execution_count": 195,
     "metadata": {},
     "output_type": "execute_result"
    }
   ],
   "source": [
    "m.__name__"
   ]
  },
  {
   "cell_type": "code",
   "execution_count": 197,
   "id": "249c92e8",
   "metadata": {
    "collapsed": true
   },
   "outputs": [
    {
     "data": {
      "text/plain": [
       "{'__name__': '__main__',\n",
       " '__doc__': 'Automatically created module for IPython interactive environment',\n",
       " '__package__': None,\n",
       " '__loader__': None,\n",
       " '__spec__': None,\n",
       " '__builtin__': <module 'builtins' (built-in)>,\n",
       " '__builtins__': <module 'builtins' (built-in)>,\n",
       " '_ih': ['',\n",
       "  'class A:\\n    x = 1\\n    def a(self):\\n        self.y = 2\\n        return 1',\n",
       "  'a = A() # instance',\n",
       "  'b = A() # instance',\n",
       "  'a.z = 3',\n",
       "  'b.z',\n",
       "  '# 인스턴스 변수가 뭐냐는 걸 알게 해주는게 vars()\\nvars(a)',\n",
       "  '# 클래스 변수\\na.x',\n",
       "  'a.y',\n",
       "  'id(A.x)',\n",
       "  'id(a.x)',\n",
       "  'a.x = a\\na',\n",
       "  \"a.x = 'a'\\na\",\n",
       "  'b.x',\n",
       "  'vars(a)',\n",
       "  \"A.x = 'b'\",\n",
       "  'b.x',\n",
       "  'aa = A()',\n",
       "  'vars(aa)',\n",
       "  'aa.a()',\n",
       "  'vaers(aa)',\n",
       "  'vars(aa)',\n",
       "  'class A:\\n    def __ init__(sef):\\n        self.x = 1',\n",
       "  'class A:\\n    def __init__(sef):\\n        self.x = 1',\n",
       "  't = A()',\n",
       "  'class A:\\n    def __init__(se;f):\\n        self.x = 1',\n",
       "  'class A:\\n    def __init__(self):\\n        self.x = 1',\n",
       "  'class A:\\n    def __init__(self):\\n        self.x = 1',\n",
       "  't = A()',\n",
       "  'vaer(s)',\n",
       "  'vaer(t)',\n",
       "  'vars(t)',\n",
       "  'class B:\\n    def __init__(self, x):\\n        self.x = x',\n",
       "  'x = B(3)\\nx.x',\n",
       "  'y = B(4)\\ny.x',\n",
       "  'class float:\\n    def __init__(self, x=0, /):\\n        pass',\n",
       "  'class B:\\n    def __init__(self, x):\\n        self.x = x\\n        return 3',\n",
       "  'x = B(3)',\n",
       "  'class X:\\n    pass',\n",
       "  'x = X()',\n",
       "  'class X(object):\\n    def __init__(self, a):\\n        self.a = a',\n",
       "  'class X(object):\\n    def __init__(self, a):\\n        self.a = a',\n",
       "  't = X()',\n",
       "  't = X(3)',\n",
       "  't.a = 3',\n",
       "  't.a',\n",
       "  '# argument a를 안 줘서 에러난다\\nt = X()',\n",
       "  't = X(3)',\n",
       "  't.a',\n",
       "  'vars(t)',\n",
       "  'list({2,3,4})',\n",
       "  'list({2,3,4,})',\n",
       "  \"class X(object):\\n    def __new__(self):\\n        print('new')\\n    def __init__(self, a):\\n        print('init')\",\n",
       "  'b = X()',\n",
       "  \"class X(object):\\n    def __new__(cls):\\n        print('new')\\n        return super().__new__(cls)\\n    def __init__(self, a):\\n        print('init')\",\n",
       "  'b = X()',\n",
       "  \"class X(object):\\n    def __new__(cls):\\n        print('new')\\n        return super().__new__(cls)\\n    def __init__(self):\\n        print('init')\",\n",
       "  'b = X()',\n",
       "  'class B:\\n    def x(self):\\n        return 1',\n",
       "  'b = B()',\n",
       "  'b.x()',\n",
       "  'B.x()',\n",
       "  'b.x',\n",
       "  'b.x()',\n",
       "  'b.x',\n",
       "  'B.x',\n",
       "  'B.x(b)',\n",
       "  \"class B:\\n    def x(self):\\n        return 1\\n    \\n    @staticmethod\\n    def t():\\n        print('a')\",\n",
       "  \"class Math:\\n    def x(self):\\n        return 1\\n    \\n    @staticmethod\\n    def cos():\\n        print('a')\",\n",
       "  'Math.cos()',\n",
       "  'b = Math()',\n",
       "  'b.cos()',\n",
       "  'class T:\\n    @classmethod\\n    def xx(cls):\\n        cls.ss = 1',\n",
       "  'T.xx',\n",
       "  'T.xx()',\n",
       "  'T.xx().ss',\n",
       "  'T.xx.ss',\n",
       "  'T.xx(8)',\n",
       "  'T.xx()(8)',\n",
       "  'T.xx()',\n",
       "  'a = T.xx()\\na.xx',\n",
       "  'a = T.xx()\\na.ss',\n",
       "  'a = T.xx\\na.ss',\n",
       "  'a = T.xx()\\na.ss',\n",
       "  'a = T.xx()\\na',\n",
       "  'a = T.xx\\na',\n",
       "  'T.xx',\n",
       "  'T.xx()',\n",
       "  'a = T()',\n",
       "  'vars(a)',\n",
       "  'A.XX',\n",
       "  'a.xx',\n",
       "  'a.xx()',\n",
       "  '# 아무것도없다\\nvars(a)',\n",
       "  'T.ss',\n",
       "  'import pandas as pd',\n",
       "  'type(pd.DataFrame)',\n",
       "  'pd.DataFrame.from_dict',\n",
       "  'from itertools import combinations',\n",
       "  'type(combinations)',\n",
       "  'help(combinations)',\n",
       "  'dir(combinations)',\n",
       "  'b = combinations([1,2,3,4], 3)\\nlist(b)',\n",
       "  'from itertools import cycle',\n",
       "  'b = cycle([1,2,3])',\n",
       "  'next(b)',\n",
       "  'next(b)',\n",
       "  'next(b)',\n",
       "  'next(b)',\n",
       "  'next(b)',\n",
       "  'next(b)',\n",
       "  'next(b)',\n",
       "  'from itertools import count',\n",
       "  'count',\n",
       "  'b = count()',\n",
       "  'next(b)',\n",
       "  'next(b)',\n",
       "  'next(b)',\n",
       "  'next(b)',\n",
       "  'next(b)',\n",
       "  'next(b)',\n",
       "  'next(b)',\n",
       "  'next(b)',\n",
       "  'next(b)',\n",
       "  'next(b)',\n",
       "  'next(b)',\n",
       "  'next(b)',\n",
       "  'next(b)',\n",
       "  'next(b)',\n",
       "  'next(b)',\n",
       "  'next(b)',\n",
       "  'next(b)',\n",
       "  'next(b)',\n",
       "  'next(b)',\n",
       "  'next(b)',\n",
       "  'next(b)',\n",
       "  'next(b)',\n",
       "  'next(b)',\n",
       "  'next(b)',\n",
       "  'next(b)',\n",
       "  'b = count(step=2)',\n",
       "  'next(b)',\n",
       "  'next(b)',\n",
       "  'from itertools import zip',\n",
       "  'zip',\n",
       "  'zip',\n",
       "  'c = zip([1,2,3,], [4,5,6])',\n",
       "  'next(c)',\n",
       "  'next(c)',\n",
       "  'next(c)',\n",
       "  'next(c)',\n",
       "  'c = zip([1,2,3,4], [4,5,6])',\n",
       "  'next(c)',\n",
       "  'next(c)',\n",
       "  'next(c)',\n",
       "  'next(c)',\n",
       "  'c = zip([1,2,3,9], [4,5,6])',\n",
       "  'next(c)',\n",
       "  'next(c)',\n",
       "  'next(c)',\n",
       "  'next(c)',\n",
       "  'from itertools import zip_longest',\n",
       "  'c = zip_longest([1,2,3,4], [6,7,8])',\n",
       "  'next(c)',\n",
       "  'next(c)',\n",
       "  'next(c)',\n",
       "  'next(c)',\n",
       "  'next(c)',\n",
       "  'from operator import add',\n",
       "  'add(1,1)',\n",
       "  'from functools import partial',\n",
       "  'add2 = partial(add, b=2)',\n",
       "  'from functools import partial',\n",
       "  'add2 = partial(add, b=2)',\n",
       "  'adds(5)',\n",
       "  'add(5)',\n",
       "  'add(add, 5)',\n",
       "  'add2 = partial(add, 2)',\n",
       "  'add(add, 5)',\n",
       "  'add2(5)',\n",
       "  'import matplotlib',\n",
       "  'len(dir(matplotlib))',\n",
       "  'import matplotlib.pyplot as plt',\n",
       "  'len(dir(matplotlib))',\n",
       "  'import moon_importPractice',\n",
       "  'import moon_importPractice as moon',\n",
       "  'moon.a',\n",
       "  'moon.a()',\n",
       "  'dir(moon)',\n",
       "  'moon.-x',\n",
       "  'moon._x',\n",
       "  'import sys',\n",
       "  'sys.path',\n",
       "  'import moon_importPractice as m',\n",
       "  'm._x',\n",
       "  'm.__name__',\n",
       "  \"get_ipython().run_line_magic('whos', '')\",\n",
       "  'globals()'],\n",
       " '_oh': {6: {'z': 3, 'x': 'a'},\n",
       "  7: 1,\n",
       "  9: 2562056677680,\n",
       "  10: 2562056677680,\n",
       "  11: <__main__.A at 0x2548b3db0a0>,\n",
       "  12: <__main__.A at 0x2548b3db0a0>,\n",
       "  13: 1,\n",
       "  14: {'z': 3, 'x': 'a'},\n",
       "  16: 'b',\n",
       "  18: {'y': 2},\n",
       "  19: 1,\n",
       "  21: {'y': 2},\n",
       "  31: {'x': 1},\n",
       "  33: 3,\n",
       "  34: 4,\n",
       "  45: 3,\n",
       "  48: 3,\n",
       "  49: {'a': 3},\n",
       "  50: [2, 3, 4],\n",
       "  51: [2, 3, 4],\n",
       "  60: 1,\n",
       "  62: <bound method B.x of <__main__.B object at 0x000002548B4E5130>>,\n",
       "  63: 1,\n",
       "  64: <bound method B.x of <__main__.B object at 0x000002548B4E5130>>,\n",
       "  65: <function __main__.B.x(self)>,\n",
       "  66: 1,\n",
       "  73: <bound method T.xx of <class '__main__.T'>>,\n",
       "  85: <bound method T.xx of <class '__main__.T'>>,\n",
       "  86: <bound method T.xx of <class '__main__.T'>>,\n",
       "  89: {},\n",
       "  91: <bound method T.xx of <class '__main__.T'>>,\n",
       "  93: {},\n",
       "  94: 1,\n",
       "  96: type,\n",
       "  97: <bound method DataFrame.from_dict of <class 'pandas.core.frame.DataFrame'>>,\n",
       "  99: type,\n",
       "  101: ['__class__',\n",
       "   '__delattr__',\n",
       "   '__dir__',\n",
       "   '__doc__',\n",
       "   '__eq__',\n",
       "   '__format__',\n",
       "   '__ge__',\n",
       "   '__getattribute__',\n",
       "   '__gt__',\n",
       "   '__hash__',\n",
       "   '__init__',\n",
       "   '__init_subclass__',\n",
       "   '__iter__',\n",
       "   '__le__',\n",
       "   '__lt__',\n",
       "   '__ne__',\n",
       "   '__new__',\n",
       "   '__next__',\n",
       "   '__reduce__',\n",
       "   '__reduce_ex__',\n",
       "   '__repr__',\n",
       "   '__setattr__',\n",
       "   '__setstate__',\n",
       "   '__sizeof__',\n",
       "   '__str__',\n",
       "   '__subclasshook__'],\n",
       "  102: [(1, 2, 3), (1, 2, 4), (1, 3, 4), (2, 3, 4)],\n",
       "  105: 1,\n",
       "  106: 2,\n",
       "  107: 3,\n",
       "  108: 1,\n",
       "  109: 2,\n",
       "  110: 3,\n",
       "  111: 1,\n",
       "  113: itertools.count,\n",
       "  115: 0,\n",
       "  116: 1,\n",
       "  117: 2,\n",
       "  118: 3,\n",
       "  119: 4,\n",
       "  120: 5,\n",
       "  121: 6,\n",
       "  122: 7,\n",
       "  123: 8,\n",
       "  124: 9,\n",
       "  125: 10,\n",
       "  126: 11,\n",
       "  127: 12,\n",
       "  128: 13,\n",
       "  129: 14,\n",
       "  130: 15,\n",
       "  131: 16,\n",
       "  132: 17,\n",
       "  133: 18,\n",
       "  134: 19,\n",
       "  135: 20,\n",
       "  136: 21,\n",
       "  137: 22,\n",
       "  138: 23,\n",
       "  139: 24,\n",
       "  141: 0,\n",
       "  142: 2,\n",
       "  144: zip,\n",
       "  145: zip,\n",
       "  147: (1, 4),\n",
       "  148: (2, 5),\n",
       "  149: (3, 6),\n",
       "  152: (1, 4),\n",
       "  153: (2, 5),\n",
       "  154: (3, 6),\n",
       "  157: (1, 4),\n",
       "  158: (2, 5),\n",
       "  159: (3, 6),\n",
       "  163: (1, 6),\n",
       "  164: (2, 7),\n",
       "  165: (3, 8),\n",
       "  166: (4, None),\n",
       "  169: 2,\n",
       "  179: 7,\n",
       "  181: 108,\n",
       "  183: 159,\n",
       "  186: 1,\n",
       "  188: ['__builtins__',\n",
       "   '__cached__',\n",
       "   '__doc__',\n",
       "   '__file__',\n",
       "   '__loader__',\n",
       "   '__name__',\n",
       "   '__package__',\n",
       "   '__spec__',\n",
       "   '_a',\n",
       "   '_x',\n",
       "   'a',\n",
       "   'x'],\n",
       "  190: <function moon_importPractice._x()>,\n",
       "  192: ['C:\\\\Users\\\\dlel2\\\\Documents\\\\GitHub\\\\INISW_2023\\\\Python',\n",
       "   'C:\\\\Users\\\\dlel2\\\\anaconda3\\\\python39.zip',\n",
       "   'C:\\\\Users\\\\dlel2\\\\anaconda3\\\\DLLs',\n",
       "   'C:\\\\Users\\\\dlel2\\\\anaconda3\\\\lib',\n",
       "   'C:\\\\Users\\\\dlel2\\\\anaconda3',\n",
       "   '',\n",
       "   'C:\\\\Users\\\\dlel2\\\\anaconda3\\\\lib\\\\site-packages',\n",
       "   'C:\\\\Users\\\\dlel2\\\\anaconda3\\\\lib\\\\site-packages\\\\locket-0.2.1-py3.9.egg',\n",
       "   'C:\\\\Users\\\\dlel2\\\\anaconda3\\\\lib\\\\site-packages\\\\win32',\n",
       "   'C:\\\\Users\\\\dlel2\\\\anaconda3\\\\lib\\\\site-packages\\\\win32\\\\lib',\n",
       "   'C:\\\\Users\\\\dlel2\\\\anaconda3\\\\lib\\\\site-packages\\\\Pythonwin',\n",
       "   'C:\\\\Users\\\\dlel2\\\\anaconda3\\\\lib\\\\site-packages\\\\IPython\\\\extensions',\n",
       "   'C:\\\\Users\\\\dlel2\\\\.ipython'],\n",
       "  194: <function moon_importPractice._x()>,\n",
       "  195: 'moon_importPractice'},\n",
       " '_dh': ['C:\\\\Users\\\\dlel2\\\\Documents\\\\GitHub\\\\INISW_2023\\\\Python'],\n",
       " 'In': ['',\n",
       "  'class A:\\n    x = 1\\n    def a(self):\\n        self.y = 2\\n        return 1',\n",
       "  'a = A() # instance',\n",
       "  'b = A() # instance',\n",
       "  'a.z = 3',\n",
       "  'b.z',\n",
       "  '# 인스턴스 변수가 뭐냐는 걸 알게 해주는게 vars()\\nvars(a)',\n",
       "  '# 클래스 변수\\na.x',\n",
       "  'a.y',\n",
       "  'id(A.x)',\n",
       "  'id(a.x)',\n",
       "  'a.x = a\\na',\n",
       "  \"a.x = 'a'\\na\",\n",
       "  'b.x',\n",
       "  'vars(a)',\n",
       "  \"A.x = 'b'\",\n",
       "  'b.x',\n",
       "  'aa = A()',\n",
       "  'vars(aa)',\n",
       "  'aa.a()',\n",
       "  'vaers(aa)',\n",
       "  'vars(aa)',\n",
       "  'class A:\\n    def __ init__(sef):\\n        self.x = 1',\n",
       "  'class A:\\n    def __init__(sef):\\n        self.x = 1',\n",
       "  't = A()',\n",
       "  'class A:\\n    def __init__(se;f):\\n        self.x = 1',\n",
       "  'class A:\\n    def __init__(self):\\n        self.x = 1',\n",
       "  'class A:\\n    def __init__(self):\\n        self.x = 1',\n",
       "  't = A()',\n",
       "  'vaer(s)',\n",
       "  'vaer(t)',\n",
       "  'vars(t)',\n",
       "  'class B:\\n    def __init__(self, x):\\n        self.x = x',\n",
       "  'x = B(3)\\nx.x',\n",
       "  'y = B(4)\\ny.x',\n",
       "  'class float:\\n    def __init__(self, x=0, /):\\n        pass',\n",
       "  'class B:\\n    def __init__(self, x):\\n        self.x = x\\n        return 3',\n",
       "  'x = B(3)',\n",
       "  'class X:\\n    pass',\n",
       "  'x = X()',\n",
       "  'class X(object):\\n    def __init__(self, a):\\n        self.a = a',\n",
       "  'class X(object):\\n    def __init__(self, a):\\n        self.a = a',\n",
       "  't = X()',\n",
       "  't = X(3)',\n",
       "  't.a = 3',\n",
       "  't.a',\n",
       "  '# argument a를 안 줘서 에러난다\\nt = X()',\n",
       "  't = X(3)',\n",
       "  't.a',\n",
       "  'vars(t)',\n",
       "  'list({2,3,4})',\n",
       "  'list({2,3,4,})',\n",
       "  \"class X(object):\\n    def __new__(self):\\n        print('new')\\n    def __init__(self, a):\\n        print('init')\",\n",
       "  'b = X()',\n",
       "  \"class X(object):\\n    def __new__(cls):\\n        print('new')\\n        return super().__new__(cls)\\n    def __init__(self, a):\\n        print('init')\",\n",
       "  'b = X()',\n",
       "  \"class X(object):\\n    def __new__(cls):\\n        print('new')\\n        return super().__new__(cls)\\n    def __init__(self):\\n        print('init')\",\n",
       "  'b = X()',\n",
       "  'class B:\\n    def x(self):\\n        return 1',\n",
       "  'b = B()',\n",
       "  'b.x()',\n",
       "  'B.x()',\n",
       "  'b.x',\n",
       "  'b.x()',\n",
       "  'b.x',\n",
       "  'B.x',\n",
       "  'B.x(b)',\n",
       "  \"class B:\\n    def x(self):\\n        return 1\\n    \\n    @staticmethod\\n    def t():\\n        print('a')\",\n",
       "  \"class Math:\\n    def x(self):\\n        return 1\\n    \\n    @staticmethod\\n    def cos():\\n        print('a')\",\n",
       "  'Math.cos()',\n",
       "  'b = Math()',\n",
       "  'b.cos()',\n",
       "  'class T:\\n    @classmethod\\n    def xx(cls):\\n        cls.ss = 1',\n",
       "  'T.xx',\n",
       "  'T.xx()',\n",
       "  'T.xx().ss',\n",
       "  'T.xx.ss',\n",
       "  'T.xx(8)',\n",
       "  'T.xx()(8)',\n",
       "  'T.xx()',\n",
       "  'a = T.xx()\\na.xx',\n",
       "  'a = T.xx()\\na.ss',\n",
       "  'a = T.xx\\na.ss',\n",
       "  'a = T.xx()\\na.ss',\n",
       "  'a = T.xx()\\na',\n",
       "  'a = T.xx\\na',\n",
       "  'T.xx',\n",
       "  'T.xx()',\n",
       "  'a = T()',\n",
       "  'vars(a)',\n",
       "  'A.XX',\n",
       "  'a.xx',\n",
       "  'a.xx()',\n",
       "  '# 아무것도없다\\nvars(a)',\n",
       "  'T.ss',\n",
       "  'import pandas as pd',\n",
       "  'type(pd.DataFrame)',\n",
       "  'pd.DataFrame.from_dict',\n",
       "  'from itertools import combinations',\n",
       "  'type(combinations)',\n",
       "  'help(combinations)',\n",
       "  'dir(combinations)',\n",
       "  'b = combinations([1,2,3,4], 3)\\nlist(b)',\n",
       "  'from itertools import cycle',\n",
       "  'b = cycle([1,2,3])',\n",
       "  'next(b)',\n",
       "  'next(b)',\n",
       "  'next(b)',\n",
       "  'next(b)',\n",
       "  'next(b)',\n",
       "  'next(b)',\n",
       "  'next(b)',\n",
       "  'from itertools import count',\n",
       "  'count',\n",
       "  'b = count()',\n",
       "  'next(b)',\n",
       "  'next(b)',\n",
       "  'next(b)',\n",
       "  'next(b)',\n",
       "  'next(b)',\n",
       "  'next(b)',\n",
       "  'next(b)',\n",
       "  'next(b)',\n",
       "  'next(b)',\n",
       "  'next(b)',\n",
       "  'next(b)',\n",
       "  'next(b)',\n",
       "  'next(b)',\n",
       "  'next(b)',\n",
       "  'next(b)',\n",
       "  'next(b)',\n",
       "  'next(b)',\n",
       "  'next(b)',\n",
       "  'next(b)',\n",
       "  'next(b)',\n",
       "  'next(b)',\n",
       "  'next(b)',\n",
       "  'next(b)',\n",
       "  'next(b)',\n",
       "  'next(b)',\n",
       "  'b = count(step=2)',\n",
       "  'next(b)',\n",
       "  'next(b)',\n",
       "  'from itertools import zip',\n",
       "  'zip',\n",
       "  'zip',\n",
       "  'c = zip([1,2,3,], [4,5,6])',\n",
       "  'next(c)',\n",
       "  'next(c)',\n",
       "  'next(c)',\n",
       "  'next(c)',\n",
       "  'c = zip([1,2,3,4], [4,5,6])',\n",
       "  'next(c)',\n",
       "  'next(c)',\n",
       "  'next(c)',\n",
       "  'next(c)',\n",
       "  'c = zip([1,2,3,9], [4,5,6])',\n",
       "  'next(c)',\n",
       "  'next(c)',\n",
       "  'next(c)',\n",
       "  'next(c)',\n",
       "  'from itertools import zip_longest',\n",
       "  'c = zip_longest([1,2,3,4], [6,7,8])',\n",
       "  'next(c)',\n",
       "  'next(c)',\n",
       "  'next(c)',\n",
       "  'next(c)',\n",
       "  'next(c)',\n",
       "  'from operator import add',\n",
       "  'add(1,1)',\n",
       "  'from functools import partial',\n",
       "  'add2 = partial(add, b=2)',\n",
       "  'from functools import partial',\n",
       "  'add2 = partial(add, b=2)',\n",
       "  'adds(5)',\n",
       "  'add(5)',\n",
       "  'add(add, 5)',\n",
       "  'add2 = partial(add, 2)',\n",
       "  'add(add, 5)',\n",
       "  'add2(5)',\n",
       "  'import matplotlib',\n",
       "  'len(dir(matplotlib))',\n",
       "  'import matplotlib.pyplot as plt',\n",
       "  'len(dir(matplotlib))',\n",
       "  'import moon_importPractice',\n",
       "  'import moon_importPractice as moon',\n",
       "  'moon.a',\n",
       "  'moon.a()',\n",
       "  'dir(moon)',\n",
       "  'moon.-x',\n",
       "  'moon._x',\n",
       "  'import sys',\n",
       "  'sys.path',\n",
       "  'import moon_importPractice as m',\n",
       "  'm._x',\n",
       "  'm.__name__',\n",
       "  \"get_ipython().run_line_magic('whos', '')\",\n",
       "  'globals()'],\n",
       " 'Out': {6: {'z': 3, 'x': 'a'},\n",
       "  7: 1,\n",
       "  9: 2562056677680,\n",
       "  10: 2562056677680,\n",
       "  11: <__main__.A at 0x2548b3db0a0>,\n",
       "  12: <__main__.A at 0x2548b3db0a0>,\n",
       "  13: 1,\n",
       "  14: {'z': 3, 'x': 'a'},\n",
       "  16: 'b',\n",
       "  18: {'y': 2},\n",
       "  19: 1,\n",
       "  21: {'y': 2},\n",
       "  31: {'x': 1},\n",
       "  33: 3,\n",
       "  34: 4,\n",
       "  45: 3,\n",
       "  48: 3,\n",
       "  49: {'a': 3},\n",
       "  50: [2, 3, 4],\n",
       "  51: [2, 3, 4],\n",
       "  60: 1,\n",
       "  62: <bound method B.x of <__main__.B object at 0x000002548B4E5130>>,\n",
       "  63: 1,\n",
       "  64: <bound method B.x of <__main__.B object at 0x000002548B4E5130>>,\n",
       "  65: <function __main__.B.x(self)>,\n",
       "  66: 1,\n",
       "  73: <bound method T.xx of <class '__main__.T'>>,\n",
       "  85: <bound method T.xx of <class '__main__.T'>>,\n",
       "  86: <bound method T.xx of <class '__main__.T'>>,\n",
       "  89: {},\n",
       "  91: <bound method T.xx of <class '__main__.T'>>,\n",
       "  93: {},\n",
       "  94: 1,\n",
       "  96: type,\n",
       "  97: <bound method DataFrame.from_dict of <class 'pandas.core.frame.DataFrame'>>,\n",
       "  99: type,\n",
       "  101: ['__class__',\n",
       "   '__delattr__',\n",
       "   '__dir__',\n",
       "   '__doc__',\n",
       "   '__eq__',\n",
       "   '__format__',\n",
       "   '__ge__',\n",
       "   '__getattribute__',\n",
       "   '__gt__',\n",
       "   '__hash__',\n",
       "   '__init__',\n",
       "   '__init_subclass__',\n",
       "   '__iter__',\n",
       "   '__le__',\n",
       "   '__lt__',\n",
       "   '__ne__',\n",
       "   '__new__',\n",
       "   '__next__',\n",
       "   '__reduce__',\n",
       "   '__reduce_ex__',\n",
       "   '__repr__',\n",
       "   '__setattr__',\n",
       "   '__setstate__',\n",
       "   '__sizeof__',\n",
       "   '__str__',\n",
       "   '__subclasshook__'],\n",
       "  102: [(1, 2, 3), (1, 2, 4), (1, 3, 4), (2, 3, 4)],\n",
       "  105: 1,\n",
       "  106: 2,\n",
       "  107: 3,\n",
       "  108: 1,\n",
       "  109: 2,\n",
       "  110: 3,\n",
       "  111: 1,\n",
       "  113: itertools.count,\n",
       "  115: 0,\n",
       "  116: 1,\n",
       "  117: 2,\n",
       "  118: 3,\n",
       "  119: 4,\n",
       "  120: 5,\n",
       "  121: 6,\n",
       "  122: 7,\n",
       "  123: 8,\n",
       "  124: 9,\n",
       "  125: 10,\n",
       "  126: 11,\n",
       "  127: 12,\n",
       "  128: 13,\n",
       "  129: 14,\n",
       "  130: 15,\n",
       "  131: 16,\n",
       "  132: 17,\n",
       "  133: 18,\n",
       "  134: 19,\n",
       "  135: 20,\n",
       "  136: 21,\n",
       "  137: 22,\n",
       "  138: 23,\n",
       "  139: 24,\n",
       "  141: 0,\n",
       "  142: 2,\n",
       "  144: zip,\n",
       "  145: zip,\n",
       "  147: (1, 4),\n",
       "  148: (2, 5),\n",
       "  149: (3, 6),\n",
       "  152: (1, 4),\n",
       "  153: (2, 5),\n",
       "  154: (3, 6),\n",
       "  157: (1, 4),\n",
       "  158: (2, 5),\n",
       "  159: (3, 6),\n",
       "  163: (1, 6),\n",
       "  164: (2, 7),\n",
       "  165: (3, 8),\n",
       "  166: (4, None),\n",
       "  169: 2,\n",
       "  179: 7,\n",
       "  181: 108,\n",
       "  183: 159,\n",
       "  186: 1,\n",
       "  188: ['__builtins__',\n",
       "   '__cached__',\n",
       "   '__doc__',\n",
       "   '__file__',\n",
       "   '__loader__',\n",
       "   '__name__',\n",
       "   '__package__',\n",
       "   '__spec__',\n",
       "   '_a',\n",
       "   '_x',\n",
       "   'a',\n",
       "   'x'],\n",
       "  190: <function moon_importPractice._x()>,\n",
       "  192: ['C:\\\\Users\\\\dlel2\\\\Documents\\\\GitHub\\\\INISW_2023\\\\Python',\n",
       "   'C:\\\\Users\\\\dlel2\\\\anaconda3\\\\python39.zip',\n",
       "   'C:\\\\Users\\\\dlel2\\\\anaconda3\\\\DLLs',\n",
       "   'C:\\\\Users\\\\dlel2\\\\anaconda3\\\\lib',\n",
       "   'C:\\\\Users\\\\dlel2\\\\anaconda3',\n",
       "   '',\n",
       "   'C:\\\\Users\\\\dlel2\\\\anaconda3\\\\lib\\\\site-packages',\n",
       "   'C:\\\\Users\\\\dlel2\\\\anaconda3\\\\lib\\\\site-packages\\\\locket-0.2.1-py3.9.egg',\n",
       "   'C:\\\\Users\\\\dlel2\\\\anaconda3\\\\lib\\\\site-packages\\\\win32',\n",
       "   'C:\\\\Users\\\\dlel2\\\\anaconda3\\\\lib\\\\site-packages\\\\win32\\\\lib',\n",
       "   'C:\\\\Users\\\\dlel2\\\\anaconda3\\\\lib\\\\site-packages\\\\Pythonwin',\n",
       "   'C:\\\\Users\\\\dlel2\\\\anaconda3\\\\lib\\\\site-packages\\\\IPython\\\\extensions',\n",
       "   'C:\\\\Users\\\\dlel2\\\\.ipython'],\n",
       "  194: <function moon_importPractice._x()>,\n",
       "  195: 'moon_importPractice'},\n",
       " 'get_ipython': <bound method InteractiveShell.get_ipython of <ipykernel.zmqshell.ZMQInteractiveShell object at 0x000002548B3687C0>>,\n",
       " 'exit': <IPython.core.autocall.ZMQExitAutocall at 0x2548b39fac0>,\n",
       " 'quit': <IPython.core.autocall.ZMQExitAutocall at 0x2548b39fac0>,\n",
       " '_': 'moon_importPractice',\n",
       " '__': <function moon_importPractice._x()>,\n",
       " '___': ['C:\\\\Users\\\\dlel2\\\\Documents\\\\GitHub\\\\INISW_2023\\\\Python',\n",
       "  'C:\\\\Users\\\\dlel2\\\\anaconda3\\\\python39.zip',\n",
       "  'C:\\\\Users\\\\dlel2\\\\anaconda3\\\\DLLs',\n",
       "  'C:\\\\Users\\\\dlel2\\\\anaconda3\\\\lib',\n",
       "  'C:\\\\Users\\\\dlel2\\\\anaconda3',\n",
       "  '',\n",
       "  'C:\\\\Users\\\\dlel2\\\\anaconda3\\\\lib\\\\site-packages',\n",
       "  'C:\\\\Users\\\\dlel2\\\\anaconda3\\\\lib\\\\site-packages\\\\locket-0.2.1-py3.9.egg',\n",
       "  'C:\\\\Users\\\\dlel2\\\\anaconda3\\\\lib\\\\site-packages\\\\win32',\n",
       "  'C:\\\\Users\\\\dlel2\\\\anaconda3\\\\lib\\\\site-packages\\\\win32\\\\lib',\n",
       "  'C:\\\\Users\\\\dlel2\\\\anaconda3\\\\lib\\\\site-packages\\\\Pythonwin',\n",
       "  'C:\\\\Users\\\\dlel2\\\\anaconda3\\\\lib\\\\site-packages\\\\IPython\\\\extensions',\n",
       "  'C:\\\\Users\\\\dlel2\\\\.ipython'],\n",
       " '_i': '%whos',\n",
       " '_ii': 'm.__name__',\n",
       " '_iii': 'm._x',\n",
       " '_i1': 'class A:\\n    x = 1\\n    def a(self):\\n        self.y = 2\\n        return 1',\n",
       " 'A': __main__.A,\n",
       " '_i2': 'a = A() # instance',\n",
       " 'a': <__main__.T at 0x2548b4f46d0>,\n",
       " '_i3': 'b = A() # instance',\n",
       " 'b': count(4, 2),\n",
       " '_i4': 'a.z = 3',\n",
       " '_i5': 'b.z',\n",
       " '_i6': '# 인스턴스 변수가 뭐냐는 걸 알게 해주는게 vars()\\nvars(a)',\n",
       " '_6': {'z': 3, 'x': 'a'},\n",
       " '_i7': '# 클래스 변수\\na.x',\n",
       " '_7': 1,\n",
       " '_i8': 'a.y',\n",
       " '_i9': 'id(A.x)',\n",
       " '_9': 2562056677680,\n",
       " '_i10': 'id(a.x)',\n",
       " '_10': 2562056677680,\n",
       " '_i11': 'a.x = a\\na',\n",
       " '_11': <__main__.A at 0x2548b3db0a0>,\n",
       " '_i12': \"a.x = 'a'\\na\",\n",
       " '_12': <__main__.A at 0x2548b3db0a0>,\n",
       " '_i13': 'b.x',\n",
       " '_13': 1,\n",
       " '_i14': 'vars(a)',\n",
       " '_14': {'z': 3, 'x': 'a'},\n",
       " '_i15': \"A.x = 'b'\",\n",
       " '_i16': 'b.x',\n",
       " '_16': 'b',\n",
       " '_i17': 'aa = A()',\n",
       " 'aa': <__main__.A at 0x2548b42b5e0>,\n",
       " '_i18': 'vars(aa)',\n",
       " '_18': {'y': 2},\n",
       " '_i19': 'aa.a()',\n",
       " '_19': 1,\n",
       " '_i20': 'vaers(aa)',\n",
       " '_i21': 'vars(aa)',\n",
       " '_21': {'y': 2},\n",
       " '_i22': 'class A:\\n    def __ init__(sef):\\n        self.x = 1',\n",
       " '_i23': 'class A:\\n    def __init__(sef):\\n        self.x = 1',\n",
       " '_i24': 't = A()',\n",
       " '_i25': 'class A:\\n    def __init__(se;f):\\n        self.x = 1',\n",
       " '_i26': 'class A:\\n    def __init__(self):\\n        self.x = 1',\n",
       " '_i27': 'class A:\\n    def __init__(self):\\n        self.x = 1',\n",
       " '_i28': 't = A()',\n",
       " 't': <__main__.X at 0x2548b3551f0>,\n",
       " '_i29': 'vaer(s)',\n",
       " '_i30': 'vaer(t)',\n",
       " '_i31': 'vars(t)',\n",
       " '_31': {'x': 1},\n",
       " '_i32': 'class B:\\n    def __init__(self, x):\\n        self.x = x',\n",
       " 'B': __main__.B,\n",
       " '_i33': 'x = B(3)\\nx.x',\n",
       " 'x': <__main__.X at 0x2548b4e5670>,\n",
       " '_33': 3,\n",
       " '_i34': 'y = B(4)\\ny.x',\n",
       " 'y': <__main__.B at 0x2548b4e50a0>,\n",
       " '_34': 4,\n",
       " '_i35': 'class float:\\n    def __init__(self, x=0, /):\\n        pass',\n",
       " 'float': __main__.float,\n",
       " '_i36': 'class B:\\n    def __init__(self, x):\\n        self.x = x\\n        return 3',\n",
       " '_i37': 'x = B(3)',\n",
       " '_i38': 'class X:\\n    pass',\n",
       " 'X': __main__.X,\n",
       " '_i39': 'x = X()',\n",
       " '_i40': 'class X(object):\\n    def __init__(self, a):\\n        self.a = a',\n",
       " '_i41': 'class X(object):\\n    def __init__(self, a):\\n        self.a = a',\n",
       " '_i42': 't = X()',\n",
       " '_i43': 't = X(3)',\n",
       " '_i44': 't.a = 3',\n",
       " '_i45': 't.a',\n",
       " '_45': 3,\n",
       " '_i46': '# argument a를 안 줘서 에러난다\\nt = X()',\n",
       " '_i47': 't = X(3)',\n",
       " '_i48': 't.a',\n",
       " '_48': 3,\n",
       " '_i49': 'vars(t)',\n",
       " '_49': {'a': 3},\n",
       " '_i50': 'list({2,3,4})',\n",
       " '_50': [2, 3, 4],\n",
       " '_i51': 'list({2,3,4,})',\n",
       " '_51': [2, 3, 4],\n",
       " '_i52': \"class X(object):\\n    def __new__(self):\\n        print('new')\\n    def __init__(self, a):\\n        print('init')\",\n",
       " '_i53': 'b = X()',\n",
       " '_i54': \"class X(object):\\n    def __new__(cls):\\n        print('new')\\n        return super().__new__(cls)\\n    def __init__(self, a):\\n        print('init')\",\n",
       " '_i55': 'b = X()',\n",
       " '_i56': \"class X(object):\\n    def __new__(cls):\\n        print('new')\\n        return super().__new__(cls)\\n    def __init__(self):\\n        print('init')\",\n",
       " '_i57': 'b = X()',\n",
       " '_i58': 'class B:\\n    def x(self):\\n        return 1',\n",
       " '_i59': 'b = B()',\n",
       " '_i60': 'b.x()',\n",
       " '_60': 1,\n",
       " '_i61': 'B.x()',\n",
       " '_i62': 'b.x',\n",
       " '_62': <bound method B.x of <__main__.B object at 0x000002548B4E5130>>,\n",
       " '_i63': 'b.x()',\n",
       " '_63': 1,\n",
       " '_i64': 'b.x',\n",
       " '_64': <bound method B.x of <__main__.B object at 0x000002548B4E5130>>,\n",
       " '_i65': 'B.x',\n",
       " '_65': <function __main__.B.x(self)>,\n",
       " '_i66': 'B.x(b)',\n",
       " '_66': 1,\n",
       " '_i67': \"class B:\\n    def x(self):\\n        return 1\\n    \\n    @staticmethod\\n    def t():\\n        print('a')\",\n",
       " '_i68': \"class Math:\\n    def x(self):\\n        return 1\\n    \\n    @staticmethod\\n    def cos():\\n        print('a')\",\n",
       " 'Math': __main__.Math,\n",
       " '_i69': 'Math.cos()',\n",
       " '_i70': 'b = Math()',\n",
       " '_i71': 'b.cos()',\n",
       " '_i72': 'class T:\\n    @classmethod\\n    def xx(cls):\\n        cls.ss = 1',\n",
       " 'T': __main__.T,\n",
       " '_i73': 'T.xx',\n",
       " '_73': <bound method T.xx of <class '__main__.T'>>,\n",
       " '_i74': 'T.xx()',\n",
       " '_i75': 'T.xx().ss',\n",
       " '_i76': 'T.xx.ss',\n",
       " '_i77': 'T.xx(8)',\n",
       " '_i78': 'T.xx()(8)',\n",
       " '_i79': 'T.xx()',\n",
       " '_i80': 'a = T.xx()\\na.xx',\n",
       " '_i81': 'a = T.xx()\\na.ss',\n",
       " '_i82': 'a = T.xx\\na.ss',\n",
       " '_i83': 'a = T.xx()\\na.ss',\n",
       " '_i84': 'a = T.xx()\\na',\n",
       " '_i85': 'a = T.xx\\na',\n",
       " '_85': <bound method T.xx of <class '__main__.T'>>,\n",
       " '_i86': 'T.xx',\n",
       " '_86': <bound method T.xx of <class '__main__.T'>>,\n",
       " '_i87': 'T.xx()',\n",
       " '_i88': 'a = T()',\n",
       " '_i89': 'vars(a)',\n",
       " '_89': {},\n",
       " '_i90': 'A.XX',\n",
       " '_i91': 'a.xx',\n",
       " '_91': <bound method T.xx of <class '__main__.T'>>,\n",
       " '_i92': 'a.xx()',\n",
       " '_i93': '# 아무것도없다\\nvars(a)',\n",
       " '_93': {},\n",
       " '_i94': 'T.ss',\n",
       " '_94': 1,\n",
       " '_i95': 'import pandas as pd',\n",
       " 'pd': <module 'pandas' from 'C:\\\\Users\\\\dlel2\\\\anaconda3\\\\lib\\\\site-packages\\\\pandas\\\\__init__.py'>,\n",
       " '_i96': 'type(pd.DataFrame)',\n",
       " '_96': type,\n",
       " '_i97': 'pd.DataFrame.from_dict',\n",
       " '_97': <bound method DataFrame.from_dict of <class 'pandas.core.frame.DataFrame'>>,\n",
       " '_i98': 'from itertools import combinations',\n",
       " 'combinations': itertools.combinations,\n",
       " '_i99': 'type(combinations)',\n",
       " '_99': type,\n",
       " '_i100': 'help(combinations)',\n",
       " '_i101': 'dir(combinations)',\n",
       " '_101': ['__class__',\n",
       "  '__delattr__',\n",
       "  '__dir__',\n",
       "  '__doc__',\n",
       "  '__eq__',\n",
       "  '__format__',\n",
       "  '__ge__',\n",
       "  '__getattribute__',\n",
       "  '__gt__',\n",
       "  '__hash__',\n",
       "  '__init__',\n",
       "  '__init_subclass__',\n",
       "  '__iter__',\n",
       "  '__le__',\n",
       "  '__lt__',\n",
       "  '__ne__',\n",
       "  '__new__',\n",
       "  '__next__',\n",
       "  '__reduce__',\n",
       "  '__reduce_ex__',\n",
       "  '__repr__',\n",
       "  '__setattr__',\n",
       "  '__setstate__',\n",
       "  '__sizeof__',\n",
       "  '__str__',\n",
       "  '__subclasshook__'],\n",
       " '_i102': 'b = combinations([1,2,3,4], 3)\\nlist(b)',\n",
       " '_102': [(1, 2, 3), (1, 2, 4), (1, 3, 4), (2, 3, 4)],\n",
       " '_i103': 'from itertools import cycle',\n",
       " 'cycle': itertools.cycle,\n",
       " '_i104': 'b = cycle([1,2,3])',\n",
       " '_i105': 'next(b)',\n",
       " '_105': 1,\n",
       " '_i106': 'next(b)',\n",
       " '_106': 2,\n",
       " '_i107': 'next(b)',\n",
       " '_107': 3,\n",
       " '_i108': 'next(b)',\n",
       " '_108': 1,\n",
       " '_i109': 'next(b)',\n",
       " '_109': 2,\n",
       " '_i110': 'next(b)',\n",
       " '_110': 3,\n",
       " '_i111': 'next(b)',\n",
       " '_111': 1,\n",
       " '_i112': 'from itertools import count',\n",
       " 'count': itertools.count,\n",
       " '_i113': 'count',\n",
       " '_113': itertools.count,\n",
       " '_i114': 'b = count()',\n",
       " '_i115': 'next(b)',\n",
       " '_115': 0,\n",
       " '_i116': 'next(b)',\n",
       " '_116': 1,\n",
       " '_i117': 'next(b)',\n",
       " '_117': 2,\n",
       " '_i118': 'next(b)',\n",
       " '_118': 3,\n",
       " '_i119': 'next(b)',\n",
       " '_119': 4,\n",
       " '_i120': 'next(b)',\n",
       " '_120': 5,\n",
       " '_i121': 'next(b)',\n",
       " '_121': 6,\n",
       " '_i122': 'next(b)',\n",
       " '_122': 7,\n",
       " '_i123': 'next(b)',\n",
       " '_123': 8,\n",
       " '_i124': 'next(b)',\n",
       " '_124': 9,\n",
       " '_i125': 'next(b)',\n",
       " '_125': 10,\n",
       " '_i126': 'next(b)',\n",
       " '_126': 11,\n",
       " '_i127': 'next(b)',\n",
       " '_127': 12,\n",
       " '_i128': 'next(b)',\n",
       " '_128': 13,\n",
       " '_i129': 'next(b)',\n",
       " '_129': 14,\n",
       " '_i130': 'next(b)',\n",
       " '_130': 15,\n",
       " '_i131': 'next(b)',\n",
       " '_131': 16,\n",
       " '_i132': 'next(b)',\n",
       " '_132': 17,\n",
       " '_i133': 'next(b)',\n",
       " '_133': 18,\n",
       " '_i134': 'next(b)',\n",
       " '_134': 19,\n",
       " '_i135': 'next(b)',\n",
       " '_135': 20,\n",
       " '_i136': 'next(b)',\n",
       " '_136': 21,\n",
       " '_i137': 'next(b)',\n",
       " '_137': 22,\n",
       " '_i138': 'next(b)',\n",
       " '_138': 23,\n",
       " '_i139': 'next(b)',\n",
       " '_139': 24,\n",
       " '_i140': 'b = count(step=2)',\n",
       " '_i141': 'next(b)',\n",
       " '_141': 0,\n",
       " '_i142': 'next(b)',\n",
       " '_142': 2,\n",
       " '_i143': 'from itertools import zip',\n",
       " '_i144': 'zip',\n",
       " '_144': zip,\n",
       " '_i145': 'zip',\n",
       " '_145': zip,\n",
       " '_i146': 'c = zip([1,2,3,], [4,5,6])',\n",
       " 'c': <itertools.zip_longest at 0x2548f6097c0>,\n",
       " '_i147': 'next(c)',\n",
       " '_147': (1, 4),\n",
       " '_i148': 'next(c)',\n",
       " '_148': (2, 5),\n",
       " '_i149': 'next(c)',\n",
       " '_149': (3, 6),\n",
       " '_i150': 'next(c)',\n",
       " '_i151': 'c = zip([1,2,3,4], [4,5,6])',\n",
       " '_i152': 'next(c)',\n",
       " '_152': (1, 4),\n",
       " '_i153': 'next(c)',\n",
       " '_153': (2, 5),\n",
       " '_i154': 'next(c)',\n",
       " '_154': (3, 6),\n",
       " '_i155': 'next(c)',\n",
       " '_i156': 'c = zip([1,2,3,9], [4,5,6])',\n",
       " '_i157': 'next(c)',\n",
       " '_157': (1, 4),\n",
       " '_i158': 'next(c)',\n",
       " '_158': (2, 5),\n",
       " '_i159': 'next(c)',\n",
       " '_159': (3, 6),\n",
       " '_i160': 'next(c)',\n",
       " '_i161': 'from itertools import zip_longest',\n",
       " 'zip_longest': itertools.zip_longest,\n",
       " '_i162': 'c = zip_longest([1,2,3,4], [6,7,8])',\n",
       " '_i163': 'next(c)',\n",
       " '_163': (1, 6),\n",
       " '_i164': 'next(c)',\n",
       " '_164': (2, 7),\n",
       " '_i165': 'next(c)',\n",
       " '_165': (3, 8),\n",
       " '_i166': 'next(c)',\n",
       " '_166': (4, None),\n",
       " '_i167': 'next(c)',\n",
       " '_i168': 'from operator import add',\n",
       " 'add': <function _operator.add(a, b, /)>,\n",
       " '_i169': 'add(1,1)',\n",
       " '_169': 2,\n",
       " '_i170': 'from functools import partial',\n",
       " 'partial': functools.partial,\n",
       " '_i171': 'add2 = partial(add, b=2)',\n",
       " 'add2': functools.partial(<built-in function add>, 2),\n",
       " '_i172': 'from functools import partial',\n",
       " '_i173': 'add2 = partial(add, b=2)',\n",
       " '_i174': 'adds(5)',\n",
       " '_i175': 'add(5)',\n",
       " '_i176': 'add(add, 5)',\n",
       " '_i177': 'add2 = partial(add, 2)',\n",
       " '_i178': 'add(add, 5)',\n",
       " '_i179': 'add2(5)',\n",
       " '_179': 7,\n",
       " '_i180': 'import matplotlib',\n",
       " 'matplotlib': <module 'matplotlib' from 'C:\\\\Users\\\\dlel2\\\\anaconda3\\\\lib\\\\site-packages\\\\matplotlib\\\\__init__.py'>,\n",
       " '_i181': 'len(dir(matplotlib))',\n",
       " '_181': 108,\n",
       " '_i182': 'import matplotlib.pyplot as plt',\n",
       " 'plt': <module 'matplotlib.pyplot' from 'C:\\\\Users\\\\dlel2\\\\anaconda3\\\\lib\\\\site-packages\\\\matplotlib\\\\pyplot.py'>,\n",
       " '_i183': 'len(dir(matplotlib))',\n",
       " '_183': 159,\n",
       " '_i184': 'import moon_importPractice',\n",
       " 'moon_importPractice': <module 'moon_importPractice' from 'C:\\\\Users\\\\dlel2\\\\Documents\\\\GitHub\\\\INISW_2023\\\\Python\\\\moon_importPractice.py'>,\n",
       " '_i185': 'import moon_importPractice as moon',\n",
       " 'moon': <module 'moon_importPractice' from 'C:\\\\Users\\\\dlel2\\\\Documents\\\\GitHub\\\\INISW_2023\\\\Python\\\\moon_importPractice.py'>,\n",
       " '_i186': 'moon.a',\n",
       " '_186': 1,\n",
       " '_i187': 'moon.a()',\n",
       " '_i188': 'dir(moon)',\n",
       " '_188': ['__builtins__',\n",
       "  '__cached__',\n",
       "  '__doc__',\n",
       "  '__file__',\n",
       "  '__loader__',\n",
       "  '__name__',\n",
       "  '__package__',\n",
       "  '__spec__',\n",
       "  '_a',\n",
       "  '_x',\n",
       "  'a',\n",
       "  'x'],\n",
       " '_i189': 'moon.-x',\n",
       " '_i190': 'moon._x',\n",
       " '_190': <function moon_importPractice._x()>,\n",
       " '_i191': 'import sys',\n",
       " 'sys': <module 'sys' (built-in)>,\n",
       " '_i192': 'sys.path',\n",
       " '_192': ['C:\\\\Users\\\\dlel2\\\\Documents\\\\GitHub\\\\INISW_2023\\\\Python',\n",
       "  'C:\\\\Users\\\\dlel2\\\\anaconda3\\\\python39.zip',\n",
       "  'C:\\\\Users\\\\dlel2\\\\anaconda3\\\\DLLs',\n",
       "  'C:\\\\Users\\\\dlel2\\\\anaconda3\\\\lib',\n",
       "  'C:\\\\Users\\\\dlel2\\\\anaconda3',\n",
       "  '',\n",
       "  'C:\\\\Users\\\\dlel2\\\\anaconda3\\\\lib\\\\site-packages',\n",
       "  'C:\\\\Users\\\\dlel2\\\\anaconda3\\\\lib\\\\site-packages\\\\locket-0.2.1-py3.9.egg',\n",
       "  'C:\\\\Users\\\\dlel2\\\\anaconda3\\\\lib\\\\site-packages\\\\win32',\n",
       "  'C:\\\\Users\\\\dlel2\\\\anaconda3\\\\lib\\\\site-packages\\\\win32\\\\lib',\n",
       "  'C:\\\\Users\\\\dlel2\\\\anaconda3\\\\lib\\\\site-packages\\\\Pythonwin',\n",
       "  'C:\\\\Users\\\\dlel2\\\\anaconda3\\\\lib\\\\site-packages\\\\IPython\\\\extensions',\n",
       "  'C:\\\\Users\\\\dlel2\\\\.ipython'],\n",
       " '_i193': 'import moon_importPractice as m',\n",
       " 'm': <module 'moon_importPractice' from 'C:\\\\Users\\\\dlel2\\\\Documents\\\\GitHub\\\\INISW_2023\\\\Python\\\\moon_importPractice.py'>,\n",
       " '_i194': 'm._x',\n",
       " '_194': <function moon_importPractice._x()>,\n",
       " '_i195': 'm.__name__',\n",
       " '_195': 'moon_importPractice',\n",
       " '_i196': '%whos',\n",
       " '_i197': 'globals()'}"
      ]
     },
     "execution_count": 197,
     "metadata": {},
     "output_type": "execute_result"
    }
   ],
   "source": [
    "globals()"
   ]
  },
  {
   "cell_type": "code",
   "execution_count": 196,
   "id": "ad908fe5",
   "metadata": {
    "collapsed": true
   },
   "outputs": [
    {
     "name": "stdout",
     "output_type": "stream",
     "text": [
      "Variable              Type                          Data/Info\n",
      "-------------------------------------------------------------\n",
      "A                     type                          <class '__main__.A'>\n",
      "B                     type                          <class '__main__.B'>\n",
      "Math                  type                          <class '__main__.Math'>\n",
      "T                     type                          <class '__main__.T'>\n",
      "X                     type                          <class '__main__.X'>\n",
      "a                     T                             <__main__.T object at 0x000002548B4F46D0>\n",
      "aa                    A                             <__main__.A object at 0x000002548B42B5E0>\n",
      "add                   builtin_function_or_method    <built-in function add>\n",
      "add2                  partial                       functools.partial(<built-in function add>, 2)\n",
      "b                     count                         count(4, 2)\n",
      "c                     zip_longest                   <itertools.zip_longest ob<...>ct at 0x000002548F6097C0>\n",
      "combinations          type                          <class 'itertools.combinations'>\n",
      "count                 type                          <class 'itertools.count'>\n",
      "cycle                 type                          <class 'itertools.cycle'>\n",
      "float                 type                          <class '__main__.float'>\n",
      "m                     module                        <module 'moon_importPract<...>\\moon_importPractice.py'>\n",
      "matplotlib            module                        <module 'matplotlib' from<...>matplotlib\\\\__init__.py'>\n",
      "moon                  module                        <module 'moon_importPract<...>\\moon_importPractice.py'>\n",
      "moon_importPractice   module                        <module 'moon_importPract<...>\\moon_importPractice.py'>\n",
      "partial               type                          <class 'functools.partial'>\n",
      "pd                    module                        <module 'pandas' from 'C:<...>es\\\\pandas\\\\__init__.py'>\n",
      "plt                   module                        <module 'matplotlib.pyplo<...>\\\\matplotlib\\\\pyplot.py'>\n",
      "sys                   module                        <module 'sys' (built-in)>\n",
      "t                     X                             <__main__.X object at 0x000002548B3551F0>\n",
      "x                     X                             <__main__.X object at 0x000002548B4E5670>\n",
      "y                     B                             <__main__.B object at 0x000002548B4E50A0>\n",
      "zip_longest           type                          <class 'itertools.zip_longest'>\n"
     ]
    }
   ],
   "source": [
    "%whos"
   ]
  },
  {
   "cell_type": "code",
   "execution_count": 198,
   "id": "8a053fb0",
   "metadata": {},
   "outputs": [],
   "source": [
    "class A:\n",
    "    pass"
   ]
  },
  {
   "cell_type": "code",
   "execution_count": 204,
   "id": "c61c3563",
   "metadata": {},
   "outputs": [],
   "source": [
    "from moon_importPractice import x as ttt"
   ]
  },
  {
   "cell_type": "code",
   "execution_count": 205,
   "id": "720455a8",
   "metadata": {
    "collapsed": true
   },
   "outputs": [
    {
     "name": "stdout",
     "output_type": "stream",
     "text": [
      "Variable              Type                          Data/Info\n",
      "-------------------------------------------------------------\n",
      "A                     type                          <class '__main__.A'>\n",
      "B                     type                          <class '__main__.B'>\n",
      "Math                  type                          <class '__main__.Math'>\n",
      "T                     type                          <class '__main__.T'>\n",
      "X                     type                          <class '__main__.X'>\n",
      "a                     T                             <__main__.T object at 0x000002548B4F46D0>\n",
      "aa                    A                             <__main__.A object at 0x000002548B42B5E0>\n",
      "add                   builtin_function_or_method    <built-in function add>\n",
      "add2                  partial                       functools.partial(<built-in function add>, 2)\n",
      "b                     count                         count(4, 2)\n",
      "c                     zip_longest                   <itertools.zip_longest ob<...>ct at 0x000002548F6097C0>\n",
      "combinations          type                          <class 'itertools.combinations'>\n",
      "count                 type                          <class 'itertools.count'>\n",
      "cycle                 type                          <class 'itertools.cycle'>\n",
      "float                 type                          <class '__main__.float'>\n",
      "m                     module                        <module 'moon_importPract<...>\\moon_importPractice.py'>\n",
      "matplotlib            module                        <module 'matplotlib' from<...>matplotlib\\\\__init__.py'>\n",
      "moon                  module                        <module 'moon_importPract<...>\\moon_importPractice.py'>\n",
      "moon_importPractice   module                        <module 'moon_importPract<...>\\moon_importPractice.py'>\n",
      "partial               type                          <class 'functools.partial'>\n",
      "pd                    module                        <module 'pandas' from 'C:<...>es\\\\pandas\\\\__init__.py'>\n",
      "plt                   module                        <module 'matplotlib.pyplo<...>\\\\matplotlib\\\\pyplot.py'>\n",
      "sys                   module                        <module 'sys' (built-in)>\n",
      "t                     X                             <__main__.X object at 0x000002548B3551F0>\n",
      "ttt                   function                      <function x at 0x000002548F415F70>\n",
      "x                     int                           1\n",
      "y                     B                             <__main__.B object at 0x000002548B4E50A0>\n",
      "zip_longest           type                          <class 'itertools.zip_longest'>\n"
     ]
    }
   ],
   "source": [
    "%whos"
   ]
  },
  {
   "cell_type": "code",
   "execution_count": 206,
   "id": "dd5b34c6",
   "metadata": {},
   "outputs": [],
   "source": [
    "x = 1"
   ]
  },
  {
   "cell_type": "code",
   "execution_count": 207,
   "id": "e1a889ed",
   "metadata": {},
   "outputs": [
    {
     "data": {
      "text/plain": [
       "1"
      ]
     },
     "execution_count": 207,
     "metadata": {},
     "output_type": "execute_result"
    }
   ],
   "source": [
    "x"
   ]
  },
  {
   "cell_type": "markdown",
   "id": "04efdf70",
   "metadata": {},
   "source": [
    "# python 버전"
   ]
  },
  {
   "cell_type": "code",
   "execution_count": 208,
   "id": "b760a790",
   "metadata": {},
   "outputs": [],
   "source": [
    "import platform"
   ]
  },
  {
   "cell_type": "code",
   "execution_count": 209,
   "id": "fe0412b7",
   "metadata": {},
   "outputs": [
    {
     "data": {
      "text/plain": [
       "'3.9.7'"
      ]
     },
     "execution_count": 209,
     "metadata": {},
     "output_type": "execute_result"
    }
   ],
   "source": [
    "platform.python_version()"
   ]
  }
 ],
 "metadata": {
  "kernelspec": {
   "display_name": "Python 3 (ipykernel)",
   "language": "python",
   "name": "python3"
  },
  "language_info": {
   "codemirror_mode": {
    "name": "ipython",
    "version": 3
   },
   "file_extension": ".py",
   "mimetype": "text/x-python",
   "name": "python",
   "nbconvert_exporter": "python",
   "pygments_lexer": "ipython3",
   "version": "3.9.7"
  }
 },
 "nbformat": 4,
 "nbformat_minor": 5
}
