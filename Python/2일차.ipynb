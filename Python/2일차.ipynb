{
 "cells": [
  {
   "cell_type": "code",
   "execution_count": 1,
   "id": "31adeb60",
   "metadata": {},
   "outputs": [],
   "source": [
    "a = 1"
   ]
  },
  {
   "cell_type": "code",
   "execution_count": 2,
   "id": "f18283f2",
   "metadata": {
    "collapsed": true
   },
   "outputs": [
    {
     "data": {
      "text/plain": [
       "['__abs__',\n",
       " '__add__',\n",
       " '__and__',\n",
       " '__bool__',\n",
       " '__ceil__',\n",
       " '__class__',\n",
       " '__delattr__',\n",
       " '__dir__',\n",
       " '__divmod__',\n",
       " '__doc__',\n",
       " '__eq__',\n",
       " '__float__',\n",
       " '__floor__',\n",
       " '__floordiv__',\n",
       " '__format__',\n",
       " '__ge__',\n",
       " '__getattribute__',\n",
       " '__getnewargs__',\n",
       " '__gt__',\n",
       " '__hash__',\n",
       " '__index__',\n",
       " '__init__',\n",
       " '__init_subclass__',\n",
       " '__int__',\n",
       " '__invert__',\n",
       " '__le__',\n",
       " '__lshift__',\n",
       " '__lt__',\n",
       " '__mod__',\n",
       " '__mul__',\n",
       " '__ne__',\n",
       " '__neg__',\n",
       " '__new__',\n",
       " '__or__',\n",
       " '__pos__',\n",
       " '__pow__',\n",
       " '__radd__',\n",
       " '__rand__',\n",
       " '__rdivmod__',\n",
       " '__reduce__',\n",
       " '__reduce_ex__',\n",
       " '__repr__',\n",
       " '__rfloordiv__',\n",
       " '__rlshift__',\n",
       " '__rmod__',\n",
       " '__rmul__',\n",
       " '__ror__',\n",
       " '__round__',\n",
       " '__rpow__',\n",
       " '__rrshift__',\n",
       " '__rshift__',\n",
       " '__rsub__',\n",
       " '__rtruediv__',\n",
       " '__rxor__',\n",
       " '__setattr__',\n",
       " '__sizeof__',\n",
       " '__str__',\n",
       " '__sub__',\n",
       " '__subclasshook__',\n",
       " '__truediv__',\n",
       " '__trunc__',\n",
       " '__xor__',\n",
       " 'as_integer_ratio',\n",
       " 'bit_length',\n",
       " 'conjugate',\n",
       " 'denominator',\n",
       " 'from_bytes',\n",
       " 'imag',\n",
       " 'numerator',\n",
       " 'real',\n",
       " 'to_bytes']"
      ]
     },
     "execution_count": 2,
     "metadata": {},
     "output_type": "execute_result"
    }
   ],
   "source": [
    "dir(a)"
   ]
  },
  {
   "cell_type": "code",
   "execution_count": 3,
   "id": "ad44cdcf",
   "metadata": {},
   "outputs": [
    {
     "data": {
      "text/plain": [
       "<method-wrapper '__abs__' of int object at 0x0000026608376930>"
      ]
     },
     "execution_count": 3,
     "metadata": {},
     "output_type": "execute_result"
    }
   ],
   "source": [
    "a.__abs__"
   ]
  },
  {
   "cell_type": "code",
   "execution_count": 4,
   "id": "a08f9d03",
   "metadata": {},
   "outputs": [],
   "source": [
    "# \n",
    "a = [1,2,3]"
   ]
  },
  {
   "cell_type": "code",
   "execution_count": 6,
   "id": "67af2875",
   "metadata": {},
   "outputs": [
    {
     "name": "stdout",
     "output_type": "stream",
     "text": [
      "1\n",
      "2\n",
      "3\n"
     ]
    }
   ],
   "source": [
    "for i in a:\n",
    "    print(i)"
   ]
  },
  {
   "cell_type": "code",
   "execution_count": 23,
   "id": "67734571",
   "metadata": {},
   "outputs": [],
   "source": [
    "b = 1"
   ]
  },
  {
   "cell_type": "code",
   "execution_count": 24,
   "id": "6e9959f3",
   "metadata": {},
   "outputs": [
    {
     "ename": "TypeError",
     "evalue": "'int' object is not iterable",
     "output_type": "error",
     "traceback": [
      "\u001b[1;31m---------------------------------------------------------------------------\u001b[0m",
      "\u001b[1;31mTypeError\u001b[0m                                 Traceback (most recent call last)",
      "\u001b[1;32m~\\AppData\\Local\\Temp/ipykernel_35592/2474866317.py\u001b[0m in \u001b[0;36m<module>\u001b[1;34m\u001b[0m\n\u001b[1;32m----> 1\u001b[1;33m \u001b[1;32mfor\u001b[0m \u001b[0mi\u001b[0m \u001b[1;32min\u001b[0m \u001b[0mb\u001b[0m\u001b[1;33m:\u001b[0m\u001b[1;33m\u001b[0m\u001b[1;33m\u001b[0m\u001b[0m\n\u001b[0m\u001b[0;32m      2\u001b[0m     \u001b[0mprint\u001b[0m\u001b[1;33m(\u001b[0m\u001b[0mi\u001b[0m\u001b[1;33m)\u001b[0m\u001b[1;33m\u001b[0m\u001b[1;33m\u001b[0m\u001b[0m\n",
      "\u001b[1;31mTypeError\u001b[0m: 'int' object is not iterable"
     ]
    }
   ],
   "source": [
    "for i in b:\n",
    "    print(i)"
   ]
  },
  {
   "cell_type": "code",
   "execution_count": 14,
   "id": "4669fc5e",
   "metadata": {},
   "outputs": [],
   "source": [
    "class A:\n",
    "    pass"
   ]
  },
  {
   "cell_type": "code",
   "execution_count": 15,
   "id": "a8481835",
   "metadata": {},
   "outputs": [],
   "source": [
    "a = A()"
   ]
  },
  {
   "cell_type": "code",
   "execution_count": 16,
   "id": "7b0b70d5",
   "metadata": {},
   "outputs": [
    {
     "ename": "TypeError",
     "evalue": "'A' object is not iterable",
     "output_type": "error",
     "traceback": [
      "\u001b[1;31m---------------------------------------------------------------------------\u001b[0m",
      "\u001b[1;31mTypeError\u001b[0m                                 Traceback (most recent call last)",
      "\u001b[1;32m~\\AppData\\Local\\Temp/ipykernel_35592/3114545233.py\u001b[0m in \u001b[0;36m<module>\u001b[1;34m\u001b[0m\n\u001b[1;32m----> 1\u001b[1;33m \u001b[1;32mfor\u001b[0m \u001b[0mi\u001b[0m \u001b[1;32min\u001b[0m \u001b[0ma\u001b[0m\u001b[1;33m:\u001b[0m\u001b[1;33m\u001b[0m\u001b[1;33m\u001b[0m\u001b[0m\n\u001b[0m\u001b[0;32m      2\u001b[0m     \u001b[0mprint\u001b[0m\u001b[1;33m(\u001b[0m\u001b[0mi\u001b[0m\u001b[1;33m)\u001b[0m\u001b[1;33m\u001b[0m\u001b[1;33m\u001b[0m\u001b[0m\n",
      "\u001b[1;31mTypeError\u001b[0m: 'A' object is not iterable"
     ]
    }
   ],
   "source": [
    "for i in a:\n",
    "    print(i)"
   ]
  },
  {
   "cell_type": "code",
   "execution_count": 17,
   "id": "8f15dd23",
   "metadata": {},
   "outputs": [],
   "source": [
    "class A:\n",
    "    def __iter__(self, x):\n",
    "        return 1"
   ]
  },
  {
   "cell_type": "code",
   "execution_count": 18,
   "id": "9bf0548e",
   "metadata": {},
   "outputs": [],
   "source": [
    "a = A()"
   ]
  },
  {
   "cell_type": "code",
   "execution_count": 19,
   "id": "504da8b3",
   "metadata": {},
   "outputs": [
    {
     "ename": "TypeError",
     "evalue": "__iter__() missing 1 required positional argument: 'x'",
     "output_type": "error",
     "traceback": [
      "\u001b[1;31m---------------------------------------------------------------------------\u001b[0m",
      "\u001b[1;31mTypeError\u001b[0m                                 Traceback (most recent call last)",
      "\u001b[1;32m~\\AppData\\Local\\Temp/ipykernel_35592/3114545233.py\u001b[0m in \u001b[0;36m<module>\u001b[1;34m\u001b[0m\n\u001b[1;32m----> 1\u001b[1;33m \u001b[1;32mfor\u001b[0m \u001b[0mi\u001b[0m \u001b[1;32min\u001b[0m \u001b[0ma\u001b[0m\u001b[1;33m:\u001b[0m\u001b[1;33m\u001b[0m\u001b[1;33m\u001b[0m\u001b[0m\n\u001b[0m\u001b[0;32m      2\u001b[0m     \u001b[0mprint\u001b[0m\u001b[1;33m(\u001b[0m\u001b[0mi\u001b[0m\u001b[1;33m)\u001b[0m\u001b[1;33m\u001b[0m\u001b[1;33m\u001b[0m\u001b[0m\n",
      "\u001b[1;31mTypeError\u001b[0m: __iter__() missing 1 required positional argument: 'x'"
     ]
    }
   ],
   "source": [
    "for i in a:\n",
    "    print(i)"
   ]
  },
  {
   "cell_type": "code",
   "execution_count": 20,
   "id": "3d6187ae",
   "metadata": {},
   "outputs": [],
   "source": [
    "class A:\n",
    "    def __iter__(self):\n",
    "        return iter([1,2,3])"
   ]
  },
  {
   "cell_type": "code",
   "execution_count": 21,
   "id": "0bf41237",
   "metadata": {},
   "outputs": [],
   "source": [
    "a = A()"
   ]
  },
  {
   "cell_type": "code",
   "execution_count": 22,
   "id": "2879a81d",
   "metadata": {},
   "outputs": [
    {
     "name": "stdout",
     "output_type": "stream",
     "text": [
      "1\n",
      "2\n",
      "3\n"
     ]
    }
   ],
   "source": [
    "for i in a:\n",
    "    print(i)"
   ]
  },
  {
   "cell_type": "code",
   "execution_count": 25,
   "id": "2c035594",
   "metadata": {},
   "outputs": [
    {
     "data": {
      "text/plain": [
       "True"
      ]
     },
     "execution_count": 25,
     "metadata": {},
     "output_type": "execute_result"
    }
   ],
   "source": [
    "# 있는 없는지 체크하는 애들을 멤버십이라 해\n",
    "# in\n",
    "3 in [1,2,3]"
   ]
  },
  {
   "cell_type": "code",
   "execution_count": 26,
   "id": "47ad1167",
   "metadata": {},
   "outputs": [
    {
     "name": "stdout",
     "output_type": "stream",
     "text": [
      "Membership test operations\n",
      "**************************\n",
      "\n",
      "The operators \"in\" and \"not in\" test for membership.  \"x in s\"\n",
      "evaluates to \"True\" if *x* is a member of *s*, and \"False\" otherwise.\n",
      "\"x not in s\" returns the negation of \"x in s\".  All built-in sequences\n",
      "and set types support this as well as dictionary, for which \"in\" tests\n",
      "whether the dictionary has a given key. For container types such as\n",
      "list, tuple, set, frozenset, dict, or collections.deque, the\n",
      "expression \"x in y\" is equivalent to \"any(x is e or x == e for e in\n",
      "y)\".\n",
      "\n",
      "For the string and bytes types, \"x in y\" is \"True\" if and only if *x*\n",
      "is a substring of *y*.  An equivalent test is \"y.find(x) != -1\".\n",
      "Empty strings are always considered to be a substring of any other\n",
      "string, so \"\"\" in \"abc\"\" will return \"True\".\n",
      "\n",
      "For user-defined classes which define the \"__contains__()\" method, \"x\n",
      "in y\" returns \"True\" if \"y.__contains__(x)\" returns a true value, and\n",
      "\"False\" otherwise.\n",
      "\n",
      "For user-defined classes which do not define \"__contains__()\" but do\n",
      "define \"__iter__()\", \"x in y\" is \"True\" if some value \"z\", for which\n",
      "the expression \"x is z or x == z\" is true, is produced while iterating\n",
      "over \"y\". If an exception is raised during the iteration, it is as if\n",
      "\"in\" raised that exception.\n",
      "\n",
      "Lastly, the old-style iteration protocol is tried: if a class defines\n",
      "\"__getitem__()\", \"x in y\" is \"True\" if and only if there is a non-\n",
      "negative integer index *i* such that \"x is y[i] or x == y[i]\", and no\n",
      "lower integer index raises the \"IndexError\" exception.  (If any other\n",
      "exception is raised, it is as if \"in\" raised that exception).\n",
      "\n",
      "The operator \"not in\" is defined to have the inverse truth value of\n",
      "\"in\".\n",
      "\n",
      "Related help topics: SEQUENCEMETHODS\n",
      "\n"
     ]
    }
   ],
   "source": [
    "help('in')"
   ]
  },
  {
   "cell_type": "code",
   "execution_count": 27,
   "id": "6ced5d62",
   "metadata": {},
   "outputs": [
    {
     "data": {
      "text/plain": [
       "False"
      ]
     },
     "execution_count": 27,
     "metadata": {},
     "output_type": "execute_result"
    }
   ],
   "source": [
    "3 not in [1,2,3]"
   ]
  },
  {
   "cell_type": "code",
   "execution_count": 28,
   "id": "ed292160",
   "metadata": {},
   "outputs": [
    {
     "name": "stdout",
     "output_type": "stream",
     "text": [
      "T\n"
     ]
    }
   ],
   "source": [
    "a = 3\n",
    "\n",
    "if a==3 or a==4 or a==5:\n",
    "    print('T')"
   ]
  },
  {
   "cell_type": "code",
   "execution_count": 29,
   "id": "8372c2c9",
   "metadata": {},
   "outputs": [
    {
     "data": {
      "text/plain": [
       "True"
      ]
     },
     "execution_count": 29,
     "metadata": {},
     "output_type": "execute_result"
    }
   ],
   "source": [
    "a in [3,4,5]"
   ]
  },
  {
   "cell_type": "code",
   "execution_count": 30,
   "id": "33201cb7",
   "metadata": {},
   "outputs": [
    {
     "ename": "SyntaxError",
     "evalue": "invalid syntax (Temp/ipykernel_35592/3655750276.py, line 1)",
     "output_type": "error",
     "traceback": [
      "\u001b[1;36m  File \u001b[1;32m\"C:\\Users\\dlel2\\AppData\\Local\\Temp/ipykernel_35592/3655750276.py\"\u001b[1;36m, line \u001b[1;32m1\u001b[0m\n\u001b[1;33m    for i not in b:\u001b[0m\n\u001b[1;37m                  ^\u001b[0m\n\u001b[1;31mSyntaxError\u001b[0m\u001b[1;31m:\u001b[0m invalid syntax\n"
     ]
    }
   ],
   "source": [
    "for i not in b:\n",
    "    print(i)"
   ]
  },
  {
   "cell_type": "code",
   "execution_count": 31,
   "id": "ba9c54ce",
   "metadata": {},
   "outputs": [
    {
     "name": "stdout",
     "output_type": "stream",
     "text": [
      "a\n",
      "b\n",
      "c\n",
      "d\n"
     ]
    }
   ],
   "source": [
    "for i in 'abcd':\n",
    "    print(i)"
   ]
  },
  {
   "cell_type": "code",
   "execution_count": 32,
   "id": "361342fd",
   "metadata": {},
   "outputs": [],
   "source": [
    "# 이터레이터 이터러블\n"
   ]
  },
  {
   "cell_type": "code",
   "execution_count": 33,
   "id": "f35fd059",
   "metadata": {},
   "outputs": [],
   "source": [
    "b = 'abcd'"
   ]
  },
  {
   "cell_type": "code",
   "execution_count": 34,
   "id": "01a5c26d",
   "metadata": {},
   "outputs": [],
   "source": [
    "c = iter(b)"
   ]
  },
  {
   "cell_type": "code",
   "execution_count": 39,
   "id": "f909a9ff",
   "metadata": {},
   "outputs": [
    {
     "ename": "StopIteration",
     "evalue": "",
     "output_type": "error",
     "traceback": [
      "\u001b[1;31m---------------------------------------------------------------------------\u001b[0m",
      "\u001b[1;31mStopIteration\u001b[0m                             Traceback (most recent call last)",
      "\u001b[1;32m~\\AppData\\Local\\Temp/ipykernel_35592/1173204873.py\u001b[0m in \u001b[0;36m<module>\u001b[1;34m\u001b[0m\n\u001b[1;32m----> 1\u001b[1;33m \u001b[0mnext\u001b[0m\u001b[1;33m(\u001b[0m\u001b[0mc\u001b[0m\u001b[1;33m)\u001b[0m\u001b[1;33m\u001b[0m\u001b[1;33m\u001b[0m\u001b[0m\n\u001b[0m",
      "\u001b[1;31mStopIteration\u001b[0m: "
     ]
    }
   ],
   "source": [
    "next(c)"
   ]
  },
  {
   "cell_type": "markdown",
   "id": "b159fa58",
   "metadata": {},
   "source": [
    "이터러블이 for안에들어가면 이터레이터가 되고\\\n",
    "이터레이터는 하나씩하나씩 뽑아준다."
   ]
  },
  {
   "cell_type": "code",
   "execution_count": 42,
   "id": "7a57be6e",
   "metadata": {},
   "outputs": [],
   "source": [
    "def t():\n",
    "    for i in 'abcd':\n",
    "        print(i)"
   ]
  },
  {
   "cell_type": "code",
   "execution_count": 43,
   "id": "34b348fc",
   "metadata": {},
   "outputs": [],
   "source": [
    "import dis"
   ]
  },
  {
   "cell_type": "code",
   "execution_count": 44,
   "id": "50cf4384",
   "metadata": {},
   "outputs": [
    {
     "name": "stdout",
     "output_type": "stream",
     "text": [
      "  2           0 LOAD_CONST               1 ('abcd')\n",
      "              2 GET_ITER\n",
      "        >>    4 FOR_ITER                12 (to 18)\n",
      "              6 STORE_FAST               0 (i)\n",
      "\n",
      "  3           8 LOAD_GLOBAL              0 (print)\n",
      "             10 LOAD_FAST                0 (i)\n",
      "             12 CALL_FUNCTION            1\n",
      "             14 POP_TOP\n",
      "             16 JUMP_ABSOLUTE            4\n",
      "        >>   18 LOAD_CONST               0 (None)\n",
      "             20 RETURN_VALUE\n"
     ]
    }
   ],
   "source": [
    "dis.dis(t)"
   ]
  },
  {
   "cell_type": "code",
   "execution_count": 45,
   "id": "cf60a635",
   "metadata": {},
   "outputs": [
    {
     "data": {
      "text/plain": [
       "list['abcd']"
      ]
     },
     "execution_count": 45,
     "metadata": {},
     "output_type": "execute_result"
    }
   ],
   "source": [
    "list['abcd']"
   ]
  },
  {
   "cell_type": "code",
   "execution_count": null,
   "id": "ffcd6668",
   "metadata": {},
   "outputs": [],
   "source": [
    "a = [1,2,3 ]"
   ]
  },
  {
   "cell_type": "code",
   "execution_count": null,
   "id": "8c9140bf",
   "metadata": {},
   "outputs": [],
   "source": [
    "sum"
   ]
  },
  {
   "cell_type": "code",
   "execution_count": null,
   "id": "bc8e650f",
   "metadata": {},
   "outputs": [],
   "source": []
  },
  {
   "cell_type": "code",
   "execution_count": 47,
   "id": "5eddf1dc",
   "metadata": {
    "scrolled": true
   },
   "outputs": [
    {
     "name": "stdout",
     "output_type": "stream",
     "text": [
      "1\n",
      "2\n",
      "3\n",
      "4\n"
     ]
    }
   ],
   "source": [
    "afor i in 1,2,3,4:\n",
    "    print(i)"
   ]
  },
  {
   "cell_type": "markdown",
   "id": "3dd05bc4",
   "metadata": {},
   "source": [
    "- Iterable은 반복 가능한 객체를 말합니다. 즉, 내부 요소에 대해 반복할 수 있는 객체입니다.\n",
    "- Iterable 객체는 반드시 __iter__() 메서드를 구현해야하며, 해당 메서드는 Iterator 객체를 반환합니다\n",
    "- Iterator는 Iterable 객체에서 값을 차례로 가져오는 객체를 말합니다. Iterator 객체는 반드시 __next__() 메서드를 구현해야하며, 해당 메서드는 Iterator가 가리키는 다음 값을 반환합니다."
   ]
  },
  {
   "cell_type": "code",
   "execution_count": 51,
   "id": "719e4972",
   "metadata": {},
   "outputs": [
    {
     "name": "stdout",
     "output_type": "stream",
     "text": [
      "d\n"
     ]
    }
   ],
   "source": [
    "a = input()"
   ]
  },
  {
   "cell_type": "code",
   "execution_count": 52,
   "id": "2be39912",
   "metadata": {},
   "outputs": [
    {
     "ename": "ValueError",
     "evalue": "invalid literal for int() with base 10: 'd'",
     "output_type": "error",
     "traceback": [
      "\u001b[1;31m---------------------------------------------------------------------------\u001b[0m",
      "\u001b[1;31mValueError\u001b[0m                                Traceback (most recent call last)",
      "\u001b[1;32m~\\AppData\\Local\\Temp/ipykernel_35592/2519926233.py\u001b[0m in \u001b[0;36m<module>\u001b[1;34m\u001b[0m\n\u001b[1;32m----> 1\u001b[1;33m \u001b[0mb\u001b[0m \u001b[1;33m=\u001b[0m \u001b[0mint\u001b[0m\u001b[1;33m(\u001b[0m\u001b[0ma\u001b[0m\u001b[1;33m)\u001b[0m \u001b[1;33m+\u001b[0m \u001b[1;36m3\u001b[0m\u001b[1;33m\u001b[0m\u001b[1;33m\u001b[0m\u001b[0m\n\u001b[0m\u001b[0;32m      2\u001b[0m \u001b[0mb\u001b[0m\u001b[1;33m\u001b[0m\u001b[1;33m\u001b[0m\u001b[0m\n",
      "\u001b[1;31mValueError\u001b[0m: invalid literal for int() with base 10: 'd'"
     ]
    }
   ],
   "source": [
    "b = int(a) + 3\n",
    "b"
   ]
  },
  {
   "cell_type": "markdown",
   "id": "495b5cdf",
   "metadata": {},
   "source": [
    "# continue와 break"
   ]
  },
  {
   "cell_type": "code",
   "execution_count": 54,
   "id": "6a704456",
   "metadata": {},
   "outputs": [
    {
     "name": "stdout",
     "output_type": "stream",
     "text": [
      "0\n",
      "1\n",
      "2\n",
      "3\n",
      "4\n",
      "5\n",
      "6\n",
      "7\n",
      "8\n",
      "9\n",
      "end\n"
     ]
    }
   ],
   "source": [
    "for i in range(10):\n",
    "    print(i)\n",
    "else:\n",
    "    print('end')"
   ]
  },
  {
   "cell_type": "code",
   "execution_count": 53,
   "id": "c8bc7910",
   "metadata": {},
   "outputs": [],
   "source": [
    "for i in range(10):\n",
    "    if i==5:\n",
    "        break\n",
    "else:\n",
    "    print('end')"
   ]
  },
  {
   "cell_type": "code",
   "execution_count": 55,
   "id": "c585f3a5",
   "metadata": {},
   "outputs": [
    {
     "name": "stdout",
     "output_type": "stream",
     "text": [
      "end\n"
     ]
    }
   ],
   "source": [
    "for i in range(10):\n",
    "    if i==5:\n",
    "        continue\n",
    "else:\n",
    "    print('end')"
   ]
  },
  {
   "cell_type": "code",
   "execution_count": null,
   "id": "417889ba",
   "metadata": {},
   "outputs": [],
   "source": [
    "# else는\n",
    "# 조건문과 반복분, 예외처리\n",
    "# 총 세가지 경우에 쓸 수 있다\n",
    "\n",
    "# break를 쓰면 else는 돌아가지 않는다\n",
    "# continue를 쓰면 else가 돌아간다"
   ]
  },
  {
   "cell_type": "code",
   "execution_count": 61,
   "id": "748961ca",
   "metadata": {},
   "outputs": [
    {
     "name": "stdout",
     "output_type": "stream",
     "text": [
      "end\n"
     ]
    }
   ],
   "source": [
    "# 반복문을 돌지 않아도\n",
    "# end가 찍힌다!!!!!\n",
    "\n",
    "a = 4\n",
    "while a>5:\n",
    "    print(a)\n",
    "    a = a-1\n",
    "else:\n",
    "    print('end')"
   ]
  },
  {
   "cell_type": "code",
   "execution_count": null,
   "id": "6dde7848",
   "metadata": {},
   "outputs": [],
   "source": [
    "# assignment\n",
    "a = 1\n",
    "a += 1\n",
    "a = b = 1\n",
    "a = b = [1,2,3]\n",
    "a[0] = 5\n",
    "b\n",
    "a, b = 1, 2 # 이건 사실 튜플이다!!!!!!!!! 2,3 -> (2,3)\n",
    "a, b = (2,3) # unpack\n",
    "# a, b = (2,3,4) # unpack 에러 = valueError\n",
    "a, *b, c = 1,2,3,4,5 # b는 list이다....!!!!!!!!"
   ]
  },
  {
   "cell_type": "code",
   "execution_count": 66,
   "id": "4d6c99dc",
   "metadata": {},
   "outputs": [],
   "source": [
    "a, *b, c = 1,2,3,4"
   ]
  },
  {
   "cell_type": "code",
   "execution_count": 67,
   "id": "df8dbcc2",
   "metadata": {},
   "outputs": [
    {
     "data": {
      "text/plain": [
       "[2, 3]"
      ]
     },
     "execution_count": 67,
     "metadata": {},
     "output_type": "execute_result"
    }
   ],
   "source": [
    "b"
   ]
  },
  {
   "cell_type": "code",
   "execution_count": 71,
   "id": "b521dc5b",
   "metadata": {},
   "outputs": [],
   "source": [
    "b = (1,2,3,4,5) # 튜플로들어감"
   ]
  },
  {
   "cell_type": "code",
   "execution_count": 69,
   "id": "692a23b4",
   "metadata": {},
   "outputs": [],
   "source": [
    "*b, = (1,2,3,4,5) # 리스트로 들어감"
   ]
  },
  {
   "cell_type": "code",
   "execution_count": 72,
   "id": "9ec53733",
   "metadata": {},
   "outputs": [
    {
     "data": {
      "text/plain": [
       "(1, 2, 3, 4, 5)"
      ]
     },
     "execution_count": 72,
     "metadata": {},
     "output_type": "execute_result"
    }
   ],
   "source": [
    "b"
   ]
  },
  {
   "cell_type": "markdown",
   "id": "a917edc5",
   "metadata": {},
   "source": [
    "# 예외처리\n",
    "- assert\n",
    "- else\n",
    "- except\n",
    "- finally\n",
    "- raise\n",
    "- try"
   ]
  },
  {
   "cell_type": "code",
   "execution_count": 78,
   "id": "9de1a7db",
   "metadata": {},
   "outputs": [
    {
     "name": "stdout",
     "output_type": "stream",
     "text": [
      "try\n",
      "b\n",
      "final\n"
     ]
    }
   ],
   "source": [
    "try:\n",
    "#     b = 1/0 # 에러가 나는 경우\n",
    "    b = 1\n",
    "    print('try')\n",
    "except:\n",
    "    print('a')\n",
    "else:\n",
    "    print('b')\n",
    "finally:     # 에러가 나든말든 무조건 실행된다.\n",
    "    print('final')"
   ]
  },
  {
   "cell_type": "markdown",
   "id": "8daf4f5e",
   "metadata": {},
   "source": [
    "# 함수 (function)"
   ]
  },
  {
   "cell_type": "code",
   "execution_count": null,
   "id": "98408f37",
   "metadata": {},
   "outputs": [],
   "source": [
    "# assignment\n",
    "# 그냥 이름을 정하는 것\n",
    "\n",
    "# binding"
   ]
  },
  {
   "cell_type": "markdown",
   "id": "a108f2ed",
   "metadata": {},
   "source": [
    "## declaration (선언)\n",
    "## definition (정의)\n",
    "- 얘네 둘은 반복되는 행위를 정하는 것\n",
    "- 실제 프로그래밍 할 때 함수만 가지고도 프로그래밍하는 방법이 있고\n",
    "- 그것을 함수패러다임이라고 한다.\\\n",
    "\\\\\n",
    "- 파이썬은 기본적으로 객체 지향 프로그래밍 언어"
   ]
  },
  {
   "cell_type": "markdown",
   "id": "cd6eb20b",
   "metadata": {},
   "source": [
    "- snake : moon_beauty (function)\n",
    "- camel : moonBeauty\n",
    "- caps / pascal : MoonBeauty <- python에서는 이 방식을 camel이라고도 한다.(class)"
   ]
  },
  {
   "cell_type": "markdown",
   "id": "0f0297cc",
   "metadata": {},
   "source": [
    "## 매개변수 파라미터 5가지 있다.\n",
    "## 인자 argument의 차이"
   ]
  },
  {
   "cell_type": "code",
   "execution_count": 82,
   "id": "9d23fc35",
   "metadata": {},
   "outputs": [],
   "source": [
    "def a_b(x): #-> parameter\n",
    "    print(x)"
   ]
  },
  {
   "cell_type": "code",
   "execution_count": 83,
   "id": "04b268f2",
   "metadata": {},
   "outputs": [
    {
     "name": "stdout",
     "output_type": "stream",
     "text": [
      "3\n"
     ]
    }
   ],
   "source": [
    "a_b(3) # -> argument\n",
    "# print된 3 옆에 out 없다 -> 이건 return이 없는 것이다 그냥 함수자체에서 출력되기만 한 것임."
   ]
  },
  {
   "cell_type": "markdown",
   "id": "2f744f8d",
   "metadata": {},
   "source": [
    "함수를 구분할 때는\\\n",
    "이름과 매개변수의 조합 = 시그니처를 본다"
   ]
  },
  {
   "cell_type": "markdown",
   "id": "a0c93301",
   "metadata": {},
   "source": [
    "- class\n",
    "- def"
   ]
  },
  {
   "cell_type": "markdown",
   "id": "f3139351",
   "metadata": {},
   "source": [
    "# positional / keyword\n",
    "\n",
    "- function overload를 기본적으로 지원하지 않음\n",
    "- 대신 default값을 지원해준다.\n",
    "- keyword 방식의 장점\n",
    "    - "
   ]
  },
  {
   "cell_type": "code",
   "execution_count": 85,
   "id": "2a78c614",
   "metadata": {},
   "outputs": [],
   "source": [
    "def a_b(x,y):\n",
    "    return x+y"
   ]
  },
  {
   "cell_type": "code",
   "execution_count": 86,
   "id": "e37d40ad",
   "metadata": {},
   "outputs": [
    {
     "data": {
      "text/plain": [
       "7"
      ]
     },
     "execution_count": 86,
     "metadata": {},
     "output_type": "execute_result"
    }
   ],
   "source": [
    "# positional 방식\n",
    "a_b(3,4)"
   ]
  },
  {
   "cell_type": "code",
   "execution_count": 87,
   "id": "4ecf708f",
   "metadata": {},
   "outputs": [
    {
     "data": {
      "text/plain": [
       "7"
      ]
     },
     "execution_count": 87,
     "metadata": {},
     "output_type": "execute_result"
    }
   ],
   "source": [
    "# keyword 방식\n",
    "a_b(x=3, y=4)"
   ]
  },
  {
   "cell_type": "code",
   "execution_count": 88,
   "id": "183950f8",
   "metadata": {},
   "outputs": [],
   "source": [
    "def a_b(x, y=4): # function overload를 지원하지 않는 대신 default 값을 지원해준다.\n",
    "    return x+y"
   ]
  },
  {
   "cell_type": "code",
   "execution_count": 89,
   "id": "2e4c61b5",
   "metadata": {},
   "outputs": [
    {
     "ename": "SyntaxError",
     "evalue": "non-default argument follows default argument (Temp/ipykernel_35592/22829844.py, line 1)",
     "output_type": "error",
     "traceback": [
      "\u001b[1;36m  File \u001b[1;32m\"C:\\Users\\dlel2\\AppData\\Local\\Temp/ipykernel_35592/22829844.py\"\u001b[1;36m, line \u001b[1;32m1\u001b[0m\n\u001b[1;33m    def a_b(x=4, y):\u001b[0m\n\u001b[1;37m                  ^\u001b[0m\n\u001b[1;31mSyntaxError\u001b[0m\u001b[1;31m:\u001b[0m non-default argument follows default argument\n"
     ]
    }
   ],
   "source": [
    "def a_b(x=4, y): # default값은 뒤에서부터 지정해야한다. 앞에 넣어주면 에러가 난다\n",
    "    return x+y"
   ]
  },
  {
   "cell_type": "code",
   "execution_count": 90,
   "id": "1d15c84c",
   "metadata": {},
   "outputs": [],
   "source": [
    "import matplotlib.pyplot as plt"
   ]
  },
  {
   "cell_type": "code",
   "execution_count": null,
   "id": "ad2022ac",
   "metadata": {},
   "outputs": [],
   "source": [
    "# keyword 방식이 있기 때문에\n",
    "# 내가 필요한 부분만 default가 아닌\n",
    "# 다른 값으로 지정할 수가 있게 된다.\n",
    "plt.hist"
   ]
  },
  {
   "cell_type": "code",
   "execution_count": 91,
   "id": "1c0b09fb",
   "metadata": {},
   "outputs": [],
   "source": [
    "def a_b(x, y=2, z=3):\n",
    "    return x+y+z"
   ]
  },
  {
   "cell_type": "code",
   "execution_count": 92,
   "id": "9b7d1e6d",
   "metadata": {},
   "outputs": [
    {
     "ename": "SyntaxError",
     "evalue": "positional argument follows keyword argument (Temp/ipykernel_35592/2188417760.py, line 1)",
     "output_type": "error",
     "traceback": [
      "\u001b[1;36m  File \u001b[1;32m\"C:\\Users\\dlel2\\AppData\\Local\\Temp/ipykernel_35592/2188417760.py\"\u001b[1;36m, line \u001b[1;32m1\u001b[0m\n\u001b[1;33m    a_b(3, y=4, 5)\u001b[0m\n\u001b[1;37m                 ^\u001b[0m\n\u001b[1;31mSyntaxError\u001b[0m\u001b[1;31m:\u001b[0m positional argument follows keyword argument\n"
     ]
    }
   ],
   "source": [
    "# 에러가 난다\n",
    "# 한번 키워드 방식 사용하면 끝까지 키워드 방식 사용해야한다\n",
    "# 포지션 방식을 혼용해서 사용할 수 없다.\n",
    "a_b(3, y=4, 5)"
   ]
  },
  {
   "cell_type": "code",
   "execution_count": 94,
   "id": "5c1d2a10",
   "metadata": {},
   "outputs": [
    {
     "ename": "TypeError",
     "evalue": "len() takes no keyword arguments",
     "output_type": "error",
     "traceback": [
      "\u001b[1;31m---------------------------------------------------------------------------\u001b[0m",
      "\u001b[1;31mTypeError\u001b[0m                                 Traceback (most recent call last)",
      "\u001b[1;32m~\\AppData\\Local\\Temp/ipykernel_35592/1149705556.py\u001b[0m in \u001b[0;36m<module>\u001b[1;34m\u001b[0m\n\u001b[1;32m----> 1\u001b[1;33m \u001b[0mlen\u001b[0m\u001b[1;33m(\u001b[0m\u001b[0ma\u001b[0m \u001b[1;33m=\u001b[0m \u001b[1;33m[\u001b[0m\u001b[1;36m1\u001b[0m\u001b[1;33m,\u001b[0m\u001b[1;36m2\u001b[0m\u001b[1;33m,\u001b[0m\u001b[1;36m3\u001b[0m\u001b[1;33m]\u001b[0m\u001b[1;33m)\u001b[0m\u001b[1;33m\u001b[0m\u001b[1;33m\u001b[0m\u001b[0m\n\u001b[0m",
      "\u001b[1;31mTypeError\u001b[0m: len() takes no keyword arguments"
     ]
    }
   ],
   "source": [
    "# len 하고 shift+tab 누르면 설명이 나오는데\n",
    "# len(obj, /)\n",
    "# / : 무조건 positional방식 써야한다.\n",
    "# 키워드 방식쓰면 에러난다\n",
    "len(a = [1,2,3])"
   ]
  },
  {
   "cell_type": "markdown",
   "id": "a33daaa3",
   "metadata": {},
   "source": [
    "- / : positional 방식만 사용가능\n",
    "- \\* : keyword 방식만 사용가능"
   ]
  },
  {
   "cell_type": "code",
   "execution_count": 95,
   "id": "f49a88be",
   "metadata": {},
   "outputs": [],
   "source": [
    "def x(a, *, b):\n",
    "    return a+b"
   ]
  },
  {
   "cell_type": "code",
   "execution_count": 99,
   "id": "4bedc997",
   "metadata": {},
   "outputs": [
    {
     "data": {
      "text/plain": [
       "7"
      ]
     },
     "execution_count": 99,
     "metadata": {},
     "output_type": "execute_result"
    }
   ],
   "source": [
    "# x(3, *, 4) 에러남\n",
    "# x(3, 4) 에러남\n",
    "x(3, b=4)"
   ]
  },
  {
   "cell_type": "code",
   "execution_count": 100,
   "id": "6c6a35f4",
   "metadata": {},
   "outputs": [],
   "source": [
    "# 가변수\n",
    "def b(*a):\n",
    "    return a"
   ]
  },
  {
   "cell_type": "code",
   "execution_count": 101,
   "id": "d26a403a",
   "metadata": {},
   "outputs": [
    {
     "data": {
      "text/plain": [
       "()"
      ]
     },
     "execution_count": 101,
     "metadata": {},
     "output_type": "execute_result"
    }
   ],
   "source": [
    "# 튜플이 나오네?\n",
    "b()"
   ]
  },
  {
   "cell_type": "code",
   "execution_count": 102,
   "id": "1b3aae34",
   "metadata": {},
   "outputs": [
    {
     "data": {
      "text/plain": [
       "(1,)"
      ]
     },
     "execution_count": 102,
     "metadata": {},
     "output_type": "execute_result"
    }
   ],
   "source": [
    "b(1,)"
   ]
  },
  {
   "cell_type": "code",
   "execution_count": 103,
   "id": "d8ef8e08",
   "metadata": {},
   "outputs": [
    {
     "data": {
      "text/plain": [
       "(1, 2, 324, 234, 2, 2)"
      ]
     },
     "execution_count": 103,
     "metadata": {},
     "output_type": "execute_result"
    }
   ],
   "source": [
    "b(1,2,324,234,2,2,)"
   ]
  },
  {
   "cell_type": "code",
   "execution_count": 104,
   "id": "94ffca0d",
   "metadata": {},
   "outputs": [],
   "source": [
    "# 별표가 2개면???\n",
    "def b(**a):\n",
    "    return a"
   ]
  },
  {
   "cell_type": "code",
   "execution_count": 105,
   "id": "c2f4bbb7",
   "metadata": {},
   "outputs": [
    {
     "data": {
      "text/plain": [
       "{}"
      ]
     },
     "execution_count": 105,
     "metadata": {},
     "output_type": "execute_result"
    }
   ],
   "source": [
    "# 얘는 딕셔너리류 나오네?\n",
    "b()"
   ]
  },
  {
   "cell_type": "code",
   "execution_count": 106,
   "id": "c22df589",
   "metadata": {},
   "outputs": [
    {
     "data": {
      "text/plain": [
       "{'a': 1}"
      ]
     },
     "execution_count": 106,
     "metadata": {},
     "output_type": "execute_result"
    }
   ],
   "source": [
    "# 와............\n",
    "b(a=1)"
   ]
  },
  {
   "cell_type": "markdown",
   "id": "f7f1d82b",
   "metadata": {},
   "source": [
    "def에 별을 넣어보자"
   ]
  },
  {
   "cell_type": "code",
   "execution_count": 107,
   "id": "44957faa",
   "metadata": {},
   "outputs": [],
   "source": [
    "def b(*a):\n",
    "    return a"
   ]
  },
  {
   "cell_type": "markdown",
   "id": "ae2fb5f0",
   "metadata": {},
   "source": [
    "리스트를 넣으면?"
   ]
  },
  {
   "cell_type": "code",
   "execution_count": 108,
   "id": "8d6432b0",
   "metadata": {},
   "outputs": [],
   "source": [
    "x = [1,2,3,4,5]"
   ]
  },
  {
   "cell_type": "code",
   "execution_count": 109,
   "id": "690023ba",
   "metadata": {},
   "outputs": [
    {
     "data": {
      "text/plain": [
       "([1, 2, 3, 4, 5],)"
      ]
     },
     "execution_count": 109,
     "metadata": {},
     "output_type": "execute_result"
    }
   ],
   "source": [
    "# 리스트가 하나로 퉁하고 들어간다\n",
    "# 근데 난 하나씩 넣고 싶으면?\n",
    "b(x)"
   ]
  },
  {
   "cell_type": "code",
   "execution_count": 110,
   "id": "7fa2d202",
   "metadata": {},
   "outputs": [
    {
     "data": {
      "text/plain": [
       "(1, 2, 3, 4, 5)"
      ]
     },
     "execution_count": 110,
     "metadata": {},
     "output_type": "execute_result"
    }
   ],
   "source": [
    "# x라는 argument앞에 *를 붙이면 된다!!!!!\n",
    "# 미친!!!!\n",
    "b(*x)"
   ]
  },
  {
   "cell_type": "markdown",
   "id": "7204472a",
   "metadata": {},
   "source": [
    "그럼 딕셔너리일 때는?"
   ]
  },
  {
   "cell_type": "code",
   "execution_count": 120,
   "id": "52ba3ff1",
   "metadata": {},
   "outputs": [],
   "source": [
    "x = {'a':1, 'b':2}"
   ]
  },
  {
   "cell_type": "code",
   "execution_count": 117,
   "id": "a8c0b22c",
   "metadata": {},
   "outputs": [
    {
     "data": {
      "text/plain": [
       "({'a': 1, 'b': 2},)"
      ]
     },
     "execution_count": 117,
     "metadata": {},
     "output_type": "execute_result"
    }
   ],
   "source": [
    "# 딕셔너리 전체가 한개로 퉁하고 들어간다\n",
    "b(x)"
   ]
  },
  {
   "cell_type": "code",
   "execution_count": 118,
   "id": "e85dc203",
   "metadata": {},
   "outputs": [
    {
     "data": {
      "text/plain": [
       "('a', 'b')"
      ]
     },
     "execution_count": 118,
     "metadata": {},
     "output_type": "execute_result"
    }
   ],
   "source": [
    "# key만 들어간다\n",
    "b(*x)"
   ]
  },
  {
   "cell_type": "code",
   "execution_count": 122,
   "id": "1797af4a",
   "metadata": {},
   "outputs": [],
   "source": [
    "def b(**a):\n",
    "    return a"
   ]
  },
  {
   "cell_type": "code",
   "execution_count": 123,
   "id": "318867d8",
   "metadata": {},
   "outputs": [
    {
     "data": {
      "text/plain": [
       "{'a': 1, 'b': 2}"
      ]
     },
     "execution_count": 123,
     "metadata": {},
     "output_type": "execute_result"
    }
   ],
   "source": [
    "b(**x)"
   ]
  },
  {
   "cell_type": "code",
   "execution_count": 124,
   "id": "9e34e586",
   "metadata": {},
   "outputs": [],
   "source": [
    "x = {'a':1, 'b':2}\n",
    "y = {'c':3, 'a':2}"
   ]
  },
  {
   "cell_type": "code",
   "execution_count": 125,
   "id": "d4377c9b",
   "metadata": {},
   "outputs": [
    {
     "data": {
      "text/plain": [
       "{'a': 2, 'b': 2, 'c': 3}"
      ]
     },
     "execution_count": 125,
     "metadata": {},
     "output_type": "execute_result"
    }
   ],
   "source": [
    "# hash이기 때문에\n",
    "# 똑같은게 존재할 수 없기 떄문에\n",
    "# 마지막에 나온걸로 덮어버린다\n",
    "\n",
    "{**x, **y}"
   ]
  },
  {
   "cell_type": "code",
   "execution_count": 136,
   "id": "811ff6f3",
   "metadata": {},
   "outputs": [
    {
     "data": {
      "text/plain": [
       "(array([3., 0., 1., 0., 0., 1., 0., 1., 0., 1.]),\n",
       " array([1. , 1.4, 1.8, 2.2, 2.6, 3. , 3.4, 3.8, 4.2, 4.6, 5. ]),\n",
       " <BarContainer object of 10 artists>)"
      ]
     },
     "execution_count": 136,
     "metadata": {},
     "output_type": "execute_result"
    },
    {
     "data": {
      "image/png": "[encoded data removed]",
      "text/plain": [
       "<Figure size 432x288 with 1 Axes>"
      ]
     },
     "metadata": {
      "needs_background": "light"
     },
     "output_type": "display_data"
    }
   ],
   "source": [
    "plt.hist([1,2,1,3,1,5,4], color='pink', rwidth=1)"
   ]
  },
  {
   "cell_type": "code",
   "execution_count": 140,
   "id": "8d8daf1a",
   "metadata": {},
   "outputs": [
    {
     "data": {
      "text/plain": [
       "[<matplotlib.lines.Line2D at 0x26612cebdf0>]"
      ]
     },
     "execution_count": 140,
     "metadata": {},
     "output_type": "execute_result"
    },
    {
     "data": {
      "image/png": "[encoded data removed]",
      "text/plain": [
       "<Figure size 432x288 with 1 Axes>"
      ]
     },
     "metadata": {
      "needs_background": "light"
     },
     "output_type": "display_data"
    }
   ],
   "source": [
    "plt.plot([1,2,3,4], [4,5,6,7])"
   ]
  },
  {
   "cell_type": "code",
   "execution_count": 143,
   "id": "3d0f15dc",
   "metadata": {},
   "outputs": [
    {
     "data": {
      "text/plain": [
       "[<matplotlib.lines.Line2D at 0x26612e3ff10>]"
      ]
     },
     "execution_count": 143,
     "metadata": {},
     "output_type": "execute_result"
    },
    {
     "data": {
      "image/png": "[encoded data removed]",
      "text/plain": [
       "<Figure size 432x288 with 1 Axes>"
      ]
     },
     "metadata": {
      "needs_background": "light"
     },
     "output_type": "display_data"
    }
   ],
   "source": [
    "plt.plot([1,2,3], [7,9,9], color='pink')"
   ]
  },
  {
   "cell_type": "markdown",
   "id": "934132a6",
   "metadata": {},
   "source": [
    "- []는 옵션이다\n",
    "- *\n",
    "- **\n",
    "- /"
   ]
  },
  {
   "cell_type": "code",
   "execution_count": 145,
   "id": "c21c5e15",
   "metadata": {},
   "outputs": [
    {
     "data": {
      "text/plain": [
       "<function matplotlib.pyplot.bar(x, height, width=0.8, bottom=None, *, align='center', data=None, **kwargs)>"
      ]
     },
     "execution_count": 145,
     "metadata": {},
     "output_type": "execute_result"
    }
   ],
   "source": [
    "plt.bar\n",
    "# 그림이 아니라 아래 글이 out이고\n",
    "# 그림은 그냥 print되는 것이다."
   ]
  },
  {
   "cell_type": "markdown",
   "id": "146ae07d",
   "metadata": {},
   "source": [
    "클래스에 정의된 함수를 메소드라 하자."
   ]
  },
  {
   "cell_type": "code",
   "execution_count": 155,
   "id": "ba11cf6b",
   "metadata": {},
   "outputs": [],
   "source": [
    "a = [1,2,3]"
   ]
  },
  {
   "cell_type": "code",
   "execution_count": 157,
   "id": "26c7d155",
   "metadata": {},
   "outputs": [
    {
     "data": {
      "text/plain": [
       "1"
      ]
     },
     "execution_count": 157,
     "metadata": {},
     "output_type": "execute_result"
    }
   ],
   "source": [
    "# 1이 한개\n",
    "a.count(1)"
   ]
  },
  {
   "cell_type": "code",
   "execution_count": 158,
   "id": "e2370e10",
   "metadata": {
    "collapsed": true
   },
   "outputs": [
    {
     "data": {
      "text/plain": [
       "['__add__',\n",
       " '__class__',\n",
       " '__class_getitem__',\n",
       " '__contains__',\n",
       " '__delattr__',\n",
       " '__delitem__',\n",
       " '__dir__',\n",
       " '__doc__',\n",
       " '__eq__',\n",
       " '__format__',\n",
       " '__ge__',\n",
       " '__getattribute__',\n",
       " '__getitem__',\n",
       " '__gt__',\n",
       " '__hash__',\n",
       " '__iadd__',\n",
       " '__imul__',\n",
       " '__init__',\n",
       " '__init_subclass__',\n",
       " '__iter__',\n",
       " '__le__',\n",
       " '__len__',\n",
       " '__lt__',\n",
       " '__mul__',\n",
       " '__ne__',\n",
       " '__new__',\n",
       " '__reduce__',\n",
       " '__reduce_ex__',\n",
       " '__repr__',\n",
       " '__reversed__',\n",
       " '__rmul__',\n",
       " '__setattr__',\n",
       " '__setitem__',\n",
       " '__sizeof__',\n",
       " '__str__',\n",
       " '__subclasshook__',\n",
       " 'append',\n",
       " 'clear',\n",
       " 'copy',\n",
       " 'count',\n",
       " 'extend',\n",
       " 'index',\n",
       " 'insert',\n",
       " 'pop',\n",
       " 'remove',\n",
       " 'reverse',\n",
       " 'sort']"
      ]
     },
     "execution_count": 158,
     "metadata": {},
     "output_type": "execute_result"
    }
   ],
   "source": [
    "dir(a)"
   ]
  },
  {
   "cell_type": "code",
   "execution_count": 159,
   "id": "a5c812f5",
   "metadata": {},
   "outputs": [],
   "source": [
    "a = [1,1,1]"
   ]
  },
  {
   "cell_type": "code",
   "execution_count": 160,
   "id": "4f129e2f",
   "metadata": {},
   "outputs": [
    {
     "data": {
      "text/plain": [
       "3"
      ]
     },
     "execution_count": 160,
     "metadata": {},
     "output_type": "execute_result"
    }
   ],
   "source": [
    "# 1이 3개\n",
    "a.count(1)"
   ]
  },
  {
   "cell_type": "code",
   "execution_count": 161,
   "id": "e7ace7d6",
   "metadata": {},
   "outputs": [],
   "source": [
    "a = [1,1,1,2,3,4]"
   ]
  },
  {
   "cell_type": "code",
   "execution_count": 164,
   "id": "b9d87896",
   "metadata": {},
   "outputs": [
    {
     "data": {
      "text/plain": [
       "0"
      ]
     },
     "execution_count": 164,
     "metadata": {},
     "output_type": "execute_result"
    }
   ],
   "source": [
    "# 파라미터로 들어온게 처음으로 몇번째 나오는지 알려준다\n",
    "a.index(1)"
   ]
  },
  {
   "cell_type": "code",
   "execution_count": 165,
   "id": "c1240d01",
   "metadata": {},
   "outputs": [],
   "source": [
    "a.append(4)\n",
    "# return값이 없다!!!!!!!!!!!!!!!!!!!!\n",
    "# 근데 원결과가 바꼈어...\n",
    "# 골치 아픈 문제지"
   ]
  },
  {
   "cell_type": "code",
   "execution_count": 166,
   "id": "b135c252",
   "metadata": {},
   "outputs": [
    {
     "data": {
      "text/plain": [
       "[1, 1, 1, 2, 3, 4, 4]"
      ]
     },
     "execution_count": 166,
     "metadata": {},
     "output_type": "execute_result"
    }
   ],
   "source": [
    "a"
   ]
  },
  {
   "cell_type": "code",
   "execution_count": 167,
   "id": "9b699386",
   "metadata": {},
   "outputs": [
    {
     "data": {
      "text/plain": [
       "4"
      ]
     },
     "execution_count": 167,
     "metadata": {},
     "output_type": "execute_result"
    }
   ],
   "source": [
    "# 얘는 return도 있고\n",
    "# 원값도 변해\n",
    "# 골치아프지\n",
    "a.pop()"
   ]
  },
  {
   "cell_type": "code",
   "execution_count": 168,
   "id": "44a4cf90",
   "metadata": {},
   "outputs": [
    {
     "data": {
      "text/plain": [
       "[1, 1, 1, 2, 3, 4]"
      ]
     },
     "execution_count": 168,
     "metadata": {},
     "output_type": "execute_result"
    }
   ],
   "source": [
    "a"
   ]
  },
  {
   "cell_type": "markdown",
   "id": "1a90476f",
   "metadata": {},
   "source": [
    "- return 값이 있고, 원값이 변하지 않을 때\n",
    "- return 값이 없고, 원값이 변할 때\n",
    "- return 값이 있고, 원값이 변할 때"
   ]
  },
  {
   "cell_type": "code",
   "execution_count": null,
   "id": "be535723",
   "metadata": {},
   "outputs": [],
   "source": [
    "ㅇㄹㄴㅇㅁㄹㄴㅇ/ㅣ라ㅓㅁ"
   ]
  },
  {
   "cell_type": "code",
   "execution_count": null,
   "id": "49bbd734",
   "metadata": {},
   "outputs": [],
   "source": []
  }
 ],
 "metadata": {
  "kernelspec": {
   "display_name": "Python 3 (ipykernel)",
   "language": "python",
   "name": "python3"
  },
  "language_info": {
   "codemirror_mode": {
    "name": "ipython",
    "version": 3
   },
   "file_extension": ".py",
   "mimetype": "text/x-python",
   "name": "python",
   "nbconvert_exporter": "python",
   "pygments_lexer": "ipython3",
   "version": "3.9.7"
  }
 },
 "nbformat": 4,
 "nbformat_minor": 5
}
