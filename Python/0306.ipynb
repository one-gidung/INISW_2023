{
 "cells": [
  {
   "cell_type": "markdown",
   "id": "49012818",
   "metadata": {},
   "source": [
    "함수형 패러다임은 이론적 근거가 수학이다\\\n",
    "함수는 first class이다.\\\n",
    "함수는 우변에 올 수 있다. -> 왜냐 값처럼 만들었기 때문에\\\n",
    "higher-order function\\\n",
    "함수를 인자 / 함수를 리턴값을\\\n",
    "꼬리 재귀(tail-recursion elimination)\\\n",
    "보통 함수형 패러다임 할 때 DP쓰는데 파이썬에서는 잘 안 쓴다...\\"
   ]
  },
  {
   "cell_type": "code",
   "execution_count": 1,
   "id": "153000a6",
   "metadata": {},
   "outputs": [],
   "source": [
    "a = print"
   ]
  },
  {
   "cell_type": "code",
   "execution_count": 2,
   "id": "398b13e7",
   "metadata": {},
   "outputs": [
    {
     "name": "stdout",
     "output_type": "stream",
     "text": [
      "한소희\n"
     ]
    }
   ],
   "source": [
    "a('한소희')"
   ]
  },
  {
   "cell_type": "code",
   "execution_count": 3,
   "id": "0efd4ad6",
   "metadata": {},
   "outputs": [],
   "source": [
    "# Q. 이게 함수냐 아니냐?\n",
    "# A. 아니다.\n",
    "def x():\n",
    "    return 1"
   ]
  },
  {
   "cell_type": "code",
   "execution_count": 4,
   "id": "304ee108",
   "metadata": {},
   "outputs": [],
   "source": [
    "# Q. 얘는 그럼 수학적 함수일까 아닐까?\n",
    "# A. 아니다.\n",
    "def x(a):\n",
    "    print(a)"
   ]
  },
  {
   "cell_type": "markdown",
   "id": "2ef5731f",
   "metadata": {},
   "source": [
    "# Encapsulation\n",
    "- 함수도 이름(시그니처)로 감싼다고 해서 캡슐화라고 한다.\n",
    "-"
   ]
  },
  {
   "cell_type": "code",
   "execution_count": 5,
   "id": "7bc71745",
   "metadata": {},
   "outputs": [],
   "source": [
    "def y(b):\n",
    "    yyyyy = 1\n",
    "    return b"
   ]
  },
  {
   "cell_type": "code",
   "execution_count": 6,
   "id": "401d5ea0",
   "metadata": {},
   "outputs": [
    {
     "ename": "NameError",
     "evalue": "name 'yyyyy' is not defined",
     "output_type": "error",
     "traceback": [
      "\u001b[1;31m---------------------------------------------------------------------------\u001b[0m",
      "\u001b[1;31mNameError\u001b[0m                                 Traceback (most recent call last)",
      "\u001b[1;32m~\\AppData\\Local\\Temp/ipykernel_13024/143558954.py\u001b[0m in \u001b[0;36m<module>\u001b[1;34m\u001b[0m\n\u001b[1;32m----> 1\u001b[1;33m \u001b[0myyyyy\u001b[0m\u001b[1;33m\u001b[0m\u001b[1;33m\u001b[0m\u001b[0m\n\u001b[0m",
      "\u001b[1;31mNameError\u001b[0m: name 'yyyyy' is not defined"
     ]
    }
   ],
   "source": [
    "# 묶어놓으면 밖에서 안에거 접근할 수 없다.\n",
    "# 지정되어 있지 않아서 nameError가 난다.\n",
    "yyyyy"
   ]
  },
  {
   "cell_type": "markdown",
   "id": "027aaf4c",
   "metadata": {},
   "source": [
    "LEGB 규칙"
   ]
  },
  {
   "cell_type": "code",
   "execution_count": 9,
   "id": "007c0088",
   "metadata": {},
   "outputs": [],
   "source": [
    "# 이건 된다.\n",
    "# 안에 있는 애는 밖에 있는 애 접근이 돼서 되는거다.\n",
    "xxxxx = 1\n",
    "def y(b):\n",
    "    yyyyy = 1\n",
    "    return xxxxx\n",
    "y(3)"
   ]
  },
  {
   "cell_type": "markdown",
   "id": "d6957842",
   "metadata": {},
   "source": [
    "컴프리헨션은 하스킬이라는 프로그램이 언어에서 가져왔다.\\"
   ]
  },
  {
   "cell_type": "code",
   "execution_count": 12,
   "id": "a439de05",
   "metadata": {},
   "outputs": [
    {
     "data": {
      "text/plain": [
       "[0, 1, 2, 3, 4, 5, 6, 7, 8, 9]"
      ]
     },
     "execution_count": 12,
     "metadata": {},
     "output_type": "execute_result"
    }
   ],
   "source": [
    "# 우리 이때 range(10)은 iterable이라고 했지.\n",
    "a = [x for x in range(10)]\n",
    "a"
   ]
  },
  {
   "cell_type": "code",
   "execution_count": 11,
   "id": "c99729f4",
   "metadata": {},
   "outputs": [
    {
     "data": {
      "text/plain": [
       "[0, 2, 4, 6, 8]"
      ]
     },
     "execution_count": 11,
     "metadata": {},
     "output_type": "execute_result"
    }
   ],
   "source": [
    "# 뒤에 if를 붙일 수도 있다.\n",
    "aa = [x for x in range(10) if x%2==0]\n",
    "aa"
   ]
  },
  {
   "cell_type": "code",
   "execution_count": 13,
   "id": "cf608f86",
   "metadata": {},
   "outputs": [
    {
     "data": {
      "text/plain": [
       "[0, 2, 4, 6, 8, 10, 12, 14, 16, 18]"
      ]
     },
     "execution_count": 13,
     "metadata": {},
     "output_type": "execute_result"
    }
   ],
   "source": [
    "aaa = [2*x for x in range(10)]\n",
    "aaa"
   ]
  },
  {
   "cell_type": "code",
   "execution_count": 15,
   "id": "ac9fb3ef",
   "metadata": {},
   "outputs": [
    {
     "data": {
      "text/plain": [
       "3"
      ]
     },
     "execution_count": 15,
     "metadata": {},
     "output_type": "execute_result"
    }
   ],
   "source": [
    "# if도 식이 될까?\n",
    "# 된다.\n",
    "# 하나의 값으로 축약이 되니까.\n",
    "b = 1\n",
    "3 if b>0 else 4"
   ]
  },
  {
   "cell_type": "code",
   "execution_count": 17,
   "id": "e45f1767",
   "metadata": {},
   "outputs": [
    {
     "data": {
      "text/plain": [
       "[0, '', 2, '', 4, '', 6, '', 8, '']"
      ]
     },
     "execution_count": 17,
     "metadata": {},
     "output_type": "execute_result"
    }
   ],
   "source": [
    "# 얘는 else 때문에 공백이 찍히지\n",
    "aab = [x if x%2==0 else '' for x in range(10)]\n",
    "aab"
   ]
  },
  {
   "cell_type": "code",
   "execution_count": 18,
   "id": "fad3bd45",
   "metadata": {},
   "outputs": [
    {
     "data": {
      "text/plain": [
       "[(0, 6),\n",
       " (0, 7),\n",
       " (0, 8),\n",
       " (0, 9),\n",
       " (1, 6),\n",
       " (1, 7),\n",
       " (1, 8),\n",
       " (1, 9),\n",
       " (2, 6),\n",
       " (2, 7),\n",
       " (2, 8),\n",
       " (2, 9),\n",
       " (3, 6),\n",
       " (3, 7),\n",
       " (3, 8),\n",
       " (3, 9),\n",
       " (4, 6),\n",
       " (4, 7),\n",
       " (4, 8),\n",
       " (4, 9)]"
      ]
     },
     "execution_count": 18,
     "metadata": {},
     "output_type": "execute_result"
    }
   ],
   "source": [
    "# 이런 식으로 한번에 2개 중첩시키는 것도 가능해.\n",
    "aae = [(x, y) for x in range(5) for y in range(6,10)]\n",
    "aae"
   ]
  },
  {
   "cell_type": "markdown",
   "id": "47dbe1fc",
   "metadata": {},
   "source": [
    "함수형 패러다임 에서 제일 먼저 배우는게 리스트 컴프리헨션이다."
   ]
  },
  {
   "cell_type": "markdown",
   "id": "acc0ccfe",
   "metadata": {},
   "source": [
    "성능 비교를 해보자\\\n",
    "컴프리헨션은 내부적으로 좋다."
   ]
  },
  {
   "cell_type": "code",
   "execution_count": 20,
   "id": "4ca594a0",
   "metadata": {},
   "outputs": [
    {
     "name": "stdout",
     "output_type": "stream",
     "text": [
      "1.42 s ± 60.9 ms per loop (mean ± std. dev. of 7 runs, 1 loop each)\n"
     ]
    }
   ],
   "source": [
    "%%timeit\n",
    "temp = []\n",
    "for i in range(10000000):\n",
    "    temp.append(i)\n",
    "temp"
   ]
  },
  {
   "cell_type": "code",
   "execution_count": 22,
   "id": "02a9e33c",
   "metadata": {},
   "outputs": [
    {
     "name": "stdout",
     "output_type": "stream",
     "text": [
      "994 ms ± 31 ms per loop (mean ± std. dev. of 7 runs, 1 loop each)\n"
     ]
    }
   ],
   "source": [
    "# 메모리에 데이터를 한꺼번에 올려버린다.\n",
    "# 그래서 이미지 같은 빅데이터 처리할 때는 뻑나는 경우가 많다.\n",
    "%timeit [i for i in range(10000000)]"
   ]
  },
  {
   "cell_type": "markdown",
   "id": "742a3c8d",
   "metadata": {},
   "source": [
    "리스트, 셋, 딕셔너리는 뮤터블\\\n",
    "튜플은 임뮤터블"
   ]
  },
  {
   "cell_type": "code",
   "execution_count": 23,
   "id": "02ee5b81",
   "metadata": {},
   "outputs": [
    {
     "data": {
      "text/plain": [
       "<generator object <genexpr> at 0x0000029827F3A040>"
      ]
     },
     "execution_count": 23,
     "metadata": {},
     "output_type": "execute_result"
    }
   ],
   "source": [
    "# b는 generator가 된다.....\n",
    "# 함수형 패러다임들은 익스프레션을 좋아한다...\n",
    "# genexpr\n",
    "\n",
    "b = (x for x in range(10))\n",
    "b"
   ]
  },
  {
   "cell_type": "markdown",
   "id": "012a9176",
   "metadata": {},
   "source": [
    "# 이터레이터와 제너레이터\n",
    "하는 행동은 똑같은데\\\n",
    "만드는 방법이 다르다.\\\n",
    "함수형 패러다임은 뮤터블이라는 데이터셋 자체가 없으나, 파이썬에서는 도입을 했다.\\\n",
    "\n",
    "# 제너레이터와 이터레이터는 한번에 메모리에 올리지 않는다.\n",
    "\n",
    "- next를 부를 때만 메모리에 올린다.\n",
    "- 그렇다는 것은 한번에 데이터를 올리는 것이 아니라 next할 때만 실행하기 때문에 딥러닝 같은 거 할 때 많이 쓰인다.\n",
    "- dir(b)해서 next가 있는지 확인해본다.\n",
    "- next를 쓸 수 있다.\n",
    "\n",
    "1. 이터레이터는 이터러블 뒤에 iter라는 애를 통해서 만들었다.\n",
    "- iter([1,2,3,4])\n",
    "\n",
    "2. 제너레이터는 튜플을 쓰면 만들어진다.\n",
    "- (x for x in range(10))\n",
    "\n",
    "\n",
    "데이터를 한꺼번에 안 올리기 때문에 생기는 문제?\\\n",
    "인덱싱과 슬라이싱을 못쓴다. next가 올때만 불러지기 때문이다.\\\n",
    "next를 하기 전까지 메모리에 올리지 않기 때문에 순서가 정해지지 않는다.\\\n",
    "그래서 인덱싱이 안 되는 것이다."
   ]
  },
  {
   "cell_type": "code",
   "execution_count": 24,
   "id": "1ec28f6a",
   "metadata": {},
   "outputs": [
    {
     "ename": "TypeError",
     "evalue": "'generator' object is not subscriptable",
     "output_type": "error",
     "traceback": [
      "\u001b[1;31m---------------------------------------------------------------------------\u001b[0m",
      "\u001b[1;31mTypeError\u001b[0m                                 Traceback (most recent call last)",
      "\u001b[1;32m~\\AppData\\Local\\Temp/ipykernel_13024/172979841.py\u001b[0m in \u001b[0;36m<module>\u001b[1;34m\u001b[0m\n\u001b[1;32m----> 1\u001b[1;33m \u001b[0mb\u001b[0m\u001b[1;33m[\u001b[0m\u001b[1;36m0\u001b[0m\u001b[1;33m]\u001b[0m\u001b[1;33m\u001b[0m\u001b[1;33m\u001b[0m\u001b[0m\n\u001b[0m",
      "\u001b[1;31mTypeError\u001b[0m: 'generator' object is not subscriptable"
     ]
    }
   ],
   "source": [
    "# 인덱싱이 안 된다.\n",
    "b[0]"
   ]
  },
  {
   "cell_type": "code",
   "execution_count": 25,
   "id": "08e4de59",
   "metadata": {},
   "outputs": [
    {
     "data": {
      "text/plain": [
       "0"
      ]
     },
     "execution_count": 25,
     "metadata": {},
     "output_type": "execute_result"
    }
   ],
   "source": [
    "# lazy technic이라고 한다. 게으르다고 해서...\n",
    "# next는 된다.\n",
    "next(b)"
   ]
  },
  {
   "cell_type": "markdown",
   "id": "e118e5dc",
   "metadata": {},
   "source": [
    "그래서 (컴프리헨션)과 (이너레이터, 제너레이터)는 서로 반대에 위치한 테크닉이다."
   ]
  },
  {
   "cell_type": "code",
   "execution_count": 29,
   "id": "7b4bfd60",
   "metadata": {},
   "outputs": [],
   "source": [
    "# 얘는 함수처럼 보이지만 실제 함수가 아니다.\n",
    "def x():\n",
    "    yield 1\n",
    "    yield 2\n",
    "    yield 3"
   ]
  },
  {
   "cell_type": "code",
   "execution_count": 30,
   "id": "3fed7159",
   "metadata": {},
   "outputs": [
    {
     "data": {
      "text/plain": [
       "<generator object x at 0x0000029827F3A6D0>"
      ]
     },
     "execution_count": 30,
     "metadata": {},
     "output_type": "execute_result"
    }
   ],
   "source": [
    "# 제너레이터다.\n",
    "a = x()\n",
    "a"
   ]
  },
  {
   "cell_type": "code",
   "execution_count": 34,
   "id": "9312bfd4",
   "metadata": {},
   "outputs": [
    {
     "ename": "StopIteration",
     "evalue": "",
     "output_type": "error",
     "traceback": [
      "\u001b[1;31m---------------------------------------------------------------------------\u001b[0m",
      "\u001b[1;31mStopIteration\u001b[0m                             Traceback (most recent call last)",
      "\u001b[1;32m~\\AppData\\Local\\Temp/ipykernel_13024/1242322984.py\u001b[0m in \u001b[0;36m<module>\u001b[1;34m\u001b[0m\n\u001b[1;32m----> 1\u001b[1;33m \u001b[0mnext\u001b[0m\u001b[1;33m(\u001b[0m\u001b[0ma\u001b[0m\u001b[1;33m)\u001b[0m\u001b[1;33m\u001b[0m\u001b[1;33m\u001b[0m\u001b[0m\n\u001b[0m",
      "\u001b[1;31mStopIteration\u001b[0m: "
     ]
    }
   ],
   "source": [
    "# 끝까지 쓰면 StopIteration이 뜬다.\n",
    "# 고수들은 컴프리헨션말고 이걸로 좀 어려운 거 만든다.\n",
    "next(a)"
   ]
  },
  {
   "cell_type": "code",
   "execution_count": 36,
   "id": "a7a52b47",
   "metadata": {},
   "outputs": [],
   "source": [
    "# 두꺼운 초록색이다 두개다.\n",
    "# from도 용법이 3가지다, import할 때 쓰이고, yield할 때도 쓰인다.\n",
    "# from 다음에 iterable이 나온다.\n",
    "def x():\n",
    "    yield from [1,2,3]"
   ]
  },
  {
   "cell_type": "code",
   "execution_count": 37,
   "id": "7fc06bba",
   "metadata": {},
   "outputs": [
    {
     "name": "stdout",
     "output_type": "stream",
     "text": [
      "The \"import\" statement\n",
      "**********************\n",
      "\n",
      "   import_stmt     ::= \"import\" module [\"as\" identifier] (\",\" module [\"as\" identifier])*\n",
      "                   | \"from\" relative_module \"import\" identifier [\"as\" identifier]\n",
      "                   (\",\" identifier [\"as\" identifier])*\n",
      "                   | \"from\" relative_module \"import\" \"(\" identifier [\"as\" identifier]\n",
      "                   (\",\" identifier [\"as\" identifier])* [\",\"] \")\"\n",
      "                   | \"from\" relative_module \"import\" \"*\"\n",
      "   module          ::= (identifier \".\")* identifier\n",
      "   relative_module ::= \".\"* module | \".\"+\n",
      "\n",
      "The basic import statement (no \"from\" clause) is executed in two\n",
      "steps:\n",
      "\n",
      "1. find a module, loading and initializing it if necessary\n",
      "\n",
      "2. define a name or names in the local namespace for the scope where\n",
      "   the \"import\" statement occurs.\n",
      "\n",
      "When the statement contains multiple clauses (separated by commas) the\n",
      "two steps are carried out separately for each clause, just as though\n",
      "the clauses had been separated out into individual import statements.\n",
      "\n",
      "The details of the first step, finding and loading modules are\n",
      "described in greater detail in the section on the import system, which\n",
      "also describes the various types of packages and modules that can be\n",
      "imported, as well as all the hooks that can be used to customize the\n",
      "import system. Note that failures in this step may indicate either\n",
      "that the module could not be located, *or* that an error occurred\n",
      "while initializing the module, which includes execution of the\n",
      "module’s code.\n",
      "\n",
      "If the requested module is retrieved successfully, it will be made\n",
      "available in the local namespace in one of three ways:\n",
      "\n",
      "* If the module name is followed by \"as\", then the name following \"as\"\n",
      "  is bound directly to the imported module.\n",
      "\n",
      "* If no other name is specified, and the module being imported is a\n",
      "  top level module, the module’s name is bound in the local namespace\n",
      "  as a reference to the imported module\n",
      "\n",
      "* If the module being imported is *not* a top level module, then the\n",
      "  name of the top level package that contains the module is bound in\n",
      "  the local namespace as a reference to the top level package. The\n",
      "  imported module must be accessed using its full qualified name\n",
      "  rather than directly\n",
      "\n",
      "The \"from\" form uses a slightly more complex process:\n",
      "\n",
      "1. find the module specified in the \"from\" clause, loading and\n",
      "   initializing it if necessary;\n",
      "\n",
      "2. for each of the identifiers specified in the \"import\" clauses:\n",
      "\n",
      "   1. check if the imported module has an attribute by that name\n",
      "\n",
      "   2. if not, attempt to import a submodule with that name and then\n",
      "      check the imported module again for that attribute\n",
      "\n",
      "   3. if the attribute is not found, \"ImportError\" is raised.\n",
      "\n",
      "   4. otherwise, a reference to that value is stored in the local\n",
      "      namespace, using the name in the \"as\" clause if it is present,\n",
      "      otherwise using the attribute name\n",
      "\n",
      "Examples:\n",
      "\n",
      "   import foo                 # foo imported and bound locally\n",
      "   import foo.bar.baz         # foo.bar.baz imported, foo bound locally\n",
      "   import foo.bar.baz as fbb  # foo.bar.baz imported and bound as fbb\n",
      "   from foo.bar import baz    # foo.bar.baz imported and bound as baz\n",
      "   from foo import attr       # foo imported and foo.attr bound as attr\n",
      "\n",
      "If the list of identifiers is replaced by a star (\"'*'\"), all public\n",
      "names defined in the module are bound in the local namespace for the\n",
      "scope where the \"import\" statement occurs.\n",
      "\n",
      "The *public names* defined by a module are determined by checking the\n",
      "module’s namespace for a variable named \"__all__\"; if defined, it must\n",
      "be a sequence of strings which are names defined or imported by that\n",
      "module.  The names given in \"__all__\" are all considered public and\n",
      "are required to exist.  If \"__all__\" is not defined, the set of public\n",
      "names includes all names found in the module’s namespace which do not\n",
      "begin with an underscore character (\"'_'\").  \"__all__\" should contain\n",
      "the entire public API. It is intended to avoid accidentally exporting\n",
      "items that are not part of the API (such as library modules which were\n",
      "imported and used within the module).\n",
      "\n",
      "The wild card form of import — \"from module import *\" — is only\n",
      "allowed at the module level.  Attempting to use it in class or\n",
      "function definitions will raise a \"SyntaxError\".\n",
      "\n",
      "When specifying what module to import you do not have to specify the\n",
      "absolute name of the module. When a module or package is contained\n",
      "within another package it is possible to make a relative import within\n",
      "the same top package without having to mention the package name. By\n",
      "using leading dots in the specified module or package after \"from\" you\n",
      "can specify how high to traverse up the current package hierarchy\n",
      "without specifying exact names. One leading dot means the current\n",
      "package where the module making the import exists. Two dots means up\n",
      "one package level. Three dots is up two levels, etc. So if you execute\n",
      "\"from . import mod\" from a module in the \"pkg\" package then you will\n",
      "end up importing \"pkg.mod\". If you execute \"from ..subpkg2 import mod\"\n",
      "from within \"pkg.subpkg1\" you will import \"pkg.subpkg2.mod\". The\n",
      "specification for relative imports is contained in the Package\n",
      "Relative Imports section.\n",
      "\n",
      "\"importlib.import_module()\" is provided to support applications that\n",
      "determine dynamically the modules to be loaded.\n",
      "\n",
      "Raises an auditing event \"import\" with arguments \"module\", \"filename\",\n",
      "\"sys.path\", \"sys.meta_path\", \"sys.path_hooks\".\n",
      "\n",
      "\n",
      "Future statements\n",
      "=================\n",
      "\n",
      "A *future statement* is a directive to the compiler that a particular\n",
      "module should be compiled using syntax or semantics that will be\n",
      "available in a specified future release of Python where the feature\n",
      "becomes standard.\n",
      "\n",
      "The future statement is intended to ease migration to future versions\n",
      "of Python that introduce incompatible changes to the language.  It\n",
      "allows use of the new features on a per-module basis before the\n",
      "release in which the feature becomes standard.\n",
      "\n",
      "   future_stmt ::= \"from\" \"__future__\" \"import\" feature [\"as\" identifier]\n",
      "                   (\",\" feature [\"as\" identifier])*\n",
      "                   | \"from\" \"__future__\" \"import\" \"(\" feature [\"as\" identifier]\n",
      "                   (\",\" feature [\"as\" identifier])* [\",\"] \")\"\n",
      "   feature     ::= identifier\n",
      "\n",
      "A future statement must appear near the top of the module.  The only\n",
      "lines that can appear before a future statement are:\n",
      "\n",
      "* the module docstring (if any),\n",
      "\n",
      "* comments,\n",
      "\n",
      "* blank lines, and\n",
      "\n",
      "* other future statements.\n",
      "\n",
      "The only feature that requires using the future statement is\n",
      "\"annotations\" (see **PEP 563**).\n",
      "\n",
      "All historical features enabled by the future statement are still\n",
      "recognized by Python 3.  The list includes \"absolute_import\",\n",
      "\"division\", \"generators\", \"generator_stop\", \"unicode_literals\",\n",
      "\"print_function\", \"nested_scopes\" and \"with_statement\".  They are all\n",
      "redundant because they are always enabled, and only kept for backwards\n",
      "compatibility.\n",
      "\n",
      "A future statement is recognized and treated specially at compile\n",
      "time: Changes to the semantics of core constructs are often\n",
      "implemented by generating different code.  It may even be the case\n",
      "that a new feature introduces new incompatible syntax (such as a new\n",
      "reserved word), in which case the compiler may need to parse the\n",
      "module differently.  Such decisions cannot be pushed off until\n",
      "runtime.\n",
      "\n",
      "For any given release, the compiler knows which feature names have\n",
      "been defined, and raises a compile-time error if a future statement\n",
      "contains a feature not known to it.\n",
      "\n",
      "The direct runtime semantics are the same as for any import statement:\n",
      "there is a standard module \"__future__\", described later, and it will\n",
      "be imported in the usual way at the time the future statement is\n",
      "executed.\n",
      "\n",
      "The interesting runtime semantics depend on the specific feature\n",
      "enabled by the future statement.\n",
      "\n",
      "Note that there is nothing special about the statement:\n",
      "\n",
      "   import __future__ [as name]\n",
      "\n",
      "That is not a future statement; it’s an ordinary import statement with\n",
      "no special semantics or syntax restrictions.\n",
      "\n",
      "Code compiled by calls to the built-in functions \"exec()\" and\n",
      "\"compile()\" that occur in a module \"M\" containing a future statement\n",
      "will, by default, use the new syntax or semantics associated with the\n",
      "future statement.  This can be controlled by optional arguments to\n",
      "\"compile()\" — see the documentation of that function for details.\n",
      "\n",
      "A future statement typed at an interactive interpreter prompt will\n",
      "take effect for the rest of the interpreter session.  If an\n",
      "interpreter is started with the \"-i\" option, is passed a script name\n",
      "to execute, and the script includes a future statement, it will be in\n",
      "effect in the interactive session started after the script is\n",
      "executed.\n",
      "\n",
      "See also:\n",
      "\n",
      "  **PEP 236** - Back to the __future__\n",
      "     The original proposal for the __future__ mechanism.\n",
      "\n",
      "Related help topics: MODULES\n",
      "\n"
     ]
    }
   ],
   "source": [
    "help('from')"
   ]
  },
  {
   "cell_type": "markdown",
   "id": "96f7bd89",
   "metadata": {},
   "source": [
    "# Recursion이 함수형 패러다임의 핵심이다.\n",
    "- 재귀=수학적 귀납법...\n",
    "- recursion이 좋은게 스택오버플로우가 생기지 않아서 좋다.\n",
    "- tail call elimination 을 지원 안 하기 때문에... 안 쓴다(?불확실)\n",
    "- 함수형 패러다임의 특징은 간결하다."
   ]
  },
  {
   "cell_type": "markdown",
   "id": "8d41ad47",
   "metadata": {},
   "source": [
    "reduction은 모든 통계에서 굉장히 중요한 테크닉이다.\\\n",
    "reduce=축약하다\\\n",
    "expression은 하나의 결과값으로 축약할 수 있는 것.\\\n",
    "즉 expression은 하나의 결과값으로 reduce하는 것\\\n",
    "reduction의 대표적인 학문은 통계이다."
   ]
  },
  {
   "cell_type": "markdown",
   "id": "76e978b3",
   "metadata": {},
   "source": [
    "map은 함수를 인자로 먹고 함수를 리턴한다.\\\n",
    "이것을 higher-order function이라고 한다."
   ]
  },
  {
   "cell_type": "code",
   "execution_count": 57,
   "id": "b678f23c",
   "metadata": {},
   "outputs": [],
   "source": [
    "# 이터러블은 하나 뽑아서 함수에 집어넣는 것이다.\n",
    "# 이터러블에 넣으면 이터레이터 또는 제너레이터로 바뀐다.\n",
    "a = map(lambda x: x+1, [1,2,3,4,5])"
   ]
  },
  {
   "cell_type": "code",
   "execution_count": 58,
   "id": "aabbfed9",
   "metadata": {},
   "outputs": [
    {
     "data": {
      "text/plain": [
       "2"
      ]
     },
     "execution_count": 58,
     "metadata": {},
     "output_type": "execute_result"
    }
   ],
   "source": [
    "next(a)"
   ]
  },
  {
   "cell_type": "code",
   "execution_count": 59,
   "id": "a6054627",
   "metadata": {},
   "outputs": [
    {
     "data": {
      "text/plain": [
       "[2, 3, 4, 5, 6]"
      ]
     },
     "execution_count": 59,
     "metadata": {},
     "output_type": "execute_result"
    }
   ],
   "source": [
    "list(map(lambda x: x+1, [1,2,3,4,5]))"
   ]
  },
  {
   "cell_type": "code",
   "execution_count": null,
   "id": "e065cf0f",
   "metadata": {},
   "outputs": [],
   "source": []
  }
 ],
 "metadata": {
  "kernelspec": {
   "display_name": "Python 3 (ipykernel)",
   "language": "python",
   "name": "python3"
  },
  "language_info": {
   "codemirror_mode": {
    "name": "ipython",
    "version": 3
   },
   "file_extension": ".py",
   "mimetype": "text/x-python",
   "name": "python",
   "nbconvert_exporter": "python",
   "pygments_lexer": "ipython3",
   "version": "3.9.7"
  }
 },
 "nbformat": 4,
 "nbformat_minor": 5
}
