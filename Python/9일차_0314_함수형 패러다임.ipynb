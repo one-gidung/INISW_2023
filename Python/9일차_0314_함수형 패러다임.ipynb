{
 "cells": [
  {
   "cell_type": "markdown",
   "id": "c663ca05",
   "metadata": {},
   "source": [
    "# Closure technic"
   ]
  },
  {
   "cell_type": "code",
   "execution_count": 5,
   "id": "4668f49c",
   "metadata": {},
   "outputs": [],
   "source": [
    "def x(m):\n",
    "    def y(n):\n",
    "        return n+m\n",
    "    return y"
   ]
  },
  {
   "cell_type": "code",
   "execution_count": 6,
   "id": "c724496f",
   "metadata": {},
   "outputs": [
    {
     "data": {
      "text/plain": [
       "7"
      ]
     },
     "execution_count": 6,
     "metadata": {},
     "output_type": "execute_result"
    }
   ],
   "source": [
    "x(3)(4)"
   ]
  },
  {
   "cell_type": "code",
   "execution_count": 2,
   "id": "079f1592",
   "metadata": {},
   "outputs": [],
   "source": [
    "class X:\n",
    "    def __init__(self, m):\n",
    "        self.m = m\n",
    "    def __call__(self, n):\n",
    "        return self.m + n"
   ]
  },
  {
   "cell_type": "code",
   "execution_count": 4,
   "id": "762e4fe6",
   "metadata": {},
   "outputs": [
    {
     "data": {
      "text/plain": [
       "7"
      ]
     },
     "execution_count": 4,
     "metadata": {},
     "output_type": "execute_result"
    }
   ],
   "source": [
    "X(3)(4)"
   ]
  },
  {
   "cell_type": "markdown",
   "id": "cca85e24",
   "metadata": {},
   "source": [
    "decorator를 function closer라고 한다."
   ]
  },
  {
   "cell_type": "markdown",
   "id": "8e0ed1eb",
   "metadata": {},
   "source": [
    "# Nested function\n",
    "- 첫번째 함수는 인자로 함수를 받아야 한다.\n",
    "- 그리고 nested function 안에서 실행이 되어야 한다 무조건."
   ]
  },
  {
   "cell_type": "markdown",
   "id": "d54680e6",
   "metadata": {},
   "source": [
    "# Decorator"
   ]
  },
  {
   "cell_type": "code",
   "execution_count": null,
   "id": "7a3e95a0",
   "metadata": {},
   "outputs": [],
   "source": [
    "class A:\n",
    "    @property\n",
    "    def x(self):\n",
    "        print('x')"
   ]
  },
  {
   "cell_type": "code",
   "execution_count": 12,
   "id": "b0dea2e4",
   "metadata": {},
   "outputs": [],
   "source": [
    "def a(fn):\n",
    "    def b():\n",
    "        print('---')\n",
    "        fn()\n",
    "        print('+++')\n",
    "    return b"
   ]
  },
  {
   "cell_type": "code",
   "execution_count": 13,
   "id": "749efbb5",
   "metadata": {},
   "outputs": [],
   "source": [
    "@a\n",
    "def x():\n",
    "    print('x')"
   ]
  },
  {
   "cell_type": "code",
   "execution_count": 14,
   "id": "beb2bd79",
   "metadata": {},
   "outputs": [
    {
     "name": "stdout",
     "output_type": "stream",
     "text": [
      "---\n",
      "x\n",
      "+++\n"
     ]
    }
   ],
   "source": [
    "x()"
   ]
  },
  {
   "cell_type": "code",
   "execution_count": 15,
   "id": "676b61f6",
   "metadata": {},
   "outputs": [],
   "source": [
    "def m(fn):\n",
    "    def n(*k, **kw):\n",
    "        return fn(*k, **kw) + 1\n",
    "    return n"
   ]
  },
  {
   "cell_type": "code",
   "execution_count": 16,
   "id": "1c354a65",
   "metadata": {},
   "outputs": [],
   "source": [
    "@m\n",
    "def a(x):\n",
    "    return x"
   ]
  },
  {
   "cell_type": "code",
   "execution_count": 17,
   "id": "f84c6abd",
   "metadata": {},
   "outputs": [
    {
     "data": {
      "text/plain": [
       "3"
      ]
     },
     "execution_count": 17,
     "metadata": {},
     "output_type": "execute_result"
    }
   ],
   "source": [
    "a(2)"
   ]
  },
  {
   "cell_type": "code",
   "execution_count": 18,
   "id": "37ef9c01",
   "metadata": {},
   "outputs": [],
   "source": [
    "@m\n",
    "def b():\n",
    "    return 1"
   ]
  },
  {
   "cell_type": "code",
   "execution_count": 19,
   "id": "17cbd5ef",
   "metadata": {},
   "outputs": [
    {
     "data": {
      "text/plain": [
       "2"
      ]
     },
     "execution_count": 19,
     "metadata": {},
     "output_type": "execute_result"
    }
   ],
   "source": [
    "b()"
   ]
  },
  {
   "cell_type": "code",
   "execution_count": 31,
   "id": "ba22e972",
   "metadata": {},
   "outputs": [],
   "source": [
    "def warning(fn):\n",
    "    def inner(*a, **b):\n",
    "        print('warning~~')\n",
    "        print(fn(*a, **b))\n",
    "    return inner"
   ]
  },
  {
   "cell_type": "code",
   "execution_count": 32,
   "id": "941daeff",
   "metadata": {},
   "outputs": [],
   "source": [
    "@warning\n",
    "def t(tt):\n",
    "    return tt"
   ]
  },
  {
   "cell_type": "code",
   "execution_count": 33,
   "id": "6582c325",
   "metadata": {},
   "outputs": [
    {
     "name": "stdout",
     "output_type": "stream",
     "text": [
      "warning~~\n",
      "3\n"
     ]
    }
   ],
   "source": [
    "t(3)"
   ]
  },
  {
   "cell_type": "code",
   "execution_count": 34,
   "id": "2cbe469b",
   "metadata": {},
   "outputs": [],
   "source": [
    "@warning\n",
    "def s():\n",
    "    return 's'"
   ]
  },
  {
   "cell_type": "code",
   "execution_count": 35,
   "id": "10f25735",
   "metadata": {},
   "outputs": [
    {
     "name": "stdout",
     "output_type": "stream",
     "text": [
      "warning~~\n",
      "s\n"
     ]
    }
   ],
   "source": [
    "s()"
   ]
  },
  {
   "cell_type": "code",
   "execution_count": 37,
   "id": "637429f5",
   "metadata": {},
   "outputs": [
    {
     "data": {
      "text/plain": [
       "<function __main__.warning(fn)>"
      ]
     },
     "execution_count": 37,
     "metadata": {},
     "output_type": "execute_result"
    }
   ],
   "source": [
    "warning"
   ]
  },
  {
   "cell_type": "code",
   "execution_count": 38,
   "id": "d521dd3c",
   "metadata": {},
   "outputs": [
    {
     "data": {
      "text/plain": [
       "'warning'"
      ]
     },
     "execution_count": 38,
     "metadata": {},
     "output_type": "execute_result"
    }
   ],
   "source": [
    "warning.__name__"
   ]
  },
  {
   "cell_type": "code",
   "execution_count": 39,
   "id": "449bc17c",
   "metadata": {},
   "outputs": [
    {
     "data": {
      "text/plain": [
       "<function __main__.warning.<locals>.inner(*a, **b)>"
      ]
     },
     "execution_count": 39,
     "metadata": {},
     "output_type": "execute_result"
    }
   ],
   "source": [
    "# 기능적으로 워닝함수로 어케저케 들어가서 써서 워닝함수로 나온다.\n",
    "# 로컬 영역에 inner가 있다\n",
    "t"
   ]
  },
  {
   "cell_type": "markdown",
   "id": "8e694a30",
   "metadata": {},
   "source": [
    "# function tool"
   ]
  },
  {
   "cell_type": "code",
   "execution_count": 40,
   "id": "0ca5e126",
   "metadata": {},
   "outputs": [],
   "source": [
    "from functools import wraps"
   ]
  },
  {
   "cell_type": "code",
   "execution_count": 55,
   "id": "efdda557",
   "metadata": {},
   "outputs": [],
   "source": [
    "def warning(fn):\n",
    "    @wraps(fn)\n",
    "    def inner(*a, **b):\n",
    "        print('warning~~')\n",
    "        print(fn(*a, **b))\n",
    "    return inner"
   ]
  },
  {
   "cell_type": "code",
   "execution_count": 56,
   "id": "5ebda042",
   "metadata": {},
   "outputs": [],
   "source": [
    "a = 1"
   ]
  },
  {
   "cell_type": "code",
   "execution_count": 57,
   "id": "9b11f085",
   "metadata": {},
   "outputs": [
    {
     "data": {
      "text/plain": [
       "1"
      ]
     },
     "execution_count": 57,
     "metadata": {},
     "output_type": "execute_result"
    }
   ],
   "source": [
    "a"
   ]
  },
  {
   "cell_type": "code",
   "execution_count": 42,
   "id": "2574b361",
   "metadata": {},
   "outputs": [],
   "source": [
    "@warning\n",
    "def t(tt):\n",
    "    return tt"
   ]
  },
  {
   "cell_type": "code",
   "execution_count": 43,
   "id": "3e421c72",
   "metadata": {},
   "outputs": [
    {
     "data": {
      "text/plain": [
       "<function __main__.t(tt)>"
      ]
     },
     "execution_count": 43,
     "metadata": {},
     "output_type": "execute_result"
    }
   ],
   "source": [
    "t"
   ]
  },
  {
   "cell_type": "code",
   "execution_count": 47,
   "id": "6656a35c",
   "metadata": {},
   "outputs": [],
   "source": [
    "class X:\n",
    "    def __repr__(self):\n",
    "        return 'REPR'\n",
    "    \n",
    "    def __str__(self):\n",
    "        return 'STR'"
   ]
  },
  {
   "cell_type": "code",
   "execution_count": 48,
   "id": "722cec5d",
   "metadata": {},
   "outputs": [],
   "source": [
    "x = X()"
   ]
  },
  {
   "cell_type": "code",
   "execution_count": 49,
   "id": "6576aab8",
   "metadata": {},
   "outputs": [
    {
     "data": {
      "text/plain": [
       "REPR"
      ]
     },
     "execution_count": 49,
     "metadata": {},
     "output_type": "execute_result"
    }
   ],
   "source": [
    "# 이름 불렀더니 repr에 정의된게 튀어나온다\n",
    "\n",
    "x"
   ]
  },
  {
   "cell_type": "code",
   "execution_count": 50,
   "id": "71dea5f2",
   "metadata": {},
   "outputs": [
    {
     "name": "stdout",
     "output_type": "stream",
     "text": [
      "STR\n"
     ]
    }
   ],
   "source": [
    "# print할 때 튀어나오는건 str에 정의된게 나온다.\n",
    "\n",
    "print(x)"
   ]
  },
  {
   "cell_type": "markdown",
   "id": "0cc65df5",
   "metadata": {},
   "source": [
    "numpy도 이렇게 나온다.\\\n",
    "repr과 str"
   ]
  },
  {
   "cell_type": "code",
   "execution_count": 51,
   "id": "3bded6c0",
   "metadata": {},
   "outputs": [],
   "source": [
    "import numpy as np"
   ]
  },
  {
   "cell_type": "code",
   "execution_count": 52,
   "id": "86ef9461",
   "metadata": {},
   "outputs": [],
   "source": [
    "a = np.array([1,2,3])"
   ]
  },
  {
   "cell_type": "code",
   "execution_count": 53,
   "id": "5eff24aa",
   "metadata": {},
   "outputs": [
    {
     "data": {
      "text/plain": [
       "array([1, 2, 3])"
      ]
     },
     "execution_count": 53,
     "metadata": {},
     "output_type": "execute_result"
    }
   ],
   "source": [
    "# repr\n",
    "a"
   ]
  },
  {
   "cell_type": "code",
   "execution_count": 54,
   "id": "7b8ff313",
   "metadata": {},
   "outputs": [
    {
     "name": "stdout",
     "output_type": "stream",
     "text": [
      "[1 2 3]\n"
     ]
    }
   ],
   "source": [
    "# str\n",
    "print(a)"
   ]
  },
  {
   "cell_type": "code",
   "execution_count": 61,
   "id": "f7e6b52c",
   "metadata": {},
   "outputs": [],
   "source": [
    "def xx(n):\n",
    "    def warning(fn):\n",
    "#         @wraps(fn)\n",
    "        def inner(*a, **b):\n",
    "            print(n)\n",
    "            print(fn(*a, **b))\n",
    "        return inner\n",
    "    return warning"
   ]
  },
  {
   "cell_type": "code",
   "execution_count": 64,
   "id": "a9c17124",
   "metadata": {},
   "outputs": [
    {
     "data": {
      "text/plain": [
       "<function __main__.xx(n)>"
      ]
     },
     "execution_count": 64,
     "metadata": {},
     "output_type": "execute_result"
    }
   ],
   "source": [
    "xx"
   ]
  },
  {
   "cell_type": "code",
   "execution_count": 68,
   "id": "4ed46766",
   "metadata": {},
   "outputs": [],
   "source": [
    "# 3단구조면 쓸 때 인자를 줘야한다(?)\n",
    "\n",
    "@xx(9)\n",
    "def tt():\n",
    "    print('a')"
   ]
  },
  {
   "cell_type": "code",
   "execution_count": 69,
   "id": "37852f26",
   "metadata": {},
   "outputs": [
    {
     "name": "stdout",
     "output_type": "stream",
     "text": [
      "9\n",
      "a\n",
      "None\n"
     ]
    }
   ],
   "source": [
    "tt()"
   ]
  },
  {
   "cell_type": "code",
   "execution_count": 65,
   "id": "8308ab1e",
   "metadata": {},
   "outputs": [],
   "source": [
    "def a(c:int)->int:\n",
    "    return c"
   ]
  },
  {
   "cell_type": "code",
   "execution_count": 66,
   "id": "22dce96a",
   "metadata": {},
   "outputs": [
    {
     "data": {
      "text/plain": [
       "{'c': int, 'return': int}"
      ]
     },
     "execution_count": 66,
     "metadata": {},
     "output_type": "execute_result"
    }
   ],
   "source": [
    "a.__annotations__"
   ]
  },
  {
   "cell_type": "code",
   "execution_count": 67,
   "id": "3d5ba674",
   "metadata": {},
   "outputs": [
    {
     "data": {
      "text/plain": [
       "1.1"
      ]
     },
     "execution_count": 67,
     "metadata": {},
     "output_type": "execute_result"
    }
   ],
   "source": [
    "a(1.1)"
   ]
  },
  {
   "cell_type": "code",
   "execution_count": 70,
   "id": "6d5a4996",
   "metadata": {},
   "outputs": [],
   "source": [
    "def xx(n=0):\n",
    "    def warning(fn):\n",
    "#         @wraps(fn)\n",
    "        def inner(*a, **b):\n",
    "            print(n)\n",
    "            print(fn(*a, **b))\n",
    "        return inner\n",
    "    return warning\n",
    "\n",
    "# default값을 주면 괄호만 줘도 된다.\n",
    "\n",
    "@xx()\n",
    "def tt():\n",
    "    print('a')"
   ]
  },
  {
   "cell_type": "code",
   "execution_count": 71,
   "id": "97c9d56d",
   "metadata": {},
   "outputs": [
    {
     "name": "stdout",
     "output_type": "stream",
     "text": [
      "0\n",
      "a\n",
      "None\n"
     ]
    }
   ],
   "source": [
    "tt()"
   ]
  },
  {
   "cell_type": "markdown",
   "id": "9100b168",
   "metadata": {},
   "source": [
    "# decorator"
   ]
  },
  {
   "cell_type": "code",
   "execution_count": 72,
   "id": "3380da63",
   "metadata": {},
   "outputs": [],
   "source": [
    "def decorator1(fn):\n",
    "    print(\"decorator1\")\n",
    "    \n",
    "    def inner1(*args, **kwargs): \n",
    "        print(\"inner1\")\n",
    "        return fn(*args, **kwargs)\n",
    "    return inner1 \n",
    "\n",
    "def decorator2(fn):\n",
    "    print(\"decorator2\")\n",
    "    \n",
    "    def inner2(*args, **kwargs):\n",
    "        print(\"inner2\")\n",
    "        return fn(*args, **kwargs)\n",
    "    return inner2 "
   ]
  },
  {
   "cell_type": "code",
   "execution_count": 73,
   "id": "a9335190",
   "metadata": {},
   "outputs": [
    {
     "name": "stdout",
     "output_type": "stream",
     "text": [
      "decorator2\n",
      "decorator1\n"
     ]
    }
   ],
   "source": [
    "@decorator1 \n",
    "@decorator2 \n",
    "def foo():\n",
    "    print(\"foo\") "
   ]
  },
  {
   "cell_type": "code",
   "execution_count": null,
   "id": "35d66bf9",
   "metadata": {},
   "outputs": [],
   "source": []
  }
 ],
 "metadata": {
  "kernelspec": {
   "display_name": "Python 3 (ipykernel)",
   "language": "python",
   "name": "python3"
  },
  "language_info": {
   "codemirror_mode": {
    "name": "ipython",
    "version": 3
   },
   "file_extension": ".py",
   "mimetype": "text/x-python",
   "name": "python",
   "nbconvert_exporter": "python",
   "pygments_lexer": "ipython3",
   "version": "3.9.7"
  }
 },
 "nbformat": 4,
 "nbformat_minor": 5
}
