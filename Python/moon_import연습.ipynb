{
 "cells": [
  {
   "cell_type": "code",
   "execution_count": 1,
   "id": "92486bff",
   "metadata": {},
   "outputs": [],
   "source": [
    "a = 1"
   ]
  },
  {
   "cell_type": "code",
   "execution_count": 2,
   "id": "f20da3db",
   "metadata": {},
   "outputs": [],
   "source": [
    "_a = 2"
   ]
  },
  {
   "cell_type": "code",
   "execution_count": 3,
   "id": "f5fe2527",
   "metadata": {},
   "outputs": [],
   "source": [
    "def x():\n",
    "    print('a')"
   ]
  },
  {
   "cell_type": "code",
   "execution_count": 4,
   "id": "9e5beffa",
   "metadata": {},
   "outputs": [],
   "source": [
    "def _x():\n",
    "    print('b')"
   ]
  }
 ],
 "metadata": {
  "kernelspec": {
   "display_name": "Python 3 (ipykernel)",
   "language": "python",
   "name": "python3"
  },
  "language_info": {
   "codemirror_mode": {
    "name": "ipython",
    "version": 3
   },
   "file_extension": ".py",
   "mimetype": "text/x-python",
   "name": "python",
   "nbconvert_exporter": "python",
   "pygments_lexer": "ipython3",
   "version": "3.9.7"
  }
 },
 "nbformat": 4,
 "nbformat_minor": 5
}
