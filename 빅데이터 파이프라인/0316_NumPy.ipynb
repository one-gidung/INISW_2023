{
 "cells": [
  {
   "cell_type": "markdown",
   "id": "9583498d",
   "metadata": {},
   "source": [
    "# Numpy python은 C를 기반으로 만들었다.\n",
    "- C를 기반으로 만들었기 때문에 빠르다\n",
    "- C의 데이터타입을 따른다.\n",
    "- 강력하고 효율적이며, 쉽다.\n",
    "- 자동적으로 모양을 맞춰준다.\n",
    "---\n",
    "* data\n",
    "    - scalar 0차\n",
    "    - vector 1차\n",
    "    - metrics 2차\n",
    "    - tensor 3차 이상\n",
    "---\n",
    "# 호모 시퀀스\n",
    "- 인덱싱과 슬라이싱\n",
    "---\n",
    "# numpy 고유방식 5가지\n",
    "- 콤마로 빠르게 접근 가능\n",
    "- broadcasting\n",
    "- fancy indexing (or advanced indexing)\n",
    "- ... 이 있다.\n",
    "- 인덱싱과 슬라이싱을 동시에 할 수 있다.\n",
    "\n",
    "# 연산자에 대응하는 메소드가 있다.\n",
    "---\n",
    "# 메소드에 대응하는 함수가 있다.\n",
    "---\n",
    "\n",
    "# 연산자 오버로딩\n",
    "원래 뒤에 붙이는 건데 같은 위치를 더하는 걸로\n",
    "\n",
    "---\n",
    "# 다형성\n",
    "데이터 타입에 따라 연산 결과가 다르다\n",
    "---\n",
    "\n",
    "ㄷㄴ"
   ]
  },
  {
   "cell_type": "markdown",
   "id": "8448803b",
   "metadata": {},
   "source": [
    "* array"
   ]
  },
  {
   "cell_type": "code",
   "execution_count": 1,
   "id": "93246e6e",
   "metadata": {},
   "outputs": [],
   "source": [
    "import array"
   ]
  },
  {
   "cell_type": "code",
   "execution_count": 2,
   "id": "530c3968",
   "metadata": {},
   "outputs": [
    {
     "data": {
      "text/plain": [
       "[1, 2, 3, 4, 5, 6]"
      ]
     },
     "execution_count": 2,
     "metadata": {},
     "output_type": "execute_result"
    }
   ],
   "source": [
    "[1,2,3] + [4,5,6] # element-wise"
   ]
  },
  {
   "cell_type": "code",
   "execution_count": 3,
   "id": "573c13e2",
   "metadata": {},
   "outputs": [
    {
     "data": {
      "text/plain": [
       "[5, 7, 9]"
      ]
     },
     "execution_count": 3,
     "metadata": {},
     "output_type": "execute_result"
    }
   ],
   "source": [
    "[5,7,9]"
   ]
  },
  {
   "cell_type": "markdown",
   "id": "4b3dfe30",
   "metadata": {},
   "source": [
    "* numpy"
   ]
  },
  {
   "cell_type": "code",
   "execution_count": 4,
   "id": "6bfbeb05",
   "metadata": {},
   "outputs": [],
   "source": [
    "import numpy as np"
   ]
  },
  {
   "cell_type": "code",
   "execution_count": 29,
   "id": "afaad40d",
   "metadata": {},
   "outputs": [],
   "source": [
    "a = np.array([1,2,3]) # factory method"
   ]
  },
  {
   "cell_type": "code",
   "execution_count": 6,
   "id": "5012d823",
   "metadata": {},
   "outputs": [
    {
     "data": {
      "text/plain": [
       "array([1, 2, 3])"
      ]
     },
     "execution_count": 6,
     "metadata": {},
     "output_type": "execute_result"
    }
   ],
   "source": [
    "# repr\n",
    "a"
   ]
  },
  {
   "cell_type": "code",
   "execution_count": 7,
   "id": "e3b42e48",
   "metadata": {},
   "outputs": [
    {
     "name": "stdout",
     "output_type": "stream",
     "text": [
      "[1 2 3]\n"
     ]
    }
   ],
   "source": [
    "# repr\n",
    "print(a)"
   ]
  },
  {
   "cell_type": "code",
   "execution_count": 12,
   "id": "278a425c",
   "metadata": {},
   "outputs": [
    {
     "data": {
      "text/plain": [
       "{'int': [numpy.int8, numpy.int16, numpy.int32, numpy.int64],\n",
       " 'uint': [numpy.uint8, numpy.uint16, numpy.uint32, numpy.uint64],\n",
       " 'float': [numpy.float16, numpy.float32, numpy.float64],\n",
       " 'complex': [numpy.complex64, numpy.complex128],\n",
       " 'others': [bool, object, bytes, str, numpy.void]}"
      ]
     },
     "execution_count": 12,
     "metadata": {},
     "output_type": "execute_result"
    }
   ],
   "source": [
    "np.sctypes"
   ]
  },
  {
   "cell_type": "code",
   "execution_count": 8,
   "id": "cdc73ba8",
   "metadata": {},
   "outputs": [],
   "source": [
    "b = np.array([1,'1', 2])"
   ]
  },
  {
   "cell_type": "code",
   "execution_count": 9,
   "id": "38a7a778",
   "metadata": {},
   "outputs": [
    {
     "data": {
      "text/plain": [
       "array(['1', '1', '2'], dtype='<U11')"
      ]
     },
     "execution_count": 9,
     "metadata": {},
     "output_type": "execute_result"
    }
   ],
   "source": [
    "b"
   ]
  },
  {
   "cell_type": "markdown",
   "id": "876373a1",
   "metadata": {},
   "source": [
    "* torch"
   ]
  },
  {
   "cell_type": "code",
   "execution_count": 10,
   "id": "7a93d29a",
   "metadata": {
    "collapsed": true
   },
   "outputs": [
    {
     "ename": "ModuleNotFoundError",
     "evalue": "No module named 'torch'",
     "output_type": "error",
     "traceback": [
      "\u001b[1;31m---------------------------------------------------------------------------\u001b[0m",
      "\u001b[1;31mModuleNotFoundError\u001b[0m                       Traceback (most recent call last)",
      "\u001b[1;32m~\\AppData\\Local\\Temp/ipykernel_11848/4265195184.py\u001b[0m in \u001b[0;36m<module>\u001b[1;34m\u001b[0m\n\u001b[1;32m----> 1\u001b[1;33m \u001b[1;32mimport\u001b[0m \u001b[0mtorch\u001b[0m\u001b[1;33m\u001b[0m\u001b[1;33m\u001b[0m\u001b[0m\n\u001b[0m",
      "\u001b[1;31mModuleNotFoundError\u001b[0m: No module named 'torch'"
     ]
    }
   ],
   "source": [
    "import torch"
   ]
  },
  {
   "cell_type": "code",
   "execution_count": 11,
   "id": "3b42d79d",
   "metadata": {
    "collapsed": true
   },
   "outputs": [
    {
     "ename": "NameError",
     "evalue": "name 'torch' is not defined",
     "output_type": "error",
     "traceback": [
      "\u001b[1;31m---------------------------------------------------------------------------\u001b[0m",
      "\u001b[1;31mNameError\u001b[0m                                 Traceback (most recent call last)",
      "\u001b[1;32m~\\AppData\\Local\\Temp/ipykernel_11848/2015701466.py\u001b[0m in \u001b[0;36m<module>\u001b[1;34m\u001b[0m\n\u001b[1;32m----> 1\u001b[1;33m \u001b[0mx\u001b[0m \u001b[1;33m=\u001b[0m \u001b[0mtorch\u001b[0m\u001b[1;33m.\u001b[0m\u001b[0mTensor\u001b[0m\u001b[1;33m(\u001b[0m\u001b[1;33m[\u001b[0m\u001b[1;36m1\u001b[0m\u001b[1;33m,\u001b[0m\u001b[1;36m2\u001b[0m\u001b[1;33m,\u001b[0m\u001b[1;36m4.1\u001b[0m\u001b[1;33m]\u001b[0m\u001b[1;33m)\u001b[0m\u001b[1;33m\u001b[0m\u001b[1;33m\u001b[0m\u001b[0m\n\u001b[0m",
      "\u001b[1;31mNameError\u001b[0m: name 'torch' is not defined"
     ]
    }
   ],
   "source": [
    "x = torch.Tensor([1,2,4.1])"
   ]
  },
  {
   "cell_type": "code",
   "execution_count": null,
   "id": "2a83b12b",
   "metadata": {},
   "outputs": [],
   "source": [
    "x"
   ]
  },
  {
   "cell_type": "markdown",
   "id": "12b5d5cb",
   "metadata": {},
   "source": [
    "* tensorflow"
   ]
  },
  {
   "cell_type": "code",
   "execution_count": 13,
   "id": "acd253c9",
   "metadata": {},
   "outputs": [],
   "source": [
    "import tensorflow as tf"
   ]
  },
  {
   "cell_type": "code",
   "execution_count": 26,
   "id": "7e39fc96",
   "metadata": {},
   "outputs": [],
   "source": [
    "a = tf.constant([1,2,3,4])"
   ]
  },
  {
   "cell_type": "code",
   "execution_count": 27,
   "id": "3b9484ac",
   "metadata": {},
   "outputs": [
    {
     "data": {
      "text/plain": [
       "<tf.Tensor: shape=(4,), dtype=int32, numpy=array([1, 2, 3, 4])>"
      ]
     },
     "execution_count": 27,
     "metadata": {},
     "output_type": "execute_result"
    }
   ],
   "source": [
    "a"
   ]
  },
  {
   "cell_type": "code",
   "execution_count": 28,
   "id": "5829c6a8",
   "metadata": {},
   "outputs": [
    {
     "data": {
      "text/plain": [
       "tensorflow.python.framework.ops.EagerTensor"
      ]
     },
     "execution_count": 28,
     "metadata": {},
     "output_type": "execute_result"
    }
   ],
   "source": [
    "type(a)"
   ]
  },
  {
   "cell_type": "markdown",
   "id": "44e44d30",
   "metadata": {},
   "source": [
    "* numpy"
   ]
  },
  {
   "cell_type": "code",
   "execution_count": 16,
   "id": "f5d22852",
   "metadata": {},
   "outputs": [],
   "source": [
    "import numpy as np"
   ]
  },
  {
   "cell_type": "code",
   "execution_count": 17,
   "id": "e0e870c2",
   "metadata": {},
   "outputs": [],
   "source": [
    "a = np.array([1,2,3])"
   ]
  },
  {
   "cell_type": "code",
   "execution_count": 18,
   "id": "9505a9cb",
   "metadata": {},
   "outputs": [
    {
     "data": {
      "text/plain": [
       "array([1, 2, 3])"
      ]
     },
     "execution_count": 18,
     "metadata": {},
     "output_type": "execute_result"
    }
   ],
   "source": [
    "a"
   ]
  },
  {
   "cell_type": "code",
   "execution_count": 20,
   "id": "4bcdd6b7",
   "metadata": {},
   "outputs": [
    {
     "data": {
      "text/plain": [
       "numpy.ndarray"
      ]
     },
     "execution_count": 20,
     "metadata": {},
     "output_type": "execute_result"
    }
   ],
   "source": [
    "type(a)"
   ]
  },
  {
   "cell_type": "code",
   "execution_count": 23,
   "id": "ac70fe5a",
   "metadata": {},
   "outputs": [
    {
     "data": {
      "text/plain": [
       "numpy.ndarray"
      ]
     },
     "execution_count": 23,
     "metadata": {},
     "output_type": "execute_result"
    }
   ],
   "source": [
    "a.__class__"
   ]
  },
  {
   "cell_type": "code",
   "execution_count": 25,
   "id": "3c0043a3",
   "metadata": {},
   "outputs": [
    {
     "data": {
      "text/plain": [
       "array([[ 4.63939877e-308, -5.64938534e+036, -1.78409531e+046],\n",
       "       [-4.32950182e-035, -8.72433218e-026, -1.57234264e-063]])"
      ]
     },
     "execution_count": 25,
     "metadata": {},
     "output_type": "execute_result"
    }
   ],
   "source": [
    "# 쓰레기값 들어감 C언어 기반이라\n",
    "np.ndarray((2,3))"
   ]
  },
  {
   "cell_type": "code",
   "execution_count": null,
   "id": "f3bb57c3",
   "metadata": {},
   "outputs": [],
   "source": [
    "a = np.array([1,2,3]) # factory method"
   ]
  },
  {
   "cell_type": "code",
   "execution_count": 32,
   "id": "da34d1e2",
   "metadata": {},
   "outputs": [],
   "source": [
    "aa = np.array([[1,2,3], [4,5,6]])"
   ]
  },
  {
   "cell_type": "code",
   "execution_count": 33,
   "id": "97cecbda",
   "metadata": {},
   "outputs": [
    {
     "data": {
      "text/plain": [
       "array([[1, 2, 3],\n",
       "       [4, 5, 6]])"
      ]
     },
     "execution_count": 33,
     "metadata": {},
     "output_type": "execute_result"
    }
   ],
   "source": [
    "aa"
   ]
  },
  {
   "cell_type": "code",
   "execution_count": 47,
   "id": "a3c398de",
   "metadata": {},
   "outputs": [],
   "source": [
    "aa = np.array([[[1,2,3], [5,6,7]], [[1,2,3], [4,5,6]]])"
   ]
  },
  {
   "cell_type": "code",
   "execution_count": 49,
   "id": "ed10594c",
   "metadata": {},
   "outputs": [
    {
     "data": {
      "text/plain": [
       "array([[[1, 2, 3],\n",
       "        [5, 6, 7]],\n",
       "\n",
       "       [[1, 2, 3],\n",
       "        [4, 5, 6]]])"
      ]
     },
     "execution_count": 49,
     "metadata": {},
     "output_type": "execute_result"
    }
   ],
   "source": [
    "aa"
   ]
  },
  {
   "cell_type": "code",
   "execution_count": 50,
   "id": "754df2f7",
   "metadata": {},
   "outputs": [
    {
     "data": {
      "text/plain": [
       "(2, 2, 3)"
      ]
     },
     "execution_count": 50,
     "metadata": {},
     "output_type": "execute_result"
    }
   ],
   "source": [
    "aa.shape"
   ]
  },
  {
   "cell_type": "code",
   "execution_count": 51,
   "id": "71ee7658",
   "metadata": {},
   "outputs": [
    {
     "data": {
      "text/plain": [
       "dtype('int32')"
      ]
     },
     "execution_count": 51,
     "metadata": {},
     "output_type": "execute_result"
    }
   ],
   "source": [
    "aa.dtype"
   ]
  },
  {
   "cell_type": "code",
   "execution_count": 53,
   "id": "a9f7d224",
   "metadata": {},
   "outputs": [
    {
     "data": {
      "text/plain": [
       "(2, 2, 3)"
      ]
     },
     "execution_count": 53,
     "metadata": {},
     "output_type": "execute_result"
    }
   ],
   "source": [
    "aa.shape"
   ]
  },
  {
   "cell_type": "code",
   "execution_count": 54,
   "id": "1942a02b",
   "metadata": {},
   "outputs": [
    {
     "data": {
      "text/plain": [
       "12"
      ]
     },
     "execution_count": 54,
     "metadata": {},
     "output_type": "execute_result"
    }
   ],
   "source": [
    "aa.size"
   ]
  },
  {
   "cell_type": "code",
   "execution_count": 55,
   "id": "ed53a1c1",
   "metadata": {},
   "outputs": [
    {
     "data": {
      "text/plain": [
       "3"
      ]
     },
     "execution_count": 55,
     "metadata": {},
     "output_type": "execute_result"
    }
   ],
   "source": [
    "aa.ndim"
   ]
  },
  {
   "cell_type": "code",
   "execution_count": 57,
   "id": "52e775ed",
   "metadata": {},
   "outputs": [
    {
     "data": {
      "text/plain": [
       "array([[[0., 0., 0., 0., 0.],\n",
       "        [0., 0., 0., 0., 0.]],\n",
       "\n",
       "       [[0., 0., 0., 0., 0.],\n",
       "        [0., 0., 0., 0., 0.]],\n",
       "\n",
       "       [[0., 0., 0., 0., 0.],\n",
       "        [0., 0., 0., 0., 0.]],\n",
       "\n",
       "       [[0., 0., 0., 0., 0.],\n",
       "        [0., 0., 0., 0., 0.]]])"
      ]
     },
     "execution_count": 57,
     "metadata": {},
     "output_type": "execute_result"
    }
   ],
   "source": [
    "np.zeros((4,2,5))"
   ]
  },
  {
   "cell_type": "code",
   "execution_count": 68,
   "id": "4165971c",
   "metadata": {},
   "outputs": [
    {
     "data": {
      "text/plain": [
       "array([[[1., 1.],\n",
       "        [1., 1.],\n",
       "        [1., 1.]],\n",
       "\n",
       "       [[1., 1.],\n",
       "        [1., 1.],\n",
       "        [1., 1.]],\n",
       "\n",
       "       [[1., 1.],\n",
       "        [1., 1.],\n",
       "        [1., 1.]]])"
      ]
     },
     "execution_count": 68,
     "metadata": {},
     "output_type": "execute_result"
    }
   ],
   "source": [
    "np.ones([3,3,2])"
   ]
  },
  {
   "cell_type": "code",
   "execution_count": 64,
   "id": "469fddd0",
   "metadata": {},
   "outputs": [
    {
     "data": {
      "text/plain": [
       "array([[1., 0., 0., 0.],\n",
       "       [0., 1., 0., 0.],\n",
       "       [0., 0., 1., 0.],\n",
       "       [0., 0., 0., 1.]])"
      ]
     },
     "execution_count": 64,
     "metadata": {},
     "output_type": "execute_result"
    }
   ],
   "source": [
    "np.identity(4)"
   ]
  },
  {
   "cell_type": "code",
   "execution_count": 58,
   "id": "436a9ea4",
   "metadata": {},
   "outputs": [
    {
     "data": {
      "text/plain": [
       "array([[6, 6, 6],\n",
       "       [6, 6, 6],\n",
       "       [6, 6, 6]])"
      ]
     },
     "execution_count": 58,
     "metadata": {},
     "output_type": "execute_result"
    }
   ],
   "source": [
    "np.full((3,3), 6)"
   ]
  },
  {
   "cell_type": "code",
   "execution_count": 61,
   "id": "66309543",
   "metadata": {},
   "outputs": [
    {
     "data": {
      "text/plain": [
       "array([[1, 2, 3],\n",
       "       [0, 2, 3],\n",
       "       [0, 0, 5]])"
      ]
     },
     "execution_count": 61,
     "metadata": {},
     "output_type": "execute_result"
    }
   ],
   "source": [
    "np.triu([[1,2,3], [0, 2, 3], [0, 4, 5]])"
   ]
  },
  {
   "cell_type": "code",
   "execution_count": 63,
   "id": "ee7c7544",
   "metadata": {},
   "outputs": [
    {
     "name": "stdout",
     "output_type": "stream",
     "text": [
      "Search results for 'tri'\n",
      "------------------------\n",
      "numpy.tril\n",
      "    Lower triangle of an array.\n",
      "numpy.triu\n",
      "    Upper triangle of an array.\n",
      "numpy.matrix\n",
      "    .. note:: It is no longer recommended to use this class, even for linear\n",
      "numpy.asmatrix\n",
      "    Interpret the input as a matrix.\n",
      "numpy.cov\n",
      "    Estimate a covariance matrix, given data and weights.\n",
      "numpy.sin\n",
      "    Trigonometric sine, element-wise.\n",
      "numpy.std\n",
      "    Compute the standard deviation along the specified axis.\n",
      "numpy.Str0\n",
      "    A unicode string.\n",
      "numpy.bmat\n",
      "    Build a matrix object from a string, nested sequence, or array.\n",
      "numpy.fromstring\n",
      "    A new 1-D array initialized from text data in a string.\n",
      "numpy.trim_zeros\n",
      "    Trim the leading and/or trailing zeros from a 1-D array or sequence.\n",
      "numpy.empty\n",
      "    Return a new array of given shape and type, without initializing entries.\n",
      "numpy.hypot\n",
      "    Given the \"legs\" of a right triangle, return its hypotenuse.\n",
      "numpy.Bytes0\n",
      "    A byte string.\n",
      "numpy.MachAr\n",
      "    Diagnosing machine parameters.\n",
      "numpy.arccos\n",
      "    Trigonometric inverse cosine, element-wise.\n",
      "numpy.arctan\n",
      "    Trigonometric inverse tangent, element-wise.\n",
      "numpy.array2string\n",
      "    Return a string representation of an array.\n",
      "numpy.delete\n",
      "    Return a new array with sub-arrays along an axis deleted. For a one\n",
      "numpy.fliplr\n",
      "    Flip array in the left/right direction.\n",
      "numpy.flipud\n",
      "    Flip array in the up/down direction.\n",
      "numpy.matmul\n",
      "    Matrix product of two arrays.\n",
      "numpy.record\n",
      "    A data-type scalar that allows field access as attribute lookup.\n",
      "numpy.tril_indices\n",
      "    Return the indices for the lower-triangle of an (n, m) array.\n",
      "numpy.triu_indices\n",
      "    Return the indices for the upper-triangle of an (n, m) array.\n",
      "numpy.vander\n",
      "    Generate a Vandermonde matrix.\n",
      "numpy.add_docstring\n",
      "    Add a docstring to a built-in obj if possible.\n",
      "numpy.lookfor\n",
      "    Do a keyword search on docstrings.\n",
      "numpy.ndarray\n",
      "    ndarray(shape, dtype=float, buffer=None, offset=0,\n",
      "numpy.Str0.strip\n",
      "    Return a copy of the string with leading and trailing whitespace removed.\n",
      "numpy.bartlett\n",
      "    Return the Bartlett window.\n",
      "numpy.meshgrid\n",
      "    Return coordinate matrices from coordinate vectors.\n",
      "numpy.Str0.lstrip\n",
      "    Return a copy of the string with leading whitespace removed.\n",
      "numpy.Str0.rstrip\n",
      "    Return a copy of the string with trailing whitespace removed.\n",
      "numpy.recarray\n",
      "    Construct an ndarray that allows field access using attributes.\n",
      "numpy.array_str\n",
      "    Return a string representation of the data in an array.\n",
      "numpy.base_repr\n",
      "    Return a string representation of a number in the given base system.\n",
      "numpy.character\n",
      "    Abstract base class of all character string scalar types.\n",
      "numpy.chararray\n",
      "    chararray(shape, itemsize=1, unicode=False, buffer=None, offset=0,\n",
      "numpy.deprecate\n",
      "    Issues a DeprecationWarning, adds warning to `old_name`'s\n",
      "numpy.Bytes0.strip\n",
      "    Strip leading and trailing bytes contained in the argument.\n",
      "numpy.geomspace\n",
      "    Return numbers spaced evenly on a log scale (a geometric progression).\n",
      "numpy.isfortran\n",
      "    Check if the array is Fortran contiguous but *not* C contiguous.\n",
      "numpy.safe_eval\n",
      "    Protected string evaluation.\n",
      "numpy.transpose\n",
      "    Reverse or permute the axes of an array; returns the modified array.\n",
      "numpy.add_newdoc\n",
      "    Add documentation to an existing object, typically one defined in C\n",
      "numpy.array_repr\n",
      "    Return the string representation of an array.\n",
      "numpy.Bytes0.lstrip\n",
      "    Strip leading bytes contained in the argument.\n",
      "numpy.Bytes0.rstrip\n",
      "    Strip trailing bytes contained in the argument.\n",
      "numpy.matrix.all\n",
      "    Test whether all matrix elements along a given axis evaluate to True.\n",
      "numpy.matrix.sum\n",
      "    Returns the sum of the matrix elements, along the given axis.\n",
      "numpy.matrix.var\n",
      "    Returns the variance of the matrix elements, along the given axis.\n",
      "numpy.RankWarning\n",
      "    Issued by `polyfit` when the Vandermonde matrix is rank deficient.\n",
      "numpy.binary_repr\n",
      "    Return the binary representation of the input number as a string.\n",
      "numpy.matrix.getT\n",
      "    Returns the transpose of the matrix.\n",
      "numpy.matrix.mean\n",
      "    Returns the average of the matrix elements along the given axis.\n",
      "numpy.sctype2char\n",
      "    Return the string representation of a scalar dtype.\n",
      "numpy.tril_indices_from\n",
      "    Return the indices for the lower-triangle of arr.\n",
      "numpy.triu_indices_from\n",
      "    Return the indices for the upper-triangle of arr.\n",
      "numpy.char.add\n",
      "    Return element-wise string concatenation for two arrays of str or unicode.\n",
      "numpy.char.mod\n",
      "    Return (a % i), that is pre-Python 2.6 string formatting\n",
      "numpy.ma.cov\n",
      "    Estimate the covariance matrix.\n",
      "numpy.datetime_as_string\n",
      "    Convert an array of datetimes into an array of strings.\n",
      "numpy.Bytes0.tostring\n",
      "    Scalar method identical to the corresponding array attribute.\n",
      "numpy.ma.sin\n",
      "    Trigonometric sine, element-wise.\n",
      "numpy.matrix.ravel\n",
      "    Return a flattened matrix.\n",
      "numpy.Str0.find\n",
      "    Return the lowest index in S where substring sub is found,\n",
      "numpy.Str0.join\n",
      "    Concatenate any number of strings.\n",
      "numpy.char.find\n",
      "    For each element, return the lowest index in the string where\n",
      "numpy.char.join\n",
      "    Return a string which is the concatenation of the strings in the\n",
      "numpy.Bytes0.all\n",
      "    Scalar method identical to the corresponding array attribute.\n",
      "numpy.Bytes0.any\n",
      "    Scalar method identical to the corresponding array attribute.\n",
      "numpy.Bytes0.max\n",
      "    Scalar method identical to the corresponding array attribute.\n",
      "numpy.Bytes0.min\n",
      "    Scalar method identical to the corresponding array attribute.\n",
      "numpy.Bytes0.ptp\n",
      "    Scalar method identical to the corresponding array attribute.\n",
      "numpy.Bytes0.put\n",
      "    Scalar method identical to the corresponding array attribute.\n",
      "numpy.Bytes0.std\n",
      "    Scalar method identical to the corresponding array attribute.\n",
      "numpy.Bytes0.sum\n",
      "    Scalar method identical to the corresponding array attribute.\n",
      "numpy.format_parser\n",
      "    Class to convert formats, names, titles description to a dtype.\n",
      "numpy.Bytes0.var\n",
      "    Scalar method identical to the corresponding array attribute.\n",
      "numpy.Str0.count\n",
      "    Return the number of non-overlapping occurrences of substring sub in\n",
      "numpy.matrix.tolist\n",
      "    Return the matrix as a (possibly nested) list.\n",
      "numpy.Str0.index\n",
      "    Return the lowest index in S where substring sub is found,\n",
      "numpy.Str0.ljust\n",
      "    Return a left-justified string of length width.\n",
      "numpy.Str0.lower\n",
      "    Return a copy of the string converted to lowercase.\n",
      "numpy.Str0.rfind\n",
      "    Return the highest index in S where substring sub is found,\n",
      "numpy.Str0.rjust\n",
      "    Return a right-justified string of length width.\n",
      "numpy.Str0.split\n",
      "    Return a list of the words in the string, using sep as the delimiter string.\n",
      "numpy.Str0.title\n",
      "    Return a version of the string where each word is titlecased.\n",
      "numpy.Str0.upper\n",
      "    Return a copy of the string converted to uppercase.\n",
      "numpy.Str0.zfill\n",
      "    Pad a numeric string with zeros on the left, to fill a field of the given width.\n",
      "numpy.char.count\n",
      "    Returns an array with the number of non-overlapping occurrences of\n",
      "numpy.char.index\n",
      "    Like `find`, but raises `ValueError` when the substring is not found.\n",
      "numpy.char.ljust\n",
      "    Return an array with the elements of `a` left-justified in a\n",
      "numpy.char.rfind\n",
      "    For each element in `a`, return the highest index in the string\n",
      "numpy.char.rjust\n",
      "    Return an array with the elements of `a` right-justified in a\n",
      "numpy.char.split\n",
      "    For each element in `a`, return a list of the words in the\n",
      "numpy.char.title\n",
      "    Return element-wise title cased version of string or unicode.\n",
      "numpy.char.zfill\n",
      "    Return the numeric string left-filled with zeros\n",
      "numpy.Bytes0.clip\n",
      "    Scalar method identical to the corresponding array attribute.\n",
      "numpy.Bytes0.copy\n",
      "    Scalar method identical to the corresponding array attribute.\n",
      "numpy.ma.empty\n",
      "    Return a new array of given shape and type, without initializing entries.\n",
      "numpy.Bytes0.dump\n",
      "    Scalar method identical to the corresponding array attribute.\n",
      "numpy.Bytes0.fill\n",
      "    Scalar method identical to the corresponding array attribute.\n",
      "numpy.ma.hypot\n",
      "    Given the \"legs\" of a right triangle, return its hypotenuse.\n",
      "numpy.Bytes0.item\n",
      "    Scalar method identical to the corresponding array attribute.\n",
      "numpy.Bytes0.mean\n",
      "    Scalar method identical to the corresponding array attribute.\n",
      "numpy.Bytes0.prod\n",
      "    Scalar method identical to the corresponding array attribute.\n",
      "numpy.Bytes0.sort\n",
      "    Scalar method identical to the corresponding array attribute.\n",
      "numpy.Bytes0.take\n",
      "    Scalar method identical to the corresponding array attribute.\n",
      "numpy.Bytes0.view\n",
      "    Scalar method identical to the corresponding array attribute.\n",
      "numpy.matrix.flatten\n",
      "    Return a flattened copy of the matrix.\n",
      "numpy.Str0.center\n",
      "    Return a centered string of length width.\n",
      "numpy.Str0.encode\n",
      "    Encode the string using the codec registered for encoding.\n",
      "numpy.matrix.squeeze\n",
      "    Return a possibly reshaped matrix.\n",
      "numpy.Str0.rindex\n",
      "    Return the highest index in S where substring sub is found,\n",
      "numpy.Str0.rsplit\n",
      "    Return a list of the words in the string, using sep as the delimiter string.\n",
      "numpy.linalg.qr\n",
      "    Compute the qr factorization of a matrix.\n",
      "numpy.char.center\n",
      "    Return a copy of `a` with its elements centered in a string of\n",
      "numpy.ma.arccos\n",
      "    Trigonometric inverse cosine, element-wise.\n",
      "numpy.ma.arctan\n",
      "    Trigonometric inverse tangent, element-wise.\n",
      "numpy.char.rindex\n",
      "    Like `rfind`, but raises `ValueError` when the substring `sub` is\n",
      "numpy.char.rsplit\n",
      "    For each element in `a`, return a list of the words in the\n",
      "numpy.Bytes0.dumps\n",
      "    Scalar method identical to the corresponding array attribute.\n",
      "numpy.Bytes0.ljust\n",
      "    Return a left-justified string of length width.\n",
      "numpy.Bytes0.ravel\n",
      "    Scalar method identical to the corresponding array attribute.\n",
      "numpy.Bytes0.rjust\n",
      "    Return a right-justified string of length width.\n",
      "numpy.Bytes0.round\n",
      "    Scalar method identical to the corresponding array attribute.\n",
      "numpy.Bytes0.trace\n",
      "    Scalar method identical to the corresponding array attribute.\n",
      "numpy.Bytes0.zfill\n",
      "    Pad a numeric string with zeros on the left, to fill a field of the given width.\n",
      "numpy.ma.vander\n",
      "    Generate a Vandermonde matrix.\n",
      "numpy.Str0.isalnum\n",
      "    Return True if the string is an alpha-numeric string, False otherwise.\n",
      "numpy.Str0.isalpha\n",
      "    Return True if the string is an alphabetic string, False otherwise.\n",
      "numpy.Str0.isascii\n",
      "    Return True if all characters in the string are ASCII, False otherwise.\n",
      "numpy.Str0.isdigit\n",
      "    Return True if the string is a digit string, False otherwise.\n",
      "numpy.Str0.islower\n",
      "    Return True if the string is a lowercase string, False otherwise.\n",
      "numpy.Str0.isspace\n",
      "    Return True if the string is a whitespace string, False otherwise.\n",
      "numpy.Str0.istitle\n",
      "    Return True if the string is a title-cased string, False otherwise.\n",
      "numpy.Str0.isupper\n",
      "    Return True if the string is an uppercase string, False otherwise.\n",
      "numpy.Str0.replace\n",
      "    Return a copy with all occurrences of substring old replaced by new.\n",
      "numpy.linalg.inv\n",
      "    Compute the (multiplicative) inverse of a matrix.\n",
      "numpy.char.isalnum\n",
      "    Returns true for each element if all characters in the string are\n",
      "numpy.char.isalpha\n",
      "    Returns true for each element if all characters in the string are\n",
      "numpy.char.isdigit\n",
      "    Returns true for each element if all characters in the string are\n",
      "numpy.char.islower\n",
      "    Returns true for each element if all cased characters in the\n",
      "numpy.char.isspace\n",
      "    Returns true for each element if there are only whitespace\n",
      "numpy.char.istitle\n",
      "    Returns true for each element if the element is a titlecased\n",
      "numpy.char.isupper\n",
      "    Returns true for each element if all cased characters in the\n",
      "numpy.char.replace\n",
      "    For each element in `a`, return a copy of the string with all\n",
      "numpy.Bytes0.argmax\n",
      "    Scalar method identical to the corresponding array attribute.\n",
      "numpy.Bytes0.argmin\n",
      "    Scalar method identical to the corresponding array attribute.\n",
      "numpy.Bytes0.astype\n",
      "    Scalar method identical to the corresponding array attribute.\n",
      "numpy.Bytes0.center\n",
      "    Return a centered string of length width.\n",
      "numpy.Bytes0.choose\n",
      "    Scalar method identical to the corresponding array attribute.\n",
      "numpy.Bytes0.cumsum\n",
      "    Scalar method identical to the corresponding array attribute.\n",
      "numpy.Bytes0.repeat\n",
      "    Scalar method identical to the corresponding array attribute.\n",
      "numpy.Bytes0.resize\n",
      "    Scalar method identical to the corresponding array attribute.\n",
      "numpy.Bytes0.tofile\n",
      "    Scalar method identical to the corresponding array attribute.\n",
      "numpy.Bytes0.tolist\n",
      "    Scalar method identical to the corresponding array attribute.\n",
      "numpy.matlib.eye\n",
      "    Return a matrix with ones on the diagonal and zeros elsewhere.\n",
      "numpy.chararray.tostring\n",
      "    A compatibility alias for `tobytes`, with exactly the same behavior.\n",
      "numpy.Str0.casefold\n",
      "    Return a version of the string suitable for caseless comparisons.\n",
      "numpy.linalg.cond\n",
      "    Compute the condition number of a matrix.\n",
      "numpy.linalg.eigh\n",
      "    Return the eigenvalues and eigenvectors of a complex Hermitian\n",
      "numpy.linalg.norm\n",
      "    Matrix or vector norm.\n",
      "numpy.linalg.pinv\n",
      "    Compute the (Moore-Penrose) pseudo-inverse of a matrix.\n",
      "numpy._add_newdoc_ufunc\n",
      "    Replace the docstring for a ufunc with new_docstring.\n",
      "numpy.ma.allequal\n",
      "    Return True if all entries of a and b are equal, using\n",
      "numpy.char.endswith\n",
      "    Returns a boolean array which is `True` where the string element\n",
      "numpy.f2py.compile\n",
      "    Build extension module from a Fortran 77 source string with f2py.\n",
      "numpy.char.multiply\n",
      "    Return (a * i), that is string multiple concatenation,\n",
      "numpy.char.swapcase\n",
      "    Return element-wise a copy of the string with\n",
      "numpy.Bytes0.argsort\n",
      "    Scalar method identical to the corresponding array attribute.\n",
      "numpy.Bytes0.cumprod\n",
      "    Scalar method identical to the corresponding array attribute.\n",
      "numpy.Bytes0.flatten\n",
      "    Scalar method identical to the corresponding array attribute.\n",
      "numpy.Bytes0.fromhex\n",
      "    Create a bytes object from a string of hexadecimal numbers.\n",
      "numpy.Bytes0.istitle\n",
      "    B.istitle() -> bool\n",
      "numpy.Bytes0.itemset\n",
      "    Scalar method identical to the corresponding array attribute.\n",
      "numpy.Bytes0.nonzero\n",
      "    Scalar method identical to the corresponding array attribute.\n",
      "numpy.Bytes0.replace\n",
      "    Return a copy with all occurrences of substring old replaced by new.\n",
      "numpy.Bytes0.reshape\n",
      "    Scalar method identical to the corresponding array attribute.\n",
      "numpy.Bytes0.squeeze\n",
      "    Scalar method identical to the corresponding array attribute.\n",
      "numpy.matlib.ones\n",
      "    Matrix of ones.\n",
      "numpy.matlib.rand\n",
      "    Return a matrix of random values with given shape.\n",
      "numpy.Str0.isdecimal\n",
      "    Return True if the string is a decimal string, False otherwise.\n",
      "numpy.Str0.isnumeric\n",
      "    Return True if the string is a numeric string, False otherwise.\n",
      "numpy.Str0.partition\n",
      "    Partition the string into three parts using the given separator.\n",
      "numpy.Str0.translate\n",
      "    Replace each character in the string using the given translation table.\n",
      "numpy.linalg.lstsq\n",
      "    Return the least-squares solution to a linear matrix equation.\n",
      "numpy.linalg.matrix_rank\n",
      "    Return matrix rank of array using SVD method\n",
      "numpy.linalg.solve\n",
      "    Solve a linear matrix equation, or system of linear scalar equations.\n",
      "numpy.char.translate\n",
      "    For each element in `a`, return a copy of the string where all\n",
      "numpy.compare_chararrays\n",
      "    Performs element-wise comparison of two string arrays using the\n",
      "numpy.Bytes0.byteswap\n",
      "    Scalar method identical to the corresponding array attribute.\n",
      "numpy.Bytes0.compress\n",
      "    Scalar method identical to the corresponding array attribute.\n",
      "numpy.Bytes0.diagonal\n",
      "    Scalar method identical to the corresponding array attribute.\n",
      "numpy.Bytes0.getfield\n",
      "    Scalar method identical to the corresponding array attribute.\n",
      "numpy.Bytes0.setfield\n",
      "    Scalar method identical to the corresponding array attribute.\n",
      "numpy.Bytes0.setflags\n",
      "    Scalar method identical to the corresponding array attribute.\n",
      "numpy.Bytes0.swapaxes\n",
      "    Scalar method identical to the corresponding array attribute.\n",
      "numpy.chararray.find\n",
      "    For each element, return the lowest index in the string where\n",
      "numpy.iinfo.__str__\n",
      "    String representation.\n",
      "numpy.chararray.join\n",
      "    Return a string which is the concatenation of the strings in the\n",
      "numpy.matlib.empty\n",
      "    Return a new matrix of given shape and type, without initializing entries.\n",
      "numpy.matlib.randn\n",
      "    Return a random matrix with data from the \"standard normal\" distribution.\n",
      "numpy.matlib.zeros\n",
      "    Return a matrix of given shape and type, filled with zeros.\n",
      "numpy.Str0.__format__\n",
      "    Return a formatted version of the string as described by format_spec.\n",
      "numpy.Str0.__sizeof__\n",
      "    Return the size of the string in memory, in bytes.\n",
      "numpy.Str0.capitalize\n",
      "    Return a capitalized version of the string.\n",
      "numpy.Str0.rpartition\n",
      "    Partition the string into three parts using the given separator.\n",
      "numpy.Str0.splitlines\n",
      "    Return a list of the lines in the string, breaking at line boundaries.\n",
      "numpy.linalg.matrix_power\n",
      "    Raise a square matrix to the (integer) power `n`.\n",
      "numpy.double.fromhex\n",
      "    Create a floating-point number from a hexadecimal string.\n",
      "numpy.char.expandtabs\n",
      "    Return a copy of each string element where all tab characters are\n",
      "numpy.char.startswith\n",
      "    Returns a boolean array which is `True` where the string element\n",
      "numpy.Bytes0.conjugate\n",
      "    Scalar method identical to the corresponding array attribute.\n",
      "numpy.Bytes0.transpose\n",
      "    Scalar method identical to the corresponding array attribute.\n",
      "numpy.chararray.count\n",
      "    Returns an array with the number of non-overlapping occurrences of\n",
      "numpy.chararray.dumps\n",
      "    a.dumps()\n",
      "numpy.chararray.index\n",
      "    Like `find`, but raises `ValueError` when the substring is not found.\n",
      "numpy.chararray.ljust\n",
      "    Return an array with the elements of `self` left-justified in a\n",
      "numpy.matlib.repmat\n",
      "    Repeat a 0-D to 2-D array or matrix MxN times.\n",
      "numpy.chararray.rfind\n",
      "    For each element in `self`, return the highest index in the string\n",
      "numpy.chararray.rjust\n",
      "    Return an array with the elements of `self`\n",
      "numpy.chararray.split\n",
      "    For each element in `self`, return a list of the words in the\n",
      "numpy.chararray.title\n",
      "    For each element in `self`, return a titlecased version of the\n",
      "numpy.chararray.zfill\n",
      "    Return the numeric string left-filled with zeros in a string of\n",
      "numpy.Str0.isprintable\n",
      "    Return True if the string is printable, False otherwise.\n",
      "numpy.linalg.eigvals\n",
      "    Compute the eigenvalues of a general matrix.\n",
      "numpy.chararray.center\n",
      "    Return a copy of `self` with its elements centered in a\n",
      "numpy.chararray.rindex\n",
      "    Like `rfind`, but raises `ValueError` when the substring `sub` is\n",
      "numpy.chararray.rsplit\n",
      "    For each element in `self`, return a list of the words in\n",
      "numpy.Str0.isidentifier\n",
      "    Return True if the string is a valid Python identifier, False otherwise.\n",
      "numpy.Str0.removeprefix\n",
      "    Return a str with the given prefix string removed if present.\n",
      "numpy.Str0.removesuffix\n",
      "    Return a str with the given suffix string removed if present.\n",
      "numpy.linalg.cholesky\n",
      "    Cholesky decomposition.\n",
      "numpy.linalg.eigvalsh\n",
      "    Compute the eigenvalues of a complex Hermitian or real symmetric matrix.\n",
      "numpy.chararray.__add__\n",
      "    Return (self + other), that is string concatenation,\n",
      "numpy.chararray.__mod__\n",
      "    Return (self % i), that is pre-Python 2.6 string formatting\n",
      "numpy.chararray.__mul__\n",
      "    Return (self * i), that is string multiple concatenation,\n",
      "numpy.chararray.isalnum\n",
      "    Returns true for each element if all characters in the string\n",
      "numpy.chararray.isalpha\n",
      "    Returns true for each element if all characters in the string\n",
      "numpy.chararray.isdigit\n",
      "    Returns true for each element if all characters in the string are\n",
      "numpy.chararray.islower\n",
      "    Returns true for each element if all cased characters in the\n",
      "numpy.chararray.isspace\n",
      "    Returns true for each element if there are only whitespace\n",
      "numpy.chararray.istitle\n",
      "    Returns true for each element if the element is a titlecased\n",
      "numpy.chararray.isupper\n",
      "    Returns true for each element if all cased characters in the\n",
      "numpy.matlib.identity\n",
      "    Returns the square identity matrix of given size.\n",
      "numpy.chararray.replace\n",
      "    For each element in `self`, return a copy of the string with all\n",
      "numpy.record.getfield\n",
      "    Scalar method identical to the corresponding array attribute.\n",
      "numpy.record.setfield\n",
      "    Scalar method identical to the corresponding array attribute.\n",
      "numpy.testing.measure\n",
      "    Return elapsed time for executing code in the namespace of the caller.\n",
      "numpy.Bytes0.removeprefix\n",
      "    Return a bytes object with the given prefix string removed if present.\n",
      "numpy.Bytes0.removesuffix\n",
      "    Return a bytes object with the given suffix string removed if present.\n",
      "numpy.chararray.__radd__\n",
      "    Return (other + self), that is string concatenation,\n",
      "numpy.Bytes0.searchsorted\n",
      "    Scalar method identical to the corresponding array attribute.\n",
      "numpy.chararray.__rmul__\n",
      "    Return (self * i), that is string multiple concatenation,\n",
      "numpy.chararray.endswith\n",
      "    Returns a boolean array which is `True` where the string element\n",
      "numpy.chararray.swapcase\n",
      "    For each element in `self`, return a copy of the string with\n",
      "numpy.ma.make_mask_none\n",
      "    Return a boolean mask of the given shape, filled with False.\n",
      "numpy.format_float_positional\n",
      "    Format a floating-point scalar as a decimal string in positional notation.\n",
      "numpy.format_float_scientific\n",
      "    Format a floating-point scalar as a decimal string in scientific notation.\n",
      "numpy.chararray.translate\n",
      "    For each element in `self`, return a copy of the string where\n",
      "numpy.chararray.expandtabs\n",
      "    Return a copy of each string element where all tab characters are\n",
      "numpy.chararray.startswith\n",
      "    Returns a boolean array which is `True` where the string element\n",
      "numpy.testing.assert_string_equal\n",
      "    Test if two strings are equal.\n",
      "numpy.ma.MaskedArray.dot\n",
      "    Masked dot product of two arrays. Note that `out` and `strict` are\n",
      "numpy.ma.MaskedArray.std\n",
      "    Returns the standard deviation of the array elements along given axis.\n",
      "numpy.ma.MaskedArray.mean\n",
      "    Returns the average of the array elements along given axis.\n",
      "numpy.random.Generator.f\n",
      "    Draw samples from an F distribution.\n",
      "numpy.lib._iotools.str2bool\n",
      "    Tries to transform a string supposed to represent a boolean to a boolean.\n",
      "numpy.format_parser._setfieldnames\n",
      "    convert input field names into a list and assign to the _names\n",
      "numpy.random.Generator.geometric\n",
      "    Draw samples from the geometric distribution.\n",
      "numpy.random.RandomState.f\n",
      "    Draw samples from an F distribution.\n",
      "numpy.lib._iotools.StringConverter\n",
      "    Factory class for function transforming a string into another object\n",
      "numpy.lib._iotools._is_string_like\n",
      "    Check whether obj behaves like a string.\n",
      "numpy.random.Generator.beta\n",
      "    Draw samples from a Beta distribution.\n",
      "numpy.ma.MaskedArray.tobytes\n",
      "    Return the array data as a string containing the raw bytes in the array.\n",
      "numpy.random.Generator.triangular\n",
      "    Draw samples from the triangular distribution over the\n",
      "numpy.random.Generator.wald\n",
      "    Draw samples from a Wald, or inverse Gaussian, distribution.\n",
      "numpy.random.Generator.zipf\n",
      "    Draw samples from a Zipf distribution.\n",
      "numpy.ma.MaskedArray.__repr__\n",
      "    Literal string representation.\n",
      "numpy.random.Generator.gamma\n",
      "    Draw samples from a Gamma distribution.\n",
      "numpy.random.Generator.power\n",
      "    Draws samples in [0, 1] from a power distribution with positive\n",
      "numpy.random.RandomState.geometric\n",
      "    Draw samples from the geometric distribution.\n",
      "numpy.distutils.misc_util.all_strings\n",
      "    Return True if all items in lst are string objects.\n",
      "numpy.lib.recfunctions.join_by\n",
      "    Join arrays `r1` and `r2` on key `key`.\n",
      "numpy.random.Generator.gumbel\n",
      "    Draw samples from a Gumbel distribution.\n",
      "numpy.random.Generator.normal\n",
      "    Draw random samples from a normal (Gaussian) distribution.\n",
      "numpy.random.Generator.pareto\n",
      "    Draw samples from a Pareto II or Lomax distribution with\n",
      "numpy.random.RandomState.beta\n",
      "    Draw samples from a Beta distribution.\n",
      "numpy.random.RandomState.triangular\n",
      "    Draw samples from the triangular distribution over the\n",
      "numpy.random.RandomState.wald\n",
      "    Draw samples from a Wald, or inverse Gaussian, distribution.\n",
      "numpy.random.RandomState.zipf\n",
      "    Draw samples from a Zipf distribution.\n",
      "numpy.lib._iotools.LineSplitter\n",
      "    Object to split a string at a given delimiter or at given places.\n",
      "numpy.lib._version.NumpyVersion\n",
      "    Parse and compare numpy version strings.\n",
      "numpy.core._umath_tests.matrix_multiply\n",
      "    matrix multiplication on last two dimensions\n",
      "numpy.tri\n",
      "    An array with ones at and below the given diagonal and zeros elsewhere.\n",
      "numpy.random.Generator.laplace\n",
      "    Draw samples from the Laplace or double exponential distribution with\n",
      "numpy.random.Generator.poisson\n",
      "    Draw samples from a Poisson distribution.\n",
      "numpy.random.Generator.uniform\n",
      "    Draw samples from a uniform distribution.\n",
      "numpy.random.Generator.weibull\n",
      "    Draw samples from a Weibull distribution.\n",
      "numpy.ma.mrecords.MaskedRecords\n",
      "    Attributes\n",
      "numpy.random.RandomState.gamma\n",
      "    Draw samples from a Gamma distribution.\n",
      "numpy.random.RandomState.power\n",
      "    Draws samples in [0, 1] from a power distribution with positive\n",
      "numpy.random.RandomState.randn\n",
      "    Return a sample (or samples) from the \"standard normal\" distribution.\n",
      "numpy.lib._iotools.NameValidator\n",
      "    Object to validate a list of strings to use as field names.\n",
      "numpy.core._string_helpers.english_lower\n",
      "    Apply English case rules to convert ASCII strings to all lower case.\n",
      "numpy.core._string_helpers.english_upper\n",
      "    Apply English case rules to convert ASCII strings to all upper case.\n",
      "numpy.random.Generator.binomial\n",
      "    Draw samples from a binomial distribution.\n",
      "numpy.random.Generator.hypergeometric\n",
      "    Draw samples from a Hypergeometric distribution.\n",
      "numpy.random.Generator.logistic\n",
      "    Draw samples from a logistic distribution.\n",
      "numpy.random.Generator.rayleigh\n",
      "    Draw samples from a Rayleigh distribution.\n",
      "numpy.random.Generator.vonmises\n",
      "    Draw samples from a von Mises distribution.\n",
      "numpy.random.RandomState.gumbel\n",
      "    Draw samples from a Gumbel distribution.\n",
      "numpy.testing.clear_and_catch_warnings\n",
      "    Context manager that resets warning registry for catching warnings\n",
      "numpy.random.RandomState.normal\n",
      "    Draw random samples from a normal (Gaussian) distribution.\n",
      "numpy.random.RandomState.pareto\n",
      "    Draw samples from a Pareto II or Lomax distribution with\n",
      "numpy.lib._iotools.ConverterError\n",
      "    Exception raised when an error occurs in a converter for string values.\n",
      "numpy.ma.MaskedArray._update_from\n",
      "    Copies some attributes of obj to self.\n",
      "numpy.core._dtype._construction_repr\n",
      "    Creates a string repr of the dtype, excluding the 'dtype()' part\n",
      "numpy.random.Generator.chisquare\n",
      "    Draw samples from a chi-square distribution.\n",
      "numpy.polynomial.set_default_printstyle\n",
      "    Set the default format for the string representation of polynomials.\n",
      "numpy.random.Generator.dirichlet\n",
      "    Draw samples from the Dirichlet distribution.\n",
      "numpy.random.Generator.lognormal\n",
      "    Draw samples from a log-normal distribution.\n",
      "numpy.random.Generator.logseries\n",
      "    Draw samples from a logarithmic series distribution.\n",
      "numpy.random.RandomState.laplace\n",
      "    Draw samples from the Laplace or double exponential distribution with\n",
      "numpy.random.RandomState.poisson\n",
      "    Draw samples from a Poisson distribution.\n",
      "numpy.random.RandomState.uniform\n",
      "    Draw samples from a uniform distribution.\n",
      "numpy.random.RandomState.weibull\n",
      "    Draw samples from a Weibull distribution.\n",
      "numpy.distutils.msvccompiler._merge\n",
      "    Concatenate two environment paths avoiding repeats.\n",
      "numpy.linalg._umath_linalg.eigh_lo\n",
      "    eigh on the last two dimension and broadcast to the rest, using lower triangle\n",
      "numpy.linalg._umath_linalg.eigh_up\n",
      "    eigh on the last two dimension and broadcast to the rest, using upper triangle.\n",
      "numpy.distutils.ccompiler_opt._Cache\n",
      "    An abstract class handles caching functionality, provides two\n",
      "numpy.random.Generator.standard_t\n",
      "    Draw samples from a standard Student's t distribution with `df` degrees\n",
      "numpy.random.RandomState.binomial\n",
      "    Draw samples from a binomial distribution.\n",
      "numpy.random.RandomState.hypergeometric\n",
      "    Draw samples from a Hypergeometric distribution.\n",
      "numpy.random.RandomState.logistic\n",
      "    Draw samples from a logistic distribution.\n",
      "numpy.random.RandomState.rayleigh\n",
      "    Draw samples from a Rayleigh distribution.\n",
      "numpy.random.RandomState.tomaxint\n",
      "    Return a sample of uniformly distributed random integers in the interval\n",
      "numpy.random.RandomState.vonmises\n",
      "    Draw samples from a von Mises distribution.\n",
      "numpy.distutils.msvc9compiler._merge\n",
      "    Concatenate two environment paths avoiding repeats.\n",
      "numpy.distutils.ccompiler_opt._Config\n",
      "    An abstract class holds all configurable attributes of `CCompilerOpt`,\n",
      "numpy.random.Generator.exponential\n",
      "    Draw samples from an exponential distribution.\n",
      "numpy.random.Generator.multinomial\n",
      "    Draw samples from a multinomial distribution.\n",
      "numpy.random.RandomState.chisquare\n",
      "    Draw samples from a chi-square distribution.\n",
      "numpy.random.RandomState.dirichlet\n",
      "    Draw samples from the Dirichlet distribution.\n",
      "numpy.random.RandomState.lognormal\n",
      "    Draw samples from a log-normal distribution.\n",
      "numpy.random.RandomState.logseries\n",
      "    Draw samples from a logarithmic series distribution.\n",
      "numpy.lib._iotools.ConversionWarning\n",
      "    Warning issued when a string converter has a problem.\n",
      "numpy.i0\n",
      "    Modified Bessel function of the first kind, order 0.\n",
      "numpy.polynomial.hermite.hermvander\n",
      "    Pseudo-Vandermonde matrix of given degree.\n",
      "numpy.polynomial.laguerre.lagvander\n",
      "    Pseudo-Vandermonde matrix of given degree.\n",
      "numpy.polynomial.legendre.legvander\n",
      "    Pseudo-Vandermonde matrix of given degree.\n",
      "numpy.distutils.ccompiler_opt._Feature\n",
      "    A helper class for `CCompilerOpt` that managing CPU features.\n",
      "numpy.random.Generator.noncentral_f\n",
      "    Draw samples from the noncentral F distribution.\n",
      "numpy.random.RandomState.standard_t\n",
      "    Draw samples from a standard Student's t distribution with `df` degrees\n",
      "numpy.dot\n",
      "    Dot product of two arrays. Specifically,\n",
      "numpy.core._string_helpers.english_capitalize\n",
      "    Apply English case rules to convert the first character of an ASCII\n",
      "numpy.pad\n",
      "    Pad an array.\n",
      "numpy.core._internal._ctypes.strides_as\n",
      "    Return the strides tuple as an array of some other\n",
      "numpy.var\n",
      "    Compute the variance along the specified axis.\n",
      "numpy.random.RandomState.exponential\n",
      "    Draw samples from an exponential distribution.\n",
      "numpy.random.RandomState.multinomial\n",
      "    Draw samples from a multinomial distribution.\n",
      "numpy.polynomial.Chebyshev._generate_string\n",
      "    Generate the full string representation of the polynomial, using\n",
      "numpy.diag\n",
      "    Extract a diagonal or construct a diagonal array.\n",
      "numpy.disp\n",
      "    Display a message on a device.\n",
      "numpy.flip\n",
      "    Reverse the order of elements in an array along the given axis.\n",
      "numpy.info\n",
      "    Get help information for a function, class, or module.\n",
      "numpy.load\n",
      "    Load arrays or pickled objects from ``.npy``, ``.npz`` or pickled files.\n",
      "numpy.linalg._umath_linalg.cholesky_lo\n",
      "    cholesky decomposition of hermitian positive-definite matrices.\n",
      "numpy.polynomial.chebyshev.chebvander\n",
      "    Pseudo-Vandermonde matrix of given degree.\n",
      "numpy.linalg._umath_linalg.eigvalsh_lo\n",
      "    eigh on the last two dimension and broadcast to the rest, using lower triangle.\n",
      "numpy.linalg._umath_linalg.eigvalsh_up\n",
      "    eigvalsh on the last two dimension and broadcast to the rest, using upper triangle.\n",
      "numpy.polynomial.hermite.hermvander2d\n",
      "    Pseudo-Vandermonde matrix of given degrees.\n",
      "numpy.polynomial.hermite.hermvander3d\n",
      "    Pseudo-Vandermonde matrix of given degrees.\n",
      "numpy.poly\n",
      "    Find the coefficients of a polynomial with the given sequence of roots.\n",
      "numpy.polynomial.laguerre.lagvander2d\n",
      "    Pseudo-Vandermonde matrix of given degrees.\n",
      "numpy.polynomial.laguerre.lagvander3d\n",
      "    Pseudo-Vandermonde matrix of given degrees.\n",
      "numpy.polynomial.legendre.legvander2d\n",
      "    Pseudo-Vandermonde matrix of given degrees.\n",
      "numpy.polynomial.legendre.legvander3d\n",
      "    Pseudo-Vandermonde matrix of given degrees.\n",
      "numpy.save\n",
      "    Save an array to a binary file in NumPy ``.npy`` format.\n",
      "numpy.distutils._shell_utils.PosixParser\n",
      "    \n",
      "numpy.sort\n",
      "    Return a sorted copy of an array.\n",
      "numpy.core._internal._ctypes.get_strides\n",
      "    (c_intp*self.ndim): A ctypes array of length self.ndim where\n",
      "numpy.vdot\n",
      "    Return the dot product of two vectors.\n",
      "numpy.random.Generator.standard_gamma\n",
      "    Draw samples from a standard Gamma distribution.\n",
      "numpy.array\n",
      "    array(object, dtype=None, *, copy=True, order='K', subok=False, ndmin=0,\n",
      "numpy.block\n",
      "    Assemble an nd-array from nested lists of blocks.\n",
      "numpy.random.RandomState.noncentral_f\n",
      "    Draw samples from the noncentral F distribution.\n",
      "numpy.finfo\n",
      "    finfo(dtype)\n",
      "numpy.core._multiarray_umath.datetime_as_string\n",
      "    Convert an array of datetimes into an array of strings.\n",
      "numpy.iinfo\n",
      "    iinfo(type)\n",
      "numpy.inner\n",
      "    Inner product of two arrays.\n",
      "numpy.tests.test_public_api.check_dir\n",
      "    Returns a mapping of all objects with the wrong __module__ attribute.\n",
      "numpy.polynomial.hermite.hermcompanion\n",
      "    Return the scaled companion matrix of c.\n",
      "numpy.outer\n",
      "    Compute the outer product of two vectors.\n",
      "numpy.polynomial.hermite_e.hermevander\n",
      "    Pseudo-Vandermonde matrix of given degree.\n",
      "numpy.polynomial.laguerre.lagcompanion\n",
      "    Return the companion matrix of c.\n",
      "numpy.polynomial.legendre.legcompanion\n",
      "    Return the scaled companion matrix of c.\n",
      "numpy.ravel\n",
      "    Return a contiguous flattened array.\n",
      "numpy.polynomial.polynomial.polyvander\n",
      "    Vandermonde matrix of given degree.\n",
      "numpy.roots\n",
      "    Return the roots of a polynomial with coefficients given in p.\n",
      "numpy.polynomial.polyutils.RankWarning\n",
      "    Issued by chebfit when the design matrix is rank deficient.\n",
      "numpy.savez\n",
      "    Save several arrays into a single file in uncompressed ``.npz`` format.\n",
      "numpy.distutils._shell_utils.NativeParser\n",
      "    The parsing behavior used by `subprocess.call(\"string\")` on Windows, which\n",
      "numpy.split\n",
      "    Split an array into multiple sub-arrays as views into `ary`.\n",
      "numpy.random.Generator.standard_cauchy\n",
      "    Draw samples from a standard Cauchy distribution with mode = 0.\n",
      "numpy.random.Generator.standard_normal\n",
      "    Draw samples from a standard Normal distribution (mean=0, stdev=1).\n",
      "numpy.choose\n",
      "    Construct an array from an index array and a set of arrays to choose from.\n",
      "numpy.einsum\n",
      "    einsum(subscripts, *operands, out=None, dtype=None, order='K',\n",
      "numpy.lib.tests.test_io.TextIO\n",
      "    Helper IO class.\n",
      "numpy.core._multiarray_umath.set_string_function\n",
      "    Internal method to set a function to be used when pretty printing arrays.\n",
      "numpy.geterr\n",
      "    Get the current way of handling floating-point errors.\n",
      "numpy.testing.suppress_warnings.record\n",
      "    Append a new recording filter or apply it if the state is entered.\n",
      "numpy.interp\n",
      "    One-dimensional linear interpolation.\n",
      "numpy.memmap\n",
      "    Create a memory-map to an array stored in a *binary* file on disk.\n",
      "numpy.polynomial.chebyshev.chebvander2d\n",
      "    Pseudo-Vandermonde matrix of given degrees.\n",
      "numpy.polynomial.chebyshev.chebvander3d\n",
      "    Pseudo-Vandermonde matrix of given degrees.\n",
      "numpy.nanstd\n",
      "    Compute the standard deviation along the specified axis, while\n",
      "numpy.nanvar\n",
      "    Compute the variance along the specified axis, while ignoring NaNs.\n",
      "numpy.nditer\n",
      "    Efficient multi-dimensional iterator object to iterate over arrays.\n",
      "numpy.poly1d\n",
      "    A one-dimensional polynomial class.\n",
      "numpy.resize\n",
      "    Return a new array with the specified shape.\n",
      "numpy.source\n",
      "    Print or write to a file the source code for a NumPy object.\n",
      "numpy.square\n",
      "    Return the element-wise square of the input.\n",
      "numpy.argsort\n",
      "    Returns the indices that would sort an array.\n",
      "numpy.average\n",
      "    Compute the weighted average along the specified axis.\n",
      "numpy.random.RandomState.standard_gamma\n",
      "    Draw samples from a standard Gamma distribution.\n",
      "numpy.extract\n",
      "    Return the elements of an array that satisfy some condition.\n",
      "numpy.polynomial.Hermite._str_term_ascii\n",
      "    String representation of a single polynomial term using ** and _ to\n",
      "numpy.generic\n",
      "    Base class for numpy scalar types.\n",
      "numpy.hanning\n",
      "    Return the Hanning window.\n",
      "numpy.isclose\n",
      "    Returns a boolean array where two arrays are element-wise equal within a\n",
      "numpy.loadtxt\n",
      "    Load data from a text file.\n",
      "numpy.polynomial.chebyshev.chebcompanion\n",
      "    Return the scaled companion matrix of c.\n",
      "numpy.polynomial.hermite_e.hermevander2d\n",
      "    Pseudo-Vandermonde matrix of given degrees.\n",
      "numpy.polynomial.hermite_e.hermevander3d\n",
      "    Pseudo-Vandermonde matrix of given degrees.\n",
      "numpy.polyfit\n",
      "    Least squares polynomial fit.\n",
      "numpy.reshape\n",
      "    Gives a new shape to an array without changing its data.\n",
      "numpy.polynomial.polynomial.polyvander2d\n",
      "    Pseudo-Vandermonde matrix of given degrees.\n",
      "numpy.polynomial.polynomial.polyvander3d\n",
      "    Pseudo-Vandermonde matrix of given degrees.\n",
      "numpy.savetxt\n",
      "    Save an array to a text file.\n",
      "numpy.squeeze\n",
      "    Remove axes of length one from `a`.\n",
      "numpy.random.Generator.negative_binomial\n",
      "    Draw samples from a negative binomial distribution.\n",
      "numpy.core.overrides.ArgSpec.__repr__\n",
      "    Return a nicely formatted representation string\n",
      "numpy.allclose\n",
      "    Returns True if two arrays are element-wise equal within a tolerance.\n",
      "numpy.can_cast\n",
      "    Returns True if cast between data types can occur according to the\n",
      "numpy.random.RandomState.standard_cauchy\n",
      "    Draw samples from a standard Cauchy distribution with mode = 0.\n",
      "numpy.random.RandomState.standard_normal\n",
      "    Draw samples from a standard Normal distribution (mean=0, stdev=1).\n",
      "numpy.char.strip\n",
      "    For each element in `a`, return a copy with the leading and\n",
      "numpy.compress\n",
      "    Return selected slices of an array along given axis.\n",
      "numpy.convolve\n",
      "    Returns the discrete, linear convolution of two one-dimensional sequences.\n",
      "numpy.corrcoef\n",
      "    Return Pearson product-moment correlation coefficients.\n",
      "numpy.diagonal\n",
      "    Return specified diagonals.\n",
      "numpy.errstate\n",
      "    errstate(**kwargs)\n",
      "numpy.polynomial.HermiteE._str_term_ascii\n",
      "    String representation of a single polynomial term using ** and _ to\n",
      "numpy.polynomial.Laguerre._str_term_ascii\n",
      "    String representation of a single polynomial term using ** and _ to\n",
      "numpy.isscalar\n",
      "    Returns True if the type of `element` is a scalar type.\n",
      "numpy.issctype\n",
      "    Determines whether the given object represents a scalar data-type.\n",
      "numpy.polynomial.Legendre._str_term_ascii\n",
      "    String representation of a single polynomial term using ** and _ to\n",
      "numpy.linspace\n",
      "    Return evenly spaced numbers over a specified interval.\n",
      "numpy.logspace\n",
      "    Return numbers spaced evenly on a log scale.\n",
      "numpy.polynomial.hermite_e.hermecompanion\n",
      "    Return the scaled companion matrix of c.\n",
      "numpy.typename\n",
      "    Return a description for the given data type code.\n",
      "numpy.char.lstrip\n",
      "    For each element in `a`, return a copy with the leading characters\n",
      "numpy.char.rstrip\n",
      "    For each element in `a`, return a copy with the trailing\n",
      "numpy.correlate\n",
      "    Cross-correlation of two 1-dimensional sequences.\n",
      "numpy.polynomial.Chebyshev._str_term_ascii\n",
      "    String representation of a single polynomial term using ** and _ to\n",
      "numpy.polynomial.Hermite._str_term_unicode\n",
      "    String representation of single polynomial term using unicode\n",
      "numpy.fromregex\n",
      "    Construct an array from a text file, using regular expression parsing.\n",
      "numpy.full_like\n",
      "    Return a full array with the same shape and type as a given array.\n",
      "numpy.geterrobj\n",
      "    geterrobj()\n",
      "numpy.histogram\n",
      "    Compute the histogram of a set of data.\n",
      "numpy.is_busday\n",
      "    Calculates which of the given dates are valid days, and which are not.\n",
      "numpy.ones_like\n",
      "    Return an array of ones with the same shape and type as a given array.\n",
      "numpy.partition\n",
      "    Return a partitioned copy of an array.\n",
      "numpy.seterrobj\n",
      "    seterrobj(errobj)\n",
      "numpy.DataSource\n",
      "    A generic data source file (file, http, ftp, ...).\n",
      "numpy.vectorize\n",
      "    vectorize(pyfunc, otypes=None, doc=None, excluded=None, cache=False,\n",
      "numpy.bitwise_or\n",
      "    Compute the bit-wise OR of two arrays element-wise.\n",
      "numpy.random.RandomState.negative_binomial\n",
      "    Draw samples from a negative binomial distribution.\n",
      "numpy.empty_like\n",
      "    Return a new array with the same shape and type as a given array.\n",
      "numpy.frompyfunc\n",
      "    Takes an arbitrary Python function and returns a NumPy ufunc.\n",
      "numpy.genfromtxt\n",
      "    Load data from a text file, with missing values handled as specified.\n",
      "numpy.polynomial.HermiteE._str_term_unicode\n",
      "    String representation of single polynomial term using unicode\n",
      "numpy.polynomial.Laguerre._str_term_unicode\n",
      "    String representation of single polynomial term using unicode\n",
      "numpy.issubdtype\n",
      "    Returns True if first argument is a typecode lower/equal in type hierarchy.\n",
      "numpy.polynomial.Legendre._str_term_unicode\n",
      "    String representation of single polynomial term using unicode\n",
      "numpy.left_shift\n",
      "    Shift the bits of an integer to the left.\n",
      "numpy.polynomial.Polynomial._str_term_ascii\n",
      "    String representation of a single polynomial term using ** and _ to\n",
      "numpy.matrix.max\n",
      "    Return the maximum value along an axis.\n",
      "numpy.matrix.min\n",
      "    Return the minimum value along an axis.\n",
      "numpy.matrix.ptp\n",
      "    Peak-to-peak (maximum - minimum) value along the given axis.\n",
      "numpy.matrix.std\n",
      "    Return the standard deviation of the array elements along the given axis.\n",
      "numpy.obj2sctype\n",
      "    Return the scalar dtype or NumPy equivalent of Python type of an object.\n",
      "numpy.lib._iotools.LineSplitter.autostrip\n",
      "    Wrapper to strip each member of the output of `method`.\n",
      "numpy.lib._iotools.StringConverter.update\n",
      "    Set StringConverter attributes directly.\n",
      "numpy.seterrcall\n",
      "    Set the floating-point error callback function or log object.\n",
      "numpy.unpackbits\n",
      "    Unpacks elements of a uint8 array into a binary-valued output array.\n",
      "numpy.random.Generator.noncentral_chisquare\n",
      "    Draw samples from a noncentral chi-square distribution.\n",
      "numpy.zeros_like\n",
      "    Return an array of zeros with the same shape and type as a given array.\n",
      "numpy.core.tests.test_multiarray.TestIO\n",
      "    Test tofile, fromfile, tobytes, and fromstring\n",
      "numpy.random.Generator.standard_exponential\n",
      "    Draw samples from the standard exponential distribution.\n",
      "numpy.bitwise_and\n",
      "    Compute the bit-wise AND of two arrays element-wise.\n",
      "numpy.bitwise_not\n",
      "    Compute bit-wise inversion, or bit-wise NOT, element-wise.\n",
      "numpy.bitwise_xor\n",
      "    Compute the bit-wise XOR of two arrays element-wise.\n",
      "numpy.polynomial.Chebyshev._str_term_unicode\n",
      "    String representation of single polynomial term using unicode\n",
      "numpy.einsum_path\n",
      "    Evaluates the lowest cost contraction order for an einsum expression by\n",
      "numpy.distutils.numpy_distribution.NumpyDistribution\n",
      "    The core of the Distutils.  Most of the work hiding behind 'setup'\n",
      "numpy.matrix.getA\n",
      "    Return `self` as an `ndarray` object.\n",
      "numpy.matrix.getH\n",
      "    Returns the (complex) conjugate transpose of `self`.\n",
      "numpy.matrix.getI\n",
      "    Returns the (multiplicative) inverse of invertible `self`.\n",
      "numpy.matrix.prod\n",
      "    Return the product of the array elements over the given axis.\n",
      "numpy.mintypecode\n",
      "    Return the character for the minimum-size type to which given types can\n",
      "numpy.lib._iotools.StringConverter.upgrade\n",
      "    Find the best converter for a given string, and return the result.\n",
      "numpy.right_shift\n",
      "    Shift the bits of an integer to the right.\n",
      "numpy.random.Generator.multivariate_hypergeometric\n",
      "    multivariate_hypergeometric(colors, nsample, size=None,\n",
      "numpy.core.tests.test_umath.bad_arcsinh\n",
      "    The blocklisted trig functions are not accurate on aarch64 for\n",
      "numpy.argpartition\n",
      "    Perform an indirect partition along the given axis using the\n",
      "numpy.random.RandomState.multivariate_normal\n",
      "    Draw random samples from a multivariate normal distribution.\n",
      "numpy.busday_count\n",
      "    Counts the number of valid days between `begindates` and\n",
      "numpy.fft.fft\n",
      "    Compute the one-dimensional discrete Fourier Transform.\n",
      "numpy.ma.dot\n",
      "    Return the dot product of two arrays.\n",
      "numpy.ma.std\n",
      "    Returns the standard deviation of the array elements along given axis.\n",
      "numpy.ma.var\n",
      "    Compute the variance along the specified axis.\n",
      "numpy.tests.test_public_api.test_dir_testing\n",
      "    Assert that output of dir has only one \"testing/tester\"\n",
      "numpy.polynomial.Polynomial._str_term_unicode\n",
      "    String representation of single polynomial term using unicode\n",
      "numpy.mask_indices\n",
      "    Return the indices to access (n, n) arrays, given a masking function.\n",
      "numpy.matrix.getA1\n",
      "    Return `self` as a flattened `ndarray`.\n",
      "numpy.random.RandomState.noncentral_chisquare\n",
      "    Draw samples from a noncentral chi-square distribution.\n",
      "numpy.char.less\n",
      "    Return (x1 < x2) element-wise.\n",
      "numpy.busday_offset\n",
      "    First adjusts the date to fall on a valid day according to\n",
      "numpy.random.RandomState.standard_exponential\n",
      "    Draw samples from the standard exponential distribution.\n",
      "numpy.fft.hfft\n",
      "    Compute the FFT of a signal that has Hermitian symmetry, i.e., a real\n",
      "numpy.fft.rfft\n",
      "    Compute the one-dimensional discrete Fourier Transform for real input.\n",
      "numpy.count_nonzero\n",
      "    Counts the number of non-zero values in the array ``a``.\n",
      "numpy.fft.test\n",
      "    Pytest test runner.\n",
      "numpy.fill_diagonal\n",
      "    Fill the main diagonal of the given array of any dimensionality.\n",
      "numpy.ma.mean\n",
      "    Returns the average of the array elements along given axis.\n",
      "numpy.chararray.strip\n",
      "    For each element in `self`, return a copy with the leading and\n",
      "numpy.matrix.argmax\n",
      "    Indexes of the maximum values along an axis.\n",
      "numpy.matrix.argmin\n",
      "    Indexes of the minimum values along an axis.\n",
      "numpy.promote_types\n",
      "    Returns the data type with the smallest size and smallest scalar\n",
      "numpy.set_string_function\n",
      "    Set a Python function to be used when pretty printing arrays.\n",
      "numpy.shares_memory\n",
      "    Determine if two arrays share memory.\n",
      "numpy.char.equal\n",
      "    Return (x1 == x2) element-wise.\n",
      "numpy.char.lower\n",
      "    Return an array with the elements converted to lowercase.\n",
      "numpy.busdaycalendar\n",
      "    A business day calendar object that efficiently stores information\n",
      "numpy.char.upper\n",
      "    Return an array with the elements converted to uppercase.\n",
      "numpy.fft.irfft\n",
      "    Computes the inverse of `rfft`.\n",
      "numpy.ma.inner\n",
      "    Inner product of two arrays.\n",
      "numpy.ma.outer\n",
      "    Compute the outer product of two vectors.\n",
      "numpy.ma.ravel\n",
      "    Returns a 1D version of self, as a view.\n",
      "numpy.ma.round\n",
      "    Return a copy of a, rounded to 'decimals' places.\n",
      "numpy.distutils.command.autodist.check_restrict\n",
      "    Return the restrict identifier (may be empty).\n",
      "numpy.chararray.lstrip\n",
      "    For each element in `self`, return a copy with the leading characters\n",
      "numpy.chararray.rstrip\n",
      "    For each element in `self`, return a copy with the trailing\n",
      "numpy.core._internal._ufunc_doc_signature_formatter\n",
      "    Builds a signature string which resembles PEP 457\n",
      "numpy.fft.irfftn\n",
      "    Computes the inverse of `rfftn`.\n",
      "numpy.linalg.det\n",
      "    Compute the determinant of an array.\n",
      "numpy.linalg.eig\n",
      "    Compute the eigenvalues and right eigenvectors of a square array.\n",
      "numpy.linalg.svd\n",
      "    Singular Value Decomposition.\n",
      "numpy.char.greater\n",
      "    Return (x1 > x2) element-wise.\n",
      "numpy.ma.mrecords.MaskedRecords.__str__\n",
      "    Calculates the string representation.\n",
      "numpy.ma.average\n",
      "    Return the weighted average of array over the given axis.\n",
      "numpy.Bytes0.decode\n",
      "    Decode the bytes using the codec registered for encoding.\n",
      "numpy.ma.getdata\n",
      "    Return the data of a masked array as an ndarray.\n",
      "numpy.ma.getmask\n",
      "    Return the mask of a masked array, or nomask.\n",
      "numpy.ma.is_mask\n",
      "    Return True if m is a valid, standard mask.\n",
      "numpy.find_common_type\n",
      "    Determine common type following standard coercion rules.\n",
      "numpy.ma.polyfit\n",
      "    Least squares polynomial fit.\n",
      "numpy.get_printoptions\n",
      "    Return the current print options.\n",
      "numpy.testing.tests.test_utils.my_cacw\n",
      "    Context manager that resets warning registry for catching warnings\n",
      "numpy.matrix.partition\n",
      "    Rearranges the elements in the array in such a way that the value of the\n",
      "numpy.Str0.endswith\n",
      "    Return True if S ends with the specified suffix, False otherwise.\n",
      "numpy.lib._iotools.NameValidator.validate\n",
      "    Validate a list of strings as field names for a structured array.\n",
      "numpy.savez_compressed\n",
      "    Save several arrays into a single file in compressed ``.npz`` format.\n",
      "numpy.set_printoptions\n",
      "    Set printing options.\n",
      "numpy.linalg.test\n",
      "    Pytest test runner.\n",
      "numpy.linalg.tests.test_linalg.apply_tag\n",
      "    Add the given tag (a string) to each of the cases (a list of LinalgCase\n",
      "numpy.ma.compress\n",
      "    Return `a` where condition is ``True``.\n",
      "numpy.ma.convolve\n",
      "    Returns the discrete, linear convolution of two one-dimensional sequences.\n",
      "numpy.ma.corrcoef\n",
      "    Return Pearson product-moment correlation coefficients.\n",
      "numpy.ma.diagonal\n",
      "    a.diagonal(offset=0, axis1=0, axis2=1)\n",
      "numpy.ma.tests.test_subclassing.SubArray\n",
      "    ndarray(shape, dtype=float, buffer=None, offset=0,\n",
      "numpy.Str0.maketrans\n",
      "    Return a translation table usable for str.translate().\n",
      "numpy.core.tests.test_unicode.ByteorderValues\n",
      "    Check the byteorder of unicode arrays in round-trip conversions\n",
      "numpy.char.not_equal\n",
      "    Return (x1 != x2) element-wise.\n",
      "numpy.char.partition\n",
      "    Partition each element in `a` around `sep`.\n",
      "numpy.core.tests.test_api.test_string_to_boolean_cast\n",
      "    Currently, for `astype` strings are cast to booleans effectively by\n",
      "numpy.f2py.run_main\n",
      "    Equivalent to running::\n",
      "numpy.ma.correlate\n",
      "    Cross-correlation of two 1-dimensional sequences.\n",
      "numpy.ma.is_masked\n",
      "    Determine whether input has masked values.\n",
      "numpy.chararray.dump\n",
      "    a.dump(file)\n",
      "numpy.chararray.sort\n",
      "    Sort an array in-place. Refer to `numpy.sort` for full documentation.\n",
      "numpy.chararray.view\n",
      "    New view of array with the same data.\n",
      "numpy.Str0.startswith\n",
      "    Return True if S starts with the specified prefix, False otherwise.\n",
      "numpy.lib._iotools.StringConverter.upgrade_mapper\n",
      "    Upgrade the mapper of a StringConverter by adding a new function and\n",
      "numpy.distutils.test\n",
      "    Pytest test runner.\n",
      "numpy.lib.tests.test__iotools.TestStringConverter\n",
      "    Test StringConverter\n",
      "numpy.linalg.tests.test_linalg._stride_comb_iter\n",
      "    Generate cartesian product of strides for all axes\n",
      "numpy.char.capitalize\n",
      "    Return a copy of `a` with only the first character of each element\n",
      "numpy.char.less_equal\n",
      "    Return (x1 <= x2) element-wise.\n",
      "numpy.ma.bitwise_or\n",
      "    Compute the bit-wise OR of two arrays element-wise.\n",
      "numpy.char.rpartition\n",
      "    Partition (split) each element around the right-most separator.\n",
      "numpy.ma.empty_like\n",
      "    empty_like(prototype, dtype=None, order='K', subok=True, shape=None)\n",
      "numpy.histogram_bin_edges\n",
      "    Function to calculate only the edges of the bins used by the `histogram`\n",
      "numpy.lib.tests.test_stride_tricks.SimpleSubClass\n",
      "    ndarray(shape, dtype=float, buffer=None, offset=0,\n",
      "numpy.random.Philox\n",
      "    Container for the Philox (4x64) pseudo-random number generator.\n",
      "numpy.linalg.slogdet\n",
      "    Compute the sign and (natural) logarithm of the determinant of an array.\n",
      "numpy.ma.mrecords.MaskedRecords.__setattr__\n",
      "    Sets the attribute attr to the value val.\n",
      "numpy.ma.bitwise_and\n",
      "    Compute the bit-wise AND of two arrays element-wise.\n",
      "numpy.ma.bitwise_xor\n",
      "    Compute the bit-wise XOR of two arrays element-wise.\n",
      "numpy.ma.concatenate\n",
      "    Concatenate a sequence of arrays along the given axis.\n",
      "numpy.ma.fix_invalid\n",
      "    Return input with invalid data masked and replaced by a fill value.\n",
      "numpy.chararray.astype\n",
      "    Copy of the array, cast to a specified type.\n",
      "numpy.chararray.resize\n",
      "    Change shape and size of array in-place.\n",
      "numpy.chararray.tofile\n",
      "    Write array to a file as text or binary (default).\n",
      "numpy.core._exceptions._ArrayMemoryError._size_to_string\n",
      "    Convert a number of bytes into a binary size string\n",
      "numpy.random.MT19937\n",
      "    Container for the Mersenne Twister pseudo-random number generator.\n",
      "numpy.core.tests.test_array_coercion.is_parametric_dtype\n",
      "    Returns True if the the dtype is a parametric legacy dtype (itemsize\n",
      "numpy.ufunc.reduceat\n",
      "    Performs a (local) reduce with specified slices over a single axis.\n",
      "numpy.chararray.itemset\n",
      "    a.itemset(*args)\n",
      "numpy.distutils.fcompiler.FCompiler.define_macro\n",
      "    Define a preprocessor macro for all compilations driven by this\n",
      "numpy.lib.Arrayterator\n",
      "    Buffered iterator for big arrays.\n",
      "numpy.polynomial.test\n",
      "    Pytest test runner.\n",
      "numpy.linalg.multi_dot\n",
      "    Compute the dot product of two or more arrays in a single function call,\n",
      "numpy.char.greater_equal\n",
      "    Return (x1 >= x2) element-wise.\n",
      "numpy.chararray.byteswap\n",
      "    Swap the bytes of the array elements\n",
      "numpy.core.tests.test_overrides.dispatched_one_arg\n",
      "    Docstring.\n",
      "numpy.core.tests.test_overrides.dispatched_two_arg\n",
      "    Docstring.\n",
      "numpy.chararray.diagonal\n",
      "    Return specified diagonals. In NumPy 1.9 the returned array is a\n",
      "numpy.chararray.setflags\n",
      "    Set array flags WRITEABLE, ALIGNED, (WRITEBACKIFCOPY and UPDATEIFCOPY),\n",
      "numpy.random.Generator\n",
      "    Generator(bit_generator)\n",
      "numpy.distutils.fcompiler.FCompiler.set_libraries\n",
      "    Set the list of libraries to be included in all links driven by\n",
      "numpy.dtype.newbyteorder\n",
      "    Return a new dtype with a different byte order.\n",
      "numpy.lib.tests.test_stride_tricks.VerySimpleSubClass\n",
      "    ndarray(shape, dtype=float, buffer=None, offset=0,\n",
      "numpy.chararray.transpose\n",
      "    a.transpose(*axes)\n",
      "numpy.core.tests.test_function_base.PhysicalQuantity\n",
      "    Convert a string or number to a floating point number, if possible.\n",
      "numpy.ctypeslib.ndpointer\n",
      "    Array-checking restype/argtypes.\n",
      "numpy.linalg.LinAlgError\n",
      "    Generic Python-exception-derived object raised by linalg functions.\n",
      "numpy.core.tests.test_multiarray.TestUnicodeEncoding\n",
      "    Tests for encoding related bugs, such as UCS2 vs UCS4, round-tripping\n",
      "numpy.ma.masked_all_like\n",
      "    Empty masked array with the properties of an existing array.\n",
      "numpy.distutils.misc_util.Configuration.get_distribution\n",
      "    Return the distutils distribution object for self.\n",
      "numpy.core.tests.test_function_base.PhysicalQuantity2\n",
      "    ndarray(shape, dtype=float, buffer=None, offset=0,\n",
      "numpy.compat.formatargspec\n",
      "    Format an argument spec from the 4 values returned by getargspec.\n",
      "numpy.distutils.fcompiler.FCompiler.dump_properties\n",
      "    Print out the attributes of a compiler instance.\n",
      "numpy.polynomial.Hermite\n",
      "    An Hermite series class.\n",
      "numpy.random.RandomState\n",
      "    Container for the slow Mersenne Twister pseudo-random number generator.\n",
      "numpy.distutils.ccompiler_opt.CCompilerOpt._dist_str\n",
      "    Return a string to print by log and errors.\n",
      "numpy.testing._private.noseclasses.KnownFailure\n",
      "    Plugin that installs a KNOWNFAIL error class for the\n",
      "numpy.distutils.misc_util.Configuration.get_version\n",
      "    Try to get version string of a package.\n",
      "numpy.distutils.LibraryInfo\n",
      "    Object containing build information about a library.\n",
      "numpy.polynomial.HermiteE\n",
      "    An HermiteE series class.\n",
      "numpy.polynomial.Laguerre\n",
      "    A Laguerre series class.\n",
      "numpy.polynomial.Legendre\n",
      "    A Legendre series class.\n",
      "numpy.random.BitGenerator\n",
      "    Base Class for generic BitGenerators, which provide a stream\n",
      "numpy.distutils.fcompiler.FCompiler.set_include_dirs\n",
      "    Set the list of directories that will be searched to 'dirs' (a\n",
      "numpy.distutils.fcompiler.FCompiler.set_library_dirs\n",
      "    Set the list of library search directories to 'dirs' (a list of\n",
      "numpy.double.__set_format__\n",
      "    You probably don't want to use this function.\n",
      "numpy.chararray.__setstate__\n",
      "    For unpickling.\n",
      "numpy.chararray.newbyteorder\n",
      "    Return the array with the same data viewed with a different byte order.\n",
      "numpy.lib._iotools.LineSplitter._delimited_splitter\n",
      "    Chop off comments, strip, and split at delimiter.\n",
      "numpy.distutils.command.config.config.try_cpp\n",
      "    Construct a source file from 'body' (a string containing lines\n",
      "numpy.core.tests.test_scalarinherit.D.fromhex\n",
      "    Create a floating-point number from a hexadecimal string.\n",
      "numpy.core.tests.test_scalarinherit.B.fromhex\n",
      "    Create a floating-point number from a hexadecimal string.\n",
      "numpy.ma.default_fill_value\n",
      "    Return the default fill value for the argument object.\n",
      "numpy.polynomial.Polynomial\n",
      "    A power series class.\n",
      "numpy.distutils.command.config.config.check_restrict\n",
      "    Return the restrict keyword recognized by the compiler, empty string\n",
      "numpy.core.tests.test_scalarinherit.C0.fromhex\n",
      "    Create a floating-point number from a hexadecimal string.\n",
      "numpy.core.tests.test_scalarinherit.B1.fromhex\n",
      "    Create a floating-point number from a hexadecimal string.\n",
      "numpy.core.tests.test_scalarinherit.B0.fromhex\n",
      "    Create a floating-point number from a hexadecimal string.\n",
      "numpy.ma.mvoid.filled\n",
      "    Return a copy with masked fields filled with a given value.\n",
      "numpy.ma.tests.test_subclassing.ComplicatedSubArray\n",
      "    ndarray(shape, dtype=float, buffer=None, offset=0,\n",
      "numpy.distutils.command.autodist.check_gcc_function_attribute\n",
      "    Return True if the given function attribute is supported.\n",
      "numpy.distutils.command.autodist.check_gcc_variable_attribute\n",
      "    Return True if the given variable attribute is supported.\n",
      "numpy.distutils.command.sdist.sdist.make_distribution\n",
      "    Create the source distribution(s).  First, we create the release\n",
      "numpy.distutils.command.install.install.has_lib\n",
      "    Returns true if the current distribution has any Python\n",
      "numpy.distutils.intelccompiler.IntelCCompilerW.find_exe\n",
      "    Return path to an MSVC executable program.\n",
      "numpy.distutils.numpy_distribution.NumpyDistribution.__init__\n",
      "    Construct a new Distribution instance: initialize all the\n",
      "numpy._pytesttester.PytestTester\n",
      "    Pytest test runner.\n",
      "numpy.distutils.command.install.install.has_data\n",
      "    Returns true if the current distribution has any data to.\n",
      "numpy.core.tests.test_casting_unittests.get_expected_stringlength\n",
      "    Returns the string length when casting the basic dtypes to strings.\n",
      "numpy.distutils.command.sdist.sdist.read_manifest\n",
      "    Read the manifest file (named by 'self.manifest') and use it to\n",
      "numpy.distutils.command.sdist.sdist.get_file_list\n",
      "    Figure out the list of files to include in the source\n",
      "numpy.ma.MaskedArray.var\n",
      "    Compute the variance along the specified axis.\n",
      "numpy.testing.decorate_methods\n",
      "    Apply a decorator to all methods in a class matching a regular expression.\n",
      "numpy.testing.run_module_suite\n",
      "    Run a test module.\n",
      "numpy.testing._private.noseclasses.NumpyDocTestFinder\n",
      "    A class used to extract the DocTests that are relevant to a given\n",
      "numpy.testing._private.parameterized.QuietOrderedDict\n",
      "    When OrderedDict is available, use it to make sure that the kwargs in\n",
      "numpy.polynomial._polybase.ABCPolyBase._str_term_ascii\n",
      "    String representation of a single polynomial term using ** and _ to\n",
      "numpy.distutils.command.config.config.check_inline\n",
      "    Return the inline keyword recognized by the compiler, empty string\n",
      "numpy.ma.MaskedArray.view\n",
      "    Return a view of the MaskedArray data.\n",
      "numpy.testing.assert_array_less\n",
      "    Raises an AssertionError if two array_like objects are not ordered by less\n",
      "numpy.testing.suppress_warnings\n",
      "    Context manager and decorator doing much the same as\n",
      "numpy.core.multiarray.scalar\n",
      "    Return a new scalar array of the given type initialized with obj.\n",
      "numpy.ma.MaskedArray.ravel\n",
      "    Returns a 1D version of self, as a view.\n",
      "numpy.testing._private.parameterized.param.__repr__\n",
      "    Return a nicely formatted representation string\n",
      "numpy.distutils.command.install.install.has_scripts\n",
      "    Returns true if the current distribution has any scripts to.\n",
      "numpy.distutils.command.install.install.has_headers\n",
      "    Returns true if the current distribution has any headers to\n",
      "numpy.distutils.command.bdist_rpm.bdist_rpm.ensure_string\n",
      "    Ensure that 'option' is a string; if not defined, set it to\n",
      "numpy.testing.print_assert_equal\n",
      "    Test if two objects are equal, and print an error message if test fails.\n",
      "numpy.polynomial._polybase.ABCPolyBase._str_term_unicode\n",
      "    String representation of single polynomial term using unicode\n",
      "numpy.core.tests.test_longdouble.test_array_and_stringlike_roundtrip\n",
      "    Test that string representations of long-double roundtrip both\n",
      "numpy.ma.MaskedArray.filled\n",
      "    Return a copy of self, with masked values filled with a given value.\n",
      "numpy.testing._private.parameterized._param.__repr__\n",
      "    Return a nicely formatted representation string\n",
      "numpy.distutils.command.egg_info.egg_info._maybe_tag\n",
      "    egg_info may be called more than once for a distribution,\n",
      "numpy.distutils.command.develop.develop.ensure_string_list\n",
      "    Ensure that 'option' is a list of strings.  If 'option' is\n",
      "numpy.distutils.command.develop.develop.create_index\n",
      "    A distribution index that scans web pages for download URLs\n",
      "numpy.ma.MaskedArray.tolist\n",
      "    Return the data portion of the masked array as a hierarchical Python list.\n",
      "numpy.distutils.fcompiler.FCompiler.set_runtime_library_dirs\n",
      "    Set the list of directories to search for shared libraries at\n",
      "numpy.random.PCG64.advance\n",
      "    advance(delta)\n",
      "numpy.core._internal.recursive\n",
      "    A decorator class for recursive nested functions.\n",
      "numpy.testing._gen_alignment_data\n",
      "    generator producing data with different alignment and offsets\n",
      "numpy.distutils.command.sdist.sdist.make_release_tree\n",
      "    Create the directory tree that will become the source\n",
      "numpy.distutils.command.build_ext.build_ext.find_swig\n",
      "    Return the name of the SWIG executable.  On Unix, this is\n",
      "numpy.distutils.command.bdist_rpm.bdist_rpm.copy_file\n",
      "    Copy a file respecting verbose, dry-run and force flags.  (The\n",
      "numpy.random.Philox.advance\n",
      "    advance(delta)\n",
      "numpy.polynomial.Hermite.fit\n",
      "    Least squares fit to data.\n",
      "numpy.lib._iotools.easy_dtype\n",
      "    Convenience function to create a `np.dtype` object.\n",
      "numpy.ma.MaskedArray.compress\n",
      "    Return `a` where condition is ``True``.\n",
      "numpy.ma.MaskedArray.diagonal\n",
      "    Return specified diagonals. In NumPy 1.9 the returned array is a\n",
      "numpy.random.Generator.bytes\n",
      "    bytes(length)\n",
      "numpy.core.tests.test_multiarray.TestArrayPriority.Foo\n",
      "    ndarray(shape, dtype=float, buffer=None, offset=0,\n",
      "numpy.core.tests.test_multiarray.TestArrayPriority.Bar\n",
      "    ndarray(shape, dtype=float, buffer=None, offset=0,\n",
      "numpy.polynomial.Hermite._fit\n",
      "    Least squares fit of Hermite series to data.\n",
      "numpy.core._multiarray_umath.dot\n",
      "    Dot product of two arrays. Specifically,\n",
      "numpy.polynomial.HermiteE.fit\n",
      "    Least squares fit to data.\n",
      "numpy.polynomial.Laguerre.fit\n",
      "    Least squares fit to data.\n",
      "numpy.polynomial.Legendre.fit\n",
      "    Least squares fit to data.\n",
      "numpy.lib.user_array.container\n",
      "    Standard container-class for easy multiple-inheritance.\n",
      "numpy.linalg._umath_linalg.eig\n",
      "    eig on the last two dimension and broadcast to the rest.\n",
      "numpy.linalg._umath_linalg.inv\n",
      "    compute the inverse of the last two dimensions and broadcast to the rest.\n",
      "numpy.polynomial.polyutils.trimcoef\n",
      "    Remove \"small\" \"trailing\" coefficients from a polynomial.\n",
      "numpy.ma.MaskedArray._get_data\n",
      "    Returns the underlying data, as a view of the masked array.\n",
      "numpy.ma.MaskedArray.partition\n",
      "    Rearranges the elements in the array in such a way that the value of the\n",
      "numpy.random.Generator.choice\n",
      "    Generates a random sample from a given 1-D array\n",
      "numpy.ma.tests.test_extras.TestMedian.test_docstring_examples\n",
      "    test the examples given in the docstring of ma.median\n",
      "numpy.lib.tests.test_format.BytesIOSRandomSize.getvalue\n",
      "    Retrieve the entire contents of the BytesIO object.\n",
      "numpy.distutils.command.bdist_rpm.bdist_rpm.run_command\n",
      "    Run some other command: uses the 'run_command()' method of\n",
      "numpy.ma.MaskedArray.transpose\n",
      "    a.transpose(*axes)\n",
      "numpy.random.Generator.random\n",
      "    Return random floats in the half-open interval [0.0, 1.0).\n",
      "numpy.ma.mrecords.fromtextfile\n",
      "    Creates a mrecarray from data stored in the file `filename`.\n",
      "numpy.random.RandomState.rand\n",
      "    Random values in a given shape.\n",
      "numpy.polynomial.Chebyshev.fit\n",
      "    Least squares fit to data.\n",
      "numpy.polynomial.HermiteE._fit\n",
      "    Least squares fit of Hermite series to data.\n",
      "numpy.core._multiarray_umath.vdot\n",
      "    Return the dot product of two vectors.\n",
      "numpy.polynomial.Laguerre._fit\n",
      "    Least squares fit of Laguerre series to data.\n",
      "numpy.polynomial.Legendre._fit\n",
      "    Least squares fit of Legendre series to data.\n",
      "numpy.distutils.numpy_distribution.NumpyDistribution.finalize_options\n",
      "    Set final values for all the options on the Distribution\n",
      "numpy.AxisError.__class__.__base__\n",
      "    The base class of the class hierarchy.\n",
      "numpy.distutils.command.bdist_rpm.bdist_rpm.ensure_string_list\n",
      "    Ensure that 'option' is a list of strings.  If 'option' is\n",
      "numpy.random.RandomState.bytes\n",
      "    bytes(length)\n",
      "numpy.polynomial.Chebyshev._fit\n",
      "    Least squares fit of Chebyshev series to data.\n",
      "numpy.polynomial.Hermite._roots\n",
      "    Compute the roots of a Hermite series.\n",
      "numpy.core._multiarray_umath.inner\n",
      "    Inner product of two arrays.\n",
      "numpy.lib.recfunctions.get_names\n",
      "    Returns the field names of the input datatype as a tuple.\n",
      "numpy.polynomial.Polynomial.fit\n",
      "    Least squares fit to data.\n",
      "numpy.linalg._umath_linalg.solve\n",
      "    solve the system a x = b, on the last two dimensions, broadcast to the rest.\n",
      "numpy.typing._dtype_like.Tuple\n",
      "    Tuple type; Tuple[X, Y] is the cross-product type of X and Y.\n",
      "numpy.lib.tests.test__iotools.TestStringConverter.test_creation\n",
      "    Test creation of a StringConverter\n",
      "numpy.distutils.command.build_py.build_py.get_package_dir\n",
      "    Return the directory, relative to the top of the source\n",
      "numpy.f2py.crackfortran.getarrlen\n",
      "    Parameters\n",
      "numpy.random.Generator.integers\n",
      "    Return random integers from `low` (inclusive) to `high` (exclusive), or\n",
      "numpy.random.RandomState.choice\n",
      "    Generates a random sample from a given 1-D array\n",
      "numpy.polynomial.HermiteE._roots\n",
      "    Compute the roots of a HermiteE series.\n",
      "numpy.polynomial.Laguerre._roots\n",
      "    Compute the roots of a Laguerre series.\n",
      "numpy.polynomial.Legendre._roots\n",
      "    Compute the roots of a Legendre series.\n",
      "numpy.polynomial.Polynomial._fit\n",
      "    Least-squares fit of a polynomial to data.\n",
      "numpy.distutils.numpy_distribution.NumpyDistribution.parse_command_line\n",
      "    Parse the setup script's command line, taken from the\n",
      "numpy.ma.MaskedArray.__setstate__\n",
      "    Restore the internal state of the masked array, for\n",
      "numpy.testing._private.noseclasses.NumpyDocTestFinder.find\n",
      "    Return a list of the DocTests that are defined by the given\n",
      "numpy.linalg.tests.test_linalg.TestSVD.test_empty_identity\n",
      "    Empty input should put an identity matrix in u or vh\n",
      "numpy.f2py.crackfortran.getlincoef\n",
      "    Obtain ``a`` and ``b`` when ``e == \"a*x+b\"``, where ``x`` is a symbol in\n",
      "numpy.distutils.fcompiler.FCompiler\n",
      "    Abstract base class to define the interface that must be implemented\n",
      "numpy.random.RandomState.randint\n",
      "    Return random integers from `low` (inclusive) to `high` (exclusive).\n",
      "numpy.polynomial.Chebyshev._roots\n",
      "    Compute the roots of a Chebyshev series.\n",
      "numpy.lib._datasource._FileOpeners\n",
      "    Container for different methods to open (un-)compressed files.\n",
      "numpy.lib.recfunctions.drop_fields\n",
      "    Return a new array with fields in `drop_names` dropped.\n",
      "numpy.distutils.ccompiler_opt._Parse\n",
      "    A helper class that parsing main arguments of `CCompilerOpt`,\n",
      "numpy.distutils.command.develop.develop.create_index.scan\n",
      "    Scan `search_path` for distributions usable in this environment\n",
      "numpy.distutils.command.bdist_rpm.bdist_rpm._make_spec_file\n",
      "    Generate the text of an RPM spec file and return it as a\n",
      "numpy.core._multiarray_umath.c_einsum\n",
      "    c_einsum(subscripts, *operands, out=None, dtype=None, order='K',\n",
      "numpy.core._multiarray_umath.can_cast\n",
      "    Returns True if cast between data types can occur according to the\n",
      "numpy.lib.recfunctions.merge_arrays\n",
      "    Merge arrays field by field.\n",
      "numpy.polynomial.Polynomial._roots\n",
      "    Compute the roots of a polynomial.\n",
      "numpy.polynomial.hermite.hermval3d\n",
      "    Evaluate a 3-D Hermite series at points (x, y, z).\n",
      "numpy.distutils.numpy_distribution.NumpyDistribution._set_command_options\n",
      "    Set the options for 'command_obj' from 'option_dict'.  Basically\n",
      "numpy.polynomial.laguerre.lagval3d\n",
      "    Evaluate a 3-D Laguerre series at points (x, y, z).\n",
      "numpy.polynomial.legendre.legval3d\n",
      "    Evaluate a 3-D Legendre series at points (x, y, z).\n",
      "numpy.distutils.command.develop.develop.create_index.fetch\n",
      "    Obtain a file suitable for fulfilling `requirement`\n",
      "numpy.distutils.command.bdist_rpm.bdist_rpm.get_sub_commands\n",
      "    Determine the sub-commands that are relevant in the current\n",
      "numpy.core.tests.test_function_base.PhysicalQuantity.fromhex\n",
      "    Create a floating-point number from a hexadecimal string.\n",
      "numpy.distutils.tests.test_shell_utils.test_join_matches_subprocess\n",
      "    Test that join produces strings understood by subprocess\n",
      "numpy.random.RandomState.get_state\n",
      "    get_state()\n",
      "numpy.random.RandomState.set_state\n",
      "    set_state(state)\n",
      "numpy.core._multiarray_umath.is_busday\n",
      "    Calculates which of the given dates are valid days, and which are not.\n",
      "numpy.lib._iotools.has_nested_fields\n",
      "    Returns whether one or several fields of a dtype are nested.\n",
      "numpy.lib.recfunctions.append_fields\n",
      "    Add new fields to an existing array.\n",
      "numpy.polynomial.hermite.hermgrid3d\n",
      "    Evaluate a 3-D Hermite series on the Cartesian product of x, y, and z.\n",
      "numpy.polynomial.laguerre.laggrid3d\n",
      "    Evaluate a 3-D Laguerre series on the Cartesian product of x, y, and z.\n",
      "numpy.polynomial.legendre.leggrid3d\n",
      "    Evaluate a 3-D Legendre series on the Cartesian product of x, y, and z.\n",
      "numpy.distutils.command.develop.develop.create_index.obtain\n",
      "    Obtain a distribution matching `requirement` (e.g. via download)\n",
      "numpy.distutils.command.bdist_rpm.bdist_rpm._format_changelog\n",
      "    Format the changelog correctly and convert it to a list of strings\n",
      "numpy.core.tests.test_datetime.TestDateTime.test_limit_str_roundtrip\n",
      "    Limits should roundtrip when converted to strings.\n",
      "numpy.core._multiarray_umath.empty_like\n",
      "    Return a new array with the same shape and type as a given array.\n",
      "numpy.core.tests.test_deprecations.TestArrayDataAttributeAssignmentDeprecation\n",
      "    Assigning the 'data' attribute of an ndarray is unsafe as pointed\n",
      "numpy.core._multiarray_umath.unpackbits\n",
      "    Unpacks elements of a uint8 array into a binary-valued output array.\n",
      "numpy.lib.recfunctions.get_names_flat\n",
      "    Returns the field names of the input datatype as a tuple. Nested structure\n",
      "numpy.polynomial.chebyshev.chebval3d\n",
      "    Evaluate a 3-D Chebyshev series at points (x, y, z).\n",
      "numpy.polynomial.polyutils.as_series\n",
      "    Return argument as a list of 1-d arrays.\n",
      "numpy.random.BitGenerator.random_raw\n",
      "    Return randoms as generated by the underlying BitGenerator\n",
      "numpy.distutils.command.develop.develop.create_index.can_add\n",
      "    Is distribution `dist` acceptable for this environment?\n",
      "numpy.distutils.command.develop.develop.create_index.__add__\n",
      "    Add an environment or distribution to an environment\n",
      "numpy.testing._private.noseclasses.NumpyOutputChecker._toAscii\n",
      "    Convert string to hex-escaped ASCII string.\n",
      "numpy.core.tests.test_multiarray.TestUnicodeEncoding.test_round_trip\n",
      "    Tests that GETITEM, SETITEM, and PyArray_Scalar roundtrip\n",
      "numpy.core.tests.test_datetime.TestDateTime.test_limit_symmetry\n",
      "    Dates should have symmetric limits around the unix epoch at +/-np.int64\n",
      "numpy.lib.mixins.NDArrayOperatorsMixin\n",
      "    Mixin defining all operator special methods using __array_ufunc__.\n",
      "numpy.lib.recfunctions.find_duplicates\n",
      "    Find the duplicates in a structured array along a given key\n",
      "numpy.distutils.command.autodist.check_gcc_function_attribute_with_intrinsics\n",
      "    Return True if the given function attribute is supported with\n",
      "numpy.polynomial.chebyshev.chebgrid3d\n",
      "    Evaluate a 3-D Chebyshev series on the Cartesian product of x, y, and z.\n",
      "numpy.polynomial.hermite_e.hermeval3d\n",
      "    Evaluate a 3-D Hermite_e series at points (x, y, z).\n",
      "numpy.polynomial.polynomial.polyval3d\n",
      "    Evaluate a 3-D polynomial at points (x, y, z).\n",
      "numpy.distutils.ccompiler_opt._CCompiler\n",
      "    A helper class for `CCompilerOpt` containing all utilities that\n",
      "numpy.distutils.command.develop.develop.create_index.download\n",
      "    Locate and/or download `spec` to `tmpdir`, returning a local path\n",
      "numpy.distutils.command.develop.develop.create_index.__iter__\n",
      "    Yield the unique project names of the available distributions\n",
      "numpy.distutils.command.develop.develop.create_index.__init__\n",
      "    Snapshot distributions available on a search path\n",
      "numpy.distutils.command.develop.develop.create_index.__iadd__\n",
      "    In-place addition of a distribution or environment\n",
      "numpy.testing._private.noseclasses.NumpyDocTestFinder._get_test\n",
      "    Return a DocTest for the given object, if it defines a docstring;\n",
      "numpy.random._pickle.__generator_ctor\n",
      "    Pickling helper function that returns a Generator object\n",
      "numpy.core._multiarray_umath.busday_count\n",
      "    Counts the number of valid days between `begindates` and\n",
      "numpy.polynomial._polybase.ABCPolyBase\n",
      "    An abstract base class for immutable series classes.\n",
      "numpy.polynomial.hermite_e.hermegrid3d\n",
      "    Evaluate a 3-D HermiteE series on the Cartesian product of x, y, and z.\n",
      "numpy.polynomial.polynomial.polygrid3d\n",
      "    Evaluate a 3-D polynomial on the Cartesian product of x, y and z.\n",
      "numpy.lib.tests.test_histograms.TestHistogramdd.test_equal_edges\n",
      "    Test that adjacent entries in an edge array can be equal\n",
      "numpy.distutils.exec_command.exec_command\n",
      "    Return (status,output) of executed command.\n",
      "numpy.random.RandomState.random_sample\n",
      "    Return random floats in the half-open interval [0.0, 1.0).\n",
      "numpy.polynomial.Chebyshev.has_samecoef\n",
      "    Check if coefficients match.\n",
      "numpy.core._multiarray_umath.busday_offset\n",
      "    First adjusts the date to fall on a valid day according to\n",
      "numpy.core._multiarray_umath.shares_memory\n",
      "    Determine if two arrays share memory.\n",
      "numpy.testing.suppress_warnings.filter\n",
      "    Add a new suppressing filter or apply it if the state is entered.\n",
      "numpy.lib.recfunctions.rec_append_fields\n",
      "    Add new fields to an existing array.\n",
      "numpy.distutils.command.develop.develop.create_index.best_match\n",
      "    Find distribution best matching `req` and usable on `working_set`\n",
      "numpy.lib.tests.test__iotools.TestStringConverter.test_string_to_object\n",
      "    Make sure that string-to-object functions are properly recognized\n",
      "numpy.distutils.command.bdist_rpm.bdist_rpm.get_finalized_command\n",
      "    Wrapper around Distribution's 'get_command_obj()' method: find\n",
      "numpy.random._pickle.__randomstate_ctor\n",
      "    Pickling helper function that returns a legacy RandomState-like object\n",
      "numpy.typing._array_like._SupportsArray\n",
      "    Base class for protocol classes.\n",
      "numpy.typing._dtype_like._SupportsDType\n",
      "    Base class for protocol classes.\n",
      "numpy.core._internal._ctypes.get_data\n",
      "    A pointer to the memory area of the array as a Python integer.\n",
      "numpy.distutils.command.develop.develop.create_index.process_url\n",
      "    Evaluate a URL as a possible download, and maybe retrieve it\n",
      "numpy.distutils.command.develop.develop.create_index.__getitem__\n",
      "    Return a newest-to-oldest list of distributions for `project_name`\n",
      "numpy.testing._private.noseclasses.NumpyOutputChecker.check_output\n",
      "    Return True iff the actual output from an example (`got`)\n",
      "numpy.testing._private.noseclasses.NumpyDocTestFinder._find_lineno\n",
      "    Return a line number of the given object's docstring.  Note:\n",
      "numpy.core.tests.test_simd.Test_SIMD_ALL_128_SSE42_f32.__getattr__\n",
      "    To call NPV intrinsics without the attribute 'npyv' and\n",
      "numpy.core.tests.test_scalar_ctors.TestFromString.test_floating_overflow\n",
      "    Strings containing an unrepresentable float overflow\n",
      "numpy.random.RandomState.random_integers\n",
      "    Random integers of type `np.int_` between `low` and `high`, inclusive.\n",
      "numpy.random.SeedSequence.generate_state\n",
      "    Return the requested number of words for PRNG seeding.\n",
      "numpy.polynomial.Chebyshev.has_samedomain\n",
      "    Check if domains match.\n",
      "numpy.polynomial.Chebyshev.has_samewindow\n",
      "    Check if windows match.\n",
      "numpy.core.overrides.array_function_dispatch\n",
      "    Decorator for adding dispatch with the __array_function__ protocol.\n",
      "numpy.distutils.command.develop.develop.create_index.fetch_distribution\n",
      "    Obtain a distribution suitable for fulfilling `requirement`\n",
      "numpy.random._pickle.__bit_generator_ctor\n",
      "    Pickling helper function that returns a bit generator object\n",
      "numpy.core.tests.test__exceptions.TestArrayMemoryError.test__size_to_string\n",
      "    Test e._size_to_string\n",
      "numpy.distutils.ccompiler.CCompiler_customize\n",
      "    Do any platform-specific customization of a compiler instance.\n",
      "numpy.random.Generator.multivariate_normal\n",
      "    multivariate_normal(mean, cov, size=None, check_valid='warn',\n",
      "numpy.core.tests.test_cython.pytestmark\n",
      "    A decorator for applying a mark on test functions and classes.\n",
      "numpy.distutils.ccompiler.simple_version_match\n",
      "    Simple matching of version numbers, for use in CCompiler and FCompiler.\n",
      "numpy.distutils.ccompiler.CCompiler_get_version\n",
      "    Return compiler version, or None if compiler is not available.\n",
      "numpy.testing._private.noseclasses.NumpyOutputChecker.output_difference\n",
      "    Return a string describing the differences between the\n",
      "numpy.lib.tests.test_mixins.ArrayLike\n",
      "    Mixin defining all operator special methods using __array_ufunc__.\n",
      "numpy.distutils.ccompiler.CCompiler_customize_cmd\n",
      "    Customize compiler using distutils command.\n",
      "numpy.lib._datasource._FileOpeners.keys\n",
      "    Return the keys of currently supported file openers.\n",
      "numpy.ma.mrecords.MaskedRecords.tolist\n",
      "    Return the data portion of the array as a list.\n",
      "numpy.lib.recfunctions.unstructured_to_structured\n",
      "    Converts an n-D unstructured array into an (n-1)-D structured array.\n",
      "numpy.distutils.tests.test_ccompiler_opt_conf.TestConfFeatures.assertWarns\n",
      "    Fail unless a warning of class warnClass is triggered\n",
      "numpy.distutils.fcompiler.g95.G95FCompiler\n",
      "    Abstract base class to define the interface that must be implemented\n",
      "numpy.distutils.fcompiler.gnu.GnuFCompiler\n",
      "    Abstract base class to define the interface that must be implemented\n",
      "numpy.distutils.fcompiler.ibm.IBMFCompiler\n",
      "    Abstract base class to define the interface that must be implemented\n",
      "numpy.core._multiarray_tests.format_float_OSprintf_g\n",
      "    Print a floating point scalar using the system's printf function,\n",
      "numpy.distutils.fcompiler.nag.NAGFCompiler\n",
      "    Abstract base class to define the interface that must be implemented\n",
      "numpy.distutils.fcompiler.sun.SunFCompiler\n",
      "    Abstract base class to define the interface that must be implemented\n",
      "numpy.distutils.ccompiler.CCompiler_object_filenames\n",
      "    Return the name of the object files for the given source files.\n",
      "numpy.distutils.fcompiler.gnu.Gnu95FCompiler\n",
      "    Abstract base class to define the interface that must be implemented\n",
      "numpy.distutils.fcompiler.hpux.HPUXFCompiler\n",
      "    Abstract base class to define the interface that must be implemented\n",
      "numpy.distutils.fcompiler.mips.MIPSFCompiler\n",
      "    Abstract base class to define the interface that must be implemented\n",
      "numpy.distutils.fcompiler.nag.NAGFORCompiler\n",
      "    Abstract base class to define the interface that must be implemented\n",
      "numpy.distutils.fcompiler.none.NoneFCompiler\n",
      "    Abstract base class to define the interface that must be implemented\n",
      "numpy.distutils.fcompiler.pg.PGroupFCompiler\n",
      "    Abstract base class to define the interface that must be implemented\n",
      "numpy.distutils.fcompiler.vast.VastFCompiler\n",
      "    Abstract base class to define the interface that must be implemented\n",
      "numpy.distutils.fcompiler.FCompiler.customize\n",
      "    Customize Fortran compiler.\n",
      "numpy.lib.tests.test_histograms.TestHistogramOptimBinNums.test_scott_vs_stone\n",
      "    Verify that Scott's rule and Stone's rule converges for normally distributed data\n",
      "numpy.distutils.tests.test_ccompiler_opt_conf.TestConfFeatures._formatMessage\n",
      "    Honour the longMessage attribute when generating failure messages.\n",
      "numpy.polynomial._polybase.ABCPolyBase.fit\n",
      "    Least squares fit to data.\n",
      "numpy.distutils.fcompiler.intel.IntelFCompiler\n",
      "    Abstract base class to define the interface that must be implemented\n",
      "numpy.distutils.fcompiler.lahey.LaheyFCompiler\n",
      "    Abstract base class to define the interface that must be implemented\n",
      "numpy.distutils.fcompiler.nag.BaseNAGFCompiler\n",
      "    Abstract base class to define the interface that must be implemented\n",
      "numpy.distutils.tests.test_ccompiler_opt_conf.TestConfFeatures.assertWarnsRegex\n",
      "    Asserts that the message in a triggered warning matches a regexp.\n",
      "numpy.ma.mrecords.MaskedRecords.__setstate__\n",
      "    Restore the internal state of the masked array.\n",
      "numpy.lib.tests.test_io.TestSaveLoad.roundtrip\n",
      "    save_func : callable\n",
      "numpy.lib.tests.test_histograms.TestHistogramOptimBinNums.test_incorrect_methods\n",
      "    Check a Value Error is thrown when an unknown string is passed in\n",
      "numpy.distutils.fcompiler.absoft.AbsoftFCompiler\n",
      "    Abstract base class to define the interface that must be implemented\n",
      "numpy.distutils.fcompiler.compaq.CompaqFCompiler\n",
      "    Abstract base class to define the interface that must be implemented\n",
      "numpy.core.tests.test_umath_complex.platform_skip\n",
      "    A decorator for applying a mark on test functions and classes.\n",
      "numpy.distutils.fcompiler.pg.PGroupFlangCompiler\n",
      "    Abstract base class to define the interface that must be implemented\n",
      "numpy.testing._private.nosetester.NoseTester\n",
      "    Nose test runner.\n",
      "numpy.lib.tests.test_io.TestSavezLoad.roundtrip\n",
      "    save_func : callable\n",
      "numpy.lib.tests.test_io.RoundtripTest.roundtrip\n",
      "    save_func : callable\n",
      "numpy.core.tests.test_umath_accuracy.platform_skip\n",
      "    A decorator for applying a mark on test functions and classes.\n",
      "numpy.distutils.misc_util.Configuration.have_f77c\n",
      "    Check for availability of Fortran 77 compiler.\n",
      "numpy.distutils.misc_util.Configuration.have_f90c\n",
      "    Check for availability of Fortran 90 compiler.\n",
      "numpy.distutils.fcompiler.fujitsu.FujitsuFCompiler\n",
      "    Abstract base class to define the interface that must be implemented\n",
      "numpy.distutils.fcompiler.intel.BaseIntelFCompiler\n",
      "    Abstract base class to define the interface that must be implemented\n",
      "numpy.distutils.tests.test_ccompiler_opt_conf.TestConfFeatures.assertMultiLineEqual\n",
      "    Assert that two multi-line strings are equal.\n",
      "numpy.distutils.fcompiler.FCompiler.set_executables\n",
      "    Define the executables (and options for them) that will be run\n",
      "numpy.distutils.fcompiler.intel.IntelEM64TFCompiler\n",
      "    Abstract base class to define the interface that must be implemented\n",
      "numpy.distutils.fcompiler.intel.IntelVisualFCompiler\n",
      "    Abstract base class to define the interface that must be implemented\n",
      "numpy.distutils.fcompiler.pathf95.PathScaleFCompiler\n",
      "    Abstract base class to define the interface that must be implemented\n",
      "numpy.distutils.unixccompiler.UnixCCompiler_create_static_lib\n",
      "    Build a static library in a separate sub-process.\n",
      "numpy.distutils.misc_util.Configuration.add_data_dir\n",
      "    Recursively add files under data_path to data_files list.\n",
      "numpy.distutils.fcompiler.FCompiler._fix_compile_args\n",
      "    Typecheck and fix-up some of the arguments to the 'compile()'\n",
      "numpy.distutils.fcompiler.intel.IntelItaniumFCompiler\n",
      "    Abstract base class to define the interface that must be implemented\n",
      "numpy.core.tests.test_overrides.requires_array_function\n",
      "    A decorator for applying a mark on test functions and classes.\n",
      "numpy.core.tests.test_multiarray.TestNewBufferProtocol.test_relaxed_strides_buffer_info_leak\n",
      "    Test that alternating export of C- and F-order buffers from\n",
      "numpy.distutils.fcompiler.compaq.CompaqVisualFCompiler\n",
      "    Abstract base class to define the interface that must be implemented\n",
      "numpy.distutils.misc_util.Configuration.add_data_files\n",
      "    Add data files to configuration data_files.\n",
      "numpy.random.tests.test_random.TestRandint.rfunc\n",
      "    Return random integers from `low` (inclusive) to `high` (exclusive).\n",
      "numpy.distutils.command.config.config.search_cpp\n",
      "    Construct a source file (just like 'try_cpp()'), run it through\n",
      "numpy.distutils.fcompiler.intel.IntelEM64VisualFCompiler\n",
      "    Abstract base class to define the interface that must be implemented\n",
      "numpy.testing._private.nosetester.NoseTester.test\n",
      "    Run tests for module using nose.\n",
      "numpy.testing._private.noseclasses.NumpyOutputChecker\n",
      "    A class used to check the whether the actual output from a doctest\n",
      "numpy.testing._private.nosetester.NoseTester.bench\n",
      "    Run benchmarks for module using nose.\n",
      "numpy.distutils.misc_util.Configuration.add_npy_pkg_config\n",
      "    Generate and install a npy-pkg config file from a template.\n",
      "numpy.distutils.fcompiler.intel.IntelItaniumVisualFCompiler\n",
      "    Abstract base class to define the interface that must be implemented\n",
      "numpy.core.tests.test_scalarinherit.D.__set_format__\n",
      "    You probably don't want to use this function.\n",
      "numpy.core.tests.test_scalarinherit.C.__set_format__\n",
      "    You probably don't want to use this function.\n",
      "numpy.core.tests.test_scalarinherit.B.__set_format__\n",
      "    You probably don't want to use this function.\n",
      "numpy.ma.tests.test_core.suppress_copy_mask_on_assignment\n",
      "    Context manager and decorator doing much the same as\n",
      "numpy.typing._dtype_like._DTypeDict.__class__.__new__\n",
      "    Create new typed dict class object.\n",
      "numpy.core.tests.test_scalarinherit.B1.__set_format__\n",
      "    You probably don't want to use this function.\n",
      "numpy.core.tests.test_scalarinherit.B0.__set_format__\n",
      "    You probably don't want to use this function.\n",
      "numpy.distutils.misc_util.Configuration.add_installed_library\n",
      "    Similar to add_library, but the specified library is installed.\n",
      "numpy.distutils.numpy_distribution.NumpyDistribution.print_commands\n",
      "    Print out a help message listing all available commands with a\n",
      "numpy.distutils.command.build_py.build_py.find_modules\n",
      "    Finds individually-specified Python modules, ie. those listed by\n",
      "numpy.distutils.tests.test_ccompiler_opt_conf.TestConfFeatures\n",
      "    A class whose instances are single test cases.\n",
      "numpy.testing._private.nosetester.NoseTester._test_argv\n",
      "    Generate argv for nosetest command\n",
      "numpy.distutils.ccompiler_opt.CCompilerOpt.conf_features_partial\n",
      "    Return a dictionary of supported CPU features by the platform,\n",
      "numpy.distutils.numpy_distribution.NumpyDistribution.get_command_list\n",
      "    Get a list of (command, description) tuples.\n",
      "numpy.distutils.ccompiler_opt.CCompilerOpt.feature_c_preprocessor\n",
      "    Generate C preprocessor definitions and include headers of a CPU feature.\n",
      "numpy.core.tests.test_deprecations.TestNonCContiguousViewDeprecation\n",
      "    View of non-C-contiguous arrays deprecated in 1.11.0.\n",
      "numpy.distutils.numpy_distribution.NumpyDistribution.reinitialize_command\n",
      "    Reinitializes a command to the state it was in when first\n",
      "numpy.random.tests.test_generator_mt19937.TestIntegers.rfunc\n",
      "    Return random integers from `low` (inclusive) to `high` (exclusive), or\n",
      "numpy.testing._private.noseclasses.NumpyDocTestFinder.__init__\n",
      "    Create a new doctest finder.\n",
      "numpy.core.tests.test_function_base.PhysicalQuantity.__set_format__\n",
      "    You probably don't want to use this function.\n",
      "numpy.core.tests.test_casting_unittests.Casting.__class__._create_\n",
      "    Convenience method to create a new Enum class.\n",
      "numpy.core.tests.test_casting_unittests.Casting.__class__.__call__\n",
      "    Either returns an existing member, or creates a new enum class.\n",
      "numpy.testing._private.noseclasses.NumpyDocTestCase.shortDescription\n",
      "    Returns a one-line description of the test, or None if no\n",
      "numpy.distutils.tests.test_ccompiler_opt_conf.TestConfFeatures.assertLogs\n",
      "    Fail unless a log message of level *level* or higher is emitted\n",
      "numpy.distutils.tests.test_ccompiler_opt_conf.TestConfFeatures.assertRaises\n",
      "    Fail unless an exception of class expected_exception is raised\n",
      "numpy.core.tests.test_deprecations.BuiltInRoundComplexDType.assert_deprecated\n",
      "    Test if DeprecationWarnings are given and raised.\n",
      "numpy.distutils.tests.test_ccompiler_opt_conf.TestConfFeatures.shortDescription\n",
      "    Returns a one-line description of the test, or None if no\n",
      "numpy.distutils.tests.test_ccompiler_opt_conf.TestConfFeatures.assertRaisesRegex\n",
      "    Asserts that the message in a raised exception matches a regex.\n",
      "numpy.distutils.tests.test_ccompiler_opt_conf._TestConfFeatures.conf_features_partial\n",
      "    Return a dictionary of supported CPU features by the platform,"
     ]
    }
   ],
   "source": [
    "np.lookfor('tri')"
   ]
  },
  {
   "cell_type": "code",
   "execution_count": 65,
   "id": "70e3a3e7",
   "metadata": {},
   "outputs": [
    {
     "name": "stdout",
     "output_type": "stream",
     "text": [
      "Help on function tril in module numpy:\n",
      "\n",
      "tril(m, k=0)\n",
      "    Lower triangle of an array.\n",
      "    \n",
      "    Return a copy of an array with elements above the `k`-th diagonal zeroed.\n",
      "    \n",
      "    Parameters\n",
      "    ----------\n",
      "    m : array_like, shape (M, N)\n",
      "        Input array.\n",
      "    k : int, optional\n",
      "        Diagonal above which to zero elements.  `k = 0` (the default) is the\n",
      "        main diagonal, `k < 0` is below it and `k > 0` is above.\n",
      "    \n",
      "    Returns\n",
      "    -------\n",
      "    tril : ndarray, shape (M, N)\n",
      "        Lower triangle of `m`, of same shape and data-type as `m`.\n",
      "    \n",
      "    See Also\n",
      "    --------\n",
      "    triu : same thing, only for the upper triangle\n",
      "    \n",
      "    Examples\n",
      "    --------\n",
      "    >>> np.tril([[1,2,3],[4,5,6],[7,8,9],[10,11,12]], -1)\n",
      "    array([[ 0,  0,  0],\n",
      "           [ 4,  0,  0],\n",
      "           [ 7,  8,  0],\n",
      "           [10, 11, 12]])\n",
      "\n"
     ]
    }
   ],
   "source": [
    "help(np.tril)"
   ]
  },
  {
   "cell_type": "code",
   "execution_count": 69,
   "id": "8a138860",
   "metadata": {},
   "outputs": [],
   "source": [
    "a = np.arange(20).reshape(4,5)"
   ]
  },
  {
   "cell_type": "code",
   "execution_count": 70,
   "id": "6a2facb9",
   "metadata": {},
   "outputs": [
    {
     "data": {
      "text/plain": [
       "array([[ 0,  1,  2,  3,  4],\n",
       "       [ 5,  6,  7,  8,  9],\n",
       "       [10, 11, 12, 13, 14],\n",
       "       [15, 16, 17, 18, 19]])"
      ]
     },
     "execution_count": 70,
     "metadata": {},
     "output_type": "execute_result"
    }
   ],
   "source": [
    "a"
   ]
  },
  {
   "cell_type": "code",
   "execution_count": 71,
   "id": "808f8f6d",
   "metadata": {},
   "outputs": [
    {
     "data": {
      "text/plain": [
       "5"
      ]
     },
     "execution_count": 71,
     "metadata": {},
     "output_type": "execute_result"
    }
   ],
   "source": [
    "a[1][0]"
   ]
  },
  {
   "cell_type": "code",
   "execution_count": 72,
   "id": "3cfe31ba",
   "metadata": {},
   "outputs": [
    {
     "data": {
      "text/plain": [
       "5"
      ]
     },
     "execution_count": 72,
     "metadata": {},
     "output_type": "execute_result"
    }
   ],
   "source": [
    "a[1,0]"
   ]
  },
  {
   "cell_type": "code",
   "execution_count": 73,
   "id": "e8215c29",
   "metadata": {},
   "outputs": [
    {
     "data": {
      "text/plain": [
       "array([[False, False, False, False, False],\n",
       "       [False,  True,  True,  True,  True],\n",
       "       [ True,  True,  True,  True,  True],\n",
       "       [ True,  True,  True,  True,  True]])"
      ]
     },
     "execution_count": 73,
     "metadata": {},
     "output_type": "execute_result"
    }
   ],
   "source": [
    "a > 5 # broadcasting"
   ]
  },
  {
   "cell_type": "code",
   "execution_count": 74,
   "id": "38f4a1b6",
   "metadata": {},
   "outputs": [
    {
     "data": {
      "text/plain": [
       "array([ 6,  7,  8,  9, 10, 11, 12, 13, 14, 15, 16, 17, 18, 19])"
      ]
     },
     "execution_count": 74,
     "metadata": {},
     "output_type": "execute_result"
    }
   ],
   "source": [
    "a[a>5]"
   ]
  },
  {
   "cell_type": "markdown",
   "id": "61794f51",
   "metadata": {},
   "source": [
    "* fancy indexing"
   ]
  },
  {
   "cell_type": "code",
   "execution_count": 76,
   "id": "23808a15",
   "metadata": {},
   "outputs": [
    {
     "data": {
      "text/plain": [
       "array([[ 5,  6,  7,  8,  9],\n",
       "       [10, 11, 12, 13, 14]])"
      ]
     },
     "execution_count": 76,
     "metadata": {},
     "output_type": "execute_result"
    }
   ],
   "source": [
    "# 차원 유지, 매트릭스로 뽑아옴. 벡터가 아니라.\n",
    "a[[1,2]]"
   ]
  },
  {
   "cell_type": "code",
   "execution_count": 77,
   "id": "7b058fbc",
   "metadata": {},
   "outputs": [
    {
     "data": {
      "text/plain": [
       "array([[15, 16, 17, 18, 19],\n",
       "       [ 5,  6,  7,  8,  9],\n",
       "       [10, 11, 12, 13, 14]])"
      ]
     },
     "execution_count": 77,
     "metadata": {},
     "output_type": "execute_result"
    }
   ],
   "source": [
    "# 새로운 데이터 구조를 만든다.\n",
    "a[[3,1,2]]"
   ]
  },
  {
   "cell_type": "code",
   "execution_count": 79,
   "id": "04df63ae",
   "metadata": {},
   "outputs": [
    {
     "data": {
      "text/plain": [
       "array([2, 8])"
      ]
     },
     "execution_count": 79,
     "metadata": {},
     "output_type": "execute_result"
    }
   ],
   "source": [
    "a[(0,1), (2,3)] # == a[[0,1], [2,3]]"
   ]
  },
  {
   "cell_type": "code",
   "execution_count": 80,
   "id": "7d7fdf2f",
   "metadata": {},
   "outputs": [
    {
     "data": {
      "text/plain": [
       "array([2, 8])"
      ]
     },
     "execution_count": 80,
     "metadata": {},
     "output_type": "execute_result"
    }
   ],
   "source": [
    "a[[0,1], [2,3]]"
   ]
  },
  {
   "cell_type": "code",
   "execution_count": 82,
   "id": "898565cc",
   "metadata": {},
   "outputs": [
    {
     "data": {
      "text/plain": [
       "array([7, 8, 9])"
      ]
     },
     "execution_count": 82,
     "metadata": {},
     "output_type": "execute_result"
    }
   ],
   "source": [
    "# 인덱싱과 슬라이싱을 동시에 할 수 있다.\n",
    "a[1, 2:5]"
   ]
  },
  {
   "cell_type": "code",
   "execution_count": 83,
   "id": "3c05782e",
   "metadata": {},
   "outputs": [],
   "source": [
    "a = np.arange(6).reshape(2,3)\n",
    "b = np.arange(6, 12).reshape(2,3)"
   ]
  },
  {
   "cell_type": "code",
   "execution_count": 84,
   "id": "60cb52ed",
   "metadata": {},
   "outputs": [
    {
     "data": {
      "text/plain": [
       "array([[0, 1, 2],\n",
       "       [3, 4, 5]])"
      ]
     },
     "execution_count": 84,
     "metadata": {},
     "output_type": "execute_result"
    }
   ],
   "source": [
    "a"
   ]
  },
  {
   "cell_type": "code",
   "execution_count": 85,
   "id": "5b8a30fb",
   "metadata": {},
   "outputs": [
    {
     "data": {
      "text/plain": [
       "array([[ 6,  7,  8],\n",
       "       [ 9, 10, 11]])"
      ]
     },
     "execution_count": 85,
     "metadata": {},
     "output_type": "execute_result"
    }
   ],
   "source": [
    "b"
   ]
  },
  {
   "cell_type": "code",
   "execution_count": 86,
   "id": "d6e5e35d",
   "metadata": {},
   "outputs": [
    {
     "data": {
      "text/plain": [
       "array([[ 6,  8, 10],\n",
       "       [12, 14, 16]])"
      ]
     },
     "execution_count": 86,
     "metadata": {},
     "output_type": "execute_result"
    }
   ],
   "source": [
    "a+b"
   ]
  },
  {
   "cell_type": "code",
   "execution_count": 87,
   "id": "3bd28b33",
   "metadata": {},
   "outputs": [
    {
     "data": {
      "text/plain": [
       "array([[ 6,  8, 10],\n",
       "       [12, 14, 16]])"
      ]
     },
     "execution_count": 87,
     "metadata": {},
     "output_type": "execute_result"
    }
   ],
   "source": [
    "# + 연산자에 대응하는 __add__메소드가 있다\n",
    "a.__add__(b)"
   ]
  },
  {
   "cell_type": "code",
   "execution_count": 88,
   "id": "e25f016f",
   "metadata": {},
   "outputs": [
    {
     "data": {
      "text/plain": [
       "array([[ 6,  8, 10],\n",
       "       [12, 14, 16]])"
      ]
     },
     "execution_count": 88,
     "metadata": {},
     "output_type": "execute_result"
    }
   ],
   "source": [
    "# 메소드에 대응하는 함수가 있다.\n",
    "np.add(a,b)"
   ]
  },
  {
   "cell_type": "code",
   "execution_count": null,
   "id": "75249210",
   "metadata": {},
   "outputs": [],
   "source": [
    "# 연산자 오버로딩 overloading"
   ]
  },
  {
   "cell_type": "code",
   "execution_count": 89,
   "id": "34b4e24d",
   "metadata": {},
   "outputs": [
    {
     "data": {
      "text/plain": [
       "[1, 2, 3, 4, 5, 6]"
      ]
     },
     "execution_count": 89,
     "metadata": {},
     "output_type": "execute_result"
    }
   ],
   "source": [
    "[1,2] + [3,4,5,6]"
   ]
  },
  {
   "cell_type": "code",
   "execution_count": 90,
   "id": "64781efe",
   "metadata": {},
   "outputs": [],
   "source": [
    "aa = np.arange(6).reshape(2,3)\n",
    "bb = np.arange(6, 12).reshape(3,2)"
   ]
  },
  {
   "cell_type": "code",
   "execution_count": 91,
   "id": "241e87c8",
   "metadata": {},
   "outputs": [
    {
     "ename": "ValueError",
     "evalue": "operands could not be broadcast together with shapes (2,3) (3,2) ",
     "output_type": "error",
     "traceback": [
      "\u001b[1;31m---------------------------------------------------------------------------\u001b[0m",
      "\u001b[1;31mValueError\u001b[0m                                Traceback (most recent call last)",
      "\u001b[1;32m~\\AppData\\Local\\Temp/ipykernel_11848/2012428222.py\u001b[0m in \u001b[0;36m<module>\u001b[1;34m\u001b[0m\n\u001b[1;32m----> 1\u001b[1;33m \u001b[0maa\u001b[0m \u001b[1;33m+\u001b[0m \u001b[0mbb\u001b[0m\u001b[1;33m\u001b[0m\u001b[1;33m\u001b[0m\u001b[0m\n\u001b[0m",
      "\u001b[1;31mValueError\u001b[0m: operands could not be broadcast together with shapes (2,3) (3,2) "
     ]
    }
   ],
   "source": [
    "aa + bb"
   ]
  },
  {
   "cell_type": "code",
   "execution_count": 92,
   "id": "d0232462",
   "metadata": {},
   "outputs": [
    {
     "data": {
      "text/plain": [
       "array([[1, 2, 3],\n",
       "       [4, 5, 6]])"
      ]
     },
     "execution_count": 92,
     "metadata": {},
     "output_type": "execute_result"
    }
   ],
   "source": [
    "# 모양을 맞추어준다 연산이 가능하도록\n",
    "# broadcasting해준다.\n",
    "aa + 1"
   ]
  },
  {
   "cell_type": "code",
   "execution_count": 93,
   "id": "2bb2b15e",
   "metadata": {},
   "outputs": [
    {
     "data": {
      "text/plain": [
       "array([[0, 1, 2],\n",
       "       [3, 4, 5]])"
      ]
     },
     "execution_count": 93,
     "metadata": {},
     "output_type": "execute_result"
    }
   ],
   "source": [
    "aa"
   ]
  },
  {
   "cell_type": "code",
   "execution_count": 94,
   "id": "b1c3792d",
   "metadata": {},
   "outputs": [
    {
     "data": {
      "text/plain": [
       "array([[False, False, False],\n",
       "       [False,  True,  True]])"
      ]
     },
     "execution_count": 94,
     "metadata": {},
     "output_type": "execute_result"
    }
   ],
   "source": [
    "# broadcasting\n",
    "a > 3"
   ]
  },
  {
   "cell_type": "code",
   "execution_count": 95,
   "id": "d21bd084",
   "metadata": {},
   "outputs": [
    {
     "ename": "ValueError",
     "evalue": "operands could not be broadcast together with shapes (2,3) (3,2) ",
     "output_type": "error",
     "traceback": [
      "\u001b[1;31m---------------------------------------------------------------------------\u001b[0m",
      "\u001b[1;31mValueError\u001b[0m                                Traceback (most recent call last)",
      "\u001b[1;32m~\\AppData\\Local\\Temp/ipykernel_11848/2230598690.py\u001b[0m in \u001b[0;36m<module>\u001b[1;34m\u001b[0m\n\u001b[1;32m----> 1\u001b[1;33m \u001b[0maa\u001b[0m \u001b[1;33m*\u001b[0m \u001b[0mbb\u001b[0m\u001b[1;33m\u001b[0m\u001b[1;33m\u001b[0m\u001b[0m\n\u001b[0m",
      "\u001b[1;31mValueError\u001b[0m: operands could not be broadcast together with shapes (2,3) (3,2) "
     ]
    }
   ],
   "source": [
    "aa * bb"
   ]
  },
  {
   "cell_type": "code",
   "execution_count": 96,
   "id": "42395494",
   "metadata": {},
   "outputs": [
    {
     "data": {
      "text/plain": [
       "array([[ 28,  31],\n",
       "       [100, 112]])"
      ]
     },
     "execution_count": 96,
     "metadata": {},
     "output_type": "execute_result"
    }
   ],
   "source": [
    "# 행렬곱\n",
    "aa @ bb"
   ]
  },
  {
   "cell_type": "code",
   "execution_count": 97,
   "id": "5bea0cd7",
   "metadata": {},
   "outputs": [
    {
     "data": {
      "text/plain": [
       "array([[0, 1, 2],\n",
       "       [3, 4, 5]])"
      ]
     },
     "execution_count": 97,
     "metadata": {},
     "output_type": "execute_result"
    }
   ],
   "source": [
    "a"
   ]
  },
  {
   "cell_type": "code",
   "execution_count": 98,
   "id": "9b1129a3",
   "metadata": {},
   "outputs": [
    {
     "data": {
      "text/plain": [
       "array([[ 6,  7,  8],\n",
       "       [ 9, 10, 11]])"
      ]
     },
     "execution_count": 98,
     "metadata": {},
     "output_type": "execute_result"
    }
   ],
   "source": [
    "b"
   ]
  },
  {
   "cell_type": "code",
   "execution_count": 99,
   "id": "9ff9df63",
   "metadata": {},
   "outputs": [
    {
     "data": {
      "text/plain": [
       "array([[ 0,  7, 16],\n",
       "       [27, 40, 55]])"
      ]
     },
     "execution_count": 99,
     "metadata": {},
     "output_type": "execute_result"
    }
   ],
   "source": [
    "a*b"
   ]
  },
  {
   "cell_type": "code",
   "execution_count": 100,
   "id": "c88fb04b",
   "metadata": {},
   "outputs": [
    {
     "ename": "ValueError",
     "evalue": "matmul: Input operand 1 has a mismatch in its core dimension 0, with gufunc signature (n?,k),(k,m?)->(n?,m?) (size 2 is different from 3)",
     "output_type": "error",
     "traceback": [
      "\u001b[1;31m---------------------------------------------------------------------------\u001b[0m",
      "\u001b[1;31mValueError\u001b[0m                                Traceback (most recent call last)",
      "\u001b[1;32m~\\AppData\\Local\\Temp/ipykernel_11848/1573597190.py\u001b[0m in \u001b[0;36m<module>\u001b[1;34m\u001b[0m\n\u001b[1;32m----> 1\u001b[1;33m \u001b[0ma\u001b[0m \u001b[1;33m@\u001b[0m \u001b[0mb\u001b[0m\u001b[1;33m\u001b[0m\u001b[1;33m\u001b[0m\u001b[0m\n\u001b[0m",
      "\u001b[1;31mValueError\u001b[0m: matmul: Input operand 1 has a mismatch in its core dimension 0, with gufunc signature (n?,k),(k,m?)->(n?,m?) (size 2 is different from 3)"
     ]
    }
   ],
   "source": [
    "a @ b"
   ]
  },
  {
   "cell_type": "markdown",
   "id": "1f1c7bea",
   "metadata": {},
   "source": [
    "## 1차"
   ]
  },
  {
   "cell_type": "code",
   "execution_count": 101,
   "id": "6ce79ab1",
   "metadata": {},
   "outputs": [],
   "source": [
    "a = np.array([1,2,3])\n",
    "b = np.array([1,2,3])"
   ]
  },
  {
   "cell_type": "code",
   "execution_count": 102,
   "id": "91dee36a",
   "metadata": {},
   "outputs": [
    {
     "data": {
      "text/plain": [
       "array([1, 4, 9])"
      ]
     },
     "execution_count": 102,
     "metadata": {},
     "output_type": "execute_result"
    }
   ],
   "source": [
    "a*b"
   ]
  },
  {
   "cell_type": "code",
   "execution_count": 103,
   "id": "8daf817c",
   "metadata": {},
   "outputs": [
    {
     "data": {
      "text/plain": [
       "14"
      ]
     },
     "execution_count": 103,
     "metadata": {},
     "output_type": "execute_result"
    }
   ],
   "source": [
    "# 내적\n",
    "a.dot(b)"
   ]
  },
  {
   "cell_type": "code",
   "execution_count": 104,
   "id": "686b04bf",
   "metadata": {},
   "outputs": [
    {
     "data": {
      "text/plain": [
       "14"
      ]
     },
     "execution_count": 104,
     "metadata": {},
     "output_type": "execute_result"
    }
   ],
   "source": [
    "# 내적\n",
    "np.dot(a,b)"
   ]
  },
  {
   "cell_type": "code",
   "execution_count": 115,
   "id": "2141a8fd",
   "metadata": {},
   "outputs": [
    {
     "data": {
      "text/plain": [
       "14"
      ]
     },
     "execution_count": 115,
     "metadata": {},
     "output_type": "execute_result"
    }
   ],
   "source": [
    "# 내적\n",
    "a @ b"
   ]
  },
  {
   "cell_type": "code",
   "execution_count": 105,
   "id": "68280656",
   "metadata": {},
   "outputs": [
    {
     "data": {
      "text/plain": [
       "array([1, 4, 9])"
      ]
     },
     "execution_count": 105,
     "metadata": {},
     "output_type": "execute_result"
    }
   ],
   "source": [
    "np.multiply(a,b)"
   ]
  },
  {
   "cell_type": "markdown",
   "id": "01ded6bc",
   "metadata": {},
   "source": [
    "## 2차"
   ]
  },
  {
   "cell_type": "code",
   "execution_count": 106,
   "id": "1a3b6adf",
   "metadata": {},
   "outputs": [
    {
     "data": {
      "text/plain": [
       "array([[0, 1, 2],\n",
       "       [3, 4, 5]])"
      ]
     },
     "execution_count": 106,
     "metadata": {},
     "output_type": "execute_result"
    }
   ],
   "source": [
    "aa"
   ]
  },
  {
   "cell_type": "code",
   "execution_count": 107,
   "id": "23f79699",
   "metadata": {},
   "outputs": [
    {
     "data": {
      "text/plain": [
       "array([[ 6,  7],\n",
       "       [ 8,  9],\n",
       "       [10, 11]])"
      ]
     },
     "execution_count": 107,
     "metadata": {},
     "output_type": "execute_result"
    }
   ],
   "source": [
    "bb"
   ]
  },
  {
   "cell_type": "code",
   "execution_count": 109,
   "id": "04fa6387",
   "metadata": {},
   "outputs": [
    {
     "ename": "ValueError",
     "evalue": "operands could not be broadcast together with shapes (2,3) (3,2) ",
     "output_type": "error",
     "traceback": [
      "\u001b[1;31m---------------------------------------------------------------------------\u001b[0m",
      "\u001b[1;31mValueError\u001b[0m                                Traceback (most recent call last)",
      "\u001b[1;32m~\\AppData\\Local\\Temp/ipykernel_11848/1653430847.py\u001b[0m in \u001b[0;36m<module>\u001b[1;34m\u001b[0m\n\u001b[1;32m----> 1\u001b[1;33m \u001b[0mnp\u001b[0m\u001b[1;33m.\u001b[0m\u001b[0mmultiply\u001b[0m\u001b[1;33m(\u001b[0m\u001b[0maa\u001b[0m\u001b[1;33m,\u001b[0m \u001b[0mbb\u001b[0m\u001b[1;33m)\u001b[0m\u001b[1;33m\u001b[0m\u001b[1;33m\u001b[0m\u001b[0m\n\u001b[0m",
      "\u001b[1;31mValueError\u001b[0m: operands could not be broadcast together with shapes (2,3) (3,2) "
     ]
    }
   ],
   "source": [
    "np.multiply(aa, bb)"
   ]
  },
  {
   "cell_type": "code",
   "execution_count": 110,
   "id": "cb883094",
   "metadata": {},
   "outputs": [
    {
     "data": {
      "text/plain": [
       "array([[ 28,  31],\n",
       "       [100, 112]])"
      ]
     },
     "execution_count": 110,
     "metadata": {},
     "output_type": "execute_result"
    }
   ],
   "source": [
    "# 다형성\n",
    "np.dot(aa, bb)"
   ]
  },
  {
   "cell_type": "code",
   "execution_count": 112,
   "id": "962bc047",
   "metadata": {},
   "outputs": [
    {
     "data": {
      "text/plain": [
       "array([[ 28,  31],\n",
       "       [100, 112]])"
      ]
     },
     "execution_count": 112,
     "metadata": {},
     "output_type": "execute_result"
    }
   ],
   "source": [
    "# 다형성\n",
    "aa.dot(bb)"
   ]
  },
  {
   "cell_type": "code",
   "execution_count": 113,
   "id": "6c278d69",
   "metadata": {},
   "outputs": [
    {
     "data": {
      "text/plain": [
       "array([[ 28,  31],\n",
       "       [100, 112]])"
      ]
     },
     "execution_count": 113,
     "metadata": {},
     "output_type": "execute_result"
    }
   ],
   "source": [
    "aa @ bb"
   ]
  },
  {
   "cell_type": "code",
   "execution_count": 114,
   "id": "93964238",
   "metadata": {},
   "outputs": [
    {
     "data": {
      "text/plain": [
       "14"
      ]
     },
     "execution_count": 114,
     "metadata": {},
     "output_type": "execute_result"
    }
   ],
   "source": [
    "a @ b"
   ]
  },
  {
   "cell_type": "code",
   "execution_count": 120,
   "id": "2d285176",
   "metadata": {},
   "outputs": [],
   "source": [
    "aa = np.mat([[1,2,3],[3,4,5]])\n",
    "bb = np.mat([[1,2,],[3,4,],[4,5]])"
   ]
  },
  {
   "cell_type": "code",
   "execution_count": 121,
   "id": "14bb388a",
   "metadata": {},
   "outputs": [
    {
     "data": {
      "text/plain": [
       "matrix([[19, 25],\n",
       "        [35, 47]])"
      ]
     },
     "execution_count": 121,
     "metadata": {},
     "output_type": "execute_result"
    }
   ],
   "source": [
    "aa @ bb"
   ]
  },
  {
   "cell_type": "code",
   "execution_count": 122,
   "id": "ca439ed2",
   "metadata": {},
   "outputs": [
    {
     "data": {
      "text/plain": [
       "matrix([[19, 25],\n",
       "        [35, 47]])"
      ]
     },
     "execution_count": 122,
     "metadata": {},
     "output_type": "execute_result"
    }
   ],
   "source": [
    "aa * bb"
   ]
  },
  {
   "cell_type": "code",
   "execution_count": 123,
   "id": "9ccf4765",
   "metadata": {},
   "outputs": [
    {
     "ename": "ValueError",
     "evalue": "operands could not be broadcast together with shapes (2,3) (3,2) ",
     "output_type": "error",
     "traceback": [
      "\u001b[1;31m---------------------------------------------------------------------------\u001b[0m",
      "\u001b[1;31mValueError\u001b[0m                                Traceback (most recent call last)",
      "\u001b[1;32m~\\AppData\\Local\\Temp/ipykernel_11848/1653430847.py\u001b[0m in \u001b[0;36m<module>\u001b[1;34m\u001b[0m\n\u001b[1;32m----> 1\u001b[1;33m \u001b[0mnp\u001b[0m\u001b[1;33m.\u001b[0m\u001b[0mmultiply\u001b[0m\u001b[1;33m(\u001b[0m\u001b[0maa\u001b[0m\u001b[1;33m,\u001b[0m \u001b[0mbb\u001b[0m\u001b[1;33m)\u001b[0m\u001b[1;33m\u001b[0m\u001b[1;33m\u001b[0m\u001b[0m\n\u001b[0m",
      "\u001b[1;31mValueError\u001b[0m: operands could not be broadcast together with shapes (2,3) (3,2) "
     ]
    }
   ],
   "source": [
    "np.multiply(aa, bb)"
   ]
  },
  {
   "cell_type": "code",
   "execution_count": null,
   "id": "0e23301e",
   "metadata": {},
   "outputs": [],
   "source": [
    "ufunc"
   ]
  },
  {
   "cell_type": "code",
   "execution_count": null,
   "id": "e36ddd76",
   "metadata": {},
   "outputs": [],
   "source": []
  },
  {
   "cell_type": "code",
   "execution_count": null,
   "id": "9d0594ac",
   "metadata": {},
   "outputs": [],
   "source": []
  }
 ],
 "metadata": {
  "kernelspec": {
   "display_name": "Python 3 (ipykernel)",
   "language": "python",
   "name": "python3"
  },
  "language_info": {
   "codemirror_mode": {
    "name": "ipython",
    "version": 3
   },
   "file_extension": ".py",
   "mimetype": "text/x-python",
   "name": "python",
   "nbconvert_exporter": "python",
   "pygments_lexer": "ipython3",
   "version": "3.9.7"
  }
 },
 "nbformat": 4,
 "nbformat_minor": 5
}
