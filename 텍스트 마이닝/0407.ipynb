{
 "cells": [
  {
   "cell_type": "code",
   "execution_count": 1,
   "id": "bd9bf001",
   "metadata": {},
   "outputs": [
    {
     "ename": "TypeError",
     "evalue": "'int' object is not subscriptable",
     "output_type": "error",
     "traceback": [
      "\u001b[1;31m---------------------------------------------------------------------------\u001b[0m",
      "\u001b[1;31mTypeError\u001b[0m                                 Traceback (most recent call last)",
      "\u001b[1;32m~\\AppData\\Local\\Temp/ipykernel_14708/3600676199.py\u001b[0m in \u001b[0;36m<module>\u001b[1;34m\u001b[0m\n\u001b[0;32m     23\u001b[0m \u001b[1;33m\u001b[0m\u001b[0m\n\u001b[0;32m     24\u001b[0m         \u001b[1;32mif\u001b[0m \u001b[0mj\u001b[0m \u001b[1;32min\u001b[0m \u001b[0mTDM\u001b[0m\u001b[1;33m.\u001b[0m\u001b[0mkeys\u001b[0m\u001b[1;33m(\u001b[0m\u001b[1;33m)\u001b[0m\u001b[1;33m:\u001b[0m\u001b[1;33m\u001b[0m\u001b[1;33m\u001b[0m\u001b[0m\n\u001b[1;32m---> 25\u001b[1;33m             \u001b[0mTDM\u001b[0m\u001b[1;33m[\u001b[0m\u001b[0mj\u001b[0m\u001b[1;33m]\u001b[0m\u001b[1;33m[\u001b[0m\u001b[1;34m'docfreq'\u001b[0m\u001b[1;33m]\u001b[0m \u001b[1;33m+=\u001b[0m \u001b[1;36m1\u001b[0m\u001b[1;33m\u001b[0m\u001b[1;33m\u001b[0m\u001b[0m\n\u001b[0m\u001b[0;32m     26\u001b[0m             \u001b[0minfo\u001b[0m \u001b[1;33m=\u001b[0m \u001b[1;33m(\u001b[0m\u001b[0mi\u001b[0m\u001b[1;33m,\u001b[0m\u001b[0mf\u001b[0m\u001b[1;33m,\u001b[0m\u001b[0mTDM\u001b[0m\u001b[1;33m[\u001b[0m\u001b[0mj\u001b[0m\u001b[1;33m]\u001b[0m\u001b[1;33m[\u001b[0m\u001b[1;34m'pos'\u001b[0m\u001b[1;33m]\u001b[0m\u001b[1;33m)\u001b[0m\u001b[1;33m\u001b[0m\u001b[1;33m\u001b[0m\u001b[0m\n\u001b[0;32m     27\u001b[0m         \u001b[1;32melse\u001b[0m\u001b[1;33m:\u001b[0m\u001b[1;33m\u001b[0m\u001b[1;33m\u001b[0m\u001b[0m\n",
      "\u001b[1;31mTypeError\u001b[0m: 'int' object is not subscriptable"
     ]
    }
   ],
   "source": [
    "from konlpy.corpus import kobill\n",
    "from collections import Counter\n",
    "from struct import pack, unpack\n",
    "\n",
    "C = list()\n",
    "V = list()\n",
    "TDM = dict()\n",
    "\n",
    "open('posting.dat', 'wb').close()\n",
    "\n",
    "for file in kobill.fileids():\n",
    "    C.append({'path':file,'maxfreq':0, 'length':0})\n",
    "\n",
    "for d in C:\n",
    "    i = C.index(d)\n",
    "    localTDM = Counter(kobill.open(d['path']).read().split())\n",
    "    C[i]['maxfreq'] = max(localTDM.values())\n",
    "    \n",
    "    for t, f in localTDM.items():\n",
    "        if t not in V:\n",
    "            V.append(t)\n",
    "        j = V.index(t)\n",
    "        \n",
    "        if j in TDM.keys():\n",
    "            TDM[j]['docfreq'] += 1\n",
    "            info = (i,f,TDM[j]['pos'])\n",
    "        else:\n",
    "            TDM[j] = {'docfreq':1, 'pos':-1}\n",
    "            info = (i,f,-1)\n",
    "\n",
    "        fp = open('posting.dat', 'ab')\n",
    "        pos = fp.tell()\n",
    "        fp.write(pack('iii', *info))\n",
    "        fp.close()\n",
    "\n",
    "        TDM[j] = pos"
   ]
  },
  {
   "cell_type": "code",
   "execution_count": 2,
   "id": "2ac4e4e1",
   "metadata": {},
   "outputs": [],
   "source": [
    "from math import log\n",
    "\n",
    "tf1 = lambda freq:1 if freq > 0 else 0 # binary\n",
    "tf2 = lambda freq:freq # raw count\n",
    "tf3 = lambda freq, sumfreq: freq/sumfreq # term freq\n",
    "tf4 = lambda freq: log(1+freq) # log normalization\n",
    "tf6 = lambda k, freq, maxfreq: k + (1-k)*(freq/maxfreq) # double normalization K\n",
    "tf5 = lambda freq, maxfreq: tf6(.5, freq, maxfreq) # double normalization .5\n",
    "\n",
    "idf1 = lambda:1\n",
    "idf2 = lambda df, N:log(N/df) # nt =|tㅌd, dㅌC| => df\n",
    "idf3 = lambda df, N:log(N/(1+df))+1\n",
    "idf4 = lambda df, maxdf:log(maxdf/(1+df))\n",
    "idf5 = lambda df, N:log((N-df)/df)"
   ]
  },
  {
   "cell_type": "code",
   "execution_count": 4,
   "id": "3d3416be",
   "metadata": {},
   "outputs": [
    {
     "ename": "TypeError",
     "evalue": "'int' object is not subscriptable",
     "output_type": "error",
     "traceback": [
      "\u001b[1;31m---------------------------------------------------------------------------\u001b[0m",
      "\u001b[1;31mTypeError\u001b[0m                                 Traceback (most recent call last)",
      "\u001b[1;32m~\\AppData\\Local\\Temp/ipykernel_14708/2901241936.py\u001b[0m in \u001b[0;36m<module>\u001b[1;34m\u001b[0m\n\u001b[0;32m      4\u001b[0m \u001b[1;33m\u001b[0m\u001b[0m\n\u001b[0;32m      5\u001b[0m \u001b[1;32mfor\u001b[0m \u001b[0mt\u001b[0m\u001b[1;33m,\u001b[0m \u001b[0mtinfo\u001b[0m \u001b[1;32min\u001b[0m \u001b[0mTDM\u001b[0m\u001b[1;33m.\u001b[0m\u001b[0mitems\u001b[0m\u001b[1;33m(\u001b[0m\u001b[1;33m)\u001b[0m\u001b[1;33m:\u001b[0m\u001b[1;33m\u001b[0m\u001b[1;33m\u001b[0m\u001b[0m\n\u001b[1;32m----> 6\u001b[1;33m     \u001b[0mpos\u001b[0m \u001b[1;33m=\u001b[0m \u001b[0mtinfo\u001b[0m\u001b[1;33m[\u001b[0m\u001b[1;34m'pos'\u001b[0m\u001b[1;33m]\u001b[0m\u001b[1;33m\u001b[0m\u001b[1;33m\u001b[0m\u001b[0m\n\u001b[0m\u001b[0;32m      7\u001b[0m     \u001b[0mdf\u001b[0m \u001b[1;33m=\u001b[0m \u001b[0mtinfo\u001b[0m\u001b[1;33m[\u001b[0m\u001b[1;34m'docfreq'\u001b[0m\u001b[1;33m]\u001b[0m\u001b[1;33m\u001b[0m\u001b[1;33m\u001b[0m\u001b[0m\n\u001b[0;32m      8\u001b[0m \u001b[1;33m\u001b[0m\u001b[0m\n",
      "\u001b[1;31mTypeError\u001b[0m: 'int' object is not subscriptable"
     ]
    }
   ],
   "source": [
    "WDM = dict()\n",
    "\n",
    "open('weights.dat', 'wb').close()\n",
    "\n",
    "for t, tinfo in TDM.items():\n",
    "    pos = tinfo['pos']\n",
    "    df = tinfo['docfreq']\n",
    "    \n",
    "    with open('posting.dat', 'rb') as fp:\n",
    "        fp2 = open('weights.dat', 'ab')\n",
    "        wpos = fp2.tell()\n",
    "        \n",
    "        while pos != -1:\n",
    "            fp.seek(pos)\n",
    "            info = unpack('iii', fp.read(12))\n",
    "            pos = info[-1]\n",
    "            \n",
    "            w = tf5(info[1], C[info[0]]['maxfreq'])*\\\n",
    "            idf2(df, len(C))\n",
    "            winfo = (info[0], w)\n",
    "            fp2.write(pack('if', *winfo))\n",
    "        fp2.close()\n",
    "\n",
    "        WDM[t] = {'pos':wpos,'df':df}"
   ]
  },
  {
   "cell_type": "code",
   "execution_count": null,
   "id": "b4bca1f1",
   "metadata": {},
   "outputs": [],
   "source": [
    "Dist, Angle"
   ]
  },
  {
   "cell_type": "code",
   "execution_count": 11,
   "id": "c49d478d",
   "metadata": {},
   "outputs": [
    {
     "ename": "TypeError",
     "evalue": "'int' object is not subscriptable",
     "output_type": "error",
     "traceback": [
      "\u001b[1;31m---------------------------------------------------------------------------\u001b[0m",
      "\u001b[1;31mTypeError\u001b[0m                                 Traceback (most recent call last)",
      "\u001b[1;32m~\\AppData\\Local\\Temp/ipykernel_14708/4044161190.py\u001b[0m in \u001b[0;36m<module>\u001b[1;34m\u001b[0m\n\u001b[0;32m      8\u001b[0m \u001b[1;33m\u001b[0m\u001b[0m\n\u001b[0;32m      9\u001b[0m \u001b[1;32mfor\u001b[0m \u001b[0mt\u001b[0m\u001b[1;33m,\u001b[0m\u001b[0mf\u001b[0m \u001b[1;32min\u001b[0m \u001b[0mQ_tokenize\u001b[0m\u001b[1;33m.\u001b[0m\u001b[0mitems\u001b[0m\u001b[1;33m(\u001b[0m\u001b[1;33m)\u001b[0m\u001b[1;33m:\u001b[0m\u001b[1;33m\u001b[0m\u001b[1;33m\u001b[0m\u001b[0m\n\u001b[1;32m---> 10\u001b[1;33m     \u001b[0mw\u001b[0m \u001b[1;33m=\u001b[0m \u001b[0mtf5\u001b[0m\u001b[1;33m(\u001b[0m\u001b[0mf\u001b[0m\u001b[1;33m,\u001b[0m \u001b[0mQ_maxfreq\u001b[0m\u001b[1;33m)\u001b[0m\u001b[1;33m*\u001b[0m\u001b[0midf2\u001b[0m\u001b[1;33m(\u001b[0m\u001b[0mTDM\u001b[0m\u001b[1;33m[\u001b[0m\u001b[0mV\u001b[0m\u001b[1;33m.\u001b[0m\u001b[0mindex\u001b[0m\u001b[1;33m(\u001b[0m\u001b[0mt\u001b[0m\u001b[1;33m)\u001b[0m\u001b[1;33m]\u001b[0m\u001b[1;33m[\u001b[0m\u001b[1;34m'docfreq'\u001b[0m\u001b[1;33m]\u001b[0m\u001b[1;33m,\u001b[0m \u001b[0mlen\u001b[0m\u001b[1;33m(\u001b[0m\u001b[0mC\u001b[0m\u001b[1;33m)\u001b[0m\u001b[1;33m)\u001b[0m\u001b[1;33m\u001b[0m\u001b[1;33m\u001b[0m\u001b[0m\n\u001b[0m\u001b[0;32m     11\u001b[0m     \u001b[0mQWM\u001b[0m\u001b[1;33m[\u001b[0m\u001b[0mV\u001b[0m\u001b[1;33m.\u001b[0m\u001b[0mindex\u001b[0m\u001b[1;33m(\u001b[0m\u001b[0mt\u001b[0m\u001b[1;33m)\u001b[0m\u001b[1;33m]\u001b[0m \u001b[1;33m=\u001b[0m \u001b[0mw\u001b[0m\u001b[1;33m\u001b[0m\u001b[1;33m\u001b[0m\u001b[0m\n\u001b[0;32m     12\u001b[0m \u001b[1;33m\u001b[0m\u001b[0m\n",
      "\u001b[1;31mTypeError\u001b[0m: 'int' object is not subscriptable"
     ]
    }
   ],
   "source": [
    "# Distance\n",
    "result = dict()\n",
    "\n",
    "Q = kobill.open(C[0]['path']).read()\n",
    "Q_tokenize = Counter(Q.split())\n",
    "Q_maxfreq = max(Q_tokenize.values())\n",
    "QWM = dict()\n",
    "\n",
    "for t,f in Q_tokenize.items():\n",
    "    w = tf5(f, Q_maxfreq)*idf2(TDM[V.index(t)]['docfreq'], len(C))\n",
    "    QWM[V.index(t)] = w\n",
    "    \n",
    "for j in range(len(V)):\n",
    "    w1 = QWM[j] if j in QWM.keys() else 0\n",
    "    for info in WDM[j]:\n",
    "        with open('weights.dat', 'rb') as fp:\n",
    "            for pos in range(info['df']):\n",
    "                fp.seek(info['pos']+(8*pos))\n",
    "                w2 = unpack('if', fp.read(8))\n",
    "                \n",
    "                if w2[0] not in result.keys():\n",
    "                    result[w2[0]] = (w1 - w2[1])**2\n",
    "                else:\n",
    "                    result[w2[0]] += (w1 - w2[1])**2\n",
    "                    \n",
    "result = {i:sqrt(ws) for i, ws in result.items()}\n",
    "sorted(result.items(), key=lambda r: r[-1], reverse=False)"
   ]
  },
  {
   "cell_type": "code",
   "execution_count": 6,
   "id": "015ab2d5",
   "metadata": {},
   "outputs": [],
   "source": [
    "from math import sqrt"
   ]
  },
  {
   "cell_type": "code",
   "execution_count": 7,
   "id": "5908a229",
   "metadata": {},
   "outputs": [
    {
     "data": {
      "text/plain": [
       "'1809892.txt'"
      ]
     },
     "execution_count": 7,
     "metadata": {},
     "output_type": "execute_result"
    }
   ],
   "source": [
    "from nltk.tokenize import sent_tokenize\n",
    "Q = sent_tokenize(kobill.open(C[2]['path']).read())[5]\n",
    "C[2]['path']"
   ]
  },
  {
   "cell_type": "code",
   "execution_count": 8,
   "id": "8b9a994d",
   "metadata": {},
   "outputs": [
    {
     "data": {
      "text/plain": [
       "(394, 256)"
      ]
     },
     "execution_count": 8,
     "metadata": {},
     "output_type": "execute_result"
    }
   ],
   "source": [
    "len(kobill.open(C[5]['path']).read().split()),\\\n",
    "len(set(kobill.open(C[5]['path']).read().split()))"
   ]
  },
  {
   "cell_type": "code",
   "execution_count": 9,
   "id": "49cc32a2",
   "metadata": {},
   "outputs": [
    {
     "data": {
      "text/plain": [
       "(984, 611)"
      ]
     },
     "execution_count": 9,
     "metadata": {},
     "output_type": "execute_result"
    }
   ],
   "source": [
    "len(kobill.open(C[2]['path']).read().split()),\\\n",
    "len(set(kobill.open(C[2]['path']).read().split()))"
   ]
  },
  {
   "cell_type": "code",
   "execution_count": 10,
   "id": "0c3ee555",
   "metadata": {},
   "outputs": [
    {
     "data": {
      "text/plain": [
       "(841, 541)"
      ]
     },
     "execution_count": 10,
     "metadata": {},
     "output_type": "execute_result"
    }
   ],
   "source": [
    "len(kobill.open(C[0]['path']).read().split()),\\\n",
    "len(set(kobill.open(C[0]['path']).read().split()))"
   ]
  },
  {
   "cell_type": "code",
   "execution_count": null,
   "id": "65b9264d",
   "metadata": {},
   "outputs": [],
   "source": []
  },
  {
   "cell_type": "code",
   "execution_count": null,
   "id": "32181e91",
   "metadata": {},
   "outputs": [],
   "source": []
  },
  {
   "cell_type": "code",
   "execution_count": null,
   "id": "ae60fb63",
   "metadata": {},
   "outputs": [],
   "source": []
  },
  {
   "cell_type": "code",
   "execution_count": 12,
   "id": "f85bc1f1",
   "metadata": {},
   "outputs": [],
   "source": [
    "from os import listdir\n",
    "\n",
    "def fileids(path):\n",
    "    fileList = list()\n",
    "    \n",
    "    path = path + ('' if path[-1] == '/' else '/')\n",
    "    \n",
    "    for f in listdir(path):\n",
    "        if f.endswith('.txt'):\n",
    "            fileList.append(path+f)\n",
    "    \n",
    "    return fileList"
   ]
  },
  {
   "cell_type": "code",
   "execution_count": 14,
   "id": "3d80d2c1",
   "metadata": {},
   "outputs": [],
   "source": [
    "C = [{'path':f, 'maxfreq':0, 'length':0} for f in fileids('news')]"
   ]
  },
  {
   "cell_type": "code",
   "execution_count": null,
   "id": "385bcc6d",
   "metadata": {},
   "outputs": [],
   "source": [
    "import re\n",
    "\n",
    "p1 = re.compile('[a-zA-Z0-9_-]+@(?:[.]?[a-zA-Z0-9_-]+)+')\n",
    "p2 = re.compile('[{}]'.format(re.escape('''\"'='\"''')))\n",
    "p3 = re.compile('[\\(\\[].+?[\\)\\]]')\n",
    "p4 = re.compile('[a-zA-Z]'+)\n",
    "p5 = re.compile('\\s+')\n",
    "p6 = re.compile('[^ㄱ-하-|가-힣0-9.]')\n",
    "p7 = re.compile('\\s.[.]')\n",
    "\n",
    "def preprocessing1(d, *patterns):\n",
    "    for i in range(len(patterns)):\n",
    "        d = patterns[i].sub(' ', d)\n",
    "    return d.strip()"
   ]
  },
  {
   "cell_type": "code",
   "execution_count": null,
   "id": "b82650fe",
   "metadata": {},
   "outputs": [],
   "source": [
    "def Indexer(file):\n",
    "    with open(file, 'r', encoding='utf8') as fp:\n",
    "        d = fp.read()\n",
    "        print(d)\n",
    "        print('========================')\n",
    "        print(preprocessing1(d, p1, p2, p3))"
   ]
  },
  {
   "cell_type": "code",
   "execution_count": null,
   "id": "9baf59d1",
   "metadata": {},
   "outputs": [],
   "source": []
  },
  {
   "cell_type": "code",
   "execution_count": null,
   "id": "fa4250e6",
   "metadata": {},
   "outputs": [],
   "source": []
  }
 ],
 "metadata": {
  "kernelspec": {
   "display_name": "Python 3 (ipykernel)",
   "language": "python",
   "name": "python3"
  },
  "language_info": {
   "codemirror_mode": {
    "name": "ipython",
    "version": 3
   },
   "file_extension": ".py",
   "mimetype": "text/x-python",
   "name": "python",
   "nbconvert_exporter": "python",
   "pygments_lexer": "ipython3",
   "version": "3.9.7"
  }
 },
 "nbformat": 4,
 "nbformat_minor": 5
}
