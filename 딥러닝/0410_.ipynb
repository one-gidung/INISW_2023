{
 "cells": [
  {
   "cell_type": "markdown",
   "id": "290571dd",
   "metadata": {},
   "source": [
    "## algorithmic modeling\n",
    "\n",
    "### l1_l2는 함수형 패러다임, 함수형 패러다임의 문제점\n",
    "- option주는 거 빡셈\n",
    "- 파라미터 변경 빡셈\n",
    "\n",
    "### 그래서 커링 테크닉 쓴다\n",
    "\n",
    "### drop out\n",
    "- overfitting 막는 용으로 사용한다.\n",
    "- random하게 node를 제거한다.\n",
    "- drop out을 0.5로 지정하면 노드 4개 중 2개를 랜덤하게 없앤다.\n",
    "- catastrophic forgetting(파괴적 망각)을 막는다.\n",
    "- 앙상블 효과를 가진다.\n",
    "- batch랑 같이 쓰면 효과가 없다 같이 쓰면 충돌이 날 수 있기 때문이다.\n",
    "- layer가 크면 배치, 작으면 dropout을 쓴다 주로\n",
    "- 근데 학습할 때만 랜덤하게 없앤다.\n",
    "- 실제 학습이 끝난 이후에는 작동 안 한다. 그래서 옵션으로 training=(True, False) 로 dropout 기능을 껐다 킬 수 있다.\n",
    "- 그래서 학습할 때랑 실제랑 모델 모양이 달라진다.\n",
    "- tf.keras.layers.Dropout(0.2) : 바로 앞의 layer에서 20퍼 삭제하고 학습한다.\n",
    "- 크면 클수록 dropout한다 overfitting할 가능성이 높아서.\n",
    "\n",
    "### ReLU \n",
    "- ...현상?\n",
    "\n",
    "### overfitting\n",
    "- regularizer를 추가하거나 dropout을 추가하면 된다.\n",
    "- 영원히 막을 순 없다. 에포크 횟수가 증가하면 다시 발생하는 overfitting...\n",
    "\n",
    "### regularization\n",
    "- L1\n",
    "- L2(=weight decay)\n",
    "- bias_regularizer\n",
    "\n",
    "### perceptron 갯수를 2의 배수로 하는 이유 = vetorization\n",
    "- GPU가 짝수개로 분해시킨다.\n",
    "- 3개를 실행시키나 4개 실행시키나 똑같다.\n",
    "- 자원을 최대한 많이 쓸 수 있기 때문에.\n",
    "\n",
    "### training error\n",
    "- 낙관적 편향\n",
    "- resubstation sampling\n",
    "- 진짜 성능보다 좋게 나온다 (=문제봤던걸로 시험보니까 점수가 좋을 수 밖에 없음)\n",
    "\n",
    "### callback\n",
    "- 어떤 것이 실행되고 연속으로 실행되는 개념\n",
    "\n",
    "### overriding\n",
    "- 주의할 점: 부모와 똑같은 파라미터 만들어야한다.\n",
    "\n",
    "### layer overriding\n",
    "- custom 가능"
   ]
  },
  {
   "cell_type": "code",
   "execution_count": 1,
   "id": "e7158977",
   "metadata": {},
   "outputs": [],
   "source": [
    "from sklearn.linear_model import Lasso, Ridge, ElasticNet"
   ]
  },
  {
   "cell_type": "code",
   "execution_count": 2,
   "id": "3c39207c",
   "metadata": {},
   "outputs": [],
   "source": [
    "import tensorflow as tf"
   ]
  },
  {
   "cell_type": "code",
   "execution_count": null,
   "id": "f23a5822",
   "metadata": {},
   "outputs": [],
   "source": [
    "tf.keras.regularizers.l1_l2"
   ]
  },
  {
   "cell_type": "code",
   "execution_count": null,
   "id": "3a4a1228",
   "metadata": {},
   "outputs": [],
   "source": [
    "Lasso"
   ]
  },
  {
   "cell_type": "code",
   "execution_count": null,
   "id": "93ea0780",
   "metadata": {},
   "outputs": [],
   "source": [
    "tf.keras.layers.Dense"
   ]
  },
  {
   "cell_type": "code",
   "execution_count": null,
   "id": "0eaa83a9",
   "metadata": {},
   "outputs": [],
   "source": []
  },
  {
   "cell_type": "code",
   "execution_count": 4,
   "id": "76d4ee9b",
   "metadata": {
    "collapsed": true
   },
   "outputs": [
    {
     "name": "stdout",
     "output_type": "stream",
     "text": [
      "Collecting scikeras\n",
      "  Downloading scikeras-0.10.0-py3-none-any.whl (27 kB)\n",
      "Requirement already satisfied: scikit-learn>=1.0.0 in c:\\users\\dlel2\\anaconda3\\lib\\site-packages (from scikeras) (1.2.2)\n",
      "Requirement already satisfied: packaging>=0.21 in c:\\users\\dlel2\\anaconda3\\lib\\site-packages (from scikeras) (23.0)\n",
      "Requirement already satisfied: threadpoolctl>=2.0.0 in c:\\users\\dlel2\\anaconda3\\lib\\site-packages (from scikit-learn>=1.0.0->scikeras) (2.2.0)\n"
     ]
    },
    {
     "name": "stderr",
     "output_type": "stream",
     "text": [
      "WARNING: Ignoring invalid distribution -atplotlib (c:\\users\\dlel2\\anaconda3\\lib\\site-packages)\n",
      "WARNING: Ignoring invalid distribution -atplotlib (c:\\users\\dlel2\\anaconda3\\lib\\site-packages)\n",
      "WARNING: Ignoring invalid distribution -atplotlib (c:\\users\\dlel2\\anaconda3\\lib\\site-packages)\n",
      "WARNING: Ignoring invalid distribution -atplotlib (c:\\users\\dlel2\\anaconda3\\lib\\site-packages)\n",
      "WARNING: Ignoring invalid distribution -atplotlib (c:\\users\\dlel2\\anaconda3\\lib\\site-packages)\n",
      "WARNING: Ignoring invalid distribution -atplotlib (c:\\users\\dlel2\\anaconda3\\lib\\site-packages)\n",
      "WARNING: Ignoring invalid distribution -atplotlib (c:\\users\\dlel2\\anaconda3\\lib\\site-packages)\n"
     ]
    },
    {
     "name": "stdout",
     "output_type": "stream",
     "text": [
      "Requirement already satisfied: numpy>=1.17.3 in c:\\users\\dlel2\\anaconda3\\lib\\site-packages (from scikit-learn>=1.0.0->scikeras) (1.20.3)\n",
      "Requirement already satisfied: joblib>=1.1.1 in c:\\users\\dlel2\\anaconda3\\lib\\site-packages (from scikit-learn>=1.0.0->scikeras) (1.2.0)\n",
      "Requirement already satisfied: scipy>=1.3.2 in c:\\users\\dlel2\\anaconda3\\lib\\site-packages (from scikit-learn>=1.0.0->scikeras) (1.7.1)\n",
      "Installing collected packages: scikeras\n",
      "Successfully installed scikeras-0.10.0\n"
     ]
    }
   ],
   "source": [
    "!pip install -U scikeras"
   ]
  },
  {
   "cell_type": "code",
   "execution_count": 3,
   "id": "cb5d60a1",
   "metadata": {},
   "outputs": [],
   "source": [
    "# from tensorflow.keras.wrappers.scikit_learn import KerasClassifier # 옛날에 쓰던거\n",
    "from scikeras.wrappers import KerasClassifier # 요즘 쓰는 거"
   ]
  },
  {
   "cell_type": "code",
   "execution_count": 6,
   "id": "d2e56a12",
   "metadata": {},
   "outputs": [],
   "source": [
    "# 저질 예시\n",
    "def build():\n",
    "    model = tf.keras.models.Sequential([\n",
    "        tf.keras.layers.Dense(16, input_shape=(4,)),\n",
    "        tf.keras.layers.Dense(3)\n",
    "    ])\n",
    "    model.compile(loss=tf.keras.losses.SparseCategoricalCrossentropy())\n",
    "    return model"
   ]
  },
  {
   "cell_type": "code",
   "execution_count": 20,
   "id": "af237363",
   "metadata": {},
   "outputs": [],
   "source": [
    "model = KerasClassifier(build_fn=build, epochs=10)"
   ]
  },
  {
   "cell_type": "code",
   "execution_count": 8,
   "id": "7987f9c2",
   "metadata": {},
   "outputs": [],
   "source": [
    "from sklearn.datasets import load_iris"
   ]
  },
  {
   "cell_type": "code",
   "execution_count": 11,
   "id": "1d6277b2",
   "metadata": {},
   "outputs": [],
   "source": [
    "data = load_iris()"
   ]
  },
  {
   "cell_type": "code",
   "execution_count": 16,
   "id": "e9d5d564",
   "metadata": {},
   "outputs": [],
   "source": [
    "from sklearn.model_selection import cross_val_score, learning_curve"
   ]
  },
  {
   "cell_type": "code",
   "execution_count": 13,
   "id": "926e2fe5",
   "metadata": {
    "collapsed": true
   },
   "outputs": [
    {
     "name": "stderr",
     "output_type": "stream",
     "text": [
      "C:\\Users\\dlel2\\anaconda3\\lib\\site-packages\\scikeras\\wrappers.py:301: UserWarning: ``build_fn`` will be renamed to ``model`` in a future release, at which point use of ``build_fn`` will raise an Error instead.\n",
      "  warnings.warn(\n"
     ]
    },
    {
     "name": "stdout",
     "output_type": "stream",
     "text": [
      "4/4 [==============================] - 1s 7ms/step - loss: 1.5844\n",
      "2/2 [==============================] - 0s 4ms/step\n"
     ]
    },
    {
     "name": "stderr",
     "output_type": "stream",
     "text": [
      "C:\\Users\\dlel2\\anaconda3\\lib\\site-packages\\scikeras\\wrappers.py:301: UserWarning: ``build_fn`` will be renamed to ``model`` in a future release, at which point use of ``build_fn`` will raise an Error instead.\n",
      "  warnings.warn(\n"
     ]
    },
    {
     "name": "stdout",
     "output_type": "stream",
     "text": [
      "4/4 [==============================] - 1s 6ms/step - loss: 6.9480\n",
      "2/2 [==============================] - 0s 5ms/step\n"
     ]
    },
    {
     "name": "stderr",
     "output_type": "stream",
     "text": [
      "C:\\Users\\dlel2\\anaconda3\\lib\\site-packages\\scikeras\\wrappers.py:301: UserWarning: ``build_fn`` will be renamed to ``model`` in a future release, at which point use of ``build_fn`` will raise an Error instead.\n",
      "  warnings.warn(\n"
     ]
    },
    {
     "name": "stdout",
     "output_type": "stream",
     "text": [
      "4/4 [==============================] - 1s 5ms/step - loss: 5.4282\n",
      "2/2 [==============================] - 0s 4ms/step\n"
     ]
    },
    {
     "data": {
      "text/plain": [
       "array([0.34, 0.32, 0.66])"
      ]
     },
     "execution_count": 13,
     "metadata": {},
     "output_type": "execute_result"
    }
   ],
   "source": [
    "cross_val_score(model, data.data, data.target, cv=3)"
   ]
  },
  {
   "cell_type": "code",
   "execution_count": 21,
   "id": "06c6dd2f",
   "metadata": {
    "collapsed": true
   },
   "outputs": [
    {
     "name": "stdout",
     "output_type": "stream",
     "text": [
      "Epoch 1/10\n"
     ]
    },
    {
     "name": "stderr",
     "output_type": "stream",
     "text": [
      "C:\\Users\\dlel2\\anaconda3\\lib\\site-packages\\scikeras\\wrappers.py:301: UserWarning: ``build_fn`` will be renamed to ``model`` in a future release, at which point use of ``build_fn`` will raise an Error instead.\n",
      "  warnings.warn(\n"
     ]
    },
    {
     "name": "stdout",
     "output_type": "stream",
     "text": [
      "1/1 [==============================] - 1s 561ms/step - loss: 1.4721\n",
      "Epoch 2/10\n",
      "1/1 [==============================] - 0s 8ms/step - loss: 1.1991\n",
      "Epoch 3/10\n",
      "1/1 [==============================] - 0s 9ms/step - loss: 1.1602\n",
      "Epoch 4/10\n",
      "1/1 [==============================] - 0s 10ms/step - loss: 1.1375\n",
      "Epoch 5/10\n",
      "1/1 [==============================] - 0s 7ms/step - loss: 1.1304\n",
      "Epoch 6/10\n",
      "1/1 [==============================] - 0s 9ms/step - loss: 1.1262\n",
      "Epoch 7/10\n",
      "1/1 [==============================] - 0s 12ms/step - loss: 1.1239\n",
      "Epoch 8/10\n",
      "1/1 [==============================] - 0s 10ms/step - loss: 1.1217\n",
      "Epoch 9/10\n",
      "1/1 [==============================] - 0s 10ms/step - loss: 1.1195\n",
      "Epoch 10/10\n",
      "1/1 [==============================] - 0s 10ms/step - loss: 1.1173\n",
      "2/2 [==============================] - 0s 7ms/step\n",
      "1/1 [==============================] - 0s 48ms/step\n"
     ]
    },
    {
     "name": "stderr",
     "output_type": "stream",
     "text": [
      "C:\\Users\\dlel2\\anaconda3\\lib\\site-packages\\sklearn\\model_selection\\_validation.py:778: UserWarning: Scoring failed. The score on this train-test partition for these parameters will be set to nan. Details: \n",
      "Traceback (most recent call last):\n",
      "  File \"C:\\Users\\dlel2\\anaconda3\\lib\\site-packages\\sklearn\\model_selection\\_validation.py\", line 767, in _score\n",
      "    scores = scorer(estimator, X_test, y_test)\n",
      "  File \"C:\\Users\\dlel2\\anaconda3\\lib\\site-packages\\sklearn\\metrics\\_scorer.py\", line 444, in _passthrough_scorer\n",
      "    return estimator.score(*args, **kwargs)\n",
      "  File \"C:\\Users\\dlel2\\anaconda3\\lib\\site-packages\\scikeras\\wrappers.py\", line 1114, in score\n",
      "    y_pred = self.predict(X)\n",
      "  File \"C:\\Users\\dlel2\\anaconda3\\lib\\site-packages\\scikeras\\wrappers.py\", line 1054, in predict\n",
      "    y_pred = self.target_encoder_.inverse_transform(y_pred)\n",
      "  File \"C:\\Users\\dlel2\\anaconda3\\lib\\site-packages\\scikeras\\utils\\transformers.py\", line 256, in inverse_transform\n",
      "    class_predictions = self._final_encoder.inverse_transform(class_predictions)\n",
      "  File \"C:\\Users\\dlel2\\anaconda3\\lib\\site-packages\\sklearn\\pipeline.py\", line 686, in inverse_transform\n",
      "    Xt = transform.inverse_transform(Xt)\n",
      "  File \"C:\\Users\\dlel2\\anaconda3\\lib\\site-packages\\sklearn\\preprocessing\\_encoders.py\", line 1442, in inverse_transform\n",
      "    X_tr[:, i] = self.categories_[i][labels.astype(\"int64\", copy=False)]\n",
      "IndexError: index 1 is out of bounds for axis 0 with size 1\n",
      "\n",
      "  warnings.warn(\n",
      "C:\\Users\\dlel2\\anaconda3\\lib\\site-packages\\sklearn\\model_selection\\_validation.py:778: UserWarning: Scoring failed. The score on this train-test partition for these parameters will be set to nan. Details: \n",
      "Traceback (most recent call last):\n",
      "  File \"C:\\Users\\dlel2\\anaconda3\\lib\\site-packages\\sklearn\\model_selection\\_validation.py\", line 767, in _score\n",
      "    scores = scorer(estimator, X_test, y_test)\n",
      "  File \"C:\\Users\\dlel2\\anaconda3\\lib\\site-packages\\sklearn\\metrics\\_scorer.py\", line 444, in _passthrough_scorer\n",
      "    return estimator.score(*args, **kwargs)\n",
      "  File \"C:\\Users\\dlel2\\anaconda3\\lib\\site-packages\\scikeras\\wrappers.py\", line 1114, in score\n",
      "    y_pred = self.predict(X)\n",
      "  File \"C:\\Users\\dlel2\\anaconda3\\lib\\site-packages\\scikeras\\wrappers.py\", line 1054, in predict\n",
      "    y_pred = self.target_encoder_.inverse_transform(y_pred)\n",
      "  File \"C:\\Users\\dlel2\\anaconda3\\lib\\site-packages\\scikeras\\utils\\transformers.py\", line 256, in inverse_transform\n",
      "    class_predictions = self._final_encoder.inverse_transform(class_predictions)\n",
      "  File \"C:\\Users\\dlel2\\anaconda3\\lib\\site-packages\\sklearn\\pipeline.py\", line 686, in inverse_transform\n",
      "    Xt = transform.inverse_transform(Xt)\n",
      "  File \"C:\\Users\\dlel2\\anaconda3\\lib\\site-packages\\sklearn\\preprocessing\\_encoders.py\", line 1442, in inverse_transform\n",
      "    X_tr[:, i] = self.categories_[i][labels.astype(\"int64\", copy=False)]\n",
      "IndexError: index 1 is out of bounds for axis 0 with size 1\n",
      "\n",
      "  warnings.warn(\n",
      "C:\\Users\\dlel2\\anaconda3\\lib\\site-packages\\scikeras\\wrappers.py:301: UserWarning: ``build_fn`` will be renamed to ``model`` in a future release, at which point use of ``build_fn`` will raise an Error instead.\n",
      "  warnings.warn(\n"
     ]
    },
    {
     "name": "stdout",
     "output_type": "stream",
     "text": [
      "Epoch 1/10\n",
      "1/1 [==============================] - 1s 794ms/step - loss: 0.7698\n",
      "Epoch 2/10\n",
      "1/1 [==============================] - 0s 11ms/step - loss: 0.3237\n",
      "Epoch 3/10\n",
      "1/1 [==============================] - 0s 16ms/step - loss: 0.2075\n",
      "Epoch 4/10\n",
      "1/1 [==============================] - 0s 10ms/step - loss: 0.1283\n",
      "Epoch 5/10\n",
      "1/1 [==============================] - 0s 11ms/step - loss: 0.0712\n",
      "Epoch 6/10\n",
      "1/1 [==============================] - 0s 11ms/step - loss: 0.0422\n",
      "Epoch 7/10\n",
      "1/1 [==============================] - 0s 10ms/step - loss: 0.0317\n",
      "Epoch 8/10\n",
      "1/1 [==============================] - 0s 15ms/step - loss: 0.0273\n",
      "Epoch 9/10\n",
      "1/1 [==============================] - 0s 12ms/step - loss: 0.0238\n",
      "Epoch 10/10\n",
      "1/1 [==============================] - 0s 10ms/step - loss: 0.0199\n",
      "2/2 [==============================] - 0s 16ms/step\n",
      "1/1 [==============================] - 0s 47ms/step\n"
     ]
    },
    {
     "name": "stderr",
     "output_type": "stream",
     "text": [
      "C:\\Users\\dlel2\\anaconda3\\lib\\site-packages\\sklearn\\model_selection\\_validation.py:778: UserWarning: Scoring failed. The score on this train-test partition for these parameters will be set to nan. Details: \n",
      "Traceback (most recent call last):\n",
      "  File \"C:\\Users\\dlel2\\anaconda3\\lib\\site-packages\\sklearn\\model_selection\\_validation.py\", line 767, in _score\n",
      "    scores = scorer(estimator, X_test, y_test)\n",
      "  File \"C:\\Users\\dlel2\\anaconda3\\lib\\site-packages\\sklearn\\metrics\\_scorer.py\", line 444, in _passthrough_scorer\n",
      "    return estimator.score(*args, **kwargs)\n",
      "  File \"C:\\Users\\dlel2\\anaconda3\\lib\\site-packages\\scikeras\\wrappers.py\", line 1114, in score\n",
      "    y_pred = self.predict(X)\n",
      "  File \"C:\\Users\\dlel2\\anaconda3\\lib\\site-packages\\scikeras\\wrappers.py\", line 1054, in predict\n",
      "    y_pred = self.target_encoder_.inverse_transform(y_pred)\n",
      "  File \"C:\\Users\\dlel2\\anaconda3\\lib\\site-packages\\scikeras\\utils\\transformers.py\", line 256, in inverse_transform\n",
      "    class_predictions = self._final_encoder.inverse_transform(class_predictions)\n",
      "  File \"C:\\Users\\dlel2\\anaconda3\\lib\\site-packages\\sklearn\\pipeline.py\", line 686, in inverse_transform\n",
      "    Xt = transform.inverse_transform(Xt)\n",
      "  File \"C:\\Users\\dlel2\\anaconda3\\lib\\site-packages\\sklearn\\preprocessing\\_encoders.py\", line 1442, in inverse_transform\n",
      "    X_tr[:, i] = self.categories_[i][labels.astype(\"int64\", copy=False)]\n",
      "IndexError: index 2 is out of bounds for axis 0 with size 1\n",
      "\n",
      "  warnings.warn(\n",
      "C:\\Users\\dlel2\\anaconda3\\lib\\site-packages\\scikeras\\wrappers.py:301: UserWarning: ``build_fn`` will be renamed to ``model`` in a future release, at which point use of ``build_fn`` will raise an Error instead.\n",
      "  warnings.warn(\n"
     ]
    },
    {
     "name": "stdout",
     "output_type": "stream",
     "text": [
      "Epoch 1/10\n",
      "2/2 [==============================] - 1s 11ms/step - loss: 10.3640\n",
      "Epoch 2/10\n",
      "2/2 [==============================] - 0s 13ms/step - loss: 10.3640\n",
      "Epoch 3/10\n",
      "2/2 [==============================] - 0s 7ms/step - loss: 10.3640\n",
      "Epoch 4/10\n",
      "2/2 [==============================] - 0s 6ms/step - loss: 10.3640\n",
      "Epoch 5/10\n",
      "2/2 [==============================] - 0s 4ms/step - loss: 10.3640\n",
      "Epoch 6/10\n",
      "2/2 [==============================] - 0s 10ms/step - loss: 10.3640\n",
      "Epoch 7/10\n",
      "2/2 [==============================] - 0s 11ms/step - loss: 10.3640\n",
      "Epoch 8/10\n",
      "2/2 [==============================] - 0s 12ms/step - loss: 10.3640\n",
      "Epoch 9/10\n",
      "2/2 [==============================] - 0s 7ms/step - loss: 10.3640\n",
      "Epoch 10/10\n",
      "2/2 [==============================] - 0s 7ms/step - loss: 10.3640\n",
      "2/2 [==============================] - 0s 6ms/step\n",
      "2/2 [==============================] - 0s 0s/step\n",
      "Epoch 1/10\n"
     ]
    },
    {
     "name": "stderr",
     "output_type": "stream",
     "text": [
      "C:\\Users\\dlel2\\anaconda3\\lib\\site-packages\\scikeras\\wrappers.py:301: UserWarning: ``build_fn`` will be renamed to ``model`` in a future release, at which point use of ``build_fn`` will raise an Error instead.\n",
      "  warnings.warn(\n"
     ]
    },
    {
     "name": "stdout",
     "output_type": "stream",
     "text": [
      "3/3 [==============================] - 1s 10ms/step - loss: 7.8218\n",
      "Epoch 2/10\n",
      "3/3 [==============================] - 0s 4ms/step - loss: 7.6661\n",
      "Epoch 3/10\n",
      "3/3 [==============================] - 0s 6ms/step - loss: 7.6228\n",
      "Epoch 4/10\n",
      "3/3 [==============================] - 0s 2ms/step - loss: 7.6070\n",
      "Epoch 5/10\n",
      "3/3 [==============================] - 0s 7ms/step - loss: 7.6035\n",
      "Epoch 6/10\n",
      "3/3 [==============================] - 0s 7ms/step - loss: 7.6027\n",
      "Epoch 7/10\n",
      "3/3 [==============================] - 0s 6ms/step - loss: 7.6025\n",
      "Epoch 8/10\n",
      "3/3 [==============================] - 0s 6ms/step - loss: 7.6022\n",
      "Epoch 9/10\n",
      "3/3 [==============================] - 0s 9ms/step - loss: 7.6020\n",
      "Epoch 10/10\n",
      "3/3 [==============================] - 0s 3ms/step - loss: 7.6020\n",
      "2/2 [==============================] - 0s 0s/step\n",
      "3/3 [==============================] - 0s 4ms/step\n",
      "Epoch 1/10\n"
     ]
    },
    {
     "name": "stderr",
     "output_type": "stream",
     "text": [
      "C:\\Users\\dlel2\\anaconda3\\lib\\site-packages\\scikeras\\wrappers.py:301: UserWarning: ``build_fn`` will be renamed to ``model`` in a future release, at which point use of ``build_fn`` will raise an Error instead.\n",
      "  warnings.warn(\n"
     ]
    },
    {
     "name": "stdout",
     "output_type": "stream",
     "text": [
      "4/4 [==============================] - 1s 10ms/step - loss: 5.7367\n",
      "Epoch 2/10\n",
      "4/4 [==============================] - 0s 3ms/step - loss: 5.7090\n",
      "Epoch 3/10\n",
      "4/4 [==============================] - 0s 5ms/step - loss: 5.6569\n",
      "Epoch 4/10\n",
      "4/4 [==============================] - 0s 6ms/step - loss: 5.6400\n",
      "Epoch 5/10\n",
      "4/4 [==============================] - 0s 6ms/step - loss: 5.6235\n",
      "Epoch 6/10\n",
      "4/4 [==============================] - 0s 5ms/step - loss: 5.6096\n",
      "Epoch 7/10\n",
      "4/4 [==============================] - 0s 5ms/step - loss: 5.6017\n",
      "Epoch 8/10\n",
      "4/4 [==============================] - 0s 6ms/step - loss: 5.6013\n",
      "Epoch 9/10\n",
      "4/4 [==============================] - 0s 4ms/step - loss: 5.5814\n",
      "Epoch 10/10\n",
      "4/4 [==============================] - 0s 6ms/step - loss: 5.5819\n",
      "2/2 [==============================] - 0s 8ms/step\n",
      "4/4 [==============================] - 0s 4ms/step\n",
      "Epoch 1/10\n"
     ]
    },
    {
     "name": "stderr",
     "output_type": "stream",
     "text": [
      "C:\\Users\\dlel2\\anaconda3\\lib\\site-packages\\scikeras\\wrappers.py:301: UserWarning: ``build_fn`` will be renamed to ``model`` in a future release, at which point use of ``build_fn`` will raise an Error instead.\n",
      "  warnings.warn(\n"
     ]
    },
    {
     "name": "stdout",
     "output_type": "stream",
     "text": [
      "1/1 [==============================] - 1s 801ms/step - loss: 1.0967e-06\n",
      "Epoch 2/10\n",
      "1/1 [==============================] - 0s 0s/step - loss: 1.0729e-06\n",
      "Epoch 3/10\n",
      "1/1 [==============================] - 0s 16ms/step - loss: 1.0729e-06\n",
      "Epoch 4/10\n",
      "1/1 [==============================] - 0s 19ms/step - loss: 1.0490e-06\n",
      "Epoch 5/10\n",
      "1/1 [==============================] - 0s 11ms/step - loss: 1.0490e-06\n",
      "Epoch 6/10\n",
      "1/1 [==============================] - 0s 0s/step - loss: 1.0014e-06\n",
      "Epoch 7/10\n",
      "1/1 [==============================] - 0s 0s/step - loss: 1.0014e-06\n",
      "Epoch 8/10\n",
      "1/1 [==============================] - 0s 17ms/step - loss: 9.5367e-07\n",
      "Epoch 9/10\n",
      "1/1 [==============================] - 0s 17ms/step - loss: 9.5367e-07\n",
      "Epoch 10/10\n",
      "1/1 [==============================] - 0s 17ms/step - loss: 9.5367e-07\n",
      "2/2 [==============================] - 0s 9ms/step\n",
      "1/1 [==============================] - 0s 55ms/step\n"
     ]
    },
    {
     "name": "stderr",
     "output_type": "stream",
     "text": [
      "C:\\Users\\dlel2\\anaconda3\\lib\\site-packages\\sklearn\\model_selection\\_validation.py:778: UserWarning: Scoring failed. The score on this train-test partition for these parameters will be set to nan. Details: \n",
      "Traceback (most recent call last):\n",
      "  File \"C:\\Users\\dlel2\\anaconda3\\lib\\site-packages\\sklearn\\model_selection\\_validation.py\", line 767, in _score\n",
      "    scores = scorer(estimator, X_test, y_test)\n",
      "  File \"C:\\Users\\dlel2\\anaconda3\\lib\\site-packages\\sklearn\\metrics\\_scorer.py\", line 444, in _passthrough_scorer\n",
      "    return estimator.score(*args, **kwargs)\n",
      "  File \"C:\\Users\\dlel2\\anaconda3\\lib\\site-packages\\scikeras\\wrappers.py\", line 1114, in score\n",
      "    y_pred = self.predict(X)\n",
      "  File \"C:\\Users\\dlel2\\anaconda3\\lib\\site-packages\\scikeras\\wrappers.py\", line 1054, in predict\n",
      "    y_pred = self.target_encoder_.inverse_transform(y_pred)\n",
      "  File \"C:\\Users\\dlel2\\anaconda3\\lib\\site-packages\\scikeras\\utils\\transformers.py\", line 256, in inverse_transform\n",
      "    class_predictions = self._final_encoder.inverse_transform(class_predictions)\n",
      "  File \"C:\\Users\\dlel2\\anaconda3\\lib\\site-packages\\sklearn\\pipeline.py\", line 686, in inverse_transform\n",
      "    Xt = transform.inverse_transform(Xt)\n",
      "  File \"C:\\Users\\dlel2\\anaconda3\\lib\\site-packages\\sklearn\\preprocessing\\_encoders.py\", line 1442, in inverse_transform\n",
      "    X_tr[:, i] = self.categories_[i][labels.astype(\"int64\", copy=False)]\n",
      "IndexError: index 2 is out of bounds for axis 0 with size 1\n",
      "\n",
      "  warnings.warn(\n",
      "C:\\Users\\dlel2\\anaconda3\\lib\\site-packages\\scikeras\\wrappers.py:301: UserWarning: ``build_fn`` will be renamed to ``model`` in a future release, at which point use of ``build_fn`` will raise an Error instead.\n",
      "  warnings.warn(\n"
     ]
    },
    {
     "name": "stdout",
     "output_type": "stream",
     "text": [
      "Epoch 1/10\n",
      "1/1 [==============================] - 1s 703ms/step - loss: 16.1181\n",
      "Epoch 2/10\n",
      "1/1 [==============================] - 0s 9ms/step - loss: 16.1181\n",
      "Epoch 3/10\n",
      "1/1 [==============================] - 0s 3ms/step - loss: 16.1181\n",
      "Epoch 4/10\n",
      "1/1 [==============================] - 0s 9ms/step - loss: 16.1181\n",
      "Epoch 5/10\n",
      "1/1 [==============================] - 0s 12ms/step - loss: 16.1181\n",
      "Epoch 6/10\n",
      "1/1 [==============================] - 0s 10ms/step - loss: 16.1181\n",
      "Epoch 7/10\n",
      "1/1 [==============================] - 0s 6ms/step - loss: 16.1181\n",
      "Epoch 8/10\n",
      "1/1 [==============================] - 0s 10ms/step - loss: 16.1181\n",
      "Epoch 9/10\n",
      "1/1 [==============================] - 0s 14ms/step - loss: 16.1181\n",
      "Epoch 10/10\n",
      "1/1 [==============================] - 0s 10ms/step - loss: 16.1181\n",
      "2/2 [==============================] - 0s 18ms/step\n",
      "1/1 [==============================] - 0s 31ms/step\n"
     ]
    },
    {
     "name": "stderr",
     "output_type": "stream",
     "text": [
      "C:\\Users\\dlel2\\anaconda3\\lib\\site-packages\\sklearn\\model_selection\\_validation.py:778: UserWarning: Scoring failed. The score on this train-test partition for these parameters will be set to nan. Details: \n",
      "Traceback (most recent call last):\n",
      "  File \"C:\\Users\\dlel2\\anaconda3\\lib\\site-packages\\sklearn\\model_selection\\_validation.py\", line 767, in _score\n",
      "    scores = scorer(estimator, X_test, y_test)\n",
      "  File \"C:\\Users\\dlel2\\anaconda3\\lib\\site-packages\\sklearn\\metrics\\_scorer.py\", line 444, in _passthrough_scorer\n",
      "    return estimator.score(*args, **kwargs)\n",
      "  File \"C:\\Users\\dlel2\\anaconda3\\lib\\site-packages\\scikeras\\wrappers.py\", line 1114, in score\n",
      "    y_pred = self.predict(X)\n",
      "  File \"C:\\Users\\dlel2\\anaconda3\\lib\\site-packages\\scikeras\\wrappers.py\", line 1054, in predict\n",
      "    y_pred = self.target_encoder_.inverse_transform(y_pred)\n",
      "  File \"C:\\Users\\dlel2\\anaconda3\\lib\\site-packages\\scikeras\\utils\\transformers.py\", line 256, in inverse_transform\n",
      "    class_predictions = self._final_encoder.inverse_transform(class_predictions)\n",
      "  File \"C:\\Users\\dlel2\\anaconda3\\lib\\site-packages\\sklearn\\pipeline.py\", line 686, in inverse_transform\n",
      "    Xt = transform.inverse_transform(Xt)\n",
      "  File \"C:\\Users\\dlel2\\anaconda3\\lib\\site-packages\\sklearn\\preprocessing\\_encoders.py\", line 1442, in inverse_transform\n",
      "    X_tr[:, i] = self.categories_[i][labels.astype(\"int64\", copy=False)]\n",
      "IndexError: index 1 is out of bounds for axis 0 with size 1\n",
      "\n",
      "  warnings.warn(\n",
      "C:\\Users\\dlel2\\anaconda3\\lib\\site-packages\\sklearn\\model_selection\\_validation.py:778: UserWarning: Scoring failed. The score on this train-test partition for these parameters will be set to nan. Details: \n",
      "Traceback (most recent call last):\n",
      "  File \"C:\\Users\\dlel2\\anaconda3\\lib\\site-packages\\sklearn\\model_selection\\_validation.py\", line 767, in _score\n",
      "    scores = scorer(estimator, X_test, y_test)\n",
      "  File \"C:\\Users\\dlel2\\anaconda3\\lib\\site-packages\\sklearn\\metrics\\_scorer.py\", line 444, in _passthrough_scorer\n",
      "    return estimator.score(*args, **kwargs)\n",
      "  File \"C:\\Users\\dlel2\\anaconda3\\lib\\site-packages\\scikeras\\wrappers.py\", line 1114, in score\n",
      "    y_pred = self.predict(X)\n",
      "  File \"C:\\Users\\dlel2\\anaconda3\\lib\\site-packages\\scikeras\\wrappers.py\", line 1054, in predict\n",
      "    y_pred = self.target_encoder_.inverse_transform(y_pred)\n",
      "  File \"C:\\Users\\dlel2\\anaconda3\\lib\\site-packages\\scikeras\\utils\\transformers.py\", line 256, in inverse_transform\n",
      "    class_predictions = self._final_encoder.inverse_transform(class_predictions)\n",
      "  File \"C:\\Users\\dlel2\\anaconda3\\lib\\site-packages\\sklearn\\pipeline.py\", line 686, in inverse_transform\n",
      "    Xt = transform.inverse_transform(Xt)\n",
      "  File \"C:\\Users\\dlel2\\anaconda3\\lib\\site-packages\\sklearn\\preprocessing\\_encoders.py\", line 1442, in inverse_transform\n",
      "    X_tr[:, i] = self.categories_[i][labels.astype(\"int64\", copy=False)]\n",
      "IndexError: index 1 is out of bounds for axis 0 with size 1\n",
      "\n",
      "  warnings.warn(\n",
      "C:\\Users\\dlel2\\anaconda3\\lib\\site-packages\\scikeras\\wrappers.py:301: UserWarning: ``build_fn`` will be renamed to ``model`` in a future release, at which point use of ``build_fn`` will raise an Error instead.\n",
      "  warnings.warn(\n"
     ]
    },
    {
     "name": "stdout",
     "output_type": "stream",
     "text": [
      "Epoch 1/10\n",
      "2/2 [==============================] - 1s 16ms/step - loss: 1.0986\n",
      "Epoch 2/10\n",
      "2/2 [==============================] - 0s 11ms/step - loss: 1.0986\n",
      "Epoch 3/10\n",
      "2/2 [==============================] - 0s 11ms/step - loss: 1.0986\n",
      "Epoch 4/10\n",
      "2/2 [==============================] - 0s 11ms/step - loss: 1.0986\n",
      "Epoch 5/10\n",
      "2/2 [==============================] - 0s 8ms/step - loss: 1.0986\n",
      "Epoch 6/10\n",
      "2/2 [==============================] - 0s 9ms/step - loss: 1.0986\n",
      "Epoch 7/10\n",
      "2/2 [==============================] - 0s 8ms/step - loss: 1.0986\n",
      "Epoch 8/10\n",
      "2/2 [==============================] - 0s 12ms/step - loss: 1.0986\n",
      "Epoch 9/10\n",
      "2/2 [==============================] - 0s 11ms/step - loss: 1.0986\n",
      "Epoch 10/10\n",
      "2/2 [==============================] - 0s 8ms/step - loss: 1.0986\n",
      "2/2 [==============================] - 0s 0s/step\n",
      "2/2 [==============================] - 0s 5ms/step\n"
     ]
    },
    {
     "name": "stderr",
     "output_type": "stream",
     "text": [
      "C:\\Users\\dlel2\\anaconda3\\lib\\site-packages\\sklearn\\model_selection\\_validation.py:778: UserWarning: Scoring failed. The score on this train-test partition for these parameters will be set to nan. Details: \n",
      "Traceback (most recent call last):\n",
      "  File \"C:\\Users\\dlel2\\anaconda3\\lib\\site-packages\\sklearn\\model_selection\\_validation.py\", line 767, in _score\n",
      "    scores = scorer(estimator, X_test, y_test)\n",
      "  File \"C:\\Users\\dlel2\\anaconda3\\lib\\site-packages\\sklearn\\metrics\\_scorer.py\", line 444, in _passthrough_scorer\n",
      "    return estimator.score(*args, **kwargs)\n",
      "  File \"C:\\Users\\dlel2\\anaconda3\\lib\\site-packages\\scikeras\\wrappers.py\", line 1114, in score\n",
      "    y_pred = self.predict(X)\n",
      "  File \"C:\\Users\\dlel2\\anaconda3\\lib\\site-packages\\scikeras\\wrappers.py\", line 1054, in predict\n",
      "    y_pred = self.target_encoder_.inverse_transform(y_pred)\n",
      "  File \"C:\\Users\\dlel2\\anaconda3\\lib\\site-packages\\scikeras\\utils\\transformers.py\", line 256, in inverse_transform\n",
      "    class_predictions = self._final_encoder.inverse_transform(class_predictions)\n",
      "  File \"C:\\Users\\dlel2\\anaconda3\\lib\\site-packages\\sklearn\\pipeline.py\", line 686, in inverse_transform\n",
      "    Xt = transform.inverse_transform(Xt)\n",
      "  File \"C:\\Users\\dlel2\\anaconda3\\lib\\site-packages\\sklearn\\preprocessing\\_encoders.py\", line 1442, in inverse_transform\n",
      "    X_tr[:, i] = self.categories_[i][labels.astype(\"int64\", copy=False)]\n",
      "IndexError: index 2 is out of bounds for axis 0 with size 2\n",
      "\n",
      "  warnings.warn(\n",
      "C:\\Users\\dlel2\\anaconda3\\lib\\site-packages\\sklearn\\model_selection\\_validation.py:778: UserWarning: Scoring failed. The score on this train-test partition for these parameters will be set to nan. Details: \n",
      "Traceback (most recent call last):\n",
      "  File \"C:\\Users\\dlel2\\anaconda3\\lib\\site-packages\\sklearn\\model_selection\\_validation.py\", line 767, in _score\n",
      "    scores = scorer(estimator, X_test, y_test)\n",
      "  File \"C:\\Users\\dlel2\\anaconda3\\lib\\site-packages\\sklearn\\metrics\\_scorer.py\", line 444, in _passthrough_scorer\n",
      "    return estimator.score(*args, **kwargs)\n",
      "  File \"C:\\Users\\dlel2\\anaconda3\\lib\\site-packages\\scikeras\\wrappers.py\", line 1114, in score\n",
      "    y_pred = self.predict(X)\n",
      "  File \"C:\\Users\\dlel2\\anaconda3\\lib\\site-packages\\scikeras\\wrappers.py\", line 1054, in predict\n",
      "    y_pred = self.target_encoder_.inverse_transform(y_pred)\n",
      "  File \"C:\\Users\\dlel2\\anaconda3\\lib\\site-packages\\scikeras\\utils\\transformers.py\", line 256, in inverse_transform\n",
      "    class_predictions = self._final_encoder.inverse_transform(class_predictions)\n",
      "  File \"C:\\Users\\dlel2\\anaconda3\\lib\\site-packages\\sklearn\\pipeline.py\", line 686, in inverse_transform\n",
      "    Xt = transform.inverse_transform(Xt)\n",
      "  File \"C:\\Users\\dlel2\\anaconda3\\lib\\site-packages\\sklearn\\preprocessing\\_encoders.py\", line 1442, in inverse_transform\n",
      "    X_tr[:, i] = self.categories_[i][labels.astype(\"int64\", copy=False)]\n",
      "IndexError: index 2 is out of bounds for axis 0 with size 2\n",
      "\n",
      "  warnings.warn(\n",
      "C:\\Users\\dlel2\\anaconda3\\lib\\site-packages\\scikeras\\wrappers.py:301: UserWarning: ``build_fn`` will be renamed to ``model`` in a future release, at which point use of ``build_fn`` will raise an Error instead.\n",
      "  warnings.warn(\n"
     ]
    },
    {
     "name": "stdout",
     "output_type": "stream",
     "text": [
      "Epoch 1/10\n",
      "3/3 [==============================] - 1s 9ms/step - loss: 1.0986\n",
      "Epoch 2/10\n",
      "3/3 [==============================] - 0s 7ms/step - loss: 1.0986\n",
      "Epoch 3/10\n",
      "3/3 [==============================] - 0s 5ms/step - loss: 1.0986\n",
      "Epoch 4/10\n",
      "3/3 [==============================] - 0s 5ms/step - loss: 1.0986\n",
      "Epoch 5/10\n",
      "3/3 [==============================] - 0s 0s/step - loss: 1.0986\n",
      "Epoch 6/10\n",
      "3/3 [==============================] - 0s 8ms/step - loss: 1.0986\n",
      "Epoch 7/10\n",
      "3/3 [==============================] - 0s 8ms/step - loss: 1.0986\n",
      "Epoch 8/10\n",
      "3/3 [==============================] - 0s 8ms/step - loss: 1.0986\n",
      "Epoch 9/10\n",
      "3/3 [==============================] - 0s 0s/step - loss: 1.0986\n",
      "Epoch 10/10\n",
      "3/3 [==============================] - 0s 8ms/step - loss: 1.0986\n",
      "2/2 [==============================] - 0s 15ms/step\n",
      "3/3 [==============================] - 0s 11ms/step\n",
      "Epoch 1/10\n"
     ]
    },
    {
     "name": "stderr",
     "output_type": "stream",
     "text": [
      "C:\\Users\\dlel2\\anaconda3\\lib\\site-packages\\scikeras\\wrappers.py:301: UserWarning: ``build_fn`` will be renamed to ``model`` in a future release, at which point use of ``build_fn`` will raise an Error instead.\n",
      "  warnings.warn(\n"
     ]
    },
    {
     "name": "stdout",
     "output_type": "stream",
     "text": [
      "4/4 [==============================] - 1s 5ms/step - loss: 10.7991\n",
      "Epoch 2/10\n",
      "4/4 [==============================] - 0s 6ms/step - loss: 10.7991\n",
      "Epoch 3/10\n",
      "4/4 [==============================] - 0s 3ms/step - loss: 10.7991\n",
      "Epoch 4/10\n",
      "4/4 [==============================] - 0s 4ms/step - loss: 10.7991\n",
      "Epoch 5/10\n",
      "4/4 [==============================] - 0s 5ms/step - loss: 10.7991\n",
      "Epoch 6/10\n",
      "4/4 [==============================] - 0s 3ms/step - loss: 10.7991\n",
      "Epoch 7/10\n",
      "4/4 [==============================] - 0s 5ms/step - loss: 10.7991\n",
      "Epoch 8/10\n",
      "4/4 [==============================] - 0s 6ms/step - loss: 10.7991\n",
      "Epoch 9/10\n",
      "4/4 [==============================] - 0s 5ms/step - loss: 10.7991\n",
      "Epoch 10/10\n",
      "4/4 [==============================] - 0s 10ms/step - loss: 10.7991\n",
      "2/2 [==============================] - 0s 5ms/step\n",
      "4/4 [==============================] - 0s 0s/step\n",
      "Epoch 1/10\n"
     ]
    },
    {
     "name": "stderr",
     "output_type": "stream",
     "text": [
      "C:\\Users\\dlel2\\anaconda3\\lib\\site-packages\\scikeras\\wrappers.py:301: UserWarning: ``build_fn`` will be renamed to ``model`` in a future release, at which point use of ``build_fn`` will raise an Error instead.\n",
      "  warnings.warn(\n"
     ]
    },
    {
     "name": "stdout",
     "output_type": "stream",
     "text": [
      "1/1 [==============================] - 1s 807ms/step - loss: 1.0986\n",
      "Epoch 2/10\n",
      "1/1 [==============================] - 0s 10ms/step - loss: 1.0986\n",
      "Epoch 3/10\n",
      "1/1 [==============================] - 0s 10ms/step - loss: 1.0986\n",
      "Epoch 4/10\n",
      "1/1 [==============================] - 0s 4ms/step - loss: 1.0986\n",
      "Epoch 5/10\n",
      "1/1 [==============================] - 0s 7ms/step - loss: 1.0986\n",
      "Epoch 6/10\n",
      "1/1 [==============================] - 0s 10ms/step - loss: 1.0986\n",
      "Epoch 7/10\n",
      "1/1 [==============================] - 0s 15ms/step - loss: 1.0986\n",
      "Epoch 8/10\n",
      "1/1 [==============================] - 0s 12ms/step - loss: 1.0986\n",
      "Epoch 9/10\n",
      "1/1 [==============================] - 0s 12ms/step - loss: 1.0986\n",
      "Epoch 10/10\n",
      "1/1 [==============================] - 0s 12ms/step - loss: 1.0986\n",
      "2/2 [==============================] - 0s 19ms/step\n",
      "1/1 [==============================] - 0s 47ms/step\n"
     ]
    },
    {
     "name": "stderr",
     "output_type": "stream",
     "text": [
      "C:\\Users\\dlel2\\anaconda3\\lib\\site-packages\\sklearn\\model_selection\\_validation.py:778: UserWarning: Scoring failed. The score on this train-test partition for these parameters will be set to nan. Details: \n",
      "Traceback (most recent call last):\n",
      "  File \"C:\\Users\\dlel2\\anaconda3\\lib\\site-packages\\sklearn\\model_selection\\_validation.py\", line 767, in _score\n",
      "    scores = scorer(estimator, X_test, y_test)\n",
      "  File \"C:\\Users\\dlel2\\anaconda3\\lib\\site-packages\\sklearn\\metrics\\_scorer.py\", line 444, in _passthrough_scorer\n",
      "    return estimator.score(*args, **kwargs)\n",
      "  File \"C:\\Users\\dlel2\\anaconda3\\lib\\site-packages\\scikeras\\wrappers.py\", line 1114, in score\n",
      "    y_pred = self.predict(X)\n",
      "  File \"C:\\Users\\dlel2\\anaconda3\\lib\\site-packages\\scikeras\\wrappers.py\", line 1054, in predict\n",
      "    y_pred = self.target_encoder_.inverse_transform(y_pred)\n",
      "  File \"C:\\Users\\dlel2\\anaconda3\\lib\\site-packages\\scikeras\\utils\\transformers.py\", line 256, in inverse_transform\n",
      "    class_predictions = self._final_encoder.inverse_transform(class_predictions)\n",
      "  File \"C:\\Users\\dlel2\\anaconda3\\lib\\site-packages\\sklearn\\pipeline.py\", line 686, in inverse_transform\n",
      "    Xt = transform.inverse_transform(Xt)\n",
      "  File \"C:\\Users\\dlel2\\anaconda3\\lib\\site-packages\\sklearn\\preprocessing\\_encoders.py\", line 1442, in inverse_transform\n",
      "    X_tr[:, i] = self.categories_[i][labels.astype(\"int64\", copy=False)]\n",
      "IndexError: index 1 is out of bounds for axis 0 with size 1\n",
      "\n",
      "  warnings.warn(\n",
      "C:\\Users\\dlel2\\anaconda3\\lib\\site-packages\\sklearn\\model_selection\\_validation.py:778: UserWarning: Scoring failed. The score on this train-test partition for these parameters will be set to nan. Details: \n",
      "Traceback (most recent call last):\n",
      "  File \"C:\\Users\\dlel2\\anaconda3\\lib\\site-packages\\sklearn\\model_selection\\_validation.py\", line 767, in _score\n",
      "    scores = scorer(estimator, X_test, y_test)\n",
      "  File \"C:\\Users\\dlel2\\anaconda3\\lib\\site-packages\\sklearn\\metrics\\_scorer.py\", line 444, in _passthrough_scorer\n",
      "    return estimator.score(*args, **kwargs)\n",
      "  File \"C:\\Users\\dlel2\\anaconda3\\lib\\site-packages\\scikeras\\wrappers.py\", line 1114, in score\n",
      "    y_pred = self.predict(X)\n",
      "  File \"C:\\Users\\dlel2\\anaconda3\\lib\\site-packages\\scikeras\\wrappers.py\", line 1054, in predict\n",
      "    y_pred = self.target_encoder_.inverse_transform(y_pred)\n",
      "  File \"C:\\Users\\dlel2\\anaconda3\\lib\\site-packages\\scikeras\\utils\\transformers.py\", line 256, in inverse_transform\n",
      "    class_predictions = self._final_encoder.inverse_transform(class_predictions)\n",
      "  File \"C:\\Users\\dlel2\\anaconda3\\lib\\site-packages\\sklearn\\pipeline.py\", line 686, in inverse_transform\n",
      "    Xt = transform.inverse_transform(Xt)\n",
      "  File \"C:\\Users\\dlel2\\anaconda3\\lib\\site-packages\\sklearn\\preprocessing\\_encoders.py\", line 1442, in inverse_transform\n",
      "    X_tr[:, i] = self.categories_[i][labels.astype(\"int64\", copy=False)]\n",
      "IndexError: index 1 is out of bounds for axis 0 with size 1\n",
      "\n",
      "  warnings.warn(\n",
      "C:\\Users\\dlel2\\anaconda3\\lib\\site-packages\\scikeras\\wrappers.py:301: UserWarning: ``build_fn`` will be renamed to ``model`` in a future release, at which point use of ``build_fn`` will raise an Error instead.\n",
      "  warnings.warn(\n"
     ]
    },
    {
     "name": "stdout",
     "output_type": "stream",
     "text": [
      "Epoch 1/10\n",
      "1/1 [==============================] - 1s 803ms/step - loss: 16.4480\n",
      "Epoch 2/10\n",
      "1/1 [==============================] - 0s 8ms/step - loss: 16.2296\n",
      "Epoch 3/10\n",
      "1/1 [==============================] - 0s 17ms/step - loss: 16.1181\n",
      "Epoch 4/10\n",
      "1/1 [==============================] - 0s 10ms/step - loss: 16.1181\n",
      "Epoch 5/10\n",
      "1/1 [==============================] - 0s 11ms/step - loss: 16.1181\n",
      "Epoch 6/10\n",
      "1/1 [==============================] - 0s 5ms/step - loss: 16.1181\n",
      "Epoch 7/10\n",
      "1/1 [==============================] - 0s 8ms/step - loss: 16.1181\n",
      "Epoch 8/10\n",
      "1/1 [==============================] - 0s 14ms/step - loss: 16.1181\n",
      "Epoch 9/10\n",
      "1/1 [==============================] - 0s 12ms/step - loss: 16.1181\n",
      "Epoch 10/10\n",
      "1/1 [==============================] - 0s 12ms/step - loss: 16.1181\n",
      "2/2 [==============================] - 0s 4ms/step\n",
      "1/1 [==============================] - 0s 47ms/step\n"
     ]
    },
    {
     "name": "stderr",
     "output_type": "stream",
     "text": [
      "C:\\Users\\dlel2\\anaconda3\\lib\\site-packages\\sklearn\\model_selection\\_validation.py:778: UserWarning: Scoring failed. The score on this train-test partition for these parameters will be set to nan. Details: \n",
      "Traceback (most recent call last):\n",
      "  File \"C:\\Users\\dlel2\\anaconda3\\lib\\site-packages\\sklearn\\model_selection\\_validation.py\", line 767, in _score\n",
      "    scores = scorer(estimator, X_test, y_test)\n",
      "  File \"C:\\Users\\dlel2\\anaconda3\\lib\\site-packages\\sklearn\\metrics\\_scorer.py\", line 444, in _passthrough_scorer\n",
      "    return estimator.score(*args, **kwargs)\n",
      "  File \"C:\\Users\\dlel2\\anaconda3\\lib\\site-packages\\scikeras\\wrappers.py\", line 1114, in score\n",
      "    y_pred = self.predict(X)\n",
      "  File \"C:\\Users\\dlel2\\anaconda3\\lib\\site-packages\\scikeras\\wrappers.py\", line 1054, in predict\n",
      "    y_pred = self.target_encoder_.inverse_transform(y_pred)\n",
      "  File \"C:\\Users\\dlel2\\anaconda3\\lib\\site-packages\\scikeras\\utils\\transformers.py\", line 256, in inverse_transform\n",
      "    class_predictions = self._final_encoder.inverse_transform(class_predictions)\n",
      "  File \"C:\\Users\\dlel2\\anaconda3\\lib\\site-packages\\sklearn\\pipeline.py\", line 686, in inverse_transform\n",
      "    Xt = transform.inverse_transform(Xt)\n",
      "  File \"C:\\Users\\dlel2\\anaconda3\\lib\\site-packages\\sklearn\\preprocessing\\_encoders.py\", line 1442, in inverse_transform\n",
      "    X_tr[:, i] = self.categories_[i][labels.astype(\"int64\", copy=False)]\n",
      "IndexError: index 2 is out of bounds for axis 0 with size 1\n",
      "\n",
      "  warnings.warn(\n",
      "C:\\Users\\dlel2\\anaconda3\\lib\\site-packages\\sklearn\\model_selection\\_validation.py:778: UserWarning: Scoring failed. The score on this train-test partition for these parameters will be set to nan. Details: \n",
      "Traceback (most recent call last):\n",
      "  File \"C:\\Users\\dlel2\\anaconda3\\lib\\site-packages\\sklearn\\model_selection\\_validation.py\", line 767, in _score\n",
      "    scores = scorer(estimator, X_test, y_test)\n",
      "  File \"C:\\Users\\dlel2\\anaconda3\\lib\\site-packages\\sklearn\\metrics\\_scorer.py\", line 444, in _passthrough_scorer\n",
      "    return estimator.score(*args, **kwargs)\n",
      "  File \"C:\\Users\\dlel2\\anaconda3\\lib\\site-packages\\scikeras\\wrappers.py\", line 1114, in score\n",
      "    y_pred = self.predict(X)\n",
      "  File \"C:\\Users\\dlel2\\anaconda3\\lib\\site-packages\\scikeras\\wrappers.py\", line 1054, in predict\n",
      "    y_pred = self.target_encoder_.inverse_transform(y_pred)\n",
      "  File \"C:\\Users\\dlel2\\anaconda3\\lib\\site-packages\\scikeras\\utils\\transformers.py\", line 256, in inverse_transform\n",
      "    class_predictions = self._final_encoder.inverse_transform(class_predictions)\n",
      "  File \"C:\\Users\\dlel2\\anaconda3\\lib\\site-packages\\sklearn\\pipeline.py\", line 686, in inverse_transform\n",
      "    Xt = transform.inverse_transform(Xt)\n",
      "  File \"C:\\Users\\dlel2\\anaconda3\\lib\\site-packages\\sklearn\\preprocessing\\_encoders.py\", line 1442, in inverse_transform\n",
      "    X_tr[:, i] = self.categories_[i][labels.astype(\"int64\", copy=False)]\n",
      "IndexError: index 2 is out of bounds for axis 0 with size 1\n",
      "\n",
      "  warnings.warn(\n",
      "C:\\Users\\dlel2\\anaconda3\\lib\\site-packages\\scikeras\\wrappers.py:301: UserWarning: ``build_fn`` will be renamed to ``model`` in a future release, at which point use of ``build_fn`` will raise an Error instead.\n",
      "  warnings.warn(\n"
     ]
    },
    {
     "name": "stdout",
     "output_type": "stream",
     "text": [
      "Epoch 1/10\n",
      "2/2 [==============================] - 1s 4ms/step - loss: 16.1181\n",
      "Epoch 2/10\n",
      "2/2 [==============================] - 0s 2ms/step - loss: 16.1181\n",
      "Epoch 3/10\n",
      "2/2 [==============================] - 0s 8ms/step - loss: 16.1181\n",
      "Epoch 4/10\n",
      "2/2 [==============================] - 0s 6ms/step - loss: 16.1181\n",
      "Epoch 5/10\n",
      "2/2 [==============================] - 0s 6ms/step - loss: 16.1181\n",
      "Epoch 6/10\n",
      "2/2 [==============================] - 0s 8ms/step - loss: 16.1181\n",
      "Epoch 7/10\n",
      "2/2 [==============================] - 0s 15ms/step - loss: 16.1181\n",
      "Epoch 8/10\n",
      "2/2 [==============================] - 0s 7ms/step - loss: 16.1181\n",
      "Epoch 9/10\n",
      "2/2 [==============================] - 0s 9ms/step - loss: 16.1181\n",
      "Epoch 10/10\n",
      "2/2 [==============================] - 0s 5ms/step - loss: 16.1181\n",
      "2/2 [==============================] - 0s 7ms/step\n",
      "2/2 [==============================] - 0s 15ms/step\n"
     ]
    },
    {
     "name": "stderr",
     "output_type": "stream",
     "text": [
      "C:\\Users\\dlel2\\anaconda3\\lib\\site-packages\\sklearn\\model_selection\\_validation.py:778: UserWarning: Scoring failed. The score on this train-test partition for these parameters will be set to nan. Details: \n",
      "Traceback (most recent call last):\n",
      "  File \"C:\\Users\\dlel2\\anaconda3\\lib\\site-packages\\sklearn\\model_selection\\_validation.py\", line 767, in _score\n",
      "    scores = scorer(estimator, X_test, y_test)\n",
      "  File \"C:\\Users\\dlel2\\anaconda3\\lib\\site-packages\\sklearn\\metrics\\_scorer.py\", line 444, in _passthrough_scorer\n",
      "    return estimator.score(*args, **kwargs)\n",
      "  File \"C:\\Users\\dlel2\\anaconda3\\lib\\site-packages\\scikeras\\wrappers.py\", line 1114, in score\n",
      "    y_pred = self.predict(X)\n",
      "  File \"C:\\Users\\dlel2\\anaconda3\\lib\\site-packages\\scikeras\\wrappers.py\", line 1054, in predict\n",
      "    y_pred = self.target_encoder_.inverse_transform(y_pred)\n",
      "  File \"C:\\Users\\dlel2\\anaconda3\\lib\\site-packages\\scikeras\\utils\\transformers.py\", line 256, in inverse_transform\n",
      "    class_predictions = self._final_encoder.inverse_transform(class_predictions)\n",
      "  File \"C:\\Users\\dlel2\\anaconda3\\lib\\site-packages\\sklearn\\pipeline.py\", line 686, in inverse_transform\n",
      "    Xt = transform.inverse_transform(Xt)\n",
      "  File \"C:\\Users\\dlel2\\anaconda3\\lib\\site-packages\\sklearn\\preprocessing\\_encoders.py\", line 1442, in inverse_transform\n",
      "    X_tr[:, i] = self.categories_[i][labels.astype(\"int64\", copy=False)]\n",
      "IndexError: index 2 is out of bounds for axis 0 with size 2\n",
      "\n",
      "  warnings.warn(\n",
      "C:\\Users\\dlel2\\anaconda3\\lib\\site-packages\\sklearn\\model_selection\\_validation.py:778: UserWarning: Scoring failed. The score on this train-test partition for these parameters will be set to nan. Details: \n",
      "Traceback (most recent call last):\n",
      "  File \"C:\\Users\\dlel2\\anaconda3\\lib\\site-packages\\sklearn\\model_selection\\_validation.py\", line 767, in _score\n",
      "    scores = scorer(estimator, X_test, y_test)\n",
      "  File \"C:\\Users\\dlel2\\anaconda3\\lib\\site-packages\\sklearn\\metrics\\_scorer.py\", line 444, in _passthrough_scorer\n",
      "    return estimator.score(*args, **kwargs)\n",
      "  File \"C:\\Users\\dlel2\\anaconda3\\lib\\site-packages\\scikeras\\wrappers.py\", line 1114, in score\n",
      "    y_pred = self.predict(X)\n",
      "  File \"C:\\Users\\dlel2\\anaconda3\\lib\\site-packages\\scikeras\\wrappers.py\", line 1054, in predict\n",
      "    y_pred = self.target_encoder_.inverse_transform(y_pred)\n",
      "  File \"C:\\Users\\dlel2\\anaconda3\\lib\\site-packages\\scikeras\\utils\\transformers.py\", line 256, in inverse_transform\n",
      "    class_predictions = self._final_encoder.inverse_transform(class_predictions)\n",
      "  File \"C:\\Users\\dlel2\\anaconda3\\lib\\site-packages\\sklearn\\pipeline.py\", line 686, in inverse_transform\n",
      "    Xt = transform.inverse_transform(Xt)\n",
      "  File \"C:\\Users\\dlel2\\anaconda3\\lib\\site-packages\\sklearn\\preprocessing\\_encoders.py\", line 1442, in inverse_transform\n",
      "    X_tr[:, i] = self.categories_[i][labels.astype(\"int64\", copy=False)]\n",
      "IndexError: index 2 is out of bounds for axis 0 with size 2\n",
      "\n",
      "  warnings.warn(\n",
      "C:\\Users\\dlel2\\anaconda3\\lib\\site-packages\\scikeras\\wrappers.py:301: UserWarning: ``build_fn`` will be renamed to ``model`` in a future release, at which point use of ``build_fn`` will raise an Error instead.\n",
      "  warnings.warn(\n"
     ]
    },
    {
     "name": "stdout",
     "output_type": "stream",
     "text": [
      "Epoch 1/10\n",
      "3/3 [==============================] - 1s 9ms/step - loss: 7.8404\n",
      "Epoch 2/10\n",
      "3/3 [==============================] - 0s 8ms/step - loss: 7.8117\n",
      "Epoch 3/10\n",
      "3/3 [==============================] - 0s 6ms/step - loss: 7.8107\n",
      "Epoch 4/10\n",
      "3/3 [==============================] - 0s 5ms/step - loss: 7.8102\n",
      "Epoch 5/10\n",
      "3/3 [==============================] - 0s 6ms/step - loss: 7.8102\n",
      "Epoch 6/10\n",
      "3/3 [==============================] - 0s 7ms/step - loss: 7.8102\n",
      "Epoch 7/10\n",
      "3/3 [==============================] - 0s 4ms/step - loss: 7.8102\n",
      "Epoch 8/10\n",
      "3/3 [==============================] - 0s 7ms/step - loss: 7.8102\n",
      "Epoch 9/10\n",
      "3/3 [==============================] - 0s 8ms/step - loss: 7.8102\n",
      "Epoch 10/10\n",
      "3/3 [==============================] - 0s 5ms/step - loss: 7.8102\n",
      "2/2 [==============================] - 0s 2ms/step\n",
      "3/3 [==============================] - 0s 8ms/step\n"
     ]
    },
    {
     "name": "stderr",
     "output_type": "stream",
     "text": [
      "C:\\Users\\dlel2\\anaconda3\\lib\\site-packages\\scikeras\\wrappers.py:301: UserWarning: ``build_fn`` will be renamed to ``model`` in a future release, at which point use of ``build_fn`` will raise an Error instead.\n",
      "  warnings.warn(\n"
     ]
    },
    {
     "name": "stdout",
     "output_type": "stream",
     "text": [
      "Epoch 1/10\n",
      "4/4 [==============================] - 1s 6ms/step - loss: 10.7991\n",
      "Epoch 2/10\n",
      "4/4 [==============================] - 0s 6ms/step - loss: 10.7991\n",
      "Epoch 3/10\n",
      "4/4 [==============================] - 0s 6ms/step - loss: 10.7991\n",
      "Epoch 4/10\n",
      "4/4 [==============================] - 0s 5ms/step - loss: 10.7991\n",
      "Epoch 5/10\n",
      "4/4 [==============================] - 0s 6ms/step - loss: 10.7991\n",
      "Epoch 6/10\n",
      "4/4 [==============================] - 0s 7ms/step - loss: 10.7991\n",
      "Epoch 7/10\n",
      "4/4 [==============================] - 0s 8ms/step - loss: 10.7991\n",
      "Epoch 8/10\n",
      "4/4 [==============================] - 0s 6ms/step - loss: 10.7991\n",
      "Epoch 9/10\n",
      "4/4 [==============================] - 0s 7ms/step - loss: 10.7991\n",
      "Epoch 10/10\n",
      "4/4 [==============================] - 0s 8ms/step - loss: 10.7991\n",
      "2/2 [==============================] - 0s 16ms/step\n",
      "4/4 [==============================] - 0s 648us/step\n"
     ]
    }
   ],
   "source": [
    "ts, tsc, tes = learning_curve(model, data.data, data.target, cv=3)"
   ]
  },
  {
   "cell_type": "code",
   "execution_count": 18,
   "id": "e14acff0",
   "metadata": {},
   "outputs": [],
   "source": [
    "import sklearn_evaluation"
   ]
  },
  {
   "cell_type": "code",
   "execution_count": 22,
   "id": "6198a22d",
   "metadata": {},
   "outputs": [
    {
     "data": {
      "text/plain": [
       "<Axes: title={'center': 'Learning Curve'}, xlabel='Training examples', ylabel='Score mean'>"
      ]
     },
     "execution_count": 22,
     "metadata": {},
     "output_type": "execute_result"
    },
    {
     "data": {
      "image/png": "[encoded data removed]",
      "text/plain": [
       "<Figure size 432x288 with 1 Axes>"
      ]
     },
     "metadata": {
      "needs_background": "light"
     },
     "output_type": "display_data"
    }
   ],
   "source": [
    "sklearn_evaluation.plot.learning_curve(tsc, tes,ts)\n",
    "# data가 턱없이 부족하다."
   ]
  },
  {
   "cell_type": "code",
   "execution_count": 26,
   "id": "0fa561ba",
   "metadata": {},
   "outputs": [],
   "source": [
    "model = tf.keras.models.Sequential([\n",
    "        tf.keras.layers.Dense(16, input_shape=(4,)),\n",
    "        tf.keras.layers.Dense(3)\n",
    "    ])\n",
    "model.compile(loss=tf.keras.losses.SparseCategoricalCrossentropy())"
   ]
  },
  {
   "cell_type": "code",
   "execution_count": 27,
   "id": "94ce00c6",
   "metadata": {
    "scrolled": true
   },
   "outputs": [
    {
     "name": "stdout",
     "output_type": "stream",
     "text": [
      "5/5 [==============================] - 1s 4ms/step - loss: 10.6652\n"
     ]
    },
    {
     "data": {
      "text/plain": [
       "<keras.callbacks.History at 0x1fd747db670>"
      ]
     },
     "execution_count": 27,
     "metadata": {},
     "output_type": "execute_result"
    }
   ],
   "source": [
    "model.fit(data.data, data.target)"
   ]
  },
  {
   "cell_type": "code",
   "execution_count": 28,
   "id": "d5ffbc20",
   "metadata": {
    "collapsed": true
   },
   "outputs": [
    {
     "name": "stdout",
     "output_type": "stream",
     "text": [
      "Epoch 1/10\n",
      "4/4 [==============================] - 0s 79ms/step - loss: 8.4438 - val_loss: 16.1181\n",
      "Epoch 2/10\n",
      "4/4 [==============================] - 0s 21ms/step - loss: 8.4428 - val_loss: 16.1181\n",
      "Epoch 3/10\n",
      "4/4 [==============================] - 0s 20ms/step - loss: 8.4428 - val_loss: 16.1181\n",
      "Epoch 4/10\n",
      "4/4 [==============================] - 0s 22ms/step - loss: 8.4428 - val_loss: 16.1181\n",
      "Epoch 5/10\n",
      "4/4 [==============================] - 0s 23ms/step - loss: 8.4428 - val_loss: 16.1181\n",
      "Epoch 6/10\n",
      "4/4 [==============================] - 0s 25ms/step - loss: 8.4428 - val_loss: 16.1181\n",
      "Epoch 7/10\n",
      "4/4 [==============================] - 0s 25ms/step - loss: 8.4428 - val_loss: 16.1181\n",
      "Epoch 8/10\n",
      "4/4 [==============================] - 0s 22ms/step - loss: 8.4428 - val_loss: 16.1181\n",
      "Epoch 9/10\n",
      "4/4 [==============================] - 0s 26ms/step - loss: 8.4428 - val_loss: 16.1181\n",
      "Epoch 10/10\n",
      "4/4 [==============================] - 0s 29ms/step - loss: 8.4428 - val_loss: 16.1181\n"
     ]
    }
   ],
   "source": [
    "history = model.fit(data.data, data.target, epochs=10, validation_split=0.3)"
   ]
  },
  {
   "cell_type": "code",
   "execution_count": 32,
   "id": "ef24ffbc",
   "metadata": {},
   "outputs": [],
   "source": [
    "class MyC(tf.keras.callbacks.Callback):\n",
    "    def on_epoch_begin(self, epoch, logs=None): # override\n",
    "        print(epoch, '시작')"
   ]
  },
  {
   "cell_type": "code",
   "execution_count": 33,
   "id": "750e6af1",
   "metadata": {
    "collapsed": true
   },
   "outputs": [
    {
     "name": "stdout",
     "output_type": "stream",
     "text": [
      "0 시작\n",
      "Epoch 1/10\n",
      "4/4 [==============================] - 0s 36ms/step - loss: 8.4428 - val_loss: 16.1181\n",
      "1 시작\n",
      "Epoch 2/10\n",
      "4/4 [==============================] - 0s 19ms/step - loss: 8.4428 - val_loss: 16.1181\n",
      "2 시작\n",
      "Epoch 3/10\n",
      "4/4 [==============================] - 0s 19ms/step - loss: 8.4428 - val_loss: 16.1181\n",
      "3 시작\n",
      "Epoch 4/10\n",
      "4/4 [==============================] - 0s 22ms/step - loss: 8.4428 - val_loss: 16.1181\n",
      "4 시작\n",
      "Epoch 5/10\n",
      "4/4 [==============================] - 0s 19ms/step - loss: 8.4428 - val_loss: 16.1181\n",
      "5 시작\n",
      "Epoch 6/10\n",
      "4/4 [==============================] - 0s 22ms/step - loss: 8.4428 - val_loss: 16.1181\n",
      "6 시작\n",
      "Epoch 7/10\n",
      "4/4 [==============================] - 0s 21ms/step - loss: 8.4428 - val_loss: 16.1181\n",
      "7 시작\n",
      "Epoch 8/10\n",
      "4/4 [==============================] - 0s 21ms/step - loss: 8.4428 - val_loss: 16.1181\n",
      "8 시작\n",
      "Epoch 9/10\n",
      "4/4 [==============================] - 0s 22ms/step - loss: 8.4428 - val_loss: 16.1181\n",
      "9 시작\n",
      "Epoch 10/10\n",
      "4/4 [==============================] - 0s 39ms/step - loss: 8.4428 - val_loss: 16.1181\n"
     ]
    }
   ],
   "source": [
    "# early stopping을 활용할 수 있다는 생각이 드네\n",
    "# callback을 사용하면!!!!!\n",
    "history = model.fit(data.data, data.target, epochs=10, validation_split=0.3, callbacks=[MyC()])"
   ]
  },
  {
   "cell_type": "code",
   "execution_count": 34,
   "id": "fe6ba3dd",
   "metadata": {
    "collapsed": true
   },
   "outputs": [
    {
     "data": {
      "text/plain": [
       "{'loss': [8.442811965942383,\n",
       "  8.442811965942383,\n",
       "  8.442811965942383,\n",
       "  8.442811965942383,\n",
       "  8.442811965942383,\n",
       "  8.442811965942383,\n",
       "  8.442811965942383,\n",
       "  8.442811012268066,\n",
       "  8.442811965942383,\n",
       "  8.442811965942383],\n",
       " 'val_loss': [16.11809539794922,\n",
       "  16.11809539794922,\n",
       "  16.11809539794922,\n",
       "  16.11809539794922,\n",
       "  16.11809539794922,\n",
       "  16.11809539794922,\n",
       "  16.11809539794922,\n",
       "  16.11809539794922,\n",
       "  16.11809539794922,\n",
       "  16.11809539794922]}"
      ]
     },
     "execution_count": 34,
     "metadata": {},
     "output_type": "execute_result"
    }
   ],
   "source": [
    "history.history"
   ]
  },
  {
   "cell_type": "code",
   "execution_count": null,
   "id": "61c42216",
   "metadata": {},
   "outputs": [],
   "source": [
    "tf.keras.callbacks.LambdaCallback"
   ]
  },
  {
   "cell_type": "code",
   "execution_count": null,
   "id": "83152912",
   "metadata": {},
   "outputs": [],
   "source": [
    "# 쥬피터는 파이참처럼 하이퍼파라미터 자동으로 안 나오니 검색해서 직접 복붙해라\n",
    "tf.keras.callbacks.Callback.on_epoch_begin"
   ]
  },
  {
   "cell_type": "code",
   "execution_count": 30,
   "id": "cceaaf72",
   "metadata": {
    "collapsed": true
   },
   "outputs": [
    {
     "data": {
      "text/plain": [
       "['__class__',\n",
       " '__delattr__',\n",
       " '__dict__',\n",
       " '__dir__',\n",
       " '__doc__',\n",
       " '__eq__',\n",
       " '__format__',\n",
       " '__ge__',\n",
       " '__getattribute__',\n",
       " '__gt__',\n",
       " '__hash__',\n",
       " '__init__',\n",
       " '__init_subclass__',\n",
       " '__le__',\n",
       " '__lt__',\n",
       " '__module__',\n",
       " '__ne__',\n",
       " '__new__',\n",
       " '__reduce__',\n",
       " '__reduce_ex__',\n",
       " '__repr__',\n",
       " '__setattr__',\n",
       " '__sizeof__',\n",
       " '__str__',\n",
       " '__subclasshook__',\n",
       " '__weakref__',\n",
       " '_implements_predict_batch_hooks',\n",
       " '_implements_test_batch_hooks',\n",
       " '_implements_train_batch_hooks',\n",
       " '_keras_api_names',\n",
       " '_keras_api_names_v1',\n",
       " 'on_batch_begin',\n",
       " 'on_batch_end',\n",
       " 'on_epoch_begin',\n",
       " 'on_epoch_end',\n",
       " 'on_predict_batch_begin',\n",
       " 'on_predict_batch_end',\n",
       " 'on_predict_begin',\n",
       " 'on_predict_end',\n",
       " 'on_test_batch_begin',\n",
       " 'on_test_batch_end',\n",
       " 'on_test_begin',\n",
       " 'on_test_end',\n",
       " 'on_train_batch_begin',\n",
       " 'on_train_batch_end',\n",
       " 'on_train_begin',\n",
       " 'on_train_end',\n",
       " 'set_model',\n",
       " 'set_params']"
      ]
     },
     "execution_count": 30,
     "metadata": {},
     "output_type": "execute_result"
    }
   ],
   "source": [
    "# 기능 추가하려면 dir해서 뭐가 있는지 보고\n",
    "dir(MyC)"
   ]
  },
  {
   "cell_type": "code",
   "execution_count": null,
   "id": "bb83f5d3",
   "metadata": {},
   "outputs": [],
   "source": []
  }
 ],
 "metadata": {
  "kernelspec": {
   "display_name": "Python 3 (ipykernel)",
   "language": "python",
   "name": "python3"
  },
  "language_info": {
   "codemirror_mode": {
    "name": "ipython",
    "version": 3
   },
   "file_extension": ".py",
   "mimetype": "text/x-python",
   "name": "python",
   "nbconvert_exporter": "python",
   "pygments_lexer": "ipython3",
   "version": "3.9.7"
  }
 },
 "nbformat": 4,
 "nbformat_minor": 5
}
