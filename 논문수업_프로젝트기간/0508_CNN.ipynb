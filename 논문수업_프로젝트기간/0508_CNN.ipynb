{
 "cells": [
  {
   "cell_type": "code",
   "execution_count": 1,
   "id": "9a358bc4",
   "metadata": {},
   "outputs": [],
   "source": [
    "from scipy.signal import correlate, convolve"
   ]
  },
  {
   "cell_type": "code",
   "execution_count": 2,
   "id": "a5abf3f4",
   "metadata": {},
   "outputs": [],
   "source": [
    "import numpy as np"
   ]
  },
  {
   "cell_type": "code",
   "execution_count": 3,
   "id": "a697ab58",
   "metadata": {},
   "outputs": [],
   "source": [
    "a = np.array([1,2,3,4,5,])"
   ]
  },
  {
   "cell_type": "code",
   "execution_count": 4,
   "id": "398511d8",
   "metadata": {},
   "outputs": [],
   "source": [
    "b = np.array([1,0,1])"
   ]
  },
  {
   "cell_type": "code",
   "execution_count": 7,
   "id": "de516e14",
   "metadata": {},
   "outputs": [
    {
     "data": {
      "text/plain": [
       "array([1, 2, 4, 6, 8, 4, 5])"
      ]
     },
     "execution_count": 7,
     "metadata": {},
     "output_type": "execute_result"
    }
   ],
   "source": [
    "correlate(a,b)"
   ]
  },
  {
   "cell_type": "code",
   "execution_count": 8,
   "id": "1a20b9a4",
   "metadata": {},
   "outputs": [
    {
     "data": {
      "text/plain": [
       "array([1, 2, 4, 6, 8, 4, 5])"
      ]
     },
     "execution_count": 8,
     "metadata": {},
     "output_type": "execute_result"
    }
   ],
   "source": [
    "convolve(a,b)"
   ]
  },
  {
   "cell_type": "code",
   "execution_count": 9,
   "id": "669776a5",
   "metadata": {},
   "outputs": [],
   "source": [
    "b = np.array([1,0,-1])"
   ]
  },
  {
   "cell_type": "code",
   "execution_count": 10,
   "id": "a3c701c0",
   "metadata": {},
   "outputs": [
    {
     "data": {
      "text/plain": [
       "array([-1, -2, -2, -2, -2,  4,  5])"
      ]
     },
     "execution_count": 10,
     "metadata": {},
     "output_type": "execute_result"
    }
   ],
   "source": [
    "correlate(a,b)"
   ]
  },
  {
   "cell_type": "code",
   "execution_count": 11,
   "id": "60f20d53",
   "metadata": {},
   "outputs": [
    {
     "data": {
      "text/plain": [
       "array([ 1,  2,  2,  2,  2, -4, -5])"
      ]
     },
     "execution_count": 11,
     "metadata": {},
     "output_type": "execute_result"
    }
   ],
   "source": [
    "convolve(a,b) # <- flip"
   ]
  },
  {
   "cell_type": "code",
   "execution_count": null,
   "id": "f413a29e",
   "metadata": {},
   "outputs": [],
   "source": []
  }
 ],
 "metadata": {
  "kernelspec": {
   "display_name": "Python 3 (ipykernel)",
   "language": "python",
   "name": "python3"
  },
  "language_info": {
   "codemirror_mode": {
    "name": "ipython",
    "version": 3
   },
   "file_extension": ".py",
   "mimetype": "text/x-python",
   "name": "python",
   "nbconvert_exporter": "python",
   "pygments_lexer": "ipython3",
   "version": "3.9.7"
  }
 },
 "nbformat": 4,
 "nbformat_minor": 5
}
