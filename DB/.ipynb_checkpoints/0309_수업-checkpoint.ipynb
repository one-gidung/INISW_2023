{
 "cells": [
  {
   "cell_type": "code",
   "execution_count": 1,
   "id": "79ed2feb",
   "metadata": {},
   "outputs": [],
   "source": [
    "import re"
   ]
  },
  {
   "cell_type": "markdown",
   "id": "cb6c97f1",
   "metadata": {},
   "source": [
    "- re.compile -> 정규식 패턴\n",
    "- re.match -> 첫글자(*)부터 일치하는 패턴\n",
    "- re.search -> 일치하는 패턴\n",
    "- re.findall -> 일치하는 패턴 전부\n",
    "- re.split -> 패턴을 기준으로 분리\n",
    "- re.sub -> 패턴을 다른 문자열로 치환"
   ]
  },
  {
   "cell_type": "code",
   "execution_count": 3,
   "id": "18f97d90",
   "metadata": {
    "scrolled": true
   },
   "outputs": [
    {
     "data": {
      "text/plain": [
       "['__class__',\n",
       " '__class_getitem__',\n",
       " '__copy__',\n",
       " '__deepcopy__',\n",
       " '__delattr__',\n",
       " '__dir__',\n",
       " '__doc__',\n",
       " '__eq__',\n",
       " '__format__',\n",
       " '__ge__',\n",
       " '__getattribute__',\n",
       " '__gt__',\n",
       " '__hash__',\n",
       " '__init__',\n",
       " '__init_subclass__',\n",
       " '__le__',\n",
       " '__lt__',\n",
       " '__ne__',\n",
       " '__new__',\n",
       " '__reduce__',\n",
       " '__reduce_ex__',\n",
       " '__repr__',\n",
       " '__setattr__',\n",
       " '__sizeof__',\n",
       " '__str__',\n",
       " '__subclasshook__',\n",
       " 'findall',\n",
       " 'finditer',\n",
       " 'flags',\n",
       " 'fullmatch',\n",
       " 'groupindex',\n",
       " 'groups',\n",
       " 'match',\n",
       " 'pattern',\n",
       " 'scanner',\n",
       " 'search',\n",
       " 'split',\n",
       " 'sub',\n",
       " 'subn']"
      ]
     },
     "execution_count": 3,
     "metadata": {},
     "output_type": "execute_result"
    }
   ],
   "source": [
    "# 보니까 match도 있고 search도 있고 그냥 정규식에서 패턴으로 사용가능하다\n",
    "dir(type(re.compile('')))"
   ]
  },
  {
   "cell_type": "code",
   "execution_count": null,
   "id": "60ece62a",
   "metadata": {},
   "outputs": [],
   "source": [
    "p1 = re.compile('')\n",
    "p2, p3, ...\n",
    "patterns = [p1, p2, p3, ...]\n",
    "patterns[1:4]"
   ]
  },
  {
   "cell_type": "code",
   "execution_count": 8,
   "id": "9f8e587f",
   "metadata": {},
   "outputs": [
    {
     "name": "stdout",
     "output_type": "stream",
     "text": [
      "\\\\\\\n",
      " \\n \n",
      "\n"
     ]
    },
    {
     "data": {
      "text/plain": [
       "(None, '\\\\\\n', '\\\\n', '\\n')"
      ]
     },
     "execution_count": 8,
     "metadata": {},
     "output_type": "execute_result"
    }
   ],
   "source": [
    "print(re.escape('\\\\\\n'), r'\\n', '\\n'),\\\n",
    "re.escape('\\n'), r'\\n', '\\n'"
   ]
  },
  {
   "cell_type": "code",
   "execution_count": 10,
   "id": "4684b110",
   "metadata": {},
   "outputs": [
    {
     "data": {
      "text/plain": [
       "'C:\\\\users\\\\d'"
      ]
     },
     "execution_count": 10,
     "metadata": {},
     "output_type": "execute_result"
    }
   ],
   "source": [
    "r'C:\\users\\d'"
   ]
  },
  {
   "cell_type": "code",
   "execution_count": 13,
   "id": "2f575e54",
   "metadata": {},
   "outputs": [
    {
     "data": {
      "text/plain": [
       "'C:\\\\\\\\users\\\\\\\\d'"
      ]
     },
     "execution_count": 13,
     "metadata": {},
     "output_type": "execute_result"
    }
   ],
   "source": [
    "re.escape(r'C:\\users\\d')"
   ]
  },
  {
   "cell_type": "markdown",
   "id": "a9d039a9",
   "metadata": {},
   "source": [
    "# match"
   ]
  },
  {
   "cell_type": "code",
   "execution_count": 19,
   "id": "621852b9",
   "metadata": {},
   "outputs": [],
   "source": [
    "rst = re.match('hel', 'hello')"
   ]
  },
  {
   "cell_type": "code",
   "execution_count": 20,
   "id": "5b086dec",
   "metadata": {},
   "outputs": [
    {
     "data": {
      "text/plain": [
       "((0, 3), 0, 3, 'hel')"
      ]
     },
     "execution_count": 20,
     "metadata": {},
     "output_type": "execute_result"
    }
   ],
   "source": [
    "rst.span(), rst.start(), rst.end(), 'hello'[rst.start():rst.end()]"
   ]
  },
  {
   "cell_type": "code",
   "execution_count": 22,
   "id": "d6493ddc",
   "metadata": {},
   "outputs": [
    {
     "data": {
      "text/plain": [
       "((0, 4), 0, 4, 'hell')"
      ]
     },
     "execution_count": 22,
     "metadata": {},
     "output_type": "execute_result"
    }
   ],
   "source": [
    "rst = re.match('hel+', 'hello')\n",
    "rst.span(), rst.start(), rst.end(), 'hello'[rst.start():rst.end()]"
   ]
  },
  {
   "cell_type": "code",
   "execution_count": 23,
   "id": "9d24f974",
   "metadata": {},
   "outputs": [
    {
     "data": {
      "text/plain": [
       "((0, 4), 0, 4, 'hell')"
      ]
     },
     "execution_count": 23,
     "metadata": {},
     "output_type": "execute_result"
    }
   ],
   "source": [
    "rst = re.match('hel{1,2}', 'hello')\n",
    "rst.span(), rst.start(), rst.end(), 'hello'[rst.start():rst.end()]"
   ]
  },
  {
   "cell_type": "code",
   "execution_count": 24,
   "id": "90a01a11",
   "metadata": {},
   "outputs": [
    {
     "data": {
      "text/plain": [
       "((0, 4), 0, 4, 'hell')"
      ]
     },
     "execution_count": 24,
     "metadata": {},
     "output_type": "execute_result"
    }
   ],
   "source": [
    "rst = re.match('hel{2}', 'hello')\n",
    "rst.span(), rst.start(), rst.end(), 'hello'[rst.start():rst.end()]"
   ]
  },
  {
   "cell_type": "code",
   "execution_count": 25,
   "id": "753ace95",
   "metadata": {},
   "outputs": [
    {
     "data": {
      "text/plain": [
       "((0, 4), 0, 4, 'hell')"
      ]
     },
     "execution_count": 25,
     "metadata": {},
     "output_type": "execute_result"
    }
   ],
   "source": [
    "rst = re.match('hel*', 'hello')\n",
    "rst.span(), rst.start(), rst.end(), 'hello'[rst.start():rst.end()]"
   ]
  },
  {
   "cell_type": "markdown",
   "id": "44353255",
   "metadata": {},
   "source": [
    "# search"
   ]
  },
  {
   "cell_type": "code",
   "execution_count": 27,
   "id": "40aeaccd",
   "metadata": {},
   "outputs": [
    {
     "name": "stdout",
     "output_type": "stream",
     "text": [
      "<re.Match object; span=(3, 5), match='lo'>\n"
     ]
    }
   ],
   "source": [
    "re.search('lo', 'hello')"
   ]
  },
  {
   "cell_type": "code",
   "execution_count": 28,
   "id": "60177ab7",
   "metadata": {},
   "outputs": [
    {
     "data": {
      "text/plain": [
       "('he', 'll')"
      ]
     },
     "execution_count": 28,
     "metadata": {},
     "output_type": "execute_result"
    }
   ],
   "source": [
    "re.search('(he)(l+)(?:o)', 'hello').groups()"
   ]
  },
  {
   "cell_type": "code",
   "execution_count": 29,
   "id": "9c5bc77b",
   "metadata": {},
   "outputs": [
    {
     "data": {
      "text/plain": [
       "'he'"
      ]
     },
     "execution_count": 29,
     "metadata": {},
     "output_type": "execute_result"
    }
   ],
   "source": [
    "re.search('(he)(l+)(?:o)', 'hello').group(1)"
   ]
  },
  {
   "cell_type": "code",
   "execution_count": 32,
   "id": "4e7bba6b",
   "metadata": {},
   "outputs": [
    {
     "data": {
      "text/plain": [
       "(<re.Match object; span=(0, 5), match='hello'>,\n",
       " <re.Match object; span=(0, 2), match='hi'>)"
      ]
     },
     "execution_count": 32,
     "metadata": {},
     "output_type": "execute_result"
    }
   ],
   "source": [
    "re.search('hello|hi', 'hello'), re.search('hello|hi', 'hi')"
   ]
  },
  {
   "cell_type": "code",
   "execution_count": 33,
   "id": "8dd4593f",
   "metadata": {},
   "outputs": [
    {
     "data": {
      "text/plain": [
       "(<re.Match object; span=(0, 4), match='http'>,\n",
       " <re.Match object; span=(0, 4), match='http'>)"
      ]
     },
     "execution_count": 33,
     "metadata": {},
     "output_type": "execute_result"
    }
   ],
   "source": [
    "re.search('http|https', 'http'), re.search('http|https', 'https')"
   ]
  },
  {
   "cell_type": "code",
   "execution_count": 34,
   "id": "1ef7653c",
   "metadata": {},
   "outputs": [
    {
     "data": {
      "text/plain": [
       "(<re.Match object; span=(0, 4), match='http'>,\n",
       " <re.Match object; span=(0, 5), match='https'>)"
      ]
     },
     "execution_count": 34,
     "metadata": {},
     "output_type": "execute_result"
    }
   ],
   "source": [
    "re.search('https?', 'http'), re.search('https?', 'https')"
   ]
  },
  {
   "cell_type": "code",
   "execution_count": 35,
   "id": "c6a7ec0b",
   "metadata": {},
   "outputs": [
    {
     "data": {
      "text/plain": [
       "(<re.Match object; span=(0, 4), match='http'>,\n",
       " <re.Match object; span=(0, 5), match='https'>,\n",
       " <re.Match object; span=(0, 3), match='ftp'>)"
      ]
     },
     "execution_count": 35,
     "metadata": {},
     "output_type": "execute_result"
    }
   ],
   "source": [
    "re.search('(?:h|f)t+ps?', 'http'),\\\n",
    "re.search('(?:h|f)t+ps?', 'https'),\\\n",
    "re.search('(?:h|f)t+ps?', 'ftp')"
   ]
  },
  {
   "cell_type": "code",
   "execution_count": 36,
   "id": "eed6aefb",
   "metadata": {},
   "outputs": [],
   "source": [
    "data = '''\n",
    "park 980101-1023953\n",
    "kim 780201-1234567\n",
    "'''"
   ]
  },
  {
   "cell_type": "code",
   "execution_count": 38,
   "id": "680f1789",
   "metadata": {},
   "outputs": [
    {
     "name": "stdout",
     "output_type": "stream",
     "text": [
      "['park', '980101-1023953']\n",
      "['980101', '1023953']\n",
      "True\n",
      "['kim', '780201-1234567']\n",
      "['780201', '1234567']\n",
      "True\n"
     ]
    }
   ],
   "source": [
    "for line in data.split('\\n'):\n",
    "    if len(line) > 0:\n",
    "        print(line.split())\n",
    "        print(line.split()[1].split('-'))\n",
    "        print(line.split()[1].split('-')[-1].isdigit())"
   ]
  },
  {
   "cell_type": "code",
   "execution_count": 39,
   "id": "3b161f99",
   "metadata": {},
   "outputs": [
    {
     "data": {
      "text/plain": [
       "['1023953', '1234567']"
      ]
     },
     "execution_count": 39,
     "metadata": {},
     "output_type": "execute_result"
    }
   ],
   "source": [
    "re.findall('[1-4][0-9]{6}', data)"
   ]
  },
  {
   "cell_type": "code",
   "execution_count": 50,
   "id": "ce38575c",
   "metadata": {},
   "outputs": [
    {
     "data": {
      "text/plain": [
       "[('010', '0000', '0000'),\n",
       " ('02', '2345', '2345'),\n",
       " ('02', '2345', '1234'),\n",
       " ('010', '1234', '2345')]"
      ]
     },
     "execution_count": 50,
     "metadata": {},
     "output_type": "execute_result"
    }
   ],
   "source": [
    "# 전화번호\n",
    "data = '''\n",
    "    010-0000-0000\n",
    "    523-1234-5678\n",
    "    02-2345-2345\n",
    "    02 2345 1234\n",
    "    010     1234     2345\n",
    "'''\n",
    "\n",
    "# re.findall('(\\d{3}-\\d{4}-\\d{4})', data) # 전화번호가 아닌 것도 인식을 함\n",
    "# re.findall('([0]\\d{2}-\\d{4}-\\d{4})', data) # 0으로 시작하는게 전화번호다\n",
    "# re.findall('([0]\\d{1,2}-\\d{4}-\\d{4})', data) # 집전화번호도 인식한다\n",
    "# re.findall('([0]\\d{1,2}.+\\d{4}.+\\d{4})', data) # 공백으로 구분된 전화번호 인식\n",
    "re.findall('(?:([0]\\d{1,2}).*(\\d{4}).*(\\d{4}))', data) # 공백이 많이 들어가도 인식\n",
    "\n"
   ]
  },
  {
   "cell_type": "code",
   "execution_count": 68,
   "id": "e532242d",
   "metadata": {},
   "outputs": [
    {
     "data": {
      "text/plain": [
       "['abcde01010', 'aa-_0.', 'aaaaaaaaaaaaaaa']"
      ]
     },
     "execution_count": 68,
     "metadata": {},
     "output_type": "execute_result"
    }
   ],
   "source": [
    "# 아이디 규칙: 영문(대소문자) 숫자-_.\n",
    "# 조건1: 첫글자는 무조건 영문소문자\n",
    "# 조건2: 아이디는 최소 3글자 이상 최대 15글자 이하\n",
    "\n",
    "data = '''\n",
    "    abcde01010@gmail.com\n",
    "    Asasdf0102@gmail.co.kr\n",
    "    0asdfwdsfw@service.gmail.com\n",
    "    aEds!#%^@gmail.com\n",
    "    aa-_0.@gmail.co.kr\n",
    "    a@gmail.com\n",
    "    aaaaaaaaaaaaaaa@gmail.com\n",
    "'''\n",
    "\n",
    "re.findall(r'\\b([a-z][a-zA-Z0-9._-]{2,14})@(?:[.]?\\w{2,}){2,}\\b', data)"
   ]
  },
  {
   "cell_type": "code",
   "execution_count": 55,
   "id": "93127106",
   "metadata": {},
   "outputs": [
    {
     "data": {
      "text/plain": [
       "['.']"
      ]
     },
     "execution_count": 55,
     "metadata": {},
     "output_type": "execute_result"
    }
   ],
   "source": [
    "re.findall('[.]', data)"
   ]
  },
  {
   "cell_type": "markdown",
   "id": "5d583682",
   "metadata": {},
   "source": [
    "URL\\\n",
    "웹페이지, 이미지 => 파일\\\n",
    "\\\n",
    "URI\\\n",
    "서비스 위치"
   ]
  },
  {
   "cell_type": "code",
   "execution_count": 60,
   "id": "41601ce8",
   "metadata": {},
   "outputs": [
    {
     "data": {
      "text/plain": [
       "[('https://www.naver.com', 'https', 'www.naver.com'),\n",
       " ('https://mail.naver.com', 'https', 'mail.naver.com'),\n",
       " ('https://blog.naver.com', 'https', 'blog.naver.com'),\n",
       " ('https://naver.com', 'https', 'naver.com'),\n",
       " ('www.naver.com', '', 'www.naver.com'),\n",
       " ('naver.com', '', 'naver.com')]"
      ]
     },
     "execution_count": 60,
     "metadata": {},
     "output_type": "execute_result"
    }
   ],
   "source": [
    "data = '''\n",
    "    https://www.naver.com\n",
    "    https://mail.naver.com\n",
    "    https://blog.naver.com\n",
    "    https://naver.com\n",
    "    //\n",
    "    www.naver.com\n",
    "    naver.com\n",
    "'''\n",
    "\n",
    "re.findall('((https?)?(?:://)?((?:[.]?\\w{2,}){2,}))', data)"
   ]
  },
  {
   "cell_type": "markdown",
   "id": "a32d7432",
   "metadata": {},
   "source": [
    "# 카카오"
   ]
  },
  {
   "cell_type": "code",
   "execution_count": null,
   "id": "9ff9fa31",
   "metadata": {},
   "outputs": [],
   "source": []
  }
 ],
 "metadata": {
  "kernelspec": {
   "display_name": "Python 3 (ipykernel)",
   "language": "python",
   "name": "python3"
  },
  "language_info": {
   "codemirror_mode": {
    "name": "ipython",
    "version": 3
   },
   "file_extension": ".py",
   "mimetype": "text/x-python",
   "name": "python",
   "nbconvert_exporter": "python",
   "pygments_lexer": "ipython3",
   "version": "3.9.7"
  }
 },
 "nbformat": 4,
 "nbformat_minor": 5
}
