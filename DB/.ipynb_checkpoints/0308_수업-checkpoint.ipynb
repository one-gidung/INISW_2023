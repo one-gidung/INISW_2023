{
 "cells": [
  {
   "cell_type": "code",
   "execution_count": 123,
   "id": "e30eca61",
   "metadata": {},
   "outputs": [],
   "source": [
    "from sqlalchemy.ext.declarative import declarative_base\n",
    "from sqlalchemy.schema import MetaData, Table, Column, ForeignKey\n",
    "from sqlalchemy.types import Integer, Text, String\n",
    "from sqlalchemy import create_engine"
   ]
  },
  {
   "cell_type": "code",
   "execution_count": 29,
   "id": "38b66b95",
   "metadata": {},
   "outputs": [],
   "source": [
    "# ORM -> Object / Data Mapping(engine)\n",
    "base = declarative_base()"
   ]
  },
  {
   "cell_type": "code",
   "execution_count": 30,
   "id": "f1595840",
   "metadata": {},
   "outputs": [],
   "source": [
    "class TableA(base):\n",
    "    __tablename__ = 'T_A'\n",
    "    \n",
    "    PK = Column('pk', Integer, primary_key=True)\n",
    "    NAME = Column('name', Text, nullable=False) # NotNull"
   ]
  },
  {
   "cell_type": "code",
   "execution_count": 31,
   "id": "6e742276",
   "metadata": {},
   "outputs": [
    {
     "data": {
      "text/plain": [
       "Table('T_A', MetaData(), Column('pk', Integer(), table=<T_A>, primary_key=True, nullable=False), Column('name', Text(), table=<T_A>, nullable=False), schema=None)"
      ]
     },
     "execution_count": 31,
     "metadata": {},
     "output_type": "execute_result"
    }
   ],
   "source": [
    "TableA.__table__"
   ]
  },
  {
   "cell_type": "code",
   "execution_count": 32,
   "id": "11a37ef5",
   "metadata": {},
   "outputs": [
    {
     "data": {
      "text/plain": [
       "'T_A'"
      ]
     },
     "execution_count": 32,
     "metadata": {},
     "output_type": "execute_result"
    }
   ],
   "source": [
    "TableA.__tablename__"
   ]
  },
  {
   "cell_type": "code",
   "execution_count": 33,
   "id": "f7568584",
   "metadata": {},
   "outputs": [],
   "source": [
    "a = TableA(NAME='아무나')"
   ]
  },
  {
   "cell_type": "code",
   "execution_count": 34,
   "id": "ebd4308c",
   "metadata": {},
   "outputs": [
    {
     "data": {
      "text/plain": [
       "(None, '아무나')"
      ]
     },
     "execution_count": 34,
     "metadata": {},
     "output_type": "execute_result"
    }
   ],
   "source": [
    "a.PK, a.NAME"
   ]
  },
  {
   "cell_type": "code",
   "execution_count": 37,
   "id": "dbe0812f",
   "metadata": {},
   "outputs": [],
   "source": [
    "engine = create_engine('sqlite:///:memory:', echo=True)"
   ]
  },
  {
   "cell_type": "code",
   "execution_count": 38,
   "id": "a4839a0f",
   "metadata": {},
   "outputs": [
    {
     "name": "stdout",
     "output_type": "stream",
     "text": [
      "2023-03-08 10:02:26,929 INFO sqlalchemy.engine.Engine BEGIN (implicit)\n",
      "2023-03-08 10:02:26,930 INFO sqlalchemy.engine.Engine PRAGMA main.table_info(\"T_A\")\n",
      "2023-03-08 10:02:26,931 INFO sqlalchemy.engine.Engine [raw sql] ()\n",
      "2023-03-08 10:02:26,933 INFO sqlalchemy.engine.Engine PRAGMA temp.table_info(\"T_A\")\n",
      "2023-03-08 10:02:26,934 INFO sqlalchemy.engine.Engine [raw sql] ()\n",
      "2023-03-08 10:02:26,936 INFO sqlalchemy.engine.Engine \n",
      "CREATE TABLE \"T_A\" (\n",
      "\tpk INTEGER NOT NULL, \n",
      "\tname TEXT NOT NULL, \n",
      "\tPRIMARY KEY (pk)\n",
      ")\n",
      "\n",
      "\n",
      "2023-03-08 10:02:26,937 INFO sqlalchemy.engine.Engine [no key 0.00094s] ()\n",
      "2023-03-08 10:02:26,939 INFO sqlalchemy.engine.Engine COMMIT\n"
     ]
    }
   ],
   "source": [
    "# ORM Core\n",
    "base.metadata.create_all(engine)"
   ]
  },
  {
   "cell_type": "markdown",
   "id": "820caaf0",
   "metadata": {},
   "source": [
    "Class 선언할 때, 오류 나는 이유 (여러 번 수행해서)\\\n",
    "\\\n",
    "base.metadata.clear() ==> Table 객체 삭제\\\n",
    "base.registry.dispose() ==> Class 삭제\\\n",
    "위 코드 실행 후 한 번만 수행"
   ]
  },
  {
   "cell_type": "code",
   "execution_count": 39,
   "id": "aa1644d6",
   "metadata": {},
   "outputs": [
    {
     "data": {
      "text/plain": [
       "FacadeDict({'T_A': Table('T_A', MetaData(), Column('pk', Integer(), table=<T_A>, primary_key=True, nullable=False), Column('name', Text(), table=<T_A>, nullable=False), schema=None)})"
      ]
     },
     "execution_count": 39,
     "metadata": {},
     "output_type": "execute_result"
    }
   ],
   "source": [
    "base.metadata.tables"
   ]
  },
  {
   "cell_type": "code",
   "execution_count": 40,
   "id": "45f70c3c",
   "metadata": {},
   "outputs": [],
   "source": [
    "# ORM Session\n",
    "from sqlalchemy.orm import sessionmaker"
   ]
  },
  {
   "cell_type": "code",
   "execution_count": 42,
   "id": "7ded6402",
   "metadata": {},
   "outputs": [],
   "source": [
    "Session = sessionmaker(engine)\n",
    "session = Session()"
   ]
  },
  {
   "cell_type": "code",
   "execution_count": 43,
   "id": "0328b64a",
   "metadata": {},
   "outputs": [
    {
     "data": {
      "text/plain": [
       "(True, IdentitySet([]))"
      ]
     },
     "execution_count": 43,
     "metadata": {},
     "output_type": "execute_result"
    }
   ],
   "source": [
    "session.is_modified(a), session.dirty"
   ]
  },
  {
   "cell_type": "code",
   "execution_count": 44,
   "id": "d7d473bd",
   "metadata": {},
   "outputs": [],
   "source": [
    "session.add(a)"
   ]
  },
  {
   "cell_type": "code",
   "execution_count": 45,
   "id": "9ac8fa83",
   "metadata": {},
   "outputs": [
    {
     "name": "stdout",
     "output_type": "stream",
     "text": [
      "2023-03-08 10:02:57,505 INFO sqlalchemy.engine.Engine BEGIN (implicit)\n",
      "2023-03-08 10:02:57,508 INFO sqlalchemy.engine.Engine INSERT INTO \"T_A\" (name) VALUES (?)\n",
      "2023-03-08 10:02:57,509 INFO sqlalchemy.engine.Engine [generated in 0.00073s] ('아무나',)\n",
      "2023-03-08 10:02:57,510 INFO sqlalchemy.engine.Engine COMMIT\n"
     ]
    }
   ],
   "source": [
    "session.commit()"
   ]
  },
  {
   "cell_type": "code",
   "execution_count": 46,
   "id": "a9194a0e",
   "metadata": {},
   "outputs": [
    {
     "name": "stdout",
     "output_type": "stream",
     "text": [
      "2023-03-08 10:02:58,403 INFO sqlalchemy.engine.Engine BEGIN (implicit)\n",
      "2023-03-08 10:02:58,409 INFO sqlalchemy.engine.Engine SELECT \"T_A\".pk AS \"T_A_pk\", \"T_A\".name AS \"T_A_name\" \n",
      "FROM \"T_A\" \n",
      "WHERE \"T_A\".pk = ?\n",
      "2023-03-08 10:02:58,409 INFO sqlalchemy.engine.Engine [generated in 0.00079s] (1,)\n"
     ]
    },
    {
     "data": {
      "text/plain": [
       "1"
      ]
     },
     "execution_count": 46,
     "metadata": {},
     "output_type": "execute_result"
    }
   ],
   "source": [
    "a.PK"
   ]
  },
  {
   "cell_type": "code",
   "execution_count": 47,
   "id": "fd2a054d",
   "metadata": {},
   "outputs": [
    {
     "name": "stdout",
     "output_type": "stream",
     "text": [
      "2023-03-08 10:03:00,330 INFO sqlalchemy.engine.Engine SELECT \"T_A\".pk AS \"T_A_pk\", \"T_A\".name AS \"T_A_name\" \n",
      "FROM \"T_A\"\n",
      "2023-03-08 10:03:00,330 INFO sqlalchemy.engine.Engine [generated in 0.00114s] ()\n"
     ]
    }
   ],
   "source": [
    "b = session.query(TableA).one()"
   ]
  },
  {
   "cell_type": "code",
   "execution_count": 48,
   "id": "e15d4444",
   "metadata": {},
   "outputs": [
    {
     "data": {
      "text/plain": [
       "1"
      ]
     },
     "execution_count": 48,
     "metadata": {},
     "output_type": "execute_result"
    }
   ],
   "source": [
    "b.PK # 로그인 회원정보"
   ]
  },
  {
   "cell_type": "code",
   "execution_count": 49,
   "id": "c9b78f78",
   "metadata": {},
   "outputs": [],
   "source": [
    "b.NAME = '??????'"
   ]
  },
  {
   "cell_type": "code",
   "execution_count": 50,
   "id": "84104b27",
   "metadata": {},
   "outputs": [
    {
     "data": {
      "text/plain": [
       "IdentitySet([<__main__.TableA object at 0x0000024BDFB43430>])"
      ]
     },
     "execution_count": 50,
     "metadata": {},
     "output_type": "execute_result"
    }
   ],
   "source": [
    "session.dirty"
   ]
  },
  {
   "cell_type": "code",
   "execution_count": 51,
   "id": "32042374",
   "metadata": {},
   "outputs": [
    {
     "data": {
      "text/plain": [
       "'??????'"
      ]
     },
     "execution_count": 51,
     "metadata": {},
     "output_type": "execute_result"
    }
   ],
   "source": [
    "b.NAME"
   ]
  },
  {
   "cell_type": "code",
   "execution_count": 52,
   "id": "41833b51",
   "metadata": {},
   "outputs": [
    {
     "name": "stdout",
     "output_type": "stream",
     "text": [
      "2023-03-08 10:03:02,852 INFO sqlalchemy.engine.Engine UPDATE \"T_A\" SET name=? WHERE \"T_A\".pk = ?\n",
      "2023-03-08 10:03:02,854 INFO sqlalchemy.engine.Engine [generated in 0.00183s] ('??????', 1)\n",
      "2023-03-08 10:03:02,856 INFO sqlalchemy.engine.Engine COMMIT\n"
     ]
    }
   ],
   "source": [
    "session.commit()"
   ]
  },
  {
   "cell_type": "code",
   "execution_count": 53,
   "id": "3d2fb96d",
   "metadata": {},
   "outputs": [
    {
     "name": "stdout",
     "output_type": "stream",
     "text": [
      "2023-03-08 10:03:03,437 INFO sqlalchemy.engine.Engine BEGIN (implicit)\n",
      "2023-03-08 10:03:03,439 INFO sqlalchemy.engine.Engine SELECT \"T_A\".pk AS \"T_A_pk\", \"T_A\".name AS \"T_A_name\" \n",
      "FROM \"T_A\" \n",
      "WHERE \"T_A\".pk = ?\n",
      "2023-03-08 10:03:03,440 INFO sqlalchemy.engine.Engine [generated in 0.00119s] (1,)\n"
     ]
    },
    {
     "data": {
      "text/plain": [
       "'??????'"
      ]
     },
     "execution_count": 53,
     "metadata": {},
     "output_type": "execute_result"
    }
   ],
   "source": [
    "session.query(TableA).where(TableA.PK == 1).one().NAME"
   ]
  },
  {
   "cell_type": "code",
   "execution_count": 54,
   "id": "5115d2c7",
   "metadata": {},
   "outputs": [
    {
     "name": "stdout",
     "output_type": "stream",
     "text": [
      "2023-03-08 10:03:03,907 INFO sqlalchemy.engine.Engine INSERT INTO \"T_A\" (name) VALUES (?)\n",
      "2023-03-08 10:03:03,908 INFO sqlalchemy.engine.Engine [cached since 6.4s ago] ('2',)\n",
      "2023-03-08 10:03:03,910 INFO sqlalchemy.engine.Engine INSERT INTO \"T_A\" (name) VALUES (?)\n",
      "2023-03-08 10:03:03,910 INFO sqlalchemy.engine.Engine [cached since 6.402s ago] ('3',)\n",
      "2023-03-08 10:03:03,912 INFO sqlalchemy.engine.Engine INSERT INTO \"T_A\" (name) VALUES (?)\n",
      "2023-03-08 10:03:03,912 INFO sqlalchemy.engine.Engine [cached since 6.404s ago] ('4',)\n",
      "2023-03-08 10:03:03,913 INFO sqlalchemy.engine.Engine COMMIT\n"
     ]
    }
   ],
   "source": [
    "session.add_all([TableA(NAME='2'), TableA(NAME='3'), TableA(NAME='4')])\n",
    "session.commit()"
   ]
  },
  {
   "cell_type": "code",
   "execution_count": 57,
   "id": "a0cf451a",
   "metadata": {},
   "outputs": [
    {
     "name": "stdout",
     "output_type": "stream",
     "text": [
      "2023-03-08 10:03:09,064 INFO sqlalchemy.engine.Engine BEGIN (implicit)\n",
      "2023-03-08 10:03:09,072 INFO sqlalchemy.engine.Engine SELECT \"T_A\".pk AS \"T_A_pk\", \"T_A\".name AS \"T_A_name\" \n",
      "FROM \"T_A\"\n",
      "2023-03-08 10:03:09,073 INFO sqlalchemy.engine.Engine [cached since 8.741s ago] ()\n"
     ]
    }
   ],
   "source": [
    "inst = session.query(TableA).all()"
   ]
  },
  {
   "cell_type": "code",
   "execution_count": 58,
   "id": "97e56bde",
   "metadata": {},
   "outputs": [
    {
     "data": {
      "text/plain": [
       "(True, True, False)"
      ]
     },
     "execution_count": 58,
     "metadata": {},
     "output_type": "execute_result"
    }
   ],
   "source": [
    "a is b, b is inst[0], a is inst[2]"
   ]
  },
  {
   "cell_type": "code",
   "execution_count": 59,
   "id": "8707b460",
   "metadata": {},
   "outputs": [
    {
     "data": {
      "text/plain": [
       "(1, 2, 3)"
      ]
     },
     "execution_count": 59,
     "metadata": {},
     "output_type": "execute_result"
    }
   ],
   "source": [
    "inst[0].PK, inst[1].PK, inst[2].PK"
   ]
  },
  {
   "cell_type": "code",
   "execution_count": 60,
   "id": "67240ed9",
   "metadata": {},
   "outputs": [
    {
     "name": "stdout",
     "output_type": "stream",
     "text": [
      "2023-03-08 10:03:10,615 INFO sqlalchemy.engine.Engine DELETE FROM \"T_A\" WHERE \"T_A\".pk = ?\n",
      "2023-03-08 10:03:10,617 INFO sqlalchemy.engine.Engine [generated in 0.00196s] (1,)\n",
      "2023-03-08 10:03:10,619 INFO sqlalchemy.engine.Engine COMMIT\n"
     ]
    }
   ],
   "source": [
    "session.delete(a)\n",
    "session.commit()"
   ]
  },
  {
   "cell_type": "code",
   "execution_count": 61,
   "id": "b46c0fc4",
   "metadata": {},
   "outputs": [
    {
     "data": {
      "text/plain": [
       "1"
      ]
     },
     "execution_count": 61,
     "metadata": {},
     "output_type": "execute_result"
    }
   ],
   "source": [
    "# delete했으나 메모리상에 존재한다 아직\n",
    "a.PK"
   ]
  },
  {
   "cell_type": "code",
   "execution_count": 62,
   "id": "7d435bfc",
   "metadata": {},
   "outputs": [
    {
     "data": {
      "text/plain": [
       "IdentitySet([])"
      ]
     },
     "execution_count": 62,
     "metadata": {},
     "output_type": "execute_result"
    }
   ],
   "source": [
    "session.dirty"
   ]
  },
  {
   "cell_type": "code",
   "execution_count": 63,
   "id": "4a92196a",
   "metadata": {},
   "outputs": [
    {
     "data": {
      "text/plain": [
       "False"
      ]
     },
     "execution_count": 63,
     "metadata": {},
     "output_type": "execute_result"
    }
   ],
   "source": [
    "session.is_modified(a)\n",
    "# 객체가 수정됐는지 (in memory -< Class의 인스턴스 ; 물리적 DB와 상관없다.)"
   ]
  },
  {
   "cell_type": "code",
   "execution_count": 64,
   "id": "e25dc6ba",
   "metadata": {},
   "outputs": [],
   "source": [
    "a.NAME = 'dd'"
   ]
  },
  {
   "cell_type": "code",
   "execution_count": 65,
   "id": "595663a5",
   "metadata": {},
   "outputs": [
    {
     "data": {
      "text/plain": [
       "True"
      ]
     },
     "execution_count": 65,
     "metadata": {},
     "output_type": "execute_result"
    }
   ],
   "source": [
    "# instance가 수정되었는지 보는 것\n",
    "session.is_modified(a)"
   ]
  },
  {
   "cell_type": "code",
   "execution_count": 66,
   "id": "e6d83c24",
   "metadata": {},
   "outputs": [
    {
     "data": {
      "text/plain": [
       "IdentitySet([])"
      ]
     },
     "execution_count": 66,
     "metadata": {},
     "output_type": "execute_result"
    }
   ],
   "source": [
    "# 아무것도 안 나온다.\n",
    "# 세션은 데이터랑 인스턴스를 매핑하는 걸 관리해주는데 날려서 핸들링할 값이 없기 때문이다.\n",
    "# \n",
    "session.dirty\n",
    "# database와 mapped 인스턴스 사이의 변화가 있는지를 알려주는 값\n",
    "# a를 지웠기 때문에 세션에서 관리할 값이 없다.\n",
    "# 하지만 instance는 살아있기 때문에 modified에는 값이 변화됐다고 나온다."
   ]
  },
  {
   "cell_type": "code",
   "execution_count": 67,
   "id": "47f075e2",
   "metadata": {},
   "outputs": [],
   "source": [
    "session.commit()"
   ]
  },
  {
   "cell_type": "code",
   "execution_count": 68,
   "id": "0aa09110",
   "metadata": {},
   "outputs": [
    {
     "data": {
      "text/plain": [
       "list"
      ]
     },
     "execution_count": 68,
     "metadata": {},
     "output_type": "execute_result"
    }
   ],
   "source": [
    "type(inst)"
   ]
  },
  {
   "cell_type": "code",
   "execution_count": 69,
   "id": "cba39eb5",
   "metadata": {},
   "outputs": [
    {
     "data": {
      "text/plain": [
       "4"
      ]
     },
     "execution_count": 69,
     "metadata": {},
     "output_type": "execute_result"
    }
   ],
   "source": [
    "len(inst)"
   ]
  },
  {
   "cell_type": "code",
   "execution_count": 70,
   "id": "4e4b219e",
   "metadata": {},
   "outputs": [
    {
     "data": {
      "text/plain": [
       "(<__main__.TableA at 0x24bdfb43430>, 3)"
      ]
     },
     "execution_count": 70,
     "metadata": {},
     "output_type": "execute_result"
    }
   ],
   "source": [
    "inst.pop(0), len(inst)\n",
    "# a 객체를 memory에서 삭제한 것이다."
   ]
  },
  {
   "cell_type": "markdown",
   "id": "2ae7b5c7",
   "metadata": {},
   "source": [
    "# pending\n",
    "add나 add_all 하면 바로 적용 안 된다.\\\n",
    "commit을 해야 db에 반영이된다."
   ]
  },
  {
   "cell_type": "code",
   "execution_count": null,
   "id": "30de445d",
   "metadata": {},
   "outputs": [],
   "source": [
    "# 그래서 이런 식으로 코드를 짜기도 한다.\n",
    "try:\n",
    "    session.begin()\n",
    "    session 작업들 ..\n",
    "    session.commit()\n",
    "except:\n",
    "    session.rollback()"
   ]
  },
  {
   "cell_type": "code",
   "execution_count": 71,
   "id": "fc3c4897",
   "metadata": {},
   "outputs": [],
   "source": [
    "session.close()\n",
    "engine.dispose()\n",
    "base.metadata.clear()"
   ]
  },
  {
   "cell_type": "code",
   "execution_count": 72,
   "id": "0c4ad01b",
   "metadata": {},
   "outputs": [
    {
     "data": {
      "text/plain": [
       "FacadeDict({})"
      ]
     },
     "execution_count": 72,
     "metadata": {},
     "output_type": "execute_result"
    }
   ],
   "source": [
    "base.metadata.tables"
   ]
  },
  {
   "cell_type": "markdown",
   "id": "350ad1a9",
   "metadata": {},
   "source": [
    "# 실습\n",
    "Playlist (ORM 버전)"
   ]
  },
  {
   "cell_type": "code",
   "execution_count": 126,
   "id": "e7e649d5",
   "metadata": {},
   "outputs": [],
   "source": [
    "session.close()\n",
    "engine.dispose()\n",
    "base.metadata.clear()\n",
    "base.registry.dispose()"
   ]
  },
  {
   "cell_type": "code",
   "execution_count": null,
   "id": "bf038c38",
   "metadata": {},
   "outputs": [],
   "source": [
    "in - memory                                         DBMS(SQLite)\n",
    "                session(instance-data)\n",
    "1. base 상속받은 Class 선언\n",
    "2. base.metadata.tables (...)\n",
    "3. base.create_all()           -------------->     Table 생성 (SQL X, Core알아서)\n",
    "4. session.bind = engine (객체-data)\n",
    "5. Class로부터 instance 생성\n",
    "6. session.add(instance) : pending\n",
    "7.                                                   session.commit()  (INSERT)\n",
    "instance"
   ]
  },
  {
   "cell_type": "code",
   "execution_count": 127,
   "id": "c54ad9b0",
   "metadata": {},
   "outputs": [],
   "source": [
    "class Artist(base):\n",
    "    __tablename__ = \"Artist\"\n",
    "    \n",
    "    id = Column(Integer, primary_key=True)\n",
    "    name = Column(String)\n",
    "\n",
    "class Album(base):\n",
    "    __tablename__ = \"Album\"\n",
    "    \n",
    "    id = Column(Integer, primary_key=True)\n",
    "    title = Column(String)\n",
    "    artist_id = Column(Integer, ForeignKey(\"Artist.id\"))\n",
    "    \n",
    "class Genre(base):\n",
    "    __tablename__ = \"Genre\"\n",
    "    \n",
    "    id = Column(Integer, primary_key=True)\n",
    "    name = Column(String)\n",
    "    \n",
    "class Track(base):\n",
    "    __tablename__ = \"Track\"\n",
    "    \n",
    "    id = Column(Integer, primary_key=True)\n",
    "    title = Column(String)\n",
    "    length = Column(Integer)\n",
    "    rating = Column(Integer)\n",
    "    count = Column(Integer)\n",
    "    album_id = Column(Integer, ForeignKey(\"Album.id\"))\n",
    "    genre_id = Column(Integer, ForeignKey(\"Genre.id\"))"
   ]
  },
  {
   "cell_type": "code",
   "execution_count": 129,
   "id": "c2b462bc",
   "metadata": {
    "collapsed": true
   },
   "outputs": [
    {
     "name": "stdout",
     "output_type": "stream",
     "text": [
      "2023-03-08 12:17:49,378 INFO sqlalchemy.engine.Engine BEGIN (implicit)\n",
      "2023-03-08 12:17:49,386 INFO sqlalchemy.engine.Engine PRAGMA main.table_info(\"Artist\")\n",
      "2023-03-08 12:17:49,386 INFO sqlalchemy.engine.Engine [raw sql] ()\n",
      "2023-03-08 12:17:49,386 INFO sqlalchemy.engine.Engine PRAGMA temp.table_info(\"Artist\")\n",
      "2023-03-08 12:17:49,386 INFO sqlalchemy.engine.Engine [raw sql] ()\n",
      "2023-03-08 12:17:49,386 INFO sqlalchemy.engine.Engine PRAGMA main.table_info(\"Album\")\n",
      "2023-03-08 12:17:49,394 INFO sqlalchemy.engine.Engine [raw sql] ()\n",
      "2023-03-08 12:17:49,394 INFO sqlalchemy.engine.Engine PRAGMA temp.table_info(\"Album\")\n",
      "2023-03-08 12:17:49,394 INFO sqlalchemy.engine.Engine [raw sql] ()\n",
      "2023-03-08 12:17:49,396 INFO sqlalchemy.engine.Engine PRAGMA main.table_info(\"Genre\")\n",
      "2023-03-08 12:17:49,397 INFO sqlalchemy.engine.Engine [raw sql] ()\n",
      "2023-03-08 12:17:49,399 INFO sqlalchemy.engine.Engine PRAGMA temp.table_info(\"Genre\")\n",
      "2023-03-08 12:17:49,399 INFO sqlalchemy.engine.Engine [raw sql] ()\n",
      "2023-03-08 12:17:49,402 INFO sqlalchemy.engine.Engine PRAGMA main.table_info(\"Track\")\n",
      "2023-03-08 12:17:49,403 INFO sqlalchemy.engine.Engine [raw sql] ()\n",
      "2023-03-08 12:17:49,403 INFO sqlalchemy.engine.Engine PRAGMA temp.table_info(\"Track\")\n",
      "2023-03-08 12:17:49,403 INFO sqlalchemy.engine.Engine [raw sql] ()\n",
      "2023-03-08 12:17:49,407 INFO sqlalchemy.engine.Engine \n",
      "CREATE TABLE \"Artist\" (\n",
      "\tid INTEGER NOT NULL, \n",
      "\tname VARCHAR, \n",
      "\tPRIMARY KEY (id)\n",
      ")\n",
      "\n",
      "\n",
      "2023-03-08 12:17:49,407 INFO sqlalchemy.engine.Engine [no key 0.00085s] ()\n",
      "2023-03-08 12:17:49,409 INFO sqlalchemy.engine.Engine \n",
      "CREATE TABLE \"Genre\" (\n",
      "\tid INTEGER NOT NULL, \n",
      "\tname VARCHAR, \n",
      "\tPRIMARY KEY (id)\n",
      ")\n",
      "\n",
      "\n",
      "2023-03-08 12:17:49,410 INFO sqlalchemy.engine.Engine [no key 0.00087s] ()\n",
      "2023-03-08 12:17:49,411 INFO sqlalchemy.engine.Engine \n",
      "CREATE TABLE \"Album\" (\n",
      "\tid INTEGER NOT NULL, \n",
      "\ttitle VARCHAR, \n",
      "\tartist_id INTEGER, \n",
      "\tPRIMARY KEY (id), \n",
      "\tFOREIGN KEY(artist_id) REFERENCES \"Artist\" (id)\n",
      ")\n",
      "\n",
      "\n",
      "2023-03-08 12:17:49,411 INFO sqlalchemy.engine.Engine [no key 0.00087s] ()\n",
      "2023-03-08 12:17:49,415 INFO sqlalchemy.engine.Engine \n",
      "CREATE TABLE \"Track\" (\n",
      "\tid INTEGER NOT NULL, \n",
      "\ttitle VARCHAR, \n",
      "\tlength INTEGER, \n",
      "\trating INTEGER, \n",
      "\tcount INTEGER, \n",
      "\talbum_id INTEGER, \n",
      "\tgenre_id INTEGER, \n",
      "\tPRIMARY KEY (id), \n",
      "\tFOREIGN KEY(album_id) REFERENCES \"Album\" (id), \n",
      "\tFOREIGN KEY(genre_id) REFERENCES \"Genre\" (id)\n",
      ")\n",
      "\n",
      "\n",
      "2023-03-08 12:17:49,415 INFO sqlalchemy.engine.Engine [no key 0.00061s] ()\n",
      "2023-03-08 12:17:49,415 INFO sqlalchemy.engine.Engine COMMIT\n"
     ]
    }
   ],
   "source": [
    "base.metadata.create_all(engine)"
   ]
  },
  {
   "cell_type": "code",
   "execution_count": 131,
   "id": "2634cac4",
   "metadata": {},
   "outputs": [
    {
     "name": "stderr",
     "output_type": "stream",
     "text": [
      "C:\\Users\\dlel2\\AppData\\Local\\Temp/ipykernel_23544/1760783211.py:1: SAWarning: Session's state has been changed on a non-active transaction - this state will be discarded.\n",
      "  session.rollback()\n"
     ]
    }
   ],
   "source": [
    "# session.rollback()"
   ]
  },
  {
   "cell_type": "code",
   "execution_count": 134,
   "id": "dc77a9c8",
   "metadata": {
    "collapsed": true
   },
   "outputs": [
    {
     "name": "stdout",
     "output_type": "stream",
     "text": [
      "2023-03-08 12:24:45,116 INFO sqlalchemy.engine.Engine INSERT INTO \"Artist\" (name) VALUES (?)\n",
      "2023-03-08 12:24:45,118 INFO sqlalchemy.engine.Engine [cached since 511.4s ago] ('Led Zepplin',)\n",
      "2023-03-08 12:24:45,120 INFO sqlalchemy.engine.Engine INSERT INTO \"Artist\" (name) VALUES (?)\n",
      "2023-03-08 12:24:45,121 INFO sqlalchemy.engine.Engine [cached since 511.4s ago] ('AC/DC',)\n",
      "2023-03-08 12:24:45,122 INFO sqlalchemy.engine.Engine COMMIT\n",
      "2023-03-08 12:24:45,124 INFO sqlalchemy.engine.Engine BEGIN (implicit)\n",
      "2023-03-08 12:24:45,125 INFO sqlalchemy.engine.Engine SELECT \"Artist\".id AS \"Artist_id\", \"Artist\".name AS \"Artist_name\" \n",
      "FROM \"Artist\" \n",
      "WHERE \"Artist\".id = ?\n",
      "2023-03-08 12:24:45,126 INFO sqlalchemy.engine.Engine [cached since 371.7s ago] (5,)\n",
      "2023-03-08 12:24:45,128 INFO sqlalchemy.engine.Engine SELECT \"Artist\".id AS \"Artist_id\", \"Artist\".name AS \"Artist_name\" \n",
      "FROM \"Artist\" \n",
      "WHERE \"Artist\".id = ?\n",
      "2023-03-08 12:24:45,129 INFO sqlalchemy.engine.Engine [cached since 371.7s ago] (6,)\n",
      "2023-03-08 12:24:45,131 INFO sqlalchemy.engine.Engine INSERT INTO \"Album\" (title, artist_id) VALUES (?, ?)\n",
      "2023-03-08 12:24:45,131 INFO sqlalchemy.engine.Engine [cached since 371.7s ago] ('IV', 5)\n",
      "2023-03-08 12:24:45,134 INFO sqlalchemy.engine.Engine INSERT INTO \"Album\" (title, artist_id) VALUES (?, ?)\n",
      "2023-03-08 12:24:45,135 INFO sqlalchemy.engine.Engine [cached since 371.7s ago] ('Who Made Who', 6)\n",
      "2023-03-08 12:24:45,137 INFO sqlalchemy.engine.Engine COMMIT\n",
      "2023-03-08 12:24:45,139 INFO sqlalchemy.engine.Engine BEGIN (implicit)\n",
      "2023-03-08 12:24:45,140 INFO sqlalchemy.engine.Engine INSERT INTO \"Genre\" (name) VALUES (?)\n",
      "2023-03-08 12:24:45,141 INFO sqlalchemy.engine.Engine [cached since 24.32s ago] ('Rock',)\n",
      "2023-03-08 12:24:45,143 INFO sqlalchemy.engine.Engine INSERT INTO \"Genre\" (name) VALUES (?)\n",
      "2023-03-08 12:24:45,143 INFO sqlalchemy.engine.Engine [cached since 24.32s ago] ('Metal',)\n",
      "2023-03-08 12:24:45,144 INFO sqlalchemy.engine.Engine COMMIT\n",
      "2023-03-08 12:24:45,145 INFO sqlalchemy.engine.Engine BEGIN (implicit)\n",
      "2023-03-08 12:24:45,147 INFO sqlalchemy.engine.Engine SELECT \"Artist\".id AS \"Artist_id\", \"Artist\".name AS \"Artist_name\" \n",
      "FROM \"Artist\" \n",
      "WHERE \"Artist\".id = ?\n",
      "2023-03-08 12:24:45,148 INFO sqlalchemy.engine.Engine [cached since 371.8s ago] (5,)\n",
      "2023-03-08 12:24:45,149 INFO sqlalchemy.engine.Engine SELECT \"Album\".id AS \"Album_id\", \"Album\".title AS \"Album_title\", \"Album\".artist_id AS \"Album_artist_id\" \n",
      "FROM \"Album\" \n",
      "WHERE \"Album\".artist_id = ?\n",
      "2023-03-08 12:24:45,150 INFO sqlalchemy.engine.Engine [cached since 371.7s ago] (5,)\n",
      "2023-03-08 12:24:45,151 INFO sqlalchemy.engine.Engine SELECT \"Artist\".id AS \"Artist_id\", \"Artist\".name AS \"Artist_name\" \n",
      "FROM \"Artist\" \n",
      "WHERE \"Artist\".id = ?\n",
      "2023-03-08 12:24:45,152 INFO sqlalchemy.engine.Engine [cached since 371.8s ago] (6,)\n",
      "2023-03-08 12:24:45,153 INFO sqlalchemy.engine.Engine SELECT \"Album\".id AS \"Album_id\", \"Album\".title AS \"Album_title\", \"Album\".artist_id AS \"Album_artist_id\" \n",
      "FROM \"Album\" \n",
      "WHERE \"Album\".artist_id = ?\n",
      "2023-03-08 12:24:45,154 INFO sqlalchemy.engine.Engine [cached since 371.7s ago] (6,)\n",
      "2023-03-08 12:24:45,155 INFO sqlalchemy.engine.Engine SELECT \"Genre\".id AS \"Genre_id\", \"Genre\".name AS \"Genre_name\" \n",
      "FROM \"Genre\" \n",
      "WHERE \"Genre\".name = ? AND \"Genre\".id = ?\n",
      "2023-03-08 12:24:45,155 INFO sqlalchemy.engine.Engine [cached since 371.7s ago] ('Rock', 1)\n",
      "2023-03-08 12:24:45,157 INFO sqlalchemy.engine.Engine SELECT \"Genre\".id AS \"Genre_id\", \"Genre\".name AS \"Genre_name\" \n",
      "FROM \"Genre\" \n",
      "WHERE \"Genre\".name = ? AND \"Genre\".id = ?\n",
      "2023-03-08 12:24:45,160 INFO sqlalchemy.engine.Engine [cached since 371.7s ago] ('Metal', 2)\n",
      "2023-03-08 12:24:45,162 INFO sqlalchemy.engine.Engine INSERT INTO \"Track\" (title, length, rating, count, album_id, genre_id) VALUES (?, ?, ?, ?, ?, ?)\n",
      "2023-03-08 12:24:45,163 INFO sqlalchemy.engine.Engine [generated in 0.00092s] ('Black Dog', 297, 5, 0, 5, 1)\n",
      "2023-03-08 12:24:45,165 INFO sqlalchemy.engine.Engine INSERT INTO \"Track\" (title, length, rating, count, album_id, genre_id) VALUES (?, ?, ?, ?, ?, ?)\n",
      "2023-03-08 12:24:45,166 INFO sqlalchemy.engine.Engine [cached since 0.003336s ago] ('Stairway', 482, 5, 0, 5, 2)\n",
      "2023-03-08 12:24:45,167 INFO sqlalchemy.engine.Engine INSERT INTO \"Track\" (title, length, rating, count, album_id, genre_id) VALUES (?, ?, ?, ?, ?, ?)\n",
      "2023-03-08 12:24:45,168 INFO sqlalchemy.engine.Engine [cached since 0.005283s ago] ('About to rock', 313, 5, 0, 6, 1)\n",
      "2023-03-08 12:24:45,169 INFO sqlalchemy.engine.Engine INSERT INTO \"Track\" (title, length, rating, count, album_id, genre_id) VALUES (?, ?, ?, ?, ?, ?)\n",
      "2023-03-08 12:24:45,169 INFO sqlalchemy.engine.Engine [cached since 0.006557s ago] ('Who Made Who', 297, 5, 0, 6, 2)\n",
      "2023-03-08 12:24:45,170 INFO sqlalchemy.engine.Engine COMMIT\n"
     ]
    }
   ],
   "source": [
    "artist1 = Artist(name=\"Led Zepplin\")\n",
    "artist2 = Artist(name=\"AC/DC\")\n",
    "\n",
    "session.add_all([artist1, artist2])\n",
    "session.commit()\n",
    "\n",
    "album = [Album(title=\"IV\", artist_id=artist1.id),\n",
    "        Album(title=\"Who Made Who\", artist_id=artist2.id)]\n",
    "\n",
    "session.add_all(album)\n",
    "session.commit()\n",
    "\n",
    "session.add_all([Genre(name=\"Rock\"), Genre(name=\"Metal\")])\n",
    "session.commit()\n",
    "\n",
    "album1 = session.query(Album).filter(Album.artist_id==artist1.id).one()\n",
    "album2 = session.query(Album).filter(Album.artist_id==artist2.id).one()\n",
    "\n",
    "genre1 = session.query(Genre).filter(Genre.name==\"Rock\").filter(Genre.id==1).one()\n",
    "genre2 = session.query(Genre).filter(Genre.name==\"Metal\").filter(Genre.id==2).one()\n",
    "\n",
    "track = [Track(title=\"Black Dog\", rating=5, length=297, count=0, album_id=album1.id, genre_id=genre1.id),\n",
    "         Track(title=\"Stairway\", rating=5, length=482, count=0, album_id=album1.id, genre_id=genre2.id),\n",
    "         Track(title=\"About to rock\", rating=5, length=313, count=0, album_id=album2.id, genre_id=genre1.id),\n",
    "         Track(title=\"Who Made Who\", rating=5, length=297, count=0, album_id=album2.id, genre_id=genre2.id)]\n",
    "\n",
    "session.add_all(track)\n",
    "session.commit()"
   ]
  },
  {
   "cell_type": "markdown",
   "id": "d5fb4b65",
   "metadata": {},
   "source": [
    "# 다시 수업"
   ]
  },
  {
   "cell_type": "code",
   "execution_count": 135,
   "id": "29dea44c",
   "metadata": {},
   "outputs": [],
   "source": [
    "session.close()\n",
    "engine.dispose()\n",
    "base.metadata.clear()\n",
    "base.registry.dispose()"
   ]
  },
  {
   "cell_type": "code",
   "execution_count": 136,
   "id": "2dd9e85a",
   "metadata": {},
   "outputs": [],
   "source": [
    "engine = create_engine('sqlite:///playlist.db', echo=True)"
   ]
  },
  {
   "cell_type": "code",
   "execution_count": 137,
   "id": "f6aa84d3",
   "metadata": {
    "collapsed": true
   },
   "outputs": [
    {
     "name": "stdout",
     "output_type": "stream",
     "text": [
      "2023-03-08 12:24:56,577 INFO sqlalchemy.engine.Engine SELECT name FROM sqlite_master WHERE type='table' ORDER BY name\n",
      "2023-03-08 12:24:56,577 INFO sqlalchemy.engine.Engine [raw sql] ()\n",
      "2023-03-08 12:24:56,580 INFO sqlalchemy.engine.Engine PRAGMA main.table_xinfo(\"album\")\n",
      "2023-03-08 12:24:56,581 INFO sqlalchemy.engine.Engine [raw sql] ()\n",
      "2023-03-08 12:24:56,583 INFO sqlalchemy.engine.Engine SELECT sql FROM  (SELECT * FROM sqlite_master UNION ALL   SELECT * FROM sqlite_temp_master) WHERE name = ? AND type = 'table'\n",
      "2023-03-08 12:24:56,584 INFO sqlalchemy.engine.Engine [raw sql] ('album',)\n",
      "2023-03-08 12:24:56,586 INFO sqlalchemy.engine.Engine PRAGMA main.foreign_key_list(\"album\")\n",
      "2023-03-08 12:24:56,586 INFO sqlalchemy.engine.Engine [raw sql] ()\n",
      "2023-03-08 12:24:56,588 INFO sqlalchemy.engine.Engine PRAGMA temp.foreign_key_list(\"album\")\n",
      "2023-03-08 12:24:56,588 INFO sqlalchemy.engine.Engine [raw sql] ()\n",
      "2023-03-08 12:24:56,590 INFO sqlalchemy.engine.Engine SELECT sql FROM  (SELECT * FROM sqlite_master UNION ALL   SELECT * FROM sqlite_temp_master) WHERE name = ? AND type = 'table'\n",
      "2023-03-08 12:24:56,591 INFO sqlalchemy.engine.Engine [raw sql] ('album',)\n",
      "2023-03-08 12:24:56,592 INFO sqlalchemy.engine.Engine PRAGMA main.index_list(\"album\")\n",
      "2023-03-08 12:24:56,592 INFO sqlalchemy.engine.Engine [raw sql] ()\n",
      "2023-03-08 12:24:56,595 INFO sqlalchemy.engine.Engine PRAGMA temp.index_list(\"album\")\n",
      "2023-03-08 12:24:56,595 INFO sqlalchemy.engine.Engine [raw sql] ()\n",
      "2023-03-08 12:24:56,597 INFO sqlalchemy.engine.Engine PRAGMA main.index_list(\"album\")\n",
      "2023-03-08 12:24:56,597 INFO sqlalchemy.engine.Engine [raw sql] ()\n",
      "2023-03-08 12:24:56,598 INFO sqlalchemy.engine.Engine PRAGMA temp.index_list(\"album\")\n",
      "2023-03-08 12:24:56,599 INFO sqlalchemy.engine.Engine [raw sql] ()\n",
      "2023-03-08 12:24:56,600 INFO sqlalchemy.engine.Engine SELECT sql FROM  (SELECT * FROM sqlite_master UNION ALL   SELECT * FROM sqlite_temp_master) WHERE name = ? AND type = 'table'\n",
      "2023-03-08 12:24:56,600 INFO sqlalchemy.engine.Engine [raw sql] ('album',)\n",
      "2023-03-08 12:24:56,602 INFO sqlalchemy.engine.Engine PRAGMA main.table_xinfo(\"artist\")\n",
      "2023-03-08 12:24:56,604 INFO sqlalchemy.engine.Engine [raw sql] ()\n",
      "2023-03-08 12:24:56,606 INFO sqlalchemy.engine.Engine SELECT sql FROM  (SELECT * FROM sqlite_master UNION ALL   SELECT * FROM sqlite_temp_master) WHERE name = ? AND type = 'table'\n",
      "2023-03-08 12:24:56,607 INFO sqlalchemy.engine.Engine [raw sql] ('artist',)\n",
      "2023-03-08 12:24:56,609 INFO sqlalchemy.engine.Engine PRAGMA main.foreign_key_list(\"artist\")\n",
      "2023-03-08 12:24:56,610 INFO sqlalchemy.engine.Engine [raw sql] ()\n",
      "2023-03-08 12:24:56,611 INFO sqlalchemy.engine.Engine PRAGMA temp.foreign_key_list(\"artist\")\n",
      "2023-03-08 12:24:56,612 INFO sqlalchemy.engine.Engine [raw sql] ()\n",
      "2023-03-08 12:24:56,612 INFO sqlalchemy.engine.Engine SELECT sql FROM  (SELECT * FROM sqlite_master UNION ALL   SELECT * FROM sqlite_temp_master) WHERE name = ? AND type = 'table'\n",
      "2023-03-08 12:24:56,613 INFO sqlalchemy.engine.Engine [raw sql] ('artist',)\n",
      "2023-03-08 12:24:56,615 INFO sqlalchemy.engine.Engine PRAGMA main.index_list(\"artist\")\n",
      "2023-03-08 12:24:56,616 INFO sqlalchemy.engine.Engine [raw sql] ()\n",
      "2023-03-08 12:24:56,617 INFO sqlalchemy.engine.Engine PRAGMA temp.index_list(\"artist\")\n",
      "2023-03-08 12:24:56,618 INFO sqlalchemy.engine.Engine [raw sql] ()\n",
      "2023-03-08 12:24:56,620 INFO sqlalchemy.engine.Engine PRAGMA main.index_list(\"artist\")\n",
      "2023-03-08 12:24:56,620 INFO sqlalchemy.engine.Engine [raw sql] ()\n",
      "2023-03-08 12:24:56,622 INFO sqlalchemy.engine.Engine PRAGMA temp.index_list(\"artist\")\n",
      "2023-03-08 12:24:56,622 INFO sqlalchemy.engine.Engine [raw sql] ()\n",
      "2023-03-08 12:24:56,623 INFO sqlalchemy.engine.Engine SELECT sql FROM  (SELECT * FROM sqlite_master UNION ALL   SELECT * FROM sqlite_temp_master) WHERE name = ? AND type = 'table'\n",
      "2023-03-08 12:24:56,624 INFO sqlalchemy.engine.Engine [raw sql] ('artist',)\n",
      "2023-03-08 12:24:56,626 INFO sqlalchemy.engine.Engine PRAGMA main.table_xinfo(\"genre\")\n",
      "2023-03-08 12:24:56,627 INFO sqlalchemy.engine.Engine [raw sql] ()\n",
      "2023-03-08 12:24:56,629 INFO sqlalchemy.engine.Engine SELECT sql FROM  (SELECT * FROM sqlite_master UNION ALL   SELECT * FROM sqlite_temp_master) WHERE name = ? AND type = 'table'\n",
      "2023-03-08 12:24:56,629 INFO sqlalchemy.engine.Engine [raw sql] ('genre',)\n",
      "2023-03-08 12:24:56,632 INFO sqlalchemy.engine.Engine PRAGMA main.foreign_key_list(\"genre\")\n",
      "2023-03-08 12:24:56,632 INFO sqlalchemy.engine.Engine [raw sql] ()\n",
      "2023-03-08 12:24:56,634 INFO sqlalchemy.engine.Engine PRAGMA temp.foreign_key_list(\"genre\")\n",
      "2023-03-08 12:24:56,634 INFO sqlalchemy.engine.Engine [raw sql] ()\n",
      "2023-03-08 12:24:56,635 INFO sqlalchemy.engine.Engine SELECT sql FROM  (SELECT * FROM sqlite_master UNION ALL   SELECT * FROM sqlite_temp_master) WHERE name = ? AND type = 'table'\n",
      "2023-03-08 12:24:56,636 INFO sqlalchemy.engine.Engine [raw sql] ('genre',)\n",
      "2023-03-08 12:24:56,637 INFO sqlalchemy.engine.Engine PRAGMA main.index_list(\"genre\")\n",
      "2023-03-08 12:24:56,637 INFO sqlalchemy.engine.Engine [raw sql] ()\n",
      "2023-03-08 12:24:56,638 INFO sqlalchemy.engine.Engine PRAGMA temp.index_list(\"genre\")\n",
      "2023-03-08 12:24:56,638 INFO sqlalchemy.engine.Engine [raw sql] ()\n",
      "2023-03-08 12:24:56,639 INFO sqlalchemy.engine.Engine PRAGMA main.index_list(\"genre\")\n",
      "2023-03-08 12:24:56,640 INFO sqlalchemy.engine.Engine [raw sql] ()\n",
      "2023-03-08 12:24:56,643 INFO sqlalchemy.engine.Engine PRAGMA temp.index_list(\"genre\")\n",
      "2023-03-08 12:24:56,658 INFO sqlalchemy.engine.Engine [raw sql] ()\n",
      "2023-03-08 12:24:56,661 INFO sqlalchemy.engine.Engine SELECT sql FROM  (SELECT * FROM sqlite_master UNION ALL   SELECT * FROM sqlite_temp_master) WHERE name = ? AND type = 'table'\n",
      "2023-03-08 12:24:56,662 INFO sqlalchemy.engine.Engine [raw sql] ('genre',)\n",
      "2023-03-08 12:24:56,662 INFO sqlalchemy.engine.Engine PRAGMA main.table_xinfo(\"track\")\n",
      "2023-03-08 12:24:56,662 INFO sqlalchemy.engine.Engine [raw sql] ()\n",
      "2023-03-08 12:24:56,662 INFO sqlalchemy.engine.Engine SELECT sql FROM  (SELECT * FROM sqlite_master UNION ALL   SELECT * FROM sqlite_temp_master) WHERE name = ? AND type = 'table'\n",
      "2023-03-08 12:24:56,662 INFO sqlalchemy.engine.Engine [raw sql] ('track',)\n",
      "2023-03-08 12:24:56,662 INFO sqlalchemy.engine.Engine PRAGMA main.foreign_key_list(\"track\")\n",
      "2023-03-08 12:24:56,662 INFO sqlalchemy.engine.Engine [raw sql] ()\n",
      "2023-03-08 12:24:56,675 INFO sqlalchemy.engine.Engine PRAGMA temp.foreign_key_list(\"track\")\n",
      "2023-03-08 12:24:56,676 INFO sqlalchemy.engine.Engine [raw sql] ()\n",
      "2023-03-08 12:24:56,676 INFO sqlalchemy.engine.Engine SELECT sql FROM  (SELECT * FROM sqlite_master UNION ALL   SELECT * FROM sqlite_temp_master) WHERE name = ? AND type = 'table'\n",
      "2023-03-08 12:24:56,677 INFO sqlalchemy.engine.Engine [raw sql] ('track',)\n",
      "2023-03-08 12:24:56,679 INFO sqlalchemy.engine.Engine PRAGMA main.index_list(\"track\")\n",
      "2023-03-08 12:24:56,680 INFO sqlalchemy.engine.Engine [raw sql] ()\n",
      "2023-03-08 12:24:56,681 INFO sqlalchemy.engine.Engine PRAGMA temp.index_list(\"track\")\n",
      "2023-03-08 12:24:56,682 INFO sqlalchemy.engine.Engine [raw sql] ()\n",
      "2023-03-08 12:24:56,683 INFO sqlalchemy.engine.Engine PRAGMA main.index_list(\"track\")\n",
      "2023-03-08 12:24:56,683 INFO sqlalchemy.engine.Engine [raw sql] ()\n",
      "2023-03-08 12:24:56,685 INFO sqlalchemy.engine.Engine PRAGMA temp.index_list(\"track\")\n",
      "2023-03-08 12:24:56,686 INFO sqlalchemy.engine.Engine [raw sql] ()\n",
      "2023-03-08 12:24:56,687 INFO sqlalchemy.engine.Engine SELECT sql FROM  (SELECT * FROM sqlite_master UNION ALL   SELECT * FROM sqlite_temp_master) WHERE name = ? AND type = 'table'\n",
      "2023-03-08 12:24:56,687 INFO sqlalchemy.engine.Engine [raw sql] ('track',)\n"
     ]
    }
   ],
   "source": [
    "# \n",
    "base.metadata.reflect(engine)"
   ]
  },
  {
   "cell_type": "code",
   "execution_count": 138,
   "id": "96b14477",
   "metadata": {},
   "outputs": [
    {
     "data": {
      "text/plain": [
       "dict_keys(['album', 'artist', 'genre', 'track'])"
      ]
     },
     "execution_count": 138,
     "metadata": {},
     "output_type": "execute_result"
    }
   ],
   "source": [
    "# 이게 내가 가진 테이블 목록들이다.\n",
    "base.metadata.tables.keys()"
   ]
  },
  {
   "cell_type": "code",
   "execution_count": 147,
   "id": "93e9d049",
   "metadata": {},
   "outputs": [
    {
     "data": {
      "text/plain": [
       "['pk', 'name', 'fk']"
      ]
     },
     "execution_count": 147,
     "metadata": {},
     "output_type": "execute_result"
    }
   ],
   "source": [
    "base.metadata.tables['album'].columns.keys()"
   ]
  },
  {
   "cell_type": "code",
   "execution_count": 148,
   "id": "2e3e3ea7",
   "metadata": {},
   "outputs": [
    {
     "name": "stderr",
     "output_type": "stream",
     "text": [
      "C:\\Users\\dlel2\\AppData\\Local\\Temp/ipykernel_23544/1011768358.py:1: SAWarning: This declarative base already contains a class with the same class name and module name as __main__.Album, and will be replaced in the string-lookup table.\n",
      "  class Album(base):\n"
     ]
    }
   ],
   "source": [
    "class Album(base):\n",
    "    __table__ = base.metadata.tables['album']\n",
    "    # 프로퍼티 = 컬럼객체 생성\n",
    "\n",
    "class Artist(base):\n",
    "    __table__ = base.metadata.tables['artist']\n",
    "    \n",
    "class Genre(base):\n",
    "    __table__ = base.metadata.tables['genre']\n",
    "    \n",
    "class Track(base):\n",
    "    __table__ = base.metadata.tables['track']"
   ]
  },
  {
   "cell_type": "code",
   "execution_count": 149,
   "id": "362acf2f",
   "metadata": {},
   "outputs": [],
   "source": [
    "Session = sessionmaker(engine)\n",
    "session = Session()"
   ]
  },
  {
   "cell_type": "code",
   "execution_count": 150,
   "id": "e4fd2282",
   "metadata": {},
   "outputs": [
    {
     "name": "stdout",
     "output_type": "stream",
     "text": [
      "2023-03-08 12:41:01,670 INFO sqlalchemy.engine.Engine BEGIN (implicit)\n",
      "2023-03-08 12:41:01,670 INFO sqlalchemy.engine.Engine SELECT album.pk AS album_pk, album.name AS album_name, album.fk AS album_fk \n",
      "FROM album\n",
      "2023-03-08 12:41:01,670 INFO sqlalchemy.engine.Engine [generated in 0.00144s] ()\n"
     ]
    }
   ],
   "source": [
    "albumList = session.query(Album).all()"
   ]
  },
  {
   "cell_type": "code",
   "execution_count": 151,
   "id": "7e5a4953",
   "metadata": {},
   "outputs": [
    {
     "data": {
      "text/plain": [
       "(1, '아무개1')"
      ]
     },
     "execution_count": 151,
     "metadata": {},
     "output_type": "execute_result"
    }
   ],
   "source": [
    "albumList[0].pk, albumList[0].name"
   ]
  },
  {
   "cell_type": "code",
   "execution_count": 152,
   "id": "b54a1f92",
   "metadata": {},
   "outputs": [
    {
     "data": {
      "text/plain": [
       "Column('pk', INTEGER(), table=<album>, primary_key=True)"
      ]
     },
     "execution_count": 152,
     "metadata": {},
     "output_type": "execute_result"
    }
   ],
   "source": [
    "base.metadata.tables['album'].c.pk"
   ]
  },
  {
   "cell_type": "code",
   "execution_count": 153,
   "id": "c48e0b4c",
   "metadata": {
    "scrolled": true
   },
   "outputs": [
    {
     "data": {
      "text/plain": [
       "sqlalchemy.sql.schema.Column"
      ]
     },
     "execution_count": 153,
     "metadata": {},
     "output_type": "execute_result"
    }
   ],
   "source": [
    "type(base.metadata.tables['album'].c.pk)"
   ]
  },
  {
   "cell_type": "code",
   "execution_count": 154,
   "id": "35d0d0ed",
   "metadata": {},
   "outputs": [
    {
     "name": "stdout",
     "output_type": "stream",
     "text": [
      "2023-03-08 12:41:07,824 INFO sqlalchemy.engine.Engine SELECT artist.name AS artist_name, album.name AS album_name \n",
      "FROM artist JOIN album ON album.fk = artist.pk\n",
      "2023-03-08 12:41:07,824 INFO sqlalchemy.engine.Engine [generated in 0.00146s] ()\n"
     ]
    },
    {
     "data": {
      "text/plain": [
       "[('가수1', '아무개1'), ('가수2', '아무개2')]"
      ]
     },
     "execution_count": 154,
     "metadata": {},
     "output_type": "execute_result"
    }
   ],
   "source": [
    "session.query(Artist.name, Album.name).select_from(Artist)\\\n",
    ".join(Album, Album.fk==Artist.pk).all()"
   ]
  },
  {
   "cell_type": "code",
   "execution_count": 155,
   "id": "a86f1a84",
   "metadata": {},
   "outputs": [],
   "source": [
    "Album.artist = Artist"
   ]
  },
  {
   "cell_type": "code",
   "execution_count": 156,
   "id": "26694109",
   "metadata": {},
   "outputs": [
    {
     "data": {
      "text/plain": [
       "FacadeDict({'album': Table('album', MetaData(), Column('pk', INTEGER(), table=<album>, primary_key=True), Column('name', TEXT(), table=<album>, server_default=DefaultClause(<sqlalchemy.sql.elements.TextClause object at 0x0000024BDF573880>, for_update=False)), Column('fk', INTEGER(), table=<album>, nullable=False), schema=None), 'artist': Table('artist', MetaData(), Column('pk', INTEGER(), table=<artist>, primary_key=True), Column('name', TEXT(), table=<artist>, server_default=DefaultClause(<sqlalchemy.sql.elements.TextClause object at 0x0000024BDF5732B0>, for_update=False)), schema=None), 'genre': Table('genre', MetaData(), Column('pk', INTEGER(), table=<genre>, primary_key=True), Column('name', TEXT(), table=<genre>, server_default=DefaultClause(<sqlalchemy.sql.elements.TextClause object at 0x0000024BDFF71340>, for_update=False)), schema=None), 'track': Table('track', MetaData(), Column('pk', INTEGER(), table=<track>, primary_key=True), Column('name', TEXT(), table=<track>, server_default=DefaultClause(<sqlalchemy.sql.elements.TextClause object at 0x0000024BDFFD6790>, for_update=False)), Column('length', INTEGER(), table=<track>, server_default=DefaultClause(<sqlalchemy.sql.elements.TextClause object at 0x0000024BDF2861F0>, for_update=False)), Column('rating', INTEGER(), table=<track>, server_default=DefaultClause(<sqlalchemy.sql.elements.TextClause object at 0x0000024BDF286250>, for_update=False)), Column('count', INTEGER(), table=<track>, server_default=DefaultClause(<sqlalchemy.sql.elements.TextClause object at 0x0000024BDF286EB0>, for_update=False)), Column('fk1', INTEGER(), table=<track>, nullable=False), Column('fk2', INTEGER(), table=<track>, nullable=False), schema=None)})"
      ]
     },
     "execution_count": 156,
     "metadata": {},
     "output_type": "execute_result"
    }
   ],
   "source": [
    "base.metadata.tables"
   ]
  },
  {
   "cell_type": "code",
   "execution_count": 157,
   "id": "424c883f",
   "metadata": {},
   "outputs": [
    {
     "name": "stdout",
     "output_type": "stream",
     "text": [
      "2023-03-08 12:41:15,574 INFO sqlalchemy.engine.Engine ROLLBACK\n"
     ]
    }
   ],
   "source": [
    "session.close()\n",
    "engine.dispose()\n",
    "base.metadata.clear()\n",
    "base.registry.dispose()"
   ]
  },
  {
   "cell_type": "code",
   "execution_count": 158,
   "id": "998bc88c",
   "metadata": {},
   "outputs": [],
   "source": [
    "class User(base):\n",
    "    __tablename__ = \"T_USER\"\n",
    "    \n",
    "    pk = Column('PK', Integer, primary_key=True)\n",
    "    name = Column('NAME', Text, nullable=False)\n",
    "    \n",
    "    def __repr__(self):\n",
    "        return 'PK:{}, NAME:{}'.format(self.pk, self.name)\n",
    "\n",
    "class Address(base):\n",
    "    __tablename__ = \"T_ADDRESS\"\n",
    "    \n",
    "    pk = Column('PK', Integer, primary_key=True)\n",
    "    name = Column('NAME', Text, nullable=False)\n",
    "    fk = Column('FK', Integer, ForeignKey(\"T_USER.PK\"))\n",
    "    \n",
    "    def __repr__(self):\n",
    "        return 'PK:{}, NAME:{}, FK:{}'.format(self.pk, self.name, self.fk)"
   ]
  },
  {
   "cell_type": "code",
   "execution_count": 159,
   "id": "ba1fee7f",
   "metadata": {},
   "outputs": [],
   "source": [
    "engine = create_engine('sqlite:///:memory:', echo=True)"
   ]
  },
  {
   "cell_type": "code",
   "execution_count": 160,
   "id": "f96be6ef",
   "metadata": {
    "collapsed": true
   },
   "outputs": [
    {
     "name": "stdout",
     "output_type": "stream",
     "text": [
      "2023-03-08 12:41:20,787 INFO sqlalchemy.engine.Engine BEGIN (implicit)\n",
      "2023-03-08 12:41:20,789 INFO sqlalchemy.engine.Engine PRAGMA main.table_info(\"T_USER\")\n",
      "2023-03-08 12:41:20,789 INFO sqlalchemy.engine.Engine [raw sql] ()\n",
      "2023-03-08 12:41:20,792 INFO sqlalchemy.engine.Engine PRAGMA temp.table_info(\"T_USER\")\n",
      "2023-03-08 12:41:20,792 INFO sqlalchemy.engine.Engine [raw sql] ()\n",
      "2023-03-08 12:41:20,792 INFO sqlalchemy.engine.Engine PRAGMA main.table_info(\"T_ADDRESS\")\n",
      "2023-03-08 12:41:20,792 INFO sqlalchemy.engine.Engine [raw sql] ()\n",
      "2023-03-08 12:41:20,797 INFO sqlalchemy.engine.Engine PRAGMA temp.table_info(\"T_ADDRESS\")\n",
      "2023-03-08 12:41:20,797 INFO sqlalchemy.engine.Engine [raw sql] ()\n",
      "2023-03-08 12:41:20,799 INFO sqlalchemy.engine.Engine \n",
      "CREATE TABLE \"T_USER\" (\n",
      "\t\"PK\" INTEGER NOT NULL, \n",
      "\t\"NAME\" TEXT NOT NULL, \n",
      "\tPRIMARY KEY (\"PK\")\n",
      ")\n",
      "\n",
      "\n",
      "2023-03-08 12:41:20,799 INFO sqlalchemy.engine.Engine [no key 0.00098s] ()\n",
      "2023-03-08 12:41:20,799 INFO sqlalchemy.engine.Engine \n",
      "CREATE TABLE \"T_ADDRESS\" (\n",
      "\t\"PK\" INTEGER NOT NULL, \n",
      "\t\"NAME\" TEXT NOT NULL, \n",
      "\t\"FK\" INTEGER, \n",
      "\tPRIMARY KEY (\"PK\"), \n",
      "\tFOREIGN KEY(\"FK\") REFERENCES \"T_USER\" (\"PK\")\n",
      ")\n",
      "\n",
      "\n",
      "2023-03-08 12:41:20,804 INFO sqlalchemy.engine.Engine [no key 0.00099s] ()\n",
      "2023-03-08 12:41:20,804 INFO sqlalchemy.engine.Engine COMMIT\n"
     ]
    }
   ],
   "source": [
    "base.metadata.create_all(engine)"
   ]
  },
  {
   "cell_type": "code",
   "execution_count": 161,
   "id": "ddcbe85a",
   "metadata": {},
   "outputs": [
    {
     "data": {
      "text/plain": [
       "PK:None, NAME:아무개"
      ]
     },
     "execution_count": 161,
     "metadata": {},
     "output_type": "execute_result"
    }
   ],
   "source": [
    "User(name='아무개')"
   ]
  },
  {
   "cell_type": "code",
   "execution_count": 162,
   "id": "10c9a1b2",
   "metadata": {},
   "outputs": [],
   "source": [
    "Session = sessionmaker(engine)\n",
    "session = Session()"
   ]
  },
  {
   "cell_type": "code",
   "execution_count": 163,
   "id": "c93f4029",
   "metadata": {},
   "outputs": [
    {
     "name": "stdout",
     "output_type": "stream",
     "text": [
      "2023-03-08 12:41:25,418 INFO sqlalchemy.engine.Engine BEGIN (implicit)\n",
      "2023-03-08 12:41:25,422 INFO sqlalchemy.engine.Engine INSERT INTO \"T_USER\" (\"NAME\") VALUES (?)\n",
      "2023-03-08 12:41:25,422 INFO sqlalchemy.engine.Engine [generated in 0.00144s] ('아무개',)\n",
      "2023-03-08 12:41:25,426 INFO sqlalchemy.engine.Engine COMMIT\n"
     ]
    }
   ],
   "source": [
    "session.add(User(name='아무개'))\n",
    "session.commit()"
   ]
  },
  {
   "cell_type": "code",
   "execution_count": 164,
   "id": "09d5fd3f",
   "metadata": {},
   "outputs": [
    {
     "name": "stdout",
     "output_type": "stream",
     "text": [
      "2023-03-08 12:41:26,084 INFO sqlalchemy.engine.Engine BEGIN (implicit)\n",
      "2023-03-08 12:41:26,090 INFO sqlalchemy.engine.Engine SELECT \"T_USER\".\"PK\" AS \"T_USER_PK\", \"T_USER\".\"NAME\" AS \"T_USER_NAME\" \n",
      "FROM \"T_USER\"\n",
      "2023-03-08 12:41:26,090 INFO sqlalchemy.engine.Engine [generated in 0.00161s] ()\n"
     ]
    }
   ],
   "source": [
    "userA = session.query(User).one()"
   ]
  },
  {
   "cell_type": "code",
   "execution_count": 165,
   "id": "a1d23c72",
   "metadata": {},
   "outputs": [
    {
     "data": {
      "text/plain": [
       "PK:1, NAME:아무개"
      ]
     },
     "execution_count": 165,
     "metadata": {},
     "output_type": "execute_result"
    }
   ],
   "source": [
    "userA"
   ]
  },
  {
   "cell_type": "code",
   "execution_count": 166,
   "id": "7cac6825",
   "metadata": {},
   "outputs": [],
   "source": [
    "userB = User(name='아무개2')"
   ]
  },
  {
   "cell_type": "code",
   "execution_count": 167,
   "id": "43061de6",
   "metadata": {},
   "outputs": [
    {
     "name": "stdout",
     "output_type": "stream",
     "text": [
      "2023-03-08 12:41:29,878 INFO sqlalchemy.engine.Engine INSERT INTO \"T_USER\" (\"NAME\") VALUES (?)\n",
      "2023-03-08 12:41:29,883 INFO sqlalchemy.engine.Engine [cached since 4.462s ago] ('아무개2',)\n",
      "2023-03-08 12:41:29,883 INFO sqlalchemy.engine.Engine COMMIT\n"
     ]
    }
   ],
   "source": [
    "session.add(userB)\n",
    "session.commit()"
   ]
  },
  {
   "cell_type": "code",
   "execution_count": 168,
   "id": "7e711420",
   "metadata": {},
   "outputs": [
    {
     "name": "stdout",
     "output_type": "stream",
     "text": [
      "2023-03-08 12:41:31,356 INFO sqlalchemy.engine.Engine BEGIN (implicit)\n",
      "2023-03-08 12:41:31,358 INFO sqlalchemy.engine.Engine SELECT \"T_USER\".\"PK\" AS \"T_USER_PK\", \"T_USER\".\"NAME\" AS \"T_USER_NAME\" \n",
      "FROM \"T_USER\" \n",
      "WHERE \"T_USER\".\"PK\" = ?\n",
      "2023-03-08 12:41:31,358 INFO sqlalchemy.engine.Engine [generated in 0.00266s] (1,)\n",
      "2023-03-08 12:41:31,364 INFO sqlalchemy.engine.Engine SELECT \"T_USER\".\"PK\" AS \"T_USER_PK\", \"T_USER\".\"NAME\" AS \"T_USER_NAME\" \n",
      "FROM \"T_USER\" \n",
      "WHERE \"T_USER\".\"PK\" = ?\n",
      "2023-03-08 12:41:31,364 INFO sqlalchemy.engine.Engine [cached since 0.00765s ago] (2,)\n"
     ]
    }
   ],
   "source": [
    "session.add_all([Address(name='주소1', fk=userA.pk),\n",
    "                 Address(name='주소2', fk=userB.pk)])"
   ]
  },
  {
   "cell_type": "code",
   "execution_count": 169,
   "id": "2e03e77f",
   "metadata": {},
   "outputs": [
    {
     "name": "stdout",
     "output_type": "stream",
     "text": [
      "2023-03-08 12:41:32,563 INFO sqlalchemy.engine.Engine INSERT INTO \"T_ADDRESS\" (\"NAME\", \"FK\") VALUES (?, ?)\n",
      "2023-03-08 12:41:32,563 INFO sqlalchemy.engine.Engine [generated in 0.00169s] ('주소1', 1)\n",
      "2023-03-08 12:41:32,563 INFO sqlalchemy.engine.Engine INSERT INTO \"T_ADDRESS\" (\"NAME\", \"FK\") VALUES (?, ?)\n",
      "2023-03-08 12:41:32,563 INFO sqlalchemy.engine.Engine [cached since 0.006182s ago] ('주소2', 2)\n",
      "2023-03-08 12:41:32,571 INFO sqlalchemy.engine.Engine COMMIT\n"
     ]
    }
   ],
   "source": [
    "session.commit()"
   ]
  },
  {
   "cell_type": "code",
   "execution_count": 170,
   "id": "d8830df5",
   "metadata": {},
   "outputs": [
    {
     "name": "stdout",
     "output_type": "stream",
     "text": [
      "2023-03-08 12:41:33,858 INFO sqlalchemy.engine.Engine BEGIN (implicit)\n",
      "2023-03-08 12:41:33,866 INFO sqlalchemy.engine.Engine SELECT \"T_ADDRESS\".\"PK\" AS \"T_ADDRESS_PK\", \"T_ADDRESS\".\"NAME\" AS \"T_ADDRESS_NAME\", \"T_ADDRESS\".\"FK\" AS \"T_ADDRESS_FK\" \n",
      "FROM \"T_ADDRESS\"\n",
      "2023-03-08 12:41:33,866 INFO sqlalchemy.engine.Engine [generated in 0.00128s] ()\n"
     ]
    },
    {
     "data": {
      "text/plain": [
       "PK:2, NAME:주소2, FK:2"
      ]
     },
     "execution_count": 170,
     "metadata": {},
     "output_type": "execute_result"
    }
   ],
   "source": [
    "session.query(Address).all()[1]"
   ]
  },
  {
   "cell_type": "code",
   "execution_count": 171,
   "id": "b7904252",
   "metadata": {},
   "outputs": [
    {
     "name": "stdout",
     "output_type": "stream",
     "text": [
      "2023-03-08 12:41:35,390 INFO sqlalchemy.engine.Engine SELECT \"T_ADDRESS\".\"PK\" AS \"T_ADDRESS_PK\", \"T_ADDRESS\".\"NAME\" AS \"T_ADDRESS_NAME\", \"T_ADDRESS\".\"FK\" AS \"T_ADDRESS_FK\" \n",
      "FROM \"T_ADDRESS\"\n",
      "2023-03-08 12:41:35,390 INFO sqlalchemy.engine.Engine [cached since 1.526s ago] ()\n"
     ]
    },
    {
     "data": {
      "text/plain": [
       "__main__.Address"
      ]
     },
     "execution_count": 171,
     "metadata": {},
     "output_type": "execute_result"
    }
   ],
   "source": [
    "type(session.query(Address).all()[1])"
   ]
  },
  {
   "cell_type": "markdown",
   "id": "a1a01346",
   "metadata": {},
   "source": [
    "# Relation을 만들어보자\n",
    "클래스 새롭게 등록할거라서 날리고 시작할거임"
   ]
  },
  {
   "cell_type": "code",
   "execution_count": 172,
   "id": "c5c04a94",
   "metadata": {},
   "outputs": [],
   "source": [
    "base.metadata.clear()\n",
    "base.registry.dispose()"
   ]
  },
  {
   "cell_type": "code",
   "execution_count": 173,
   "id": "a974d667",
   "metadata": {},
   "outputs": [],
   "source": [
    "from sqlalchemy.orm import relationship"
   ]
  },
  {
   "cell_type": "code",
   "execution_count": 174,
   "id": "e29987b4",
   "metadata": {},
   "outputs": [],
   "source": [
    "class User(base):\n",
    "    __tablename__ = \"T_USER\"\n",
    "    \n",
    "    pk = Column('PK', Integer, primary_key=True)\n",
    "    name = Column('NAME', Text, nullable=False)\n",
    "    addresses = relationship('Address', back_populates='user')\n",
    "    \n",
    "    def __repr__(self):\n",
    "        return 'PK:{}, NAME:{}'.format(self.pk, self.name)\n",
    "\n",
    "class Address(base):\n",
    "    __tablename__ = \"T_ADDRESS\"\n",
    "    \n",
    "    pk = Column('PK', Integer, primary_key=True)\n",
    "    name = Column('NAME', Text, nullable=False)\n",
    "    fk = Column('FK', Integer, ForeignKey(\"T_USER.PK\"))\n",
    "    user = relationship('User', back_populates='addresses', uselist=False)\n",
    "    \n",
    "    def __repr__(self):\n",
    "        return 'PK:{}, NAME:{}, FK:{}'.format(self.pk, self.name, self.fk)"
   ]
  },
  {
   "cell_type": "code",
   "execution_count": 175,
   "id": "b49a5230",
   "metadata": {},
   "outputs": [
    {
     "name": "stdout",
     "output_type": "stream",
     "text": [
      "2023-03-08 12:41:40,147 INFO sqlalchemy.engine.Engine SELECT \"T_USER\".\"PK\" AS \"T_USER_PK\", \"T_USER\".\"NAME\" AS \"T_USER_NAME\" \n",
      "FROM \"T_USER\"\n",
      "2023-03-08 12:41:40,147 INFO sqlalchemy.engine.Engine [generated in 0.00272s] ()\n"
     ]
    },
    {
     "data": {
      "text/plain": [
       "__main__.User"
      ]
     },
     "execution_count": 175,
     "metadata": {},
     "output_type": "execute_result"
    }
   ],
   "source": [
    "type(session.query(User).all()[0]) # User"
   ]
  },
  {
   "cell_type": "code",
   "execution_count": 176,
   "id": "013f0c93",
   "metadata": {},
   "outputs": [
    {
     "name": "stdout",
     "output_type": "stream",
     "text": [
      "2023-03-08 12:41:40,788 INFO sqlalchemy.engine.Engine SELECT \"T_USER\".\"PK\" AS \"T_USER_PK\", \"T_USER\".\"NAME\" AS \"T_USER_NAME\" \n",
      "FROM \"T_USER\"\n",
      "2023-03-08 12:41:40,788 INFO sqlalchemy.engine.Engine [cached since 0.6419s ago] ()\n",
      "2023-03-08 12:41:40,796 INFO sqlalchemy.engine.Engine SELECT \"T_ADDRESS\".\"PK\" AS \"T_ADDRESS_PK\", \"T_ADDRESS\".\"NAME\" AS \"T_ADDRESS_NAME\", \"T_ADDRESS\".\"FK\" AS \"T_ADDRESS_FK\" \n",
      "FROM \"T_ADDRESS\" \n",
      "WHERE ? = \"T_ADDRESS\".\"FK\"\n",
      "2023-03-08 12:41:40,796 INFO sqlalchemy.engine.Engine [generated in 0.00130s] (1,)\n"
     ]
    },
    {
     "data": {
      "text/plain": [
       "__main__.Address"
      ]
     },
     "execution_count": 176,
     "metadata": {},
     "output_type": "execute_result"
    }
   ],
   "source": [
    "type(session.query(User).all()[0].addresses[0])"
   ]
  },
  {
   "cell_type": "code",
   "execution_count": 177,
   "id": "14ef75f2",
   "metadata": {},
   "outputs": [
    {
     "name": "stdout",
     "output_type": "stream",
     "text": [
      "2023-03-08 12:41:43,380 INFO sqlalchemy.engine.Engine SELECT \"T_USER\".\"PK\" AS \"T_USER_PK\", \"T_USER\".\"NAME\" AS \"T_USER_NAME\" \n",
      "FROM \"T_USER\"\n",
      "2023-03-08 12:41:43,381 INFO sqlalchemy.engine.Engine [cached since 3.233s ago] ()\n"
     ]
    }
   ],
   "source": [
    "userA = session.query(User).all()[0]"
   ]
  },
  {
   "cell_type": "code",
   "execution_count": 178,
   "id": "dc0380e3",
   "metadata": {
    "scrolled": true
   },
   "outputs": [
    {
     "name": "stdout",
     "output_type": "stream",
     "text": [
      "2023-03-08 12:41:44,612 INFO sqlalchemy.engine.Engine SELECT \"T_ADDRESS\".\"PK\" AS \"T_ADDRESS_PK\", \"T_ADDRESS\".\"NAME\" AS \"T_ADDRESS_NAME\", \"T_ADDRESS\".\"FK\" AS \"T_ADDRESS_FK\" \n",
      "FROM \"T_ADDRESS\" \n",
      "WHERE ? = \"T_ADDRESS\".\"FK\"\n",
      "2023-03-08 12:41:44,614 INFO sqlalchemy.engine.Engine [cached since 3.819s ago] (1,)\n",
      "2023-03-08 12:41:44,614 INFO sqlalchemy.engine.Engine SELECT \"T_ADDRESS\".\"PK\" AS \"T_ADDRESS_PK\", \"T_ADDRESS\".\"NAME\" AS \"T_ADDRESS_NAME\", \"T_ADDRESS\".\"FK\" AS \"T_ADDRESS_FK\" \n",
      "FROM \"T_ADDRESS\"\n",
      "2023-03-08 12:41:44,614 INFO sqlalchemy.engine.Engine [generated in 0.00098s] ()\n"
     ]
    },
    {
     "data": {
      "text/plain": [
       "True"
      ]
     },
     "execution_count": 178,
     "metadata": {},
     "output_type": "execute_result"
    }
   ],
   "source": [
    "userA.addresses[0] is session.query(Address).all()[0]"
   ]
  },
  {
   "cell_type": "code",
   "execution_count": 179,
   "id": "1c45698a",
   "metadata": {},
   "outputs": [
    {
     "data": {
      "text/plain": [
       "True"
      ]
     },
     "execution_count": 179,
     "metadata": {},
     "output_type": "execute_result"
    }
   ],
   "source": [
    "userA.addresses[0].user is userA"
   ]
  }
 ],
 "metadata": {
  "kernelspec": {
   "display_name": "Python 3 (ipykernel)",
   "language": "python",
   "name": "python3"
  },
  "language_info": {
   "codemirror_mode": {
    "name": "ipython",
    "version": 3
   },
   "file_extension": ".py",
   "mimetype": "text/x-python",
   "name": "python",
   "nbconvert_exporter": "python",
   "pygments_lexer": "ipython3",
   "version": "3.9.7"
  }
 },
 "nbformat": 4,
 "nbformat_minor": 5
}
