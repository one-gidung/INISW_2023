{
 "cells": [
  {
   "cell_type": "markdown",
   "id": "5d27ed97",
   "metadata": {},
   "source": [
    "## 2일차 내용 이어서"
   ]
  },
  {
   "cell_type": "code",
   "execution_count": 1,
   "id": "847a8371",
   "metadata": {},
   "outputs": [],
   "source": [
    "### 예제 _ 프랜차이즈 전산실\n",
    "# CITY, SUPPLIER, PART, SELLS\n",
    "# CITY: PK, NAME\n",
    "# SUPPLIER; PK, NAME, FK(CITY.PK)\n",
    "# PARK: PK, NAME\n",
    "# SELLES: FK(S.PK), FK(P.PK), PRICE"
   ]
  },
  {
   "cell_type": "code",
   "execution_count": 2,
   "id": "88e5a5b9",
   "metadata": {},
   "outputs": [],
   "source": [
    "import sqlite3"
   ]
  },
  {
   "cell_type": "code",
   "execution_count": 3,
   "id": "e96bdcf6",
   "metadata": {},
   "outputs": [],
   "source": [
    "con = sqlite3.connect('test1.db')\n",
    "cur = con.cursor()"
   ]
  },
  {
   "cell_type": "markdown",
   "id": "b986095f",
   "metadata": {},
   "source": [
    "# 0306 시작"
   ]
  },
  {
   "cell_type": "code",
   "execution_count": 4,
   "id": "23002bd3",
   "metadata": {},
   "outputs": [
    {
     "data": {
      "text/plain": [
       "[('성북구', '안암1호점'),\n",
       " ('성북구', '안암2호점'),\n",
       " ('성북구', '종암1호점'),\n",
       " ('중구', None),\n",
       " ('강북구', None),\n",
       " ('어쩌구', None),\n",
       " ('저쩌구', None)]"
      ]
     },
     "execution_count": 4,
     "metadata": {},
     "output_type": "execute_result"
    }
   ],
   "source": [
    "cur.execute('''\n",
    "    select city.name, supplier.name from city\n",
    "    left join supplier\n",
    "    on city.pk = supplier.fk\n",
    "    ''')\n",
    "cur.fetchall()"
   ]
  },
  {
   "cell_type": "code",
   "execution_count": 5,
   "id": "7beb5029",
   "metadata": {},
   "outputs": [
    {
     "data": {
      "text/plain": [
       "[(1, '성북구'), (2, '중구'), (3, '강북구'), (4, '어쩌구'), (5, '저쩌구')]"
      ]
     },
     "execution_count": 5,
     "metadata": {},
     "output_type": "execute_result"
    }
   ],
   "source": [
    "cur.execute('SELECT * FROM city')\n",
    "cur.fetchall()"
   ]
  },
  {
   "cell_type": "code",
   "execution_count": 6,
   "id": "b23e2dca",
   "metadata": {
    "collapsed": true
   },
   "outputs": [
    {
     "ename": "OperationalError",
     "evalue": "RIGHT and FULL OUTER JOINs are not currently supported",
     "output_type": "error",
     "traceback": [
      "\u001b[1;31m---------------------------------------------------------------------------\u001b[0m",
      "\u001b[1;31mOperationalError\u001b[0m                          Traceback (most recent call last)",
      "\u001b[1;32m~\\AppData\\Local\\Temp/ipykernel_21888/339628763.py\u001b[0m in \u001b[0;36m<module>\u001b[1;34m\u001b[0m\n\u001b[1;32m----> 1\u001b[1;33m cur.execute('''\n\u001b[0m\u001b[0;32m      2\u001b[0m     \u001b[0mselect\u001b[0m \u001b[0mcity\u001b[0m\u001b[1;33m.\u001b[0m\u001b[0mname\u001b[0m\u001b[1;33m,\u001b[0m \u001b[0msupplier\u001b[0m\u001b[1;33m.\u001b[0m\u001b[0mname\u001b[0m \u001b[1;32mfrom\u001b[0m \u001b[0mcity\u001b[0m\u001b[1;33m\u001b[0m\u001b[1;33m\u001b[0m\u001b[0m\n\u001b[0;32m      3\u001b[0m     \u001b[0mright\u001b[0m \u001b[0mjoin\u001b[0m \u001b[0msupplier\u001b[0m\u001b[1;33m\u001b[0m\u001b[1;33m\u001b[0m\u001b[0m\n\u001b[0;32m      4\u001b[0m     \u001b[0mon\u001b[0m \u001b[0mcity\u001b[0m\u001b[1;33m.\u001b[0m\u001b[0mpk\u001b[0m \u001b[1;33m=\u001b[0m \u001b[0msupplier\u001b[0m\u001b[1;33m.\u001b[0m\u001b[0mfk\u001b[0m\u001b[1;33m\u001b[0m\u001b[1;33m\u001b[0m\u001b[0m\n\u001b[0;32m      5\u001b[0m     ''')\n",
      "\u001b[1;31mOperationalError\u001b[0m: RIGHT and FULL OUTER JOINs are not currently supported"
     ]
    }
   ],
   "source": [
    "cur.execute('''\n",
    "    select city.name, supplier.name from city\n",
    "    right join supplier\n",
    "    on city.pk = supplier.fk\n",
    "    ''')\n",
    "cur.fetchall()"
   ]
  },
  {
   "cell_type": "code",
   "execution_count": 7,
   "id": "ffedb664",
   "metadata": {},
   "outputs": [
    {
     "data": {
      "text/plain": [
       "[('성북구', '안암1호점'),\n",
       " ('성북구', '안암2호점'),\n",
       " ('성북구', '종암1호점'),\n",
       " ('중구', None),\n",
       " ('강북구', None),\n",
       " ('어쩌구', None),\n",
       " ('저쩌구', None)]"
      ]
     },
     "execution_count": 7,
     "metadata": {},
     "output_type": "execute_result"
    }
   ],
   "source": [
    "cur.execute('''\n",
    "    select city.name, supplier.name from city\n",
    "    left join supplier\n",
    "    on city.pk = supplier.fk\n",
    "    ''')\n",
    "cur.fetchall()"
   ]
  },
  {
   "cell_type": "code",
   "execution_count": 8,
   "id": "29f9c800",
   "metadata": {
    "collapsed": true
   },
   "outputs": [
    {
     "ename": "OperationalError",
     "evalue": "RIGHT and FULL OUTER JOINs are not currently supported",
     "output_type": "error",
     "traceback": [
      "\u001b[1;31m---------------------------------------------------------------------------\u001b[0m",
      "\u001b[1;31mOperationalError\u001b[0m                          Traceback (most recent call last)",
      "\u001b[1;32m~\\AppData\\Local\\Temp/ipykernel_21888/2094687725.py\u001b[0m in \u001b[0;36m<module>\u001b[1;34m\u001b[0m\n\u001b[1;32m----> 1\u001b[1;33m cur.execute('''\n\u001b[0m\u001b[0;32m      2\u001b[0m     \u001b[0mselect\u001b[0m \u001b[0mcity\u001b[0m\u001b[1;33m.\u001b[0m\u001b[0mname\u001b[0m\u001b[1;33m,\u001b[0m \u001b[0msupplier\u001b[0m\u001b[1;33m.\u001b[0m\u001b[0mname\u001b[0m \u001b[1;32mfrom\u001b[0m \u001b[0mcity\u001b[0m\u001b[1;33m\u001b[0m\u001b[1;33m\u001b[0m\u001b[0m\n\u001b[0;32m      3\u001b[0m     \u001b[0mouter\u001b[0m \u001b[0mjoin\u001b[0m \u001b[0msupplier\u001b[0m\u001b[1;33m\u001b[0m\u001b[1;33m\u001b[0m\u001b[0m\n\u001b[0;32m      4\u001b[0m     \u001b[0mon\u001b[0m \u001b[0mcity\u001b[0m\u001b[1;33m.\u001b[0m\u001b[0mpk\u001b[0m \u001b[1;33m=\u001b[0m \u001b[0msupplier\u001b[0m\u001b[1;33m.\u001b[0m\u001b[0mfk\u001b[0m\u001b[1;33m\u001b[0m\u001b[1;33m\u001b[0m\u001b[0m\n\u001b[0;32m      5\u001b[0m     ''')\n",
      "\u001b[1;31mOperationalError\u001b[0m: RIGHT and FULL OUTER JOINs are not currently supported"
     ]
    }
   ],
   "source": [
    "cur.execute('''\n",
    "    select city.name, supplier.name from city\n",
    "    outer join supplier\n",
    "    on city.pk = supplier.fk\n",
    "    ''')\n",
    "cur.fetchall()"
   ]
  },
  {
   "cell_type": "code",
   "execution_count": 21,
   "id": "1de492f3",
   "metadata": {},
   "outputs": [],
   "source": [
    "con.close()"
   ]
  },
  {
   "cell_type": "code",
   "execution_count": 22,
   "id": "a8af23f4",
   "metadata": {},
   "outputs": [],
   "source": [
    "con = sqlite3.connect('playlist.db')\n",
    "cur = con.cursor()"
   ]
  },
  {
   "cell_type": "code",
   "execution_count": 43,
   "id": "03cf1996",
   "metadata": {},
   "outputs": [
    {
     "data": {
      "text/plain": [
       "<sqlite3.Cursor at 0x2484b8e49d0>"
      ]
     },
     "execution_count": 43,
     "metadata": {},
     "output_type": "execute_result"
    }
   ],
   "source": [
    "cur.executescript('''\n",
    "    DROP TABLE IF EXISTS artist;\n",
    "    DROP TABLE IF EXISTS album;\n",
    "    DROP TABLE IF EXISTS genre;\n",
    "    DROP TABLE IF EXISTS track;\n",
    "    \n",
    "    create table artist (\n",
    "        pk integer primary key,\n",
    "        name text default '무명'\n",
    "    );\n",
    "    \n",
    "    create table album (\n",
    "        pk integer primary key,\n",
    "        name text default '무제',\n",
    "        fk integer not null\n",
    "    );\n",
    "    \n",
    "    create table genre (\n",
    "        pk integer primary key,\n",
    "        name text default '장르없음'\n",
    "    );\n",
    "    \n",
    "    create table track (\n",
    "        pk integer primary key,\n",
    "        name text default 'Track',\n",
    "        length integer default 0,\n",
    "        rating integer default 0,\n",
    "        count integer default 0,\n",
    "        fk1 integer not null,\n",
    "        fk2 integer not null\n",
    "    );\n",
    "''')"
   ]
  },
  {
   "cell_type": "code",
   "execution_count": 44,
   "id": "80136e0e",
   "metadata": {},
   "outputs": [
    {
     "data": {
      "text/plain": [
       "<sqlite3.Cursor at 0x2484b8e49d0>"
      ]
     },
     "execution_count": 44,
     "metadata": {},
     "output_type": "execute_result"
    }
   ],
   "source": [
    "cur.execute('insert into artist values(?,?)', [None, '가수1'])"
   ]
  },
  {
   "cell_type": "code",
   "execution_count": 45,
   "id": "54b684bb",
   "metadata": {},
   "outputs": [
    {
     "data": {
      "text/plain": [
       "[(1, '가수1')]"
      ]
     },
     "execution_count": 45,
     "metadata": {},
     "output_type": "execute_result"
    }
   ],
   "source": [
    "cur.execute('select * from artist')\n",
    "cur.fetchall()"
   ]
  },
  {
   "cell_type": "code",
   "execution_count": 46,
   "id": "902cde0c",
   "metadata": {},
   "outputs": [
    {
     "data": {
      "text/plain": [
       "<sqlite3.Cursor at 0x2484b8e49d0>"
      ]
     },
     "execution_count": 46,
     "metadata": {},
     "output_type": "execute_result"
    }
   ],
   "source": [
    "cur.execute('insert into artist values(:pk, :name)',\n",
    "           {'pk':None, 'name':'가수2'})"
   ]
  },
  {
   "cell_type": "code",
   "execution_count": 47,
   "id": "259d9e65",
   "metadata": {},
   "outputs": [
    {
     "data": {
      "text/plain": [
       "[(1, '가수1'), (2, '가수2')]"
      ]
     },
     "execution_count": 47,
     "metadata": {},
     "output_type": "execute_result"
    }
   ],
   "source": [
    "cur.execute('select * from artist')\n",
    "cur.fetchall()"
   ]
  },
  {
   "cell_type": "code",
   "execution_count": 48,
   "id": "acd26c1d",
   "metadata": {},
   "outputs": [
    {
     "data": {
      "text/plain": [
       "<sqlite3.Cursor at 0x2484b8e49d0>"
      ]
     },
     "execution_count": 48,
     "metadata": {},
     "output_type": "execute_result"
    }
   ],
   "source": [
    "data = [['가수3'], ['가수4']]\n",
    "cur.executemany('insert into artist(name) values(?)', data)"
   ]
  },
  {
   "cell_type": "code",
   "execution_count": 49,
   "id": "90fa9641",
   "metadata": {},
   "outputs": [
    {
     "data": {
      "text/plain": [
       "[(1, '가수1'), (2, '가수2'), (3, '가수3'), (4, '가수4')]"
      ]
     },
     "execution_count": 49,
     "metadata": {},
     "output_type": "execute_result"
    }
   ],
   "source": [
    "cur.execute('select * from artist')\n",
    "cur.fetchall()"
   ]
  },
  {
   "cell_type": "code",
   "execution_count": 50,
   "id": "a6ddc883",
   "metadata": {},
   "outputs": [
    {
     "data": {
      "text/plain": [
       "4"
      ]
     },
     "execution_count": 50,
     "metadata": {},
     "output_type": "execute_result"
    }
   ],
   "source": [
    "cur.lastrowid"
   ]
  },
  {
   "cell_type": "code",
   "execution_count": 51,
   "id": "d502022e",
   "metadata": {},
   "outputs": [
    {
     "data": {
      "text/plain": [
       "<sqlite3.Cursor at 0x2484b8e49d0>"
      ]
     },
     "execution_count": 51,
     "metadata": {},
     "output_type": "execute_result"
    }
   ],
   "source": [
    "cur.executescript('''\n",
    "    insert into genre(pk, name) values(null, '장르1');\n",
    "    insert into genre(name) values('장르2');\n",
    "    insert into genre values(null, '장르3');\n",
    "    insert into genre values(null, '장르4');\n",
    "''')"
   ]
  },
  {
   "cell_type": "code",
   "execution_count": 52,
   "id": "ddf1f6c4",
   "metadata": {},
   "outputs": [
    {
     "data": {
      "text/plain": [
       "[(1, '장르1'), (2, '장르2'), (3, '장르3'), (4, '장르4')]"
      ]
     },
     "execution_count": 52,
     "metadata": {},
     "output_type": "execute_result"
    }
   ],
   "source": [
    "cur.execute('select * from genre')\n",
    "cur.fetchall()"
   ]
  },
  {
   "cell_type": "code",
   "execution_count": 53,
   "id": "d5fe59ae",
   "metadata": {},
   "outputs": [],
   "source": [
    "cur.execute('select * from artist')\n",
    "artist = cur.fetchall()"
   ]
  },
  {
   "cell_type": "code",
   "execution_count": 54,
   "id": "110e8da6",
   "metadata": {},
   "outputs": [
    {
     "data": {
      "text/plain": [
       "[(1, '가수1')]"
      ]
     },
     "execution_count": 54,
     "metadata": {},
     "output_type": "execute_result"
    }
   ],
   "source": [
    "cur.execute('select * from artist where name=?', ['가수1'])\n",
    "cur.fetchall()"
   ]
  },
  {
   "cell_type": "code",
   "execution_count": 55,
   "id": "a8675cc5",
   "metadata": {},
   "outputs": [
    {
     "data": {
      "text/plain": [
       "[(1, '가수1')]"
      ]
     },
     "execution_count": 55,
     "metadata": {},
     "output_type": "execute_result"
    }
   ],
   "source": [
    "cur.execute('select * from artist where name like ?', ['%1'])\n",
    "cur.fetchall()"
   ]
  },
  {
   "cell_type": "code",
   "execution_count": 56,
   "id": "0d6bf2e6",
   "metadata": {},
   "outputs": [],
   "source": [
    "data = ['1', '2', '3', '4']\n",
    "\n",
    "for val in data:\n",
    "    cur.execute('select pk from artist where name like ?', ['%'+val])\n",
    "    pk = cur.fetchall()\n",
    "    if len(pk) > 0:\n",
    "#         cur.execute('insert into album(pk,name, fk) values(?,?,?)')\n",
    "#         cur.execute('insert into album values(null,?,?)')\n",
    "#         cur.execute('insert into album(name, fk) values(?,?)')\n",
    "        cur.execute('insert into album values(null,?,?)',\n",
    "                   ['앨범'+val, pk[0][0]])"
   ]
  },
  {
   "cell_type": "code",
   "execution_count": 57,
   "id": "7f64916d",
   "metadata": {},
   "outputs": [
    {
     "data": {
      "text/plain": [
       "[(1, '앨범1', 1), (2, '앨범2', 2), (3, '앨범3', 3), (4, '앨범4', 4)]"
      ]
     },
     "execution_count": 57,
     "metadata": {},
     "output_type": "execute_result"
    }
   ],
   "source": [
    "cur.execute('select * from album')\n",
    "cur.fetchall()"
   ]
  },
  {
   "cell_type": "code",
   "execution_count": 58,
   "id": "f021e3bb",
   "metadata": {},
   "outputs": [
    {
     "data": {
      "text/plain": [
       "<sqlite3.Cursor at 0x2484b8e49d0>"
      ]
     },
     "execution_count": 58,
     "metadata": {},
     "output_type": "execute_result"
    }
   ],
   "source": [
    "data = [('싱글1', '%1'), ('싱글2', '%2'), ('싱글3', '%3'), ('싱글4', '%4')]\n",
    "\n",
    "cur.executemany('''\n",
    "    insert into album(name, fk) values(?,(\n",
    "        select pk from artist where name like ?\n",
    "    ))\n",
    "''', data)"
   ]
  },
  {
   "cell_type": "code",
   "execution_count": 59,
   "id": "1019a2b6",
   "metadata": {},
   "outputs": [
    {
     "data": {
      "text/plain": [
       "[(1, '앨범1', 1),\n",
       " (2, '앨범2', 2),\n",
       " (3, '앨범3', 3),\n",
       " (4, '앨범4', 4),\n",
       " (5, '싱글1', 1),\n",
       " (6, '싱글2', 2),\n",
       " (7, '싱글3', 3),\n",
       " (8, '싱글4', 4)]"
      ]
     },
     "execution_count": 59,
     "metadata": {},
     "output_type": "execute_result"
    }
   ],
   "source": [
    "cur.execute('select * from album')\n",
    "cur.fetchall()"
   ]
  },
  {
   "cell_type": "code",
   "execution_count": 61,
   "id": "5941bff6",
   "metadata": {},
   "outputs": [],
   "source": [
    "cur.execute('select * from album')\n",
    "FK1 = cur.fetchall()\n",
    "\n",
    "cur.execute('select * from genre')\n",
    "FK2 = cur.fetchall()"
   ]
  },
  {
   "cell_type": "code",
   "execution_count": 64,
   "id": "2f834c96",
   "metadata": {},
   "outputs": [],
   "source": [
    "for row in FK1:\n",
    "    if row[1] == '싱글1':\n",
    "        fk1 = row[0]\n",
    "        break"
   ]
  },
  {
   "cell_type": "code",
   "execution_count": 68,
   "id": "a6bec289",
   "metadata": {},
   "outputs": [],
   "source": [
    "for row in FK2:\n",
    "    if row[1] == '장르3':\n",
    "        fk2 = row[0]\n",
    "        break"
   ]
  },
  {
   "cell_type": "code",
   "execution_count": 70,
   "id": "14011cdd",
   "metadata": {},
   "outputs": [
    {
     "data": {
      "text/plain": [
       "<sqlite3.Cursor at 0x2484b8e49d0>"
      ]
     },
     "execution_count": 70,
     "metadata": {},
     "output_type": "execute_result"
    }
   ],
   "source": [
    "cur.execute('''\n",
    "    insert into track(pk, name, length, rating, count, fk1, fk2)\n",
    "    values(null, ?, ?, ?, ?, ?, ?)\n",
    "''', ['노래1', 270, 5, 100, fk1, fk2])\n",
    "# map, filter 안 배웠으니 이렇게 static하게 해줄거다\n",
    "# 원래는 map과 filter를 사용해야한다.\n",
    "# 원래는 위의 두개의 for문이 한 줄이면 끝난다."
   ]
  },
  {
   "cell_type": "code",
   "execution_count": 71,
   "id": "d58eb465",
   "metadata": {},
   "outputs": [
    {
     "data": {
      "text/plain": [
       "[(1, '노래1', 270, 5, 100, 5, 3)]"
      ]
     },
     "execution_count": 71,
     "metadata": {},
     "output_type": "execute_result"
    }
   ],
   "source": [
    "cur.execute('select * from track')\n",
    "cur.fetchall()"
   ]
  },
  {
   "cell_type": "code",
   "execution_count": 72,
   "id": "343fcc92",
   "metadata": {},
   "outputs": [
    {
     "data": {
      "text/plain": [
       "<sqlite3.Cursor at 0x2484b8e49d0>"
      ]
     },
     "execution_count": 72,
     "metadata": {},
     "output_type": "execute_result"
    }
   ],
   "source": [
    "cur.execute('''\n",
    "    insert into track(name, fk1, fk2)\n",
    "    values(?, ?, ?)\n",
    "''', ['노래2', fk1, fk2])\n",
    "# map, filter"
   ]
  },
  {
   "cell_type": "code",
   "execution_count": 73,
   "id": "b40d5018",
   "metadata": {},
   "outputs": [
    {
     "data": {
      "text/plain": [
       "[(1, '노래1', 270, 5, 100, 5, 3), (2, '노래2', 0, 0, 0, 5, 3)]"
      ]
     },
     "execution_count": 73,
     "metadata": {},
     "output_type": "execute_result"
    }
   ],
   "source": [
    "cur.execute('select * from track')\n",
    "cur.fetchall()"
   ]
  },
  {
   "cell_type": "code",
   "execution_count": 75,
   "id": "16589283",
   "metadata": {},
   "outputs": [
    {
     "data": {
      "text/plain": [
       "<sqlite3.Cursor at 0x2484b8e49d0>"
      ]
     },
     "execution_count": 75,
     "metadata": {},
     "output_type": "execute_result"
    }
   ],
   "source": [
    "cur.execute('insert into track(name, fk1, fk2) values(?,?,?)', \n",
    "            ['노래2', 1, 2])"
   ]
  },
  {
   "cell_type": "code",
   "execution_count": 76,
   "id": "b1110929",
   "metadata": {},
   "outputs": [
    {
     "data": {
      "text/plain": [
       "[(1, '노래1', 270, 5, 100, 5, 3),\n",
       " (2, '노래2', 0, 0, 0, 5, 3),\n",
       " (3, '노래2', 0, 0, 0, 1, 2)]"
      ]
     },
     "execution_count": 76,
     "metadata": {},
     "output_type": "execute_result"
    }
   ],
   "source": [
    "cur.execute('select * from track')\n",
    "cur.fetchall()"
   ]
  },
  {
   "cell_type": "code",
   "execution_count": 77,
   "id": "b7481064",
   "metadata": {},
   "outputs": [
    {
     "data": {
      "text/plain": [
       "<sqlite3.Cursor at 0x2484b8e49d0>"
      ]
     },
     "execution_count": 77,
     "metadata": {},
     "output_type": "execute_result"
    }
   ],
   "source": [
    "cur.execute('''\n",
    "    insert into track(name, fk1, fk2) values(?,?,(\n",
    "        select pk from genre where name like ?\n",
    "    ))\n",
    "''', ['노래3', 2, '%4'])"
   ]
  },
  {
   "cell_type": "code",
   "execution_count": 78,
   "id": "8cf2aad4",
   "metadata": {},
   "outputs": [
    {
     "data": {
      "text/plain": [
       "[(1, '노래1', 270, 5, 100, 5, 3),\n",
       " (2, '노래2', 0, 0, 0, 5, 3),\n",
       " (3, '노래2', 0, 0, 0, 1, 2),\n",
       " (4, '노래3', 0, 0, 0, 2, 4)]"
      ]
     },
     "execution_count": 78,
     "metadata": {},
     "output_type": "execute_result"
    }
   ],
   "source": [
    "cur.execute('select * from track')\n",
    "cur.fetchall()"
   ]
  },
  {
   "cell_type": "code",
   "execution_count": 79,
   "id": "38e4ba67",
   "metadata": {},
   "outputs": [
    {
     "data": {
      "text/plain": [
       "<sqlite3.Cursor at 0x2484b8e49d0>"
      ]
     },
     "execution_count": 79,
     "metadata": {},
     "output_type": "execute_result"
    }
   ],
   "source": [
    "cur.execute('''\n",
    "    insert into track(name, fk1, fk2) values(?,(\n",
    "        select pk from album where name like ?\n",
    "        ),(\n",
    "        select pk from genre where name like ?\n",
    "        ))\n",
    "''', ['노래4', '%싱글%1%', '%장르%3%'])"
   ]
  },
  {
   "cell_type": "code",
   "execution_count": 85,
   "id": "fbd8aa92",
   "metadata": {},
   "outputs": [
    {
     "data": {
      "text/plain": [
       "<sqlite3.Cursor at 0x2484b8e49d0>"
      ]
     },
     "execution_count": 85,
     "metadata": {},
     "output_type": "execute_result"
    }
   ],
   "source": [
    "data = [\n",
    "    ['노래5', '%싱글%3%', '%장르%4%'],\n",
    "    ['노래6', '%싱글%1%', '%장르%1%'],\n",
    "    ['노래7', '%싱글%2%', '%장르%2%'],\n",
    "    ['노래8', '%싱글%3%', '%장르%3%'],\n",
    "    ['노래9', '%싱글%4%', '%장르%4%'],\n",
    "    ['노래10', '%싱글%4%', '%장르%3%'],\n",
    "    ['노래11', '%싱글%3%', '%장르%2%'],\n",
    "    ['노래12', '%싱글%2%', '%장르%1%']\n",
    "]\n",
    "cur.executemany('''\n",
    "    insert into track(name, fk1, fk2) values(?,(\n",
    "        select pk from album where name like ?\n",
    "    ),(\n",
    "        select pk from genre where name like ?\n",
    "    ))\n",
    "''', data)"
   ]
  },
  {
   "cell_type": "code",
   "execution_count": 86,
   "id": "c0d20647",
   "metadata": {},
   "outputs": [
    {
     "data": {
      "text/plain": [
       "[(13,)]"
      ]
     },
     "execution_count": 86,
     "metadata": {},
     "output_type": "execute_result"
    }
   ],
   "source": [
    "cur.execute('select count(*) from track')\n",
    "cur.fetchall()"
   ]
  },
  {
   "cell_type": "code",
   "execution_count": 89,
   "id": "f29460f5",
   "metadata": {},
   "outputs": [
    {
     "data": {
      "text/plain": [
       "[(1,), (1,), (4,), (2,), (3,), (2,)]"
      ]
     },
     "execution_count": 89,
     "metadata": {},
     "output_type": "execute_result"
    }
   ],
   "source": [
    "cur.execute('select count(*) from track group by fk1')\n",
    "cur.fetchall()"
   ]
  },
  {
   "cell_type": "code",
   "execution_count": 91,
   "id": "86ba5a30",
   "metadata": {},
   "outputs": [
    {
     "data": {
      "text/plain": [
       "[(1, 2), (2, 3), (3, 5), (4, 3)]"
      ]
     },
     "execution_count": 91,
     "metadata": {},
     "output_type": "execute_result"
    }
   ],
   "source": [
    "cur.execute('select fk2, count(*) from track group by fk2')\n",
    "cur.fetchall()"
   ]
  },
  {
   "cell_type": "code",
   "execution_count": 92,
   "id": "7372fd52",
   "metadata": {},
   "outputs": [
    {
     "data": {
      "text/plain": [
       "[(1, '장르1', 2), (2, '장르2', 3), (3, '장르3', 5), (4, '장르4', 3)]"
      ]
     },
     "execution_count": 92,
     "metadata": {},
     "output_type": "execute_result"
    }
   ],
   "source": [
    "cur.execute('''\n",
    "    select T_B.pk, T_B.name, T_A.B from genre as T_B\n",
    "    inner join\n",
    "    (select fk2 as A, count(*) as B from track group by fk2) as T_A\n",
    "    on T_A.A = T_B.pk\n",
    "''')\n",
    "cur.fetchall()"
   ]
  },
  {
   "cell_type": "code",
   "execution_count": 93,
   "id": "6498db9a",
   "metadata": {},
   "outputs": [
    {
     "data": {
      "text/plain": [
       "[(4, '장르4', 3), (3, '장르3', 5)]"
      ]
     },
     "execution_count": 93,
     "metadata": {},
     "output_type": "execute_result"
    }
   ],
   "source": [
    "cur.execute('''\n",
    "    select T_B.pk, T_B.name, T_A.B from genre as T_B\n",
    "    inner join\n",
    "    (select fk2 as A, count(*) as B from track group by fk2) as T_A\n",
    "    on T_A.A = T_B.pk\n",
    "    where T_A.B > 2\n",
    "    order by T_B.pk desc\n",
    "    limit 0,2\n",
    "''')\n",
    "cur.fetchall()"
   ]
  },
  {
   "cell_type": "code",
   "execution_count": null,
   "id": "27030118",
   "metadata": {},
   "outputs": [],
   "source": [
    "가수, 가수의 앨범 수 <- 출력하시오"
   ]
  },
  {
   "cell_type": "code",
   "execution_count": 94,
   "id": "35ca4034",
   "metadata": {},
   "outputs": [
    {
     "data": {
      "text/plain": [
       "[(1, '가수1', 2), (2, '가수2', 2), (3, '가수3', 2), (4, '가수4', 2)]"
      ]
     },
     "execution_count": 94,
     "metadata": {},
     "output_type": "execute_result"
    }
   ],
   "source": [
    "cur.execute('''\n",
    "    select T_A.pk, T_A.name, T_B.CNT from artist as T_A\n",
    "    inner join\n",
    "    (select fk, count(*) as CNT from album group by fk) as T_B\n",
    "    on T_B.fk = T_A.pk\n",
    "''')\n",
    "cur.fetchall()"
   ]
  },
  {
   "cell_type": "code",
   "execution_count": 96,
   "id": "12536334",
   "metadata": {},
   "outputs": [
    {
     "data": {
      "text/plain": [
       "[(7, '노래6', '장르1'),\n",
       " (13, '노래12', '장르1'),\n",
       " (3, '노래2', '장르2'),\n",
       " (8, '노래7', '장르2'),\n",
       " (12, '노래11', '장르2'),\n",
       " (1, '노래1', '장르3'),\n",
       " (2, '노래2', '장르3'),\n",
       " (5, '노래4', '장르3'),\n",
       " (9, '노래8', '장르3'),\n",
       " (11, '노래10', '장르3'),\n",
       " (4, '노래3', '장르4'),\n",
       " (6, '노래5', '장르4'),\n",
       " (10, '노래9', '장르4')]"
      ]
     },
     "execution_count": 96,
     "metadata": {},
     "output_type": "execute_result"
    }
   ],
   "source": [
    "cur.execute('''\n",
    "    select track.pk, track.name, genre.name from track\n",
    "    inner join genre on genre.pk = track.fk2\n",
    "    order by genre.name asc\n",
    "''')\n",
    "cur.fetchall()"
   ]
  },
  {
   "cell_type": "code",
   "execution_count": 100,
   "id": "866979b1",
   "metadata": {},
   "outputs": [
    {
     "data": {
      "text/plain": [
       "[(7, '노래6', '싱글1', '장르1'),\n",
       " (1, '노래1', '싱글1', '장르3'),\n",
       " (2, '노래2', '싱글1', '장르3'),\n",
       " (5, '노래4', '싱글1', '장르3'),\n",
       " (13, '노래12', '싱글2', '장르1'),\n",
       " (8, '노래7', '싱글2', '장르2'),\n",
       " (12, '노래11', '싱글3', '장르2'),\n",
       " (9, '노래8', '싱글3', '장르3'),\n",
       " (6, '노래5', '싱글3', '장르4'),\n",
       " (11, '노래10', '싱글4', '장르3'),\n",
       " (10, '노래9', '싱글4', '장르4'),\n",
       " (3, '노래2', '앨범1', '장르2'),\n",
       " (4, '노래3', '앨범2', '장르4')]"
      ]
     },
     "execution_count": 100,
     "metadata": {},
     "output_type": "execute_result"
    }
   ],
   "source": [
    "cur.execute('''\n",
    "    select track.pk, track.name, album.name, genre.name from track\n",
    "    inner join genre on genre.pk = track.fk2\n",
    "    inner join album on album.pk = track.fk1\n",
    "    order by album.name, genre.name\n",
    "''')\n",
    "cur.fetchall()"
   ]
  },
  {
   "cell_type": "code",
   "execution_count": 102,
   "id": "1cae0c40",
   "metadata": {},
   "outputs": [
    {
     "data": {
      "text/plain": [
       "[(7, '가수1', '노래6', '싱글1', '장르1'),\n",
       " (1, '가수1', '노래1', '싱글1', '장르3'),\n",
       " (2, '가수1', '노래2', '싱글1', '장르3'),\n",
       " (5, '가수1', '노래4', '싱글1', '장르3'),\n",
       " (3, '가수1', '노래2', '앨범1', '장르2')]"
      ]
     },
     "execution_count": 102,
     "metadata": {},
     "output_type": "execute_result"
    }
   ],
   "source": [
    "cur.execute('''\n",
    "    select track.pk, artist.name, track.name, album.name, genre.name\n",
    "    from track\n",
    "    inner join genre on genre.pk = track.fk2\n",
    "    inner join album on album.pk = track.fk1\n",
    "    inner join artist on artist.pk = album.fk\n",
    "    where artist.name like '%1'\n",
    "    order by artist.name, album.name, genre.name\n",
    "''')\n",
    "cur.fetchall()"
   ]
  },
  {
   "cell_type": "code",
   "execution_count": 104,
   "id": "44491856",
   "metadata": {},
   "outputs": [
    {
     "data": {
      "text/plain": [
       "[(7, '가수1', '노래6', '싱글1', '장르1'),\n",
       " (1, '가수1', '노래1', '싱글1', '장르3'),\n",
       " (2, '가수1', '노래2', '싱글1', '장르3'),\n",
       " (5, '가수1', '노래4', '싱글1', '장르3'),\n",
       " (3, '가수1', '노래2', '앨범1', '장르2')]"
      ]
     },
     "execution_count": 104,
     "metadata": {},
     "output_type": "execute_result"
    }
   ],
   "source": [
    "# 위 코드와 같은 결과\n",
    "cur.execute('''\n",
    "    select track.pk, artist.name, track.name, album.name, genre.name\n",
    "    from track\n",
    "    inner join genre on genre.pk = track.fk2\n",
    "    inner join album on album.pk = track.fk1\n",
    "    inner join artist on artist.pk = album.fk AND artist.name like '%1'\n",
    "    order by artist.name, album.name, genre.name\n",
    "''')\n",
    "cur.fetchall()"
   ]
  },
  {
   "cell_type": "code",
   "execution_count": 105,
   "id": "60693ac9",
   "metadata": {},
   "outputs": [
    {
     "data": {
      "text/plain": [
       "[(7, '가수1', '노래6', '싱글1', '장르1'),\n",
       " (2, '가수1', '노래2', '싱글1', '장르3'),\n",
       " (5, '가수1', '노래4', '싱글1', '장르3'),\n",
       " (3, '가수1', '노래2', '앨범1', '장르2'),\n",
       " (13, '가수2', '노래12', '싱글2', '장르1'),\n",
       " (8, '가수2', '노래7', '싱글2', '장르2'),\n",
       " (4, '가수2', '노래3', '앨범2', '장르4'),\n",
       " (12, '가수3', '노래11', '싱글3', '장르2'),\n",
       " (9, '가수3', '노래8', '싱글3', '장르3'),\n",
       " (6, '가수3', '노래5', '싱글3', '장르4'),\n",
       " (11, '가수4', '노래10', '싱글4', '장르3'),\n",
       " (10, '가수4', '노래9', '싱글4', '장르4')]"
      ]
     },
     "execution_count": 105,
     "metadata": {},
     "output_type": "execute_result"
    }
   ],
   "source": [
    "# 위 코드와 같은 결과\n",
    "cur.execute('''\n",
    "    select track.pk, artist.name, track.name, album.name, genre.name\n",
    "    from track\n",
    "    inner join genre on genre.pk = track.fk2\n",
    "    inner join album on album.pk = track.fk1\n",
    "    inner join artist on artist.pk = album.fk\n",
    "    where track.count < 10\n",
    "    order by artist.name, album.name, genre.name\n",
    "''')\n",
    "cur.fetchall()"
   ]
  },
  {
   "cell_type": "markdown",
   "id": "1bb442d7",
   "metadata": {},
   "source": [
    "# ORM"
   ]
  },
  {
   "cell_type": "markdown",
   "id": "d3ce69a3",
   "metadata": {},
   "source": [
    "데이터를 오브젝트로 매핑해준다.\\\n",
    "쿼리로 바꿔서 뒷단에서 왔다갔다해준다...\\\n",
    "웹에서 로그인했을 때 불러오는 정보들 관리할 때 많이 쓴다\\\n",
    "아마 웹을 하게 되면 이것을 쓸것이다 당신들이\\\n",
    "데이터베이스와 오브젝트를 연결하는 것이 ORM이다"
   ]
  },
  {
   "cell_type": "markdown",
   "id": "915121f6",
   "metadata": {},
   "source": [
    "1. 새 게시물 생성\n",
    "2. 생성 시, 사용자 태그(0~N)\n",
    "    3. 사용자 태그가 해시태그 풀에 잇는 지 확인\n",
    "    4. 새 게시물 - 해시태그 관계 만들어\n",
    "    5. 해시태그 풀에 있는 빈도 정보 +1"
   ]
  },
  {
   "cell_type": "code",
   "execution_count": null,
   "id": "998f36df",
   "metadata": {},
   "outputs": [],
   "source": [
    "posting - pk, title, content, date\n",
    "\n",
    "hashtag - pk, name, count\n",
    "\n",
    "posting-hashtag : posting.pk, hashtag.pk"
   ]
  },
  {
   "cell_type": "code",
   "execution_count": 106,
   "id": "129cc47a",
   "metadata": {},
   "outputs": [],
   "source": [
    "con = sqlite3.connect('sns.db')\n",
    "cur = con.cursor()"
   ]
  },
  {
   "cell_type": "code",
   "execution_count": 107,
   "id": "ec060e1a",
   "metadata": {},
   "outputs": [
    {
     "data": {
      "text/plain": [
       "[('2023-03-06 02:50:47',)]"
      ]
     },
     "execution_count": 107,
     "metadata": {},
     "output_type": "execute_result"
    }
   ],
   "source": [
    "cur.execute('select current_timestamp')\n",
    "cur.fetchall()"
   ]
  },
  {
   "cell_type": "code",
   "execution_count": 110,
   "id": "66932865",
   "metadata": {},
   "outputs": [
    {
     "data": {
      "text/plain": [
       "<sqlite3.Cursor at 0x2484d9ad1f0>"
      ]
     },
     "execution_count": 110,
     "metadata": {},
     "output_type": "execute_result"
    }
   ],
   "source": [
    "cur.executescript('''\n",
    "    --drop table if exists posting;\n",
    "    --drop table if exists hashtag;\n",
    "    --drop table if exists poshas;\n",
    "    create table posting (\n",
    "        pk integer primary key,\n",
    "        title text,\n",
    "        content text,\n",
    "        regdate date default current_timestamp\n",
    "    );\n",
    "    \n",
    "    create table hashtag (\n",
    "        pk integer primary key,\n",
    "        name text,\n",
    "        count integer default 0\n",
    "    );\n",
    "    \n",
    "    create table poshas (\n",
    "        fk1 integer not null,\n",
    "        fk2 integer not null\n",
    "    );\n",
    "''')"
   ]
  },
  {
   "cell_type": "code",
   "execution_count": 111,
   "id": "cb5f06c9",
   "metadata": {},
   "outputs": [],
   "source": [
    "# 1. 새 게시물 생성\n",
    "# def addPosting(title, content, *hashtag)\n",
    "cur.execute('insert into posting(title, content) values(?,?)',\n",
    "            ['제목1', '내용1'])\n",
    "pid = cur.lastrowid"
   ]
  },
  {
   "cell_type": "code",
   "execution_count": 112,
   "id": "e76120d9",
   "metadata": {},
   "outputs": [
    {
     "data": {
      "text/plain": [
       "1"
      ]
     },
     "execution_count": 112,
     "metadata": {},
     "output_type": "execute_result"
    }
   ],
   "source": [
    "pid"
   ]
  },
  {
   "cell_type": "code",
   "execution_count": 119,
   "id": "dd5cfa43",
   "metadata": {},
   "outputs": [
    {
     "data": {
      "text/plain": [
       "[1, 2]"
      ]
     },
     "execution_count": 119,
     "metadata": {},
     "output_type": "execute_result"
    }
   ],
   "source": [
    "hashtag = ['태그1', '태그2']\n",
    "tagids = list()\n",
    "\n",
    "# 2. 생성 시, 사용자 태그(0~N)\n",
    "#     3. 사용자 태그가 해시태그 풀에 잇는 지 확인\n",
    "\n",
    "for tag in hashtag:\n",
    "    cur.execute('select pk from hashtag where name=?', [tag])\n",
    "#     print(cur.fetchone()) # 없으면 None\n",
    "    tid = cur.fetchone()\n",
    "    if tid is not None:\n",
    "        tagids.append(tid[0])\n",
    "tagids"
   ]
  },
  {
   "cell_type": "code",
   "execution_count": 120,
   "id": "871e28ee",
   "metadata": {},
   "outputs": [],
   "source": [
    "#     4. 새 게시물 - 해시태그 관계 만들어\n",
    "#     5. 해시태그 풀에 있는 빈도 정보 +1\n",
    "\n",
    "for tid in tagids:\n",
    "    cur.execute('''\n",
    "        insert into poshas values(?,?)\n",
    "    ''', [pid, tid])\n",
    "        \n",
    "    cur.execute('''\n",
    "        update hashtag\n",
    "        set count = count + 1\n",
    "        where pk=?\n",
    "    ''', [tid])"
   ]
  },
  {
   "cell_type": "code",
   "execution_count": 118,
   "id": "57465168",
   "metadata": {},
   "outputs": [
    {
     "data": {
      "text/plain": [
       "<sqlite3.Cursor at 0x2484d9ad1f0>"
      ]
     },
     "execution_count": 118,
     "metadata": {},
     "output_type": "execute_result"
    }
   ],
   "source": [
    "# 태그풀 생성\n",
    "tags = [['태그1'], ['태그2'], ['태그3']]\n",
    "cur.executemany('insert into hashtag(name) values(?)', tags)"
   ]
  },
  {
   "cell_type": "code",
   "execution_count": 121,
   "id": "e22c7bf7",
   "metadata": {},
   "outputs": [],
   "source": [
    "# commit을 해야 db에 보인다\n",
    "con.commit()"
   ]
  },
  {
   "cell_type": "code",
   "execution_count": 123,
   "id": "71248039",
   "metadata": {},
   "outputs": [
    {
     "data": {
      "text/plain": [
       "[('제목1', '내용1', '2023-03-06 02:57:27', '태그1'),\n",
       " ('제목1', '내용1', '2023-03-06 02:57:27', '태그2')]"
      ]
     },
     "execution_count": 123,
     "metadata": {},
     "output_type": "execute_result"
    }
   ],
   "source": [
    "# 잘 들어갔는지 확인\n",
    "cur.execute('''\n",
    "    select posting.title, posting.content, posting.regdate, hashtag.name\n",
    "    from poshas\n",
    "    inner join posting on posting.pk = fk1\n",
    "    inner join hashtag on hashtag.pk = fk2\n",
    "''')\n",
    "cur.fetchall()"
   ]
  },
  {
   "cell_type": "code",
   "execution_count": 127,
   "id": "a21011d2",
   "metadata": {},
   "outputs": [
    {
     "ename": "OperationalError",
     "evalue": "ambiguous column name: hashtag.name",
     "output_type": "error",
     "traceback": [
      "\u001b[1;31m---------------------------------------------------------------------------\u001b[0m",
      "\u001b[1;31mOperationalError\u001b[0m                          Traceback (most recent call last)",
      "\u001b[1;32m~\\AppData\\Local\\Temp/ipykernel_21888/3779637271.py\u001b[0m in \u001b[0;36m<module>\u001b[1;34m\u001b[0m\n\u001b[0;32m      1\u001b[0m \u001b[1;31m# 만약에 내가 태그 정보가 필요하다고 한다면\u001b[0m\u001b[1;33m\u001b[0m\u001b[1;33m\u001b[0m\u001b[0m\n\u001b[1;32m----> 2\u001b[1;33m cur.execute('''\n\u001b[0m\u001b[0;32m      3\u001b[0m     \u001b[0mselect\u001b[0m \u001b[0mhashtag\u001b[0m\u001b[1;33m.\u001b[0m\u001b[0mname\u001b[0m\u001b[1;33m\u001b[0m\u001b[1;33m\u001b[0m\u001b[0m\n\u001b[0;32m      4\u001b[0m     \u001b[1;32mfrom\u001b[0m \u001b[0mhashtag\u001b[0m\u001b[1;33m\u001b[0m\u001b[1;33m\u001b[0m\u001b[0m\n\u001b[0;32m      5\u001b[0m     \u001b[0minner\u001b[0m \u001b[0mjoin\u001b[0m \u001b[0mposting\u001b[0m \u001b[0mon\u001b[0m \u001b[0mposting\u001b[0m\u001b[1;33m.\u001b[0m\u001b[0mpk\u001b[0m \u001b[1;33m=\u001b[0m \u001b[0mfk1\u001b[0m\u001b[1;33m\u001b[0m\u001b[1;33m\u001b[0m\u001b[0m\n",
      "\u001b[1;31mOperationalError\u001b[0m: ambiguous column name: hashtag.name"
     ]
    }
   ],
   "source": [
    "# 만약에 내가 태그 정보가 필요하다고 한다면\n",
    "cur.execute('''\n",
    "    select hashtag.name\n",
    "    from hashtag\n",
    "    inner join posting on posting.pk = fk1\n",
    "    inner join hashtag on hashtag.pk = fk2\n",
    "    where fk1 = ?\n",
    "''', pid)\n",
    "cur.fetchall()"
   ]
  },
  {
   "cell_type": "code",
   "execution_count": null,
   "id": "eff83bbb",
   "metadata": {},
   "outputs": [],
   "source": [
    "# 수정\n",
    "# 제목1, 내용1, 태그1, 태그2\n",
    "# -> 제목1-1, 내용1, 태그1, 태그3\n",
    "cur.execute('update posting set title=?, content=?',\n",
    "           ['제목1-1', '내용1'])"
   ]
  },
  {
   "cell_type": "code",
   "execution_count": null,
   "id": "a3e07396",
   "metadata": {},
   "outputs": [],
   "source": [
    "cur.rowcount"
   ]
  },
  {
   "cell_type": "code",
   "execution_count": null,
   "id": "383e9dbd",
   "metadata": {},
   "outputs": [],
   "source": [
    "hashtag = ['태그1', '태그3']\n",
    "oldtag = list()\n",
    "tagids = list()\n",
    "\n",
    "\n",
    "cur.execute('select fk2 from poshas where fk1=?', [pid])\n",
    "for row in cur.fetchall():\n",
    "    oldtag.append(row[0])\n",
    "    \n",
    "    \n",
    "for tag in hashtag:\n",
    "    cur.execute('select pk from hashtag where name=?', [tag])\n",
    "#     print(cur.fetchone()) # 없으면 None\n",
    "    tid = cur.fetchone()\n",
    "    if tid is not None:\n",
    "        tagids.append(tid[0])\n",
    "oldtag, tagids"
   ]
  },
  {
   "cell_type": "code",
   "execution_count": null,
   "id": "76359ebe",
   "metadata": {},
   "outputs": [],
   "source": [
    "for tid in oldtag:\n",
    "    if tid not in tagids: # 없으면 삭제하고 카운트 -1 해준다\n",
    "        cur.execute('delete from poshas where fk1=? and fk2=?',\n",
    "                   [pid, tid])\n",
    "        cur.execute('update hashtag set count = count - 1 where pk=?',\n",
    "                   [tid])"
   ]
  },
  {
   "cell_type": "code",
   "execution_count": null,
   "id": "93334bbd",
   "metadata": {},
   "outputs": [],
   "source": [
    "for tid in oldtag:\n",
    "    if tid not in tagids:\n",
    "        cur.execute('insert into poshas values(?,?)',\n",
    "                   [pid, tid])\n",
    "        \n",
    "        cur.execute('update hashtag set count = count + 1 where pk=?',\n",
    "                   [tid])"
   ]
  },
  {
   "cell_type": "code",
   "execution_count": null,
   "id": "36daf381",
   "metadata": {},
   "outputs": [],
   "source": [
    "cur.execute('select * from poshas')\n",
    "cur.fetchall()"
   ]
  },
  {
   "cell_type": "code",
   "execution_count": null,
   "id": "81ff291b",
   "metadata": {},
   "outputs": [],
   "source": [
    "cur.execute('select * from hashtag')\n",
    "cur.fetchall()"
   ]
  },
  {
   "cell_type": "code",
   "execution_count": null,
   "id": "33beb03b",
   "metadata": {},
   "outputs": [],
   "source": [
    "con.close()"
   ]
  }
 ],
 "metadata": {
  "kernelspec": {
   "display_name": "Python 3 (ipykernel)",
   "language": "python",
   "name": "python3"
  },
  "language_info": {
   "codemirror_mode": {
    "name": "ipython",
    "version": 3
   },
   "file_extension": ".py",
   "mimetype": "text/x-python",
   "name": "python",
   "nbconvert_exporter": "python",
   "pygments_lexer": "ipython3",
   "version": "3.9.7"
  }
 },
 "nbformat": 4,
 "nbformat_minor": 5
}
