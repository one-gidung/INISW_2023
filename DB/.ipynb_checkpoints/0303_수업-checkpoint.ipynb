{
 "cells": [
  {
   "cell_type": "code",
   "execution_count": 1,
   "id": "4e241f97",
   "metadata": {},
   "outputs": [],
   "source": [
    "import sqlite3"
   ]
  },
  {
   "cell_type": "code",
   "execution_count": 2,
   "id": "faf16adf",
   "metadata": {},
   "outputs": [],
   "source": [
    "con = sqlite3.connect(':memory:')\n",
    "cur = con.cursor()"
   ]
  },
  {
   "cell_type": "code",
   "execution_count": 3,
   "id": "2b294d30",
   "metadata": {},
   "outputs": [
    {
     "data": {
      "text/plain": [
       "<sqlite3.Cursor at 0x2c2b65ce110>"
      ]
     },
     "execution_count": 3,
     "metadata": {},
     "output_type": "execute_result"
    }
   ],
   "source": [
    "cur.execute('CREATE TABLE temp (name, age)')"
   ]
  },
  {
   "cell_type": "code",
   "execution_count": 4,
   "id": "e3814d69",
   "metadata": {},
   "outputs": [
    {
     "data": {
      "text/plain": [
       "<sqlite3.Cursor at 0x2c2b65ce110>"
      ]
     },
     "execution_count": 4,
     "metadata": {},
     "output_type": "execute_result"
    }
   ],
   "source": [
    "cur.execute('INSERT INTO temp (name, age) VALUES (1,2)')"
   ]
  },
  {
   "cell_type": "code",
   "execution_count": 5,
   "id": "63139548",
   "metadata": {},
   "outputs": [
    {
     "data": {
      "text/plain": [
       "<sqlite3.Cursor at 0x2c2b65ce110>"
      ]
     },
     "execution_count": 5,
     "metadata": {},
     "output_type": "execute_result"
    }
   ],
   "source": [
    "cur.execute('SELECT * FROM temp')"
   ]
  },
  {
   "cell_type": "code",
   "execution_count": 6,
   "id": "a008f669",
   "metadata": {},
   "outputs": [
    {
     "data": {
      "text/plain": [
       "[(1, 2)]"
      ]
     },
     "execution_count": 6,
     "metadata": {},
     "output_type": "execute_result"
    }
   ],
   "source": [
    "cur.fetchall()"
   ]
  },
  {
   "cell_type": "code",
   "execution_count": 7,
   "id": "7d28c645",
   "metadata": {},
   "outputs": [
    {
     "data": {
      "text/plain": [
       "<sqlite3.Cursor at 0x2c2b65ce110>"
      ]
     },
     "execution_count": 7,
     "metadata": {},
     "output_type": "execute_result"
    }
   ],
   "source": [
    "# qmark, named 스타일로 전달을 해보자\n",
    "cur.execute('INSERT INTO temp VALUES(?,?)', ['hi', 'hello'])"
   ]
  },
  {
   "cell_type": "code",
   "execution_count": 8,
   "id": "4c32ca53",
   "metadata": {},
   "outputs": [
    {
     "data": {
      "text/plain": [
       "[(1, 2), ('hi', 'hello')]"
      ]
     },
     "execution_count": 8,
     "metadata": {},
     "output_type": "execute_result"
    }
   ],
   "source": [
    "cur.execute('SELECT * FROM temp')\n",
    "cur.fetchall()"
   ]
  },
  {
   "cell_type": "code",
   "execution_count": 9,
   "id": "045bc733",
   "metadata": {},
   "outputs": [
    {
     "data": {
      "text/plain": [
       "<sqlite3.Cursor at 0x2c2b65ce110>"
      ]
     },
     "execution_count": 9,
     "metadata": {},
     "output_type": "execute_result"
    }
   ],
   "source": [
    "cur.execute('INSERT INTO temp VALUES(:name, :age)',\n",
    "           {'name':'이름', 'age':4})"
   ]
  },
  {
   "cell_type": "code",
   "execution_count": 10,
   "id": "14bcdae3",
   "metadata": {},
   "outputs": [
    {
     "data": {
      "text/plain": [
       "[(1, 2), ('hi', 'hello'), ('이름', 4)]"
      ]
     },
     "execution_count": 10,
     "metadata": {},
     "output_type": "execute_result"
    }
   ],
   "source": [
    "cur.execute('SELECT * FROM temp')\n",
    "cur.fetchall()"
   ]
  },
  {
   "cell_type": "code",
   "execution_count": 12,
   "id": "6978dfa2",
   "metadata": {},
   "outputs": [
    {
     "data": {
      "text/plain": [
       "[(1, 2), ('hi', 'hello'), ('이름', 4), (1, 'A'), (2, 'B'), (3, 'C')]"
      ]
     },
     "execution_count": 12,
     "metadata": {},
     "output_type": "execute_result"
    }
   ],
   "source": [
    "data = [(1, 'A'), (2, 'B'), (3, 'C')]\n",
    "cur.executemany('INSERT INTO temp VALUES(?,?)', data)\n",
    "cur.execute('SELECT * FROM temp')\n",
    "cur.fetchall()"
   ]
  },
  {
   "cell_type": "code",
   "execution_count": 14,
   "id": "3e43b7f9",
   "metadata": {},
   "outputs": [
    {
     "data": {
      "text/plain": [
       "[(1, 2),\n",
       " ('hi', 'hello'),\n",
       " ('이름', 4),\n",
       " (1, 'A'),\n",
       " (2, 'B'),\n",
       " (3, 'C'),\n",
       " (4, 'A'),\n",
       " (5, 'B'),\n",
       " (6, 'C')]"
      ]
     },
     "execution_count": 14,
     "metadata": {},
     "output_type": "execute_result"
    }
   ],
   "source": [
    "data = [{'name':4, 'age':'A'}, {'name':5, 'age':'B'}, {'name':6, 'age':'C'}]\n",
    "cur.executemany('INSERT INTO temp VALUES(:name, :age)', data)\n",
    "cur.execute('SELECT * FROM temp')\n",
    "cur.fetchall()"
   ]
  },
  {
   "cell_type": "code",
   "execution_count": 15,
   "id": "e14418c8",
   "metadata": {},
   "outputs": [
    {
     "data": {
      "text/plain": [
       "[(1, 2), ('hi', 'hello'), ('이름', 4), (1, 'A')]"
      ]
     },
     "execution_count": 15,
     "metadata": {},
     "output_type": "execute_result"
    }
   ],
   "source": [
    "cur.execute('SELECT * FROM temp')\n",
    "cur.fetchmany(4)"
   ]
  },
  {
   "cell_type": "code",
   "execution_count": 16,
   "id": "6a4ee472",
   "metadata": {},
   "outputs": [
    {
     "data": {
      "text/plain": [
       "[('hi', 'hello'), ('이름', 4), (1, 'A'), (2, 'B')]"
      ]
     },
     "execution_count": 16,
     "metadata": {},
     "output_type": "execute_result"
    }
   ],
   "source": [
    "cur.execute('SELECT * FROM temp LIMIT 1,4')\n",
    "cur.fetchall()"
   ]
  },
  {
   "cell_type": "code",
   "execution_count": 26,
   "id": "c73e7e48",
   "metadata": {},
   "outputs": [
    {
     "data": {
      "text/plain": [
       "<sqlite3.Cursor at 0x2c2b65ce110>"
      ]
     },
     "execution_count": 26,
     "metadata": {},
     "output_type": "execute_result"
    }
   ],
   "source": [
    "cur.execute('DROP TABLE temp2')"
   ]
  },
  {
   "cell_type": "code",
   "execution_count": 27,
   "id": "7d96ea41",
   "metadata": {},
   "outputs": [
    {
     "data": {
      "text/plain": [
       "<sqlite3.Cursor at 0x2c2b65ce110>"
      ]
     },
     "execution_count": 27,
     "metadata": {},
     "output_type": "execute_result"
    }
   ],
   "source": [
    "cur.executescript('''\n",
    "    CREATE TABLE temp2 (\n",
    "        pk INTEGER PRIMARY KEY AUTOINCREMENT,\n",
    "        name TEXT\n",
    "    );\n",
    "    \n",
    "    INSERT INTO temp2 (name) VALUES('이름1');--   => pk X 자동 1\n",
    "    INSERT INTO temp2 VALUES (NULL, '이름2');--   => null 자동 2\n",
    "''')"
   ]
  },
  {
   "cell_type": "code",
   "execution_count": 28,
   "id": "4abfd497",
   "metadata": {},
   "outputs": [
    {
     "data": {
      "text/plain": [
       "[(1, '이름1'), (2, '이름2')]"
      ]
     },
     "execution_count": 28,
     "metadata": {},
     "output_type": "execute_result"
    }
   ],
   "source": [
    "cur.execute('SELECT * FROM temp2')\n",
    "cur.fetchall()"
   ]
  },
  {
   "cell_type": "code",
   "execution_count": 29,
   "id": "a158a3ec",
   "metadata": {},
   "outputs": [
    {
     "ename": "IntegrityError",
     "evalue": "UNIQUE constraint failed: temp2.pk",
     "output_type": "error",
     "traceback": [
      "\u001b[1;31m---------------------------------------------------------------------------\u001b[0m",
      "\u001b[1;31mIntegrityError\u001b[0m                            Traceback (most recent call last)",
      "\u001b[1;32m~\\AppData\\Local\\Temp/ipykernel_24908/1020964108.py\u001b[0m in \u001b[0;36m<module>\u001b[1;34m\u001b[0m\n\u001b[1;32m----> 1\u001b[1;33m \u001b[0mcur\u001b[0m\u001b[1;33m.\u001b[0m\u001b[0mexecute\u001b[0m\u001b[1;33m(\u001b[0m\u001b[1;34m'INSERT INTO temp2 VALUES(1,1)'\u001b[0m\u001b[1;33m)\u001b[0m\u001b[1;33m\u001b[0m\u001b[1;33m\u001b[0m\u001b[0m\n\u001b[0m",
      "\u001b[1;31mIntegrityError\u001b[0m: UNIQUE constraint failed: temp2.pk"
     ]
    }
   ],
   "source": [
    "cur.execute('INSERT INTO temp2 VALUES(1,1)')"
   ]
  },
  {
   "cell_type": "code",
   "execution_count": 44,
   "id": "86f7e5ec",
   "metadata": {},
   "outputs": [],
   "source": [
    "# DB 닫기\n",
    "con.close()"
   ]
  },
  {
   "cell_type": "code",
   "execution_count": 45,
   "id": "7db92546",
   "metadata": {},
   "outputs": [],
   "source": [
    "con = sqlite3.connect('test.db')\n",
    "cur = con.cursor()"
   ]
  },
  {
   "cell_type": "code",
   "execution_count": 46,
   "id": "ef4848bf",
   "metadata": {},
   "outputs": [
    {
     "data": {
      "text/plain": [
       "<sqlite3.Cursor at 0x2c2b67573b0>"
      ]
     },
     "execution_count": 46,
     "metadata": {},
     "output_type": "execute_result"
    }
   ],
   "source": [
    "cur.executescript('''\n",
    "    DROP TABLE IF EXISTS temp1;\n",
    "    CREATE TABLE temp1 (\n",
    "        pk INTEGER PRIMARY KEY,\n",
    "        name TEXT\n",
    "    );\n",
    "    \n",
    "    INSERT INTO temp1 VALUES(1, '이름1');\n",
    "    INSERT INTO temp1 VALUES(2, '이름2');\n",
    "    \n",
    "''')"
   ]
  },
  {
   "cell_type": "code",
   "execution_count": 47,
   "id": "527be326",
   "metadata": {},
   "outputs": [
    {
     "data": {
      "text/plain": [
       "[(1, '이름1'), (2, '이름2')]"
      ]
     },
     "execution_count": 47,
     "metadata": {},
     "output_type": "execute_result"
    }
   ],
   "source": [
    "cur.execute('SELECT * FROM temp1')\n",
    "cur.fetchall()"
   ]
  },
  {
   "cell_type": "markdown",
   "id": "e27c5f91",
   "metadata": {},
   "source": [
    "# DB Browser for SQLite3 현재 쥬피터 파일 있는 곳에 생선된 test DB를 저 앱으로 열서어 확인"
   ]
  },
  {
   "cell_type": "code",
   "execution_count": 49,
   "id": "c7b81490",
   "metadata": {},
   "outputs": [
    {
     "data": {
      "text/plain": [
       "<sqlite3.Cursor at 0x2c2b67573b0>"
      ]
     },
     "execution_count": 49,
     "metadata": {},
     "output_type": "execute_result"
    }
   ],
   "source": [
    "cur.execute(\"INSERT INTO temp1 (name) VALUES('111')\")"
   ]
  },
  {
   "cell_type": "code",
   "execution_count": 50,
   "id": "94ea9b2c",
   "metadata": {},
   "outputs": [
    {
     "data": {
      "text/plain": [
       "<sqlite3.Cursor at 0x2c2b67573b0>"
      ]
     },
     "execution_count": 50,
     "metadata": {},
     "output_type": "execute_result"
    }
   ],
   "source": [
    "cur.execute(\"INSERT INTO temp1 VALUES(NULL, '보이나')\")\n",
    "# 실핼 후 브라우저로 확인 (값 들어있는지 확인)"
   ]
  },
  {
   "cell_type": "code",
   "execution_count": 51,
   "id": "5597233d",
   "metadata": {},
   "outputs": [
    {
     "data": {
      "text/plain": [
       "[(1, '이름1'), (2, '이름2'), (3, '111'), (4, '보이나')]"
      ]
     },
     "execution_count": 51,
     "metadata": {},
     "output_type": "execute_result"
    }
   ],
   "source": [
    "# 이걸 돌려도 물리적인 db에 보이지 않는다.\n",
    "cur.execute('SELECT * FROM temp1')\n",
    "cur.fetchall()"
   ]
  },
  {
   "cell_type": "code",
   "execution_count": 52,
   "id": "b9b19180",
   "metadata": {},
   "outputs": [],
   "source": [
    "# commit을 해야 db에 보인다\n",
    "con.commit()"
   ]
  },
  {
   "cell_type": "code",
   "execution_count": 53,
   "id": "4ef51b8a",
   "metadata": {},
   "outputs": [
    {
     "data": {
      "text/plain": [
       "4"
      ]
     },
     "execution_count": 53,
     "metadata": {},
     "output_type": "execute_result"
    }
   ],
   "source": [
    "# insert 된 pk값\n",
    "cur.lastrowid"
   ]
  },
  {
   "cell_type": "markdown",
   "id": "122f619a",
   "metadata": {},
   "source": [
    "# 아래 코드 놓침 하나 한개"
   ]
  },
  {
   "cell_type": "code",
   "execution_count": 54,
   "id": "bc9630a9",
   "metadata": {},
   "outputs": [
    {
     "ename": "OperationalError",
     "evalue": "no such column: usernan",
     "output_type": "error",
     "traceback": [
      "\u001b[1;31m---------------------------------------------------------------------------\u001b[0m",
      "\u001b[1;31mOperationalError\u001b[0m                          Traceback (most recent call last)",
      "\u001b[1;32m~\\AppData\\Local\\Temp/ipykernel_24908/3985856750.py\u001b[0m in \u001b[0;36m<module>\u001b[1;34m\u001b[0m\n\u001b[1;32m----> 1\u001b[1;33m \u001b[0mcur\u001b[0m\u001b[1;33m.\u001b[0m\u001b[0mexecute\u001b[0m\u001b[1;33m(\u001b[0m\u001b[1;34m'SELECT * FROM temp1 WHERE pk=usernan'\u001b[0m\u001b[1;33m)\u001b[0m\u001b[1;33m\u001b[0m\u001b[1;33m\u001b[0m\u001b[0m\n\u001b[0m\u001b[0;32m      2\u001b[0m \u001b[0mcur\u001b[0m\u001b[1;33m.\u001b[0m\u001b[0mfetchall\u001b[0m\u001b[1;33m(\u001b[0m\u001b[1;33m)\u001b[0m\u001b[1;33m\u001b[0m\u001b[1;33m\u001b[0m\u001b[0m\n",
      "\u001b[1;31mOperationalError\u001b[0m: no such column: usernan"
     ]
    }
   ],
   "source": [
    "cur.execute('SELECT * FROM temp1 WHERE pk=usernan')\n",
    "cur.fetchall()"
   ]
  },
  {
   "cell_type": "code",
   "execution_count": 55,
   "id": "f3ba111f",
   "metadata": {},
   "outputs": [],
   "source": [
    "con.close()"
   ]
  },
  {
   "cell_type": "code",
   "execution_count": 56,
   "id": "2f490434",
   "metadata": {},
   "outputs": [],
   "source": [
    "### 예제 _ 프랜차이즈 전산실\n",
    "# CITY, SUPPLIER, PART, SELLS\n",
    "# CITY: PK, NAME\n",
    "# SUPPLIER; PK, NAME, FK(CITY.PK)\n",
    "# PARK: PK, NAME\n",
    "# SELLES: FK(S.PK), FK(P.PK), PRICE"
   ]
  },
  {
   "cell_type": "code",
   "execution_count": 57,
   "id": "6c5ec14b",
   "metadata": {},
   "outputs": [],
   "source": [
    "con = sqlite3.connect('test1.db')\n",
    "cur = con.cursor()"
   ]
  },
  {
   "cell_type": "code",
   "execution_count": 58,
   "id": "0f67bba6",
   "metadata": {},
   "outputs": [
    {
     "data": {
      "text/plain": [
       "<sqlite3.Cursor at 0x2c2b6601260>"
      ]
     },
     "execution_count": 58,
     "metadata": {},
     "output_type": "execute_result"
    }
   ],
   "source": [
    "cur.executescript('''\n",
    "    create table city (\n",
    "        pk integer primary key,\n",
    "        name text\n",
    "    );\n",
    "    create table supplier (\n",
    "        pk integer primary key,\n",
    "        name text,\n",
    "        fk integer not null\n",
    "    );\n",
    "    create table part (\n",
    "        pk integer primary key,\n",
    "        name text\n",
    "    );\n",
    "    create table sells (\n",
    "        fk1 integer not null,\n",
    "        fk2 integer not null,\n",
    "        price integer not null\n",
    "    );\n",
    "''')"
   ]
  },
  {
   "cell_type": "code",
   "execution_count": 59,
   "id": "e3414abd",
   "metadata": {},
   "outputs": [
    {
     "data": {
      "text/plain": [
       "<sqlite3.Cursor at 0x2c2b6601260>"
      ]
     },
     "execution_count": 59,
     "metadata": {},
     "output_type": "execute_result"
    }
   ],
   "source": [
    "data = [('성북구',), ('중구',), ('강북구',), ('어쩌구',), ('저쩌구',)]\n",
    "cur.executemany('INSERT INTO city(name) values(?)', data)"
   ]
  },
  {
   "cell_type": "code",
   "execution_count": 60,
   "id": "286b3dd7",
   "metadata": {},
   "outputs": [
    {
     "data": {
      "text/plain": [
       "[(1, '성북구'), (2, '중구'), (3, '강북구'), (4, '어쩌구'), (5, '저쩌구')]"
      ]
     },
     "execution_count": 60,
     "metadata": {},
     "output_type": "execute_result"
    }
   ],
   "source": [
    "cur.execute('SELECT * FROM city')\n",
    "cur.fetchall()"
   ]
  },
  {
   "cell_type": "code",
   "execution_count": 61,
   "id": "5efda781",
   "metadata": {},
   "outputs": [
    {
     "data": {
      "text/plain": [
       "<sqlite3.Cursor at 0x2c2b6601260>"
      ]
     },
     "execution_count": 61,
     "metadata": {},
     "output_type": "execute_result"
    }
   ],
   "source": [
    "data = [('메뉴1',), ('메뉴2',), ('메뉴3',), ('메뉴4',), ('메뉴5',)]\n",
    "cur.executemany('INSERT INTO part(name) values(?)', data)"
   ]
  },
  {
   "cell_type": "code",
   "execution_count": 62,
   "id": "ca76d934",
   "metadata": {},
   "outputs": [
    {
     "data": {
      "text/plain": [
       "[(1, '메뉴1'), (2, '메뉴2'), (3, '메뉴3'), (4, '메뉴4'), (5, '메뉴5')]"
      ]
     },
     "execution_count": 62,
     "metadata": {},
     "output_type": "execute_result"
    }
   ],
   "source": [
    "cur.execute('SELECT * FROM part')\n",
    "cur.fetchall()"
   ]
  },
  {
   "cell_type": "code",
   "execution_count": 65,
   "id": "62bfadbc",
   "metadata": {},
   "outputs": [
    {
     "name": "stdout",
     "output_type": "stream",
     "text": [
      "1\n"
     ]
    }
   ],
   "source": [
    "cur.execute('SELECT * FROM city')\n",
    "for row in cur.fetchall():\n",
    "    if row[1] == '성북구':\n",
    "        print(row[0])"
   ]
  },
  {
   "cell_type": "code",
   "execution_count": 70,
   "id": "75778716",
   "metadata": {},
   "outputs": [
    {
     "data": {
      "text/plain": [
       "1"
      ]
     },
     "execution_count": 70,
     "metadata": {},
     "output_type": "execute_result"
    }
   ],
   "source": [
    "cur.execute('SELECT pk FROM city WHERE name=:name', {'name':'성북구'})\n",
    "cur.fetchone()[0]"
   ]
  },
  {
   "cell_type": "code",
   "execution_count": 72,
   "id": "7a56391c",
   "metadata": {},
   "outputs": [
    {
     "data": {
      "text/plain": [
       "3"
      ]
     },
     "execution_count": 72,
     "metadata": {},
     "output_type": "execute_result"
    }
   ],
   "source": [
    "cur.execute('SELECT pk FROM city WHERE name LIKE :name', {'name':'%강북%'})\n",
    "cur.fetchone()[0]"
   ]
  },
  {
   "cell_type": "code",
   "execution_count": 73,
   "id": "3f6b6aad",
   "metadata": {},
   "outputs": [
    {
     "data": {
      "text/plain": [
       "[(3,)]"
      ]
     },
     "execution_count": 73,
     "metadata": {},
     "output_type": "execute_result"
    }
   ],
   "source": [
    "cur.execute('SELECT * FROM (SELECT pk FROM city WHERE name LIKE :name)', {'name':'%강북%'})\n",
    "cur.fetchall()"
   ]
  },
  {
   "cell_type": "code",
   "execution_count": 75,
   "id": "d91fce3d",
   "metadata": {},
   "outputs": [],
   "source": [
    "cur.execute('SELECT * FROM city')\n",
    "for row in cur.fetchall():\n",
    "    if row[1] == '성북구':\n",
    "        pk = row[0]\n",
    "        cur.execute('INSERT INTO supplier(name, fk) VALUES(?,?)',\n",
    "                   ['안암1호점', pk])\n",
    "        break"
   ]
  },
  {
   "cell_type": "code",
   "execution_count": 78,
   "id": "78f0bb77",
   "metadata": {},
   "outputs": [
    {
     "data": {
      "text/plain": [
       "[(1, '안암1호점', 1)]"
      ]
     },
     "execution_count": 78,
     "metadata": {},
     "output_type": "execute_result"
    }
   ],
   "source": [
    "cur.execute('SELECT * FROM supplier')\n",
    "cur.fetchall()"
   ]
  },
  {
   "cell_type": "code",
   "execution_count": 79,
   "id": "39d2058c",
   "metadata": {},
   "outputs": [
    {
     "data": {
      "text/plain": [
       "<sqlite3.Cursor at 0x2c2b6601260>"
      ]
     },
     "execution_count": 79,
     "metadata": {},
     "output_type": "execute_result"
    }
   ],
   "source": [
    "cur.execute('SELECT pk FROM city WHERE name LIKE :name', {'name':'%성북%'})\n",
    "pk = cur.fetchone()[0]\n",
    "cur.execute('INSERT INTO supplier(name, fk) VALUES(?,?)',\n",
    "           ['안암2호점', pk])"
   ]
  },
  {
   "cell_type": "code",
   "execution_count": 80,
   "id": "aaae73b5",
   "metadata": {},
   "outputs": [
    {
     "data": {
      "text/plain": [
       "[(1, '안암1호점', 1), (2, '안암2호점', 1)]"
      ]
     },
     "execution_count": 80,
     "metadata": {},
     "output_type": "execute_result"
    }
   ],
   "source": [
    "cur.execute('SELECT * FROM supplier')\n",
    "cur.fetchall()"
   ]
  },
  {
   "cell_type": "code",
   "execution_count": 81,
   "id": "4cb6d0dc",
   "metadata": {},
   "outputs": [
    {
     "data": {
      "text/plain": [
       "<sqlite3.Cursor at 0x2c2b6601260>"
      ]
     },
     "execution_count": 81,
     "metadata": {},
     "output_type": "execute_result"
    }
   ],
   "source": [
    "cur.execute('''\n",
    "    insert into supplier(name, fk)\n",
    "    values(?, (select pk from city where name like ? limit 0,1))\n",
    "''', ['종암1호점', '%성북%'])"
   ]
  },
  {
   "cell_type": "code",
   "execution_count": 82,
   "id": "39618c7d",
   "metadata": {},
   "outputs": [
    {
     "data": {
      "text/plain": [
       "[(1, '안암1호점', 1), (2, '안암2호점', 1), (3, '종암1호점', 1)]"
      ]
     },
     "execution_count": 82,
     "metadata": {},
     "output_type": "execute_result"
    }
   ],
   "source": [
    "cur.execute('SELECT * FROM supplier')\n",
    "cur.fetchall()"
   ]
  },
  {
   "cell_type": "code",
   "execution_count": 84,
   "id": "2f7778b4",
   "metadata": {},
   "outputs": [],
   "source": [
    "con.commit()"
   ]
  },
  {
   "cell_type": "code",
   "execution_count": 89,
   "id": "1b664757",
   "metadata": {},
   "outputs": [
    {
     "data": {
      "text/plain": [
       "<sqlite3.Cursor at 0x2c2b6601260>"
      ]
     },
     "execution_count": 89,
     "metadata": {},
     "output_type": "execute_result"
    }
   ],
   "source": [
    "data = ['%안암1호%', '%메뉴1%', 4500]\n",
    "\n",
    "cur.execute('''\n",
    "    insert into sells(fk1, fk2, price)\n",
    "    values((select pk from supplier where name like ? limit 0,1),\n",
    "            (select pk from part where name like ? limit 0,1),\n",
    "            ?)\n",
    "''', data)"
   ]
  },
  {
   "cell_type": "code",
   "execution_count": 92,
   "id": "1ee59797",
   "metadata": {},
   "outputs": [
    {
     "data": {
      "text/plain": [
       "<sqlite3.Cursor at 0x2c2b6601260>"
      ]
     },
     "execution_count": 92,
     "metadata": {},
     "output_type": "execute_result"
    }
   ],
   "source": [
    "data = [['%안암1호%', '%메뉴2%', 4500],\n",
    "       ['%안암1호%', '%메뉴2%', 5000],\n",
    "       ['%안암2호%', '%메뉴1%', 4700],\n",
    "       ['%안암2호%', '%메뉴2%', 4900],\n",
    "       ['%안암1호%', '%메뉴4%', 5300],\n",
    "       ['%안암1호%', '%메뉴5%', 2300],\n",
    "       ['%안암1호%', '%메뉴1%', 900]]\n",
    "\n",
    "cur.executemany('''\n",
    "    insert into sells(fk1, fk2, price)\n",
    "    values((select pk from supplier where name like ? limit 0,1),\n",
    "            (select pk from part where name like ? limit 0,1),\n",
    "            ?)\n",
    "    ''', data)"
   ]
  },
  {
   "cell_type": "code",
   "execution_count": 93,
   "id": "1e0ba9ad",
   "metadata": {},
   "outputs": [
    {
     "data": {
      "text/plain": [
       "[(1, 1, 4500),\n",
       " (1, 2, 4500),\n",
       " (1, 2, 5000),\n",
       " (2, 1, 4700),\n",
       " (2, 2, 4900),\n",
       " (1, 4, 5300),\n",
       " (1, 5, 2300),\n",
       " (1, 1, 900)]"
      ]
     },
     "execution_count": 93,
     "metadata": {},
     "output_type": "execute_result"
    }
   ],
   "source": [
    "cur.execute('SELECT * FROM sells')\n",
    "cur.fetchall()"
   ]
  },
  {
   "cell_type": "code",
   "execution_count": 95,
   "id": "8c1b469d",
   "metadata": {},
   "outputs": [
    {
     "data": {
      "text/plain": [
       "[('성북구', '안암1호점'), ('성북구', '안암2호점'), ('성북구', '종암1호점')]"
      ]
     },
     "execution_count": 95,
     "metadata": {},
     "output_type": "execute_result"
    }
   ],
   "source": [
    "cur.execute('''\n",
    "    select city.name, supplier.name from city\n",
    "    inner join supplier\n",
    "    on city.pk = supplier.fk\n",
    "    ''')\n",
    "cur.fetchall()"
   ]
  },
  {
   "cell_type": "code",
   "execution_count": null,
   "id": "36378606",
   "metadata": {},
   "outputs": [],
   "source": []
  },
  {
   "cell_type": "code",
   "execution_count": null,
   "id": "1e4816c7",
   "metadata": {},
   "outputs": [],
   "source": []
  },
  {
   "cell_type": "code",
   "execution_count": null,
   "id": "dc62dec2",
   "metadata": {},
   "outputs": [],
   "source": []
  }
 ],
 "metadata": {
  "kernelspec": {
   "display_name": "Python 3 (ipykernel)",
   "language": "python",
   "name": "python3"
  },
  "language_info": {
   "codemirror_mode": {
    "name": "ipython",
    "version": 3
   },
   "file_extension": ".py",
   "mimetype": "text/x-python",
   "name": "python",
   "nbconvert_exporter": "python",
   "pygments_lexer": "ipython3",
   "version": "3.9.7"
  }
 },
 "nbformat": 4,
 "nbformat_minor": 5
}
