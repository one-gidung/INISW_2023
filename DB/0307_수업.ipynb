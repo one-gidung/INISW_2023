{
 "cells": [
  {
   "cell_type": "markdown",
   "id": "04cacfbc",
   "metadata": {},
   "source": [
    "engine 객체에 db api를 통해 뭐라는거야..\\\n",
    "객체와 sql문을 연결해주는 애ㅏㄱ 필요 -> 스키마와 타입이 이런 역할을 함\\\n",
    "sql exp\\\n",
    "타입에는 제약조건들, 타입이 들어가 있다.\\\n",
    "engine으로부터 커넥션을 받는다.\\\n",
    "엔진에는 starting point가 있다.\\\n",
    "SQLite는 파일DB라 port없다.\\\n",
    "lazy connection: 저 당시에 접근이 이루어지는게 아니라 나중에 일어난다.\\\n"
   ]
  },
  {
   "cell_type": "code",
   "execution_count": 1,
   "id": "1856bd49",
   "metadata": {},
   "outputs": [],
   "source": [
    "import sqlalchemy"
   ]
  },
  {
   "cell_type": "code",
   "execution_count": 2,
   "id": "5419ef91",
   "metadata": {},
   "outputs": [],
   "source": [
    "from sqlalchemy import create_engine\n",
    "from sqlalchemy.schema import MetaData, Table, Column, ForeignKey\n",
    "from sqlalchemy.types import Integer, String"
   ]
  },
  {
   "cell_type": "code",
   "execution_count": 5,
   "id": "e68a0af0",
   "metadata": {},
   "outputs": [],
   "source": [
    "# starting point\n",
    "engine = create_engine('sqlite:///orml.db', echo=True)"
   ]
  },
  {
   "cell_type": "code",
   "execution_count": 7,
   "id": "4411c7fa",
   "metadata": {},
   "outputs": [],
   "source": [
    "meta = MetaData() # bing 옵션 = engine 연결"
   ]
  },
  {
   "cell_type": "code",
   "execution_count": 8,
   "id": "f83f44ee",
   "metadata": {},
   "outputs": [
    {
     "data": {
      "text/plain": [
       "FacadeDict({})"
      ]
     },
     "execution_count": 8,
     "metadata": {},
     "output_type": "execute_result"
    }
   ],
   "source": [
    "meta.tables"
   ]
  },
  {
   "cell_type": "code",
   "execution_count": 9,
   "id": "519251f9",
   "metadata": {},
   "outputs": [
    {
     "data": {
      "text/plain": [
       "Table('T_USER', MetaData(), Column('PK', Integer(), table=<T_USER>, primary_key=True, nullable=False), Column('NAME', String(), table=<T_USER>, nullable=False), schema=None)"
      ]
     },
     "execution_count": 9,
     "metadata": {},
     "output_type": "execute_result"
    }
   ],
   "source": [
    "Table('T_USER', meta,\n",
    "      Column('PK', Integer, primary_key=True),\n",
    "      Column('NAME', String, nullable=False))"
   ]
  },
  {
   "cell_type": "code",
   "execution_count": 10,
   "id": "6278efa4",
   "metadata": {},
   "outputs": [],
   "source": [
    "# 테이블 객체가 하나 생성 -> meta 등록, 아직은 물리적으로 DB에 반영 안 됨.XXX"
   ]
  },
  {
   "cell_type": "code",
   "execution_count": 11,
   "id": "62d0fbbf",
   "metadata": {},
   "outputs": [
    {
     "data": {
      "text/plain": [
       "FacadeDict({'T_USER': Table('T_USER', MetaData(), Column('PK', Integer(), table=<T_USER>, primary_key=True, nullable=False), Column('NAME', String(), table=<T_USER>, nullable=False), schema=None)})"
      ]
     },
     "execution_count": 11,
     "metadata": {},
     "output_type": "execute_result"
    }
   ],
   "source": [
    "meta.tables"
   ]
  },
  {
   "cell_type": "code",
   "execution_count": 12,
   "id": "4977fd8e",
   "metadata": {},
   "outputs": [],
   "source": [
    "meta.bind = engine"
   ]
  },
  {
   "cell_type": "code",
   "execution_count": 13,
   "id": "0c06264c",
   "metadata": {},
   "outputs": [
    {
     "name": "stdout",
     "output_type": "stream",
     "text": [
      "2023-03-07 09:42:15,127 INFO sqlalchemy.engine.Engine BEGIN (implicit)\n",
      "2023-03-07 09:42:15,129 INFO sqlalchemy.engine.Engine PRAGMA main.table_info(\"T_USER\")\n",
      "2023-03-07 09:42:15,130 INFO sqlalchemy.engine.Engine [raw sql] ()\n",
      "2023-03-07 09:42:15,132 INFO sqlalchemy.engine.Engine PRAGMA temp.table_info(\"T_USER\")\n",
      "2023-03-07 09:42:15,133 INFO sqlalchemy.engine.Engine [raw sql] ()\n",
      "2023-03-07 09:42:15,137 INFO sqlalchemy.engine.Engine \n",
      "CREATE TABLE \"T_USER\" (\n",
      "\t\"PK\" INTEGER NOT NULL, \n",
      "\t\"NAME\" VARCHAR NOT NULL, \n",
      "\tPRIMARY KEY (\"PK\")\n",
      ")\n",
      "\n",
      "\n",
      "2023-03-07 09:42:15,137 INFO sqlalchemy.engine.Engine [no key 0.00091s] ()\n",
      "2023-03-07 09:42:15,147 INFO sqlalchemy.engine.Engine COMMIT\n"
     ]
    }
   ],
   "source": [
    "meta.create_all()"
   ]
  },
  {
   "cell_type": "code",
   "execution_count": 15,
   "id": "c34d0241",
   "metadata": {},
   "outputs": [],
   "source": [
    "from sqlalchemy.sql import select, insert"
   ]
  },
  {
   "cell_type": "code",
   "execution_count": 17,
   "id": "4cb2968a",
   "metadata": {},
   "outputs": [
    {
     "name": "stdout",
     "output_type": "stream",
     "text": [
      "SELECT \"T_USER\".\"PK\", \"T_USER\".\"NAME\" \n",
      "FROM \"T_USER\"\n"
     ]
    }
   ],
   "source": [
    "print(select(meta.tables['T_USER']))"
   ]
  },
  {
   "cell_type": "code",
   "execution_count": 18,
   "id": "9caf785c",
   "metadata": {},
   "outputs": [
    {
     "name": "stdout",
     "output_type": "stream",
     "text": [
      "INSERT INTO \"T_USER\" (\"PK\", \"NAME\") VALUES (?, ?)\n"
     ]
    }
   ],
   "source": [
    "# (?, ?) 큐마크 스타일\n",
    "print(meta.tables['T_USER'].insert())"
   ]
  },
  {
   "cell_type": "code",
   "execution_count": 19,
   "id": "38bc846b",
   "metadata": {},
   "outputs": [],
   "source": [
    "User = meta.tables['T_USER']"
   ]
  },
  {
   "cell_type": "code",
   "execution_count": 20,
   "id": "fd8ad757",
   "metadata": {},
   "outputs": [
    {
     "name": "stdout",
     "output_type": "stream",
     "text": [
      "INSERT INTO \"T_USER\" (\"PK\", \"NAME\") VALUES (?, ?) SELECT \"T_USER\".\"PK\", \"T_USER\".\"NAME\" \n",
      "FROM \"T_USER\" UPDATE \"T_USER\" SET \"PK\"=?, \"NAME\"=?\n"
     ]
    }
   ],
   "source": [
    "print(insert(User), select(User), User.update())"
   ]
  },
  {
   "cell_type": "code",
   "execution_count": 21,
   "id": "1fbb47ed",
   "metadata": {},
   "outputs": [
    {
     "name": "stdout",
     "output_type": "stream",
     "text": [
      "INSERT INTO \"T_USER\" (\"NAME\") VALUES (?)\n"
     ]
    }
   ],
   "source": [
    "print(meta.tables['T_USER'].insert().values(NAME='아무나'))"
   ]
  },
  {
   "cell_type": "code",
   "execution_count": 22,
   "id": "6d3a2ec2",
   "metadata": {},
   "outputs": [
    {
     "name": "stdout",
     "output_type": "stream",
     "text": [
      "INSERT INTO \"T_USER\" (\"NAME\") VALUES (?)\n"
     ]
    }
   ],
   "source": [
    "print(User.insert().values(NAME='아무나').compile())"
   ]
  },
  {
   "cell_type": "code",
   "execution_count": 23,
   "id": "2f0e6ccc",
   "metadata": {},
   "outputs": [
    {
     "name": "stdout",
     "output_type": "stream",
     "text": [
      "{'NAME': '아무나'}\n"
     ]
    }
   ],
   "source": [
    "print(User.insert().values(NAME='아무나').compile().params)"
   ]
  },
  {
   "cell_type": "code",
   "execution_count": 24,
   "id": "b8dd9084",
   "metadata": {},
   "outputs": [],
   "source": [
    "con = engine.connect()"
   ]
  },
  {
   "cell_type": "code",
   "execution_count": 25,
   "id": "635ffb74",
   "metadata": {},
   "outputs": [
    {
     "data": {
      "text/plain": [
       "<sqlalchemy.sql.dml.Insert object at 0x0000029A95ECF490>"
      ]
     },
     "execution_count": 25,
     "metadata": {},
     "output_type": "execute_result"
    }
   ],
   "source": [
    "insert(User, bind=engine).values(NAME='아무나')"
   ]
  },
  {
   "cell_type": "code",
   "execution_count": 26,
   "id": "cc0e71fa",
   "metadata": {},
   "outputs": [
    {
     "name": "stdout",
     "output_type": "stream",
     "text": [
      "2023-03-07 09:55:07,530 INFO sqlalchemy.engine.Engine INSERT INTO \"T_USER\" (\"NAME\") VALUES (?)\n",
      "2023-03-07 09:55:07,533 INFO sqlalchemy.engine.Engine [generated in 0.00265s] ('아무나',)\n",
      "2023-03-07 09:55:07,538 INFO sqlalchemy.engine.Engine COMMIT\n"
     ]
    }
   ],
   "source": [
    "cur = con.execute(insert(User).values(NAME='아무나'))"
   ]
  },
  {
   "cell_type": "code",
   "execution_count": 27,
   "id": "22656159",
   "metadata": {},
   "outputs": [
    {
     "name": "stdout",
     "output_type": "stream",
     "text": [
      "2023-03-07 09:57:01,074 INFO sqlalchemy.engine.Engine SELECT \"T_USER\".\"PK\", \"T_USER\".\"NAME\" \n",
      "FROM \"T_USER\"\n",
      "2023-03-07 09:57:01,082 INFO sqlalchemy.engine.Engine [generated in 0.00225s] ()\n"
     ]
    }
   ],
   "source": [
    "cur = con.execute(User.select())"
   ]
  },
  {
   "cell_type": "code",
   "execution_count": 28,
   "id": "f1432944",
   "metadata": {},
   "outputs": [
    {
     "data": {
      "text/plain": [
       "[(1, '아무나')]"
      ]
     },
     "execution_count": 28,
     "metadata": {},
     "output_type": "execute_result"
    }
   ],
   "source": [
    "cur.fetchall()"
   ]
  },
  {
   "cell_type": "code",
   "execution_count": 30,
   "id": "fbb7c4e5",
   "metadata": {},
   "outputs": [],
   "source": [
    "from sqlalchemy.sql import and_, or_"
   ]
  },
  {
   "cell_type": "code",
   "execution_count": 32,
   "id": "467956de",
   "metadata": {},
   "outputs": [
    {
     "name": "stdout",
     "output_type": "stream",
     "text": [
      "\"T_USER\".\"PK\" = :PK_1\n"
     ]
    }
   ],
   "source": [
    "print(User.c.PK == 1)"
   ]
  },
  {
   "cell_type": "code",
   "execution_count": 31,
   "id": "8d7dd74d",
   "metadata": {},
   "outputs": [
    {
     "name": "stdout",
     "output_type": "stream",
     "text": [
      "\"T_USER\".\"PK\" = :PK_1 AND \"T_USER\".\"NAME\" = :NAME_1\n"
     ]
    }
   ],
   "source": [
    "print(and_(User.c.PK == 1, User.c.NAME == 1))"
   ]
  },
  {
   "cell_type": "code",
   "execution_count": 33,
   "id": "97017535",
   "metadata": {},
   "outputs": [
    {
     "data": {
      "text/plain": [
       "Table('T_ADDRESS', MetaData(bind=Engine(sqlite:///orml.db)), Column('PK', Integer(), table=<T_ADDRESS>, primary_key=True, nullable=False), Column('ADDR', String(), table=<T_ADDRESS>), Column('FK', Integer(), table=<T_ADDRESS>, nullable=False), schema=None)"
      ]
     },
     "execution_count": 33,
     "metadata": {},
     "output_type": "execute_result"
    }
   ],
   "source": [
    "Table('T_ADDRESS', meta,\n",
    "     Column('PK', Integer, primary_key=True),\n",
    "     Column('ADDR', String),\n",
    "     Column('FK', Integer, nullable=False))"
   ]
  },
  {
   "cell_type": "code",
   "execution_count": 35,
   "id": "fd9a2f4f",
   "metadata": {},
   "outputs": [
    {
     "data": {
      "text/plain": [
       "(2,\n",
       " FacadeDict({'T_USER': Table('T_USER', MetaData(bind=Engine(sqlite:///orml.db)), Column('PK', Integer(), table=<T_USER>, primary_key=True, nullable=False), Column('NAME', String(), table=<T_USER>, nullable=False), schema=None), 'T_ADDRESS': Table('T_ADDRESS', MetaData(bind=Engine(sqlite:///orml.db)), Column('PK', Integer(), table=<T_ADDRESS>, primary_key=True, nullable=False), Column('ADDR', String(), table=<T_ADDRESS>), Column('FK', Integer(), table=<T_ADDRESS>, nullable=False), schema=None)}))"
      ]
     },
     "execution_count": 35,
     "metadata": {},
     "output_type": "execute_result"
    }
   ],
   "source": [
    "len(meta.tables), meta.tables"
   ]
  },
  {
   "cell_type": "code",
   "execution_count": 36,
   "id": "23db5835",
   "metadata": {},
   "outputs": [
    {
     "data": {
      "text/plain": [
       "Engine(sqlite:///orml.db)"
      ]
     },
     "execution_count": 36,
     "metadata": {},
     "output_type": "execute_result"
    }
   ],
   "source": [
    "meta.bind"
   ]
  },
  {
   "cell_type": "code",
   "execution_count": 37,
   "id": "d2806dc0",
   "metadata": {},
   "outputs": [
    {
     "name": "stdout",
     "output_type": "stream",
     "text": [
      "2023-03-07 10:02:49,243 INFO sqlalchemy.engine.Engine BEGIN (implicit)\n",
      "2023-03-07 10:02:49,245 INFO sqlalchemy.engine.Engine PRAGMA main.table_info(\"T_USER\")\n",
      "2023-03-07 10:02:49,245 INFO sqlalchemy.engine.Engine [raw sql] ()\n",
      "2023-03-07 10:02:49,249 INFO sqlalchemy.engine.Engine PRAGMA main.table_info(\"T_ADDRESS\")\n",
      "2023-03-07 10:02:49,251 INFO sqlalchemy.engine.Engine [raw sql] ()\n",
      "2023-03-07 10:02:49,251 INFO sqlalchemy.engine.Engine PRAGMA temp.table_info(\"T_ADDRESS\")\n",
      "2023-03-07 10:02:49,255 INFO sqlalchemy.engine.Engine [raw sql] ()\n",
      "2023-03-07 10:02:49,257 INFO sqlalchemy.engine.Engine \n",
      "CREATE TABLE \"T_ADDRESS\" (\n",
      "\t\"PK\" INTEGER NOT NULL, \n",
      "\t\"ADDR\" VARCHAR, \n",
      "\t\"FK\" INTEGER NOT NULL, \n",
      "\tPRIMARY KEY (\"PK\")\n",
      ")\n",
      "\n",
      "\n",
      "2023-03-07 10:02:49,257 INFO sqlalchemy.engine.Engine [no key 0.00114s] ()\n",
      "2023-03-07 10:02:49,268 INFO sqlalchemy.engine.Engine COMMIT\n"
     ]
    }
   ],
   "source": [
    "meta.create_all()"
   ]
  },
  {
   "cell_type": "code",
   "execution_count": 38,
   "id": "820fe5e7",
   "metadata": {},
   "outputs": [],
   "source": [
    "Addr = meta.tables['T_ADDRESS']"
   ]
  },
  {
   "cell_type": "code",
   "execution_count": 39,
   "id": "3d5eb56f",
   "metadata": {},
   "outputs": [
    {
     "data": {
      "text/plain": [
       "(sqlalchemy.sql.schema.Table, sqlalchemy.sql.schema.Table)"
      ]
     },
     "execution_count": 39,
     "metadata": {},
     "output_type": "execute_result"
    }
   ],
   "source": [
    "type(User), type(Addr)"
   ]
  },
  {
   "cell_type": "code",
   "execution_count": 40,
   "id": "e58cf065",
   "metadata": {},
   "outputs": [
    {
     "name": "stdout",
     "output_type": "stream",
     "text": [
      "SELECT \"T_USER\".\"PK\", \"T_USER\".\"NAME\", \"T_ADDRESS\".\"PK\" AS \"PK_1\", \"T_ADDRESS\".\"ADDR\", \"T_ADDRESS\".\"FK\" \n",
      "FROM \"T_USER\", \"T_ADDRESS\"\n"
     ]
    }
   ],
   "source": [
    "print(select([User, Addr]))"
   ]
  },
  {
   "cell_type": "code",
   "execution_count": 41,
   "id": "24ee4c55",
   "metadata": {},
   "outputs": [],
   "source": [
    "from sqlalchemy.sql import join"
   ]
  },
  {
   "cell_type": "code",
   "execution_count": 42,
   "id": "fe78d087",
   "metadata": {},
   "outputs": [
    {
     "data": {
      "text/plain": [
       "<sqlalchemy.sql.selectable.Join at 0x29a96283d90; Join object on T_USER(2862973957888) and T_ADDRESS(2862967672688)>"
      ]
     },
     "execution_count": 42,
     "metadata": {},
     "output_type": "execute_result"
    }
   ],
   "source": [
    "join(User, Addr, User.c.PK==Addr.c.FK)"
   ]
  },
  {
   "cell_type": "code",
   "execution_count": 46,
   "id": "b3b908b0",
   "metadata": {},
   "outputs": [
    {
     "name": "stdout",
     "output_type": "stream",
     "text": [
      "SELECT \"T_USER\".\"NAME\", \"T_ADDRESS\".\"ADDR\" \n",
      "FROM \"T_USER\" JOIN \"T_ADDRESS\" ON \"T_USER\".\"PK\" = \"T_ADDRESS\".\"FK\"\n"
     ]
    }
   ],
   "source": [
    "print(select([User.c.NAME, Addr.c.ADDR])\\\n",
    "     .select_from(join(User, Addr, User.c.PK==Addr.c.FK)))"
   ]
  },
  {
   "cell_type": "code",
   "execution_count": 47,
   "id": "8a0776cc",
   "metadata": {},
   "outputs": [
    {
     "name": "stdout",
     "output_type": "stream",
     "text": [
      "2023-03-07 10:49:08,115 INFO sqlalchemy.engine.Engine SELECT \"T_USER\".\"NAME\", \"T_ADDRESS\".\"ADDR\" \n",
      "FROM \"T_USER\" JOIN \"T_ADDRESS\" ON \"T_USER\".\"PK\" = \"T_ADDRESS\".\"FK\"\n",
      "2023-03-07 10:49:08,116 INFO sqlalchemy.engine.Engine [generated in 0.00205s] ()\n"
     ]
    },
    {
     "data": {
      "text/plain": [
       "[]"
      ]
     },
     "execution_count": 47,
     "metadata": {},
     "output_type": "execute_result"
    }
   ],
   "source": [
    "sql = select([User.c.NAME, Addr.c.ADDR])\\\n",
    "     .select_from(join(User, Addr, User.c.PK==Addr.c.FK))\n",
    "cur = con.execute(sql)\n",
    "cur.fetchall()"
   ]
  },
  {
   "cell_type": "code",
   "execution_count": 49,
   "id": "df504cae",
   "metadata": {},
   "outputs": [
    {
     "name": "stdout",
     "output_type": "stream",
     "text": [
      "SELECT \"T_USER\".\"NAME\", \"T_ADDRESS\".\"ADDR\" \n",
      "FROM \"T_USER\" JOIN \"T_ADDRESS\" ON \"T_USER\".\"PK\" = \"T_ADDRESS\".\"FK\" \n",
      "WHERE \"T_USER\".\"PK\" = ?\n"
     ]
    }
   ],
   "source": [
    "print(select([User.c.NAME, Addr.c.ADDR])\\\n",
    "     .select_from(join(User, Addr, User.c.PK==Addr.c.FK))\\\n",
    "     .where(User.c.PK == 1))"
   ]
  },
  {
   "cell_type": "code",
   "execution_count": 54,
   "id": "909f3ae4",
   "metadata": {},
   "outputs": [
    {
     "name": "stdout",
     "output_type": "stream",
     "text": [
      "SELECT \"T_USER\".\"PK\", \"T_USER\".\"NAME\" \n",
      "FROM \"T_USER\" \n",
      "WHERE \"T_USER\".\"PK\" = ?\n",
      "SELECT \"T_USER\".\"PK\", \"T_USER\".\"NAME\" \n",
      "FROM \"T_USER\"\n"
     ]
    }
   ],
   "source": [
    "# print(User.select().where(User.c.PK==1))\n",
    "# print(select(User))\n",
    "FK = con.execute(User.select().where(User.c.PK==1)).fetchone()[0]\n",
    "                # 1. User 객체 - SELECT - WHERE\n",
    "                # 2. engine의 connection pool에서 관리하는 connection -> con.execute\n",
    "                # 3. 2.의 결과가 resultproxy로 온다. -> cursor\n",
    "                # 4. 3.의 결과(DB의 실제 데이터)를 getchone(1행)[0 => 1열]\n",
    "            \n",
    "# print(insert(Addr).values(ADDR='아무거나', FK=1))\n",
    "cur = con.execute(insert(Addr).values(ADDR='아무거나', FK=FK))\n",
    "cur.lastrowid"
   ]
  },
  {
   "cell_type": "code",
   "execution_count": 55,
   "id": "ad30e739",
   "metadata": {},
   "outputs": [],
   "source": [
    "con.close()\n",
    "meta.clear()\n",
    "engine.dispose()"
   ]
  },
  {
   "cell_type": "code",
   "execution_count": 56,
   "id": "6326a29b",
   "metadata": {},
   "outputs": [],
   "source": [
    "engine = create_engine('sqlite:///orm1.db', echo=True)\n",
    "meta = MetaData(engine)\n",
    "con = engine.connect()"
   ]
  },
  {
   "cell_type": "code",
   "execution_count": 57,
   "id": "b68e9f71",
   "metadata": {},
   "outputs": [
    {
     "data": {
      "text/plain": [
       "FacadeDict({})"
      ]
     },
     "execution_count": 57,
     "metadata": {},
     "output_type": "execute_result"
    }
   ],
   "source": [
    "meta.tables"
   ]
  },
  {
   "cell_type": "code",
   "execution_count": 58,
   "id": "9b09fb2b",
   "metadata": {},
   "outputs": [
    {
     "data": {
      "text/plain": [
       "Table('T_USER', MetaData(bind=Engine(sqlite:///orm1.db)), Column('PK', Integer(), table=<T_USER>), schema=None)"
      ]
     },
     "execution_count": 58,
     "metadata": {},
     "output_type": "execute_result"
    }
   ],
   "source": [
    "Table('T_USER', meta,\n",
    "     Column('PK', Integer))"
   ]
  },
  {
   "cell_type": "code",
   "execution_count": null,
   "id": "3d474228",
   "metadata": {},
   "outputs": [],
   "source": [
    "con.execute"
   ]
  },
  {
   "cell_type": "code",
   "execution_count": 59,
   "id": "00164ebc",
   "metadata": {},
   "outputs": [
    {
     "data": {
      "text/plain": [
       "Table('T_USER', MetaData(bind=Engine(sqlite:///orml.db)), Column('PK', Integer(), table=<T_USER>, primary_key=True, nullable=False), Column('NAME', String(), table=<T_USER>, nullable=False), schema=None)"
      ]
     },
     "execution_count": 59,
     "metadata": {},
     "output_type": "execute_result"
    }
   ],
   "source": [
    "User"
   ]
  },
  {
   "cell_type": "code",
   "execution_count": 63,
   "id": "13e1c097",
   "metadata": {},
   "outputs": [],
   "source": [
    "meta.clear()"
   ]
  },
  {
   "cell_type": "code",
   "execution_count": 64,
   "id": "57136ea0",
   "metadata": {},
   "outputs": [
    {
     "data": {
      "text/plain": [
       "Table('T_USER', MetaData(bind=Engine(sqlite:///orm1.db)), Column('Pk', Integer(), table=<T_USER>), Column('TEST', String(), table=<T_USER>), schema=None)"
      ]
     },
     "execution_count": 64,
     "metadata": {},
     "output_type": "execute_result"
    }
   ],
   "source": [
    "Table('T_USER', meta,\n",
    "     Column('Pk', Integer),\n",
    "     Column('TEST', String),\n",
    "     extend_existing=True)"
   ]
  },
  {
   "cell_type": "code",
   "execution_count": 65,
   "id": "247938fa",
   "metadata": {},
   "outputs": [],
   "source": [
    "con.close()\n",
    "meta.clear()\n",
    "engine.dispose()"
   ]
  },
  {
   "cell_type": "code",
   "execution_count": 66,
   "id": "df344364",
   "metadata": {},
   "outputs": [],
   "source": [
    "# 프랜차이즈\n",
    "engine = create_engine('sqlite:///test1.db', echo=True)\n",
    "meta = MetaData(engine)\n",
    "con = engine.connect()"
   ]
  },
  {
   "cell_type": "code",
   "execution_count": 67,
   "id": "701fcb43",
   "metadata": {},
   "outputs": [
    {
     "data": {
      "text/plain": [
       "Table('sells', MetaData(bind=Engine(sqlite:///test1.db)), Column('fk1', Integer(), table=<sells>), Column('fk2', Integer(), table=<sells>), Column('price', Integer(), table=<sells>), schema=None)"
      ]
     },
     "execution_count": 67,
     "metadata": {},
     "output_type": "execute_result"
    }
   ],
   "source": [
    "# city, part, sells, supplier\n",
    "# pk, name  fk1, fk2, price,  fk\n",
    "Table('city', meta,\n",
    "     Column('pk', Integer, primary_key=True),\n",
    "     Column('name', String), extend_existing=True)\n",
    "\n",
    "Table('part', meta,\n",
    "     Column('pk', Integer, primary_key=True),\n",
    "     Column('name', String), extend_existing=True)\n",
    "\n",
    "Table('supplier', meta,\n",
    "     Column('pk', Integer, primary_key=True),\n",
    "     Column('name', String),\n",
    "     Column('fk', Integer), extend_existing=True)\n",
    "\n",
    "Table('sells', meta,\n",
    "     Column('fk1', Integer),\n",
    "     Column('fk2', Integer),\n",
    "     Column('price', Integer), extend_existing=True)"
   ]
  },
  {
   "cell_type": "code",
   "execution_count": 68,
   "id": "6a16940c",
   "metadata": {},
   "outputs": [
    {
     "name": "stdout",
     "output_type": "stream",
     "text": [
      "2023-03-07 11:27:14,628 INFO sqlalchemy.engine.Engine BEGIN (implicit)\n",
      "2023-03-07 11:27:14,629 INFO sqlalchemy.engine.Engine PRAGMA main.table_info(\"city\")\n",
      "2023-03-07 11:27:14,631 INFO sqlalchemy.engine.Engine [raw sql] ()\n",
      "2023-03-07 11:27:14,632 INFO sqlalchemy.engine.Engine PRAGMA main.table_info(\"part\")\n",
      "2023-03-07 11:27:14,633 INFO sqlalchemy.engine.Engine [raw sql] ()\n",
      "2023-03-07 11:27:14,635 INFO sqlalchemy.engine.Engine PRAGMA main.table_info(\"supplier\")\n",
      "2023-03-07 11:27:14,635 INFO sqlalchemy.engine.Engine [raw sql] ()\n",
      "2023-03-07 11:27:14,637 INFO sqlalchemy.engine.Engine PRAGMA main.table_info(\"sells\")\n",
      "2023-03-07 11:27:14,638 INFO sqlalchemy.engine.Engine [raw sql] ()\n",
      "2023-03-07 11:27:14,639 INFO sqlalchemy.engine.Engine COMMIT\n"
     ]
    }
   ],
   "source": [
    "meta.create_all()"
   ]
  },
  {
   "cell_type": "code",
   "execution_count": 69,
   "id": "f66572fa",
   "metadata": {},
   "outputs": [
    {
     "name": "stdout",
     "output_type": "stream",
     "text": [
      "2023-03-07 11:27:24,095 INFO sqlalchemy.engine.Engine SELECT sells.fk1, sells.fk2, sells.price \n",
      "FROM sells\n",
      "2023-03-07 11:27:24,096 INFO sqlalchemy.engine.Engine [generated in 0.00119s] ()\n"
     ]
    },
    {
     "data": {
      "text/plain": [
       "[]"
      ]
     },
     "execution_count": 69,
     "metadata": {},
     "output_type": "execute_result"
    }
   ],
   "source": [
    "con.execute(select(meta.tables['sells'])).fetchall()"
   ]
  },
  {
   "cell_type": "code",
   "execution_count": 70,
   "id": "99f0d4d9",
   "metadata": {},
   "outputs": [],
   "source": [
    "city = meta.tables['city']\n",
    "supplier = meta.tables['supplier']\n",
    "part = meta.tables['part']\n",
    "sells = meta.tables['sells']"
   ]
  },
  {
   "cell_type": "code",
   "execution_count": 71,
   "id": "97490b46",
   "metadata": {},
   "outputs": [
    {
     "name": "stdout",
     "output_type": "stream",
     "text": [
      "2023-03-07 11:27:28,362 INFO sqlalchemy.engine.Engine SELECT city.name, supplier.name AS name_1 \n",
      "FROM city JOIN supplier ON city.pk = supplier.fk\n",
      "2023-03-07 11:27:28,363 INFO sqlalchemy.engine.Engine [generated in 0.00140s] ()\n"
     ]
    },
    {
     "data": {
      "text/plain": [
       "[('성북구', '안암1호점'), ('성북구', '안암2호점'), ('성북구', '종암1호점')]"
      ]
     },
     "execution_count": 71,
     "metadata": {},
     "output_type": "execute_result"
    }
   ],
   "source": [
    "sql = select([city.c.name, supplier.c.name])\\\n",
    "            .select_from(join(city, supplier, city.c.pk==supplier.c.fk))\n",
    "con.execute(sql).fetchall()"
   ]
  },
  {
   "cell_type": "markdown",
   "id": "db623119",
   "metadata": {},
   "source": [
    "* supplier - sells - part 3개 조인\n",
    "* city - supplier - sells - part 4개 조인\n",
    "* select할 columns 지정도 해보고\n",
    "* where 조건도 표현해보고,\n",
    "* groupby, orderby => 할 수 있음 해보고 (PPT에 있음)"
   ]
  },
  {
   "cell_type": "markdown",
   "id": "9649d92f",
   "metadata": {},
   "source": [
    "1. engine = create_engine(주소) 엔진만들고\n",
    "2. meta = MetaData 데이터만들고\n",
    "3. con = engine ??\n",
    "* engine한테 일 하라고 시키는 걸 binding이라고 한다.\n",
    "* 이 순서대로 해야 에러가 안 난다."
   ]
  },
  {
   "cell_type": "code",
   "execution_count": 79,
   "id": "6aa3c67a",
   "metadata": {},
   "outputs": [],
   "source": [
    "con.close()\n",
    "meta.clear()\n",
    "engine.dispose()"
   ]
  },
  {
   "cell_type": "code",
   "execution_count": 80,
   "id": "8fa50d90",
   "metadata": {},
   "outputs": [],
   "source": [
    "# playlist\n",
    "engine = create_engine('sqlite:///playlist.db', echo=True)\n",
    "meta = MetaData(engine)\n",
    "con = engine.connect()"
   ]
  },
  {
   "cell_type": "code",
   "execution_count": 81,
   "id": "3566ffb8",
   "metadata": {
    "collapsed": true
   },
   "outputs": [
    {
     "name": "stdout",
     "output_type": "stream",
     "text": [
      "2023-03-07 12:07:46,738 INFO sqlalchemy.engine.Engine SELECT name FROM sqlite_master WHERE type='table' ORDER BY name\n",
      "2023-03-07 12:07:46,739 INFO sqlalchemy.engine.Engine [raw sql] ()\n",
      "2023-03-07 12:07:46,742 INFO sqlalchemy.engine.Engine PRAGMA main.table_xinfo(\"album\")\n",
      "2023-03-07 12:07:46,743 INFO sqlalchemy.engine.Engine [raw sql] ()\n",
      "2023-03-07 12:07:46,745 INFO sqlalchemy.engine.Engine SELECT sql FROM  (SELECT * FROM sqlite_master UNION ALL   SELECT * FROM sqlite_temp_master) WHERE name = ? AND type = 'table'\n",
      "2023-03-07 12:07:46,746 INFO sqlalchemy.engine.Engine [raw sql] ('album',)\n",
      "2023-03-07 12:07:46,748 INFO sqlalchemy.engine.Engine PRAGMA main.foreign_key_list(\"album\")\n",
      "2023-03-07 12:07:46,749 INFO sqlalchemy.engine.Engine [raw sql] ()\n",
      "2023-03-07 12:07:46,751 INFO sqlalchemy.engine.Engine PRAGMA temp.foreign_key_list(\"album\")\n",
      "2023-03-07 12:07:46,751 INFO sqlalchemy.engine.Engine [raw sql] ()\n",
      "2023-03-07 12:07:46,752 INFO sqlalchemy.engine.Engine SELECT sql FROM  (SELECT * FROM sqlite_master UNION ALL   SELECT * FROM sqlite_temp_master) WHERE name = ? AND type = 'table'\n",
      "2023-03-07 12:07:46,753 INFO sqlalchemy.engine.Engine [raw sql] ('album',)\n",
      "2023-03-07 12:07:46,754 INFO sqlalchemy.engine.Engine PRAGMA main.index_list(\"album\")\n",
      "2023-03-07 12:07:46,755 INFO sqlalchemy.engine.Engine [raw sql] ()\n",
      "2023-03-07 12:07:46,756 INFO sqlalchemy.engine.Engine PRAGMA temp.index_list(\"album\")\n",
      "2023-03-07 12:07:46,757 INFO sqlalchemy.engine.Engine [raw sql] ()\n",
      "2023-03-07 12:07:46,758 INFO sqlalchemy.engine.Engine PRAGMA main.index_list(\"album\")\n",
      "2023-03-07 12:07:46,759 INFO sqlalchemy.engine.Engine [raw sql] ()\n",
      "2023-03-07 12:07:46,761 INFO sqlalchemy.engine.Engine PRAGMA temp.index_list(\"album\")\n",
      "2023-03-07 12:07:46,761 INFO sqlalchemy.engine.Engine [raw sql] ()\n",
      "2023-03-07 12:07:46,762 INFO sqlalchemy.engine.Engine SELECT sql FROM  (SELECT * FROM sqlite_master UNION ALL   SELECT * FROM sqlite_temp_master) WHERE name = ? AND type = 'table'\n",
      "2023-03-07 12:07:46,763 INFO sqlalchemy.engine.Engine [raw sql] ('album',)\n",
      "2023-03-07 12:07:46,765 INFO sqlalchemy.engine.Engine PRAGMA main.table_xinfo(\"artist\")\n",
      "2023-03-07 12:07:46,766 INFO sqlalchemy.engine.Engine [raw sql] ()\n",
      "2023-03-07 12:07:46,768 INFO sqlalchemy.engine.Engine SELECT sql FROM  (SELECT * FROM sqlite_master UNION ALL   SELECT * FROM sqlite_temp_master) WHERE name = ? AND type = 'table'\n",
      "2023-03-07 12:07:46,769 INFO sqlalchemy.engine.Engine [raw sql] ('artist',)\n",
      "2023-03-07 12:07:46,771 INFO sqlalchemy.engine.Engine PRAGMA main.foreign_key_list(\"artist\")\n",
      "2023-03-07 12:07:46,771 INFO sqlalchemy.engine.Engine [raw sql] ()\n",
      "2023-03-07 12:07:46,772 INFO sqlalchemy.engine.Engine PRAGMA temp.foreign_key_list(\"artist\")\n",
      "2023-03-07 12:07:46,773 INFO sqlalchemy.engine.Engine [raw sql] ()\n",
      "2023-03-07 12:07:46,775 INFO sqlalchemy.engine.Engine SELECT sql FROM  (SELECT * FROM sqlite_master UNION ALL   SELECT * FROM sqlite_temp_master) WHERE name = ? AND type = 'table'\n",
      "2023-03-07 12:07:46,776 INFO sqlalchemy.engine.Engine [raw sql] ('artist',)\n",
      "2023-03-07 12:07:46,777 INFO sqlalchemy.engine.Engine PRAGMA main.index_list(\"artist\")\n",
      "2023-03-07 12:07:46,778 INFO sqlalchemy.engine.Engine [raw sql] ()\n",
      "2023-03-07 12:07:46,780 INFO sqlalchemy.engine.Engine PRAGMA temp.index_list(\"artist\")\n",
      "2023-03-07 12:07:46,780 INFO sqlalchemy.engine.Engine [raw sql] ()\n",
      "2023-03-07 12:07:46,781 INFO sqlalchemy.engine.Engine PRAGMA main.index_list(\"artist\")\n",
      "2023-03-07 12:07:46,782 INFO sqlalchemy.engine.Engine [raw sql] ()\n",
      "2023-03-07 12:07:46,784 INFO sqlalchemy.engine.Engine PRAGMA temp.index_list(\"artist\")\n",
      "2023-03-07 12:07:46,784 INFO sqlalchemy.engine.Engine [raw sql] ()\n",
      "2023-03-07 12:07:46,787 INFO sqlalchemy.engine.Engine SELECT sql FROM  (SELECT * FROM sqlite_master UNION ALL   SELECT * FROM sqlite_temp_master) WHERE name = ? AND type = 'table'\n",
      "2023-03-07 12:07:46,788 INFO sqlalchemy.engine.Engine [raw sql] ('artist',)\n",
      "2023-03-07 12:07:46,791 INFO sqlalchemy.engine.Engine PRAGMA main.table_xinfo(\"genre\")\n",
      "2023-03-07 12:07:46,792 INFO sqlalchemy.engine.Engine [raw sql] ()\n",
      "2023-03-07 12:07:46,792 INFO sqlalchemy.engine.Engine SELECT sql FROM  (SELECT * FROM sqlite_master UNION ALL   SELECT * FROM sqlite_temp_master) WHERE name = ? AND type = 'table'\n",
      "2023-03-07 12:07:46,792 INFO sqlalchemy.engine.Engine [raw sql] ('genre',)\n",
      "2023-03-07 12:07:46,792 INFO sqlalchemy.engine.Engine PRAGMA main.foreign_key_list(\"genre\")\n",
      "2023-03-07 12:07:46,792 INFO sqlalchemy.engine.Engine [raw sql] ()\n",
      "2023-03-07 12:07:46,792 INFO sqlalchemy.engine.Engine PRAGMA temp.foreign_key_list(\"genre\")\n",
      "2023-03-07 12:07:46,792 INFO sqlalchemy.engine.Engine [raw sql] ()\n",
      "2023-03-07 12:07:46,792 INFO sqlalchemy.engine.Engine SELECT sql FROM  (SELECT * FROM sqlite_master UNION ALL   SELECT * FROM sqlite_temp_master) WHERE name = ? AND type = 'table'\n",
      "2023-03-07 12:07:46,803 INFO sqlalchemy.engine.Engine [raw sql] ('genre',)\n",
      "2023-03-07 12:07:46,804 INFO sqlalchemy.engine.Engine PRAGMA main.index_list(\"genre\")\n",
      "2023-03-07 12:07:46,805 INFO sqlalchemy.engine.Engine [raw sql] ()\n",
      "2023-03-07 12:07:46,807 INFO sqlalchemy.engine.Engine PRAGMA temp.index_list(\"genre\")\n",
      "2023-03-07 12:07:46,807 INFO sqlalchemy.engine.Engine [raw sql] ()\n",
      "2023-03-07 12:07:46,809 INFO sqlalchemy.engine.Engine PRAGMA main.index_list(\"genre\")\n",
      "2023-03-07 12:07:46,810 INFO sqlalchemy.engine.Engine [raw sql] ()\n",
      "2023-03-07 12:07:46,811 INFO sqlalchemy.engine.Engine PRAGMA temp.index_list(\"genre\")\n",
      "2023-03-07 12:07:46,812 INFO sqlalchemy.engine.Engine [raw sql] ()\n",
      "2023-03-07 12:07:46,813 INFO sqlalchemy.engine.Engine SELECT sql FROM  (SELECT * FROM sqlite_master UNION ALL   SELECT * FROM sqlite_temp_master) WHERE name = ? AND type = 'table'\n",
      "2023-03-07 12:07:46,814 INFO sqlalchemy.engine.Engine [raw sql] ('genre',)\n",
      "2023-03-07 12:07:46,816 INFO sqlalchemy.engine.Engine PRAGMA main.table_xinfo(\"track\")\n",
      "2023-03-07 12:07:46,817 INFO sqlalchemy.engine.Engine [raw sql] ()\n",
      "2023-03-07 12:07:46,820 INFO sqlalchemy.engine.Engine SELECT sql FROM  (SELECT * FROM sqlite_master UNION ALL   SELECT * FROM sqlite_temp_master) WHERE name = ? AND type = 'table'\n",
      "2023-03-07 12:07:46,821 INFO sqlalchemy.engine.Engine [raw sql] ('track',)\n",
      "2023-03-07 12:07:46,822 INFO sqlalchemy.engine.Engine PRAGMA main.foreign_key_list(\"track\")\n",
      "2023-03-07 12:07:46,822 INFO sqlalchemy.engine.Engine [raw sql] ()\n",
      "2023-03-07 12:07:46,822 INFO sqlalchemy.engine.Engine PRAGMA temp.foreign_key_list(\"track\")\n",
      "2023-03-07 12:07:46,822 INFO sqlalchemy.engine.Engine [raw sql] ()\n",
      "2023-03-07 12:07:46,822 INFO sqlalchemy.engine.Engine SELECT sql FROM  (SELECT * FROM sqlite_master UNION ALL   SELECT * FROM sqlite_temp_master) WHERE name = ? AND type = 'table'\n",
      "2023-03-07 12:07:46,822 INFO sqlalchemy.engine.Engine [raw sql] ('track',)\n",
      "2023-03-07 12:07:46,822 INFO sqlalchemy.engine.Engine PRAGMA main.index_list(\"track\")\n",
      "2023-03-07 12:07:46,822 INFO sqlalchemy.engine.Engine [raw sql] ()\n",
      "2023-03-07 12:07:46,822 INFO sqlalchemy.engine.Engine PRAGMA temp.index_list(\"track\")\n",
      "2023-03-07 12:07:46,822 INFO sqlalchemy.engine.Engine [raw sql] ()\n",
      "2023-03-07 12:07:46,837 INFO sqlalchemy.engine.Engine PRAGMA main.index_list(\"track\")\n",
      "2023-03-07 12:07:46,837 INFO sqlalchemy.engine.Engine [raw sql] ()\n",
      "2023-03-07 12:07:46,839 INFO sqlalchemy.engine.Engine PRAGMA temp.index_list(\"track\")\n",
      "2023-03-07 12:07:46,839 INFO sqlalchemy.engine.Engine [raw sql] ()\n",
      "2023-03-07 12:07:46,841 INFO sqlalchemy.engine.Engine SELECT sql FROM  (SELECT * FROM sqlite_master UNION ALL   SELECT * FROM sqlite_temp_master) WHERE name = ? AND type = 'table'\n",
      "2023-03-07 12:07:46,842 INFO sqlalchemy.engine.Engine [raw sql] ('track',)\n"
     ]
    }
   ],
   "source": [
    "meta.reflect(engine)"
   ]
  },
  {
   "cell_type": "code",
   "execution_count": 82,
   "id": "0a37a3c3",
   "metadata": {},
   "outputs": [
    {
     "data": {
      "text/plain": [
       "dict_keys(['album', 'artist', 'genre', 'track'])"
      ]
     },
     "execution_count": 82,
     "metadata": {},
     "output_type": "execute_result"
    }
   ],
   "source": [
    "meta.tables.keys()"
   ]
  },
  {
   "cell_type": "code",
   "execution_count": 83,
   "id": "d9de9c78",
   "metadata": {},
   "outputs": [],
   "source": [
    "album = meta.tables['album']\n",
    "artist = meta.tables['artist']"
   ]
  },
  {
   "cell_type": "code",
   "execution_count": 85,
   "id": "12066c2e",
   "metadata": {},
   "outputs": [],
   "source": [
    "sql = select([album.c.name, artist.c.name])\\\n",
    "    .select_from(join(album, artist, album.c.fk==artist.c.pk))"
   ]
  },
  {
   "cell_type": "code",
   "execution_count": 86,
   "id": "0fe49f78",
   "metadata": {},
   "outputs": [
    {
     "name": "stdout",
     "output_type": "stream",
     "text": [
      "2023-03-07 12:08:22,507 INFO sqlalchemy.engine.Engine SELECT album.name, artist.name AS name_1 \n",
      "FROM album JOIN artist ON album.fk = artist.pk\n",
      "2023-03-07 12:08:22,507 INFO sqlalchemy.engine.Engine [generated in 0.00125s] ()\n"
     ]
    },
    {
     "data": {
      "text/plain": [
       "[]"
      ]
     },
     "execution_count": 86,
     "metadata": {},
     "output_type": "execute_result"
    }
   ],
   "source": [
    "con.execute(sql).fetchall()"
   ]
  },
  {
   "cell_type": "code",
   "execution_count": 87,
   "id": "2a19ec14",
   "metadata": {},
   "outputs": [
    {
     "data": {
      "text/plain": [
       "(['pk', 'name', 'fk'], ['pk', 'name'])"
      ]
     },
     "execution_count": 87,
     "metadata": {},
     "output_type": "execute_result"
    }
   ],
   "source": [
    "album.columns.keys(), artist.columns.keys()"
   ]
  },
  {
   "cell_type": "code",
   "execution_count": 88,
   "id": "924b392d",
   "metadata": {},
   "outputs": [
    {
     "name": "stdout",
     "output_type": "stream",
     "text": [
      "2023-03-07 12:09:07,158 INFO sqlalchemy.engine.Engine SELECT album.pk, album.name, album.fk \n",
      "FROM album\n",
      "2023-03-07 12:09:07,171 INFO sqlalchemy.engine.Engine [generated in 0.00144s] ()\n"
     ]
    },
    {
     "data": {
      "text/plain": [
       "[]"
      ]
     },
     "execution_count": 88,
     "metadata": {},
     "output_type": "execute_result"
    }
   ],
   "source": [
    "con.execute(album.select()).fetchall()"
   ]
  },
  {
   "cell_type": "code",
   "execution_count": 89,
   "id": "6dc4e414",
   "metadata": {},
   "outputs": [
    {
     "name": "stdout",
     "output_type": "stream",
     "text": [
      "2023-03-07 12:11:19,385 INFO sqlalchemy.engine.Engine INSERT INTO album (name, fk) VALUES (?, ?)\n",
      "2023-03-07 12:11:19,385 INFO sqlalchemy.engine.Engine [generated in 0.00140s] (('아무개1', 1), ('아무개2', 2))\n",
      "2023-03-07 12:11:19,401 INFO sqlalchemy.engine.Engine COMMIT\n"
     ]
    },
    {
     "data": {
      "text/plain": [
       "<sqlalchemy.engine.cursor.LegacyCursorResult at 0x29a97599a00>"
      ]
     },
     "execution_count": 89,
     "metadata": {},
     "output_type": "execute_result"
    }
   ],
   "source": [
    "con.execute(insert(album), [{'name':'아무개1', 'fk':1},\n",
    "                           {'name':'아무개2', 'fk':2}])"
   ]
  },
  {
   "cell_type": "code",
   "execution_count": 90,
   "id": "1eb8a446",
   "metadata": {},
   "outputs": [
    {
     "name": "stdout",
     "output_type": "stream",
     "text": [
      "2023-03-07 12:11:49,550 INFO sqlalchemy.engine.Engine INSERT INTO artist (name) VALUES (?)\n",
      "2023-03-07 12:11:49,552 INFO sqlalchemy.engine.Engine [generated in 0.00185s] (('가수1',), ('가수2',))\n",
      "2023-03-07 12:11:49,560 INFO sqlalchemy.engine.Engine COMMIT\n"
     ]
    },
    {
     "data": {
      "text/plain": [
       "<sqlalchemy.engine.cursor.LegacyCursorResult at 0x29a97733940>"
      ]
     },
     "execution_count": 90,
     "metadata": {},
     "output_type": "execute_result"
    }
   ],
   "source": [
    "con.execute(insert(artist), [{'name':'가수1'},\n",
    "                           {'name':'가수2'}])"
   ]
  },
  {
   "cell_type": "code",
   "execution_count": 92,
   "id": "eaffccbd",
   "metadata": {},
   "outputs": [
    {
     "name": "stdout",
     "output_type": "stream",
     "text": [
      "2023-03-07 12:15:30,467 INFO sqlalchemy.engine.Engine SELECT album.name, artist.name AS name_1 \n",
      "FROM album JOIN artist ON album.fk = artist.pk\n",
      "2023-03-07 12:15:30,469 INFO sqlalchemy.engine.Engine [cached since 427.9s ago] ()\n"
     ]
    },
    {
     "data": {
      "text/plain": [
       "[('아무개1', '가수1'), ('아무개2', '가수2')]"
      ]
     },
     "execution_count": 92,
     "metadata": {},
     "output_type": "execute_result"
    }
   ],
   "source": [
    "sql = select([album.c.name, artist.c.name])\\\n",
    "            .select_from(join(album, artist, album.c.fk==artist.c.pk))\n",
    "con.execute(sql).fetchall()"
   ]
  },
  {
   "cell_type": "code",
   "execution_count": 93,
   "id": "2ab1d650",
   "metadata": {},
   "outputs": [
    {
     "name": "stdout",
     "output_type": "stream",
     "text": [
      "INSERT INTO artist (pk, name) VALUES (?, ?)\n"
     ]
    }
   ],
   "source": [
    "print(insert(artist))"
   ]
  },
  {
   "cell_type": "code",
   "execution_count": 94,
   "id": "27f771e8",
   "metadata": {},
   "outputs": [
    {
     "name": "stdout",
     "output_type": "stream",
     "text": [
      "INSERT INTO artist (name) VALUES (?)\n",
      "{'name': '한소희'}\n"
     ]
    },
    {
     "data": {
      "text/plain": [
       "(None, None)"
      ]
     },
     "execution_count": 94,
     "metadata": {},
     "output_type": "execute_result"
    }
   ],
   "source": [
    "print(insert(artist, {'name':'한소희'})),\\\n",
    "print(insert(artist, {'name':'한소희'}).compile().params)"
   ]
  },
  {
   "cell_type": "code",
   "execution_count": 95,
   "id": "db48e208",
   "metadata": {},
   "outputs": [
    {
     "name": "stdout",
     "output_type": "stream",
     "text": [
      "2023-03-07 12:17:26,664 INFO sqlalchemy.engine.Engine UPDATE artist SET name=? WHERE artist.pk = ?\n",
      "2023-03-07 12:17:26,666 INFO sqlalchemy.engine.Engine [generated in 0.00141s] ('가수1', 1)\n",
      "2023-03-07 12:17:26,666 INFO sqlalchemy.engine.Engine COMMIT\n"
     ]
    },
    {
     "data": {
      "text/plain": [
       "<sqlalchemy.engine.cursor.LegacyCursorResult at 0x29a969c66d0>"
      ]
     },
     "execution_count": 95,
     "metadata": {},
     "output_type": "execute_result"
    }
   ],
   "source": [
    "con.execute(artist.update().values(name='가수1').where(artist.c.pk==1))"
   ]
  },
  {
   "cell_type": "code",
   "execution_count": 96,
   "id": "62cefe4b",
   "metadata": {},
   "outputs": [
    {
     "name": "stdout",
     "output_type": "stream",
     "text": [
      "UPDATE artist SET name=? WHERE artist.pk = ?\n"
     ]
    }
   ],
   "source": [
    "print(artist.update().values(name='가수10').where(artist.c.pk==1))"
   ]
  },
  {
   "cell_type": "code",
   "execution_count": 97,
   "id": "c10061f5",
   "metadata": {},
   "outputs": [
    {
     "name": "stdout",
     "output_type": "stream",
     "text": [
      "2023-03-07 12:18:05,924 INFO sqlalchemy.engine.Engine SELECT artist.pk, artist.name \n",
      "FROM artist\n",
      "2023-03-07 12:18:05,926 INFO sqlalchemy.engine.Engine [generated in 0.00156s] ()\n"
     ]
    },
    {
     "data": {
      "text/plain": [
       "[(1, '가수1'), (2, '가수2'), (3, '가수3'), (4, '가수4'), (5, '가수1'), (6, '가수2')]"
      ]
     },
     "execution_count": 97,
     "metadata": {},
     "output_type": "execute_result"
    }
   ],
   "source": [
    "con.execute(artist.select()).fetchall()"
   ]
  },
  {
   "cell_type": "markdown",
   "id": "f9c207fb",
   "metadata": {},
   "source": [
    "multiple조인할 때는 on절을 안 쓴다 그 이유는 뭐 알아서 알기 때문에..?"
   ]
  },
  {
   "cell_type": "markdown",
   "id": "a2b782de",
   "metadata": {},
   "source": [
    "어느 시점에 DB를 호출했느냐가 중요하다\\\n",
    "oop관점에서 코딩이 가능해진다\\\n",
    "인스턴스만 생성하면 된다.\\\n",
    "=ORM\\\n",
    "세션이 값을 감시하다"
   ]
  }
 ],
 "metadata": {
  "kernelspec": {
   "display_name": "Python 3 (ipykernel)",
   "language": "python",
   "name": "python3"
  },
  "language_info": {
   "codemirror_mode": {
    "name": "ipython",
    "version": 3
   },
   "file_extension": ".py",
   "mimetype": "text/x-python",
   "name": "python",
   "nbconvert_exporter": "python",
   "pygments_lexer": "ipython3",
   "version": "3.9.7"
  }
 },
 "nbformat": 4,
 "nbformat_minor": 5
}
