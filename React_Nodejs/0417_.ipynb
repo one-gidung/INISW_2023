{
 "cells": [
  {
   "cell_type": "markdown",
   "id": "ce908a68",
   "metadata": {},
   "source": [
    "React가 Vue보다 많이 쓰인다.\\\n",
    "JS+HTML5\\\n",
    "Web app\\\n",
    "\\\n",
    "web app이 직접 DB에 접근 못한다. 보안 요소 때문에, 유일하게 HTTP(S)만 허용하고 있다.\\\n",
    "Backend API 서버를 Node.js로 만들거다.\\\n",
    "LTS = Long Term Support\\\n",
    "짝수버전 써야한다"
   ]
  },
  {
   "cell_type": "code",
   "execution_count": null,
   "id": "9c575a67",
   "metadata": {},
   "outputs": [],
   "source": []
  }
 ],
 "metadata": {
  "kernelspec": {
   "display_name": "Python 3 (ipykernel)",
   "language": "python",
   "name": "python3"
  },
  "language_info": {
   "codemirror_mode": {
    "name": "ipython",
    "version": 3
   },
   "file_extension": ".py",
   "mimetype": "text/x-python",
   "name": "python",
   "nbconvert_exporter": "python",
   "pygments_lexer": "ipython3",
   "version": "3.9.7"
  }
 },
 "nbformat": 4,
 "nbformat_minor": 5
}
