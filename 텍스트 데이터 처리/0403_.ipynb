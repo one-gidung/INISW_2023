{
 "cells": [
  {
   "cell_type": "code",
   "execution_count": 9,
   "id": "bfe773ff",
   "metadata": {
    "collapsed": true
   },
   "outputs": [
    {
     "name": "stderr",
     "output_type": "stream",
     "text": [
      "[nltk_data] Downloading package stopwords to\n",
      "[nltk_data]     C:\\Users\\dlel2\\AppData\\Roaming\\nltk_data...\n",
      "[nltk_data]   Unzipping corpora\\stopwords.zip.\n"
     ]
    },
    {
     "data": {
      "text/plain": [
       "True"
      ]
     },
     "execution_count": 9,
     "metadata": {},
     "output_type": "execute_result"
    }
   ],
   "source": [
    "# nltk.download('stopwords')"
   ]
  },
  {
   "cell_type": "code",
   "execution_count": 8,
   "id": "66badd30",
   "metadata": {},
   "outputs": [],
   "source": [
    "import nltk\n",
    "from nltk.corpus import stopwords"
   ]
  },
  {
   "cell_type": "code",
   "execution_count": 11,
   "id": "c69e439d",
   "metadata": {},
   "outputs": [],
   "source": [
    "stop = stopwords.open('english').read()"
   ]
  },
  {
   "cell_type": "code",
   "execution_count": 12,
   "id": "ee9eb103",
   "metadata": {},
   "outputs": [],
   "source": [
    "s = \"i'd like to learn more somthing. i'd like to learn more somthin.\""
   ]
  },
  {
   "cell_type": "code",
   "execution_count": 13,
   "id": "5a4766bd",
   "metadata": {},
   "outputs": [],
   "source": [
    "from nltk.tokenize import word_tokenize"
   ]
  },
  {
   "cell_type": "code",
   "execution_count": 14,
   "id": "39c5af76",
   "metadata": {},
   "outputs": [
    {
     "data": {
      "text/plain": [
       "False"
      ]
     },
     "execution_count": 14,
     "metadata": {},
     "output_type": "execute_result"
    }
   ],
   "source": [
    "word_tokenize(s)[1] in stop.split()"
   ]
  },
  {
   "cell_type": "code",
   "execution_count": 20,
   "id": "ccc03fc8",
   "metadata": {},
   "outputs": [
    {
     "name": "stdout",
     "output_type": "stream",
     "text": [
      "to skipped\n",
      "be skipped\n",
      "or skipped\n",
      "not skipped\n",
      "to skipped\n",
      "be skipped\n"
     ]
    },
    {
     "data": {
      "text/plain": [
       "''"
      ]
     },
     "execution_count": 20,
     "metadata": {},
     "output_type": "execute_result"
    }
   ],
   "source": [
    "import re\n",
    "from string import punctuation\n",
    "\n",
    "result = list()\n",
    "for t in word_tokenize(\n",
    "    re.sub('[{}]'.format(re.escape(punctuation)),\n",
    "           '', \n",
    "           'To be or not to be'.lower())):\n",
    "    if t in stop.split():\n",
    "        print(t, 'skipped')\n",
    "    else:\n",
    "        result.append(t)\n",
    "        print(t)\n",
    "' '.join(result)"
   ]
  },
  {
   "cell_type": "code",
   "execution_count": 24,
   "id": "98092ba1",
   "metadata": {},
   "outputs": [
    {
     "name": "stdout",
     "output_type": "stream",
     "text": [
      "어머니는\n",
      "짜장면이\n",
      "싫다고\n",
      "하셨어\n"
     ]
    },
    {
     "data": {
      "text/plain": [
       "'어머니는 짜장면이 싫다고 하셨어'"
      ]
     },
     "execution_count": 24,
     "metadata": {},
     "output_type": "execute_result"
    }
   ],
   "source": [
    "# 한글 불용어 사전 - 존재는 하나 영어처럼 표준은 없다.\n",
    "from konlpy.tag import Komoran\n",
    "\n",
    "\n",
    "# ma = Komoran()\n",
    "stop = ['은', '는', '이', '가', '을', '를', '께서', '에게', '다고', '시', '었어', '다']\n",
    "\n",
    "result = list()\n",
    "for t in word_tokenize(\n",
    "    re.sub('[{}]'.format(re.escape(punctuation)),\n",
    "           '', \n",
    "           '어머니는 짜장면이 싫다고 하셨어.')): # 토큰화\n",
    "    if t in stop:\n",
    "        print(t, 'skipped')\n",
    "    else:\n",
    "        result.append(t)\n",
    "        print(t)\n",
    "' '.join(result)"
   ]
  },
  {
   "cell_type": "code",
   "execution_count": 30,
   "id": "53cd3989",
   "metadata": {},
   "outputs": [
    {
     "name": "stdout",
     "output_type": "stream",
     "text": [
      "['어머니', '짜장면', '핵', '노', '맛', '이', '.']\n",
      "['어머니', '짜장면', '싫', '하', '.']\n"
     ]
    }
   ],
   "source": [
    "d = '''어머니는 짜장면이 핵노맛이래.\n",
    "어머니는 짜장면이 싫다고 하셨어.'''\n",
    "for s in d.splitlines():\n",
    "    print([t[0] for t in ma.pos(s) if t[1][0] not in ['E', 'J']])"
   ]
  },
  {
   "cell_type": "markdown",
   "id": "2aceae3f",
   "metadata": {},
   "source": [
    "# 욕설제거"
   ]
  },
  {
   "cell_type": "code",
   "execution_count": 39,
   "id": "ad447ade",
   "metadata": {},
   "outputs": [
    {
     "data": {
      "text/plain": [
       "'어쩌고 저쩌고 씨이ㅣ발'"
      ]
     },
     "execution_count": 39,
     "metadata": {},
     "output_type": "execute_result"
    }
   ],
   "source": [
    "stop = ['시발', '씨발', '시발놈', '씨발놈']\n",
    "result = list()\n",
    "\n",
    "for t in word_tokenize(\n",
    "    re.sub('[{}]'.format(re.escape(punctuation)), '',\n",
    "           '어쩌고 저쩌고 씨이ㅣ발!!!')):\n",
    "    if t in stop:\n",
    "        result.append('*'*len(t))\n",
    "    else:\n",
    "        result.append(t)\n",
    "' '.join(result)"
   ]
  },
  {
   "cell_type": "code",
   "execution_count": 34,
   "id": "c7a0bfc5",
   "metadata": {},
   "outputs": [
    {
     "data": {
      "text/plain": [
       "[('어쩌', 'VV'), ('고', 'EC'), ('어쩌', 'VV'), ('고', 'EC'), ('씨발놈', 'NNG')]"
      ]
     },
     "execution_count": 34,
     "metadata": {},
     "output_type": "execute_result"
    }
   ],
   "source": [
    "ma.pos('어쩌고 저쩌고 씨발놈')"
   ]
  },
  {
   "cell_type": "code",
   "execution_count": 55,
   "id": "37540712",
   "metadata": {},
   "outputs": [
    {
     "name": "stdout",
     "output_type": "stream",
     "text": [
      "발</w>\n",
      "<w>시\n",
      "<w>시발</w>\n",
      "<w>C\n",
      "<w>C발</w>\n"
     ]
    }
   ],
   "source": [
    "D = {'시발':5,'시이발':2,'C발':5,'씨발':3}\n",
    "\n",
    "def preprocessing(d):\n",
    "    result = dict()\n",
    "    for k,v in d.items():\n",
    "        nk = ' '.join(['<w>',]+list(k)+['</w>',])\n",
    "        result[nk] = v\n",
    "    return result\n",
    "\n",
    "\n",
    "p = list()\n",
    "d = preprocessing(D)\n",
    "\n",
    "for _ in range(5):\n",
    "    pairs = dict()\n",
    "    for k,v in d.items():\n",
    "        for i in range(len(k.split())-1):\n",
    "            bigram = ' '.join(k.split()[i:i+2])\n",
    "            if bigram in pairs:\n",
    "                pairs[bigram] += v\n",
    "            else:\n",
    "                pairs[bigram] = v\n",
    "    bestkey = max(pairs, key=pairs.get)\n",
    "    newd = dict()\n",
    "    for k,v in d.items():\n",
    "        nk = re.sub(bestkey, re.sub(' ', '', bestkey), k)\n",
    "        newd[nk] = v\n",
    "    d = newd\n",
    "    print(re.sub(' ', '', bestkey))\n",
    "    p.append(bestkey)"
   ]
  },
  {
   "cell_type": "code",
   "execution_count": 50,
   "id": "ed0c0e30",
   "metadata": {},
   "outputs": [],
   "source": [
    "s = list()\n",
    "e = list()\n",
    "\n",
    "for t in p:\n",
    "    if t.split()[0] == '<w>':\n",
    "        s.append(''.join(t.split()[1:]))\n",
    "    if t.split()[-1] == '</w>':\n",
    "        e.append(''.join(t.split()[:-1]))"
   ]
  },
  {
   "cell_type": "code",
   "execution_count": 51,
   "id": "6daa365a",
   "metadata": {},
   "outputs": [],
   "source": [
    "pattern = list()\n",
    "for i in s:\n",
    "    for j in e:\n",
    "        pattern.append(re.compile(r'\\b{}.*?{}\\b'.format(i,j)))"
   ]
  },
  {
   "cell_type": "code",
   "execution_count": 52,
   "id": "d7a22921",
   "metadata": {},
   "outputs": [
    {
     "data": {
      "text/plain": [
       "[re.compile(r'\\b시.*?발\\b', re.UNICODE), re.compile(r'\\bC.*?발\\b', re.UNICODE)]"
      ]
     },
     "execution_count": 52,
     "metadata": {},
     "output_type": "execute_result"
    }
   ],
   "source": [
    "pattern"
   ]
  },
  {
   "cell_type": "code",
   "execution_count": 54,
   "id": "ad88db3f",
   "metadata": {},
   "outputs": [
    {
     "name": "stdout",
     "output_type": "stream",
     "text": [
      "**\n",
      "***\n",
      "**\n",
      "씨발\n"
     ]
    }
   ],
   "source": [
    "for d in D:\n",
    "    if sum([p.search(d) != None for p in pattern]) > 0:\n",
    "        print('*'*len(d))\n",
    "        \n",
    "    else:\n",
    "        print(d)"
   ]
  },
  {
   "cell_type": "code",
   "execution_count": 57,
   "id": "d306fc3c",
   "metadata": {},
   "outputs": [
    {
     "data": {
      "text/plain": [
       "'객'"
      ]
     },
     "execution_count": 57,
     "metadata": {},
     "output_type": "execute_result"
    }
   ],
   "source": [
    "chr(ord('가')+29)"
   ]
  },
  {
   "cell_type": "code",
   "execution_count": 58,
   "id": "5ff7a128",
   "metadata": {},
   "outputs": [
    {
     "ename": "TypeError",
     "evalue": "can only concatenate str (not \"int\") to str",
     "output_type": "error",
     "traceback": [
      "\u001b[1;31m---------------------------------------------------------------------------\u001b[0m",
      "\u001b[1;31mTypeError\u001b[0m                                 Traceback (most recent call last)",
      "\u001b[1;32m~\\AppData\\Local\\Temp/ipykernel_22444/1531422807.py\u001b[0m in \u001b[0;36m<module>\u001b[1;34m\u001b[0m\n\u001b[1;32m----> 1\u001b[1;33m \u001b[0mord\u001b[0m\u001b[1;33m(\u001b[0m\u001b[1;34m'가'\u001b[0m\u001b[1;33m)\u001b[0m\u001b[1;33m,\u001b[0m \u001b[0mchr\u001b[0m\u001b[1;33m(\u001b[0m\u001b[0mord\u001b[0m\u001b[1;33m(\u001b[0m\u001b[1;34m'가'\u001b[0m\u001b[1;33m+\u001b[0m\u001b[1;36m30\u001b[0m\u001b[1;33m)\u001b[0m\u001b[1;33m)\u001b[0m\u001b[1;33m\u001b[0m\u001b[1;33m\u001b[0m\u001b[0m\n\u001b[0m",
      "\u001b[1;31mTypeError\u001b[0m: can only concatenate str (not \"int\") to str"
     ]
    }
   ],
   "source": [
    "ord('가'), chr(ord('가'+30))"
   ]
  },
  {
   "cell_type": "code",
   "execution_count": 59,
   "id": "ec2fd332",
   "metadata": {},
   "outputs": [],
   "source": [
    "base = ord('가')"
   ]
  },
  {
   "cell_type": "code",
   "execution_count": 60,
   "id": "42f7a2ca",
   "metadata": {
    "collapsed": true
   },
   "outputs": [
    {
     "name": "stdout",
     "output_type": "stream",
     "text": [
      "까\n",
      "깍\n",
      "깎\n",
      "깏\n",
      "깐\n",
      "깑\n",
      "깒\n",
      "깓\n",
      "깔\n",
      "깕\n"
     ]
    }
   ],
   "source": [
    "for i in range(10):\n",
    "    print(chr(base+(28*21)+i))"
   ]
  },
  {
   "cell_type": "code",
   "execution_count": 61,
   "id": "dfb6e13f",
   "metadata": {},
   "outputs": [
    {
     "data": {
      "text/plain": [
       "11172"
      ]
     },
     "execution_count": 61,
     "metadata": {},
     "output_type": "execute_result"
    }
   ],
   "source": [
    "19*21*28"
   ]
  },
  {
   "cell_type": "code",
   "execution_count": null,
   "id": "2299a5a8",
   "metadata": {},
   "outputs": [],
   "source": [
    "i "
   ]
  },
  {
   "cell_type": "code",
   "execution_count": null,
   "id": "ff01d80a",
   "metadata": {},
   "outputs": [],
   "source": []
  },
  {
   "cell_type": "code",
   "execution_count": null,
   "id": "28567c02",
   "metadata": {},
   "outputs": [],
   "source": []
  },
  {
   "cell_type": "code",
   "execution_count": 64,
   "id": "e445b60c",
   "metadata": {},
   "outputs": [],
   "source": [
    "def str2trigem(s):\n",
    "    base = ord('가')\n",
    "    result = list()\n",
    "    for c in list(s):\n",
    "        if re.match('[가-힣]', c):\n",
    "            c1, c23 = divmod(ord(c)-base, 21*28)\n",
    "            c2, c3 = divmod(c23, 28)\n",
    "            result.append(cho[c1])\n",
    "            result.append(jung[c2])\n",
    "            result.append(jong[c3])\n",
    "        else:\n",
    "            result.append(c)\n",
    "    return ''.join(result)\n",
    "\n",
    "def trigem2str(s):\n",
    "    result = list()\n",
    "    i = 0\n",
    "    while True:\n",
    "        \n",
    "#     for i in range(len(s)):\n",
    "        if re.match('[{}]'.format(''.join(cho)), s[i]) and \\\n",
    "            re.match('[{}][{}][{}]'.format(\n",
    "            ''.join(cho), ''.join(jung), ''.join(jong)), s[i:i+3]):\n",
    "        \n",
    "            c1 = cho.index(s[i])\n",
    "            c2 = jung.index(s[i+1])\n",
    "            c3 = jong.index(s[i+2])\n",
    "            c = (28+21)*c1\n",
    "            c += 28*c2\n",
    "            c += c3\n",
    "            result.append(chr(ord('가')+c))\n",
    "            \n",
    "            i += 3\n",
    "        else:\n",
    "            result.append(s[i])\n",
    "            i += 1\n",
    "        \n",
    "        if i >= len(s):\n",
    "            break\n",
    "            \n",
    "    return ''.join(result)\n",
    "# str2trigem('동해물과 백두산이')\n",
    "trigem2str('ㄷㅗㅇㅎㅐ ㅁㅜㄹㄱㅘ ')"
   ]
  },
  {
   "cell_type": "code",
   "execution_count": 65,
   "id": "56f118f8",
   "metadata": {
    "collapsed": true
   },
   "outputs": [
    {
     "ename": "NameError",
     "evalue": "name 'cho' is not defined",
     "output_type": "error",
     "traceback": [
      "\u001b[1;31m---------------------------------------------------------------------------\u001b[0m",
      "\u001b[1;31mNameError\u001b[0m                                 Traceback (most recent call last)",
      "\u001b[1;32m~\\AppData\\Local\\Temp/ipykernel_22444/974125400.py\u001b[0m in \u001b[0;36m<module>\u001b[1;34m\u001b[0m\n\u001b[1;32m----> 1\u001b[1;33m \u001b[0mstr2trigem\u001b[0m\u001b[1;33m(\u001b[0m\u001b[1;34m'동해물과 백두산이'\u001b[0m\u001b[1;33m)\u001b[0m\u001b[1;33m\u001b[0m\u001b[1;33m\u001b[0m\u001b[0m\n\u001b[0m",
      "\u001b[1;32m~\\AppData\\Local\\Temp/ipykernel_22444/360785207.py\u001b[0m in \u001b[0;36mstr2trigem\u001b[1;34m(s)\u001b[0m\n\u001b[0;32m      6\u001b[0m             \u001b[0mc1\u001b[0m\u001b[1;33m,\u001b[0m \u001b[0mc23\u001b[0m \u001b[1;33m=\u001b[0m \u001b[0mdivmod\u001b[0m\u001b[1;33m(\u001b[0m\u001b[0mord\u001b[0m\u001b[1;33m(\u001b[0m\u001b[0mc\u001b[0m\u001b[1;33m)\u001b[0m\u001b[1;33m-\u001b[0m\u001b[0mbase\u001b[0m\u001b[1;33m,\u001b[0m \u001b[1;36m21\u001b[0m\u001b[1;33m*\u001b[0m\u001b[1;36m28\u001b[0m\u001b[1;33m)\u001b[0m\u001b[1;33m\u001b[0m\u001b[1;33m\u001b[0m\u001b[0m\n\u001b[0;32m      7\u001b[0m             \u001b[0mc2\u001b[0m\u001b[1;33m,\u001b[0m \u001b[0mc3\u001b[0m \u001b[1;33m=\u001b[0m \u001b[0mdivmod\u001b[0m\u001b[1;33m(\u001b[0m\u001b[0mc23\u001b[0m\u001b[1;33m,\u001b[0m \u001b[1;36m28\u001b[0m\u001b[1;33m)\u001b[0m\u001b[1;33m\u001b[0m\u001b[1;33m\u001b[0m\u001b[0m\n\u001b[1;32m----> 8\u001b[1;33m             \u001b[0mresult\u001b[0m\u001b[1;33m.\u001b[0m\u001b[0mappend\u001b[0m\u001b[1;33m(\u001b[0m\u001b[0mcho\u001b[0m\u001b[1;33m[\u001b[0m\u001b[0mc1\u001b[0m\u001b[1;33m]\u001b[0m\u001b[1;33m)\u001b[0m\u001b[1;33m\u001b[0m\u001b[1;33m\u001b[0m\u001b[0m\n\u001b[0m\u001b[0;32m      9\u001b[0m             \u001b[0mresult\u001b[0m\u001b[1;33m.\u001b[0m\u001b[0mappend\u001b[0m\u001b[1;33m(\u001b[0m\u001b[0mjung\u001b[0m\u001b[1;33m[\u001b[0m\u001b[0mc2\u001b[0m\u001b[1;33m]\u001b[0m\u001b[1;33m)\u001b[0m\u001b[1;33m\u001b[0m\u001b[1;33m\u001b[0m\u001b[0m\n\u001b[0;32m     10\u001b[0m             \u001b[0mresult\u001b[0m\u001b[1;33m.\u001b[0m\u001b[0mappend\u001b[0m\u001b[1;33m(\u001b[0m\u001b[0mjung\u001b[0m\u001b[1;33m[\u001b[0m\u001b[0mc3\u001b[0m\u001b[1;33m]\u001b[0m\u001b[1;33m)\u001b[0m\u001b[1;33m\u001b[0m\u001b[1;33m\u001b[0m\u001b[0m\n",
      "\u001b[1;31mNameError\u001b[0m: name 'cho' is not defined"
     ]
    }
   ],
   "source": [
    "str2trigem('동해물과 백두산이')"
   ]
  },
  {
   "cell_type": "code",
   "execution_count": 66,
   "id": "0495c493",
   "metadata": {},
   "outputs": [
    {
     "data": {
      "text/plain": [
       "(4, 2)"
      ]
     },
     "execution_count": 66,
     "metadata": {},
     "output_type": "execute_result"
    }
   ],
   "source": [
    "divmod(30,7) # 몫과 나머지 튜플 (몫, 나머지)"
   ]
  },
  {
   "cell_type": "code",
   "execution_count": null,
   "id": "cc1f6b15",
   "metadata": {},
   "outputs": [],
   "source": []
  },
  {
   "cell_type": "code",
   "execution_count": 69,
   "id": "bdbd1491",
   "metadata": {
    "collapsed": true
   },
   "outputs": [
    {
     "ename": "NameError",
     "evalue": "name 'cho' is not defined",
     "output_type": "error",
     "traceback": [
      "\u001b[1;31m---------------------------------------------------------------------------\u001b[0m",
      "\u001b[1;31mNameError\u001b[0m                                 Traceback (most recent call last)",
      "\u001b[1;32m~\\AppData\\Local\\Temp/ipykernel_22444/2292477597.py\u001b[0m in \u001b[0;36m<module>\u001b[1;34m\u001b[0m\n\u001b[0;32m     11\u001b[0m \u001b[0mhammingDist\u001b[0m\u001b[1;33m(\u001b[0m\u001b[1;34m'고려대학교'\u001b[0m\u001b[1;33m,\u001b[0m \u001b[1;34m'고구려대학'\u001b[0m\u001b[1;33m)\u001b[0m\u001b[1;33m,\u001b[0m\u001b[0;31m\\\u001b[0m\u001b[1;33m\u001b[0m\u001b[1;33m\u001b[0m\u001b[0m\n\u001b[0;32m     12\u001b[0m \u001b[0mhammingDist\u001b[0m\u001b[1;33m(\u001b[0m\u001b[1;34m'고려대학교'\u001b[0m\u001b[1;33m,\u001b[0m \u001b[1;34m'골려대학교'\u001b[0m\u001b[1;33m)\u001b[0m\u001b[1;33m,\u001b[0m\u001b[0;31m\\\u001b[0m\u001b[1;33m\u001b[0m\u001b[1;33m\u001b[0m\u001b[0m\n\u001b[1;32m---> 13\u001b[1;33m \u001b[0mhammingDist\u001b[0m\u001b[1;33m(\u001b[0m\u001b[1;34m'고려대학교'\u001b[0m\u001b[1;33m,\u001b[0m \u001b[1;34m'골려대학교'\u001b[0m\u001b[1;33m,\u001b[0m \u001b[1;32mTrue\u001b[0m\u001b[1;33m)\u001b[0m\u001b[1;33m\u001b[0m\u001b[1;33m\u001b[0m\u001b[0m\n\u001b[0m",
      "\u001b[1;32m~\\AppData\\Local\\Temp/ipykernel_22444/2292477597.py\u001b[0m in \u001b[0;36mhammingDist\u001b[1;34m(s1, s2, useTrigem)\u001b[0m\n\u001b[0;32m      4\u001b[0m \u001b[1;33m\u001b[0m\u001b[0m\n\u001b[0;32m      5\u001b[0m     \u001b[1;32mif\u001b[0m \u001b[0museTrigem\u001b[0m\u001b[1;33m:\u001b[0m\u001b[1;33m\u001b[0m\u001b[1;33m\u001b[0m\u001b[0m\n\u001b[1;32m----> 6\u001b[1;33m         \u001b[0mt1\u001b[0m\u001b[1;33m,\u001b[0m \u001b[0mt2\u001b[0m \u001b[1;33m=\u001b[0m \u001b[0mstr2trigem\u001b[0m\u001b[1;33m(\u001b[0m\u001b[0ms1\u001b[0m\u001b[1;33m)\u001b[0m\u001b[1;33m,\u001b[0m \u001b[0mstr2trigem\u001b[0m\u001b[1;33m(\u001b[0m\u001b[0ms2\u001b[0m\u001b[1;33m)\u001b[0m\u001b[1;33m\u001b[0m\u001b[1;33m\u001b[0m\u001b[0m\n\u001b[0m\u001b[0;32m      7\u001b[0m \u001b[1;33m\u001b[0m\u001b[0m\n\u001b[0;32m      8\u001b[0m     \u001b[1;32mreturn\u001b[0m \u001b[0msum\u001b[0m\u001b[1;33m(\u001b[0m\u001b[1;33m[\u001b[0m\u001b[0mc1\u001b[0m \u001b[1;33m!=\u001b[0m \u001b[0mc2\u001b[0m \u001b[1;32mfor\u001b[0m \u001b[0mc1\u001b[0m\u001b[1;33m,\u001b[0m \u001b[0mc2\u001b[0m \u001b[1;32min\u001b[0m \u001b[0mzip\u001b[0m\u001b[1;33m(\u001b[0m\u001b[0ms1\u001b[0m\u001b[1;33m,\u001b[0m \u001b[0ms2\u001b[0m\u001b[1;33m)\u001b[0m\u001b[1;33m]\u001b[0m\u001b[1;33m)\u001b[0m\u001b[1;33m\u001b[0m\u001b[1;33m\u001b[0m\u001b[0m\n",
      "\u001b[1;32m~\\AppData\\Local\\Temp/ipykernel_22444/360785207.py\u001b[0m in \u001b[0;36mstr2trigem\u001b[1;34m(s)\u001b[0m\n\u001b[0;32m      6\u001b[0m             \u001b[0mc1\u001b[0m\u001b[1;33m,\u001b[0m \u001b[0mc23\u001b[0m \u001b[1;33m=\u001b[0m \u001b[0mdivmod\u001b[0m\u001b[1;33m(\u001b[0m\u001b[0mord\u001b[0m\u001b[1;33m(\u001b[0m\u001b[0mc\u001b[0m\u001b[1;33m)\u001b[0m\u001b[1;33m-\u001b[0m\u001b[0mbase\u001b[0m\u001b[1;33m,\u001b[0m \u001b[1;36m21\u001b[0m\u001b[1;33m*\u001b[0m\u001b[1;36m28\u001b[0m\u001b[1;33m)\u001b[0m\u001b[1;33m\u001b[0m\u001b[1;33m\u001b[0m\u001b[0m\n\u001b[0;32m      7\u001b[0m             \u001b[0mc2\u001b[0m\u001b[1;33m,\u001b[0m \u001b[0mc3\u001b[0m \u001b[1;33m=\u001b[0m \u001b[0mdivmod\u001b[0m\u001b[1;33m(\u001b[0m\u001b[0mc23\u001b[0m\u001b[1;33m,\u001b[0m \u001b[1;36m28\u001b[0m\u001b[1;33m)\u001b[0m\u001b[1;33m\u001b[0m\u001b[1;33m\u001b[0m\u001b[0m\n\u001b[1;32m----> 8\u001b[1;33m             \u001b[0mresult\u001b[0m\u001b[1;33m.\u001b[0m\u001b[0mappend\u001b[0m\u001b[1;33m(\u001b[0m\u001b[0mcho\u001b[0m\u001b[1;33m[\u001b[0m\u001b[0mc1\u001b[0m\u001b[1;33m]\u001b[0m\u001b[1;33m)\u001b[0m\u001b[1;33m\u001b[0m\u001b[1;33m\u001b[0m\u001b[0m\n\u001b[0m\u001b[0;32m      9\u001b[0m             \u001b[0mresult\u001b[0m\u001b[1;33m.\u001b[0m\u001b[0mappend\u001b[0m\u001b[1;33m(\u001b[0m\u001b[0mjung\u001b[0m\u001b[1;33m[\u001b[0m\u001b[0mc2\u001b[0m\u001b[1;33m]\u001b[0m\u001b[1;33m)\u001b[0m\u001b[1;33m\u001b[0m\u001b[1;33m\u001b[0m\u001b[0m\n\u001b[0;32m     10\u001b[0m             \u001b[0mresult\u001b[0m\u001b[1;33m.\u001b[0m\u001b[0mappend\u001b[0m\u001b[1;33m(\u001b[0m\u001b[0mjung\u001b[0m\u001b[1;33m[\u001b[0m\u001b[0mc3\u001b[0m\u001b[1;33m]\u001b[0m\u001b[1;33m)\u001b[0m\u001b[1;33m\u001b[0m\u001b[1;33m\u001b[0m\u001b[0m\n",
      "\u001b[1;31mNameError\u001b[0m: name 'cho' is not defined"
     ]
    }
   ],
   "source": [
    "def hammingDist(s1, s2, useTrigem=False):\n",
    "    if len(s1) != len(s2):\n",
    "        return '길이가 다름'\n",
    "    \n",
    "    if useTrigem:\n",
    "        t1, t2 = str2trigem(s1), str2trigem(s2)\n",
    "        \n",
    "    return sum([c1 != c2 for c1, c2 in zip(s1, s2)])\n",
    "\n",
    "hammingDist('고려대학교', '고구려대학교'),\\\n",
    "hammingDist('고려대학교', '고구려대학'),\\\n",
    "hammingDist('고려대학교', '골려대학교'),\\\n",
    "hammingDist('고려대학교', '골려대학교', True)"
   ]
  },
  {
   "cell_type": "code",
   "execution_count": null,
   "id": "00e1c7e8",
   "metadata": {},
   "outputs": [],
   "source": []
  },
  {
   "cell_type": "code",
   "execution_count": null,
   "id": "5b090905",
   "metadata": {},
   "outputs": [],
   "source": []
  },
  {
   "cell_type": "code",
   "execution_count": null,
   "id": "355692ea",
   "metadata": {},
   "outputs": [],
   "source": [
    "def lev(s1, s2):\n",
    "    if len(s1) == 0:                 # case 1\n",
    "        return len(s2)\n",
    "    if len(s2) == 0:                 # case 2\n",
    "        return len(s1)\n",
    "    if s1[0] == s2[0]:               # case 3\n",
    "        return lev(s1[1:], s2[1:])\n",
    "    else:\n",
    "        return min([\n",
    "            1+ lev(s1[1:], s2),      # case4\n",
    "            1+ lev(s1, s2[1:]),      # case 5\n",
    "            1+ lev(s1[1:], s2[1:])   # case 6\n",
    "        ])"
   ]
  },
  {
   "cell_type": "code",
   "execution_count": null,
   "id": "51212c5d",
   "metadata": {},
   "outputs": [],
   "source": []
  },
  {
   "cell_type": "code",
   "execution_count": null,
   "id": "8e4aaca0",
   "metadata": {},
   "outputs": [],
   "source": []
  }
 ],
 "metadata": {
  "kernelspec": {
   "display_name": "Python 3 (ipykernel)",
   "language": "python",
   "name": "python3"
  },
  "language_info": {
   "codemirror_mode": {
    "name": "ipython",
    "version": 3
   },
   "file_extension": ".py",
   "mimetype": "text/x-python",
   "name": "python",
   "nbconvert_exporter": "python",
   "pygments_lexer": "ipython3",
   "version": "3.9.7"
  }
 },
 "nbformat": 4,
 "nbformat_minor": 5
}
